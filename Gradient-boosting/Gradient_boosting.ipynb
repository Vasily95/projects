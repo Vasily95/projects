{
  "cells": [
    {
      "cell_type": "markdown",
      "metadata": {
        "id": "l3Ox9nzNDYUk"
      },
      "source": [
        "# Определение стоимости автомобилей"
      ]
    },
    {
      "cell_type": "markdown",
      "metadata": {
        "id": "UMAQH7PZDYUl"
      },
      "source": [
        "Сервис по продаже автомобилей с пробегом «Не бит, не крашен» разрабатывает приложение для привлечения новых клиентов. В нём можно быстро узнать рыночную стоимость своего автомобиля. В вашем распоряжении исторические данные: технические характеристики, комплектации и цены автомобилей. Вам нужно построить модель для определения стоимости. \n",
        "\n",
        "Заказчику важны:\n",
        "\n",
        "- качество предсказания;\n",
        "- скорость предсказания;\n",
        "- время обучения."
      ]
    },
    {
      "cell_type": "markdown",
      "metadata": {
        "id": "OBRunAewDYUl"
      },
      "source": [
        "## Подготовка данных"
      ]
    },
    {
      "cell_type": "code",
      "source": [
        "!pip install CatBoost"
      ],
      "metadata": {
        "colab": {
          "base_uri": "https://localhost:8080/"
        },
        "id": "zFCJh_ufNsxP",
        "outputId": "fbcc5a6c-77d5-4e03-cd0d-943fd46b1526"
      },
      "execution_count": 65,
      "outputs": [
        {
          "output_type": "stream",
          "name": "stdout",
          "text": [
            "Requirement already satisfied: CatBoost in /usr/local/lib/python3.7/dist-packages (1.0.6)\n",
            "Requirement already satisfied: numpy>=1.16.0 in /usr/local/lib/python3.7/dist-packages (from CatBoost) (1.21.6)\n",
            "Requirement already satisfied: pandas>=0.24.0 in /usr/local/lib/python3.7/dist-packages (from CatBoost) (1.3.5)\n",
            "Requirement already satisfied: scipy in /usr/local/lib/python3.7/dist-packages (from CatBoost) (1.4.1)\n",
            "Requirement already satisfied: matplotlib in /usr/local/lib/python3.7/dist-packages (from CatBoost) (3.2.2)\n",
            "Requirement already satisfied: plotly in /usr/local/lib/python3.7/dist-packages (from CatBoost) (5.5.0)\n",
            "Requirement already satisfied: six in /usr/local/lib/python3.7/dist-packages (from CatBoost) (1.15.0)\n",
            "Requirement already satisfied: graphviz in /usr/local/lib/python3.7/dist-packages (from CatBoost) (0.10.1)\n",
            "Requirement already satisfied: pytz>=2017.3 in /usr/local/lib/python3.7/dist-packages (from pandas>=0.24.0->CatBoost) (2022.1)\n",
            "Requirement already satisfied: python-dateutil>=2.7.3 in /usr/local/lib/python3.7/dist-packages (from pandas>=0.24.0->CatBoost) (2.8.2)\n",
            "Requirement already satisfied: kiwisolver>=1.0.1 in /usr/local/lib/python3.7/dist-packages (from matplotlib->CatBoost) (1.4.2)\n",
            "Requirement already satisfied: cycler>=0.10 in /usr/local/lib/python3.7/dist-packages (from matplotlib->CatBoost) (0.11.0)\n",
            "Requirement already satisfied: pyparsing!=2.0.4,!=2.1.2,!=2.1.6,>=2.0.1 in /usr/local/lib/python3.7/dist-packages (from matplotlib->CatBoost) (3.0.9)\n",
            "Requirement already satisfied: typing-extensions in /usr/local/lib/python3.7/dist-packages (from kiwisolver>=1.0.1->matplotlib->CatBoost) (4.2.0)\n",
            "Requirement already satisfied: tenacity>=6.2.0 in /usr/local/lib/python3.7/dist-packages (from plotly->CatBoost) (8.0.1)\n"
          ]
        }
      ]
    },
    {
      "cell_type": "code",
      "execution_count": 66,
      "metadata": {
        "id": "hHsNZ7FmDYUm"
      },
      "outputs": [],
      "source": [
        "import pandas as pd\n",
        "import seaborn as sns\n",
        "import matplotlib.pyplot as plt\n",
        "import numpy as np\n",
        "from math import sqrt\n",
        "\n",
        "from sklearn.model_selection import train_test_split\n",
        "from sklearn.metrics import mean_squared_error\n",
        "from sklearn.model_selection import GridSearchCV\n",
        "from sklearn.ensemble import RandomForestRegressor\n",
        "from sklearn.preprocessing import OrdinalEncoder\n",
        "\n",
        "from pandas.core.common import SettingWithCopyWarning\n",
        "import warnings\n",
        "\n",
        "from catboost import CatBoostRegressor\n",
        "from catboost import cv\n",
        "from catboost import Pool\n",
        "import catboost as cat\n",
        "\n",
        "from lightgbm import LGBMRegressor\n",
        "import lightgbm as lgb"
      ]
    },
    {
      "cell_type": "markdown",
      "metadata": {
        "id": "w92vYv4ODYUo"
      },
      "source": [
        "Загрузим данные и выведем таблицу на экран, проверим на наличие пропусков, количество столбцов и строк"
      ]
    },
    {
      "cell_type": "code",
      "execution_count": 67,
      "metadata": {
        "id": "vbjm0tvzDYUp"
      },
      "outputs": [],
      "source": [
        "car_frame = pd.read_csv('/content/autos.csv')"
      ]
    },
    {
      "cell_type": "code",
      "execution_count": 68,
      "metadata": {
        "scrolled": true,
        "id": "cJdOcB5NDYUq",
        "outputId": "b6495d86-c37e-4181-a2cf-d6a9abe6289c",
        "colab": {
          "base_uri": "https://localhost:8080/",
          "height": 206
        }
      },
      "outputs": [
        {
          "output_type": "execute_result",
          "data": {
            "text/plain": [
              "           DateCrawled  Price VehicleType  RegistrationYear Gearbox  Power  \\\n",
              "0  2016-03-24 11:52:17    480         NaN              1993  manual      0   \n",
              "1  2016-03-24 10:58:45  18300       coupe              2011  manual    190   \n",
              "2  2016-03-14 12:52:21   9800         suv              2004    auto    163   \n",
              "3  2016-03-17 16:54:04   1500       small              2001  manual     75   \n",
              "4  2016-03-31 17:25:20   3600       small              2008  manual     69   \n",
              "\n",
              "   Model  Kilometer  RegistrationMonth  FuelType       Brand NotRepaired  \\\n",
              "0   golf     150000                  0    petrol  volkswagen         NaN   \n",
              "1    NaN     125000                  5  gasoline        audi         yes   \n",
              "2  grand     125000                  8  gasoline        jeep         NaN   \n",
              "3   golf     150000                  6    petrol  volkswagen          no   \n",
              "4  fabia      90000                  7  gasoline       skoda          no   \n",
              "\n",
              "           DateCreated  NumberOfPictures  PostalCode             LastSeen  \n",
              "0  2016-03-24 00:00:00                 0       70435  2016-04-07 03:16:57  \n",
              "1  2016-03-24 00:00:00                 0       66954  2016-04-07 01:46:50  \n",
              "2  2016-03-14 00:00:00                 0       90480  2016-04-05 12:47:46  \n",
              "3  2016-03-17 00:00:00                 0       91074  2016-03-17 17:40:17  \n",
              "4  2016-03-31 00:00:00                 0       60437  2016-04-06 10:17:21  "
            ],
            "text/html": [
              "\n",
              "  <div id=\"df-66221f51-e815-485f-873f-a7123cf4dd48\">\n",
              "    <div class=\"colab-df-container\">\n",
              "      <div>\n",
              "<style scoped>\n",
              "    .dataframe tbody tr th:only-of-type {\n",
              "        vertical-align: middle;\n",
              "    }\n",
              "\n",
              "    .dataframe tbody tr th {\n",
              "        vertical-align: top;\n",
              "    }\n",
              "\n",
              "    .dataframe thead th {\n",
              "        text-align: right;\n",
              "    }\n",
              "</style>\n",
              "<table border=\"1\" class=\"dataframe\">\n",
              "  <thead>\n",
              "    <tr style=\"text-align: right;\">\n",
              "      <th></th>\n",
              "      <th>DateCrawled</th>\n",
              "      <th>Price</th>\n",
              "      <th>VehicleType</th>\n",
              "      <th>RegistrationYear</th>\n",
              "      <th>Gearbox</th>\n",
              "      <th>Power</th>\n",
              "      <th>Model</th>\n",
              "      <th>Kilometer</th>\n",
              "      <th>RegistrationMonth</th>\n",
              "      <th>FuelType</th>\n",
              "      <th>Brand</th>\n",
              "      <th>NotRepaired</th>\n",
              "      <th>DateCreated</th>\n",
              "      <th>NumberOfPictures</th>\n",
              "      <th>PostalCode</th>\n",
              "      <th>LastSeen</th>\n",
              "    </tr>\n",
              "  </thead>\n",
              "  <tbody>\n",
              "    <tr>\n",
              "      <th>0</th>\n",
              "      <td>2016-03-24 11:52:17</td>\n",
              "      <td>480</td>\n",
              "      <td>NaN</td>\n",
              "      <td>1993</td>\n",
              "      <td>manual</td>\n",
              "      <td>0</td>\n",
              "      <td>golf</td>\n",
              "      <td>150000</td>\n",
              "      <td>0</td>\n",
              "      <td>petrol</td>\n",
              "      <td>volkswagen</td>\n",
              "      <td>NaN</td>\n",
              "      <td>2016-03-24 00:00:00</td>\n",
              "      <td>0</td>\n",
              "      <td>70435</td>\n",
              "      <td>2016-04-07 03:16:57</td>\n",
              "    </tr>\n",
              "    <tr>\n",
              "      <th>1</th>\n",
              "      <td>2016-03-24 10:58:45</td>\n",
              "      <td>18300</td>\n",
              "      <td>coupe</td>\n",
              "      <td>2011</td>\n",
              "      <td>manual</td>\n",
              "      <td>190</td>\n",
              "      <td>NaN</td>\n",
              "      <td>125000</td>\n",
              "      <td>5</td>\n",
              "      <td>gasoline</td>\n",
              "      <td>audi</td>\n",
              "      <td>yes</td>\n",
              "      <td>2016-03-24 00:00:00</td>\n",
              "      <td>0</td>\n",
              "      <td>66954</td>\n",
              "      <td>2016-04-07 01:46:50</td>\n",
              "    </tr>\n",
              "    <tr>\n",
              "      <th>2</th>\n",
              "      <td>2016-03-14 12:52:21</td>\n",
              "      <td>9800</td>\n",
              "      <td>suv</td>\n",
              "      <td>2004</td>\n",
              "      <td>auto</td>\n",
              "      <td>163</td>\n",
              "      <td>grand</td>\n",
              "      <td>125000</td>\n",
              "      <td>8</td>\n",
              "      <td>gasoline</td>\n",
              "      <td>jeep</td>\n",
              "      <td>NaN</td>\n",
              "      <td>2016-03-14 00:00:00</td>\n",
              "      <td>0</td>\n",
              "      <td>90480</td>\n",
              "      <td>2016-04-05 12:47:46</td>\n",
              "    </tr>\n",
              "    <tr>\n",
              "      <th>3</th>\n",
              "      <td>2016-03-17 16:54:04</td>\n",
              "      <td>1500</td>\n",
              "      <td>small</td>\n",
              "      <td>2001</td>\n",
              "      <td>manual</td>\n",
              "      <td>75</td>\n",
              "      <td>golf</td>\n",
              "      <td>150000</td>\n",
              "      <td>6</td>\n",
              "      <td>petrol</td>\n",
              "      <td>volkswagen</td>\n",
              "      <td>no</td>\n",
              "      <td>2016-03-17 00:00:00</td>\n",
              "      <td>0</td>\n",
              "      <td>91074</td>\n",
              "      <td>2016-03-17 17:40:17</td>\n",
              "    </tr>\n",
              "    <tr>\n",
              "      <th>4</th>\n",
              "      <td>2016-03-31 17:25:20</td>\n",
              "      <td>3600</td>\n",
              "      <td>small</td>\n",
              "      <td>2008</td>\n",
              "      <td>manual</td>\n",
              "      <td>69</td>\n",
              "      <td>fabia</td>\n",
              "      <td>90000</td>\n",
              "      <td>7</td>\n",
              "      <td>gasoline</td>\n",
              "      <td>skoda</td>\n",
              "      <td>no</td>\n",
              "      <td>2016-03-31 00:00:00</td>\n",
              "      <td>0</td>\n",
              "      <td>60437</td>\n",
              "      <td>2016-04-06 10:17:21</td>\n",
              "    </tr>\n",
              "  </tbody>\n",
              "</table>\n",
              "</div>\n",
              "      <button class=\"colab-df-convert\" onclick=\"convertToInteractive('df-66221f51-e815-485f-873f-a7123cf4dd48')\"\n",
              "              title=\"Convert this dataframe to an interactive table.\"\n",
              "              style=\"display:none;\">\n",
              "        \n",
              "  <svg xmlns=\"http://www.w3.org/2000/svg\" height=\"24px\"viewBox=\"0 0 24 24\"\n",
              "       width=\"24px\">\n",
              "    <path d=\"M0 0h24v24H0V0z\" fill=\"none\"/>\n",
              "    <path d=\"M18.56 5.44l.94 2.06.94-2.06 2.06-.94-2.06-.94-.94-2.06-.94 2.06-2.06.94zm-11 1L8.5 8.5l.94-2.06 2.06-.94-2.06-.94L8.5 2.5l-.94 2.06-2.06.94zm10 10l.94 2.06.94-2.06 2.06-.94-2.06-.94-.94-2.06-.94 2.06-2.06.94z\"/><path d=\"M17.41 7.96l-1.37-1.37c-.4-.4-.92-.59-1.43-.59-.52 0-1.04.2-1.43.59L10.3 9.45l-7.72 7.72c-.78.78-.78 2.05 0 2.83L4 21.41c.39.39.9.59 1.41.59.51 0 1.02-.2 1.41-.59l7.78-7.78 2.81-2.81c.8-.78.8-2.07 0-2.86zM5.41 20L4 18.59l7.72-7.72 1.47 1.35L5.41 20z\"/>\n",
              "  </svg>\n",
              "      </button>\n",
              "      \n",
              "  <style>\n",
              "    .colab-df-container {\n",
              "      display:flex;\n",
              "      flex-wrap:wrap;\n",
              "      gap: 12px;\n",
              "    }\n",
              "\n",
              "    .colab-df-convert {\n",
              "      background-color: #E8F0FE;\n",
              "      border: none;\n",
              "      border-radius: 50%;\n",
              "      cursor: pointer;\n",
              "      display: none;\n",
              "      fill: #1967D2;\n",
              "      height: 32px;\n",
              "      padding: 0 0 0 0;\n",
              "      width: 32px;\n",
              "    }\n",
              "\n",
              "    .colab-df-convert:hover {\n",
              "      background-color: #E2EBFA;\n",
              "      box-shadow: 0px 1px 2px rgba(60, 64, 67, 0.3), 0px 1px 3px 1px rgba(60, 64, 67, 0.15);\n",
              "      fill: #174EA6;\n",
              "    }\n",
              "\n",
              "    [theme=dark] .colab-df-convert {\n",
              "      background-color: #3B4455;\n",
              "      fill: #D2E3FC;\n",
              "    }\n",
              "\n",
              "    [theme=dark] .colab-df-convert:hover {\n",
              "      background-color: #434B5C;\n",
              "      box-shadow: 0px 1px 3px 1px rgba(0, 0, 0, 0.15);\n",
              "      filter: drop-shadow(0px 1px 2px rgba(0, 0, 0, 0.3));\n",
              "      fill: #FFFFFF;\n",
              "    }\n",
              "  </style>\n",
              "\n",
              "      <script>\n",
              "        const buttonEl =\n",
              "          document.querySelector('#df-66221f51-e815-485f-873f-a7123cf4dd48 button.colab-df-convert');\n",
              "        buttonEl.style.display =\n",
              "          google.colab.kernel.accessAllowed ? 'block' : 'none';\n",
              "\n",
              "        async function convertToInteractive(key) {\n",
              "          const element = document.querySelector('#df-66221f51-e815-485f-873f-a7123cf4dd48');\n",
              "          const dataTable =\n",
              "            await google.colab.kernel.invokeFunction('convertToInteractive',\n",
              "                                                     [key], {});\n",
              "          if (!dataTable) return;\n",
              "\n",
              "          const docLinkHtml = 'Like what you see? Visit the ' +\n",
              "            '<a target=\"_blank\" href=https://colab.research.google.com/notebooks/data_table.ipynb>data table notebook</a>'\n",
              "            + ' to learn more about interactive tables.';\n",
              "          element.innerHTML = '';\n",
              "          dataTable['output_type'] = 'display_data';\n",
              "          await google.colab.output.renderOutput(dataTable, element);\n",
              "          const docLink = document.createElement('div');\n",
              "          docLink.innerHTML = docLinkHtml;\n",
              "          element.appendChild(docLink);\n",
              "        }\n",
              "      </script>\n",
              "    </div>\n",
              "  </div>\n",
              "  "
            ]
          },
          "metadata": {},
          "execution_count": 68
        }
      ],
      "source": [
        "car_frame.head(5)"
      ]
    },
    {
      "cell_type": "code",
      "execution_count": 69,
      "metadata": {
        "scrolled": true,
        "id": "Jy3Hitf3DYUr",
        "outputId": "efb89b91-8402-45c0-ce74-2e5c569806cf",
        "colab": {
          "base_uri": "https://localhost:8080/"
        }
      },
      "outputs": [
        {
          "output_type": "stream",
          "name": "stdout",
          "text": [
            "<class 'pandas.core.frame.DataFrame'>\n",
            "RangeIndex: 354369 entries, 0 to 354368\n",
            "Data columns (total 16 columns):\n",
            " #   Column             Non-Null Count   Dtype \n",
            "---  ------             --------------   ----- \n",
            " 0   DateCrawled        354369 non-null  object\n",
            " 1   Price              354369 non-null  int64 \n",
            " 2   VehicleType        316879 non-null  object\n",
            " 3   RegistrationYear   354369 non-null  int64 \n",
            " 4   Gearbox            334536 non-null  object\n",
            " 5   Power              354369 non-null  int64 \n",
            " 6   Model              334664 non-null  object\n",
            " 7   Kilometer          354369 non-null  int64 \n",
            " 8   RegistrationMonth  354369 non-null  int64 \n",
            " 9   FuelType           321474 non-null  object\n",
            " 10  Brand              354369 non-null  object\n",
            " 11  NotRepaired        283215 non-null  object\n",
            " 12  DateCreated        354369 non-null  object\n",
            " 13  NumberOfPictures   354369 non-null  int64 \n",
            " 14  PostalCode         354369 non-null  int64 \n",
            " 15  LastSeen           354369 non-null  object\n",
            "dtypes: int64(7), object(9)\n",
            "memory usage: 43.3+ MB\n"
          ]
        }
      ],
      "source": [
        "car_frame.info()"
      ]
    },
    {
      "cell_type": "code",
      "execution_count": 70,
      "metadata": {
        "id": "11ok6ZtzDYUs",
        "outputId": "aaf43565-fbfa-4924-bed0-cea5391e0d13",
        "colab": {
          "base_uri": "https://localhost:8080/"
        }
      },
      "outputs": [
        {
          "output_type": "stream",
          "name": "stdout",
          "text": [
            "                   missing_values  % of total\n",
            "NotRepaired                 71154        0.20\n",
            "VehicleType                 37490        0.11\n",
            "FuelType                    32895        0.09\n",
            "Gearbox                     19833        0.06\n",
            "Model                       19705        0.06\n",
            "DateCrawled                     0        0.00\n",
            "Price                           0        0.00\n",
            "RegistrationYear                0        0.00\n",
            "Power                           0        0.00\n",
            "Kilometer                       0        0.00\n",
            "RegistrationMonth               0        0.00\n",
            "Brand                           0        0.00\n",
            "DateCreated                     0        0.00\n",
            "NumberOfPictures                0        0.00\n",
            "PostalCode                      0        0.00\n",
            "LastSeen                        0        0.00\n"
          ]
        }
      ],
      "source": [
        "report = car_frame.isna().sum().to_frame()\n",
        "report = report.rename(columns={0: 'missing_values'})\n",
        "report['% of total'] = (report['missing_values'] /car_frame.shape[0]).round(2)\n",
        "print (report.sort_values(by='missing_values', ascending=False))"
      ]
    },
    {
      "cell_type": "markdown",
      "metadata": {
        "id": "H3w-DdLvDYUs"
      },
      "source": [
        "Исходя из вышеперечисленных данных мы видим: приизнаки NotRepaired, VehicleType, FuelType, Gearbox, Model (обозначим их как \"Категор/столбцы\") имееют достаточное количество пропусков, в первом столбце размер пропусков достигает почти 1/5 от всего датафрейма. Кроме того эти значения в этих столбцах являются категориальными. Эти параметры будут необходимы нам для построения моделей. Catboost сможет их обработать, однако перед построением моделей необходимо избавиться от пропусков, посмотреть аномалии, а также мы используем два метода: 1) закодируем все \"Категор/столбцы\" 2) оставим все как есть. Начнем избавляться от пропусков. "
      ]
    },
    {
      "cell_type": "markdown",
      "metadata": {
        "id": "vydcXHbFDYUt"
      },
      "source": [
        "### Проверка на пропуски"
      ]
    },
    {
      "cell_type": "markdown",
      "metadata": {
        "id": "L-x_o6dGDYUt"
      },
      "source": [
        "В первую очередь, мы видим, что у нас есть строки, где как минимум по 3 пропуска в наших категориальных столбцах. Изучив документацию, я понял что, прежде чем точечно заполнять данные по каждому столбцу, необходимо в общем посмотреть, где пропущено максимальное количесвто значений. Указав параметр \"thresh\", который будет искать в нашем случае 3 пропуска и более в Категор/столбцах, \"dropna\" удалит такие строки. После этого посмотрим количество строк, которые были удалены."
      ]
    },
    {
      "cell_type": "code",
      "execution_count": 71,
      "metadata": {
        "id": "7kLzPKf7DYUu"
      },
      "outputs": [],
      "source": [
        "car_frame.dropna(subset=['NotRepaired','Gearbox','FuelType', 'VehicleType','Model'], thresh=3, inplace=True)"
      ]
    },
    {
      "cell_type": "code",
      "execution_count": 72,
      "metadata": {
        "id": "yFjgx_e6DYUv",
        "outputId": "0245e4b9-dc4d-41d8-d3ae-7124062540c4",
        "colab": {
          "base_uri": "https://localhost:8080/",
          "height": 424
        }
      },
      "outputs": [
        {
          "output_type": "execute_result",
          "data": {
            "text/plain": [
              "                DateCrawled  Price  VehicleType  RegistrationYear Gearbox  \\\n",
              "0       2016-03-24 11:52:17    480          NaN              1993  manual   \n",
              "1       2016-03-24 10:58:45  18300        coupe              2011  manual   \n",
              "2       2016-03-14 12:52:21   9800          suv              2004    auto   \n",
              "3       2016-03-17 16:54:04   1500        small              2001  manual   \n",
              "4       2016-03-31 17:25:20   3600        small              2008  manual   \n",
              "...                     ...    ...          ...               ...     ...   \n",
              "354363  2016-03-27 20:36:20   1150          bus              2000  manual   \n",
              "354364  2016-03-21 09:50:58      0          NaN              2005  manual   \n",
              "354366  2016-03-05 19:56:21   1199  convertible              2000    auto   \n",
              "354367  2016-03-19 18:57:12   9200          bus              1996  manual   \n",
              "354368  2016-03-20 19:41:08   3400        wagon              2002  manual   \n",
              "\n",
              "        Power        Model  Kilometer  RegistrationMonth  FuelType  \\\n",
              "0           0         golf     150000                  0    petrol   \n",
              "1         190          NaN     125000                  5  gasoline   \n",
              "2         163        grand     125000                  8  gasoline   \n",
              "3          75         golf     150000                  6    petrol   \n",
              "4          69        fabia      90000                  7  gasoline   \n",
              "...       ...          ...        ...                ...       ...   \n",
              "354363      0       zafira     150000                  3    petrol   \n",
              "354364      0         colt     150000                  7    petrol   \n",
              "354366    101       fortwo     125000                  3    petrol   \n",
              "354367    102  transporter     150000                  3  gasoline   \n",
              "354368    100         golf     150000                  6  gasoline   \n",
              "\n",
              "             Brand NotRepaired          DateCreated  NumberOfPictures  \\\n",
              "0       volkswagen         NaN  2016-03-24 00:00:00                 0   \n",
              "1             audi         yes  2016-03-24 00:00:00                 0   \n",
              "2             jeep         NaN  2016-03-14 00:00:00                 0   \n",
              "3       volkswagen          no  2016-03-17 00:00:00                 0   \n",
              "4            skoda          no  2016-03-31 00:00:00                 0   \n",
              "...            ...         ...                  ...               ...   \n",
              "354363        opel          no  2016-03-27 00:00:00                 0   \n",
              "354364  mitsubishi         yes  2016-03-21 00:00:00                 0   \n",
              "354366       smart          no  2016-03-05 00:00:00                 0   \n",
              "354367  volkswagen          no  2016-03-19 00:00:00                 0   \n",
              "354368  volkswagen         NaN  2016-03-20 00:00:00                 0   \n",
              "\n",
              "        PostalCode             LastSeen  \n",
              "0            70435  2016-04-07 03:16:57  \n",
              "1            66954  2016-04-07 01:46:50  \n",
              "2            90480  2016-04-05 12:47:46  \n",
              "3            91074  2016-03-17 17:40:17  \n",
              "4            60437  2016-04-06 10:17:21  \n",
              "...            ...                  ...  \n",
              "354363       26624  2016-03-29 10:17:23  \n",
              "354364        2694  2016-03-21 10:42:49  \n",
              "354366       26135  2016-03-11 18:17:12  \n",
              "354367       87439  2016-04-07 07:15:26  \n",
              "354368       40764  2016-03-24 12:45:21  \n",
              "\n",
              "[336341 rows x 16 columns]"
            ],
            "text/html": [
              "\n",
              "  <div id=\"df-c91f0b82-723f-44d5-a976-86c477ae33db\">\n",
              "    <div class=\"colab-df-container\">\n",
              "      <div>\n",
              "<style scoped>\n",
              "    .dataframe tbody tr th:only-of-type {\n",
              "        vertical-align: middle;\n",
              "    }\n",
              "\n",
              "    .dataframe tbody tr th {\n",
              "        vertical-align: top;\n",
              "    }\n",
              "\n",
              "    .dataframe thead th {\n",
              "        text-align: right;\n",
              "    }\n",
              "</style>\n",
              "<table border=\"1\" class=\"dataframe\">\n",
              "  <thead>\n",
              "    <tr style=\"text-align: right;\">\n",
              "      <th></th>\n",
              "      <th>DateCrawled</th>\n",
              "      <th>Price</th>\n",
              "      <th>VehicleType</th>\n",
              "      <th>RegistrationYear</th>\n",
              "      <th>Gearbox</th>\n",
              "      <th>Power</th>\n",
              "      <th>Model</th>\n",
              "      <th>Kilometer</th>\n",
              "      <th>RegistrationMonth</th>\n",
              "      <th>FuelType</th>\n",
              "      <th>Brand</th>\n",
              "      <th>NotRepaired</th>\n",
              "      <th>DateCreated</th>\n",
              "      <th>NumberOfPictures</th>\n",
              "      <th>PostalCode</th>\n",
              "      <th>LastSeen</th>\n",
              "    </tr>\n",
              "  </thead>\n",
              "  <tbody>\n",
              "    <tr>\n",
              "      <th>0</th>\n",
              "      <td>2016-03-24 11:52:17</td>\n",
              "      <td>480</td>\n",
              "      <td>NaN</td>\n",
              "      <td>1993</td>\n",
              "      <td>manual</td>\n",
              "      <td>0</td>\n",
              "      <td>golf</td>\n",
              "      <td>150000</td>\n",
              "      <td>0</td>\n",
              "      <td>petrol</td>\n",
              "      <td>volkswagen</td>\n",
              "      <td>NaN</td>\n",
              "      <td>2016-03-24 00:00:00</td>\n",
              "      <td>0</td>\n",
              "      <td>70435</td>\n",
              "      <td>2016-04-07 03:16:57</td>\n",
              "    </tr>\n",
              "    <tr>\n",
              "      <th>1</th>\n",
              "      <td>2016-03-24 10:58:45</td>\n",
              "      <td>18300</td>\n",
              "      <td>coupe</td>\n",
              "      <td>2011</td>\n",
              "      <td>manual</td>\n",
              "      <td>190</td>\n",
              "      <td>NaN</td>\n",
              "      <td>125000</td>\n",
              "      <td>5</td>\n",
              "      <td>gasoline</td>\n",
              "      <td>audi</td>\n",
              "      <td>yes</td>\n",
              "      <td>2016-03-24 00:00:00</td>\n",
              "      <td>0</td>\n",
              "      <td>66954</td>\n",
              "      <td>2016-04-07 01:46:50</td>\n",
              "    </tr>\n",
              "    <tr>\n",
              "      <th>2</th>\n",
              "      <td>2016-03-14 12:52:21</td>\n",
              "      <td>9800</td>\n",
              "      <td>suv</td>\n",
              "      <td>2004</td>\n",
              "      <td>auto</td>\n",
              "      <td>163</td>\n",
              "      <td>grand</td>\n",
              "      <td>125000</td>\n",
              "      <td>8</td>\n",
              "      <td>gasoline</td>\n",
              "      <td>jeep</td>\n",
              "      <td>NaN</td>\n",
              "      <td>2016-03-14 00:00:00</td>\n",
              "      <td>0</td>\n",
              "      <td>90480</td>\n",
              "      <td>2016-04-05 12:47:46</td>\n",
              "    </tr>\n",
              "    <tr>\n",
              "      <th>3</th>\n",
              "      <td>2016-03-17 16:54:04</td>\n",
              "      <td>1500</td>\n",
              "      <td>small</td>\n",
              "      <td>2001</td>\n",
              "      <td>manual</td>\n",
              "      <td>75</td>\n",
              "      <td>golf</td>\n",
              "      <td>150000</td>\n",
              "      <td>6</td>\n",
              "      <td>petrol</td>\n",
              "      <td>volkswagen</td>\n",
              "      <td>no</td>\n",
              "      <td>2016-03-17 00:00:00</td>\n",
              "      <td>0</td>\n",
              "      <td>91074</td>\n",
              "      <td>2016-03-17 17:40:17</td>\n",
              "    </tr>\n",
              "    <tr>\n",
              "      <th>4</th>\n",
              "      <td>2016-03-31 17:25:20</td>\n",
              "      <td>3600</td>\n",
              "      <td>small</td>\n",
              "      <td>2008</td>\n",
              "      <td>manual</td>\n",
              "      <td>69</td>\n",
              "      <td>fabia</td>\n",
              "      <td>90000</td>\n",
              "      <td>7</td>\n",
              "      <td>gasoline</td>\n",
              "      <td>skoda</td>\n",
              "      <td>no</td>\n",
              "      <td>2016-03-31 00:00:00</td>\n",
              "      <td>0</td>\n",
              "      <td>60437</td>\n",
              "      <td>2016-04-06 10:17:21</td>\n",
              "    </tr>\n",
              "    <tr>\n",
              "      <th>...</th>\n",
              "      <td>...</td>\n",
              "      <td>...</td>\n",
              "      <td>...</td>\n",
              "      <td>...</td>\n",
              "      <td>...</td>\n",
              "      <td>...</td>\n",
              "      <td>...</td>\n",
              "      <td>...</td>\n",
              "      <td>...</td>\n",
              "      <td>...</td>\n",
              "      <td>...</td>\n",
              "      <td>...</td>\n",
              "      <td>...</td>\n",
              "      <td>...</td>\n",
              "      <td>...</td>\n",
              "      <td>...</td>\n",
              "    </tr>\n",
              "    <tr>\n",
              "      <th>354363</th>\n",
              "      <td>2016-03-27 20:36:20</td>\n",
              "      <td>1150</td>\n",
              "      <td>bus</td>\n",
              "      <td>2000</td>\n",
              "      <td>manual</td>\n",
              "      <td>0</td>\n",
              "      <td>zafira</td>\n",
              "      <td>150000</td>\n",
              "      <td>3</td>\n",
              "      <td>petrol</td>\n",
              "      <td>opel</td>\n",
              "      <td>no</td>\n",
              "      <td>2016-03-27 00:00:00</td>\n",
              "      <td>0</td>\n",
              "      <td>26624</td>\n",
              "      <td>2016-03-29 10:17:23</td>\n",
              "    </tr>\n",
              "    <tr>\n",
              "      <th>354364</th>\n",
              "      <td>2016-03-21 09:50:58</td>\n",
              "      <td>0</td>\n",
              "      <td>NaN</td>\n",
              "      <td>2005</td>\n",
              "      <td>manual</td>\n",
              "      <td>0</td>\n",
              "      <td>colt</td>\n",
              "      <td>150000</td>\n",
              "      <td>7</td>\n",
              "      <td>petrol</td>\n",
              "      <td>mitsubishi</td>\n",
              "      <td>yes</td>\n",
              "      <td>2016-03-21 00:00:00</td>\n",
              "      <td>0</td>\n",
              "      <td>2694</td>\n",
              "      <td>2016-03-21 10:42:49</td>\n",
              "    </tr>\n",
              "    <tr>\n",
              "      <th>354366</th>\n",
              "      <td>2016-03-05 19:56:21</td>\n",
              "      <td>1199</td>\n",
              "      <td>convertible</td>\n",
              "      <td>2000</td>\n",
              "      <td>auto</td>\n",
              "      <td>101</td>\n",
              "      <td>fortwo</td>\n",
              "      <td>125000</td>\n",
              "      <td>3</td>\n",
              "      <td>petrol</td>\n",
              "      <td>smart</td>\n",
              "      <td>no</td>\n",
              "      <td>2016-03-05 00:00:00</td>\n",
              "      <td>0</td>\n",
              "      <td>26135</td>\n",
              "      <td>2016-03-11 18:17:12</td>\n",
              "    </tr>\n",
              "    <tr>\n",
              "      <th>354367</th>\n",
              "      <td>2016-03-19 18:57:12</td>\n",
              "      <td>9200</td>\n",
              "      <td>bus</td>\n",
              "      <td>1996</td>\n",
              "      <td>manual</td>\n",
              "      <td>102</td>\n",
              "      <td>transporter</td>\n",
              "      <td>150000</td>\n",
              "      <td>3</td>\n",
              "      <td>gasoline</td>\n",
              "      <td>volkswagen</td>\n",
              "      <td>no</td>\n",
              "      <td>2016-03-19 00:00:00</td>\n",
              "      <td>0</td>\n",
              "      <td>87439</td>\n",
              "      <td>2016-04-07 07:15:26</td>\n",
              "    </tr>\n",
              "    <tr>\n",
              "      <th>354368</th>\n",
              "      <td>2016-03-20 19:41:08</td>\n",
              "      <td>3400</td>\n",
              "      <td>wagon</td>\n",
              "      <td>2002</td>\n",
              "      <td>manual</td>\n",
              "      <td>100</td>\n",
              "      <td>golf</td>\n",
              "      <td>150000</td>\n",
              "      <td>6</td>\n",
              "      <td>gasoline</td>\n",
              "      <td>volkswagen</td>\n",
              "      <td>NaN</td>\n",
              "      <td>2016-03-20 00:00:00</td>\n",
              "      <td>0</td>\n",
              "      <td>40764</td>\n",
              "      <td>2016-03-24 12:45:21</td>\n",
              "    </tr>\n",
              "  </tbody>\n",
              "</table>\n",
              "<p>336341 rows × 16 columns</p>\n",
              "</div>\n",
              "      <button class=\"colab-df-convert\" onclick=\"convertToInteractive('df-c91f0b82-723f-44d5-a976-86c477ae33db')\"\n",
              "              title=\"Convert this dataframe to an interactive table.\"\n",
              "              style=\"display:none;\">\n",
              "        \n",
              "  <svg xmlns=\"http://www.w3.org/2000/svg\" height=\"24px\"viewBox=\"0 0 24 24\"\n",
              "       width=\"24px\">\n",
              "    <path d=\"M0 0h24v24H0V0z\" fill=\"none\"/>\n",
              "    <path d=\"M18.56 5.44l.94 2.06.94-2.06 2.06-.94-2.06-.94-.94-2.06-.94 2.06-2.06.94zm-11 1L8.5 8.5l.94-2.06 2.06-.94-2.06-.94L8.5 2.5l-.94 2.06-2.06.94zm10 10l.94 2.06.94-2.06 2.06-.94-2.06-.94-.94-2.06-.94 2.06-2.06.94z\"/><path d=\"M17.41 7.96l-1.37-1.37c-.4-.4-.92-.59-1.43-.59-.52 0-1.04.2-1.43.59L10.3 9.45l-7.72 7.72c-.78.78-.78 2.05 0 2.83L4 21.41c.39.39.9.59 1.41.59.51 0 1.02-.2 1.41-.59l7.78-7.78 2.81-2.81c.8-.78.8-2.07 0-2.86zM5.41 20L4 18.59l7.72-7.72 1.47 1.35L5.41 20z\"/>\n",
              "  </svg>\n",
              "      </button>\n",
              "      \n",
              "  <style>\n",
              "    .colab-df-container {\n",
              "      display:flex;\n",
              "      flex-wrap:wrap;\n",
              "      gap: 12px;\n",
              "    }\n",
              "\n",
              "    .colab-df-convert {\n",
              "      background-color: #E8F0FE;\n",
              "      border: none;\n",
              "      border-radius: 50%;\n",
              "      cursor: pointer;\n",
              "      display: none;\n",
              "      fill: #1967D2;\n",
              "      height: 32px;\n",
              "      padding: 0 0 0 0;\n",
              "      width: 32px;\n",
              "    }\n",
              "\n",
              "    .colab-df-convert:hover {\n",
              "      background-color: #E2EBFA;\n",
              "      box-shadow: 0px 1px 2px rgba(60, 64, 67, 0.3), 0px 1px 3px 1px rgba(60, 64, 67, 0.15);\n",
              "      fill: #174EA6;\n",
              "    }\n",
              "\n",
              "    [theme=dark] .colab-df-convert {\n",
              "      background-color: #3B4455;\n",
              "      fill: #D2E3FC;\n",
              "    }\n",
              "\n",
              "    [theme=dark] .colab-df-convert:hover {\n",
              "      background-color: #434B5C;\n",
              "      box-shadow: 0px 1px 3px 1px rgba(0, 0, 0, 0.15);\n",
              "      filter: drop-shadow(0px 1px 2px rgba(0, 0, 0, 0.3));\n",
              "      fill: #FFFFFF;\n",
              "    }\n",
              "  </style>\n",
              "\n",
              "      <script>\n",
              "        const buttonEl =\n",
              "          document.querySelector('#df-c91f0b82-723f-44d5-a976-86c477ae33db button.colab-df-convert');\n",
              "        buttonEl.style.display =\n",
              "          google.colab.kernel.accessAllowed ? 'block' : 'none';\n",
              "\n",
              "        async function convertToInteractive(key) {\n",
              "          const element = document.querySelector('#df-c91f0b82-723f-44d5-a976-86c477ae33db');\n",
              "          const dataTable =\n",
              "            await google.colab.kernel.invokeFunction('convertToInteractive',\n",
              "                                                     [key], {});\n",
              "          if (!dataTable) return;\n",
              "\n",
              "          const docLinkHtml = 'Like what you see? Visit the ' +\n",
              "            '<a target=\"_blank\" href=https://colab.research.google.com/notebooks/data_table.ipynb>data table notebook</a>'\n",
              "            + ' to learn more about interactive tables.';\n",
              "          element.innerHTML = '';\n",
              "          dataTable['output_type'] = 'display_data';\n",
              "          await google.colab.output.renderOutput(dataTable, element);\n",
              "          const docLink = document.createElement('div');\n",
              "          docLink.innerHTML = docLinkHtml;\n",
              "          element.appendChild(docLink);\n",
              "        }\n",
              "      </script>\n",
              "    </div>\n",
              "  </div>\n",
              "  "
            ]
          },
          "metadata": {},
          "execution_count": 72
        }
      ],
      "source": [
        "car_frame"
      ]
    },
    {
      "cell_type": "code",
      "execution_count": 73,
      "metadata": {
        "id": "6gq-Mx4tDYUv",
        "outputId": "31b36a49-2aa1-4bd7-ed33-d1da74e4d6f7",
        "colab": {
          "base_uri": "https://localhost:8080/"
        }
      },
      "outputs": [
        {
          "output_type": "stream",
          "name": "stdout",
          "text": [
            "                   missing_values  % of total\n",
            "NotRepaired                 55104        0.16\n",
            "VehicleType                 22122        0.07\n",
            "FuelType                    18540        0.06\n",
            "Model                       12016        0.04\n",
            "Gearbox                      8954        0.03\n",
            "DateCrawled                     0        0.00\n",
            "Price                           0        0.00\n",
            "RegistrationYear                0        0.00\n",
            "Power                           0        0.00\n",
            "Kilometer                       0        0.00\n",
            "RegistrationMonth               0        0.00\n",
            "Brand                           0        0.00\n",
            "DateCreated                     0        0.00\n",
            "NumberOfPictures                0        0.00\n",
            "PostalCode                      0        0.00\n",
            "LastSeen                        0        0.00\n"
          ]
        }
      ],
      "source": [
        "report = car_frame.isna().sum().to_frame()\n",
        "report = report.rename(columns={0: 'missing_values'})\n",
        "report['% of total'] = (report['missing_values'] /car_frame.shape[0]).round(2)\n",
        "print (report.sort_values(by='missing_values', ascending=False))"
      ]
    },
    {
      "cell_type": "code",
      "execution_count": 74,
      "metadata": {
        "id": "V7qgy1uBDYUw",
        "outputId": "3eb48856-5409-485f-95c6-c79c2c03d56a",
        "colab": {
          "base_uri": "https://localhost:8080/"
        }
      },
      "outputs": [
        {
          "output_type": "stream",
          "name": "stdout",
          "text": [
            "<class 'pandas.core.frame.DataFrame'>\n",
            "Int64Index: 336341 entries, 0 to 354368\n",
            "Data columns (total 16 columns):\n",
            " #   Column             Non-Null Count   Dtype \n",
            "---  ------             --------------   ----- \n",
            " 0   DateCrawled        336341 non-null  object\n",
            " 1   Price              336341 non-null  int64 \n",
            " 2   VehicleType        314219 non-null  object\n",
            " 3   RegistrationYear   336341 non-null  int64 \n",
            " 4   Gearbox            327387 non-null  object\n",
            " 5   Power              336341 non-null  int64 \n",
            " 6   Model              324325 non-null  object\n",
            " 7   Kilometer          336341 non-null  int64 \n",
            " 8   RegistrationMonth  336341 non-null  int64 \n",
            " 9   FuelType           317801 non-null  object\n",
            " 10  Brand              336341 non-null  object\n",
            " 11  NotRepaired        281237 non-null  object\n",
            " 12  DateCreated        336341 non-null  object\n",
            " 13  NumberOfPictures   336341 non-null  int64 \n",
            " 14  PostalCode         336341 non-null  int64 \n",
            " 15  LastSeen           336341 non-null  object\n",
            "dtypes: int64(7), object(9)\n",
            "memory usage: 43.6+ MB\n"
          ]
        }
      ],
      "source": [
        "car_frame.info()"
      ]
    },
    {
      "cell_type": "code",
      "execution_count": 75,
      "metadata": {
        "id": "mEFUE3AXDYUw",
        "outputId": "09625eaf-946f-4ffd-8de3-923724153e38",
        "colab": {
          "base_uri": "https://localhost:8080/"
        }
      },
      "outputs": [
        {
          "output_type": "stream",
          "name": "stdout",
          "text": [
            "Была удалена следующая часть датафрейма: 0.05360036391638248\n"
          ]
        }
      ],
      "source": [
        "drop_frame = 354369 - 336341\n",
        "print(\"Была удалена следующая часть датафрейма:\",drop_frame / car_frame.shape[0])"
      ]
    },
    {
      "cell_type": "markdown",
      "metadata": {
        "id": "Swv_ivFpDYUx"
      },
      "source": [
        "Избавимся от столбцов \"NumberOfPictures\",\"PostalCode\", \"LastSeen\", они в нашем исследовании не понадобятся"
      ]
    },
    {
      "cell_type": "code",
      "execution_count": 76,
      "metadata": {
        "id": "pSwnIJu0DYUx"
      },
      "outputs": [],
      "source": [
        "car_frame = car_frame.drop([\"NumberOfPictures\",\"PostalCode\", \"LastSeen\"],axis=1)"
      ]
    },
    {
      "cell_type": "markdown",
      "metadata": {
        "id": "AJmf1Ps8DYUy"
      },
      "source": [
        "### NotRepaired"
      ]
    },
    {
      "cell_type": "code",
      "execution_count": 77,
      "metadata": {
        "id": "X8jTBSF_DYUy",
        "outputId": "cc9b2bdc-ea82-420b-8f40-5fde3b59f002",
        "colab": {
          "base_uri": "https://localhost:8080/"
        }
      },
      "outputs": [
        {
          "output_type": "execute_result",
          "data": {
            "text/plain": [
              "no     245746\n",
              "yes     35491\n",
              "Name: NotRepaired, dtype: int64"
            ]
          },
          "metadata": {},
          "execution_count": 77
        }
      ],
      "source": [
        "car_frame['NotRepaired'].value_counts()"
      ]
    },
    {
      "cell_type": "markdown",
      "metadata": {
        "id": "YD13eGmKDYUy"
      },
      "source": [
        "Начнем с главного столбца с пропусками, где надо указать, чинилась машина или нет. \n",
        "\n",
        "  К сожалению мы не сможем сказать чинилась машина или нет на основании данных признаков. Можно было сделать вывод из пройденных километров, однако нам не даны четкие параметры, что чинилось: это может быть и замена бокового стекла или полностью ходовой части, а может быть машина просто красилась. Поэтому здесь мы будем предпологать, что там где у нас есть пропуски означает, что машина не чинилась. Заполним их значением yes. "
      ]
    },
    {
      "cell_type": "code",
      "execution_count": 78,
      "metadata": {
        "id": "3QzphJ4nDYUy"
      },
      "outputs": [],
      "source": [
        "car_frame.fillna({'NotRepaired':'yes'},inplace=True)"
      ]
    },
    {
      "cell_type": "markdown",
      "metadata": {
        "id": "-6tOBEoHDYUz"
      },
      "source": [
        "### Gearbox"
      ]
    },
    {
      "cell_type": "code",
      "execution_count": 79,
      "metadata": {
        "scrolled": false,
        "id": "hdhU58_4DYUz",
        "outputId": "f337e370-3fc5-4e5a-fff2-ca353daf8bb5",
        "colab": {
          "base_uri": "https://localhost:8080/"
        }
      },
      "outputs": [
        {
          "output_type": "execute_result",
          "data": {
            "text/plain": [
              "manual    262289\n",
              "auto       65098\n",
              "Name: Gearbox, dtype: int64"
            ]
          },
          "metadata": {},
          "execution_count": 79
        }
      ],
      "source": [
        "car_frame['Gearbox'].value_counts()"
      ]
    },
    {
      "cell_type": "markdown",
      "metadata": {
        "id": "3izMhLSLDYUz"
      },
      "source": [
        "Пропуски в столбце Gearbox составляют всего 3 процента от всего датафрейма, попробуем найти зависимость между коробкой передач и датой регистрации машины. Проведем небольшое исследование: установим за точку отсчета 2000 г. и посмотрим, какое соотношение было между количеством ручной и автоматической коробок передач"
      ]
    },
    {
      "cell_type": "code",
      "execution_count": 80,
      "metadata": {
        "id": "N0F2ZY6BDYU0"
      },
      "outputs": [],
      "source": [
        "car_gearbox = car_frame.query('2000 > RegistrationYear')"
      ]
    },
    {
      "cell_type": "code",
      "execution_count": 81,
      "metadata": {
        "id": "UfTEC27iDYU0",
        "outputId": "4d753f2d-737d-4cb0-ded4-af128945d67b",
        "colab": {
          "base_uri": "https://localhost:8080/"
        }
      },
      "outputs": [
        {
          "output_type": "execute_result",
          "data": {
            "text/plain": [
              "manual    80386\n",
              "auto      14712\n",
              "Name: Gearbox, dtype: int64"
            ]
          },
          "metadata": {},
          "execution_count": 81
        }
      ],
      "source": [
        "car_gearbox['Gearbox'].value_counts()"
      ]
    },
    {
      "cell_type": "code",
      "execution_count": 82,
      "metadata": {
        "id": "XtRMAp8mDYU1",
        "outputId": "ff6edb86-be0d-4fde-f54d-085cc57375e2",
        "colab": {
          "base_uri": "https://localhost:8080/"
        }
      },
      "outputs": [
        {
          "output_type": "execute_result",
          "data": {
            "text/plain": [
              "2804"
            ]
          },
          "metadata": {},
          "execution_count": 82
        }
      ],
      "source": [
        "car_gearbox['Gearbox'].isna().sum()"
      ]
    },
    {
      "cell_type": "code",
      "execution_count": 83,
      "metadata": {
        "id": "3XK_GwRSDYU1"
      },
      "outputs": [],
      "source": [
        "car_gearbox2 = car_frame.query('2000 < RegistrationYear')"
      ]
    },
    {
      "cell_type": "code",
      "execution_count": 84,
      "metadata": {
        "id": "4_zwugjvDYU1",
        "outputId": "a1811e05-f7f3-4a76-97fc-ef1267c9ee10",
        "colab": {
          "base_uri": "https://localhost:8080/"
        }
      },
      "outputs": [
        {
          "output_type": "execute_result",
          "data": {
            "text/plain": [
              "5584"
            ]
          },
          "metadata": {},
          "execution_count": 84
        }
      ],
      "source": [
        "car_gearbox2['Gearbox'].isna().sum()"
      ]
    },
    {
      "cell_type": "markdown",
      "metadata": {
        "id": "RDtfrX2QDYU2"
      },
      "source": [
        "Количество машин с ручной коробкой передач превышает количество с автоматической в несколько раз. После 2000 г. соотношение увеличивается в пользу АКПП, однако разрыв все равно большой. Принимая во внимание, что дальше мы будем искать аномальные значения по годам и удалять выбивающие значения, наш период изучения будет примерно 1960 - 2018 г., в это время уже начали внедрять АКПП, а значит мы можем заменить все пропущенные значения на АКПП"
      ]
    },
    {
      "cell_type": "markdown",
      "metadata": {
        "id": "gNRk8h_1DYU2"
      },
      "source": [
        "Для того,чтобы проверить как менялись тренды с коробкой передач мы построим график, на котором будет показано количество машин с акпп и мкпп. Только сейчас понял, что необходимо было сначала исследовать год регистрации, а потом уже переходить к категориальным признакам, иначе выбросы по годам не дадут нам оптимальной картины. График будет построен чуть ниже, после удаления аномалий из времени регистрации."
      ]
    },
    {
      "cell_type": "code",
      "execution_count": 85,
      "metadata": {
        "id": "pRt1HS4ADYU2",
        "outputId": "e883bbe1-8694-4e7c-9b93-3322c269c1c0",
        "colab": {
          "base_uri": "https://localhost:8080/"
        }
      },
      "outputs": [
        {
          "output_type": "execute_result",
          "data": {
            "text/plain": [
              "manual    262289\n",
              "auto       65098\n",
              "Name: Gearbox, dtype: int64"
            ]
          },
          "metadata": {},
          "execution_count": 85
        }
      ],
      "source": [
        "car_frame['Gearbox'].value_counts()"
      ]
    },
    {
      "cell_type": "markdown",
      "metadata": {
        "id": "KG9gjA5KDYU2"
      },
      "source": [
        "### RegistrationYear, Price, Power\t"
      ]
    },
    {
      "cell_type": "markdown",
      "metadata": {
        "id": "WTAtralLDYU3"
      },
      "source": [
        "Перед тем, как продолжить изучать Категор/столбцах, обратим внимание на наши количественные признаки, есть ли какие либо выбивающиеся значения"
      ]
    },
    {
      "cell_type": "code",
      "execution_count": 86,
      "metadata": {
        "id": "SJCAEWHIDYU3",
        "outputId": "309dc4fd-6b68-4cbd-aab6-d0191bcf34bf",
        "colab": {
          "base_uri": "https://localhost:8080/"
        }
      },
      "outputs": [
        {
          "output_type": "execute_result",
          "data": {
            "text/plain": [
              "1999    22446\n",
              "2000    21174\n",
              "2005    20597\n",
              "2001    19941\n",
              "2006    19641\n",
              "        ...  \n",
              "2900        1\n",
              "6500        1\n",
              "1400        1\n",
              "4000        1\n",
              "1600        1\n",
              "Name: RegistrationYear, Length: 108, dtype: int64"
            ]
          },
          "metadata": {},
          "execution_count": 86
        }
      ],
      "source": [
        "car_frame['RegistrationYear'].value_counts()"
      ]
    },
    {
      "cell_type": "markdown",
      "metadata": {
        "id": "EtPpT849DYU3"
      },
      "source": [
        "Мы видим, что есть значения в далеком прошлом и в чрезмерно далеком будущем. Чтобы понять, до какой даты мы можем считать значения как правильные, посмотрим на максимальное значение \"DateCrawled\" (дата скачивания анкеты из базы)"
      ]
    },
    {
      "cell_type": "code",
      "execution_count": 87,
      "metadata": {
        "id": "GuqezVn0DYU3",
        "outputId": "3f290f9d-81e8-4656-821d-7db71c5a913e",
        "colab": {
          "base_uri": "https://localhost:8080/"
        }
      },
      "outputs": [
        {
          "output_type": "execute_result",
          "data": {
            "text/plain": [
              "Timestamp('2016-04-07 14:36:58')"
            ]
          },
          "metadata": {},
          "execution_count": 87
        }
      ],
      "source": [
        "date = pd.to_datetime(car_frame['DateCrawled'])\n",
        "date.max()"
      ]
    },
    {
      "cell_type": "markdown",
      "metadata": {
        "id": "KlSC-1oEDYU4"
      },
      "source": [
        "Все, что позднее 2016 года, мы можем считать неправильными значениями. За нижнюю планку изначально возьмем 1919 г., начало эры винтажных автомобилей и посмотрим на распределения по годам"
      ]
    },
    {
      "cell_type": "code",
      "execution_count": 88,
      "metadata": {
        "id": "XHrpei27DYU4",
        "outputId": "e97f7877-f784-4e35-f090-27c5bfee0bfa",
        "colab": {
          "base_uri": "https://localhost:8080/",
          "height": 693
        }
      },
      "outputs": [
        {
          "output_type": "execute_result",
          "data": {
            "text/plain": [
              "count    325870.000000\n",
              "mean       2002.540651\n",
              "std           6.673017\n",
              "min        1923.000000\n",
              "25%        1999.000000\n",
              "50%        2003.000000\n",
              "75%        2007.000000\n",
              "max        2016.000000\n",
              "Name: RegistrationYear, dtype: float64"
            ]
          },
          "metadata": {},
          "execution_count": 88
        },
        {
          "output_type": "display_data",
          "data": {
            "text/plain": [
              "<Figure size 864x648 with 1 Axes>"
            ],
            "image/png": "[encoded data removed]"
          },
          "metadata": {
            "needs_background": "light"
          }
        }
      ],
      "source": [
        "car_frame = car_frame.query('1919 < RegistrationYear < 2017')\n",
        "car_frame['RegistrationYear'].hist(bins=50, figsize=(12,9))\n",
        "car_frame['RegistrationYear'].describe()"
      ]
    },
    {
      "cell_type": "markdown",
      "metadata": {
        "id": "_8DumruMDYU4"
      },
      "source": [
        "Среднее и медианна примерно одинаковы, мы видим, что до 1980 г. количество маши было минимальным, в то время как в 1990 г. присходит резкий скачок. Наш 25% находится на отметке 1999 г., однако указав его мы потеряем некоторое количество раритетных машин, которые тоже могут находится в рабочем состоянии. "
      ]
    },
    {
      "cell_type": "code",
      "execution_count": 89,
      "metadata": {
        "id": "54dSTSi3DYU4",
        "outputId": "2d74eb64-b553-4f81-f6cb-6e89f9403939",
        "colab": {
          "base_uri": "https://localhost:8080/",
          "height": 467
        }
      },
      "outputs": [
        {
          "output_type": "stream",
          "name": "stderr",
          "text": [
            "/usr/local/lib/python3.7/dist-packages/seaborn/_decorators.py:43: FutureWarning: Pass the following variable as a keyword arg: x. From version 0.12, the only valid positional argument will be `data`, and passing other arguments without an explicit keyword will result in an error or misinterpretation.\n",
            "  FutureWarning\n"
          ]
        },
        {
          "output_type": "display_data",
          "data": {
            "text/plain": [
              "<Figure size 864x432 with 1 Axes>"
            ],
            "image/png": "[encoded data removed]"
          },
          "metadata": {
            "needs_background": "light"
          }
        }
      ],
      "source": [
        "plt.figure(figsize=(12,6))\n",
        "sns.boxplot(car_frame['RegistrationYear'])\n",
        "plt.title('Ящик с усами', fontsize=20)\n",
        "plt.xlabel('Год регистрации', fontsize=12)\n",
        "plt.ylabel('Количество машин',fontsize=12)\n",
        "plt.show()"
      ]
    },
    {
      "cell_type": "markdown",
      "metadata": {
        "id": "qOF1hh9MDYU4"
      },
      "source": [
        "В итоге, я решил отталкиваться от следующего: согласно официальным данным, статус раритеного автомобиля можно получить, если машина эксплуатировалась более 50 лет. Все машины, старее этой даты, должны уже стоять в музее, либо использоваться на выставках, для езды они могут уже быть не предназначены."
      ]
    },
    {
      "cell_type": "code",
      "execution_count": 90,
      "metadata": {
        "id": "Od_a4jE0DYU5"
      },
      "outputs": [],
      "source": [
        "car_frame = car_frame.query('1967 < RegistrationYear < 2017')"
      ]
    },
    {
      "cell_type": "code",
      "execution_count": 91,
      "metadata": {
        "id": "ob997tiUDYU5",
        "outputId": "da0e143d-c023-44df-d8be-28f5a6e41248",
        "colab": {
          "base_uri": "https://localhost:8080/"
        }
      },
      "outputs": [
        {
          "output_type": "execute_result",
          "data": {
            "text/plain": [
              "325112"
            ]
          },
          "metadata": {},
          "execution_count": 91
        }
      ],
      "source": [
        "car_frame.shape[0]"
      ]
    },
    {
      "cell_type": "markdown",
      "metadata": {
        "id": "uOphbdBpDYU5"
      },
      "source": [
        "### Gearbox.2.0"
      ]
    },
    {
      "cell_type": "markdown",
      "metadata": {
        "id": "dwFnKAR4DYU5"
      },
      "source": [
        "Ниже построим график по годам для исследования пропусков в 'Gearbox', первоначально разделим выборки на АКПП и МКПП"
      ]
    },
    {
      "cell_type": "code",
      "execution_count": 92,
      "metadata": {
        "id": "W4MoEwSjDYU6",
        "outputId": "3f5ba7e4-9439-4e09-8314-3f0d198e80d9",
        "colab": {
          "base_uri": "https://localhost:8080/"
        }
      },
      "outputs": [
        {
          "output_type": "execute_result",
          "data": {
            "text/plain": [
              "8507"
            ]
          },
          "metadata": {},
          "execution_count": 92
        }
      ],
      "source": [
        "car_frame['Gearbox'].isna().sum()"
      ]
    },
    {
      "cell_type": "code",
      "execution_count": 93,
      "metadata": {
        "id": "jHBP24OEDYU6",
        "outputId": "1c7a2d8b-e715-4073-d76a-4db5b5bdd7b4",
        "colab": {
          "base_uri": "https://localhost:8080/"
        }
      },
      "outputs": [
        {
          "output_type": "execute_result",
          "data": {
            "text/plain": [
              "5048"
            ]
          },
          "metadata": {},
          "execution_count": 93
        }
      ],
      "source": [
        "a = car_frame.query('1999 < RegistrationYear < 2010')\n",
        "a['Gearbox'].isna().sum()"
      ]
    },
    {
      "cell_type": "code",
      "execution_count": 94,
      "metadata": {
        "id": "a3JAU4glDYU6"
      },
      "outputs": [],
      "source": [
        "car_manual = car_frame.query('Gearbox == \"manual\"')\n",
        "car_auto = car_frame.query('Gearbox == \"auto\"')"
      ]
    },
    {
      "cell_type": "code",
      "execution_count": 95,
      "metadata": {
        "scrolled": false,
        "id": "iaEhl2UaDYU6",
        "outputId": "dc0f0f0b-966a-46c2-d279-496c60a5c694",
        "colab": {
          "base_uri": "https://localhost:8080/",
          "height": 606
        }
      },
      "outputs": [
        {
          "output_type": "display_data",
          "data": {
            "text/plain": [
              "<Figure size 1440x720 with 1 Axes>"
            ],
            "image/png": "[encoded data removed]"
          },
          "metadata": {
            "needs_background": "light"
          }
        }
      ],
      "source": [
        "car_manual.groupby('RegistrationYear')['Gearbox'].count().plot(\n",
        "    style='o-', grid=True, figsize=(20,10), legend=True\n",
        "    )\n",
        "\n",
        "car_auto.groupby('RegistrationYear')['Gearbox'].count().plot(\n",
        "    style='o-', grid=True, figsize=(20,10), legend=True\n",
        "    )\n",
        "\n",
        "plt.show()"
      ]
    },
    {
      "cell_type": "code",
      "execution_count": 96,
      "metadata": {
        "id": "Z5YhL3cdDYU7"
      },
      "outputs": [],
      "source": [
        "car_frame.fillna({'Gearbox':'auto'}, inplace=True)"
      ]
    },
    {
      "cell_type": "code",
      "execution_count": 97,
      "metadata": {
        "id": "gCmzHbsbDYU7"
      },
      "outputs": [],
      "source": [
        "car_manual = car_frame.query('Gearbox == \"manual\"')\n",
        "car_auto = car_frame.query('Gearbox == \"auto\"')"
      ]
    },
    {
      "cell_type": "code",
      "execution_count": 98,
      "metadata": {
        "scrolled": false,
        "id": "0M3hpYbODYU7",
        "outputId": "907a1aca-ec58-4645-a3dc-55bcda23328a",
        "colab": {
          "base_uri": "https://localhost:8080/",
          "height": 606
        }
      },
      "outputs": [
        {
          "output_type": "display_data",
          "data": {
            "text/plain": [
              "<Figure size 1440x720 with 1 Axes>"
            ],
            "image/png": "[encoded data removed]"
          },
          "metadata": {
            "needs_background": "light"
          }
        }
      ],
      "source": [
        "car_manual.groupby('RegistrationYear')['Gearbox'].count().plot(\n",
        "    style='o-', grid=True, figsize=(20,10), legend=True\n",
        "    )\n",
        "\n",
        "car_auto.groupby('RegistrationYear')['Gearbox'].count().plot(\n",
        "    style='o-', grid=True, figsize=(20,10), legend=True\n",
        "    )\n",
        "\n",
        "plt.show()"
      ]
    },
    {
      "cell_type": "markdown",
      "metadata": {
        "id": "XxpVOyrIDYU7"
      },
      "source": [
        "Долго думал над этим вопросом, к однозначому мнению, к сожалению, не пришел. Просто заменять на Unknown не хотелось бы. Согласно данным большинство пропусков находится в период с 1999 по 2010 гг., и на первом графике мы видим, что как раз в это время количество машин с МКПП начинает сокращаться, в то время как доля машин с АКПП растет(однако не такими быстрыми темпами). Пиком для АКПП стал 2005 - 2006 г., потом доля тоже стала уменьшатся. Я все же решил оставить заполнение пропусков АКПП, исходя из того, что на данный момент машины с АКПП  выпускаются чаще. Так же в конце проекта исследовали важность параметров, параметр \"Gearbox\" находится в конце списка и имеет небольшое влияние на результат."
      ]
    },
    {
      "cell_type": "markdown",
      "metadata": {
        "id": "_OBG4-_XDYU8"
      },
      "source": [
        "Теперь проверим \"Power\" (мощность в л.с.)"
      ]
    },
    {
      "cell_type": "code",
      "execution_count": 99,
      "metadata": {
        "id": "JNd7eRflDYU8",
        "outputId": "8129585b-913d-4e1b-99c1-982a48bfd04a",
        "colab": {
          "base_uri": "https://localhost:8080/"
        }
      },
      "outputs": [
        {
          "output_type": "execute_result",
          "data": {
            "text/plain": [
              "0       27489\n",
              "75      22211\n",
              "60      14715\n",
              "150     13910\n",
              "101     12493\n",
              "        ...  \n",
              "1999        1\n",
              "584         1\n",
              "1054        1\n",
              "851         1\n",
              "1241        1\n",
              "Name: Power, Length: 687, dtype: int64"
            ]
          },
          "metadata": {},
          "execution_count": 99
        }
      ],
      "source": [
        "car_frame['Power'].value_counts()"
      ]
    },
    {
      "cell_type": "markdown",
      "metadata": {
        "id": "8Y4-aejFDYU8"
      },
      "source": [
        "В первую очередь, мы видим, что есть много автомобилей со значением 0 в л.с. Попробуем посмотреть, сколько из них имеют 0 цену, если найде такие - то примем решение избавиться, т.к. машины, которые не на ходу и которые не стоит ничего нас не интересуют."
      ]
    },
    {
      "cell_type": "code",
      "execution_count": 100,
      "metadata": {
        "id": "FbV34gd9DYU8",
        "outputId": "932f81d0-fd89-4dc2-819c-e18d32295cfa",
        "colab": {
          "base_uri": "https://localhost:8080/",
          "height": 424
        }
      },
      "outputs": [
        {
          "output_type": "execute_result",
          "data": {
            "text/plain": [
              "                DateCrawled  Price VehicleType  RegistrationYear Gearbox  \\\n",
              "590     2016-03-20 02:36:22      0       sedan              1997  manual   \n",
              "950     2016-03-26 19:47:19      0       small              2000  manual   \n",
              "1034    2016-04-04 00:58:53      0       sedan              1999  manual   \n",
              "1114    2016-03-27 17:56:57      0         suv              2008    auto   \n",
              "1419    2016-03-05 20:48:33      0       wagon              2000  manual   \n",
              "...                     ...    ...         ...               ...     ...   \n",
              "353387  2016-03-06 00:57:04      0         NaN              2007  manual   \n",
              "353411  2016-03-16 14:38:38      0       small              1989  manual   \n",
              "353480  2016-03-16 01:00:05      0         NaN              2016    auto   \n",
              "353511  2016-03-17 14:48:07      0       small              1996  manual   \n",
              "354364  2016-03-21 09:50:58      0         NaN              2005  manual   \n",
              "\n",
              "        Power   Model  Kilometer  RegistrationMonth  FuelType       Brand  \\\n",
              "590         0     3er     150000                  0    petrol         bmw   \n",
              "950         0   corsa     150000                  5    petrol        opel   \n",
              "1034        0  espace     150000                  3    petrol     renault   \n",
              "1114        0   other      30000                 12    petrol      toyota   \n",
              "1419        0     NaN     150000                 11  gasoline       mazda   \n",
              "...       ...     ...        ...                ...       ...         ...   \n",
              "353387      0     NaN      50000                  2    petrol         bmw   \n",
              "353411      0   other     125000                  3       NaN        fiat   \n",
              "353480      0  megane      20000                  0  gasoline     renault   \n",
              "353511      0  fiesta     100000                 11    petrol        ford   \n",
              "354364      0    colt     150000                  7    petrol  mitsubishi   \n",
              "\n",
              "       NotRepaired          DateCreated  \n",
              "590            yes  2016-03-20 00:00:00  \n",
              "950             no  2016-03-26 00:00:00  \n",
              "1034            no  2016-04-04 00:00:00  \n",
              "1114           yes  2016-03-27 00:00:00  \n",
              "1419           yes  2016-03-05 00:00:00  \n",
              "...            ...                  ...  \n",
              "353387          no  2016-03-05 00:00:00  \n",
              "353411         yes  2016-03-16 00:00:00  \n",
              "353480         yes  2016-03-15 00:00:00  \n",
              "353511         yes  2016-03-17 00:00:00  \n",
              "354364         yes  2016-03-21 00:00:00  \n",
              "\n",
              "[1675 rows x 13 columns]"
            ],
            "text/html": [
              "\n",
              "  <div id=\"df-8279df4c-f7c3-4937-96b2-ff7733076368\">\n",
              "    <div class=\"colab-df-container\">\n",
              "      <div>\n",
              "<style scoped>\n",
              "    .dataframe tbody tr th:only-of-type {\n",
              "        vertical-align: middle;\n",
              "    }\n",
              "\n",
              "    .dataframe tbody tr th {\n",
              "        vertical-align: top;\n",
              "    }\n",
              "\n",
              "    .dataframe thead th {\n",
              "        text-align: right;\n",
              "    }\n",
              "</style>\n",
              "<table border=\"1\" class=\"dataframe\">\n",
              "  <thead>\n",
              "    <tr style=\"text-align: right;\">\n",
              "      <th></th>\n",
              "      <th>DateCrawled</th>\n",
              "      <th>Price</th>\n",
              "      <th>VehicleType</th>\n",
              "      <th>RegistrationYear</th>\n",
              "      <th>Gearbox</th>\n",
              "      <th>Power</th>\n",
              "      <th>Model</th>\n",
              "      <th>Kilometer</th>\n",
              "      <th>RegistrationMonth</th>\n",
              "      <th>FuelType</th>\n",
              "      <th>Brand</th>\n",
              "      <th>NotRepaired</th>\n",
              "      <th>DateCreated</th>\n",
              "    </tr>\n",
              "  </thead>\n",
              "  <tbody>\n",
              "    <tr>\n",
              "      <th>590</th>\n",
              "      <td>2016-03-20 02:36:22</td>\n",
              "      <td>0</td>\n",
              "      <td>sedan</td>\n",
              "      <td>1997</td>\n",
              "      <td>manual</td>\n",
              "      <td>0</td>\n",
              "      <td>3er</td>\n",
              "      <td>150000</td>\n",
              "      <td>0</td>\n",
              "      <td>petrol</td>\n",
              "      <td>bmw</td>\n",
              "      <td>yes</td>\n",
              "      <td>2016-03-20 00:00:00</td>\n",
              "    </tr>\n",
              "    <tr>\n",
              "      <th>950</th>\n",
              "      <td>2016-03-26 19:47:19</td>\n",
              "      <td>0</td>\n",
              "      <td>small</td>\n",
              "      <td>2000</td>\n",
              "      <td>manual</td>\n",
              "      <td>0</td>\n",
              "      <td>corsa</td>\n",
              "      <td>150000</td>\n",
              "      <td>5</td>\n",
              "      <td>petrol</td>\n",
              "      <td>opel</td>\n",
              "      <td>no</td>\n",
              "      <td>2016-03-26 00:00:00</td>\n",
              "    </tr>\n",
              "    <tr>\n",
              "      <th>1034</th>\n",
              "      <td>2016-04-04 00:58:53</td>\n",
              "      <td>0</td>\n",
              "      <td>sedan</td>\n",
              "      <td>1999</td>\n",
              "      <td>manual</td>\n",
              "      <td>0</td>\n",
              "      <td>espace</td>\n",
              "      <td>150000</td>\n",
              "      <td>3</td>\n",
              "      <td>petrol</td>\n",
              "      <td>renault</td>\n",
              "      <td>no</td>\n",
              "      <td>2016-04-04 00:00:00</td>\n",
              "    </tr>\n",
              "    <tr>\n",
              "      <th>1114</th>\n",
              "      <td>2016-03-27 17:56:57</td>\n",
              "      <td>0</td>\n",
              "      <td>suv</td>\n",
              "      <td>2008</td>\n",
              "      <td>auto</td>\n",
              "      <td>0</td>\n",
              "      <td>other</td>\n",
              "      <td>30000</td>\n",
              "      <td>12</td>\n",
              "      <td>petrol</td>\n",
              "      <td>toyota</td>\n",
              "      <td>yes</td>\n",
              "      <td>2016-03-27 00:00:00</td>\n",
              "    </tr>\n",
              "    <tr>\n",
              "      <th>1419</th>\n",
              "      <td>2016-03-05 20:48:33</td>\n",
              "      <td>0</td>\n",
              "      <td>wagon</td>\n",
              "      <td>2000</td>\n",
              "      <td>manual</td>\n",
              "      <td>0</td>\n",
              "      <td>NaN</td>\n",
              "      <td>150000</td>\n",
              "      <td>11</td>\n",
              "      <td>gasoline</td>\n",
              "      <td>mazda</td>\n",
              "      <td>yes</td>\n",
              "      <td>2016-03-05 00:00:00</td>\n",
              "    </tr>\n",
              "    <tr>\n",
              "      <th>...</th>\n",
              "      <td>...</td>\n",
              "      <td>...</td>\n",
              "      <td>...</td>\n",
              "      <td>...</td>\n",
              "      <td>...</td>\n",
              "      <td>...</td>\n",
              "      <td>...</td>\n",
              "      <td>...</td>\n",
              "      <td>...</td>\n",
              "      <td>...</td>\n",
              "      <td>...</td>\n",
              "      <td>...</td>\n",
              "      <td>...</td>\n",
              "    </tr>\n",
              "    <tr>\n",
              "      <th>353387</th>\n",
              "      <td>2016-03-06 00:57:04</td>\n",
              "      <td>0</td>\n",
              "      <td>NaN</td>\n",
              "      <td>2007</td>\n",
              "      <td>manual</td>\n",
              "      <td>0</td>\n",
              "      <td>NaN</td>\n",
              "      <td>50000</td>\n",
              "      <td>2</td>\n",
              "      <td>petrol</td>\n",
              "      <td>bmw</td>\n",
              "      <td>no</td>\n",
              "      <td>2016-03-05 00:00:00</td>\n",
              "    </tr>\n",
              "    <tr>\n",
              "      <th>353411</th>\n",
              "      <td>2016-03-16 14:38:38</td>\n",
              "      <td>0</td>\n",
              "      <td>small</td>\n",
              "      <td>1989</td>\n",
              "      <td>manual</td>\n",
              "      <td>0</td>\n",
              "      <td>other</td>\n",
              "      <td>125000</td>\n",
              "      <td>3</td>\n",
              "      <td>NaN</td>\n",
              "      <td>fiat</td>\n",
              "      <td>yes</td>\n",
              "      <td>2016-03-16 00:00:00</td>\n",
              "    </tr>\n",
              "    <tr>\n",
              "      <th>353480</th>\n",
              "      <td>2016-03-16 01:00:05</td>\n",
              "      <td>0</td>\n",
              "      <td>NaN</td>\n",
              "      <td>2016</td>\n",
              "      <td>auto</td>\n",
              "      <td>0</td>\n",
              "      <td>megane</td>\n",
              "      <td>20000</td>\n",
              "      <td>0</td>\n",
              "      <td>gasoline</td>\n",
              "      <td>renault</td>\n",
              "      <td>yes</td>\n",
              "      <td>2016-03-15 00:00:00</td>\n",
              "    </tr>\n",
              "    <tr>\n",
              "      <th>353511</th>\n",
              "      <td>2016-03-17 14:48:07</td>\n",
              "      <td>0</td>\n",
              "      <td>small</td>\n",
              "      <td>1996</td>\n",
              "      <td>manual</td>\n",
              "      <td>0</td>\n",
              "      <td>fiesta</td>\n",
              "      <td>100000</td>\n",
              "      <td>11</td>\n",
              "      <td>petrol</td>\n",
              "      <td>ford</td>\n",
              "      <td>yes</td>\n",
              "      <td>2016-03-17 00:00:00</td>\n",
              "    </tr>\n",
              "    <tr>\n",
              "      <th>354364</th>\n",
              "      <td>2016-03-21 09:50:58</td>\n",
              "      <td>0</td>\n",
              "      <td>NaN</td>\n",
              "      <td>2005</td>\n",
              "      <td>manual</td>\n",
              "      <td>0</td>\n",
              "      <td>colt</td>\n",
              "      <td>150000</td>\n",
              "      <td>7</td>\n",
              "      <td>petrol</td>\n",
              "      <td>mitsubishi</td>\n",
              "      <td>yes</td>\n",
              "      <td>2016-03-21 00:00:00</td>\n",
              "    </tr>\n",
              "  </tbody>\n",
              "</table>\n",
              "<p>1675 rows × 13 columns</p>\n",
              "</div>\n",
              "      <button class=\"colab-df-convert\" onclick=\"convertToInteractive('df-8279df4c-f7c3-4937-96b2-ff7733076368')\"\n",
              "              title=\"Convert this dataframe to an interactive table.\"\n",
              "              style=\"display:none;\">\n",
              "        \n",
              "  <svg xmlns=\"http://www.w3.org/2000/svg\" height=\"24px\"viewBox=\"0 0 24 24\"\n",
              "       width=\"24px\">\n",
              "    <path d=\"M0 0h24v24H0V0z\" fill=\"none\"/>\n",
              "    <path d=\"M18.56 5.44l.94 2.06.94-2.06 2.06-.94-2.06-.94-.94-2.06-.94 2.06-2.06.94zm-11 1L8.5 8.5l.94-2.06 2.06-.94-2.06-.94L8.5 2.5l-.94 2.06-2.06.94zm10 10l.94 2.06.94-2.06 2.06-.94-2.06-.94-.94-2.06-.94 2.06-2.06.94z\"/><path d=\"M17.41 7.96l-1.37-1.37c-.4-.4-.92-.59-1.43-.59-.52 0-1.04.2-1.43.59L10.3 9.45l-7.72 7.72c-.78.78-.78 2.05 0 2.83L4 21.41c.39.39.9.59 1.41.59.51 0 1.02-.2 1.41-.59l7.78-7.78 2.81-2.81c.8-.78.8-2.07 0-2.86zM5.41 20L4 18.59l7.72-7.72 1.47 1.35L5.41 20z\"/>\n",
              "  </svg>\n",
              "      </button>\n",
              "      \n",
              "  <style>\n",
              "    .colab-df-container {\n",
              "      display:flex;\n",
              "      flex-wrap:wrap;\n",
              "      gap: 12px;\n",
              "    }\n",
              "\n",
              "    .colab-df-convert {\n",
              "      background-color: #E8F0FE;\n",
              "      border: none;\n",
              "      border-radius: 50%;\n",
              "      cursor: pointer;\n",
              "      display: none;\n",
              "      fill: #1967D2;\n",
              "      height: 32px;\n",
              "      padding: 0 0 0 0;\n",
              "      width: 32px;\n",
              "    }\n",
              "\n",
              "    .colab-df-convert:hover {\n",
              "      background-color: #E2EBFA;\n",
              "      box-shadow: 0px 1px 2px rgba(60, 64, 67, 0.3), 0px 1px 3px 1px rgba(60, 64, 67, 0.15);\n",
              "      fill: #174EA6;\n",
              "    }\n",
              "\n",
              "    [theme=dark] .colab-df-convert {\n",
              "      background-color: #3B4455;\n",
              "      fill: #D2E3FC;\n",
              "    }\n",
              "\n",
              "    [theme=dark] .colab-df-convert:hover {\n",
              "      background-color: #434B5C;\n",
              "      box-shadow: 0px 1px 3px 1px rgba(0, 0, 0, 0.15);\n",
              "      filter: drop-shadow(0px 1px 2px rgba(0, 0, 0, 0.3));\n",
              "      fill: #FFFFFF;\n",
              "    }\n",
              "  </style>\n",
              "\n",
              "      <script>\n",
              "        const buttonEl =\n",
              "          document.querySelector('#df-8279df4c-f7c3-4937-96b2-ff7733076368 button.colab-df-convert');\n",
              "        buttonEl.style.display =\n",
              "          google.colab.kernel.accessAllowed ? 'block' : 'none';\n",
              "\n",
              "        async function convertToInteractive(key) {\n",
              "          const element = document.querySelector('#df-8279df4c-f7c3-4937-96b2-ff7733076368');\n",
              "          const dataTable =\n",
              "            await google.colab.kernel.invokeFunction('convertToInteractive',\n",
              "                                                     [key], {});\n",
              "          if (!dataTable) return;\n",
              "\n",
              "          const docLinkHtml = 'Like what you see? Visit the ' +\n",
              "            '<a target=\"_blank\" href=https://colab.research.google.com/notebooks/data_table.ipynb>data table notebook</a>'\n",
              "            + ' to learn more about interactive tables.';\n",
              "          element.innerHTML = '';\n",
              "          dataTable['output_type'] = 'display_data';\n",
              "          await google.colab.output.renderOutput(dataTable, element);\n",
              "          const docLink = document.createElement('div');\n",
              "          docLink.innerHTML = docLinkHtml;\n",
              "          element.appendChild(docLink);\n",
              "        }\n",
              "      </script>\n",
              "    </div>\n",
              "  </div>\n",
              "  "
            ]
          },
          "metadata": {},
          "execution_count": 100
        }
      ],
      "source": [
        "car_frame.query('Power == 0 & Price == 0')"
      ]
    },
    {
      "cell_type": "code",
      "execution_count": 101,
      "metadata": {
        "id": "bII3YqU7DYU8"
      },
      "outputs": [],
      "source": [
        "car_frame = car_frame.query('Power != 0 | Price != 0')"
      ]
    },
    {
      "cell_type": "code",
      "execution_count": 102,
      "metadata": {
        "id": "Pd5zHWvQDYU8",
        "outputId": "a05a5290-a6f9-4695-e74e-7ae1e19cc0ed",
        "colab": {
          "base_uri": "https://localhost:8080/"
        }
      },
      "outputs": [
        {
          "output_type": "execute_result",
          "data": {
            "text/plain": [
              "323437"
            ]
          },
          "metadata": {},
          "execution_count": 102
        }
      ],
      "source": [
        "car_frame.shape[0]"
      ]
    },
    {
      "cell_type": "code",
      "execution_count": 103,
      "metadata": {
        "scrolled": false,
        "id": "BN-_SUzTDYU9",
        "outputId": "81e0a165-6af8-40cc-e1ff-0882af4d06e4",
        "colab": {
          "base_uri": "https://localhost:8080/",
          "height": 554
        }
      },
      "outputs": [
        {
          "output_type": "execute_result",
          "data": {
            "text/plain": [
              "<matplotlib.axes._subplots.AxesSubplot at 0x7f8dd8070810>"
            ]
          },
          "metadata": {},
          "execution_count": 103
        },
        {
          "output_type": "display_data",
          "data": {
            "text/plain": [
              "<Figure size 864x648 with 1 Axes>"
            ],
            "image/png": "[encoded data removed]"
          },
          "metadata": {
            "needs_background": "light"
          }
        }
      ],
      "source": [
        "car_frame['Power'].hist(bins=20, figsize=(12,9))"
      ]
    },
    {
      "cell_type": "markdown",
      "metadata": {
        "id": "uz0IwVlEDYU9"
      },
      "source": [
        "Проверим теперь по максимальным параметрам Power. Самая мощная машина (данные из Интернета) Devel Sixteen  = 5000 л. с. Возьмем это как максимальную точку"
      ]
    },
    {
      "cell_type": "code",
      "execution_count": 104,
      "metadata": {
        "id": "tfvw_R3ADYU9",
        "outputId": "748448ec-f0a4-4c38-a094-d384893ef1a0",
        "colab": {
          "base_uri": "https://localhost:8080/",
          "height": 424
        }
      },
      "outputs": [
        {
          "output_type": "execute_result",
          "data": {
            "text/plain": [
              "                DateCrawled  Price  VehicleType  RegistrationYear Gearbox  \\\n",
              "7661    2016-04-02 19:25:25   1499        small              1999  manual   \n",
              "11039   2016-03-25 19:55:32      0        sedan              1998  manual   \n",
              "25232   2016-03-28 19:57:39  10900          bus              2009  manual   \n",
              "33952   2016-03-09 11:37:03   3740        small              2006  manual   \n",
              "44520   2016-03-10 22:37:21   2500  convertible              1998  manual   \n",
              "...                     ...    ...          ...               ...     ...   \n",
              "328862  2016-03-20 09:57:28    850        small              2000  manual   \n",
              "339642  2016-03-07 16:58:44    600        sedan              2000  manual   \n",
              "341320  2016-03-29 21:40:33   1899        other              2006  manual   \n",
              "346639  2016-03-25 12:55:36   1300        sedan              2000  manual   \n",
              "348137  2016-03-16 21:48:39    850        sedan              1993    auto   \n",
              "\n",
              "        Power     Model  Kilometer  RegistrationMonth  FuelType       Brand  \\\n",
              "7661     7515      lupo     150000                  4    petrol  volkswagen   \n",
              "11039   10317     other     150000                  8    petrol        fiat   \n",
              "25232   10520     caddy     150000                  6  gasoline  volkswagen   \n",
              "33952    6920      aygo      90000                 10       NaN      toyota   \n",
              "44520    7512      golf     150000                  6       NaN  volkswagen   \n",
              "...       ...       ...        ...                ...       ...         ...   \n",
              "328862   8500     corsa     150000                  3    petrol        opel   \n",
              "339642  10110     focus     125000                 12    petrol        ford   \n",
              "341320   7518  berlingo     125000                 11    petrol     citroen   \n",
              "346639  12512   carisma     150000                  9    petrol  mitsubishi   \n",
              "348137   9012      golf     150000                  0    petrol  volkswagen   \n",
              "\n",
              "       NotRepaired          DateCreated  \n",
              "7661           yes  2016-04-02 00:00:00  \n",
              "11039           no  2016-03-25 00:00:00  \n",
              "25232           no  2016-03-28 00:00:00  \n",
              "33952           no  2016-03-09 00:00:00  \n",
              "44520          yes  2016-03-10 00:00:00  \n",
              "...            ...                  ...  \n",
              "328862          no  2016-03-20 00:00:00  \n",
              "339642         yes  2016-03-07 00:00:00  \n",
              "341320         yes  2016-03-29 00:00:00  \n",
              "346639         yes  2016-03-25 00:00:00  \n",
              "348137         yes  2016-03-16 00:00:00  \n",
              "\n",
              "[72 rows x 13 columns]"
            ],
            "text/html": [
              "\n",
              "  <div id=\"df-413efb1c-94d7-48f7-afb0-4b233e91df7f\">\n",
              "    <div class=\"colab-df-container\">\n",
              "      <div>\n",
              "<style scoped>\n",
              "    .dataframe tbody tr th:only-of-type {\n",
              "        vertical-align: middle;\n",
              "    }\n",
              "\n",
              "    .dataframe tbody tr th {\n",
              "        vertical-align: top;\n",
              "    }\n",
              "\n",
              "    .dataframe thead th {\n",
              "        text-align: right;\n",
              "    }\n",
              "</style>\n",
              "<table border=\"1\" class=\"dataframe\">\n",
              "  <thead>\n",
              "    <tr style=\"text-align: right;\">\n",
              "      <th></th>\n",
              "      <th>DateCrawled</th>\n",
              "      <th>Price</th>\n",
              "      <th>VehicleType</th>\n",
              "      <th>RegistrationYear</th>\n",
              "      <th>Gearbox</th>\n",
              "      <th>Power</th>\n",
              "      <th>Model</th>\n",
              "      <th>Kilometer</th>\n",
              "      <th>RegistrationMonth</th>\n",
              "      <th>FuelType</th>\n",
              "      <th>Brand</th>\n",
              "      <th>NotRepaired</th>\n",
              "      <th>DateCreated</th>\n",
              "    </tr>\n",
              "  </thead>\n",
              "  <tbody>\n",
              "    <tr>\n",
              "      <th>7661</th>\n",
              "      <td>2016-04-02 19:25:25</td>\n",
              "      <td>1499</td>\n",
              "      <td>small</td>\n",
              "      <td>1999</td>\n",
              "      <td>manual</td>\n",
              "      <td>7515</td>\n",
              "      <td>lupo</td>\n",
              "      <td>150000</td>\n",
              "      <td>4</td>\n",
              "      <td>petrol</td>\n",
              "      <td>volkswagen</td>\n",
              "      <td>yes</td>\n",
              "      <td>2016-04-02 00:00:00</td>\n",
              "    </tr>\n",
              "    <tr>\n",
              "      <th>11039</th>\n",
              "      <td>2016-03-25 19:55:32</td>\n",
              "      <td>0</td>\n",
              "      <td>sedan</td>\n",
              "      <td>1998</td>\n",
              "      <td>manual</td>\n",
              "      <td>10317</td>\n",
              "      <td>other</td>\n",
              "      <td>150000</td>\n",
              "      <td>8</td>\n",
              "      <td>petrol</td>\n",
              "      <td>fiat</td>\n",
              "      <td>no</td>\n",
              "      <td>2016-03-25 00:00:00</td>\n",
              "    </tr>\n",
              "    <tr>\n",
              "      <th>25232</th>\n",
              "      <td>2016-03-28 19:57:39</td>\n",
              "      <td>10900</td>\n",
              "      <td>bus</td>\n",
              "      <td>2009</td>\n",
              "      <td>manual</td>\n",
              "      <td>10520</td>\n",
              "      <td>caddy</td>\n",
              "      <td>150000</td>\n",
              "      <td>6</td>\n",
              "      <td>gasoline</td>\n",
              "      <td>volkswagen</td>\n",
              "      <td>no</td>\n",
              "      <td>2016-03-28 00:00:00</td>\n",
              "    </tr>\n",
              "    <tr>\n",
              "      <th>33952</th>\n",
              "      <td>2016-03-09 11:37:03</td>\n",
              "      <td>3740</td>\n",
              "      <td>small</td>\n",
              "      <td>2006</td>\n",
              "      <td>manual</td>\n",
              "      <td>6920</td>\n",
              "      <td>aygo</td>\n",
              "      <td>90000</td>\n",
              "      <td>10</td>\n",
              "      <td>NaN</td>\n",
              "      <td>toyota</td>\n",
              "      <td>no</td>\n",
              "      <td>2016-03-09 00:00:00</td>\n",
              "    </tr>\n",
              "    <tr>\n",
              "      <th>44520</th>\n",
              "      <td>2016-03-10 22:37:21</td>\n",
              "      <td>2500</td>\n",
              "      <td>convertible</td>\n",
              "      <td>1998</td>\n",
              "      <td>manual</td>\n",
              "      <td>7512</td>\n",
              "      <td>golf</td>\n",
              "      <td>150000</td>\n",
              "      <td>6</td>\n",
              "      <td>NaN</td>\n",
              "      <td>volkswagen</td>\n",
              "      <td>yes</td>\n",
              "      <td>2016-03-10 00:00:00</td>\n",
              "    </tr>\n",
              "    <tr>\n",
              "      <th>...</th>\n",
              "      <td>...</td>\n",
              "      <td>...</td>\n",
              "      <td>...</td>\n",
              "      <td>...</td>\n",
              "      <td>...</td>\n",
              "      <td>...</td>\n",
              "      <td>...</td>\n",
              "      <td>...</td>\n",
              "      <td>...</td>\n",
              "      <td>...</td>\n",
              "      <td>...</td>\n",
              "      <td>...</td>\n",
              "      <td>...</td>\n",
              "    </tr>\n",
              "    <tr>\n",
              "      <th>328862</th>\n",
              "      <td>2016-03-20 09:57:28</td>\n",
              "      <td>850</td>\n",
              "      <td>small</td>\n",
              "      <td>2000</td>\n",
              "      <td>manual</td>\n",
              "      <td>8500</td>\n",
              "      <td>corsa</td>\n",
              "      <td>150000</td>\n",
              "      <td>3</td>\n",
              "      <td>petrol</td>\n",
              "      <td>opel</td>\n",
              "      <td>no</td>\n",
              "      <td>2016-03-20 00:00:00</td>\n",
              "    </tr>\n",
              "    <tr>\n",
              "      <th>339642</th>\n",
              "      <td>2016-03-07 16:58:44</td>\n",
              "      <td>600</td>\n",
              "      <td>sedan</td>\n",
              "      <td>2000</td>\n",
              "      <td>manual</td>\n",
              "      <td>10110</td>\n",
              "      <td>focus</td>\n",
              "      <td>125000</td>\n",
              "      <td>12</td>\n",
              "      <td>petrol</td>\n",
              "      <td>ford</td>\n",
              "      <td>yes</td>\n",
              "      <td>2016-03-07 00:00:00</td>\n",
              "    </tr>\n",
              "    <tr>\n",
              "      <th>341320</th>\n",
              "      <td>2016-03-29 21:40:33</td>\n",
              "      <td>1899</td>\n",
              "      <td>other</td>\n",
              "      <td>2006</td>\n",
              "      <td>manual</td>\n",
              "      <td>7518</td>\n",
              "      <td>berlingo</td>\n",
              "      <td>125000</td>\n",
              "      <td>11</td>\n",
              "      <td>petrol</td>\n",
              "      <td>citroen</td>\n",
              "      <td>yes</td>\n",
              "      <td>2016-03-29 00:00:00</td>\n",
              "    </tr>\n",
              "    <tr>\n",
              "      <th>346639</th>\n",
              "      <td>2016-03-25 12:55:36</td>\n",
              "      <td>1300</td>\n",
              "      <td>sedan</td>\n",
              "      <td>2000</td>\n",
              "      <td>manual</td>\n",
              "      <td>12512</td>\n",
              "      <td>carisma</td>\n",
              "      <td>150000</td>\n",
              "      <td>9</td>\n",
              "      <td>petrol</td>\n",
              "      <td>mitsubishi</td>\n",
              "      <td>yes</td>\n",
              "      <td>2016-03-25 00:00:00</td>\n",
              "    </tr>\n",
              "    <tr>\n",
              "      <th>348137</th>\n",
              "      <td>2016-03-16 21:48:39</td>\n",
              "      <td>850</td>\n",
              "      <td>sedan</td>\n",
              "      <td>1993</td>\n",
              "      <td>auto</td>\n",
              "      <td>9012</td>\n",
              "      <td>golf</td>\n",
              "      <td>150000</td>\n",
              "      <td>0</td>\n",
              "      <td>petrol</td>\n",
              "      <td>volkswagen</td>\n",
              "      <td>yes</td>\n",
              "      <td>2016-03-16 00:00:00</td>\n",
              "    </tr>\n",
              "  </tbody>\n",
              "</table>\n",
              "<p>72 rows × 13 columns</p>\n",
              "</div>\n",
              "      <button class=\"colab-df-convert\" onclick=\"convertToInteractive('df-413efb1c-94d7-48f7-afb0-4b233e91df7f')\"\n",
              "              title=\"Convert this dataframe to an interactive table.\"\n",
              "              style=\"display:none;\">\n",
              "        \n",
              "  <svg xmlns=\"http://www.w3.org/2000/svg\" height=\"24px\"viewBox=\"0 0 24 24\"\n",
              "       width=\"24px\">\n",
              "    <path d=\"M0 0h24v24H0V0z\" fill=\"none\"/>\n",
              "    <path d=\"M18.56 5.44l.94 2.06.94-2.06 2.06-.94-2.06-.94-.94-2.06-.94 2.06-2.06.94zm-11 1L8.5 8.5l.94-2.06 2.06-.94-2.06-.94L8.5 2.5l-.94 2.06-2.06.94zm10 10l.94 2.06.94-2.06 2.06-.94-2.06-.94-.94-2.06-.94 2.06-2.06.94z\"/><path d=\"M17.41 7.96l-1.37-1.37c-.4-.4-.92-.59-1.43-.59-.52 0-1.04.2-1.43.59L10.3 9.45l-7.72 7.72c-.78.78-.78 2.05 0 2.83L4 21.41c.39.39.9.59 1.41.59.51 0 1.02-.2 1.41-.59l7.78-7.78 2.81-2.81c.8-.78.8-2.07 0-2.86zM5.41 20L4 18.59l7.72-7.72 1.47 1.35L5.41 20z\"/>\n",
              "  </svg>\n",
              "      </button>\n",
              "      \n",
              "  <style>\n",
              "    .colab-df-container {\n",
              "      display:flex;\n",
              "      flex-wrap:wrap;\n",
              "      gap: 12px;\n",
              "    }\n",
              "\n",
              "    .colab-df-convert {\n",
              "      background-color: #E8F0FE;\n",
              "      border: none;\n",
              "      border-radius: 50%;\n",
              "      cursor: pointer;\n",
              "      display: none;\n",
              "      fill: #1967D2;\n",
              "      height: 32px;\n",
              "      padding: 0 0 0 0;\n",
              "      width: 32px;\n",
              "    }\n",
              "\n",
              "    .colab-df-convert:hover {\n",
              "      background-color: #E2EBFA;\n",
              "      box-shadow: 0px 1px 2px rgba(60, 64, 67, 0.3), 0px 1px 3px 1px rgba(60, 64, 67, 0.15);\n",
              "      fill: #174EA6;\n",
              "    }\n",
              "\n",
              "    [theme=dark] .colab-df-convert {\n",
              "      background-color: #3B4455;\n",
              "      fill: #D2E3FC;\n",
              "    }\n",
              "\n",
              "    [theme=dark] .colab-df-convert:hover {\n",
              "      background-color: #434B5C;\n",
              "      box-shadow: 0px 1px 3px 1px rgba(0, 0, 0, 0.15);\n",
              "      filter: drop-shadow(0px 1px 2px rgba(0, 0, 0, 0.3));\n",
              "      fill: #FFFFFF;\n",
              "    }\n",
              "  </style>\n",
              "\n",
              "      <script>\n",
              "        const buttonEl =\n",
              "          document.querySelector('#df-413efb1c-94d7-48f7-afb0-4b233e91df7f button.colab-df-convert');\n",
              "        buttonEl.style.display =\n",
              "          google.colab.kernel.accessAllowed ? 'block' : 'none';\n",
              "\n",
              "        async function convertToInteractive(key) {\n",
              "          const element = document.querySelector('#df-413efb1c-94d7-48f7-afb0-4b233e91df7f');\n",
              "          const dataTable =\n",
              "            await google.colab.kernel.invokeFunction('convertToInteractive',\n",
              "                                                     [key], {});\n",
              "          if (!dataTable) return;\n",
              "\n",
              "          const docLinkHtml = 'Like what you see? Visit the ' +\n",
              "            '<a target=\"_blank\" href=https://colab.research.google.com/notebooks/data_table.ipynb>data table notebook</a>'\n",
              "            + ' to learn more about interactive tables.';\n",
              "          element.innerHTML = '';\n",
              "          dataTable['output_type'] = 'display_data';\n",
              "          await google.colab.output.renderOutput(dataTable, element);\n",
              "          const docLink = document.createElement('div');\n",
              "          docLink.innerHTML = docLinkHtml;\n",
              "          element.appendChild(docLink);\n",
              "        }\n",
              "      </script>\n",
              "    </div>\n",
              "  </div>\n",
              "  "
            ]
          },
          "metadata": {},
          "execution_count": 104
        }
      ],
      "source": [
        "car_frame.query('Power > 5000') "
      ]
    },
    {
      "cell_type": "code",
      "execution_count": 105,
      "metadata": {
        "id": "Bnh5-MOaDYU9"
      },
      "outputs": [],
      "source": [
        "car_frame = car_frame.query('Power < 5000')"
      ]
    },
    {
      "cell_type": "code",
      "execution_count": 106,
      "metadata": {
        "id": "74SuA0BQDYU9",
        "outputId": "7abcad46-5db4-4b5c-eb6c-3aefa4e15b22",
        "colab": {
          "base_uri": "https://localhost:8080/",
          "height": 554
        }
      },
      "outputs": [
        {
          "output_type": "execute_result",
          "data": {
            "text/plain": [
              "<matplotlib.axes._subplots.AxesSubplot at 0x7f8dd802cb10>"
            ]
          },
          "metadata": {},
          "execution_count": 106
        },
        {
          "output_type": "display_data",
          "data": {
            "text/plain": [
              "<Figure size 864x648 with 1 Axes>"
            ],
            "image/png": "[encoded data removed]"
          },
          "metadata": {
            "needs_background": "light"
          }
        }
      ],
      "source": [
        "car_frame['Power'].hist(bins=40, range=(0,500), figsize=(12,9))"
      ]
    },
    {
      "cell_type": "markdown",
      "metadata": {
        "id": "RhZ1IDhEDYU-"
      },
      "source": [
        "Построил еще раз гистограмму мощности, немного сократим размер разброса. Большинство значений лежит в пределах 300 л.с."
      ]
    },
    {
      "cell_type": "code",
      "execution_count": 107,
      "metadata": {
        "scrolled": true,
        "id": "QFPf02MqDYU-",
        "outputId": "f0e73544-7cfc-40e2-c232-01abb670c699",
        "colab": {
          "base_uri": "https://localhost:8080/"
        }
      },
      "outputs": [
        {
          "output_type": "execute_result",
          "data": {
            "text/plain": [
              "323364"
            ]
          },
          "metadata": {},
          "execution_count": 107
        }
      ],
      "source": [
        "car_frame.shape[0]"
      ]
    },
    {
      "cell_type": "markdown",
      "metadata": {
        "id": "PSApD9KbDYU-"
      },
      "source": [
        "Также обратим внимание, что в данных в столбце \"RegistrationMonth\" есть значение 0. Хоть данный столбец и не обязателен для модели, избавимся от 0 и заполним его любым значением, выберем июнь"
      ]
    },
    {
      "cell_type": "code",
      "execution_count": 108,
      "metadata": {
        "id": "fyIxNpJBDYU_"
      },
      "outputs": [],
      "source": [
        "car_frame.loc[car_frame['RegistrationMonth'] == 0, 'RegistrationMonth'] = 6"
      ]
    },
    {
      "cell_type": "code",
      "execution_count": 109,
      "metadata": {
        "scrolled": true,
        "id": "g96KByYqDYU_",
        "outputId": "df9114eb-ebd5-41a2-b50b-fc0f89704ccb",
        "colab": {
          "base_uri": "https://localhost:8080/"
        }
      },
      "outputs": [
        {
          "output_type": "stream",
          "name": "stdout",
          "text": [
            "                   missing_values  % of total\n",
            "FuelType                    15639        0.05\n",
            "VehicleType                 11319        0.04\n",
            "Model                       11149        0.03\n",
            "DateCrawled                     0        0.00\n",
            "Price                           0        0.00\n",
            "RegistrationYear                0        0.00\n",
            "Gearbox                         0        0.00\n",
            "Power                           0        0.00\n",
            "Kilometer                       0        0.00\n",
            "RegistrationMonth               0        0.00\n",
            "Brand                           0        0.00\n",
            "NotRepaired                     0        0.00\n",
            "DateCreated                     0        0.00\n"
          ]
        }
      ],
      "source": [
        "report = car_frame.isna().sum().to_frame()\n",
        "report = report.rename(columns={0: 'missing_values'})\n",
        "report['% of total'] = (report['missing_values'] /car_frame.shape[0]).round(2)\n",
        "print (report.sort_values(by='missing_values', ascending=False))"
      ]
    },
    {
      "cell_type": "markdown",
      "metadata": {
        "id": "_lo8UFADDYVA"
      },
      "source": [
        "### VehicleType, FuelType, Model"
      ]
    },
    {
      "cell_type": "markdown",
      "metadata": {
        "id": "48Wa5zNaDYVA"
      },
      "source": [
        "Рассмотрим столбец \"VehicleType\" (тип автомобильного кузова)"
      ]
    },
    {
      "cell_type": "code",
      "execution_count": 110,
      "metadata": {
        "id": "qTZYu5cPDYVA",
        "outputId": "0c7cae7c-f040-493d-b22f-f6233252b42c",
        "colab": {
          "base_uri": "https://localhost:8080/"
        }
      },
      "outputs": [
        {
          "output_type": "execute_result",
          "data": {
            "text/plain": [
              "sedan          90231\n",
              "small          78523\n",
              "wagon          64379\n",
              "bus            28427\n",
              "convertible    19863\n",
              "coupe          15805\n",
              "suv            11781\n",
              "other           3036\n",
              "Name: VehicleType, dtype: int64"
            ]
          },
          "metadata": {},
          "execution_count": 110
        }
      ],
      "source": [
        "car_frame['VehicleType'].value_counts()"
      ]
    },
    {
      "cell_type": "code",
      "execution_count": 111,
      "metadata": {
        "id": "rbRMWpqNDYVA",
        "outputId": "8ad3f4ae-7983-425a-e918-11656d4934a9",
        "colab": {
          "base_uri": "https://localhost:8080/",
          "height": 596
        }
      },
      "outputs": [
        {
          "output_type": "display_data",
          "data": {
            "text/plain": [
              "<Figure size 720x720 with 1 Axes>"
            ],
            "image/png": "[encoded data removed]"
          },
          "metadata": {}
        }
      ],
      "source": [
        "count_vehicle = car_frame.groupby('VehicleType')['VehicleType'].count()\n",
        "vehicle_name = count_vehicle.index\n",
        "plt.figure(figsize=(10,10))\n",
        "plt.pie(x = count_vehicle, labels=vehicle_name, autopct=\"%.2f\")\n",
        "plt.title('Распределение машин по типу кузова', fontsize=20)\n",
        "plt.show()"
      ]
    },
    {
      "cell_type": "code",
      "execution_count": 112,
      "metadata": {
        "id": "8E2WTyetDYVB"
      },
      "outputs": [],
      "source": [
        "car_frame.fillna({'VehicleType':'other'}, inplace=True)"
      ]
    },
    {
      "cell_type": "markdown",
      "metadata": {
        "id": "HnRfwnBBDYVB"
      },
      "source": [
        "Мы видим, что у нас есть машины с типом кузова \"other\". Присвоим всем Nan данный тип кузова. Таким же образом поступим с Типом двигателя и моделью"
      ]
    },
    {
      "cell_type": "code",
      "execution_count": 113,
      "metadata": {
        "id": "jv6DARwcDYVB",
        "outputId": "2c43f0f0-af1c-4a03-853f-9dc773e24353",
        "colab": {
          "base_uri": "https://localhost:8080/"
        }
      },
      "outputs": [
        {
          "output_type": "execute_result",
          "data": {
            "text/plain": [
              "petrol      206347\n",
              "gasoline     95305\n",
              "lpg           5096\n",
              "cng            535\n",
              "hybrid         220\n",
              "other          137\n",
              "electric        85\n",
              "Name: FuelType, dtype: int64"
            ]
          },
          "metadata": {},
          "execution_count": 113
        }
      ],
      "source": [
        "car_frame['FuelType'].value_counts()"
      ]
    },
    {
      "cell_type": "code",
      "execution_count": 114,
      "metadata": {
        "id": "YE_aqT1KDYVB"
      },
      "outputs": [],
      "source": [
        "car_frame.fillna({'FuelType':'other'}, inplace=True)"
      ]
    },
    {
      "cell_type": "code",
      "execution_count": 115,
      "metadata": {
        "id": "FMNHvO0lDYVC",
        "outputId": "3f9a9e75-bceb-475b-842c-fbcbe29fa0cd",
        "colab": {
          "base_uri": "https://localhost:8080/"
        }
      },
      "outputs": [
        {
          "output_type": "execute_result",
          "data": {
            "text/plain": [
              "petrol      206347\n",
              "gasoline     95305\n",
              "other        15776\n",
              "lpg           5096\n",
              "cng            535\n",
              "hybrid         220\n",
              "electric        85\n",
              "Name: FuelType, dtype: int64"
            ]
          },
          "metadata": {},
          "execution_count": 115
        }
      ],
      "source": [
        "car_frame['FuelType'].value_counts()"
      ]
    },
    {
      "cell_type": "code",
      "execution_count": 116,
      "metadata": {
        "id": "YEZQdapIDYVC"
      },
      "outputs": [],
      "source": [
        "car_frame.fillna({'Model':'unknown'}, inplace=True)"
      ]
    },
    {
      "cell_type": "markdown",
      "metadata": {
        "id": "x0h9CLCUDYVC"
      },
      "source": [
        "В столбце \"Model\" (модели машин) заменим пропуски на unknown"
      ]
    },
    {
      "cell_type": "markdown",
      "metadata": {
        "id": "r5abWRIMDYVC"
      },
      "source": [
        "Удалим столбцы \"DateCrawled\" , \"DateCreated\", они больше нам не понадобятся"
      ]
    },
    {
      "cell_type": "code",
      "execution_count": 117,
      "metadata": {
        "id": "JPe7zY7dDYVC"
      },
      "outputs": [],
      "source": [
        "car_frame = car_frame.drop([\"DateCrawled\",\"DateCreated\"], axis=1)"
      ]
    },
    {
      "cell_type": "markdown",
      "metadata": {
        "id": "HEY_bR9dDYVD"
      },
      "source": [
        "Также создадим матрицу корреляций, проверим нет ли прямой зависимости между числовыми данными в столбцах \"Price\",\"Power\",\"Kilometer\"."
      ]
    },
    {
      "cell_type": "code",
      "execution_count": 118,
      "metadata": {
        "scrolled": true,
        "id": "Jzt-Osc_DYVD",
        "outputId": "25b22e1f-32db-4251-b941-7fd1e5c26a99",
        "colab": {
          "base_uri": "https://localhost:8080/",
          "height": 1000
        }
      },
      "outputs": [
        {
          "output_type": "display_data",
          "data": {
            "text/plain": [
              "<Figure size 1600x1600 with 2 Axes>"
            ],
            "image/png": "[encoded data removed]"
          },
          "metadata": {
            "needs_background": "light"
          }
        }
      ],
      "source": [
        "plt.figure(figsize=(20,20), dpi=80)\n",
        "sns.heatmap(\n",
        "    car_frame[['Price','Power','Kilometer']].corr(),\n",
        "    xticklabels = car_frame[['Price','Power','Kilometer']].corr().columns, \n",
        "    yticklabels = car_frame[['Price','Power','Kilometer']].corr().columns, \n",
        "    cmap='RdYlGn', center = 0, annot=True)\n",
        "\n",
        "plt.title('Корреляция оценки пользователей и критиков', fontsize=15)\n",
        "plt.xticks(fontsize=10)\n",
        "plt.yticks(fontsize=10)\n",
        "plt.show()"
      ]
    },
    {
      "cell_type": "markdown",
      "metadata": {
        "id": "pS4xqchfDYVD"
      },
      "source": [
        "Сильной корреляции между данными нет"
      ]
    },
    {
      "cell_type": "markdown",
      "metadata": {
        "id": "LFdroCsGDYVD"
      },
      "source": [
        "Уменьшим размерность хранения типа для ускорения работы с дата фреймом"
      ]
    },
    {
      "cell_type": "code",
      "execution_count": 119,
      "metadata": {
        "id": "I5EseNkLDYVD",
        "outputId": "e7584666-86bc-4d4a-df5d-8d485dafabfe",
        "colab": {
          "base_uri": "https://localhost:8080/"
        }
      },
      "outputs": [
        {
          "output_type": "stream",
          "name": "stdout",
          "text": [
            "<class 'pandas.core.frame.DataFrame'>\n",
            "Int64Index: 323364 entries, 0 to 354368\n",
            "Data columns (total 11 columns):\n",
            " #   Column             Non-Null Count   Dtype \n",
            "---  ------             --------------   ----- \n",
            " 0   Price              323364 non-null  int16 \n",
            " 1   VehicleType        323364 non-null  object\n",
            " 2   RegistrationYear   323364 non-null  int16 \n",
            " 3   Gearbox            323364 non-null  object\n",
            " 4   Power              323364 non-null  int16 \n",
            " 5   Model              323364 non-null  object\n",
            " 6   Kilometer          323364 non-null  int32 \n",
            " 7   RegistrationMonth  323364 non-null  int64 \n",
            " 8   FuelType           323364 non-null  object\n",
            " 9   Brand              323364 non-null  object\n",
            " 10  NotRepaired        323364 non-null  object\n",
            "dtypes: int16(3), int32(1), int64(1), object(6)\n",
            "memory usage: 22.8+ MB\n"
          ]
        }
      ],
      "source": [
        "car_frame['RegistrationYear'] = pd.to_numeric(car_frame['RegistrationYear'], downcast='integer')\n",
        "car_frame['Power'] = pd.to_numeric(car_frame['Power'], downcast='integer')\n",
        "car_frame['Kilometer'] = pd.to_numeric(car_frame['Kilometer'], downcast='integer')\n",
        "car_frame['Price'] = pd.to_numeric(car_frame['Price'], downcast='integer')\n",
        "car_frame.info()"
      ]
    },
    {
      "cell_type": "markdown",
      "metadata": {
        "id": "apE_UzO6DYVE"
      },
      "source": [
        "Один из категориальных столбцов вручную переведем в количественный. Если машина ремонтировалась, то тогда будет указан 0, если не ремонтировалась - то 1"
      ]
    },
    {
      "cell_type": "code",
      "execution_count": 120,
      "metadata": {
        "id": "heVU0ZYCDYVE"
      },
      "outputs": [],
      "source": [
        "car_frame['NotRepaired'] = pd.Series(np.where(car_frame['NotRepaired'].values == 'yes', 1, 0),car_frame.index)"
      ]
    },
    {
      "cell_type": "markdown",
      "metadata": {
        "id": "4IXXy-Q4DYVE"
      },
      "source": [
        "Выведем окончательную информацию о данных после всех исправлений "
      ]
    },
    {
      "cell_type": "code",
      "execution_count": 121,
      "metadata": {
        "id": "Huy-OX_iDYVE",
        "outputId": "9edc3537-35b3-46d5-9ff7-e32997d74460",
        "colab": {
          "base_uri": "https://localhost:8080/"
        }
      },
      "outputs": [
        {
          "output_type": "stream",
          "name": "stdout",
          "text": [
            "<class 'pandas.core.frame.DataFrame'>\n",
            "Int64Index: 323364 entries, 0 to 354368\n",
            "Data columns (total 11 columns):\n",
            " #   Column             Non-Null Count   Dtype \n",
            "---  ------             --------------   ----- \n",
            " 0   Price              323364 non-null  int16 \n",
            " 1   VehicleType        323364 non-null  object\n",
            " 2   RegistrationYear   323364 non-null  int16 \n",
            " 3   Gearbox            323364 non-null  object\n",
            " 4   Power              323364 non-null  int16 \n",
            " 5   Model              323364 non-null  object\n",
            " 6   Kilometer          323364 non-null  int32 \n",
            " 7   RegistrationMonth  323364 non-null  int64 \n",
            " 8   FuelType           323364 non-null  object\n",
            " 9   Brand              323364 non-null  object\n",
            " 10  NotRepaired        323364 non-null  int64 \n",
            "dtypes: int16(3), int32(1), int64(2), object(5)\n",
            "memory usage: 22.8+ MB\n"
          ]
        }
      ],
      "source": [
        "car_frame.info()"
      ]
    },
    {
      "cell_type": "code",
      "execution_count": 122,
      "metadata": {
        "id": "xjqWw17cDYVF",
        "outputId": "9d737f61-633e-451a-9170-75fff208c500",
        "colab": {
          "base_uri": "https://localhost:8080/",
          "height": 424
        }
      },
      "outputs": [
        {
          "output_type": "execute_result",
          "data": {
            "text/plain": [
              "        Price  VehicleType  RegistrationYear Gearbox  Power        Model  \\\n",
              "0         480        other              1993  manual      0         golf   \n",
              "1       18300        coupe              2011  manual    190      unknown   \n",
              "2        9800          suv              2004    auto    163        grand   \n",
              "3        1500        small              2001  manual     75         golf   \n",
              "4        3600        small              2008  manual     69        fabia   \n",
              "...       ...          ...               ...     ...    ...          ...   \n",
              "354362   3200        sedan              2004  manual    225         leon   \n",
              "354363   1150          bus              2000  manual      0       zafira   \n",
              "354366   1199  convertible              2000    auto    101       fortwo   \n",
              "354367   9200          bus              1996  manual    102  transporter   \n",
              "354368   3400        wagon              2002  manual    100         golf   \n",
              "\n",
              "        Kilometer  RegistrationMonth  FuelType       Brand  NotRepaired  \n",
              "0          150000                  6    petrol  volkswagen            1  \n",
              "1          125000                  5  gasoline        audi            1  \n",
              "2          125000                  8  gasoline        jeep            1  \n",
              "3          150000                  6    petrol  volkswagen            0  \n",
              "4           90000                  7  gasoline       skoda            0  \n",
              "...           ...                ...       ...         ...          ...  \n",
              "354362     150000                  5    petrol        seat            1  \n",
              "354363     150000                  3    petrol        opel            0  \n",
              "354366     125000                  3    petrol       smart            0  \n",
              "354367     150000                  3  gasoline  volkswagen            0  \n",
              "354368     150000                  6  gasoline  volkswagen            1  \n",
              "\n",
              "[323364 rows x 11 columns]"
            ],
            "text/html": [
              "\n",
              "  <div id=\"df-b78c9d73-71fe-4e6a-8994-39af9c991d84\">\n",
              "    <div class=\"colab-df-container\">\n",
              "      <div>\n",
              "<style scoped>\n",
              "    .dataframe tbody tr th:only-of-type {\n",
              "        vertical-align: middle;\n",
              "    }\n",
              "\n",
              "    .dataframe tbody tr th {\n",
              "        vertical-align: top;\n",
              "    }\n",
              "\n",
              "    .dataframe thead th {\n",
              "        text-align: right;\n",
              "    }\n",
              "</style>\n",
              "<table border=\"1\" class=\"dataframe\">\n",
              "  <thead>\n",
              "    <tr style=\"text-align: right;\">\n",
              "      <th></th>\n",
              "      <th>Price</th>\n",
              "      <th>VehicleType</th>\n",
              "      <th>RegistrationYear</th>\n",
              "      <th>Gearbox</th>\n",
              "      <th>Power</th>\n",
              "      <th>Model</th>\n",
              "      <th>Kilometer</th>\n",
              "      <th>RegistrationMonth</th>\n",
              "      <th>FuelType</th>\n",
              "      <th>Brand</th>\n",
              "      <th>NotRepaired</th>\n",
              "    </tr>\n",
              "  </thead>\n",
              "  <tbody>\n",
              "    <tr>\n",
              "      <th>0</th>\n",
              "      <td>480</td>\n",
              "      <td>other</td>\n",
              "      <td>1993</td>\n",
              "      <td>manual</td>\n",
              "      <td>0</td>\n",
              "      <td>golf</td>\n",
              "      <td>150000</td>\n",
              "      <td>6</td>\n",
              "      <td>petrol</td>\n",
              "      <td>volkswagen</td>\n",
              "      <td>1</td>\n",
              "    </tr>\n",
              "    <tr>\n",
              "      <th>1</th>\n",
              "      <td>18300</td>\n",
              "      <td>coupe</td>\n",
              "      <td>2011</td>\n",
              "      <td>manual</td>\n",
              "      <td>190</td>\n",
              "      <td>unknown</td>\n",
              "      <td>125000</td>\n",
              "      <td>5</td>\n",
              "      <td>gasoline</td>\n",
              "      <td>audi</td>\n",
              "      <td>1</td>\n",
              "    </tr>\n",
              "    <tr>\n",
              "      <th>2</th>\n",
              "      <td>9800</td>\n",
              "      <td>suv</td>\n",
              "      <td>2004</td>\n",
              "      <td>auto</td>\n",
              "      <td>163</td>\n",
              "      <td>grand</td>\n",
              "      <td>125000</td>\n",
              "      <td>8</td>\n",
              "      <td>gasoline</td>\n",
              "      <td>jeep</td>\n",
              "      <td>1</td>\n",
              "    </tr>\n",
              "    <tr>\n",
              "      <th>3</th>\n",
              "      <td>1500</td>\n",
              "      <td>small</td>\n",
              "      <td>2001</td>\n",
              "      <td>manual</td>\n",
              "      <td>75</td>\n",
              "      <td>golf</td>\n",
              "      <td>150000</td>\n",
              "      <td>6</td>\n",
              "      <td>petrol</td>\n",
              "      <td>volkswagen</td>\n",
              "      <td>0</td>\n",
              "    </tr>\n",
              "    <tr>\n",
              "      <th>4</th>\n",
              "      <td>3600</td>\n",
              "      <td>small</td>\n",
              "      <td>2008</td>\n",
              "      <td>manual</td>\n",
              "      <td>69</td>\n",
              "      <td>fabia</td>\n",
              "      <td>90000</td>\n",
              "      <td>7</td>\n",
              "      <td>gasoline</td>\n",
              "      <td>skoda</td>\n",
              "      <td>0</td>\n",
              "    </tr>\n",
              "    <tr>\n",
              "      <th>...</th>\n",
              "      <td>...</td>\n",
              "      <td>...</td>\n",
              "      <td>...</td>\n",
              "      <td>...</td>\n",
              "      <td>...</td>\n",
              "      <td>...</td>\n",
              "      <td>...</td>\n",
              "      <td>...</td>\n",
              "      <td>...</td>\n",
              "      <td>...</td>\n",
              "      <td>...</td>\n",
              "    </tr>\n",
              "    <tr>\n",
              "      <th>354362</th>\n",
              "      <td>3200</td>\n",
              "      <td>sedan</td>\n",
              "      <td>2004</td>\n",
              "      <td>manual</td>\n",
              "      <td>225</td>\n",
              "      <td>leon</td>\n",
              "      <td>150000</td>\n",
              "      <td>5</td>\n",
              "      <td>petrol</td>\n",
              "      <td>seat</td>\n",
              "      <td>1</td>\n",
              "    </tr>\n",
              "    <tr>\n",
              "      <th>354363</th>\n",
              "      <td>1150</td>\n",
              "      <td>bus</td>\n",
              "      <td>2000</td>\n",
              "      <td>manual</td>\n",
              "      <td>0</td>\n",
              "      <td>zafira</td>\n",
              "      <td>150000</td>\n",
              "      <td>3</td>\n",
              "      <td>petrol</td>\n",
              "      <td>opel</td>\n",
              "      <td>0</td>\n",
              "    </tr>\n",
              "    <tr>\n",
              "      <th>354366</th>\n",
              "      <td>1199</td>\n",
              "      <td>convertible</td>\n",
              "      <td>2000</td>\n",
              "      <td>auto</td>\n",
              "      <td>101</td>\n",
              "      <td>fortwo</td>\n",
              "      <td>125000</td>\n",
              "      <td>3</td>\n",
              "      <td>petrol</td>\n",
              "      <td>smart</td>\n",
              "      <td>0</td>\n",
              "    </tr>\n",
              "    <tr>\n",
              "      <th>354367</th>\n",
              "      <td>9200</td>\n",
              "      <td>bus</td>\n",
              "      <td>1996</td>\n",
              "      <td>manual</td>\n",
              "      <td>102</td>\n",
              "      <td>transporter</td>\n",
              "      <td>150000</td>\n",
              "      <td>3</td>\n",
              "      <td>gasoline</td>\n",
              "      <td>volkswagen</td>\n",
              "      <td>0</td>\n",
              "    </tr>\n",
              "    <tr>\n",
              "      <th>354368</th>\n",
              "      <td>3400</td>\n",
              "      <td>wagon</td>\n",
              "      <td>2002</td>\n",
              "      <td>manual</td>\n",
              "      <td>100</td>\n",
              "      <td>golf</td>\n",
              "      <td>150000</td>\n",
              "      <td>6</td>\n",
              "      <td>gasoline</td>\n",
              "      <td>volkswagen</td>\n",
              "      <td>1</td>\n",
              "    </tr>\n",
              "  </tbody>\n",
              "</table>\n",
              "<p>323364 rows × 11 columns</p>\n",
              "</div>\n",
              "      <button class=\"colab-df-convert\" onclick=\"convertToInteractive('df-b78c9d73-71fe-4e6a-8994-39af9c991d84')\"\n",
              "              title=\"Convert this dataframe to an interactive table.\"\n",
              "              style=\"display:none;\">\n",
              "        \n",
              "  <svg xmlns=\"http://www.w3.org/2000/svg\" height=\"24px\"viewBox=\"0 0 24 24\"\n",
              "       width=\"24px\">\n",
              "    <path d=\"M0 0h24v24H0V0z\" fill=\"none\"/>\n",
              "    <path d=\"M18.56 5.44l.94 2.06.94-2.06 2.06-.94-2.06-.94-.94-2.06-.94 2.06-2.06.94zm-11 1L8.5 8.5l.94-2.06 2.06-.94-2.06-.94L8.5 2.5l-.94 2.06-2.06.94zm10 10l.94 2.06.94-2.06 2.06-.94-2.06-.94-.94-2.06-.94 2.06-2.06.94z\"/><path d=\"M17.41 7.96l-1.37-1.37c-.4-.4-.92-.59-1.43-.59-.52 0-1.04.2-1.43.59L10.3 9.45l-7.72 7.72c-.78.78-.78 2.05 0 2.83L4 21.41c.39.39.9.59 1.41.59.51 0 1.02-.2 1.41-.59l7.78-7.78 2.81-2.81c.8-.78.8-2.07 0-2.86zM5.41 20L4 18.59l7.72-7.72 1.47 1.35L5.41 20z\"/>\n",
              "  </svg>\n",
              "      </button>\n",
              "      \n",
              "  <style>\n",
              "    .colab-df-container {\n",
              "      display:flex;\n",
              "      flex-wrap:wrap;\n",
              "      gap: 12px;\n",
              "    }\n",
              "\n",
              "    .colab-df-convert {\n",
              "      background-color: #E8F0FE;\n",
              "      border: none;\n",
              "      border-radius: 50%;\n",
              "      cursor: pointer;\n",
              "      display: none;\n",
              "      fill: #1967D2;\n",
              "      height: 32px;\n",
              "      padding: 0 0 0 0;\n",
              "      width: 32px;\n",
              "    }\n",
              "\n",
              "    .colab-df-convert:hover {\n",
              "      background-color: #E2EBFA;\n",
              "      box-shadow: 0px 1px 2px rgba(60, 64, 67, 0.3), 0px 1px 3px 1px rgba(60, 64, 67, 0.15);\n",
              "      fill: #174EA6;\n",
              "    }\n",
              "\n",
              "    [theme=dark] .colab-df-convert {\n",
              "      background-color: #3B4455;\n",
              "      fill: #D2E3FC;\n",
              "    }\n",
              "\n",
              "    [theme=dark] .colab-df-convert:hover {\n",
              "      background-color: #434B5C;\n",
              "      box-shadow: 0px 1px 3px 1px rgba(0, 0, 0, 0.15);\n",
              "      filter: drop-shadow(0px 1px 2px rgba(0, 0, 0, 0.3));\n",
              "      fill: #FFFFFF;\n",
              "    }\n",
              "  </style>\n",
              "\n",
              "      <script>\n",
              "        const buttonEl =\n",
              "          document.querySelector('#df-b78c9d73-71fe-4e6a-8994-39af9c991d84 button.colab-df-convert');\n",
              "        buttonEl.style.display =\n",
              "          google.colab.kernel.accessAllowed ? 'block' : 'none';\n",
              "\n",
              "        async function convertToInteractive(key) {\n",
              "          const element = document.querySelector('#df-b78c9d73-71fe-4e6a-8994-39af9c991d84');\n",
              "          const dataTable =\n",
              "            await google.colab.kernel.invokeFunction('convertToInteractive',\n",
              "                                                     [key], {});\n",
              "          if (!dataTable) return;\n",
              "\n",
              "          const docLinkHtml = 'Like what you see? Visit the ' +\n",
              "            '<a target=\"_blank\" href=https://colab.research.google.com/notebooks/data_table.ipynb>data table notebook</a>'\n",
              "            + ' to learn more about interactive tables.';\n",
              "          element.innerHTML = '';\n",
              "          dataTable['output_type'] = 'display_data';\n",
              "          await google.colab.output.renderOutput(dataTable, element);\n",
              "          const docLink = document.createElement('div');\n",
              "          docLink.innerHTML = docLinkHtml;\n",
              "          element.appendChild(docLink);\n",
              "        }\n",
              "      </script>\n",
              "    </div>\n",
              "  </div>\n",
              "  "
            ]
          },
          "metadata": {},
          "execution_count": 122
        }
      ],
      "source": [
        "car_frame"
      ]
    },
    {
      "cell_type": "markdown",
      "metadata": {
        "id": "AF4WmkbnDYVF"
      },
      "source": [
        "### Вывод по первой главе"
      ]
    },
    {
      "cell_type": "markdown",
      "metadata": {
        "id": "28SfcTbsDYVF"
      },
      "source": [
        "В данной главе были проделаны следующие шаги:\n",
        " 1) данные загружены, проверены столбцы, проверено количество пропусков \n",
        " \n",
        " 2) мы обратили внимание на каждый столбец, описали по каким параметрам будем заполнять пропущенные данные\n",
        " \n",
        " 3) используя количественные признаки, мы \"отсекли\" те данные, которые попадали под категорию \"выбросы\". Под данные категории попали: цена машин и их мощность, значение которых одновременно равно 0, год регистрации машин, который был после даты последнего скачивания анкеты, машины с мощностью, которая больше 5000 л.с. В целом направления для зполнения было выбрано следующим образом: вместо простого удаления данных мы в первую очередь попытались найти те анкеты, данные которых были далеко за \"гранью реальности\". Очень часто, в анкетах с \"неправильными\" количественными данными, встречались пропуски в категориальных данных.\n",
        "\n",
        " 4) проверили на наличие корреальности в количественых данных\n",
        " \n",
        " 5) Уменьшили размерность хранения типа для ускорения работы (до этого проект зависал при обучении моделей)\n",
        " \n",
        " 6) Закодировали столбец 'NotRepaired'\n"
      ]
    },
    {
      "cell_type": "markdown",
      "metadata": {
        "id": "tIh8L1k6DYVF"
      },
      "source": [
        "## Обучение моделей"
      ]
    },
    {
      "cell_type": "markdown",
      "metadata": {
        "id": "v2O9lYWJDYVF"
      },
      "source": [
        "Сделаем копию для нашего дата фрейма: в одной закодируем все категориальные фичи, в другой оставим все как есть. Делаем это для того, чтобы проверить, как будет реагировать Catboost на разную подачу данных. Разобьем обе наших выборки на фичи и таргет(в нашем задании таргетом является цена), после разобьем на тренировочную и тестовую выборки, выведем количество строк в каждой выборке"
      ]
    },
    {
      "cell_type": "code",
      "execution_count": 123,
      "metadata": {
        "id": "dKGPNDNtDYVG"
      },
      "outputs": [],
      "source": [
        "car_frame_ohe_out = car_frame.copy()\n",
        "target_out = car_frame_ohe_out['Price']\n",
        "features_out = car_frame_ohe_out.drop(['Price'], axis=1)"
      ]
    },
    {
      "cell_type": "code",
      "execution_count": 124,
      "metadata": {
        "scrolled": true,
        "id": "BR1xNmzEDYVG"
      },
      "outputs": [],
      "source": [
        "encoder = OrdinalEncoder()\n",
        "features = car_frame.drop(['Price'],axis=1)\n",
        "column_encoder = ['VehicleType','FuelType','Gearbox', 'Brand','Model']\n",
        "features_encoder = features[column_encoder]"
      ]
    },
    {
      "cell_type": "markdown",
      "metadata": {
        "id": "jPD3s8VoDYVG"
      },
      "source": [
        "Используем OrdinalEncoder() для порядкового кодирования категориальных признаков. Для начала определим столбцы с  категориальными признаками. После создадим датафрейм и преобразуем его значения при помощи OrdinalEncoder().  "
      ]
    },
    {
      "cell_type": "code",
      "execution_count": 125,
      "metadata": {
        "id": "Y4JR4k4PDYVG"
      },
      "outputs": [],
      "source": [
        "features_encoder = pd.DataFrame(\n",
        "    encoder.fit_transform(features_encoder), columns=features_encoder.columns, \n",
        "    index = features_encoder.index\n",
        "    )\n",
        "\n",
        "for column in column_encoder:\n",
        "    features[column] = features_encoder[column]\n",
        "target = car_frame['Price']\n"
      ]
    },
    {
      "cell_type": "code",
      "execution_count": 126,
      "metadata": {
        "id": "Cki2GOr0DYVH",
        "outputId": "7a2d9323-2c7a-4553-84a6-28424c14e9af",
        "colab": {
          "base_uri": "https://localhost:8080/",
          "height": 424
        }
      },
      "outputs": [
        {
          "output_type": "execute_result",
          "data": {
            "text/plain": [
              "        VehicleType  RegistrationYear  Gearbox  Power  Model  Kilometer  \\\n",
              "0               3.0              1993      1.0      0  116.0     150000   \n",
              "1               2.0              2011      1.0    190  228.0     125000   \n",
              "2               6.0              2004      0.0    163  117.0     125000   \n",
              "3               5.0              2001      1.0     75  116.0     150000   \n",
              "4               5.0              2008      1.0     69  101.0      90000   \n",
              "...             ...               ...      ...    ...    ...        ...   \n",
              "354362          4.0              2004      1.0    225  140.0     150000   \n",
              "354363          0.0              2000      1.0      0  250.0     150000   \n",
              "354366          1.0              2000      0.0    101  106.0     125000   \n",
              "354367          0.0              1996      1.0    102  224.0     150000   \n",
              "354368          7.0              2002      1.0    100  116.0     150000   \n",
              "\n",
              "        RegistrationMonth  FuelType  Brand  NotRepaired  \n",
              "0                       6       6.0   38.0            1  \n",
              "1                       5       2.0    1.0            1  \n",
              "2                       8       2.0   14.0            1  \n",
              "3                       6       6.0   38.0            0  \n",
              "4                       7       2.0   31.0            0  \n",
              "...                   ...       ...    ...          ...  \n",
              "354362                  5       6.0   30.0            1  \n",
              "354363                  3       6.0   24.0            0  \n",
              "354366                  3       6.0   32.0            0  \n",
              "354367                  3       2.0   38.0            0  \n",
              "354368                  6       2.0   38.0            1  \n",
              "\n",
              "[323364 rows x 10 columns]"
            ],
            "text/html": [
              "\n",
              "  <div id=\"df-5487df60-0492-4339-9e08-7acb249a7d2d\">\n",
              "    <div class=\"colab-df-container\">\n",
              "      <div>\n",
              "<style scoped>\n",
              "    .dataframe tbody tr th:only-of-type {\n",
              "        vertical-align: middle;\n",
              "    }\n",
              "\n",
              "    .dataframe tbody tr th {\n",
              "        vertical-align: top;\n",
              "    }\n",
              "\n",
              "    .dataframe thead th {\n",
              "        text-align: right;\n",
              "    }\n",
              "</style>\n",
              "<table border=\"1\" class=\"dataframe\">\n",
              "  <thead>\n",
              "    <tr style=\"text-align: right;\">\n",
              "      <th></th>\n",
              "      <th>VehicleType</th>\n",
              "      <th>RegistrationYear</th>\n",
              "      <th>Gearbox</th>\n",
              "      <th>Power</th>\n",
              "      <th>Model</th>\n",
              "      <th>Kilometer</th>\n",
              "      <th>RegistrationMonth</th>\n",
              "      <th>FuelType</th>\n",
              "      <th>Brand</th>\n",
              "      <th>NotRepaired</th>\n",
              "    </tr>\n",
              "  </thead>\n",
              "  <tbody>\n",
              "    <tr>\n",
              "      <th>0</th>\n",
              "      <td>3.0</td>\n",
              "      <td>1993</td>\n",
              "      <td>1.0</td>\n",
              "      <td>0</td>\n",
              "      <td>116.0</td>\n",
              "      <td>150000</td>\n",
              "      <td>6</td>\n",
              "      <td>6.0</td>\n",
              "      <td>38.0</td>\n",
              "      <td>1</td>\n",
              "    </tr>\n",
              "    <tr>\n",
              "      <th>1</th>\n",
              "      <td>2.0</td>\n",
              "      <td>2011</td>\n",
              "      <td>1.0</td>\n",
              "      <td>190</td>\n",
              "      <td>228.0</td>\n",
              "      <td>125000</td>\n",
              "      <td>5</td>\n",
              "      <td>2.0</td>\n",
              "      <td>1.0</td>\n",
              "      <td>1</td>\n",
              "    </tr>\n",
              "    <tr>\n",
              "      <th>2</th>\n",
              "      <td>6.0</td>\n",
              "      <td>2004</td>\n",
              "      <td>0.0</td>\n",
              "      <td>163</td>\n",
              "      <td>117.0</td>\n",
              "      <td>125000</td>\n",
              "      <td>8</td>\n",
              "      <td>2.0</td>\n",
              "      <td>14.0</td>\n",
              "      <td>1</td>\n",
              "    </tr>\n",
              "    <tr>\n",
              "      <th>3</th>\n",
              "      <td>5.0</td>\n",
              "      <td>2001</td>\n",
              "      <td>1.0</td>\n",
              "      <td>75</td>\n",
              "      <td>116.0</td>\n",
              "      <td>150000</td>\n",
              "      <td>6</td>\n",
              "      <td>6.0</td>\n",
              "      <td>38.0</td>\n",
              "      <td>0</td>\n",
              "    </tr>\n",
              "    <tr>\n",
              "      <th>4</th>\n",
              "      <td>5.0</td>\n",
              "      <td>2008</td>\n",
              "      <td>1.0</td>\n",
              "      <td>69</td>\n",
              "      <td>101.0</td>\n",
              "      <td>90000</td>\n",
              "      <td>7</td>\n",
              "      <td>2.0</td>\n",
              "      <td>31.0</td>\n",
              "      <td>0</td>\n",
              "    </tr>\n",
              "    <tr>\n",
              "      <th>...</th>\n",
              "      <td>...</td>\n",
              "      <td>...</td>\n",
              "      <td>...</td>\n",
              "      <td>...</td>\n",
              "      <td>...</td>\n",
              "      <td>...</td>\n",
              "      <td>...</td>\n",
              "      <td>...</td>\n",
              "      <td>...</td>\n",
              "      <td>...</td>\n",
              "    </tr>\n",
              "    <tr>\n",
              "      <th>354362</th>\n",
              "      <td>4.0</td>\n",
              "      <td>2004</td>\n",
              "      <td>1.0</td>\n",
              "      <td>225</td>\n",
              "      <td>140.0</td>\n",
              "      <td>150000</td>\n",
              "      <td>5</td>\n",
              "      <td>6.0</td>\n",
              "      <td>30.0</td>\n",
              "      <td>1</td>\n",
              "    </tr>\n",
              "    <tr>\n",
              "      <th>354363</th>\n",
              "      <td>0.0</td>\n",
              "      <td>2000</td>\n",
              "      <td>1.0</td>\n",
              "      <td>0</td>\n",
              "      <td>250.0</td>\n",
              "      <td>150000</td>\n",
              "      <td>3</td>\n",
              "      <td>6.0</td>\n",
              "      <td>24.0</td>\n",
              "      <td>0</td>\n",
              "    </tr>\n",
              "    <tr>\n",
              "      <th>354366</th>\n",
              "      <td>1.0</td>\n",
              "      <td>2000</td>\n",
              "      <td>0.0</td>\n",
              "      <td>101</td>\n",
              "      <td>106.0</td>\n",
              "      <td>125000</td>\n",
              "      <td>3</td>\n",
              "      <td>6.0</td>\n",
              "      <td>32.0</td>\n",
              "      <td>0</td>\n",
              "    </tr>\n",
              "    <tr>\n",
              "      <th>354367</th>\n",
              "      <td>0.0</td>\n",
              "      <td>1996</td>\n",
              "      <td>1.0</td>\n",
              "      <td>102</td>\n",
              "      <td>224.0</td>\n",
              "      <td>150000</td>\n",
              "      <td>3</td>\n",
              "      <td>2.0</td>\n",
              "      <td>38.0</td>\n",
              "      <td>0</td>\n",
              "    </tr>\n",
              "    <tr>\n",
              "      <th>354368</th>\n",
              "      <td>7.0</td>\n",
              "      <td>2002</td>\n",
              "      <td>1.0</td>\n",
              "      <td>100</td>\n",
              "      <td>116.0</td>\n",
              "      <td>150000</td>\n",
              "      <td>6</td>\n",
              "      <td>2.0</td>\n",
              "      <td>38.0</td>\n",
              "      <td>1</td>\n",
              "    </tr>\n",
              "  </tbody>\n",
              "</table>\n",
              "<p>323364 rows × 10 columns</p>\n",
              "</div>\n",
              "      <button class=\"colab-df-convert\" onclick=\"convertToInteractive('df-5487df60-0492-4339-9e08-7acb249a7d2d')\"\n",
              "              title=\"Convert this dataframe to an interactive table.\"\n",
              "              style=\"display:none;\">\n",
              "        \n",
              "  <svg xmlns=\"http://www.w3.org/2000/svg\" height=\"24px\"viewBox=\"0 0 24 24\"\n",
              "       width=\"24px\">\n",
              "    <path d=\"M0 0h24v24H0V0z\" fill=\"none\"/>\n",
              "    <path d=\"M18.56 5.44l.94 2.06.94-2.06 2.06-.94-2.06-.94-.94-2.06-.94 2.06-2.06.94zm-11 1L8.5 8.5l.94-2.06 2.06-.94-2.06-.94L8.5 2.5l-.94 2.06-2.06.94zm10 10l.94 2.06.94-2.06 2.06-.94-2.06-.94-.94-2.06-.94 2.06-2.06.94z\"/><path d=\"M17.41 7.96l-1.37-1.37c-.4-.4-.92-.59-1.43-.59-.52 0-1.04.2-1.43.59L10.3 9.45l-7.72 7.72c-.78.78-.78 2.05 0 2.83L4 21.41c.39.39.9.59 1.41.59.51 0 1.02-.2 1.41-.59l7.78-7.78 2.81-2.81c.8-.78.8-2.07 0-2.86zM5.41 20L4 18.59l7.72-7.72 1.47 1.35L5.41 20z\"/>\n",
              "  </svg>\n",
              "      </button>\n",
              "      \n",
              "  <style>\n",
              "    .colab-df-container {\n",
              "      display:flex;\n",
              "      flex-wrap:wrap;\n",
              "      gap: 12px;\n",
              "    }\n",
              "\n",
              "    .colab-df-convert {\n",
              "      background-color: #E8F0FE;\n",
              "      border: none;\n",
              "      border-radius: 50%;\n",
              "      cursor: pointer;\n",
              "      display: none;\n",
              "      fill: #1967D2;\n",
              "      height: 32px;\n",
              "      padding: 0 0 0 0;\n",
              "      width: 32px;\n",
              "    }\n",
              "\n",
              "    .colab-df-convert:hover {\n",
              "      background-color: #E2EBFA;\n",
              "      box-shadow: 0px 1px 2px rgba(60, 64, 67, 0.3), 0px 1px 3px 1px rgba(60, 64, 67, 0.15);\n",
              "      fill: #174EA6;\n",
              "    }\n",
              "\n",
              "    [theme=dark] .colab-df-convert {\n",
              "      background-color: #3B4455;\n",
              "      fill: #D2E3FC;\n",
              "    }\n",
              "\n",
              "    [theme=dark] .colab-df-convert:hover {\n",
              "      background-color: #434B5C;\n",
              "      box-shadow: 0px 1px 3px 1px rgba(0, 0, 0, 0.15);\n",
              "      filter: drop-shadow(0px 1px 2px rgba(0, 0, 0, 0.3));\n",
              "      fill: #FFFFFF;\n",
              "    }\n",
              "  </style>\n",
              "\n",
              "      <script>\n",
              "        const buttonEl =\n",
              "          document.querySelector('#df-5487df60-0492-4339-9e08-7acb249a7d2d button.colab-df-convert');\n",
              "        buttonEl.style.display =\n",
              "          google.colab.kernel.accessAllowed ? 'block' : 'none';\n",
              "\n",
              "        async function convertToInteractive(key) {\n",
              "          const element = document.querySelector('#df-5487df60-0492-4339-9e08-7acb249a7d2d');\n",
              "          const dataTable =\n",
              "            await google.colab.kernel.invokeFunction('convertToInteractive',\n",
              "                                                     [key], {});\n",
              "          if (!dataTable) return;\n",
              "\n",
              "          const docLinkHtml = 'Like what you see? Visit the ' +\n",
              "            '<a target=\"_blank\" href=https://colab.research.google.com/notebooks/data_table.ipynb>data table notebook</a>'\n",
              "            + ' to learn more about interactive tables.';\n",
              "          element.innerHTML = '';\n",
              "          dataTable['output_type'] = 'display_data';\n",
              "          await google.colab.output.renderOutput(dataTable, element);\n",
              "          const docLink = document.createElement('div');\n",
              "          docLink.innerHTML = docLinkHtml;\n",
              "          element.appendChild(docLink);\n",
              "        }\n",
              "      </script>\n",
              "    </div>\n",
              "  </div>\n",
              "  "
            ]
          },
          "metadata": {},
          "execution_count": 126
        }
      ],
      "source": [
        "features "
      ]
    },
    {
      "cell_type": "code",
      "execution_count": 127,
      "metadata": {
        "id": "DIburnlRDYVH"
      },
      "outputs": [],
      "source": [
        "train_features, test_features, train_target, test_target = train_test_split(\n",
        "    features, target, test_size=0.2, random_state=48)"
      ]
    },
    {
      "cell_type": "code",
      "execution_count": 128,
      "metadata": {
        "id": "fqE81GZ2DYVI"
      },
      "outputs": [],
      "source": [
        "train_features_out, test_features_out, train_target_out, test_target_out = train_test_split(\n",
        "    features_out, target_out, test_size=0.2, random_state=48\n",
        "    )"
      ]
    },
    {
      "cell_type": "code",
      "execution_count": 129,
      "metadata": {
        "id": "rA8DWc9pDYVI",
        "outputId": "558e5a19-f347-4260-b32f-c2b38fc7fd9e",
        "colab": {
          "base_uri": "https://localhost:8080/"
        }
      },
      "outputs": [
        {
          "output_type": "stream",
          "name": "stdout",
          "text": [
            "Размер тренировочной выборки 258691\n",
            "Размер тестовой выборки 64673\n",
            "Размер тренировочной выборки 258691\n",
            "Размер тестовой выборки 64673\n"
          ]
        }
      ],
      "source": [
        "print('Размер тренировочной выборки', train_features.shape[0])\n",
        "print('Размер тестовой выборки', test_features.shape[0])\n",
        "print('Размер тренировочной выборки', train_target.shape[0])\n",
        "print('Размер тестовой выборки', test_target.shape[0])"
      ]
    },
    {
      "cell_type": "markdown",
      "metadata": {
        "id": "mE4vKWmADYVI"
      },
      "source": [
        "### RandomForestRegressor"
      ]
    },
    {
      "cell_type": "markdown",
      "metadata": {
        "id": "Au779z-PDYVI"
      },
      "source": [
        "Первую модель для обучения выберем Лес. Оно не умеет работать с категориальными признаками, поэтому используем ту выборку, где категориальные признаки переведены в численные. Воспользуемся GridSearch для поиска лучших параметров. Скоринг поставим инвертированное значение метрики neg_mean_squared_error, в конце умножим на -1 и найдем корень для получения RMSE"
      ]
    },
    {
      "cell_type": "code",
      "execution_count": 130,
      "metadata": {
        "id": "bpccyxa_DYVJ",
        "outputId": "90457cc8-74b5-41ff-b602-6f3e68231cbb",
        "colab": {
          "base_uri": "https://localhost:8080/"
        }
      },
      "outputs": [
        {
          "output_type": "stream",
          "name": "stdout",
          "text": [
            "2892.811397121994\n",
            "CPU times: user 1min 30s, sys: 477 ms, total: 1min 30s\n",
            "Wall time: 1min 50s\n"
          ]
        }
      ],
      "source": [
        "%%time\n",
        "regr = RandomForestRegressor()\n",
        "parametrs = { 'n_estimators': range(10, 51, 10),\n",
        "              'max_depth': range(1,4,2),\n",
        "              'random_state':[48]}\n",
        "\n",
        "reg1 = GridSearchCV(regr, parametrs, cv=3, scoring='neg_mean_squared_error')\n",
        "reg1.fit(train_features, train_target)\n",
        "reg1pred = reg1.predict(train_features)\n",
        "fina = (reg1.best_score_* -1) ** 0.5\n",
        "print(fina)"
      ]
    },
    {
      "cell_type": "code",
      "execution_count": 131,
      "metadata": {
        "id": "mCx4GiGTDYVJ",
        "outputId": "9dfbf9bb-de69-4094-99c5-383546b39dc8",
        "colab": {
          "base_uri": "https://localhost:8080/"
        }
      },
      "outputs": [
        {
          "output_type": "execute_result",
          "data": {
            "text/plain": [
              "RandomForestRegressor(max_depth=3, n_estimators=50, random_state=48)"
            ]
          },
          "metadata": {},
          "execution_count": 131
        }
      ],
      "source": [
        "reg1.best_estimator_"
      ]
    },
    {
      "cell_type": "code",
      "execution_count": 132,
      "metadata": {
        "id": "z-9viLwoDYVK",
        "outputId": "35af6e9a-1c24-4ac4-f5c7-865560f150f5",
        "colab": {
          "base_uri": "https://localhost:8080/"
        }
      },
      "outputs": [
        {
          "output_type": "stream",
          "name": "stdout",
          "text": [
            "CPU times: user 7.29 s, sys: 25.9 ms, total: 7.32 s\n",
            "Wall time: 7.29 s\n"
          ]
        }
      ],
      "source": [
        "%%time\n",
        "warnings.simplefilter(action='ignore', category=FutureWarning)\n",
        "reg_final = reg1.best_estimator_\n",
        "reg_final.fit(train_features, train_target)"
      ]
    },
    {
      "cell_type": "code",
      "execution_count": 133,
      "metadata": {
        "id": "PpKZkD5mDYVK",
        "outputId": "c5b07bc2-1b07-4ec5-c55c-28cc3c0eb9bc",
        "colab": {
          "base_uri": "https://localhost:8080/"
        }
      },
      "outputs": [
        {
          "output_type": "stream",
          "name": "stdout",
          "text": [
            "Значение RMSE для Regression: 2897.3964102622704\n",
            "CPU times: user 111 ms, sys: 0 ns, total: 111 ms\n",
            "Wall time: 111 ms\n"
          ]
        }
      ],
      "source": [
        "%%time\n",
        "regression_rmse = sqrt(mean_squared_error(test_target, reg_final.predict(test_features)))\n",
        "print(\"Значение RMSE для Regression:\", regression_rmse)"
      ]
    },
    {
      "cell_type": "markdown",
      "metadata": {
        "id": "iWDSuon7DYVL"
      },
      "source": [
        "### Catboost"
      ]
    },
    {
      "cell_type": "code",
      "execution_count": 134,
      "metadata": {
        "id": "4UfARnZoDYVL"
      },
      "outputs": [],
      "source": [
        "#catboost = CatBoostRegressor(loss_function='RMSE')"
      ]
    },
    {
      "cell_type": "code",
      "execution_count": 135,
      "metadata": {
        "scrolled": true,
        "id": "srpXOEi9DYVL"
      },
      "outputs": [],
      "source": [
        "#%%time\n",
        "#parameters_cat = {'depth':[8,10], 'learning_rate':[0.1]}\n",
        "#catboost_grid = catboost.grid_search(parameters_cat,\n",
        "            #Pool(train_features_out, train_target_out, cat_features=[\"VehicleType\", \"Gearbox\",\n",
        "                                                             #\"Model\", \"FuelType\",\n",
        "                                                             #\"Brand\", \"NotRepaired\"]),\n",
        "            #cv=2,\n",
        "            #verbose=True,\n",
        "            #plot=False)"
      ]
    },
    {
      "cell_type": "markdown",
      "metadata": {
        "id": "2rfCgkECDYVL"
      },
      "source": [
        "Закомментировал поиск параметров для catboost, он очень долго искал параметры с grid search (около 50 минут), ниже указал, данные, которые он выдал. Лучшая метрика получилась при depth = 10, learning_rate = 0.1."
      ]
    },
    {
      "cell_type": "markdown",
      "metadata": {
        "id": "RoQfj5N8DYVM"
      },
      "source": [
        "0:\tloss: 1597.4659727\tbest: 1597.4659727 (0)\ttotal: 8m 35s\tremaining: 8m 35s\n",
        "1:\tloss: 1577.2855168\tbest: 1577.2855168 (1)\ttotal: 20m 57s\tremaining: 0us\n"
      ]
    },
    {
      "cell_type": "markdown",
      "metadata": {
        "id": "wnSqm4dUDYVM"
      },
      "source": [
        "CPU times: user 49min 28s, sys: 5min 15s, total: 54min 43s\n",
        "Wall time: 54min 53s"
      ]
    },
    {
      "cell_type": "code",
      "execution_count": 136,
      "metadata": {
        "scrolled": true,
        "id": "1zJtKQ7YDYVM"
      },
      "outputs": [],
      "source": [
        "#catboost_grid[\"params\"]"
      ]
    },
    {
      "cell_type": "markdown",
      "metadata": {
        "id": "dKRldp_5DYVM"
      },
      "source": [
        "Для catboost используем два набора данных, которые подготовили ранее:\n",
        "1) \"чистые\" данные, указав модели в cat_features, какие столбцы являются категориальными и \n",
        "\n",
        "2) закодированные категориальные данные. Позднее сравним результат и быстроту обучения. \n",
        "\n",
        "Кроме того, для дальнейшего построения графика, где будут обозначено важность того или иного параметра, создадим датафрейм, используя функцию Pool"
      ]
    },
    {
      "cell_type": "code",
      "execution_count": 137,
      "metadata": {
        "id": "qnF5lG-wDYVM"
      },
      "outputs": [],
      "source": [
        "train_dataset = Pool(train_features_out, train_target_out, cat_features=[\"VehicleType\",\"Gearbox\",\"Model\",\"FuelType\",\"Brand\"])"
      ]
    },
    {
      "cell_type": "code",
      "execution_count": 139,
      "metadata": {
        "id": "3SfdJJYnDYVN",
        "outputId": "25fe767b-23c4-4109-f1cc-13ca2ba8a490",
        "colab": {
          "base_uri": "https://localhost:8080/"
        }
      },
      "outputs": [
        {
          "output_type": "stream",
          "name": "stdout",
          "text": [
            "0:\tlearn: 4234.0186160\ttotal: 494ms\tremaining: 8m 13s\n",
            "200:\tlearn: 1600.3141025\ttotal: 1m 22s\tremaining: 5m 28s\n",
            "400:\tlearn: 1511.6553734\ttotal: 2m 47s\tremaining: 4m 9s\n",
            "600:\tlearn: 1448.7283840\ttotal: 4m 12s\tremaining: 2m 47s\n",
            "800:\tlearn: 1406.2129575\ttotal: 5m 38s\tremaining: 1m 24s\n",
            "999:\tlearn: 1372.2285179\ttotal: 7m 3s\tremaining: 0us\n",
            "CPU times: user 13min 43s, sys: 4.15 s, total: 13min 48s\n",
            "Wall time: 7min 6s\n"
          ]
        }
      ],
      "source": [
        "%%time\n",
        "final_cat = CatBoostRegressor(depth=10, \n",
        "                              learning_rate=0.1,\n",
        "                              loss_function='RMSE', verbose=200)\n",
        "final_cat.fit(Pool(train_features_out, train_target_out,\n",
        "                   cat_features=[\"VehicleType\",\"Gearbox\",\"Model\",\"FuelType\",\"Brand\"]))"
      ]
    },
    {
      "cell_type": "code",
      "execution_count": 140,
      "metadata": {
        "scrolled": true,
        "id": "kwH5bpOfDYVN",
        "outputId": "5352e5b7-40bb-4261-c875-85ccc22294de",
        "colab": {
          "base_uri": "https://localhost:8080/"
        }
      },
      "outputs": [
        {
          "output_type": "stream",
          "name": "stdout",
          "text": [
            "0:\tlearn: 4245.7691513\ttotal: 124ms\tremaining: 2m 3s\n",
            "200:\tlearn: 1642.5871648\ttotal: 15.9s\tremaining: 1m 3s\n",
            "400:\tlearn: 1537.3029944\ttotal: 29.5s\tremaining: 44.1s\n",
            "600:\tlearn: 1472.0251701\ttotal: 43.1s\tremaining: 28.6s\n",
            "800:\tlearn: 1423.9120341\ttotal: 1m 4s\tremaining: 16s\n",
            "999:\tlearn: 1386.1283108\ttotal: 1m 18s\tremaining: 0us\n",
            "CPU times: user 2min 7s, sys: 2.15 s, total: 2min 9s\n",
            "Wall time: 1min 19s\n"
          ]
        }
      ],
      "source": [
        "%%time\n",
        "final_cat2 = CatBoostRegressor(depth=10, \n",
        "                              learning_rate=0.1,\n",
        "                              loss_function='RMSE', verbose=200)\n",
        "final_cat2.fit(Pool(train_features, train_target))"
      ]
    },
    {
      "cell_type": "markdown",
      "metadata": {
        "id": "v4spb4cdDYVN"
      },
      "source": [
        "Посмотрим, что модель покажет на тестовой выборке"
      ]
    },
    {
      "cell_type": "code",
      "execution_count": 141,
      "metadata": {
        "scrolled": false,
        "id": "3y2hYZLsDYVN",
        "outputId": "69100963-8218-48d1-8e57-27bb66066cbe",
        "colab": {
          "base_uri": "https://localhost:8080/"
        }
      },
      "outputs": [
        {
          "output_type": "stream",
          "name": "stdout",
          "text": [
            "Значение RMSE для CatBoost: 1603.0507835012822\n",
            "CPU times: user 1.64 s, sys: 3.95 ms, total: 1.65 s\n",
            "Wall time: 881 ms\n"
          ]
        }
      ],
      "source": [
        "%%time\n",
        "catboost_rmse = sqrt(mean_squared_error(test_target_out, final_cat.predict(test_features_out)))\n",
        "print(\"Значение RMSE для CatBoost:\", catboost_rmse)"
      ]
    },
    {
      "cell_type": "code",
      "execution_count": 142,
      "metadata": {
        "id": "CuYAsim_DYVO",
        "outputId": "620692a4-cb16-4b08-d074-7ab16569cb20",
        "colab": {
          "base_uri": "https://localhost:8080/"
        }
      },
      "outputs": [
        {
          "output_type": "stream",
          "name": "stdout",
          "text": [
            "Значение RMSE для CatBoost: 1612.8216492591728\n",
            "CPU times: user 477 ms, sys: 1.98 ms, total: 479 ms\n",
            "Wall time: 259 ms\n"
          ]
        }
      ],
      "source": [
        "%%time\n",
        "catboost_ohe_rmse = sqrt(mean_squared_error(test_target, final_cat2.predict(test_features)))\n",
        "print(\"Значение RMSE для CatBoost:\", catboost_ohe_rmse)"
      ]
    },
    {
      "cell_type": "markdown",
      "metadata": {
        "id": "BKXx19nGDYVO"
      },
      "source": [
        "### LGBMRegressor"
      ]
    },
    {
      "cell_type": "markdown",
      "metadata": {
        "id": "8gwzOB9eDYVO"
      },
      "source": [
        "Теперь воспользуемся LGBMRegressor. Основной параметр для обучения является num_leaves, который должен превышать глубину минимум в два раза. Попробуем с помощью Gridsearch найти лучшие параметры"
      ]
    },
    {
      "cell_type": "code",
      "execution_count": 143,
      "metadata": {
        "scrolled": true,
        "id": "XPJKlqe7DYVO",
        "outputId": "dbc73889-60ba-4273-9ff0-305b6cd6220f",
        "colab": {
          "base_uri": "https://localhost:8080/"
        }
      },
      "outputs": [
        {
          "output_type": "stream",
          "name": "stdout",
          "text": [
            "Fitting 3 folds for each of 2 candidates, totalling 6 fits\n",
            "CPU times: user 18.4 s, sys: 125 ms, total: 18.5 s\n",
            "Wall time: 9.65 s\n"
          ]
        }
      ],
      "source": [
        "%%time\n",
        "warnings.simplefilter(action='ignore', category=FutureWarning)\n",
        "modelLight1 = LGBMRegressor(loss_function='RMSE', n_jobs=-1)\n",
        "parameters_light = {'depth':[6], 'learning_rate':[0.2], 'num_leaves':[12,18]}\n",
        "\n",
        "light = GridSearchCV(modelLight1, parameters_light,\n",
        "            cv=3,\n",
        "            verbose=True)\n",
        "\n",
        "light.fit(train_features, train_target)\n",
        "light.predict(train_features)\n",
        "light.best_estimator_"
      ]
    },
    {
      "cell_type": "markdown",
      "metadata": {
        "id": "8OlmlhDVDYVP"
      },
      "source": [
        "Создадим модель на основе LGBMRegressor, передадим ей лучшие параметры для обучения"
      ]
    },
    {
      "cell_type": "code",
      "execution_count": 144,
      "metadata": {
        "id": "faQX7GaHDYVP"
      },
      "outputs": [],
      "source": [
        "modelLight = LGBMRegressor(depth=6, n_estimators=500, learning_rate=0.2, random_state=42, num_leaves=18)"
      ]
    },
    {
      "cell_type": "markdown",
      "metadata": {
        "id": "nHbFMHnKDYVP"
      },
      "source": [
        "Для того, чтобы понять правильно ли я использовал формулу для нахождения предсказания, которая включает eval_set и eval_metric, обучим модель, как обычно через fit/predict"
      ]
    },
    {
      "cell_type": "code",
      "execution_count": 145,
      "metadata": {
        "id": "DpQSVVKZDYVP",
        "outputId": "0ee57ec5-0600-4cbd-f5d8-c1921487a77a",
        "colab": {
          "base_uri": "https://localhost:8080/"
        }
      },
      "outputs": [
        {
          "output_type": "stream",
          "name": "stdout",
          "text": [
            "CPU times: user 9.2 s, sys: 59.9 ms, total: 9.26 s\n",
            "Wall time: 4.76 s\n"
          ]
        },
        {
          "output_type": "execute_result",
          "data": {
            "text/plain": [
              "LGBMRegressor(depth=6, learning_rate=0.2, n_estimators=500, num_leaves=18,\n",
              "              random_state=42)"
            ]
          },
          "metadata": {},
          "execution_count": 145
        }
      ],
      "source": [
        "%%time\n",
        "modelLight.fit(train_features, train_target)"
      ]
    },
    {
      "cell_type": "code",
      "execution_count": 146,
      "metadata": {
        "id": "zpmGB_K-DYVQ",
        "outputId": "c624c40c-2604-4a6c-b8d7-eeebd395a31f",
        "colab": {
          "base_uri": "https://localhost:8080/"
        }
      },
      "outputs": [
        {
          "output_type": "stream",
          "name": "stdout",
          "text": [
            "Значение RMSE для LGBMBoost: 1660.716790111193\n",
            "CPU times: user 1.61 s, sys: 3.99 ms, total: 1.61 s\n",
            "Wall time: 834 ms\n"
          ]
        }
      ],
      "source": [
        "%%time\n",
        "light_predict = modelLight.predict(test_features)\n",
        "light_rmse = sqrt((mean_squared_error(test_target, light_predict)))\n",
        "print(\"Значение RMSE для LGBMBoost:\", light_rmse)"
      ]
    },
    {
      "cell_type": "markdown",
      "metadata": {
        "id": "f6baDqJvDYVQ"
      },
      "source": [
        "Результаты совпадают"
      ]
    },
    {
      "cell_type": "markdown",
      "metadata": {
        "id": "--NMhepCDYVQ"
      },
      "source": [
        "### Вывод по второй главе"
      ]
    },
    {
      "cell_type": "markdown",
      "metadata": {
        "id": "DVNgznbPDYVQ"
      },
      "source": [
        "Перед обучением моделей мы подготовили наши данные: в первую очередь использовали get_dummies для категориальных признаков, разбили их на тренировочную и тестовую, обозначили features и target. Для поиска лучших параметров для наших иоделей мы использовали Gridsearch. В ходе исследования выяснилось, что поиск моделей для Catboost занимает очень большое количество времени. Использовали для обучения следующие модели: RandomForestRegressor, Catboost, LGBMRegressor"
      ]
    },
    {
      "cell_type": "markdown",
      "metadata": {
        "id": "SkZlFB6cDYVQ"
      },
      "source": [
        "## Анализ моделей"
      ]
    },
    {
      "cell_type": "markdown",
      "metadata": {
        "id": "MeOuEtNQDYVR"
      },
      "source": [
        "В первую очередь, для оценки моделей проверим какие параметры повлияли на обучение моделей."
      ]
    },
    {
      "cell_type": "code",
      "execution_count": 147,
      "metadata": {
        "id": "_qDERW5SDYVR",
        "outputId": "4d22b597-92e9-4646-fc5a-af6c7e708fe4",
        "colab": {
          "base_uri": "https://localhost:8080/",
          "height": 537
        }
      },
      "outputs": [
        {
          "output_type": "display_data",
          "data": {
            "text/plain": [
              "<Figure size 1152x648 with 1 Axes>"
            ],
            "image/png": "[encoded data removed]"
          },
          "metadata": {
            "needs_background": "light"
          }
        }
      ],
      "source": [
        "plt.figure(figsize=(16,9))\n",
        "feature_import = final_cat.get_feature_importance(train_dataset, prettified=True)\n",
        "plt.bar(feature_import['Feature Id'], feature_import['Importances'])\n",
        "plt.show()"
      ]
    },
    {
      "cell_type": "code",
      "execution_count": 148,
      "metadata": {
        "scrolled": false,
        "id": "JgLWrdMVDYVR",
        "outputId": "f9848d5e-ff0e-4e57-ffa4-4844c0d31709",
        "colab": {
          "base_uri": "https://localhost:8080/",
          "height": 621
        }
      },
      "outputs": [
        {
          "output_type": "display_data",
          "data": {
            "text/plain": [
              "<Figure size 720x720 with 1 Axes>"
            ],
            "image/png": "[encoded data removed]"
          },
          "metadata": {
            "needs_background": "light"
          }
        }
      ],
      "source": [
        "lgb.plot_importance(modelLight, figsize=(10,10))\n",
        "plt.show()"
      ]
    },
    {
      "cell_type": "markdown",
      "metadata": {
        "id": "a4H_KsqIDYVR"
      },
      "source": [
        "Исходя из двух графиков, мы видим, что самыми важными параметрами для обеих моделей оказались год регистрации и мощность машины. Большим удивлением для меня оказалось, что месяц регистрации также попал в первую четверку в LGBMBoost"
      ]
    },
    {
      "cell_type": "markdown",
      "metadata": {
        "id": "zupZ1W3VDYVS"
      },
      "source": [
        "Параметры 'Power' и 'RegistrationYear' поменялись местами в модели LGBMRegressor. Параметр с месяцем регистрации закономерно теперь отошел на задний план. Также исходя из этих графиков мы видим, что наличие автоматической или механической коробки передач не особо влияет на предсказания модели. "
      ]
    },
    {
      "cell_type": "code",
      "execution_count": 149,
      "metadata": {
        "id": "BpTIVOAUDYVS",
        "outputId": "d5732b33-12ee-4177-91fa-335bfdde2992",
        "colab": {
          "base_uri": "https://localhost:8080/",
          "height": 144
        }
      },
      "outputs": [
        {
          "output_type": "execute_result",
          "data": {
            "text/plain": [
              "                   RandomForestRegressor Catboost без кодирования  \\\n",
              "Значение RMSE         2897.3964102622704       1603.0507835012822   \n",
              "Время обучения                     6.06s                13min 56s   \n",
              "Время предсказания               92.2 ms                    1.5 s   \n",
              "\n",
              "                   Catboost с кодированием      LGBMRegressor  \n",
              "Значение RMSE           1612.8216492591728  1660.716790111193  \n",
              "Время обучения                    3min 23s             21.7 s  \n",
              "Время предсказания                  480 ms             1.39 s  "
            ],
            "text/html": [
              "\n",
              "  <div id=\"df-f1db860b-aefd-4de9-88a1-091b67df3518\">\n",
              "    <div class=\"colab-df-container\">\n",
              "      <div>\n",
              "<style scoped>\n",
              "    .dataframe tbody tr th:only-of-type {\n",
              "        vertical-align: middle;\n",
              "    }\n",
              "\n",
              "    .dataframe tbody tr th {\n",
              "        vertical-align: top;\n",
              "    }\n",
              "\n",
              "    .dataframe thead th {\n",
              "        text-align: right;\n",
              "    }\n",
              "</style>\n",
              "<table border=\"1\" class=\"dataframe\">\n",
              "  <thead>\n",
              "    <tr style=\"text-align: right;\">\n",
              "      <th></th>\n",
              "      <th>RandomForestRegressor</th>\n",
              "      <th>Catboost без кодирования</th>\n",
              "      <th>Catboost с кодированием</th>\n",
              "      <th>LGBMRegressor</th>\n",
              "    </tr>\n",
              "  </thead>\n",
              "  <tbody>\n",
              "    <tr>\n",
              "      <th>Значение RMSE</th>\n",
              "      <td>2897.3964102622704</td>\n",
              "      <td>1603.0507835012822</td>\n",
              "      <td>1612.8216492591728</td>\n",
              "      <td>1660.716790111193</td>\n",
              "    </tr>\n",
              "    <tr>\n",
              "      <th>Время обучения</th>\n",
              "      <td>6.06s</td>\n",
              "      <td>13min 56s</td>\n",
              "      <td>3min 23s</td>\n",
              "      <td>21.7 s</td>\n",
              "    </tr>\n",
              "    <tr>\n",
              "      <th>Время предсказания</th>\n",
              "      <td>92.2 ms</td>\n",
              "      <td>1.5 s</td>\n",
              "      <td>480 ms</td>\n",
              "      <td>1.39 s</td>\n",
              "    </tr>\n",
              "  </tbody>\n",
              "</table>\n",
              "</div>\n",
              "      <button class=\"colab-df-convert\" onclick=\"convertToInteractive('df-f1db860b-aefd-4de9-88a1-091b67df3518')\"\n",
              "              title=\"Convert this dataframe to an interactive table.\"\n",
              "              style=\"display:none;\">\n",
              "        \n",
              "  <svg xmlns=\"http://www.w3.org/2000/svg\" height=\"24px\"viewBox=\"0 0 24 24\"\n",
              "       width=\"24px\">\n",
              "    <path d=\"M0 0h24v24H0V0z\" fill=\"none\"/>\n",
              "    <path d=\"M18.56 5.44l.94 2.06.94-2.06 2.06-.94-2.06-.94-.94-2.06-.94 2.06-2.06.94zm-11 1L8.5 8.5l.94-2.06 2.06-.94-2.06-.94L8.5 2.5l-.94 2.06-2.06.94zm10 10l.94 2.06.94-2.06 2.06-.94-2.06-.94-.94-2.06-.94 2.06-2.06.94z\"/><path d=\"M17.41 7.96l-1.37-1.37c-.4-.4-.92-.59-1.43-.59-.52 0-1.04.2-1.43.59L10.3 9.45l-7.72 7.72c-.78.78-.78 2.05 0 2.83L4 21.41c.39.39.9.59 1.41.59.51 0 1.02-.2 1.41-.59l7.78-7.78 2.81-2.81c.8-.78.8-2.07 0-2.86zM5.41 20L4 18.59l7.72-7.72 1.47 1.35L5.41 20z\"/>\n",
              "  </svg>\n",
              "      </button>\n",
              "      \n",
              "  <style>\n",
              "    .colab-df-container {\n",
              "      display:flex;\n",
              "      flex-wrap:wrap;\n",
              "      gap: 12px;\n",
              "    }\n",
              "\n",
              "    .colab-df-convert {\n",
              "      background-color: #E8F0FE;\n",
              "      border: none;\n",
              "      border-radius: 50%;\n",
              "      cursor: pointer;\n",
              "      display: none;\n",
              "      fill: #1967D2;\n",
              "      height: 32px;\n",
              "      padding: 0 0 0 0;\n",
              "      width: 32px;\n",
              "    }\n",
              "\n",
              "    .colab-df-convert:hover {\n",
              "      background-color: #E2EBFA;\n",
              "      box-shadow: 0px 1px 2px rgba(60, 64, 67, 0.3), 0px 1px 3px 1px rgba(60, 64, 67, 0.15);\n",
              "      fill: #174EA6;\n",
              "    }\n",
              "\n",
              "    [theme=dark] .colab-df-convert {\n",
              "      background-color: #3B4455;\n",
              "      fill: #D2E3FC;\n",
              "    }\n",
              "\n",
              "    [theme=dark] .colab-df-convert:hover {\n",
              "      background-color: #434B5C;\n",
              "      box-shadow: 0px 1px 3px 1px rgba(0, 0, 0, 0.15);\n",
              "      filter: drop-shadow(0px 1px 2px rgba(0, 0, 0, 0.3));\n",
              "      fill: #FFFFFF;\n",
              "    }\n",
              "  </style>\n",
              "\n",
              "      <script>\n",
              "        const buttonEl =\n",
              "          document.querySelector('#df-f1db860b-aefd-4de9-88a1-091b67df3518 button.colab-df-convert');\n",
              "        buttonEl.style.display =\n",
              "          google.colab.kernel.accessAllowed ? 'block' : 'none';\n",
              "\n",
              "        async function convertToInteractive(key) {\n",
              "          const element = document.querySelector('#df-f1db860b-aefd-4de9-88a1-091b67df3518');\n",
              "          const dataTable =\n",
              "            await google.colab.kernel.invokeFunction('convertToInteractive',\n",
              "                                                     [key], {});\n",
              "          if (!dataTable) return;\n",
              "\n",
              "          const docLinkHtml = 'Like what you see? Visit the ' +\n",
              "            '<a target=\"_blank\" href=https://colab.research.google.com/notebooks/data_table.ipynb>data table notebook</a>'\n",
              "            + ' to learn more about interactive tables.';\n",
              "          element.innerHTML = '';\n",
              "          dataTable['output_type'] = 'display_data';\n",
              "          await google.colab.output.renderOutput(dataTable, element);\n",
              "          const docLink = document.createElement('div');\n",
              "          docLink.innerHTML = docLinkHtml;\n",
              "          element.appendChild(docLink);\n",
              "        }\n",
              "      </script>\n",
              "    </div>\n",
              "  </div>\n",
              "  "
            ]
          },
          "metadata": {},
          "execution_count": 149
        }
      ],
      "source": [
        "finalle = {'RandomForestRegressor':np.array([regression_rmse, '6.06s', '92.2 ms']),\n",
        "           'Catboost без кодирования':np.array([catboost_rmse, '13min 56s', '1.5 s']),\n",
        "           'Catboost с кодированием':np.array([catboost_ohe_rmse, '3min 23s', '480 ms']),\n",
        "           'LGBMRegressor':np.array([light_rmse, '21.7 s', '1.39 s'])}\n",
        "finalle = pd.DataFrame(finalle, index=['Значение RMSE','Время обучения', 'Время предсказания'])\n",
        "finalle"
      ]
    },
    {
      "cell_type": "markdown",
      "metadata": {
        "id": "OOBy7_trDYVT"
      },
      "source": [
        "Согласно данным заказчику важны следующие вещи:\n",
        "1) Время обучения\n",
        "2) Время предсказания\n",
        "3) Качество предсказаний\n",
        "\n",
        "\n",
        "Основываясь на полученные результаты делаем следующие выводы: \n",
        "1) наименьшую ошибку выдает Catboost без кодирования. Самое худшее значение показала модель RandomForestRegressor. \n",
        "2) обратим внимание на время обучения. Несмотря на то, что обе модели Catboost показали примерно одинаковое значение, модель с применением функции get_dummies к категориальным данным обучилась в разы быстрее (в 4 раза). Лучше всего себя показала модель LGBMRegressor \n",
        "\n",
        "Наш выбор стоит между Catboost с кодированием данных и LGBMRegressor. Мне кажется, все же лучшей моделью для обучения в данном проекте являтся LGBMRegressor, так как по времени обучения и предсказания Catboost без кодирования значительно проигрывает. Рекомендуем заказчику модель LGBMRegressor"
      ]
    },
    {
      "cell_type": "markdown",
      "metadata": {
        "id": "DgN-z54mDYVT"
      },
      "source": [
        "В связи с тем, что теперь использовал порядковое кодирование признаков, количество времени на предсказание и обучение значительно уменьшилось. Быстрее всего это делает RandomForestRegressor. Однако значение RMSE не поменялось, поэтому я не рекомендовал бы использовать данную модель в данной задаче. Выбор по - прежнему между  Catboost с кодированием и LGBMRegressor. Сейчас Catboost с кодированием по двум параметрам превосходит LGBMRegressor (по RMSE и Времени предсказания). Однако различия не слишком большие по данным параметрам, в отличии от времени обучения. LGBMRegressor намного быстрее обучается, поэтому, несмотря на вышеуказанные превосходства Catboostа с кодированием, рекомендовал бы LGBMRegressor"
      ]
    },
    {
      "cell_type": "markdown",
      "metadata": {
        "id": "7WGxyMchDYVU"
      },
      "source": [
        "## Чек-лист проверки"
      ]
    },
    {
      "cell_type": "markdown",
      "metadata": {
        "id": "GTY2m-CzDYVU"
      },
      "source": [
        "Поставьте 'x' в выполненных пунктах. Далее нажмите Shift+Enter."
      ]
    },
    {
      "cell_type": "markdown",
      "metadata": {
        "id": "dBYkN9hVDYVU"
      },
      "source": [
        "- [x]  Jupyter Notebook открыт\n",
        "- [x]  Весь код выполняется без ошибок\n",
        "- [x]  Ячейки с кодом расположены в порядке исполнения\n",
        "- [x]  Выполнена загрузка и подготовка данных\n",
        "- [x]  Выполнено обучение моделей\n",
        "- [x]  Есть анализ скорости работы и качества моделей"
      ]
    }
  ],
  "metadata": {
    "ExecuteTimeLog": [
      {
        "duration": 1721,
        "start_time": "2021-10-01T17:32:32.671Z"
      },
      {
        "duration": 1194,
        "start_time": "2021-10-01T17:32:34.984Z"
      },
      {
        "duration": 1126,
        "start_time": "2021-10-01T17:33:56.299Z"
      },
      {
        "duration": 21,
        "start_time": "2021-10-01T17:34:05.849Z"
      },
      {
        "duration": 163,
        "start_time": "2021-10-01T17:34:21.618Z"
      },
      {
        "duration": 7,
        "start_time": "2021-10-01T17:36:39.963Z"
      },
      {
        "duration": -2310,
        "start_time": "2021-10-01T17:39:40.241Z"
      },
      {
        "duration": 306,
        "start_time": "2021-10-01T17:40:47.628Z"
      },
      {
        "duration": 36,
        "start_time": "2021-10-01T17:40:54.188Z"
      },
      {
        "duration": 292769,
        "start_time": "2021-10-01T17:41:03.867Z"
      },
      {
        "duration": -2336,
        "start_time": "2021-10-01T17:45:58.977Z"
      },
      {
        "duration": 21,
        "start_time": "2021-10-01T17:45:59.349Z"
      },
      {
        "duration": 331,
        "start_time": "2021-10-01T18:28:47.609Z"
      },
      {
        "duration": 11998,
        "start_time": "2021-10-01T18:29:13.487Z"
      },
      {
        "duration": 156,
        "start_time": "2021-10-01T18:29:58.712Z"
      },
      {
        "duration": 22,
        "start_time": "2021-10-01T18:30:23.824Z"
      },
      {
        "duration": 24,
        "start_time": "2021-10-01T18:30:55.609Z"
      },
      {
        "duration": 8507,
        "start_time": "2021-10-01T18:31:49.656Z"
      },
      {
        "duration": 950,
        "start_time": "2021-10-01T18:32:07.368Z"
      },
      {
        "duration": 1489,
        "start_time": "2021-10-01T18:32:25.162Z"
      },
      {
        "duration": 47,
        "start_time": "2021-10-01T18:33:02.969Z"
      },
      {
        "duration": 987,
        "start_time": "2021-10-01T18:33:06.648Z"
      },
      {
        "duration": 4,
        "start_time": "2021-10-01T18:33:26.074Z"
      },
      {
        "duration": 645,
        "start_time": "2021-10-01T18:33:29.121Z"
      },
      {
        "duration": 62987,
        "start_time": "2021-10-01T18:35:12.395Z"
      },
      {
        "duration": 315,
        "start_time": "2021-10-01T18:36:51.674Z"
      },
      {
        "duration": 866,
        "start_time": "2021-10-01T18:37:04.515Z"
      },
      {
        "duration": 662,
        "start_time": "2021-10-01T18:37:36.498Z"
      },
      {
        "duration": 48,
        "start_time": "2021-10-01T18:38:59.722Z"
      },
      {
        "duration": 306,
        "start_time": "2021-10-01T18:39:49.027Z"
      },
      {
        "duration": 348,
        "start_time": "2021-10-01T18:40:07.556Z"
      },
      {
        "duration": 350,
        "start_time": "2021-10-01T18:40:16.060Z"
      },
      {
        "duration": 68,
        "start_time": "2021-10-01T18:41:04.821Z"
      },
      {
        "duration": 32,
        "start_time": "2021-10-01T18:41:14.163Z"
      },
      {
        "duration": 28,
        "start_time": "2021-10-01T18:41:43.979Z"
      },
      {
        "duration": 26,
        "start_time": "2021-10-01T18:42:00.819Z"
      },
      {
        "duration": 24,
        "start_time": "2021-10-01T18:42:48.132Z"
      },
      {
        "duration": 57,
        "start_time": "2021-10-01T18:42:54.739Z"
      },
      {
        "duration": 58,
        "start_time": "2021-10-01T18:43:31.412Z"
      },
      {
        "duration": 35,
        "start_time": "2021-10-01T18:43:46.356Z"
      },
      {
        "duration": 10,
        "start_time": "2021-10-01T18:45:08.070Z"
      },
      {
        "duration": 317,
        "start_time": "2021-10-01T18:45:39.212Z"
      },
      {
        "duration": 37,
        "start_time": "2021-10-01T18:46:43.244Z"
      },
      {
        "duration": 13,
        "start_time": "2021-10-01T18:47:14.053Z"
      },
      {
        "duration": 55,
        "start_time": "2021-10-01T18:48:47.858Z"
      },
      {
        "duration": 359,
        "start_time": "2021-10-01T18:50:31.429Z"
      },
      {
        "duration": 4,
        "start_time": "2021-10-01T18:51:10.110Z"
      },
      {
        "duration": 1052,
        "start_time": "2021-10-01T18:51:10.254Z"
      },
      {
        "duration": 24,
        "start_time": "2021-10-01T18:51:11.309Z"
      },
      {
        "duration": 343,
        "start_time": "2021-10-01T18:51:11.336Z"
      },
      {
        "duration": 121,
        "start_time": "2021-10-01T18:51:11.682Z"
      },
      {
        "duration": 157,
        "start_time": "2021-10-01T18:51:11.925Z"
      },
      {
        "duration": 159,
        "start_time": "2021-10-01T18:51:12.374Z"
      },
      {
        "duration": 3,
        "start_time": "2021-10-01T18:51:12.548Z"
      },
      {
        "duration": 15,
        "start_time": "2021-10-01T18:51:12.724Z"
      },
      {
        "duration": 298,
        "start_time": "2021-10-01T18:51:12.895Z"
      },
      {
        "duration": 601,
        "start_time": "2021-10-01T18:51:12.595Z"
      },
      {
        "duration": 57,
        "start_time": "2021-10-01T18:51:13.220Z"
      },
      {
        "duration": 12,
        "start_time": "2021-10-01T18:51:13.381Z"
      },
      {
        "duration": 11,
        "start_time": "2021-10-01T18:51:13.549Z"
      },
      {
        "duration": 49,
        "start_time": "2021-10-01T18:51:13.725Z"
      },
      {
        "duration": 302,
        "start_time": "2021-10-01T18:51:13.885Z"
      },
      {
        "duration": 44,
        "start_time": "2021-10-01T18:51:14.190Z"
      },
      {
        "duration": 29,
        "start_time": "2021-10-01T18:51:14.236Z"
      },
      {
        "duration": 64450,
        "start_time": "2021-10-01T18:51:14.372Z"
      },
      {
        "duration": 769,
        "start_time": "2021-10-01T18:52:18.825Z"
      },
      {
        "duration": 55,
        "start_time": "2021-10-01T18:52:19.597Z"
      },
      {
        "duration": 37,
        "start_time": "2021-10-01T18:52:19.655Z"
      },
      {
        "duration": 26,
        "start_time": "2021-10-01T18:52:19.717Z"
      },
      {
        "duration": 100,
        "start_time": "2021-10-01T18:52:19.745Z"
      },
      {
        "duration": 122,
        "start_time": "2021-10-01T18:53:10.390Z"
      },
      {
        "duration": 140,
        "start_time": "2021-10-01T18:53:32.958Z"
      },
      {
        "duration": 45,
        "start_time": "2021-10-01T18:53:37.141Z"
      },
      {
        "duration": 31,
        "start_time": "2021-10-01T18:54:22.774Z"
      },
      {
        "duration": 15,
        "start_time": "2021-10-01T18:54:40.406Z"
      },
      {
        "duration": 66,
        "start_time": "2021-10-01T18:55:02.391Z"
      },
      {
        "duration": 58,
        "start_time": "2021-10-01T18:57:50.078Z"
      },
      {
        "duration": 37,
        "start_time": "2021-10-01T18:57:54.759Z"
      },
      {
        "duration": 57,
        "start_time": "2021-10-01T18:58:35.267Z"
      },
      {
        "duration": 49,
        "start_time": "2021-10-01T18:58:36.990Z"
      },
      {
        "duration": 71,
        "start_time": "2021-10-01T18:59:12.160Z"
      },
      {
        "duration": 38,
        "start_time": "2021-10-01T18:59:13.808Z"
      },
      {
        "duration": 159,
        "start_time": "2021-10-01T18:59:33.808Z"
      },
      {
        "duration": 23,
        "start_time": "2021-10-01T19:00:14.887Z"
      },
      {
        "duration": 54,
        "start_time": "2021-10-01T19:00:19.598Z"
      },
      {
        "duration": 9,
        "start_time": "2021-10-01T19:01:10.232Z"
      },
      {
        "duration": 36,
        "start_time": "2021-10-01T19:01:14.536Z"
      },
      {
        "duration": 12,
        "start_time": "2021-10-01T19:02:18.425Z"
      },
      {
        "duration": 9,
        "start_time": "2021-10-01T19:11:52.806Z"
      },
      {
        "duration": 37,
        "start_time": "2021-10-01T19:12:08.182Z"
      },
      {
        "duration": 9,
        "start_time": "2021-10-01T19:14:49.167Z"
      },
      {
        "duration": 38,
        "start_time": "2021-10-01T19:14:50.264Z"
      },
      {
        "duration": 341,
        "start_time": "2021-10-01T19:23:52.977Z"
      },
      {
        "duration": 48,
        "start_time": "2021-10-01T19:24:16.003Z"
      },
      {
        "duration": 2219,
        "start_time": "2021-10-01T19:25:18.386Z"
      },
      {
        "duration": 25,
        "start_time": "2021-10-01T19:25:52.098Z"
      },
      {
        "duration": 25,
        "start_time": "2021-10-01T19:26:13.386Z"
      },
      {
        "duration": 48,
        "start_time": "2021-10-01T19:26:39.186Z"
      },
      {
        "duration": 46,
        "start_time": "2021-10-01T19:28:37.714Z"
      },
      {
        "duration": 56,
        "start_time": "2021-10-01T19:32:45.462Z"
      },
      {
        "duration": 1587,
        "start_time": "2021-10-02T08:23:40.544Z"
      },
      {
        "duration": 1089,
        "start_time": "2021-10-02T08:23:42.134Z"
      },
      {
        "duration": 24,
        "start_time": "2021-10-02T08:23:44.266Z"
      },
      {
        "duration": 154,
        "start_time": "2021-10-02T08:23:45.033Z"
      },
      {
        "duration": 55,
        "start_time": "2021-10-02T08:23:45.249Z"
      },
      {
        "duration": 71,
        "start_time": "2021-10-02T08:23:45.864Z"
      },
      {
        "duration": 25,
        "start_time": "2021-10-02T08:23:46.312Z"
      },
      {
        "duration": 10,
        "start_time": "2021-10-02T08:23:46.817Z"
      },
      {
        "duration": 55,
        "start_time": "2021-10-02T08:23:48.208Z"
      },
      {
        "duration": 3015,
        "start_time": "2021-10-02T08:23:48.697Z"
      },
      {
        "duration": 795,
        "start_time": "2021-10-02T08:24:10.936Z"
      },
      {
        "duration": 865,
        "start_time": "2021-10-02T08:24:26.249Z"
      },
      {
        "duration": 2063,
        "start_time": "2021-10-02T08:24:42.360Z"
      },
      {
        "duration": 1339,
        "start_time": "2021-10-02T08:24:58.345Z"
      },
      {
        "duration": 1320,
        "start_time": "2021-10-02T08:25:20.640Z"
      },
      {
        "duration": 1012,
        "start_time": "2021-10-02T08:26:16.713Z"
      },
      {
        "duration": 2350,
        "start_time": "2021-10-02T08:26:36.616Z"
      },
      {
        "duration": 972,
        "start_time": "2021-10-02T08:27:11.185Z"
      },
      {
        "duration": 416,
        "start_time": "2021-10-02T08:28:25.330Z"
      },
      {
        "duration": 1238,
        "start_time": "2021-10-02T08:28:47.549Z"
      },
      {
        "duration": 1569,
        "start_time": "2021-10-02T08:29:01.241Z"
      },
      {
        "duration": 2109,
        "start_time": "2021-10-02T08:29:11.978Z"
      },
      {
        "duration": 2495,
        "start_time": "2021-10-02T08:29:25.914Z"
      },
      {
        "duration": 2453,
        "start_time": "2021-10-02T08:29:37.776Z"
      },
      {
        "duration": 2411,
        "start_time": "2021-10-02T08:30:41.176Z"
      },
      {
        "duration": 959,
        "start_time": "2021-10-02T08:33:48.787Z"
      },
      {
        "duration": 2420,
        "start_time": "2021-10-02T08:33:49.748Z"
      },
      {
        "duration": 55,
        "start_time": "2021-10-02T08:33:52.171Z"
      },
      {
        "duration": 47,
        "start_time": "2021-10-02T08:33:52.229Z"
      },
      {
        "duration": 50,
        "start_time": "2021-10-02T08:33:52.278Z"
      },
      {
        "duration": 317,
        "start_time": "2021-10-02T08:33:52.331Z"
      },
      {
        "duration": 275,
        "start_time": "2021-10-02T08:33:52.650Z"
      },
      {
        "duration": 77,
        "start_time": "2021-10-02T08:33:52.851Z"
      },
      {
        "duration": 75,
        "start_time": "2021-10-02T08:33:52.854Z"
      },
      {
        "duration": 73,
        "start_time": "2021-10-02T08:33:52.857Z"
      },
      {
        "duration": 72,
        "start_time": "2021-10-02T08:33:52.860Z"
      },
      {
        "duration": 70,
        "start_time": "2021-10-02T08:33:52.863Z"
      },
      {
        "duration": 68,
        "start_time": "2021-10-02T08:33:52.866Z"
      },
      {
        "duration": 64,
        "start_time": "2021-10-02T08:34:03.242Z"
      },
      {
        "duration": 149,
        "start_time": "2021-10-02T08:34:03.602Z"
      },
      {
        "duration": 146,
        "start_time": "2021-10-02T08:34:04.131Z"
      },
      {
        "duration": 3,
        "start_time": "2021-10-02T08:34:04.467Z"
      },
      {
        "duration": 13,
        "start_time": "2021-10-02T08:34:04.699Z"
      },
      {
        "duration": 19,
        "start_time": "2021-10-02T08:34:04.898Z"
      },
      {
        "duration": 147,
        "start_time": "2021-10-02T08:34:05.258Z"
      },
      {
        "duration": 11,
        "start_time": "2021-10-02T08:34:05.459Z"
      },
      {
        "duration": 9,
        "start_time": "2021-10-02T08:34:05.714Z"
      },
      {
        "duration": 47,
        "start_time": "2021-10-02T08:34:05.930Z"
      },
      {
        "duration": 314,
        "start_time": "2021-10-02T08:34:06.131Z"
      },
      {
        "duration": 33,
        "start_time": "2021-10-02T08:34:06.448Z"
      },
      {
        "duration": 20,
        "start_time": "2021-10-02T08:34:06.651Z"
      },
      {
        "duration": 61804,
        "start_time": "2021-10-02T08:34:07.155Z"
      },
      {
        "duration": 643,
        "start_time": "2021-10-02T08:35:08.961Z"
      },
      {
        "duration": 302,
        "start_time": "2021-10-02T08:35:27.587Z"
      },
      {
        "duration": 273,
        "start_time": "2021-10-02T08:35:31.891Z"
      },
      {
        "duration": 268,
        "start_time": "2021-10-02T08:36:10.475Z"
      },
      {
        "duration": 267,
        "start_time": "2021-10-02T08:36:23.867Z"
      },
      {
        "duration": 6,
        "start_time": "2021-10-02T08:37:37.932Z"
      },
      {
        "duration": 365,
        "start_time": "2021-10-02T08:38:05.764Z"
      },
      {
        "duration": 870,
        "start_time": "2021-10-02T08:38:22.581Z"
      },
      {
        "duration": 612,
        "start_time": "2021-10-02T08:39:21.315Z"
      },
      {
        "duration": 1175,
        "start_time": "2021-10-02T08:39:49.797Z"
      },
      {
        "duration": 94,
        "start_time": "2021-10-02T08:40:49.438Z"
      },
      {
        "duration": 1045,
        "start_time": "2021-10-02T08:40:58.331Z"
      },
      {
        "duration": 1819,
        "start_time": "2021-10-02T08:41:23.668Z"
      },
      {
        "duration": 435,
        "start_time": "2021-10-02T08:45:58.741Z"
      },
      {
        "duration": 295,
        "start_time": "2021-10-02T08:46:56.291Z"
      },
      {
        "duration": 195,
        "start_time": "2021-10-02T09:16:50.069Z"
      },
      {
        "duration": 304,
        "start_time": "2021-10-02T09:24:06.706Z"
      },
      {
        "duration": 38,
        "start_time": "2021-10-02T09:24:13.331Z"
      },
      {
        "duration": 12,
        "start_time": "2021-10-02T09:29:03.227Z"
      },
      {
        "duration": 15,
        "start_time": "2021-10-02T09:30:41.900Z"
      },
      {
        "duration": 25,
        "start_time": "2021-10-02T09:31:06.675Z"
      },
      {
        "duration": 5,
        "start_time": "2021-10-02T09:31:19.258Z"
      },
      {
        "duration": 993,
        "start_time": "2021-10-02T09:31:19.443Z"
      },
      {
        "duration": 20,
        "start_time": "2021-10-02T09:31:20.438Z"
      },
      {
        "duration": 174,
        "start_time": "2021-10-02T09:31:20.461Z"
      },
      {
        "duration": 12,
        "start_time": "2021-10-02T09:31:20.638Z"
      },
      {
        "duration": 34,
        "start_time": "2021-10-02T09:31:20.653Z"
      },
      {
        "duration": 17,
        "start_time": "2021-10-02T09:31:27.018Z"
      },
      {
        "duration": 17,
        "start_time": "2021-10-02T09:31:51.995Z"
      },
      {
        "duration": 28,
        "start_time": "2021-10-02T09:31:52.493Z"
      },
      {
        "duration": 9,
        "start_time": "2021-10-02T09:32:18.187Z"
      },
      {
        "duration": 29,
        "start_time": "2021-10-02T09:32:20.108Z"
      },
      {
        "duration": 28,
        "start_time": "2021-10-02T09:33:00.428Z"
      },
      {
        "duration": 14,
        "start_time": "2021-10-02T09:33:00.700Z"
      },
      {
        "duration": 30,
        "start_time": "2021-10-02T09:33:14.076Z"
      },
      {
        "duration": 27,
        "start_time": "2021-10-02T09:33:14.559Z"
      },
      {
        "duration": 8,
        "start_time": "2021-10-02T09:33:51.124Z"
      },
      {
        "duration": 29,
        "start_time": "2021-10-02T09:33:52.277Z"
      },
      {
        "duration": 45,
        "start_time": "2021-10-02T09:34:19.991Z"
      },
      {
        "duration": 14,
        "start_time": "2021-10-02T09:34:27.620Z"
      },
      {
        "duration": 9,
        "start_time": "2021-10-02T09:35:02.940Z"
      },
      {
        "duration": 11,
        "start_time": "2021-10-02T09:35:04.533Z"
      },
      {
        "duration": 11,
        "start_time": "2021-10-02T09:35:13.492Z"
      },
      {
        "duration": 63,
        "start_time": "2021-10-02T09:35:14.014Z"
      },
      {
        "duration": 8,
        "start_time": "2021-10-02T09:35:26.515Z"
      },
      {
        "duration": 36,
        "start_time": "2021-10-02T09:35:27.909Z"
      },
      {
        "duration": 19,
        "start_time": "2021-10-02T09:50:44.807Z"
      },
      {
        "duration": 50,
        "start_time": "2021-10-02T09:50:49.672Z"
      },
      {
        "duration": 56,
        "start_time": "2021-10-02T09:54:42.848Z"
      },
      {
        "duration": 21,
        "start_time": "2021-10-02T09:55:01.486Z"
      },
      {
        "duration": 17,
        "start_time": "2021-10-02T09:55:03.088Z"
      },
      {
        "duration": 81,
        "start_time": "2021-10-02T09:55:16.042Z"
      },
      {
        "duration": 26,
        "start_time": "2021-10-02T09:55:16.696Z"
      },
      {
        "duration": 9,
        "start_time": "2021-10-02T09:55:17.144Z"
      },
      {
        "duration": 59,
        "start_time": "2021-10-02T09:55:17.616Z"
      },
      {
        "duration": 4,
        "start_time": "2021-10-02T09:55:53.248Z"
      },
      {
        "duration": 1118,
        "start_time": "2021-10-02T09:55:53.416Z"
      },
      {
        "duration": 21,
        "start_time": "2021-10-02T09:55:54.537Z"
      },
      {
        "duration": 244,
        "start_time": "2021-10-02T09:55:54.562Z"
      },
      {
        "duration": 20,
        "start_time": "2021-10-02T09:55:54.809Z"
      },
      {
        "duration": 37,
        "start_time": "2021-10-02T09:55:54.831Z"
      },
      {
        "duration": 80,
        "start_time": "2021-10-02T09:55:54.870Z"
      },
      {
        "duration": 33,
        "start_time": "2021-10-02T09:55:54.954Z"
      },
      {
        "duration": 5,
        "start_time": "2021-10-02T09:56:28.353Z"
      },
      {
        "duration": 1170,
        "start_time": "2021-10-02T09:56:28.656Z"
      },
      {
        "duration": 21,
        "start_time": "2021-10-02T09:56:29.828Z"
      },
      {
        "duration": 169,
        "start_time": "2021-10-02T09:56:30.168Z"
      },
      {
        "duration": 52,
        "start_time": "2021-10-02T09:56:37.514Z"
      },
      {
        "duration": 63,
        "start_time": "2021-10-02T09:56:52.841Z"
      },
      {
        "duration": 37,
        "start_time": "2021-10-02T09:56:56.929Z"
      },
      {
        "duration": 69,
        "start_time": "2021-10-02T09:56:57.761Z"
      },
      {
        "duration": 42,
        "start_time": "2021-10-02T10:01:29.098Z"
      },
      {
        "duration": 3,
        "start_time": "2021-10-02T10:01:43.202Z"
      },
      {
        "duration": 50,
        "start_time": "2021-10-02T10:01:50.834Z"
      },
      {
        "duration": 4,
        "start_time": "2021-10-02T10:01:58.585Z"
      },
      {
        "duration": 60,
        "start_time": "2021-10-02T10:02:01.010Z"
      },
      {
        "duration": 5,
        "start_time": "2021-10-02T10:02:19.337Z"
      },
      {
        "duration": 1175,
        "start_time": "2021-10-02T10:02:19.521Z"
      },
      {
        "duration": 31,
        "start_time": "2021-10-02T10:02:20.699Z"
      },
      {
        "duration": 168,
        "start_time": "2021-10-02T10:02:20.732Z"
      },
      {
        "duration": 48,
        "start_time": "2021-10-02T10:02:20.902Z"
      },
      {
        "duration": 8,
        "start_time": "2021-10-02T10:02:21.467Z"
      },
      {
        "duration": 46,
        "start_time": "2021-10-02T10:02:22.087Z"
      },
      {
        "duration": 52,
        "start_time": "2021-10-02T10:02:22.905Z"
      },
      {
        "duration": 38,
        "start_time": "2021-10-02T10:02:25.041Z"
      },
      {
        "duration": 49,
        "start_time": "2021-10-02T10:02:25.569Z"
      },
      {
        "duration": 55,
        "start_time": "2021-10-02T10:02:27.306Z"
      },
      {
        "duration": 4,
        "start_time": "2021-10-02T10:02:47.131Z"
      },
      {
        "duration": 1052,
        "start_time": "2021-10-02T10:02:47.306Z"
      },
      {
        "duration": 19,
        "start_time": "2021-10-02T10:02:48.361Z"
      },
      {
        "duration": 172,
        "start_time": "2021-10-02T10:02:48.383Z"
      },
      {
        "duration": 44,
        "start_time": "2021-10-02T10:02:48.558Z"
      },
      {
        "duration": 25,
        "start_time": "2021-10-02T10:02:48.605Z"
      },
      {
        "duration": 36,
        "start_time": "2021-10-02T10:02:50.177Z"
      },
      {
        "duration": 50,
        "start_time": "2021-10-02T10:02:50.554Z"
      },
      {
        "duration": 44,
        "start_time": "2021-10-02T10:02:52.425Z"
      },
      {
        "duration": 32,
        "start_time": "2021-10-02T10:02:53.842Z"
      },
      {
        "duration": 46,
        "start_time": "2021-10-02T10:02:54.545Z"
      },
      {
        "duration": 4,
        "start_time": "2021-10-02T10:03:05.218Z"
      },
      {
        "duration": 45,
        "start_time": "2021-10-02T10:03:06.418Z"
      },
      {
        "duration": 22,
        "start_time": "2021-10-02T10:03:20.249Z"
      },
      {
        "duration": 89,
        "start_time": "2021-10-02T10:03:20.563Z"
      },
      {
        "duration": 4,
        "start_time": "2021-10-02T10:03:43.330Z"
      },
      {
        "duration": 1173,
        "start_time": "2021-10-02T10:03:43.529Z"
      },
      {
        "duration": 32,
        "start_time": "2021-10-02T10:03:44.705Z"
      },
      {
        "duration": 188,
        "start_time": "2021-10-02T10:03:44.741Z"
      },
      {
        "duration": 44,
        "start_time": "2021-10-02T10:03:44.932Z"
      },
      {
        "duration": 23,
        "start_time": "2021-10-02T10:03:44.979Z"
      },
      {
        "duration": 63,
        "start_time": "2021-10-02T10:03:45.005Z"
      },
      {
        "duration": 50,
        "start_time": "2021-10-02T10:03:45.092Z"
      },
      {
        "duration": 64,
        "start_time": "2021-10-02T10:03:46.154Z"
      },
      {
        "duration": 31,
        "start_time": "2021-10-02T10:03:48.283Z"
      },
      {
        "duration": 44,
        "start_time": "2021-10-02T10:03:51.562Z"
      },
      {
        "duration": 13,
        "start_time": "2021-10-02T10:04:27.907Z"
      },
      {
        "duration": 11,
        "start_time": "2021-10-02T10:04:33.323Z"
      },
      {
        "duration": 20,
        "start_time": "2021-10-02T10:04:45.164Z"
      },
      {
        "duration": 17,
        "start_time": "2021-10-02T10:04:45.523Z"
      },
      {
        "duration": 429,
        "start_time": "2021-10-02T10:04:50.786Z"
      },
      {
        "duration": 15,
        "start_time": "2021-10-02T10:04:51.325Z"
      },
      {
        "duration": 18,
        "start_time": "2021-10-02T10:05:13.077Z"
      },
      {
        "duration": 12,
        "start_time": "2021-10-02T10:05:14.180Z"
      },
      {
        "duration": 23,
        "start_time": "2021-10-02T10:06:57.658Z"
      },
      {
        "duration": 69,
        "start_time": "2021-10-02T10:11:47.981Z"
      },
      {
        "duration": 782,
        "start_time": "2021-10-02T10:14:05.372Z"
      },
      {
        "duration": 1251,
        "start_time": "2021-10-02T10:14:14.740Z"
      },
      {
        "duration": 112,
        "start_time": "2021-10-02T10:14:26.740Z"
      },
      {
        "duration": 93,
        "start_time": "2021-10-02T10:14:38.312Z"
      },
      {
        "duration": 104,
        "start_time": "2021-10-02T10:17:40.148Z"
      },
      {
        "duration": 392,
        "start_time": "2021-10-02T10:17:47.756Z"
      },
      {
        "duration": 406,
        "start_time": "2021-10-02T10:17:57.781Z"
      },
      {
        "duration": 114,
        "start_time": "2021-10-02T10:18:02.814Z"
      },
      {
        "duration": 143,
        "start_time": "2021-10-02T10:18:11.214Z"
      },
      {
        "duration": 121,
        "start_time": "2021-10-02T10:18:53.335Z"
      },
      {
        "duration": 137,
        "start_time": "2021-10-02T10:18:54.917Z"
      },
      {
        "duration": 163,
        "start_time": "2021-10-02T10:24:44.391Z"
      },
      {
        "duration": 4,
        "start_time": "2021-10-02T10:24:51.494Z"
      },
      {
        "duration": 3,
        "start_time": "2021-10-02T10:24:56.326Z"
      },
      {
        "duration": 115,
        "start_time": "2021-10-02T10:25:02.934Z"
      },
      {
        "duration": 4,
        "start_time": "2021-10-02T10:25:03.350Z"
      },
      {
        "duration": 279,
        "start_time": "2021-10-02T10:25:09.783Z"
      },
      {
        "duration": 113,
        "start_time": "2021-10-02T10:25:17.358Z"
      },
      {
        "duration": 127,
        "start_time": "2021-10-02T10:25:19.039Z"
      },
      {
        "duration": 118,
        "start_time": "2021-10-02T10:25:30.404Z"
      },
      {
        "duration": 3,
        "start_time": "2021-10-02T10:25:31.111Z"
      },
      {
        "duration": 289,
        "start_time": "2021-10-02T10:25:32.438Z"
      },
      {
        "duration": 280,
        "start_time": "2021-10-02T10:25:56.287Z"
      },
      {
        "duration": 7,
        "start_time": "2021-10-02T10:26:00.622Z"
      },
      {
        "duration": 1079,
        "start_time": "2021-10-02T10:26:00.774Z"
      },
      {
        "duration": 21,
        "start_time": "2021-10-02T10:26:01.855Z"
      },
      {
        "duration": 171,
        "start_time": "2021-10-02T10:26:01.880Z"
      },
      {
        "duration": 44,
        "start_time": "2021-10-02T10:26:02.053Z"
      },
      {
        "duration": 28,
        "start_time": "2021-10-02T10:26:02.099Z"
      },
      {
        "duration": 61,
        "start_time": "2021-10-02T10:26:02.129Z"
      },
      {
        "duration": 60,
        "start_time": "2021-10-02T10:26:02.192Z"
      },
      {
        "duration": 45,
        "start_time": "2021-10-02T10:26:02.255Z"
      },
      {
        "duration": 40,
        "start_time": "2021-10-02T10:26:02.303Z"
      },
      {
        "duration": 44,
        "start_time": "2021-10-02T10:26:02.461Z"
      },
      {
        "duration": 64,
        "start_time": "2021-10-02T10:26:02.630Z"
      },
      {
        "duration": 304,
        "start_time": "2021-10-02T10:26:02.789Z"
      },
      {
        "duration": 60,
        "start_time": "2021-10-02T10:26:03.096Z"
      },
      {
        "duration": 148,
        "start_time": "2021-10-02T10:26:17.158Z"
      },
      {
        "duration": 222,
        "start_time": "2021-10-02T10:26:28.143Z"
      },
      {
        "duration": 35,
        "start_time": "2021-10-02T10:26:29.087Z"
      },
      {
        "duration": 151,
        "start_time": "2021-10-02T10:26:31.558Z"
      },
      {
        "duration": 110,
        "start_time": "2021-10-02T10:27:38.056Z"
      },
      {
        "duration": 4,
        "start_time": "2021-10-02T10:27:38.871Z"
      },
      {
        "duration": 286,
        "start_time": "2021-10-02T10:27:41.062Z"
      },
      {
        "duration": 282,
        "start_time": "2021-10-02T10:27:45.431Z"
      },
      {
        "duration": 3,
        "start_time": "2021-10-02T10:27:48.231Z"
      },
      {
        "duration": 4,
        "start_time": "2021-10-02T10:27:53.238Z"
      },
      {
        "duration": 1527,
        "start_time": "2021-10-02T10:27:53.407Z"
      },
      {
        "duration": 31,
        "start_time": "2021-10-02T10:27:54.937Z"
      },
      {
        "duration": 260,
        "start_time": "2021-10-02T10:27:54.972Z"
      },
      {
        "duration": 127,
        "start_time": "2021-10-02T10:27:55.235Z"
      },
      {
        "duration": 17,
        "start_time": "2021-10-02T10:27:55.365Z"
      },
      {
        "duration": 52,
        "start_time": "2021-10-02T10:27:55.385Z"
      },
      {
        "duration": 53,
        "start_time": "2021-10-02T10:27:55.440Z"
      },
      {
        "duration": 60,
        "start_time": "2021-10-02T10:27:55.497Z"
      },
      {
        "duration": 42,
        "start_time": "2021-10-02T10:27:55.559Z"
      },
      {
        "duration": 56,
        "start_time": "2021-10-02T10:27:55.604Z"
      },
      {
        "duration": 108,
        "start_time": "2021-10-02T10:27:55.664Z"
      },
      {
        "duration": 100,
        "start_time": "2021-10-02T10:27:55.816Z"
      },
      {
        "duration": 16,
        "start_time": "2021-10-02T10:27:57.031Z"
      },
      {
        "duration": 7,
        "start_time": "2021-10-02T10:28:02.495Z"
      },
      {
        "duration": 13,
        "start_time": "2021-10-02T10:28:03.175Z"
      },
      {
        "duration": 4,
        "start_time": "2021-10-02T10:28:07.664Z"
      },
      {
        "duration": 1009,
        "start_time": "2021-10-02T10:28:07.822Z"
      },
      {
        "duration": 21,
        "start_time": "2021-10-02T10:28:08.833Z"
      },
      {
        "duration": 170,
        "start_time": "2021-10-02T10:28:08.857Z"
      },
      {
        "duration": 42,
        "start_time": "2021-10-02T10:28:09.030Z"
      },
      {
        "duration": 24,
        "start_time": "2021-10-02T10:28:09.074Z"
      },
      {
        "duration": 51,
        "start_time": "2021-10-02T10:28:09.101Z"
      },
      {
        "duration": 70,
        "start_time": "2021-10-02T10:28:09.154Z"
      },
      {
        "duration": 44,
        "start_time": "2021-10-02T10:28:09.228Z"
      },
      {
        "duration": 23,
        "start_time": "2021-10-02T10:28:09.296Z"
      },
      {
        "duration": 43,
        "start_time": "2021-10-02T10:28:10.822Z"
      },
      {
        "duration": 73,
        "start_time": "2021-10-02T10:28:10.983Z"
      },
      {
        "duration": 126,
        "start_time": "2021-10-02T10:28:11.158Z"
      },
      {
        "duration": 37,
        "start_time": "2021-10-02T10:28:13.479Z"
      },
      {
        "duration": 143,
        "start_time": "2021-10-02T10:28:20.646Z"
      },
      {
        "duration": 144,
        "start_time": "2021-10-02T10:28:46.694Z"
      },
      {
        "duration": 5,
        "start_time": "2021-10-02T10:29:12.214Z"
      },
      {
        "duration": 1042,
        "start_time": "2021-10-02T10:29:12.383Z"
      },
      {
        "duration": 22,
        "start_time": "2021-10-02T10:29:13.428Z"
      },
      {
        "duration": 174,
        "start_time": "2021-10-02T10:29:13.454Z"
      },
      {
        "duration": 45,
        "start_time": "2021-10-02T10:29:13.631Z"
      },
      {
        "duration": 18,
        "start_time": "2021-10-02T10:29:13.679Z"
      },
      {
        "duration": 52,
        "start_time": "2021-10-02T10:29:13.700Z"
      },
      {
        "duration": 80,
        "start_time": "2021-10-02T10:29:13.755Z"
      },
      {
        "duration": 45,
        "start_time": "2021-10-02T10:29:14.719Z"
      },
      {
        "duration": 23,
        "start_time": "2021-10-02T10:29:15.350Z"
      },
      {
        "duration": 44,
        "start_time": "2021-10-02T10:29:15.776Z"
      },
      {
        "duration": 62,
        "start_time": "2021-10-02T10:29:16.087Z"
      },
      {
        "duration": 13,
        "start_time": "2021-10-02T10:29:16.782Z"
      },
      {
        "duration": 128,
        "start_time": "2021-10-02T10:29:18.990Z"
      },
      {
        "duration": 35,
        "start_time": "2021-10-02T10:29:19.759Z"
      },
      {
        "duration": 146,
        "start_time": "2021-10-02T10:29:20.862Z"
      },
      {
        "duration": 145,
        "start_time": "2021-10-02T10:29:26.999Z"
      },
      {
        "duration": 11,
        "start_time": "2021-10-02T10:29:27.431Z"
      },
      {
        "duration": 64,
        "start_time": "2021-10-02T10:29:28.071Z"
      },
      {
        "duration": 42,
        "start_time": "2021-10-02T10:29:30.638Z"
      },
      {
        "duration": 13,
        "start_time": "2021-10-02T10:29:31.463Z"
      },
      {
        "duration": 86,
        "start_time": "2021-10-02T10:29:32.151Z"
      },
      {
        "duration": 4,
        "start_time": "2021-10-02T10:29:56.504Z"
      },
      {
        "duration": 1035,
        "start_time": "2021-10-02T10:29:56.679Z"
      },
      {
        "duration": 25,
        "start_time": "2021-10-02T10:29:57.716Z"
      },
      {
        "duration": 286,
        "start_time": "2021-10-02T10:29:57.745Z"
      },
      {
        "duration": 90,
        "start_time": "2021-10-02T10:29:58.034Z"
      },
      {
        "duration": 17,
        "start_time": "2021-10-02T10:29:58.127Z"
      },
      {
        "duration": 78,
        "start_time": "2021-10-02T10:29:58.147Z"
      },
      {
        "duration": 84,
        "start_time": "2021-10-02T10:29:58.228Z"
      },
      {
        "duration": 67,
        "start_time": "2021-10-02T10:29:58.316Z"
      },
      {
        "duration": 24,
        "start_time": "2021-10-02T10:29:58.543Z"
      },
      {
        "duration": 43,
        "start_time": "2021-10-02T10:29:59.486Z"
      },
      {
        "duration": 62,
        "start_time": "2021-10-02T10:29:59.976Z"
      },
      {
        "duration": 153,
        "start_time": "2021-10-02T10:30:00.527Z"
      },
      {
        "duration": 135,
        "start_time": "2021-10-02T10:30:03.623Z"
      },
      {
        "duration": 143,
        "start_time": "2021-10-02T10:30:04.399Z"
      },
      {
        "duration": 148,
        "start_time": "2021-10-02T10:30:05.576Z"
      },
      {
        "duration": 37,
        "start_time": "2021-10-02T10:30:25.771Z"
      },
      {
        "duration": 130,
        "start_time": "2021-10-02T10:30:32.583Z"
      },
      {
        "duration": 129,
        "start_time": "2021-10-02T10:30:33.631Z"
      },
      {
        "duration": 129,
        "start_time": "2021-10-02T10:30:34.376Z"
      },
      {
        "duration": 36,
        "start_time": "2021-10-02T10:30:35.160Z"
      },
      {
        "duration": 1516,
        "start_time": "2021-10-02T13:37:30.999Z"
      },
      {
        "duration": 1163,
        "start_time": "2021-10-02T13:37:32.517Z"
      },
      {
        "duration": 24,
        "start_time": "2021-10-02T13:37:33.683Z"
      },
      {
        "duration": 160,
        "start_time": "2021-10-02T13:37:33.723Z"
      },
      {
        "duration": 47,
        "start_time": "2021-10-02T13:37:33.885Z"
      },
      {
        "duration": 16,
        "start_time": "2021-10-02T13:37:33.935Z"
      },
      {
        "duration": 37,
        "start_time": "2021-10-02T13:37:33.953Z"
      },
      {
        "duration": 75,
        "start_time": "2021-10-02T13:37:33.994Z"
      },
      {
        "duration": 63,
        "start_time": "2021-10-02T13:37:34.072Z"
      },
      {
        "duration": 30,
        "start_time": "2021-10-02T13:37:34.137Z"
      },
      {
        "duration": 59,
        "start_time": "2021-10-02T13:37:34.169Z"
      },
      {
        "duration": 63,
        "start_time": "2021-10-02T13:37:34.230Z"
      },
      {
        "duration": 179,
        "start_time": "2021-10-02T13:37:34.295Z"
      },
      {
        "duration": 149,
        "start_time": "2021-10-02T13:37:34.476Z"
      },
      {
        "duration": 127,
        "start_time": "2021-10-02T13:37:34.628Z"
      },
      {
        "duration": 130,
        "start_time": "2021-10-02T13:37:34.927Z"
      },
      {
        "duration": 36,
        "start_time": "2021-10-02T13:37:35.287Z"
      },
      {
        "duration": 18,
        "start_time": "2021-10-02T13:37:35.670Z"
      },
      {
        "duration": 35,
        "start_time": "2021-10-02T13:37:36.087Z"
      },
      {
        "duration": 13,
        "start_time": "2021-10-02T13:37:36.535Z"
      },
      {
        "duration": 62,
        "start_time": "2021-10-02T13:37:37.143Z"
      },
      {
        "duration": 19,
        "start_time": "2021-10-02T13:37:37.823Z"
      },
      {
        "duration": 7,
        "start_time": "2021-10-02T13:37:38.232Z"
      },
      {
        "duration": 48,
        "start_time": "2021-10-02T13:37:38.607Z"
      },
      {
        "duration": 990,
        "start_time": "2021-10-02T13:37:39.062Z"
      },
      {
        "duration": 2349,
        "start_time": "2021-10-02T13:37:40.056Z"
      },
      {
        "duration": 49,
        "start_time": "2021-10-02T13:37:42.409Z"
      },
      {
        "duration": 39,
        "start_time": "2021-10-02T13:37:42.460Z"
      },
      {
        "duration": 54,
        "start_time": "2021-10-02T13:37:42.502Z"
      },
      {
        "duration": 333,
        "start_time": "2021-10-02T13:37:43.208Z"
      },
      {
        "duration": 62,
        "start_time": "2021-10-02T13:37:43.792Z"
      },
      {
        "duration": 131,
        "start_time": "2021-10-02T13:37:44.400Z"
      },
      {
        "duration": 6,
        "start_time": "2021-10-02T13:37:44.983Z"
      },
      {
        "duration": 125,
        "start_time": "2021-10-02T13:37:45.462Z"
      },
      {
        "duration": 12,
        "start_time": "2021-10-02T13:37:45.856Z"
      },
      {
        "duration": 15,
        "start_time": "2021-10-02T13:37:46.239Z"
      },
      {
        "duration": 37,
        "start_time": "2021-10-02T13:37:46.608Z"
      },
      {
        "duration": 9,
        "start_time": "2021-10-02T13:37:47.031Z"
      },
      {
        "duration": 9,
        "start_time": "2021-10-02T13:37:47.447Z"
      },
      {
        "duration": 28,
        "start_time": "2021-10-02T13:37:47.655Z"
      },
      {
        "duration": 298,
        "start_time": "2021-10-02T13:37:47.856Z"
      },
      {
        "duration": 21,
        "start_time": "2021-10-02T13:37:48.223Z"
      },
      {
        "duration": 18,
        "start_time": "2021-10-02T13:37:50.271Z"
      },
      {
        "duration": 645,
        "start_time": "2021-10-02T13:37:55.632Z"
      },
      {
        "duration": 53,
        "start_time": "2021-10-02T13:37:56.279Z"
      },
      {
        "duration": 28,
        "start_time": "2021-10-02T13:37:56.334Z"
      },
      {
        "duration": 168,
        "start_time": "2021-10-02T13:37:56.879Z"
      },
      {
        "duration": 24,
        "start_time": "2021-10-02T13:37:57.359Z"
      },
      {
        "duration": 22,
        "start_time": "2021-10-02T13:38:08.599Z"
      },
      {
        "duration": 25,
        "start_time": "2021-10-02T13:38:09.239Z"
      },
      {
        "duration": 1237,
        "start_time": "2021-10-02T13:38:10.512Z"
      },
      {
        "duration": 478,
        "start_time": "2021-10-02T13:38:23.776Z"
      },
      {
        "duration": 6,
        "start_time": "2021-10-02T13:38:39.040Z"
      },
      {
        "duration": 5,
        "start_time": "2021-10-02T13:38:45.504Z"
      },
      {
        "duration": 1616,
        "start_time": "2021-10-02T13:40:18.593Z"
      },
      {
        "duration": 1063,
        "start_time": "2021-10-02T13:40:20.212Z"
      },
      {
        "duration": 25,
        "start_time": "2021-10-02T13:40:21.278Z"
      },
      {
        "duration": 169,
        "start_time": "2021-10-02T13:40:21.306Z"
      },
      {
        "duration": 50,
        "start_time": "2021-10-02T13:40:21.477Z"
      },
      {
        "duration": 15,
        "start_time": "2021-10-02T13:40:21.529Z"
      },
      {
        "duration": 37,
        "start_time": "2021-10-02T13:40:21.547Z"
      },
      {
        "duration": 78,
        "start_time": "2021-10-02T13:40:21.590Z"
      },
      {
        "duration": 61,
        "start_time": "2021-10-02T13:40:21.671Z"
      },
      {
        "duration": 37,
        "start_time": "2021-10-02T13:40:21.735Z"
      },
      {
        "duration": 57,
        "start_time": "2021-10-02T13:40:21.775Z"
      },
      {
        "duration": 79,
        "start_time": "2021-10-02T13:40:21.834Z"
      },
      {
        "duration": 160,
        "start_time": "2021-10-02T13:40:21.916Z"
      },
      {
        "duration": 140,
        "start_time": "2021-10-02T13:40:22.078Z"
      },
      {
        "duration": 132,
        "start_time": "2021-10-02T13:40:22.222Z"
      },
      {
        "duration": 138,
        "start_time": "2021-10-02T13:40:22.357Z"
      },
      {
        "duration": 44,
        "start_time": "2021-10-02T13:40:22.498Z"
      },
      {
        "duration": 29,
        "start_time": "2021-10-02T13:40:22.545Z"
      },
      {
        "duration": 69,
        "start_time": "2021-10-02T13:40:22.577Z"
      },
      {
        "duration": 47,
        "start_time": "2021-10-02T13:40:22.649Z"
      },
      {
        "duration": 94,
        "start_time": "2021-10-02T13:40:22.699Z"
      },
      {
        "duration": 20,
        "start_time": "2021-10-02T13:40:22.795Z"
      },
      {
        "duration": 8,
        "start_time": "2021-10-02T13:40:22.820Z"
      },
      {
        "duration": 49,
        "start_time": "2021-10-02T13:40:22.831Z"
      },
      {
        "duration": 1017,
        "start_time": "2021-10-02T13:40:22.883Z"
      },
      {
        "duration": 2270,
        "start_time": "2021-10-02T13:40:23.902Z"
      },
      {
        "duration": 50,
        "start_time": "2021-10-02T13:40:26.175Z"
      },
      {
        "duration": 36,
        "start_time": "2021-10-02T13:40:26.227Z"
      },
      {
        "duration": 59,
        "start_time": "2021-10-02T13:40:26.266Z"
      },
      {
        "duration": 336,
        "start_time": "2021-10-02T13:40:26.327Z"
      },
      {
        "duration": 74,
        "start_time": "2021-10-02T13:40:26.665Z"
      },
      {
        "duration": 136,
        "start_time": "2021-10-02T13:40:26.741Z"
      },
      {
        "duration": 6,
        "start_time": "2021-10-02T13:40:26.879Z"
      },
      {
        "duration": 149,
        "start_time": "2021-10-02T13:40:26.887Z"
      },
      {
        "duration": 13,
        "start_time": "2021-10-02T13:40:27.038Z"
      },
      {
        "duration": 18,
        "start_time": "2021-10-02T13:40:27.054Z"
      },
      {
        "duration": 65,
        "start_time": "2021-10-02T13:40:27.074Z"
      },
      {
        "duration": 10,
        "start_time": "2021-10-02T13:40:27.141Z"
      },
      {
        "duration": 27,
        "start_time": "2021-10-02T13:40:27.153Z"
      },
      {
        "duration": 40,
        "start_time": "2021-10-02T13:40:27.183Z"
      },
      {
        "duration": 312,
        "start_time": "2021-10-02T13:40:27.225Z"
      },
      {
        "duration": 20,
        "start_time": "2021-10-02T13:40:27.540Z"
      },
      {
        "duration": 17,
        "start_time": "2021-10-02T13:40:27.563Z"
      },
      {
        "duration": 660,
        "start_time": "2021-10-02T13:40:27.582Z"
      },
      {
        "duration": 40,
        "start_time": "2021-10-02T13:40:28.244Z"
      },
      {
        "duration": 49,
        "start_time": "2021-10-02T13:40:28.287Z"
      },
      {
        "duration": 23,
        "start_time": "2021-10-02T13:40:28.338Z"
      },
      {
        "duration": 33,
        "start_time": "2021-10-02T13:40:28.363Z"
      },
      {
        "duration": 1142,
        "start_time": "2021-10-02T13:40:28.399Z"
      },
      {
        "duration": 6,
        "start_time": "2021-10-02T13:40:29.544Z"
      },
      {
        "duration": 20,
        "start_time": "2021-10-02T13:41:42.903Z"
      },
      {
        "duration": 4453,
        "start_time": "2021-10-02T13:44:23.287Z"
      },
      {
        "duration": 5056,
        "start_time": "2021-10-02T13:44:45.551Z"
      },
      {
        "duration": 374,
        "start_time": "2021-10-02T13:46:21.008Z"
      },
      {
        "duration": 76,
        "start_time": "2021-10-02T14:40:12.483Z"
      },
      {
        "duration": 4,
        "start_time": "2021-10-02T15:03:42.312Z"
      },
      {
        "duration": 1100,
        "start_time": "2021-10-02T15:03:42.473Z"
      },
      {
        "duration": 21,
        "start_time": "2021-10-02T15:03:43.575Z"
      },
      {
        "duration": 175,
        "start_time": "2021-10-02T15:03:43.598Z"
      },
      {
        "duration": 53,
        "start_time": "2021-10-02T15:03:43.775Z"
      },
      {
        "duration": 15,
        "start_time": "2021-10-02T15:03:43.831Z"
      },
      {
        "duration": 44,
        "start_time": "2021-10-02T15:03:43.849Z"
      },
      {
        "duration": 49,
        "start_time": "2021-10-02T15:03:44.650Z"
      },
      {
        "duration": 45,
        "start_time": "2021-10-02T15:03:47.218Z"
      },
      {
        "duration": 24,
        "start_time": "2021-10-02T15:03:47.956Z"
      },
      {
        "duration": 43,
        "start_time": "2021-10-02T15:03:48.408Z"
      },
      {
        "duration": 62,
        "start_time": "2021-10-02T15:03:48.809Z"
      },
      {
        "duration": 159,
        "start_time": "2021-10-02T15:03:49.585Z"
      },
      {
        "duration": 127,
        "start_time": "2021-10-02T15:03:56.528Z"
      },
      {
        "duration": 140,
        "start_time": "2021-10-02T15:03:57.288Z"
      },
      {
        "duration": 150,
        "start_time": "2021-10-02T15:04:20.935Z"
      },
      {
        "duration": 1577,
        "start_time": "2021-10-04T17:49:08.491Z"
      },
      {
        "duration": 1082,
        "start_time": "2021-10-04T17:49:10.070Z"
      },
      {
        "duration": 24,
        "start_time": "2021-10-04T17:49:11.155Z"
      },
      {
        "duration": 173,
        "start_time": "2021-10-04T17:49:11.181Z"
      },
      {
        "duration": 49,
        "start_time": "2021-10-04T17:49:11.358Z"
      },
      {
        "duration": 26,
        "start_time": "2021-10-04T17:49:11.409Z"
      },
      {
        "duration": 53,
        "start_time": "2021-10-04T17:49:11.438Z"
      },
      {
        "duration": 79,
        "start_time": "2021-10-04T17:49:11.496Z"
      },
      {
        "duration": 46,
        "start_time": "2021-10-04T17:49:12.260Z"
      },
      {
        "duration": 24,
        "start_time": "2021-10-04T17:49:12.733Z"
      },
      {
        "duration": 44,
        "start_time": "2021-10-04T17:49:13.068Z"
      },
      {
        "duration": 61,
        "start_time": "2021-10-04T17:49:14.541Z"
      },
      {
        "duration": 163,
        "start_time": "2021-10-04T17:49:15.212Z"
      },
      {
        "duration": 138,
        "start_time": "2021-10-04T17:49:16.181Z"
      },
      {
        "duration": 151,
        "start_time": "2021-10-04T17:49:17.268Z"
      },
      {
        "duration": 146,
        "start_time": "2021-10-04T17:49:17.996Z"
      },
      {
        "duration": 34,
        "start_time": "2021-10-04T17:49:18.782Z"
      },
      {
        "duration": 20,
        "start_time": "2021-10-04T17:49:19.387Z"
      },
      {
        "duration": 43,
        "start_time": "2021-10-04T17:49:19.924Z"
      },
      {
        "duration": 14,
        "start_time": "2021-10-04T17:49:20.516Z"
      },
      {
        "duration": 68,
        "start_time": "2021-10-04T17:49:21.293Z"
      },
      {
        "duration": 20,
        "start_time": "2021-10-04T17:49:22.172Z"
      },
      {
        "duration": 8,
        "start_time": "2021-10-04T17:49:22.589Z"
      },
      {
        "duration": 55,
        "start_time": "2021-10-04T17:49:22.900Z"
      },
      {
        "duration": 1020,
        "start_time": "2021-10-04T17:49:23.180Z"
      },
      {
        "duration": 2414,
        "start_time": "2021-10-04T17:49:24.268Z"
      },
      {
        "duration": 43,
        "start_time": "2021-10-04T17:49:26.686Z"
      },
      {
        "duration": 57,
        "start_time": "2021-10-04T17:49:26.732Z"
      },
      {
        "duration": 36,
        "start_time": "2021-10-04T17:49:26.792Z"
      },
      {
        "duration": 427,
        "start_time": "2021-10-04T17:49:27.452Z"
      },
      {
        "duration": 63,
        "start_time": "2021-10-04T17:49:28.172Z"
      },
      {
        "duration": 150,
        "start_time": "2021-10-04T17:49:29.389Z"
      },
      {
        "duration": 6,
        "start_time": "2021-10-04T17:49:30.148Z"
      },
      {
        "duration": 144,
        "start_time": "2021-10-04T17:49:30.797Z"
      },
      {
        "duration": 12,
        "start_time": "2021-10-04T17:49:31.469Z"
      },
      {
        "duration": 17,
        "start_time": "2021-10-04T17:49:32.205Z"
      },
      {
        "duration": 45,
        "start_time": "2021-10-04T17:49:32.964Z"
      },
      {
        "duration": 10,
        "start_time": "2021-10-04T17:49:33.898Z"
      },
      {
        "duration": 9,
        "start_time": "2021-10-04T17:49:34.685Z"
      },
      {
        "duration": 42,
        "start_time": "2021-10-04T17:49:35.316Z"
      },
      {
        "duration": 313,
        "start_time": "2021-10-04T17:49:36.836Z"
      },
      {
        "duration": 27,
        "start_time": "2021-10-04T17:49:37.820Z"
      },
      {
        "duration": 19,
        "start_time": "2021-10-04T17:49:38.548Z"
      },
      {
        "duration": 624,
        "start_time": "2021-10-04T17:49:41.540Z"
      },
      {
        "duration": 46,
        "start_time": "2021-10-04T17:49:42.389Z"
      },
      {
        "duration": 27,
        "start_time": "2021-10-04T17:49:43.132Z"
      },
      {
        "duration": 23,
        "start_time": "2021-10-04T17:49:43.900Z"
      },
      {
        "duration": 26,
        "start_time": "2021-10-04T17:49:45.845Z"
      },
      {
        "duration": 1133,
        "start_time": "2021-10-04T17:49:46.438Z"
      },
      {
        "duration": 6,
        "start_time": "2021-10-04T17:49:47.669Z"
      },
      {
        "duration": 25,
        "start_time": "2021-10-04T17:49:48.124Z"
      },
      {
        "duration": 563,
        "start_time": "2021-10-04T17:49:48.726Z"
      },
      {
        "duration": 95,
        "start_time": "2021-10-04T17:49:49.292Z"
      },
      {
        "duration": 85,
        "start_time": "2021-10-04T17:51:53.439Z"
      },
      {
        "duration": 8,
        "start_time": "2021-10-04T17:51:54.750Z"
      },
      {
        "duration": 4,
        "start_time": "2021-10-04T17:52:02.182Z"
      },
      {
        "duration": 1115,
        "start_time": "2021-10-04T17:52:02.365Z"
      },
      {
        "duration": 20,
        "start_time": "2021-10-04T17:52:03.483Z"
      },
      {
        "duration": 182,
        "start_time": "2021-10-04T17:52:03.506Z"
      },
      {
        "duration": 43,
        "start_time": "2021-10-04T17:52:03.691Z"
      },
      {
        "duration": 24,
        "start_time": "2021-10-04T17:52:03.736Z"
      },
      {
        "duration": 52,
        "start_time": "2021-10-04T17:52:03.762Z"
      },
      {
        "duration": 66,
        "start_time": "2021-10-04T17:52:03.817Z"
      },
      {
        "duration": 43,
        "start_time": "2021-10-04T17:52:04.540Z"
      },
      {
        "duration": 23,
        "start_time": "2021-10-04T17:52:04.876Z"
      },
      {
        "duration": 43,
        "start_time": "2021-10-04T17:52:05.221Z"
      },
      {
        "duration": 62,
        "start_time": "2021-10-04T17:52:05.425Z"
      },
      {
        "duration": 156,
        "start_time": "2021-10-04T17:52:06.332Z"
      },
      {
        "duration": 75,
        "start_time": "2021-10-04T17:52:08.853Z"
      },
      {
        "duration": 9,
        "start_time": "2021-10-04T17:52:09.500Z"
      },
      {
        "duration": 7,
        "start_time": "2021-10-04T17:52:15.485Z"
      },
      {
        "duration": 9,
        "start_time": "2021-10-04T17:52:16.157Z"
      },
      {
        "duration": 5,
        "start_time": "2021-10-04T17:52:20.372Z"
      },
      {
        "duration": 1069,
        "start_time": "2021-10-04T17:52:20.532Z"
      },
      {
        "duration": 22,
        "start_time": "2021-10-04T17:52:21.603Z"
      },
      {
        "duration": 172,
        "start_time": "2021-10-04T17:52:21.628Z"
      },
      {
        "duration": 60,
        "start_time": "2021-10-04T17:52:21.804Z"
      },
      {
        "duration": 12,
        "start_time": "2021-10-04T17:52:21.866Z"
      },
      {
        "duration": 43,
        "start_time": "2021-10-04T17:52:21.880Z"
      },
      {
        "duration": 74,
        "start_time": "2021-10-04T17:52:21.925Z"
      },
      {
        "duration": 41,
        "start_time": "2021-10-04T17:52:22.070Z"
      },
      {
        "duration": 23,
        "start_time": "2021-10-04T17:52:22.589Z"
      },
      {
        "duration": 43,
        "start_time": "2021-10-04T17:52:23.036Z"
      },
      {
        "duration": 62,
        "start_time": "2021-10-04T17:52:23.213Z"
      },
      {
        "duration": 160,
        "start_time": "2021-10-04T17:52:23.420Z"
      },
      {
        "duration": 114,
        "start_time": "2021-10-04T17:52:24.797Z"
      },
      {
        "duration": 131,
        "start_time": "2021-10-04T17:52:25.428Z"
      },
      {
        "duration": 4,
        "start_time": "2021-10-04T17:52:41.909Z"
      },
      {
        "duration": 24,
        "start_time": "2021-10-04T17:52:45.471Z"
      },
      {
        "duration": 4,
        "start_time": "2021-10-04T17:52:49.725Z"
      },
      {
        "duration": 1059,
        "start_time": "2021-10-04T17:52:49.916Z"
      },
      {
        "duration": 20,
        "start_time": "2021-10-04T17:52:50.978Z"
      },
      {
        "duration": 167,
        "start_time": "2021-10-04T17:52:51.001Z"
      },
      {
        "duration": 43,
        "start_time": "2021-10-04T17:52:51.171Z"
      },
      {
        "duration": 15,
        "start_time": "2021-10-04T17:52:51.216Z"
      },
      {
        "duration": 59,
        "start_time": "2021-10-04T17:52:51.234Z"
      },
      {
        "duration": 71,
        "start_time": "2021-10-04T17:52:51.296Z"
      },
      {
        "duration": 46,
        "start_time": "2021-10-04T17:52:51.796Z"
      },
      {
        "duration": 23,
        "start_time": "2021-10-04T17:52:53.278Z"
      },
      {
        "duration": 44,
        "start_time": "2021-10-04T17:52:54.045Z"
      },
      {
        "duration": 62,
        "start_time": "2021-10-04T17:52:55.509Z"
      },
      {
        "duration": 154,
        "start_time": "2021-10-04T17:52:56.733Z"
      },
      {
        "duration": 34,
        "start_time": "2021-10-04T17:53:31.496Z"
      },
      {
        "duration": 8,
        "start_time": "2021-10-04T17:53:53.405Z"
      },
      {
        "duration": 26,
        "start_time": "2021-10-04T17:53:57.117Z"
      },
      {
        "duration": 22,
        "start_time": "2021-10-04T17:55:00.431Z"
      },
      {
        "duration": 14,
        "start_time": "2021-10-04T17:55:05.351Z"
      },
      {
        "duration": 15,
        "start_time": "2021-10-04T17:55:10.229Z"
      },
      {
        "duration": 15,
        "start_time": "2021-10-04T17:55:13.437Z"
      },
      {
        "duration": 32,
        "start_time": "2021-10-04T17:55:19.198Z"
      },
      {
        "duration": 41,
        "start_time": "2021-10-04T17:55:27.542Z"
      },
      {
        "duration": 32,
        "start_time": "2021-10-04T17:55:29.910Z"
      },
      {
        "duration": 26,
        "start_time": "2021-10-04T17:55:38.824Z"
      },
      {
        "duration": 27,
        "start_time": "2021-10-04T17:56:11.360Z"
      },
      {
        "duration": 24,
        "start_time": "2021-10-04T17:56:17.427Z"
      },
      {
        "duration": 32,
        "start_time": "2021-10-04T17:56:45.655Z"
      },
      {
        "duration": 33,
        "start_time": "2021-10-04T17:56:49.431Z"
      },
      {
        "duration": 32,
        "start_time": "2021-10-04T17:56:53.047Z"
      },
      {
        "duration": 33,
        "start_time": "2021-10-04T17:57:26.375Z"
      },
      {
        "duration": 25,
        "start_time": "2021-10-04T17:57:35.336Z"
      },
      {
        "duration": 47,
        "start_time": "2021-10-04T17:57:50.512Z"
      },
      {
        "duration": 33,
        "start_time": "2021-10-04T17:57:55.150Z"
      },
      {
        "duration": 27,
        "start_time": "2021-10-04T17:58:00.840Z"
      },
      {
        "duration": 32,
        "start_time": "2021-10-04T17:58:26.703Z"
      },
      {
        "duration": 51,
        "start_time": "2021-10-04T17:58:30.190Z"
      },
      {
        "duration": 1904,
        "start_time": "2021-10-04T17:58:52.758Z"
      },
      {
        "duration": 56,
        "start_time": "2021-10-04T17:59:04.974Z"
      },
      {
        "duration": 32,
        "start_time": "2021-10-04T17:59:21.000Z"
      },
      {
        "duration": 52,
        "start_time": "2021-10-04T17:59:25.149Z"
      },
      {
        "duration": 48,
        "start_time": "2021-10-04T17:59:36.015Z"
      },
      {
        "duration": 27,
        "start_time": "2021-10-04T17:59:40.430Z"
      },
      {
        "duration": 15,
        "start_time": "2021-10-04T17:59:47.703Z"
      },
      {
        "duration": 16,
        "start_time": "2021-10-04T17:59:51.295Z"
      },
      {
        "duration": 16,
        "start_time": "2021-10-04T17:59:55.215Z"
      },
      {
        "duration": 47,
        "start_time": "2021-10-04T17:59:59.588Z"
      },
      {
        "duration": 18,
        "start_time": "2021-10-04T18:00:04.014Z"
      },
      {
        "duration": 48,
        "start_time": "2021-10-04T18:00:07.191Z"
      },
      {
        "duration": 17,
        "start_time": "2021-10-04T18:00:35.872Z"
      },
      {
        "duration": 14,
        "start_time": "2021-10-04T18:00:41.071Z"
      },
      {
        "duration": 54,
        "start_time": "2021-10-04T18:00:43.533Z"
      },
      {
        "duration": 26,
        "start_time": "2021-10-04T18:00:44.327Z"
      },
      {
        "duration": 47,
        "start_time": "2021-10-04T18:00:52.055Z"
      },
      {
        "duration": 24,
        "start_time": "2021-10-04T18:00:52.671Z"
      },
      {
        "duration": 22,
        "start_time": "2021-10-04T18:02:21.176Z"
      },
      {
        "duration": 50,
        "start_time": "2021-10-04T18:02:23.816Z"
      },
      {
        "duration": 25,
        "start_time": "2021-10-04T18:02:24.415Z"
      },
      {
        "duration": 24,
        "start_time": "2021-10-04T18:02:30.695Z"
      },
      {
        "duration": 23,
        "start_time": "2021-10-04T18:02:40.634Z"
      },
      {
        "duration": 56,
        "start_time": "2021-10-04T18:02:47.071Z"
      },
      {
        "duration": 24,
        "start_time": "2021-10-04T18:02:47.879Z"
      },
      {
        "duration": 7,
        "start_time": "2021-10-04T18:03:53.064Z"
      },
      {
        "duration": 7,
        "start_time": "2021-10-04T18:03:59.151Z"
      },
      {
        "duration": 7,
        "start_time": "2021-10-04T18:04:02.495Z"
      },
      {
        "duration": 48,
        "start_time": "2021-10-04T18:04:07.505Z"
      },
      {
        "duration": 23,
        "start_time": "2021-10-04T18:04:08.001Z"
      },
      {
        "duration": 7,
        "start_time": "2021-10-04T18:04:08.912Z"
      },
      {
        "duration": 359,
        "start_time": "2021-10-04T18:05:29.399Z"
      },
      {
        "duration": 440,
        "start_time": "2021-10-04T18:05:38.455Z"
      },
      {
        "duration": 7,
        "start_time": "2021-10-04T18:05:47.872Z"
      },
      {
        "duration": 4,
        "start_time": "2021-10-04T18:08:31.520Z"
      },
      {
        "duration": 1036,
        "start_time": "2021-10-04T18:08:31.761Z"
      },
      {
        "duration": 20,
        "start_time": "2021-10-04T18:08:32.800Z"
      },
      {
        "duration": 182,
        "start_time": "2021-10-04T18:08:32.823Z"
      },
      {
        "duration": 42,
        "start_time": "2021-10-04T18:08:33.068Z"
      },
      {
        "duration": 23,
        "start_time": "2021-10-04T18:08:35.189Z"
      },
      {
        "duration": 44,
        "start_time": "2021-10-04T18:08:36.368Z"
      },
      {
        "duration": 154,
        "start_time": "2021-10-04T18:08:37.510Z"
      },
      {
        "duration": 157,
        "start_time": "2021-10-04T18:08:44.168Z"
      },
      {
        "duration": 149,
        "start_time": "2021-10-04T18:08:52.417Z"
      },
      {
        "duration": 4,
        "start_time": "2021-10-04T18:09:02.194Z"
      },
      {
        "duration": 1059,
        "start_time": "2021-10-04T18:09:02.553Z"
      },
      {
        "duration": 20,
        "start_time": "2021-10-04T18:09:03.614Z"
      },
      {
        "duration": 154,
        "start_time": "2021-10-04T18:09:04.346Z"
      },
      {
        "duration": 74,
        "start_time": "2021-10-04T18:09:04.858Z"
      },
      {
        "duration": 24,
        "start_time": "2021-10-04T18:09:05.792Z"
      },
      {
        "duration": 42,
        "start_time": "2021-10-04T18:09:06.083Z"
      },
      {
        "duration": 160,
        "start_time": "2021-10-04T18:09:07.510Z"
      },
      {
        "duration": 162,
        "start_time": "2021-10-04T18:09:08.952Z"
      },
      {
        "duration": 148,
        "start_time": "2021-10-04T18:09:13.377Z"
      },
      {
        "duration": 4,
        "start_time": "2021-10-04T18:09:44.985Z"
      },
      {
        "duration": 1061,
        "start_time": "2021-10-04T18:09:45.154Z"
      },
      {
        "duration": 22,
        "start_time": "2021-10-04T18:09:46.218Z"
      },
      {
        "duration": 166,
        "start_time": "2021-10-04T18:09:46.259Z"
      },
      {
        "duration": 54,
        "start_time": "2021-10-04T18:09:46.428Z"
      },
      {
        "duration": 22,
        "start_time": "2021-10-04T18:09:46.793Z"
      },
      {
        "duration": 44,
        "start_time": "2021-10-04T18:09:47.337Z"
      },
      {
        "duration": 155,
        "start_time": "2021-10-04T18:09:47.857Z"
      },
      {
        "duration": 161,
        "start_time": "2021-10-04T18:09:49.305Z"
      },
      {
        "duration": 166,
        "start_time": "2021-10-04T18:09:53.377Z"
      },
      {
        "duration": 84,
        "start_time": "2021-10-04T18:09:55.456Z"
      },
      {
        "duration": 304,
        "start_time": "2021-10-04T18:10:01.000Z"
      },
      {
        "duration": 147,
        "start_time": "2021-10-04T18:10:40.809Z"
      },
      {
        "duration": 4,
        "start_time": "2021-10-04T18:12:13.881Z"
      },
      {
        "duration": 1537,
        "start_time": "2021-10-04T18:12:14.057Z"
      },
      {
        "duration": 30,
        "start_time": "2021-10-04T18:12:15.598Z"
      },
      {
        "duration": 285,
        "start_time": "2021-10-04T18:12:15.631Z"
      },
      {
        "duration": 82,
        "start_time": "2021-10-04T18:12:15.919Z"
      },
      {
        "duration": 25,
        "start_time": "2021-10-04T18:12:16.005Z"
      },
      {
        "duration": 57,
        "start_time": "2021-10-04T18:12:16.032Z"
      },
      {
        "duration": 157,
        "start_time": "2021-10-04T18:12:16.400Z"
      },
      {
        "duration": 148,
        "start_time": "2021-10-04T18:12:17.441Z"
      },
      {
        "duration": 144,
        "start_time": "2021-10-04T18:12:18.744Z"
      },
      {
        "duration": 4,
        "start_time": "2021-10-04T18:12:57.729Z"
      },
      {
        "duration": 1035,
        "start_time": "2021-10-04T18:12:58.050Z"
      },
      {
        "duration": 20,
        "start_time": "2021-10-04T18:12:59.087Z"
      },
      {
        "duration": 168,
        "start_time": "2021-10-04T18:12:59.110Z"
      },
      {
        "duration": 44,
        "start_time": "2021-10-04T18:12:59.657Z"
      },
      {
        "duration": 23,
        "start_time": "2021-10-04T18:13:01.956Z"
      },
      {
        "duration": 76,
        "start_time": "2021-10-04T18:13:08.921Z"
      },
      {
        "duration": 158,
        "start_time": "2021-10-04T18:13:10.307Z"
      },
      {
        "duration": 173,
        "start_time": "2021-10-04T18:13:19.570Z"
      },
      {
        "duration": 144,
        "start_time": "2021-10-04T18:13:22.281Z"
      },
      {
        "duration": 6,
        "start_time": "2021-10-04T18:15:31.298Z"
      },
      {
        "duration": 225,
        "start_time": "2021-10-04T18:17:33.891Z"
      },
      {
        "duration": 20,
        "start_time": "2021-10-04T18:18:25.490Z"
      },
      {
        "duration": 43,
        "start_time": "2021-10-04T18:18:28.873Z"
      },
      {
        "duration": 40,
        "start_time": "2021-10-04T18:18:34.579Z"
      },
      {
        "duration": 4,
        "start_time": "2021-10-04T18:18:50.929Z"
      },
      {
        "duration": 1144,
        "start_time": "2021-10-04T18:18:51.106Z"
      },
      {
        "duration": 22,
        "start_time": "2021-10-04T18:18:52.256Z"
      },
      {
        "duration": 178,
        "start_time": "2021-10-04T18:18:52.282Z"
      },
      {
        "duration": 46,
        "start_time": "2021-10-04T18:18:52.464Z"
      },
      {
        "duration": 47,
        "start_time": "2021-10-04T18:18:52.513Z"
      },
      {
        "duration": 42,
        "start_time": "2021-10-04T18:18:53.426Z"
      },
      {
        "duration": 154,
        "start_time": "2021-10-04T18:18:54.562Z"
      },
      {
        "duration": 235,
        "start_time": "2021-10-04T18:18:55.588Z"
      },
      {
        "duration": 143,
        "start_time": "2021-10-04T18:18:59.602Z"
      },
      {
        "duration": 5,
        "start_time": "2021-10-04T18:19:00.549Z"
      },
      {
        "duration": 21,
        "start_time": "2021-10-04T18:19:03.331Z"
      },
      {
        "duration": 19,
        "start_time": "2021-10-04T18:19:04.130Z"
      },
      {
        "duration": 41,
        "start_time": "2021-10-04T18:19:04.586Z"
      },
      {
        "duration": 45,
        "start_time": "2021-10-04T18:19:05.106Z"
      },
      {
        "duration": 274,
        "start_time": "2021-10-04T18:51:24.024Z"
      },
      {
        "duration": 337,
        "start_time": "2021-10-04T18:51:30.743Z"
      },
      {
        "duration": 21,
        "start_time": "2021-10-04T18:51:36.800Z"
      },
      {
        "duration": 1556,
        "start_time": "2021-10-04T19:01:47.370Z"
      },
      {
        "duration": 1546,
        "start_time": "2021-10-04T19:02:14.937Z"
      },
      {
        "duration": 2165,
        "start_time": "2021-10-04T19:03:45.818Z"
      },
      {
        "duration": 591,
        "start_time": "2021-10-04T19:06:06.067Z"
      },
      {
        "duration": 309,
        "start_time": "2021-10-04T19:06:39.332Z"
      },
      {
        "duration": 1615,
        "start_time": "2021-10-04T19:06:49.387Z"
      },
      {
        "duration": 8404,
        "start_time": "2021-10-04T19:07:49.411Z"
      },
      {
        "duration": 7515,
        "start_time": "2021-10-04T19:08:09.252Z"
      },
      {
        "duration": 7369,
        "start_time": "2021-10-04T19:09:02.323Z"
      },
      {
        "duration": 5,
        "start_time": "2021-10-04T19:09:19.252Z"
      },
      {
        "duration": 1000,
        "start_time": "2021-10-04T19:09:19.409Z"
      },
      {
        "duration": 21,
        "start_time": "2021-10-04T19:09:20.412Z"
      },
      {
        "duration": 185,
        "start_time": "2021-10-04T19:09:20.435Z"
      },
      {
        "duration": 50,
        "start_time": "2021-10-04T19:09:20.623Z"
      },
      {
        "duration": 25,
        "start_time": "2021-10-04T19:09:20.675Z"
      },
      {
        "duration": 70,
        "start_time": "2021-10-04T19:09:20.703Z"
      },
      {
        "duration": 175,
        "start_time": "2021-10-04T19:09:20.777Z"
      },
      {
        "duration": 244,
        "start_time": "2021-10-04T19:09:20.958Z"
      },
      {
        "duration": 160,
        "start_time": "2021-10-04T19:09:21.205Z"
      },
      {
        "duration": 6,
        "start_time": "2021-10-04T19:09:21.367Z"
      },
      {
        "duration": 21,
        "start_time": "2021-10-04T19:09:21.375Z"
      },
      {
        "duration": 20,
        "start_time": "2021-10-04T19:09:21.517Z"
      },
      {
        "duration": 42,
        "start_time": "2021-10-04T19:09:21.690Z"
      },
      {
        "duration": 40,
        "start_time": "2021-10-04T19:09:21.861Z"
      },
      {
        "duration": 20,
        "start_time": "2021-10-04T19:09:22.034Z"
      },
      {
        "duration": 999,
        "start_time": "2021-10-04T19:09:22.210Z"
      },
      {
        "duration": 2408,
        "start_time": "2021-10-04T19:09:23.212Z"
      },
      {
        "duration": 56,
        "start_time": "2021-10-04T19:09:25.623Z"
      },
      {
        "duration": 305,
        "start_time": "2021-10-04T19:09:25.683Z"
      },
      {
        "duration": 1062,
        "start_time": "2021-10-04T19:09:25.991Z"
      },
      {
        "duration": 8,
        "start_time": "2021-10-04T19:09:27.058Z"
      },
      {
        "duration": 25,
        "start_time": "2021-10-04T19:09:27.069Z"
      },
      {
        "duration": 424,
        "start_time": "2021-10-04T19:09:27.099Z"
      },
      {
        "duration": 113,
        "start_time": "2021-10-04T19:09:27.526Z"
      },
      {
        "duration": 318,
        "start_time": "2021-10-04T19:09:27.641Z"
      },
      {
        "duration": 1983,
        "start_time": "2021-10-04T19:09:27.961Z"
      },
      {
        "duration": 1894,
        "start_time": "2021-10-04T19:09:47.374Z"
      },
      {
        "duration": 169,
        "start_time": "2021-10-04T19:09:56.146Z"
      },
      {
        "duration": 1520,
        "start_time": "2021-10-04T19:10:39.099Z"
      },
      {
        "duration": 222,
        "start_time": "2021-10-04T19:12:31.194Z"
      },
      {
        "duration": 1535,
        "start_time": "2021-10-04T19:12:38.978Z"
      },
      {
        "duration": 1614,
        "start_time": "2021-10-04T19:13:59.220Z"
      },
      {
        "duration": 88,
        "start_time": "2021-10-04T19:15:36.564Z"
      },
      {
        "duration": 925,
        "start_time": "2021-10-04T19:15:41.971Z"
      },
      {
        "duration": 98,
        "start_time": "2021-10-04T19:16:05.548Z"
      },
      {
        "duration": 97,
        "start_time": "2021-10-04T19:16:19.805Z"
      },
      {
        "duration": 94,
        "start_time": "2021-10-04T19:16:27.115Z"
      },
      {
        "duration": 84,
        "start_time": "2021-10-04T19:16:31.492Z"
      },
      {
        "duration": 648,
        "start_time": "2021-10-04T19:20:48.973Z"
      },
      {
        "duration": 159,
        "start_time": "2021-10-04T19:21:31.271Z"
      },
      {
        "duration": 113,
        "start_time": "2021-10-04T19:21:40.276Z"
      },
      {
        "duration": 90,
        "start_time": "2021-10-04T19:21:42.557Z"
      },
      {
        "duration": 1580,
        "start_time": "2021-10-04T19:21:44.902Z"
      },
      {
        "duration": 89,
        "start_time": "2021-10-04T19:22:05.440Z"
      },
      {
        "duration": 90,
        "start_time": "2021-10-04T19:22:14.276Z"
      },
      {
        "duration": 608,
        "start_time": "2021-10-04T19:23:52.382Z"
      },
      {
        "duration": 579,
        "start_time": "2021-10-04T19:24:59.280Z"
      },
      {
        "duration": 6,
        "start_time": "2021-10-04T19:25:04.118Z"
      },
      {
        "duration": 1192,
        "start_time": "2021-10-04T19:25:04.462Z"
      },
      {
        "duration": 21,
        "start_time": "2021-10-04T19:25:05.658Z"
      },
      {
        "duration": 180,
        "start_time": "2021-10-04T19:25:05.682Z"
      },
      {
        "duration": 43,
        "start_time": "2021-10-04T19:25:05.864Z"
      },
      {
        "duration": 22,
        "start_time": "2021-10-04T19:25:06.838Z"
      },
      {
        "duration": 43,
        "start_time": "2021-10-04T19:25:07.773Z"
      },
      {
        "duration": 166,
        "start_time": "2021-10-04T19:25:08.334Z"
      },
      {
        "duration": 217,
        "start_time": "2021-10-04T19:25:08.774Z"
      },
      {
        "duration": 119,
        "start_time": "2021-10-04T19:25:09.542Z"
      },
      {
        "duration": 6,
        "start_time": "2021-10-04T19:25:12.166Z"
      },
      {
        "duration": 20,
        "start_time": "2021-10-04T19:25:12.446Z"
      },
      {
        "duration": 19,
        "start_time": "2021-10-04T19:25:12.742Z"
      },
      {
        "duration": 41,
        "start_time": "2021-10-04T19:25:13.005Z"
      },
      {
        "duration": 40,
        "start_time": "2021-10-04T19:25:13.314Z"
      },
      {
        "duration": 20,
        "start_time": "2021-10-04T19:25:13.518Z"
      },
      {
        "duration": 1098,
        "start_time": "2021-10-04T19:25:13.735Z"
      },
      {
        "duration": 2605,
        "start_time": "2021-10-04T19:25:14.836Z"
      },
      {
        "duration": 46,
        "start_time": "2021-10-04T19:25:17.444Z"
      },
      {
        "duration": 319,
        "start_time": "2021-10-04T19:25:17.492Z"
      },
      {
        "duration": 1081,
        "start_time": "2021-10-04T19:25:17.814Z"
      },
      {
        "duration": 6,
        "start_time": "2021-10-04T19:25:18.897Z"
      },
      {
        "duration": 22,
        "start_time": "2021-10-04T19:25:18.905Z"
      },
      {
        "duration": 416,
        "start_time": "2021-10-04T19:25:18.931Z"
      },
      {
        "duration": 7397,
        "start_time": "2021-10-04T19:25:19.350Z"
      },
      {
        "duration": -15,
        "start_time": "2021-10-04T19:25:26.764Z"
      },
      {
        "duration": -15,
        "start_time": "2021-10-04T19:25:26.766Z"
      },
      {
        "duration": -16,
        "start_time": "2021-10-04T19:25:26.768Z"
      },
      {
        "duration": -15,
        "start_time": "2021-10-04T19:25:26.769Z"
      },
      {
        "duration": -18,
        "start_time": "2021-10-04T19:25:26.773Z"
      },
      {
        "duration": -19,
        "start_time": "2021-10-04T19:25:26.775Z"
      },
      {
        "duration": -19,
        "start_time": "2021-10-04T19:25:26.777Z"
      },
      {
        "duration": 227,
        "start_time": "2021-10-04T19:25:34.122Z"
      },
      {
        "duration": 136,
        "start_time": "2021-10-04T19:25:34.910Z"
      },
      {
        "duration": 163,
        "start_time": "2021-10-04T19:25:40.094Z"
      },
      {
        "duration": 140,
        "start_time": "2021-10-04T19:25:49.446Z"
      },
      {
        "duration": 141,
        "start_time": "2021-10-04T19:25:58.558Z"
      },
      {
        "duration": 58,
        "start_time": "2021-10-04T19:25:59.246Z"
      },
      {
        "duration": 490,
        "start_time": "2021-10-04T19:26:03.958Z"
      },
      {
        "duration": 50,
        "start_time": "2021-10-04T19:27:12.976Z"
      },
      {
        "duration": 1254,
        "start_time": "2021-10-04T19:27:19.175Z"
      },
      {
        "duration": 972,
        "start_time": "2021-10-04T19:27:36.487Z"
      },
      {
        "duration": 919,
        "start_time": "2021-10-04T19:27:42.400Z"
      },
      {
        "duration": 1065,
        "start_time": "2021-10-04T19:27:48.008Z"
      },
      {
        "duration": 30,
        "start_time": "2021-10-04T19:27:57.071Z"
      },
      {
        "duration": 1454,
        "start_time": "2021-10-04T19:28:30.471Z"
      },
      {
        "duration": 6,
        "start_time": "2021-10-04T19:34:58.264Z"
      },
      {
        "duration": 969,
        "start_time": "2021-10-04T19:34:58.458Z"
      },
      {
        "duration": 29,
        "start_time": "2021-10-04T19:34:59.429Z"
      },
      {
        "duration": 161,
        "start_time": "2021-10-04T19:34:59.461Z"
      },
      {
        "duration": 53,
        "start_time": "2021-10-04T19:34:59.624Z"
      },
      {
        "duration": 23,
        "start_time": "2021-10-04T19:34:59.679Z"
      },
      {
        "duration": 43,
        "start_time": "2021-10-04T19:34:59.846Z"
      },
      {
        "duration": 173,
        "start_time": "2021-10-04T19:34:59.891Z"
      },
      {
        "duration": 231,
        "start_time": "2021-10-04T19:35:00.067Z"
      },
      {
        "duration": 117,
        "start_time": "2021-10-04T19:35:00.300Z"
      },
      {
        "duration": 7,
        "start_time": "2021-10-04T19:35:00.421Z"
      },
      {
        "duration": 21,
        "start_time": "2021-10-04T19:35:00.458Z"
      },
      {
        "duration": 19,
        "start_time": "2021-10-04T19:35:00.649Z"
      },
      {
        "duration": 42,
        "start_time": "2021-10-04T19:35:03.546Z"
      },
      {
        "duration": 40,
        "start_time": "2021-10-04T19:35:03.590Z"
      },
      {
        "duration": 44,
        "start_time": "2021-10-04T19:35:03.633Z"
      },
      {
        "duration": 1008,
        "start_time": "2021-10-04T19:35:03.680Z"
      },
      {
        "duration": 2404,
        "start_time": "2021-10-04T19:35:04.691Z"
      },
      {
        "duration": 59,
        "start_time": "2021-10-04T19:35:07.098Z"
      },
      {
        "duration": 300,
        "start_time": "2021-10-04T19:35:07.160Z"
      },
      {
        "duration": 1054,
        "start_time": "2021-10-04T19:35:07.462Z"
      },
      {
        "duration": 6,
        "start_time": "2021-10-04T19:35:08.520Z"
      },
      {
        "duration": 39,
        "start_time": "2021-10-04T19:35:08.528Z"
      },
      {
        "duration": 395,
        "start_time": "2021-10-04T19:35:08.570Z"
      },
      {
        "duration": 214,
        "start_time": "2021-10-04T19:35:08.967Z"
      },
      {
        "duration": 143,
        "start_time": "2021-10-04T19:35:09.184Z"
      },
      {
        "duration": 174,
        "start_time": "2021-10-04T19:35:09.329Z"
      },
      {
        "duration": 57,
        "start_time": "2021-10-04T19:35:13.481Z"
      },
      {
        "duration": 58,
        "start_time": "2021-10-04T19:35:15.665Z"
      },
      {
        "duration": 1378,
        "start_time": "2021-10-04T19:35:16.738Z"
      },
      {
        "duration": 1756,
        "start_time": "2021-10-04T19:35:19.587Z"
      },
      {
        "duration": 32,
        "start_time": "2021-10-04T19:35:26.882Z"
      },
      {
        "duration": 1581,
        "start_time": "2021-10-06T17:42:36.524Z"
      },
      {
        "duration": 1216,
        "start_time": "2021-10-06T17:42:38.107Z"
      },
      {
        "duration": 25,
        "start_time": "2021-10-06T17:42:39.326Z"
      },
      {
        "duration": 176,
        "start_time": "2021-10-06T17:42:39.353Z"
      },
      {
        "duration": 49,
        "start_time": "2021-10-06T17:42:39.531Z"
      },
      {
        "duration": 25,
        "start_time": "2021-10-06T17:42:40.028Z"
      },
      {
        "duration": 47,
        "start_time": "2021-10-06T17:42:41.198Z"
      },
      {
        "duration": 107,
        "start_time": "2021-10-06T18:20:02.361Z"
      },
      {
        "duration": 7,
        "start_time": "2021-10-06T18:20:06.896Z"
      },
      {
        "duration": 1126,
        "start_time": "2021-10-06T18:20:07.266Z"
      },
      {
        "duration": 20,
        "start_time": "2021-10-06T18:20:08.394Z"
      },
      {
        "duration": 187,
        "start_time": "2021-10-06T18:20:08.417Z"
      },
      {
        "duration": 47,
        "start_time": "2021-10-06T18:20:10.037Z"
      },
      {
        "duration": 24,
        "start_time": "2021-10-06T18:20:11.155Z"
      },
      {
        "duration": 45,
        "start_time": "2021-10-06T18:20:11.592Z"
      },
      {
        "duration": 159,
        "start_time": "2021-10-06T18:20:12.056Z"
      },
      {
        "duration": 221,
        "start_time": "2021-10-06T18:20:12.700Z"
      },
      {
        "duration": 111,
        "start_time": "2021-10-06T18:20:13.024Z"
      },
      {
        "duration": 6,
        "start_time": "2021-10-06T18:20:13.609Z"
      },
      {
        "duration": 19,
        "start_time": "2021-10-06T18:20:14.123Z"
      },
      {
        "duration": 20,
        "start_time": "2021-10-06T18:20:14.702Z"
      },
      {
        "duration": 43,
        "start_time": "2021-10-06T18:20:15.112Z"
      },
      {
        "duration": 43,
        "start_time": "2021-10-06T18:20:15.567Z"
      },
      {
        "duration": 23,
        "start_time": "2021-10-06T18:20:16.015Z"
      },
      {
        "duration": 1029,
        "start_time": "2021-10-06T18:20:16.532Z"
      },
      {
        "duration": 2554,
        "start_time": "2021-10-06T18:20:17.568Z"
      },
      {
        "duration": 59,
        "start_time": "2021-10-06T18:20:20.125Z"
      },
      {
        "duration": 326,
        "start_time": "2021-10-06T18:20:20.187Z"
      },
      {
        "duration": 1106,
        "start_time": "2021-10-06T18:20:20.515Z"
      },
      {
        "duration": 5,
        "start_time": "2021-10-06T18:20:21.624Z"
      },
      {
        "duration": 43,
        "start_time": "2021-10-06T18:20:21.632Z"
      },
      {
        "duration": 433,
        "start_time": "2021-10-06T18:20:21.677Z"
      },
      {
        "duration": 218,
        "start_time": "2021-10-06T18:20:22.113Z"
      },
      {
        "duration": 144,
        "start_time": "2021-10-06T18:20:25.768Z"
      },
      {
        "duration": 181,
        "start_time": "2021-10-06T18:20:26.660Z"
      },
      {
        "duration": 56,
        "start_time": "2021-10-06T18:20:27.560Z"
      },
      {
        "duration": 57,
        "start_time": "2021-10-06T18:20:28.089Z"
      },
      {
        "duration": 1809,
        "start_time": "2021-10-06T18:20:29.240Z"
      },
      {
        "duration": 2006,
        "start_time": "2021-10-06T18:20:31.051Z"
      },
      {
        "duration": 31,
        "start_time": "2021-10-06T18:20:34.298Z"
      },
      {
        "duration": 61,
        "start_time": "2021-10-06T18:20:36.977Z"
      },
      {
        "duration": 102,
        "start_time": "2021-10-06T18:24:31.059Z"
      },
      {
        "duration": 616,
        "start_time": "2021-10-06T18:24:40.617Z"
      },
      {
        "duration": 328,
        "start_time": "2021-10-06T18:25:32.843Z"
      },
      {
        "duration": 1695,
        "start_time": "2021-10-06T18:31:09.552Z"
      },
      {
        "duration": 6,
        "start_time": "2021-10-06T18:31:14.109Z"
      },
      {
        "duration": 1095,
        "start_time": "2021-10-06T18:31:14.279Z"
      },
      {
        "duration": 21,
        "start_time": "2021-10-06T18:31:15.377Z"
      },
      {
        "duration": 188,
        "start_time": "2021-10-06T18:31:15.402Z"
      },
      {
        "duration": 49,
        "start_time": "2021-10-06T18:31:15.594Z"
      },
      {
        "duration": 42,
        "start_time": "2021-10-06T18:31:15.646Z"
      },
      {
        "duration": 50,
        "start_time": "2021-10-06T18:31:15.691Z"
      },
      {
        "duration": 183,
        "start_time": "2021-10-06T18:31:15.744Z"
      },
      {
        "duration": 246,
        "start_time": "2021-10-06T18:31:15.931Z"
      },
      {
        "duration": 122,
        "start_time": "2021-10-06T18:31:16.181Z"
      },
      {
        "duration": 9,
        "start_time": "2021-10-06T18:31:16.306Z"
      },
      {
        "duration": 53,
        "start_time": "2021-10-06T18:31:16.318Z"
      },
      {
        "duration": 25,
        "start_time": "2021-10-06T18:31:16.375Z"
      },
      {
        "duration": 45,
        "start_time": "2021-10-06T18:31:16.531Z"
      },
      {
        "duration": 43,
        "start_time": "2021-10-06T18:31:16.711Z"
      },
      {
        "duration": 19,
        "start_time": "2021-10-06T18:31:16.883Z"
      },
      {
        "duration": 1045,
        "start_time": "2021-10-06T18:31:17.427Z"
      },
      {
        "duration": 2550,
        "start_time": "2021-10-06T18:31:18.475Z"
      },
      {
        "duration": 47,
        "start_time": "2021-10-06T18:31:21.028Z"
      },
      {
        "duration": 334,
        "start_time": "2021-10-06T18:31:21.078Z"
      },
      {
        "duration": 1210,
        "start_time": "2021-10-06T18:31:21.415Z"
      },
      {
        "duration": 7,
        "start_time": "2021-10-06T18:31:22.627Z"
      },
      {
        "duration": 46,
        "start_time": "2021-10-06T18:31:22.636Z"
      },
      {
        "duration": 420,
        "start_time": "2021-10-06T18:31:22.684Z"
      },
      {
        "duration": 227,
        "start_time": "2021-10-06T18:31:23.108Z"
      },
      {
        "duration": 148,
        "start_time": "2021-10-06T18:31:23.338Z"
      },
      {
        "duration": 199,
        "start_time": "2021-10-06T18:31:23.489Z"
      },
      {
        "duration": 58,
        "start_time": "2021-10-06T18:31:23.690Z"
      },
      {
        "duration": 72,
        "start_time": "2021-10-06T18:31:23.750Z"
      },
      {
        "duration": 1963,
        "start_time": "2021-10-06T18:31:23.824Z"
      },
      {
        "duration": 31,
        "start_time": "2021-10-06T18:31:25.791Z"
      },
      {
        "duration": 91,
        "start_time": "2021-10-06T18:31:25.825Z"
      },
      {
        "duration": 1634,
        "start_time": "2021-10-06T18:31:25.919Z"
      },
      {
        "duration": 725,
        "start_time": "2021-10-06T18:31:27.556Z"
      },
      {
        "duration": 337,
        "start_time": "2021-10-06T18:31:28.967Z"
      },
      {
        "duration": 316,
        "start_time": "2021-10-06T18:31:30.398Z"
      },
      {
        "duration": 355,
        "start_time": "2021-10-06T18:33:44.578Z"
      },
      {
        "duration": 486,
        "start_time": "2021-10-06T18:34:01.530Z"
      },
      {
        "duration": 289,
        "start_time": "2021-10-06T18:34:12.291Z"
      },
      {
        "duration": 92,
        "start_time": "2021-10-06T18:34:25.339Z"
      },
      {
        "duration": 29,
        "start_time": "2021-10-06T18:34:30.506Z"
      },
      {
        "duration": 173,
        "start_time": "2021-10-06T18:35:06.761Z"
      },
      {
        "duration": 140,
        "start_time": "2021-10-06T18:35:27.274Z"
      },
      {
        "duration": 204,
        "start_time": "2021-10-06T18:35:32.848Z"
      },
      {
        "duration": 7,
        "start_time": "2021-10-06T18:35:51.124Z"
      },
      {
        "duration": 197,
        "start_time": "2021-10-06T18:35:55.316Z"
      },
      {
        "duration": 199,
        "start_time": "2021-10-06T18:36:00.567Z"
      },
      {
        "duration": 6,
        "start_time": "2021-10-06T18:36:57.033Z"
      },
      {
        "duration": 360,
        "start_time": "2021-10-06T18:37:23.123Z"
      },
      {
        "duration": 82,
        "start_time": "2021-10-06T18:37:48.923Z"
      },
      {
        "duration": 4,
        "start_time": "2021-10-06T18:57:54.542Z"
      },
      {
        "duration": 8646,
        "start_time": "2021-10-06T18:58:22.346Z"
      },
      {
        "duration": 1354,
        "start_time": "2021-10-07T09:52:31.765Z"
      },
      {
        "duration": 757,
        "start_time": "2021-10-07T09:52:33.121Z"
      },
      {
        "duration": 17,
        "start_time": "2021-10-07T09:52:33.881Z"
      },
      {
        "duration": 136,
        "start_time": "2021-10-07T09:52:33.900Z"
      },
      {
        "duration": 47,
        "start_time": "2021-10-07T09:52:34.037Z"
      },
      {
        "duration": 19,
        "start_time": "2021-10-07T09:52:34.086Z"
      },
      {
        "duration": 43,
        "start_time": "2021-10-07T09:52:34.106Z"
      },
      {
        "duration": 134,
        "start_time": "2021-10-07T09:52:34.151Z"
      },
      {
        "duration": 154,
        "start_time": "2021-10-07T09:52:34.288Z"
      },
      {
        "duration": 90,
        "start_time": "2021-10-07T09:52:34.444Z"
      },
      {
        "duration": 3,
        "start_time": "2021-10-07T09:52:34.536Z"
      },
      {
        "duration": 23,
        "start_time": "2021-10-07T09:52:34.541Z"
      },
      {
        "duration": 19,
        "start_time": "2021-10-07T09:52:34.566Z"
      },
      {
        "duration": 30,
        "start_time": "2021-10-07T09:52:34.589Z"
      },
      {
        "duration": 30,
        "start_time": "2021-10-07T09:52:34.621Z"
      },
      {
        "duration": 19,
        "start_time": "2021-10-07T09:52:34.653Z"
      },
      {
        "duration": 752,
        "start_time": "2021-10-07T09:52:34.673Z"
      },
      {
        "duration": 1515,
        "start_time": "2021-10-07T09:52:35.427Z"
      },
      {
        "duration": 39,
        "start_time": "2021-10-07T09:52:36.944Z"
      },
      {
        "duration": 208,
        "start_time": "2021-10-07T09:52:36.986Z"
      },
      {
        "duration": 295,
        "start_time": "2021-10-07T09:52:37.196Z"
      },
      {
        "duration": 366,
        "start_time": "2021-10-07T09:52:37.493Z"
      },
      {
        "duration": 761,
        "start_time": "2021-10-07T09:52:37.861Z"
      },
      {
        "duration": 4,
        "start_time": "2021-10-07T09:52:38.623Z"
      },
      {
        "duration": 16,
        "start_time": "2021-10-07T09:52:38.629Z"
      },
      {
        "duration": 259,
        "start_time": "2021-10-07T09:52:38.647Z"
      },
      {
        "duration": 127,
        "start_time": "2021-10-07T09:52:38.909Z"
      },
      {
        "duration": 61,
        "start_time": "2021-10-07T09:52:39.038Z"
      },
      {
        "duration": 142,
        "start_time": "2021-10-07T09:52:39.101Z"
      },
      {
        "duration": 42,
        "start_time": "2021-10-07T09:52:39.245Z"
      },
      {
        "duration": 757,
        "start_time": "2021-10-07T09:52:39.293Z"
      },
      {
        "duration": 611,
        "start_time": "2021-10-07T09:52:40.052Z"
      },
      {
        "duration": 3,
        "start_time": "2021-10-07T09:52:40.665Z"
      },
      {
        "duration": 434,
        "start_time": "2021-10-07T09:52:40.670Z"
      },
      {
        "duration": -704,
        "start_time": "2021-10-07T09:52:41.810Z"
      },
      {
        "duration": -707,
        "start_time": "2021-10-07T09:52:41.813Z"
      },
      {
        "duration": -709,
        "start_time": "2021-10-07T09:52:41.816Z"
      },
      {
        "duration": -710,
        "start_time": "2021-10-07T09:52:41.818Z"
      },
      {
        "duration": 1739,
        "start_time": "2021-10-07T09:53:46.035Z"
      },
      {
        "duration": 812,
        "start_time": "2021-10-07T09:54:27.183Z"
      },
      {
        "duration": 696,
        "start_time": "2021-10-07T09:54:32.235Z"
      },
      {
        "duration": 5,
        "start_time": "2021-10-07T09:54:33.636Z"
      },
      {
        "duration": 2973,
        "start_time": "2021-10-07T09:54:38.420Z"
      },
      {
        "duration": 25,
        "start_time": "2021-10-07T09:56:02.236Z"
      },
      {
        "duration": 14,
        "start_time": "2021-10-07T09:56:08.268Z"
      },
      {
        "duration": 859,
        "start_time": "2021-10-07T09:56:09.397Z"
      },
      {
        "duration": 615,
        "start_time": "2021-10-07T09:56:15.012Z"
      },
      {
        "duration": 4,
        "start_time": "2021-10-07T09:56:16.461Z"
      },
      {
        "duration": 550612,
        "start_time": "2021-10-07T09:56:17.724Z"
      },
      {
        "duration": 284,
        "start_time": "2021-10-07T10:05:28.338Z"
      },
      {
        "duration": -676,
        "start_time": "2021-10-07T10:05:29.300Z"
      },
      {
        "duration": 410005,
        "start_time": "2021-10-07T10:06:38.102Z"
      },
      {
        "duration": 5,
        "start_time": "2021-10-07T10:13:28.109Z"
      },
      {
        "duration": 109,
        "start_time": "2021-10-07T10:13:28.115Z"
      },
      {
        "duration": 264,
        "start_time": "2021-10-07T10:13:57.296Z"
      },
      {
        "duration": 203,
        "start_time": "2021-10-07T10:14:32.512Z"
      },
      {
        "duration": 210,
        "start_time": "2021-10-07T10:14:58.305Z"
      },
      {
        "duration": 201,
        "start_time": "2021-10-07T10:15:07.337Z"
      },
      {
        "duration": 564731,
        "start_time": "2021-10-07T10:15:43.192Z"
      },
      {
        "duration": 3,
        "start_time": "2021-10-07T10:26:15.175Z"
      },
      {
        "duration": 1328,
        "start_time": "2021-10-07T10:26:24.418Z"
      },
      {
        "duration": 129923,
        "start_time": "2021-10-07T10:26:40.495Z"
      },
      {
        "duration": 282,
        "start_time": "2021-10-07T10:31:38.208Z"
      },
      {
        "duration": 130260,
        "start_time": "2021-10-07T10:31:45.762Z"
      },
      {
        "duration": 304,
        "start_time": "2021-10-07T10:33:56.024Z"
      },
      {
        "duration": 128790,
        "start_time": "2021-10-07T10:35:00.411Z"
      },
      {
        "duration": 129040,
        "start_time": "2021-10-07T10:37:55.652Z"
      },
      {
        "duration": 4,
        "start_time": "2021-10-07T10:41:05.686Z"
      },
      {
        "duration": 249,
        "start_time": "2021-10-07T10:41:32.518Z"
      },
      {
        "duration": 490699,
        "start_time": "2021-10-07T10:41:42.613Z"
      },
      {
        "duration": 1014,
        "start_time": "2021-10-07T10:53:55.273Z"
      },
      {
        "duration": 740,
        "start_time": "2021-10-07T10:54:08.672Z"
      },
      {
        "duration": 618,
        "start_time": "2021-10-07T10:54:10.632Z"
      },
      {
        "duration": 62,
        "start_time": "2021-10-07T10:54:11.928Z"
      },
      {
        "duration": 4,
        "start_time": "2021-10-07T10:54:14.193Z"
      },
      {
        "duration": 385798,
        "start_time": "2021-10-07T10:55:05.505Z"
      },
      {
        "duration": 3207246,
        "start_time": "2021-10-07T11:02:03.107Z"
      },
      {
        "duration": 4,
        "start_time": "2021-10-07T11:58:53.237Z"
      },
      {
        "duration": 1657,
        "start_time": "2021-10-07T12:01:55.901Z"
      },
      {
        "duration": 1417,
        "start_time": "2021-10-07T12:02:09.894Z"
      },
      {
        "duration": 1892,
        "start_time": "2021-10-07T12:03:09.190Z"
      },
      {
        "duration": 1950,
        "start_time": "2021-10-07T12:04:51.663Z"
      },
      {
        "duration": 8,
        "start_time": "2021-10-07T12:06:28.966Z"
      },
      {
        "duration": 1422,
        "start_time": "2021-10-07T12:06:57.063Z"
      },
      {
        "duration": 202,
        "start_time": "2021-10-07T12:40:37.141Z"
      },
      {
        "duration": 3,
        "start_time": "2021-10-07T12:41:24.750Z"
      },
      {
        "duration": 78113,
        "start_time": "2021-10-07T12:41:50.479Z"
      },
      {
        "duration": 3,
        "start_time": "2021-10-07T12:44:17.382Z"
      },
      {
        "duration": 34,
        "start_time": "2021-10-07T12:44:17.749Z"
      },
      {
        "duration": 74484,
        "start_time": "2021-10-07T12:44:18.103Z"
      },
      {
        "duration": 4,
        "start_time": "2021-10-07T12:45:45.662Z"
      },
      {
        "duration": 70060,
        "start_time": "2021-10-07T12:45:46.222Z"
      },
      {
        "duration": 422,
        "start_time": "2021-10-07T12:48:41.064Z"
      },
      {
        "duration": 822,
        "start_time": "2021-10-07T12:51:00.496Z"
      },
      {
        "duration": 8,
        "start_time": "2021-10-07T12:51:07.864Z"
      },
      {
        "duration": 324,
        "start_time": "2021-10-07T12:51:48.584Z"
      },
      {
        "duration": 83054,
        "start_time": "2021-10-07T12:52:26.627Z"
      },
      {
        "duration": 72708,
        "start_time": "2021-10-07T12:55:28.218Z"
      },
      {
        "duration": 76189,
        "start_time": "2021-10-07T12:59:27.506Z"
      },
      {
        "duration": 299,
        "start_time": "2021-10-07T13:00:51.290Z"
      },
      {
        "duration": 315,
        "start_time": "2021-10-07T13:01:26.314Z"
      },
      {
        "duration": 379,
        "start_time": "2021-10-07T13:02:29.460Z"
      },
      {
        "duration": 287,
        "start_time": "2021-10-07T13:02:58.858Z"
      },
      {
        "duration": 307,
        "start_time": "2021-10-07T13:03:26.315Z"
      },
      {
        "duration": 290,
        "start_time": "2021-10-07T13:04:38.741Z"
      },
      {
        "duration": 3,
        "start_time": "2021-10-07T13:05:06.121Z"
      },
      {
        "duration": 305,
        "start_time": "2021-10-07T13:05:09.297Z"
      },
      {
        "duration": 3,
        "start_time": "2021-10-07T13:05:29.418Z"
      },
      {
        "duration": 324,
        "start_time": "2021-10-07T13:05:32.035Z"
      },
      {
        "duration": 1264,
        "start_time": "2021-10-07T13:06:13.138Z"
      },
      {
        "duration": 834,
        "start_time": "2021-10-07T13:06:14.404Z"
      },
      {
        "duration": 17,
        "start_time": "2021-10-07T13:06:15.240Z"
      },
      {
        "duration": 134,
        "start_time": "2021-10-07T13:06:15.259Z"
      },
      {
        "duration": 38,
        "start_time": "2021-10-07T13:06:15.395Z"
      },
      {
        "duration": 20,
        "start_time": "2021-10-07T13:06:15.434Z"
      },
      {
        "duration": 52,
        "start_time": "2021-10-07T13:06:15.455Z"
      },
      {
        "duration": 131,
        "start_time": "2021-10-07T13:06:15.510Z"
      },
      {
        "duration": 157,
        "start_time": "2021-10-07T13:06:15.643Z"
      },
      {
        "duration": 88,
        "start_time": "2021-10-07T13:06:15.802Z"
      },
      {
        "duration": 4,
        "start_time": "2021-10-07T13:06:15.892Z"
      },
      {
        "duration": 19,
        "start_time": "2021-10-07T13:06:15.898Z"
      },
      {
        "duration": 15,
        "start_time": "2021-10-07T13:06:15.919Z"
      },
      {
        "duration": 57,
        "start_time": "2021-10-07T13:06:15.936Z"
      },
      {
        "duration": 36,
        "start_time": "2021-10-07T13:06:15.995Z"
      },
      {
        "duration": 16,
        "start_time": "2021-10-07T13:06:16.033Z"
      },
      {
        "duration": 634,
        "start_time": "2021-10-07T13:06:16.051Z"
      },
      {
        "duration": 1575,
        "start_time": "2021-10-07T13:06:16.687Z"
      },
      {
        "duration": 40,
        "start_time": "2021-10-07T13:06:18.264Z"
      },
      {
        "duration": 192,
        "start_time": "2021-10-07T13:06:18.305Z"
      },
      {
        "duration": 286,
        "start_time": "2021-10-07T13:06:18.499Z"
      },
      {
        "duration": 374,
        "start_time": "2021-10-07T13:06:18.787Z"
      },
      {
        "duration": 668,
        "start_time": "2021-10-07T13:06:19.164Z"
      },
      {
        "duration": 6,
        "start_time": "2021-10-07T13:06:19.834Z"
      },
      {
        "duration": 38,
        "start_time": "2021-10-07T13:06:19.842Z"
      },
      {
        "duration": 251,
        "start_time": "2021-10-07T13:06:19.882Z"
      },
      {
        "duration": 124,
        "start_time": "2021-10-07T13:06:20.135Z"
      },
      {
        "duration": 63,
        "start_time": "2021-10-07T13:06:20.261Z"
      },
      {
        "duration": 133,
        "start_time": "2021-10-07T13:06:20.325Z"
      },
      {
        "duration": 40,
        "start_time": "2021-10-07T13:06:20.460Z"
      },
      {
        "duration": 21,
        "start_time": "2021-10-07T13:06:20.502Z"
      },
      {
        "duration": 881,
        "start_time": "2021-10-07T13:06:20.525Z"
      },
      {
        "duration": 651,
        "start_time": "2021-10-07T13:06:21.408Z"
      },
      {
        "duration": 75,
        "start_time": "2021-10-07T13:06:22.061Z"
      },
      {
        "duration": 4,
        "start_time": "2021-10-07T13:06:22.138Z"
      },
      {
        "duration": 397752,
        "start_time": "2021-10-07T13:06:22.143Z"
      },
      {
        "duration": 5,
        "start_time": "2021-10-07T13:12:59.896Z"
      },
      {
        "duration": 7,
        "start_time": "2021-10-07T13:12:59.902Z"
      },
      {
        "duration": 132991,
        "start_time": "2021-10-07T13:12:59.910Z"
      },
      {
        "duration": 5,
        "start_time": "2021-10-07T13:15:12.903Z"
      },
      {
        "duration": 2392,
        "start_time": "2021-10-07T13:15:12.910Z"
      },
      {
        "duration": 2,
        "start_time": "2021-10-07T13:15:15.304Z"
      },
      {
        "duration": 4129460,
        "start_time": "2021-10-07T13:15:15.308Z"
      },
      {
        "duration": -1545,
        "start_time": "2021-10-07T14:24:06.316Z"
      },
      {
        "duration": -1547,
        "start_time": "2021-10-07T14:24:06.319Z"
      },
      {
        "duration": -1548,
        "start_time": "2021-10-07T14:24:06.322Z"
      },
      {
        "duration": -1548,
        "start_time": "2021-10-07T14:24:06.324Z"
      },
      {
        "duration": -1549,
        "start_time": "2021-10-07T14:24:06.326Z"
      },
      {
        "duration": -1550,
        "start_time": "2021-10-07T14:24:06.328Z"
      },
      {
        "duration": -1550,
        "start_time": "2021-10-07T14:24:06.330Z"
      },
      {
        "duration": 2076845,
        "start_time": "2021-10-07T14:24:06.807Z"
      },
      {
        "duration": -1527,
        "start_time": "2021-10-07T14:58:45.181Z"
      },
      {
        "duration": -1543,
        "start_time": "2021-10-07T14:58:45.198Z"
      },
      {
        "duration": -1548,
        "start_time": "2021-10-07T14:58:45.204Z"
      },
      {
        "duration": -1552,
        "start_time": "2021-10-07T14:58:45.209Z"
      },
      {
        "duration": -1554,
        "start_time": "2021-10-07T14:58:45.212Z"
      },
      {
        "duration": -1556,
        "start_time": "2021-10-07T14:58:45.215Z"
      },
      {
        "duration": -1560,
        "start_time": "2021-10-07T14:58:45.220Z"
      },
      {
        "duration": 2397450,
        "start_time": "2021-10-07T14:58:56.098Z"
      },
      {
        "duration": 840,
        "start_time": "2021-10-07T15:38:53.550Z"
      },
      {
        "duration": 4,
        "start_time": "2021-10-07T15:38:54.392Z"
      },
      {
        "duration": 360,
        "start_time": "2021-10-07T15:38:54.398Z"
      },
      {
        "duration": -17,
        "start_time": "2021-10-07T15:38:54.777Z"
      },
      {
        "duration": -20,
        "start_time": "2021-10-07T15:38:54.781Z"
      },
      {
        "duration": -28,
        "start_time": "2021-10-07T15:38:54.790Z"
      },
      {
        "duration": -30,
        "start_time": "2021-10-07T15:38:54.793Z"
      },
      {
        "duration": -32,
        "start_time": "2021-10-07T15:38:54.796Z"
      },
      {
        "duration": 29543,
        "start_time": "2021-10-07T15:40:19.562Z"
      },
      {
        "duration": 83068,
        "start_time": "2021-10-07T15:40:49.924Z"
      },
      {
        "duration": 70967,
        "start_time": "2021-10-07T15:43:21.611Z"
      },
      {
        "duration": 285,
        "start_time": "2021-10-07T15:44:32.579Z"
      },
      {
        "duration": -4,
        "start_time": "2021-10-07T15:44:32.870Z"
      },
      {
        "duration": -9,
        "start_time": "2021-10-07T15:44:32.876Z"
      },
      {
        "duration": -16,
        "start_time": "2021-10-07T15:44:32.884Z"
      },
      {
        "duration": 593173,
        "start_time": "2021-10-07T15:45:29.404Z"
      },
      {
        "duration": 345,
        "start_time": "2021-10-07T15:55:56.669Z"
      },
      {
        "duration": 678,
        "start_time": "2021-10-07T15:56:27.030Z"
      },
      {
        "duration": 3,
        "start_time": "2021-10-07T15:56:36.294Z"
      },
      {
        "duration": 68057,
        "start_time": "2021-10-07T15:56:42.128Z"
      },
      {
        "duration": 4063,
        "start_time": "2021-10-07T15:59:02.736Z"
      },
      {
        "duration": 401578,
        "start_time": "2021-10-07T16:02:13.280Z"
      },
      {
        "duration": 301,
        "start_time": "2021-10-07T16:14:28.241Z"
      },
      {
        "duration": 291,
        "start_time": "2021-10-07T16:14:56.570Z"
      },
      {
        "duration": 11049,
        "start_time": "2021-10-07T16:16:16.911Z"
      },
      {
        "duration": 372,
        "start_time": "2021-10-07T16:17:01.179Z"
      },
      {
        "duration": 10573,
        "start_time": "2021-10-07T16:17:22.148Z"
      },
      {
        "duration": 5,
        "start_time": "2021-10-07T16:22:07.859Z"
      },
      {
        "duration": 211,
        "start_time": "2021-10-07T16:22:20.069Z"
      },
      {
        "duration": 204,
        "start_time": "2021-10-07T16:22:27.420Z"
      },
      {
        "duration": 277,
        "start_time": "2021-10-07T16:23:20.252Z"
      },
      {
        "duration": 1268,
        "start_time": "2021-10-07T16:59:13.426Z"
      },
      {
        "duration": 830,
        "start_time": "2021-10-07T16:59:14.696Z"
      },
      {
        "duration": 24,
        "start_time": "2021-10-07T16:59:15.529Z"
      },
      {
        "duration": 133,
        "start_time": "2021-10-07T16:59:15.555Z"
      },
      {
        "duration": 56,
        "start_time": "2021-10-07T16:59:15.690Z"
      },
      {
        "duration": 40,
        "start_time": "2021-10-07T16:59:15.748Z"
      },
      {
        "duration": 59,
        "start_time": "2021-10-07T16:59:15.790Z"
      },
      {
        "duration": 136,
        "start_time": "2021-10-07T16:59:15.853Z"
      },
      {
        "duration": 151,
        "start_time": "2021-10-07T16:59:15.990Z"
      },
      {
        "duration": 86,
        "start_time": "2021-10-07T16:59:16.142Z"
      },
      {
        "duration": 4,
        "start_time": "2021-10-07T16:59:16.229Z"
      },
      {
        "duration": 19,
        "start_time": "2021-10-07T16:59:16.234Z"
      },
      {
        "duration": 29,
        "start_time": "2021-10-07T16:59:16.254Z"
      },
      {
        "duration": 31,
        "start_time": "2021-10-07T16:59:16.285Z"
      },
      {
        "duration": 32,
        "start_time": "2021-10-07T16:59:16.318Z"
      },
      {
        "duration": 31,
        "start_time": "2021-10-07T16:59:16.352Z"
      },
      {
        "duration": 594,
        "start_time": "2021-10-07T16:59:16.385Z"
      },
      {
        "duration": 1405,
        "start_time": "2021-10-07T16:59:16.981Z"
      },
      {
        "duration": 32,
        "start_time": "2021-10-07T16:59:18.387Z"
      },
      {
        "duration": 189,
        "start_time": "2021-10-07T16:59:18.421Z"
      },
      {
        "duration": 282,
        "start_time": "2021-10-07T16:59:18.612Z"
      },
      {
        "duration": 387,
        "start_time": "2021-10-07T16:59:18.895Z"
      },
      {
        "duration": -5,
        "start_time": "2021-10-07T16:59:19.290Z"
      },
      {
        "duration": -10,
        "start_time": "2021-10-07T16:59:19.296Z"
      },
      {
        "duration": -14,
        "start_time": "2021-10-07T16:59:19.301Z"
      },
      {
        "duration": -18,
        "start_time": "2021-10-07T16:59:19.306Z"
      },
      {
        "duration": -23,
        "start_time": "2021-10-07T16:59:19.313Z"
      },
      {
        "duration": -26,
        "start_time": "2021-10-07T16:59:19.317Z"
      },
      {
        "duration": -29,
        "start_time": "2021-10-07T16:59:19.320Z"
      },
      {
        "duration": -30,
        "start_time": "2021-10-07T16:59:19.322Z"
      },
      {
        "duration": -32,
        "start_time": "2021-10-07T16:59:19.325Z"
      },
      {
        "duration": -33,
        "start_time": "2021-10-07T16:59:19.327Z"
      },
      {
        "duration": -40,
        "start_time": "2021-10-07T16:59:19.336Z"
      },
      {
        "duration": -43,
        "start_time": "2021-10-07T16:59:19.340Z"
      },
      {
        "duration": -45,
        "start_time": "2021-10-07T16:59:19.343Z"
      },
      {
        "duration": -48,
        "start_time": "2021-10-07T16:59:19.347Z"
      },
      {
        "duration": -50,
        "start_time": "2021-10-07T16:59:19.350Z"
      },
      {
        "duration": -53,
        "start_time": "2021-10-07T16:59:19.354Z"
      },
      {
        "duration": -55,
        "start_time": "2021-10-07T16:59:19.356Z"
      },
      {
        "duration": -57,
        "start_time": "2021-10-07T16:59:19.359Z"
      },
      {
        "duration": -59,
        "start_time": "2021-10-07T16:59:19.362Z"
      },
      {
        "duration": -60,
        "start_time": "2021-10-07T16:59:19.364Z"
      },
      {
        "duration": -61,
        "start_time": "2021-10-07T16:59:19.367Z"
      },
      {
        "duration": -64,
        "start_time": "2021-10-07T16:59:19.370Z"
      },
      {
        "duration": -64,
        "start_time": "2021-10-07T16:59:19.372Z"
      },
      {
        "duration": -66,
        "start_time": "2021-10-07T16:59:19.375Z"
      },
      {
        "duration": -69,
        "start_time": "2021-10-07T16:59:19.379Z"
      },
      {
        "duration": -70,
        "start_time": "2021-10-07T16:59:19.381Z"
      },
      {
        "duration": -71,
        "start_time": "2021-10-07T16:59:19.383Z"
      },
      {
        "duration": -74,
        "start_time": "2021-10-07T16:59:19.387Z"
      },
      {
        "duration": 7402,
        "start_time": "2021-10-07T17:08:44.316Z"
      },
      {
        "duration": 1190,
        "start_time": "2021-10-07T17:09:50.824Z"
      },
      {
        "duration": 819,
        "start_time": "2021-10-07T17:09:52.016Z"
      },
      {
        "duration": 17,
        "start_time": "2021-10-07T17:09:52.837Z"
      },
      {
        "duration": 128,
        "start_time": "2021-10-07T17:09:52.855Z"
      },
      {
        "duration": 34,
        "start_time": "2021-10-07T17:09:52.985Z"
      },
      {
        "duration": 19,
        "start_time": "2021-10-07T17:09:53.021Z"
      },
      {
        "duration": 54,
        "start_time": "2021-10-07T17:09:53.041Z"
      },
      {
        "duration": 133,
        "start_time": "2021-10-07T17:09:53.097Z"
      },
      {
        "duration": 180,
        "start_time": "2021-10-07T17:09:53.232Z"
      },
      {
        "duration": 109,
        "start_time": "2021-10-07T17:09:53.413Z"
      },
      {
        "duration": 4,
        "start_time": "2021-10-07T17:09:53.523Z"
      },
      {
        "duration": 17,
        "start_time": "2021-10-07T17:09:53.528Z"
      },
      {
        "duration": 37,
        "start_time": "2021-10-07T17:09:53.547Z"
      },
      {
        "duration": 31,
        "start_time": "2021-10-07T17:09:53.586Z"
      },
      {
        "duration": 31,
        "start_time": "2021-10-07T17:09:53.619Z"
      },
      {
        "duration": 32,
        "start_time": "2021-10-07T17:09:53.652Z"
      },
      {
        "duration": 619,
        "start_time": "2021-10-07T17:09:53.686Z"
      },
      {
        "duration": 1489,
        "start_time": "2021-10-07T17:09:54.307Z"
      },
      {
        "duration": 31,
        "start_time": "2021-10-07T17:09:55.797Z"
      },
      {
        "duration": 199,
        "start_time": "2021-10-07T17:09:55.830Z"
      },
      {
        "duration": 286,
        "start_time": "2021-10-07T17:09:56.031Z"
      },
      {
        "duration": 73,
        "start_time": "2021-10-07T17:09:56.319Z"
      },
      {
        "duration": 19,
        "start_time": "2021-10-07T17:09:56.396Z"
      },
      {
        "duration": 406,
        "start_time": "2021-10-07T17:09:56.417Z"
      },
      {
        "duration": 695,
        "start_time": "2021-10-07T17:09:56.824Z"
      },
      {
        "duration": 5,
        "start_time": "2021-10-07T17:09:57.521Z"
      },
      {
        "duration": 19,
        "start_time": "2021-10-07T17:09:57.527Z"
      },
      {
        "duration": 264,
        "start_time": "2021-10-07T17:09:57.547Z"
      },
      {
        "duration": 127,
        "start_time": "2021-10-07T17:09:57.813Z"
      },
      {
        "duration": 59,
        "start_time": "2021-10-07T17:09:57.942Z"
      },
      {
        "duration": 138,
        "start_time": "2021-10-07T17:09:58.002Z"
      },
      {
        "duration": 47,
        "start_time": "2021-10-07T17:09:58.142Z"
      },
      {
        "duration": 19,
        "start_time": "2021-10-07T17:09:58.191Z"
      },
      {
        "duration": 1176,
        "start_time": "2021-10-07T17:09:58.211Z"
      },
      {
        "duration": 2,
        "start_time": "2021-10-07T17:09:59.388Z"
      },
      {
        "duration": -1,
        "start_time": "2021-10-07T17:09:59.392Z"
      },
      {
        "duration": -2,
        "start_time": "2021-10-07T17:09:59.395Z"
      },
      {
        "duration": -3,
        "start_time": "2021-10-07T17:09:59.397Z"
      },
      {
        "duration": -3,
        "start_time": "2021-10-07T17:09:59.399Z"
      },
      {
        "duration": -6,
        "start_time": "2021-10-07T17:09:59.403Z"
      },
      {
        "duration": -6,
        "start_time": "2021-10-07T17:09:59.405Z"
      },
      {
        "duration": -7,
        "start_time": "2021-10-07T17:09:59.407Z"
      },
      {
        "duration": -9,
        "start_time": "2021-10-07T17:09:59.410Z"
      },
      {
        "duration": -9,
        "start_time": "2021-10-07T17:09:59.412Z"
      },
      {
        "duration": -12,
        "start_time": "2021-10-07T17:09:59.416Z"
      },
      {
        "duration": -13,
        "start_time": "2021-10-07T17:09:59.419Z"
      },
      {
        "duration": -14,
        "start_time": "2021-10-07T17:09:59.421Z"
      },
      {
        "duration": -15,
        "start_time": "2021-10-07T17:09:59.423Z"
      },
      {
        "duration": -15,
        "start_time": "2021-10-07T17:09:59.425Z"
      },
      {
        "duration": -20,
        "start_time": "2021-10-07T17:09:59.431Z"
      },
      {
        "duration": -21,
        "start_time": "2021-10-07T17:09:59.434Z"
      },
      {
        "duration": 1027,
        "start_time": "2021-10-07T17:12:13.377Z"
      },
      {
        "duration": 760,
        "start_time": "2021-10-07T17:12:21.124Z"
      },
      {
        "duration": 321,
        "start_time": "2021-10-07T17:12:30.897Z"
      },
      {
        "duration": 20,
        "start_time": "2021-10-07T17:12:51.441Z"
      },
      {
        "duration": 775,
        "start_time": "2021-10-07T17:12:52.480Z"
      },
      {
        "duration": 729,
        "start_time": "2021-10-07T17:12:57.569Z"
      },
      {
        "duration": 1164,
        "start_time": "2021-10-07T17:13:03.395Z"
      },
      {
        "duration": 812,
        "start_time": "2021-10-07T17:13:04.561Z"
      },
      {
        "duration": 18,
        "start_time": "2021-10-07T17:13:05.379Z"
      },
      {
        "duration": 134,
        "start_time": "2021-10-07T17:13:05.400Z"
      },
      {
        "duration": 44,
        "start_time": "2021-10-07T17:13:05.536Z"
      },
      {
        "duration": 22,
        "start_time": "2021-10-07T17:13:05.582Z"
      },
      {
        "duration": 34,
        "start_time": "2021-10-07T17:13:05.606Z"
      },
      {
        "duration": 153,
        "start_time": "2021-10-07T17:13:05.642Z"
      },
      {
        "duration": 161,
        "start_time": "2021-10-07T17:13:05.798Z"
      },
      {
        "duration": 106,
        "start_time": "2021-10-07T17:13:05.962Z"
      },
      {
        "duration": 13,
        "start_time": "2021-10-07T17:13:06.070Z"
      },
      {
        "duration": 18,
        "start_time": "2021-10-07T17:13:06.086Z"
      },
      {
        "duration": 20,
        "start_time": "2021-10-07T17:13:06.105Z"
      },
      {
        "duration": 33,
        "start_time": "2021-10-07T17:13:06.127Z"
      },
      {
        "duration": 50,
        "start_time": "2021-10-07T17:13:06.162Z"
      },
      {
        "duration": 25,
        "start_time": "2021-10-07T17:13:06.214Z"
      },
      {
        "duration": 621,
        "start_time": "2021-10-07T17:13:06.240Z"
      },
      {
        "duration": 1477,
        "start_time": "2021-10-07T17:13:06.862Z"
      },
      {
        "duration": 41,
        "start_time": "2021-10-07T17:13:08.341Z"
      },
      {
        "duration": 197,
        "start_time": "2021-10-07T17:13:08.384Z"
      },
      {
        "duration": 277,
        "start_time": "2021-10-07T17:13:08.583Z"
      },
      {
        "duration": 76,
        "start_time": "2021-10-07T17:13:08.862Z"
      },
      {
        "duration": 18,
        "start_time": "2021-10-07T17:13:08.939Z"
      },
      {
        "duration": 389,
        "start_time": "2021-10-07T17:13:08.959Z"
      },
      {
        "duration": 657,
        "start_time": "2021-10-07T17:13:09.350Z"
      },
      {
        "duration": 4,
        "start_time": "2021-10-07T17:13:10.008Z"
      },
      {
        "duration": 20,
        "start_time": "2021-10-07T17:13:10.016Z"
      },
      {
        "duration": 273,
        "start_time": "2021-10-07T17:13:10.037Z"
      },
      {
        "duration": 120,
        "start_time": "2021-10-07T17:13:10.311Z"
      },
      {
        "duration": 62,
        "start_time": "2021-10-07T17:13:10.433Z"
      },
      {
        "duration": 131,
        "start_time": "2021-10-07T17:13:10.497Z"
      },
      {
        "duration": 32,
        "start_time": "2021-10-07T17:13:10.630Z"
      },
      {
        "duration": 29,
        "start_time": "2021-10-07T17:13:10.663Z"
      },
      {
        "duration": 22,
        "start_time": "2021-10-07T17:13:10.693Z"
      },
      {
        "duration": 776,
        "start_time": "2021-10-07T17:13:10.716Z"
      },
      {
        "duration": 665,
        "start_time": "2021-10-07T17:13:11.494Z"
      },
      {
        "duration": 76,
        "start_time": "2021-10-07T17:13:12.161Z"
      },
      {
        "duration": 5,
        "start_time": "2021-10-07T17:13:12.238Z"
      },
      {
        "duration": 420562,
        "start_time": "2021-10-07T17:13:12.244Z"
      },
      {
        "duration": 6,
        "start_time": "2021-10-07T17:20:12.808Z"
      },
      {
        "duration": 10824,
        "start_time": "2021-10-07T17:20:12.816Z"
      },
      {
        "duration": 2,
        "start_time": "2021-10-07T17:20:23.642Z"
      },
      {
        "duration": 348360,
        "start_time": "2021-10-07T17:20:23.646Z"
      },
      {
        "duration": 3,
        "start_time": "2021-10-07T17:26:12.008Z"
      },
      {
        "duration": 322,
        "start_time": "2021-10-07T17:26:12.013Z"
      },
      {
        "duration": 6,
        "start_time": "2021-10-07T17:26:12.331Z"
      },
      {
        "duration": 3,
        "start_time": "2021-10-07T17:26:12.335Z"
      },
      {
        "duration": 2,
        "start_time": "2021-10-07T17:26:12.337Z"
      },
      {
        "duration": -1,
        "start_time": "2021-10-07T17:26:12.341Z"
      },
      {
        "duration": -3,
        "start_time": "2021-10-07T17:26:12.344Z"
      },
      {
        "duration": -5,
        "start_time": "2021-10-07T17:26:12.347Z"
      },
      {
        "duration": -7,
        "start_time": "2021-10-07T17:26:12.350Z"
      },
      {
        "duration": -8,
        "start_time": "2021-10-07T17:26:12.352Z"
      },
      {
        "duration": 2634,
        "start_time": "2021-10-07T17:26:13.934Z"
      },
      {
        "duration": 4,
        "start_time": "2021-10-07T17:26:16.571Z"
      },
      {
        "duration": 295,
        "start_time": "2021-10-07T17:26:16.581Z"
      },
      {
        "duration": -20,
        "start_time": "2021-10-07T17:26:16.899Z"
      },
      {
        "duration": -33,
        "start_time": "2021-10-07T17:26:16.913Z"
      },
      {
        "duration": -33,
        "start_time": "2021-10-07T17:26:16.915Z"
      },
      {
        "duration": -35,
        "start_time": "2021-10-07T17:26:16.917Z"
      },
      {
        "duration": -35,
        "start_time": "2021-10-07T17:26:16.919Z"
      },
      {
        "duration": -40,
        "start_time": "2021-10-07T17:26:16.927Z"
      },
      {
        "duration": -42,
        "start_time": "2021-10-07T17:26:16.931Z"
      },
      {
        "duration": 1275,
        "start_time": "2021-10-07T17:26:32.442Z"
      },
      {
        "duration": 911,
        "start_time": "2021-10-07T17:26:33.719Z"
      },
      {
        "duration": 21,
        "start_time": "2021-10-07T17:26:34.632Z"
      },
      {
        "duration": 139,
        "start_time": "2021-10-07T17:26:34.655Z"
      },
      {
        "duration": 139,
        "start_time": "2021-10-07T17:26:34.796Z"
      },
      {
        "duration": 32,
        "start_time": "2021-10-07T17:26:34.936Z"
      },
      {
        "duration": 18,
        "start_time": "2021-10-07T17:26:34.985Z"
      },
      {
        "duration": 36,
        "start_time": "2021-10-07T17:26:35.006Z"
      },
      {
        "duration": 180,
        "start_time": "2021-10-07T17:26:35.044Z"
      },
      {
        "duration": 111,
        "start_time": "2021-10-07T17:26:35.226Z"
      },
      {
        "duration": 16,
        "start_time": "2021-10-07T17:26:35.338Z"
      },
      {
        "duration": 37,
        "start_time": "2021-10-07T17:26:35.356Z"
      },
      {
        "duration": 33,
        "start_time": "2021-10-07T17:26:35.395Z"
      },
      {
        "duration": 51,
        "start_time": "2021-10-07T17:26:35.430Z"
      },
      {
        "duration": 17,
        "start_time": "2021-10-07T17:26:35.483Z"
      },
      {
        "duration": 650,
        "start_time": "2021-10-07T17:26:35.502Z"
      },
      {
        "duration": 52,
        "start_time": "2021-10-07T17:26:36.154Z"
      },
      {
        "duration": 203,
        "start_time": "2021-10-07T17:26:36.208Z"
      },
      {
        "duration": 66,
        "start_time": "2021-10-07T17:26:36.412Z"
      },
      {
        "duration": 29,
        "start_time": "2021-10-07T17:26:36.481Z"
      },
      {
        "duration": 237,
        "start_time": "2021-10-07T17:26:36.513Z"
      },
      {
        "duration": 398,
        "start_time": "2021-10-07T17:26:36.752Z"
      },
      {
        "duration": 780,
        "start_time": "2021-10-07T17:26:37.154Z"
      },
      {
        "duration": 5,
        "start_time": "2021-10-07T17:26:37.936Z"
      },
      {
        "duration": 20,
        "start_time": "2021-10-07T17:26:37.942Z"
      },
      {
        "duration": 267,
        "start_time": "2021-10-07T17:26:37.964Z"
      },
      {
        "duration": 26,
        "start_time": "2021-10-07T17:26:38.233Z"
      },
      {
        "duration": 123,
        "start_time": "2021-10-07T17:26:38.261Z"
      },
      {
        "duration": 134,
        "start_time": "2021-10-07T17:26:38.389Z"
      },
      {
        "duration": 38,
        "start_time": "2021-10-07T17:26:38.525Z"
      },
      {
        "duration": 34,
        "start_time": "2021-10-07T17:26:38.565Z"
      },
      {
        "duration": 23,
        "start_time": "2021-10-07T17:26:38.601Z"
      },
      {
        "duration": 786,
        "start_time": "2021-10-07T17:26:38.626Z"
      },
      {
        "duration": 708,
        "start_time": "2021-10-07T17:26:39.413Z"
      },
      {
        "duration": 118,
        "start_time": "2021-10-07T17:26:40.123Z"
      },
      {
        "duration": 5,
        "start_time": "2021-10-07T17:26:40.244Z"
      },
      {
        "duration": 416844,
        "start_time": "2021-10-07T17:26:40.251Z"
      },
      {
        "duration": 5,
        "start_time": "2021-10-07T17:33:37.097Z"
      },
      {
        "duration": 11044,
        "start_time": "2021-10-07T17:33:37.104Z"
      },
      {
        "duration": 3,
        "start_time": "2021-10-07T17:33:48.150Z"
      },
      {
        "duration": 2574,
        "start_time": "2021-10-07T17:33:48.154Z"
      },
      {
        "duration": 3,
        "start_time": "2021-10-07T17:33:50.730Z"
      },
      {
        "duration": 381,
        "start_time": "2021-10-07T17:33:50.734Z"
      },
      {
        "duration": 11,
        "start_time": "2021-10-07T17:33:51.106Z"
      },
      {
        "duration": 7,
        "start_time": "2021-10-07T17:33:51.111Z"
      },
      {
        "duration": 4,
        "start_time": "2021-10-07T17:33:51.115Z"
      },
      {
        "duration": 2,
        "start_time": "2021-10-07T17:33:51.118Z"
      },
      {
        "duration": 1,
        "start_time": "2021-10-07T17:33:51.121Z"
      },
      {
        "duration": -1,
        "start_time": "2021-10-07T17:33:51.123Z"
      },
      {
        "duration": -2,
        "start_time": "2021-10-07T17:33:51.125Z"
      },
      {
        "duration": 598,
        "start_time": "2021-10-07T17:34:30.913Z"
      },
      {
        "duration": 3293845,
        "start_time": "2021-10-07T17:34:38.649Z"
      },
      {
        "duration": 3,
        "start_time": "2021-10-07T18:29:32.497Z"
      },
      {
        "duration": 301,
        "start_time": "2021-10-07T18:29:32.502Z"
      },
      {
        "duration": 9,
        "start_time": "2021-10-07T18:29:32.796Z"
      },
      {
        "duration": 2,
        "start_time": "2021-10-07T18:29:32.804Z"
      },
      {
        "duration": -4,
        "start_time": "2021-10-07T18:29:32.811Z"
      },
      {
        "duration": -9,
        "start_time": "2021-10-07T18:29:32.817Z"
      },
      {
        "duration": -14,
        "start_time": "2021-10-07T18:29:32.823Z"
      },
      {
        "duration": -19,
        "start_time": "2021-10-07T18:29:32.829Z"
      },
      {
        "duration": -24,
        "start_time": "2021-10-07T18:29:32.835Z"
      },
      {
        "duration": 584156,
        "start_time": "2021-10-07T18:37:52.226Z"
      },
      {
        "duration": 413,
        "start_time": "2021-10-07T18:47:36.384Z"
      },
      {
        "duration": 30,
        "start_time": "2021-10-07T18:47:36.769Z"
      },
      {
        "duration": 28,
        "start_time": "2021-10-07T18:47:36.772Z"
      },
      {
        "duration": 25,
        "start_time": "2021-10-07T18:47:36.775Z"
      },
      {
        "duration": 21,
        "start_time": "2021-10-07T18:47:36.780Z"
      },
      {
        "duration": 17,
        "start_time": "2021-10-07T18:47:36.785Z"
      },
      {
        "duration": 15,
        "start_time": "2021-10-07T18:47:36.788Z"
      },
      {
        "duration": 844,
        "start_time": "2021-10-07T18:47:56.349Z"
      },
      {
        "duration": 4,
        "start_time": "2021-10-07T18:47:59.717Z"
      },
      {
        "duration": 4,
        "start_time": "2021-10-07T18:48:13.812Z"
      },
      {
        "duration": 27898,
        "start_time": "2021-10-07T18:48:18.406Z"
      },
      {
        "duration": 0,
        "start_time": "2021-10-07T18:48:46.306Z"
      },
      {
        "duration": -2,
        "start_time": "2021-10-07T18:48:46.309Z"
      },
      {
        "duration": -3,
        "start_time": "2021-10-07T18:48:46.311Z"
      },
      {
        "duration": -6,
        "start_time": "2021-10-07T18:48:46.315Z"
      },
      {
        "duration": 68917,
        "start_time": "2021-10-07T18:48:48.974Z"
      },
      {
        "duration": 3,
        "start_time": "2021-10-07T18:49:57.894Z"
      },
      {
        "duration": 41581,
        "start_time": "2021-10-07T18:49:57.899Z"
      },
      {
        "duration": 4113,
        "start_time": "2021-10-07T18:50:39.482Z"
      },
      {
        "duration": 231,
        "start_time": "2021-10-07T18:50:43.597Z"
      },
      {
        "duration": 240,
        "start_time": "2021-10-07T19:02:58.051Z"
      },
      {
        "duration": 1254,
        "start_time": "2021-10-07T19:44:32.296Z"
      },
      {
        "duration": 804,
        "start_time": "2021-10-07T19:44:33.551Z"
      },
      {
        "duration": 22,
        "start_time": "2021-10-07T19:44:34.358Z"
      },
      {
        "duration": 163,
        "start_time": "2021-10-07T19:44:34.383Z"
      },
      {
        "duration": 171,
        "start_time": "2021-10-07T19:44:34.548Z"
      },
      {
        "duration": 32,
        "start_time": "2021-10-07T19:44:34.721Z"
      },
      {
        "duration": 21,
        "start_time": "2021-10-07T19:44:34.755Z"
      },
      {
        "duration": 52,
        "start_time": "2021-10-07T19:44:34.780Z"
      },
      {
        "duration": 188,
        "start_time": "2021-10-07T19:44:34.834Z"
      },
      {
        "duration": 113,
        "start_time": "2021-10-07T19:44:35.024Z"
      },
      {
        "duration": 17,
        "start_time": "2021-10-07T19:44:35.139Z"
      },
      {
        "duration": 32,
        "start_time": "2021-10-07T19:44:35.157Z"
      },
      {
        "duration": 37,
        "start_time": "2021-10-07T19:44:35.191Z"
      },
      {
        "duration": 51,
        "start_time": "2021-10-07T19:44:35.230Z"
      },
      {
        "duration": 45,
        "start_time": "2021-10-07T19:44:35.284Z"
      },
      {
        "duration": 722,
        "start_time": "2021-10-07T19:44:35.331Z"
      },
      {
        "duration": 56,
        "start_time": "2021-10-07T19:44:36.055Z"
      },
      {
        "duration": 233,
        "start_time": "2021-10-07T19:44:36.113Z"
      },
      {
        "duration": 84,
        "start_time": "2021-10-07T19:44:36.347Z"
      },
      {
        "duration": 25,
        "start_time": "2021-10-07T19:44:36.433Z"
      },
      {
        "duration": 272,
        "start_time": "2021-10-07T19:44:36.459Z"
      },
      {
        "duration": 441,
        "start_time": "2021-10-07T19:44:36.733Z"
      },
      {
        "duration": 785,
        "start_time": "2021-10-07T19:44:37.177Z"
      },
      {
        "duration": 4,
        "start_time": "2021-10-07T19:44:37.964Z"
      },
      {
        "duration": 17,
        "start_time": "2021-10-07T19:44:38.520Z"
      },
      {
        "duration": 317,
        "start_time": "2021-10-07T19:44:39.119Z"
      },
      {
        "duration": 26,
        "start_time": "2021-10-07T19:44:39.768Z"
      },
      {
        "duration": 110,
        "start_time": "2021-10-07T19:44:40.697Z"
      },
      {
        "duration": 126,
        "start_time": "2021-10-07T19:44:41.432Z"
      },
      {
        "duration": 37,
        "start_time": "2021-10-07T19:44:41.864Z"
      },
      {
        "duration": 21,
        "start_time": "2021-10-07T19:44:42.345Z"
      },
      {
        "duration": 23,
        "start_time": "2021-10-07T19:44:43.657Z"
      },
      {
        "duration": 921,
        "start_time": "2021-10-07T19:44:44.695Z"
      },
      {
        "duration": 748,
        "start_time": "2021-10-07T19:44:45.618Z"
      },
      {
        "duration": 83,
        "start_time": "2021-10-07T19:44:46.368Z"
      },
      {
        "duration": 5,
        "start_time": "2021-10-07T19:44:46.515Z"
      },
      {
        "duration": 35772,
        "start_time": "2021-10-07T19:44:58.104Z"
      },
      {
        "duration": 1246,
        "start_time": "2021-10-07T19:46:53.520Z"
      },
      {
        "duration": 792,
        "start_time": "2021-10-07T19:46:54.768Z"
      },
      {
        "duration": 23,
        "start_time": "2021-10-07T19:46:55.562Z"
      },
      {
        "duration": 128,
        "start_time": "2021-10-07T19:46:55.587Z"
      },
      {
        "duration": 133,
        "start_time": "2021-10-07T19:46:55.717Z"
      },
      {
        "duration": 37,
        "start_time": "2021-10-07T19:46:55.852Z"
      },
      {
        "duration": 17,
        "start_time": "2021-10-07T19:46:55.891Z"
      },
      {
        "duration": 34,
        "start_time": "2021-10-07T19:46:55.911Z"
      },
      {
        "duration": 264,
        "start_time": "2021-10-07T19:46:55.947Z"
      },
      {
        "duration": 184,
        "start_time": "2021-10-07T19:46:56.213Z"
      },
      {
        "duration": 26,
        "start_time": "2021-10-07T19:46:56.399Z"
      },
      {
        "duration": 27,
        "start_time": "2021-10-07T19:46:56.428Z"
      },
      {
        "duration": 74,
        "start_time": "2021-10-07T19:46:56.457Z"
      },
      {
        "duration": 44,
        "start_time": "2021-10-07T19:46:56.533Z"
      },
      {
        "duration": 14,
        "start_time": "2021-10-07T19:46:56.579Z"
      },
      {
        "duration": 623,
        "start_time": "2021-10-07T19:46:56.596Z"
      },
      {
        "duration": 33,
        "start_time": "2021-10-07T19:46:57.221Z"
      },
      {
        "duration": 264,
        "start_time": "2021-10-07T19:46:57.256Z"
      },
      {
        "duration": 84,
        "start_time": "2021-10-07T19:46:57.522Z"
      },
      {
        "duration": 26,
        "start_time": "2021-10-07T19:46:57.608Z"
      },
      {
        "duration": 234,
        "start_time": "2021-10-07T19:46:57.637Z"
      },
      {
        "duration": 385,
        "start_time": "2021-10-07T19:46:57.877Z"
      },
      {
        "duration": 648,
        "start_time": "2021-10-07T19:46:58.263Z"
      },
      {
        "duration": 4,
        "start_time": "2021-10-07T19:46:58.913Z"
      },
      {
        "duration": 20,
        "start_time": "2021-10-07T19:46:58.918Z"
      },
      {
        "duration": 449,
        "start_time": "2021-10-07T19:46:58.940Z"
      },
      {
        "duration": 31,
        "start_time": "2021-10-07T19:46:59.391Z"
      },
      {
        "duration": 189,
        "start_time": "2021-10-07T19:46:59.424Z"
      },
      {
        "duration": 149,
        "start_time": "2021-10-07T19:46:59.615Z"
      },
      {
        "duration": 39,
        "start_time": "2021-10-07T19:46:59.765Z"
      },
      {
        "duration": 24,
        "start_time": "2021-10-07T19:46:59.807Z"
      },
      {
        "duration": 24,
        "start_time": "2021-10-07T19:47:01.417Z"
      },
      {
        "duration": 935,
        "start_time": "2021-10-07T19:47:01.817Z"
      },
      {
        "duration": 651,
        "start_time": "2021-10-07T19:47:02.755Z"
      },
      {
        "duration": 72,
        "start_time": "2021-10-07T19:47:03.408Z"
      },
      {
        "duration": 4,
        "start_time": "2021-10-07T19:47:03.482Z"
      },
      {
        "duration": 129441,
        "start_time": "2021-10-07T19:47:14.337Z"
      },
      {
        "duration": 3,
        "start_time": "2021-10-07T19:49:23.780Z"
      },
      {
        "duration": 44706,
        "start_time": "2021-10-07T19:49:23.785Z"
      },
      {
        "duration": 3424,
        "start_time": "2021-10-07T19:50:08.493Z"
      },
      {
        "duration": 298,
        "start_time": "2021-10-07T19:50:20.124Z"
      },
      {
        "duration": 4445,
        "start_time": "2021-10-07T19:53:50.905Z"
      },
      {
        "duration": 5,
        "start_time": "2021-10-07T19:55:27.499Z"
      },
      {
        "duration": 291,
        "start_time": "2021-10-07T19:57:11.708Z"
      },
      {
        "duration": 603,
        "start_time": "2021-10-07T19:58:21.011Z"
      },
      {
        "duration": 647,
        "start_time": "2021-10-07T19:59:13.451Z"
      },
      {
        "duration": 587,
        "start_time": "2021-10-07T19:59:48.957Z"
      },
      {
        "duration": 195,
        "start_time": "2021-10-07T20:00:21.621Z"
      },
      {
        "duration": 200,
        "start_time": "2021-10-07T20:00:38.797Z"
      },
      {
        "duration": 3,
        "start_time": "2021-10-07T20:01:53.015Z"
      },
      {
        "duration": 311705,
        "start_time": "2021-10-07T20:01:54.486Z"
      },
      {
        "duration": 387,
        "start_time": "2021-10-07T20:07:06.193Z"
      },
      {
        "duration": 37488,
        "start_time": "2021-10-07T20:07:07.240Z"
      },
      {
        "duration": 317,
        "start_time": "2021-10-07T20:07:44.777Z"
      },
      {
        "duration": 3867,
        "start_time": "2021-10-07T20:08:09.359Z"
      },
      {
        "duration": 414013,
        "start_time": "2021-10-07T20:12:26.993Z"
      },
      {
        "duration": 2,
        "start_time": "2021-10-07T20:19:21.008Z"
      },
      {
        "duration": 586167,
        "start_time": "2021-10-07T20:19:21.012Z"
      },
      {
        "duration": 901,
        "start_time": "2021-10-07T20:29:07.181Z"
      },
      {
        "duration": 377,
        "start_time": "2021-10-07T20:29:08.083Z"
      },
      {
        "duration": 344,
        "start_time": "2021-10-07T20:34:37.541Z"
      },
      {
        "duration": 154950,
        "start_time": "2021-10-07T20:37:12.429Z"
      },
      {
        "duration": 8904,
        "start_time": "2021-10-07T20:40:25.549Z"
      },
      {
        "duration": 74,
        "start_time": "2021-10-07T20:40:34.380Z"
      },
      {
        "duration": 336,
        "start_time": "2021-10-07T20:40:59.005Z"
      },
      {
        "duration": 588429,
        "start_time": "2021-10-07T20:43:03.790Z"
      },
      {
        "duration": 82417,
        "start_time": "2021-10-07T20:52:52.221Z"
      },
      {
        "duration": 91,
        "start_time": "2021-10-07T20:54:14.549Z"
      },
      {
        "duration": 89,
        "start_time": "2021-10-07T20:54:14.553Z"
      },
      {
        "duration": 162507,
        "start_time": "2021-10-07T20:54:15.569Z"
      },
      {
        "duration": 933,
        "start_time": "2021-10-07T20:56:58.079Z"
      },
      {
        "duration": 286,
        "start_time": "2021-10-07T20:56:59.014Z"
      },
      {
        "duration": 314,
        "start_time": "2021-10-07T20:57:17.938Z"
      },
      {
        "duration": 13012,
        "start_time": "2021-10-07T20:58:44.594Z"
      },
      {
        "duration": 10,
        "start_time": "2021-10-07T20:59:12.874Z"
      },
      {
        "duration": 9884,
        "start_time": "2021-10-07T20:59:25.025Z"
      },
      {
        "duration": 3031,
        "start_time": "2021-10-07T21:00:06.853Z"
      },
      {
        "duration": 2645,
        "start_time": "2021-10-07T21:01:00.954Z"
      },
      {
        "duration": 2337,
        "start_time": "2021-10-07T21:01:20.507Z"
      },
      {
        "duration": 319,
        "start_time": "2021-10-07T21:01:42.267Z"
      },
      {
        "duration": 486,
        "start_time": "2021-10-07T21:01:59.620Z"
      },
      {
        "duration": 2103,
        "start_time": "2021-10-07T21:02:04.292Z"
      },
      {
        "duration": 3746,
        "start_time": "2021-10-07T21:02:14.507Z"
      },
      {
        "duration": 1240,
        "start_time": "2021-10-08T09:24:06.236Z"
      },
      {
        "duration": 798,
        "start_time": "2021-10-08T09:24:52.687Z"
      },
      {
        "duration": 17,
        "start_time": "2021-10-08T09:25:09.299Z"
      },
      {
        "duration": 217,
        "start_time": "2021-10-08T09:25:56.861Z"
      },
      {
        "duration": 16,
        "start_time": "2021-10-08T09:34:31.870Z"
      },
      {
        "duration": 2,
        "start_time": "2021-10-08T09:35:20.172Z"
      },
      {
        "duration": 137,
        "start_time": "2021-10-08T09:42:19.633Z"
      },
      {
        "duration": 311,
        "start_time": "2021-10-08T09:42:20.689Z"
      },
      {
        "duration": 4,
        "start_time": "2021-10-08T09:42:32.306Z"
      },
      {
        "duration": 730,
        "start_time": "2021-10-08T09:42:32.849Z"
      },
      {
        "duration": 11,
        "start_time": "2021-10-08T09:42:33.581Z"
      },
      {
        "duration": 125,
        "start_time": "2021-10-08T09:42:33.594Z"
      },
      {
        "duration": 112,
        "start_time": "2021-10-08T09:42:34.185Z"
      },
      {
        "duration": 120,
        "start_time": "2021-10-08T09:42:38.128Z"
      },
      {
        "duration": 223,
        "start_time": "2021-10-08T09:42:38.752Z"
      },
      {
        "duration": 224,
        "start_time": "2021-10-08T09:42:53.960Z"
      },
      {
        "duration": 4,
        "start_time": "2021-10-08T09:42:59.232Z"
      },
      {
        "duration": 744,
        "start_time": "2021-10-08T09:42:59.609Z"
      },
      {
        "duration": 12,
        "start_time": "2021-10-08T09:43:00.355Z"
      },
      {
        "duration": 122,
        "start_time": "2021-10-08T09:43:01.329Z"
      },
      {
        "duration": 125,
        "start_time": "2021-10-08T09:43:02.055Z"
      },
      {
        "duration": 122,
        "start_time": "2021-10-08T09:43:05.735Z"
      },
      {
        "duration": 220,
        "start_time": "2021-10-08T09:43:06.857Z"
      },
      {
        "duration": 2,
        "start_time": "2021-10-08T09:43:13.778Z"
      },
      {
        "duration": 226,
        "start_time": "2021-10-08T09:43:22.961Z"
      },
      {
        "duration": 5,
        "start_time": "2021-10-08T09:43:27.113Z"
      },
      {
        "duration": 719,
        "start_time": "2021-10-08T09:43:27.777Z"
      },
      {
        "duration": 13,
        "start_time": "2021-10-08T09:43:28.498Z"
      },
      {
        "duration": 134,
        "start_time": "2021-10-08T09:43:28.514Z"
      },
      {
        "duration": 119,
        "start_time": "2021-10-08T09:43:29.217Z"
      },
      {
        "duration": 112,
        "start_time": "2021-10-08T09:43:32.937Z"
      },
      {
        "duration": 2,
        "start_time": "2021-10-08T09:43:33.905Z"
      },
      {
        "duration": 230,
        "start_time": "2021-10-08T09:43:34.570Z"
      },
      {
        "duration": 4,
        "start_time": "2021-10-08T09:43:47.313Z"
      },
      {
        "duration": 681,
        "start_time": "2021-10-08T09:43:48.001Z"
      },
      {
        "duration": 12,
        "start_time": "2021-10-08T09:43:48.685Z"
      },
      {
        "duration": 117,
        "start_time": "2021-10-08T09:43:49.145Z"
      },
      {
        "duration": 116,
        "start_time": "2021-10-08T09:43:49.905Z"
      },
      {
        "duration": 99,
        "start_time": "2021-10-08T09:43:53.839Z"
      },
      {
        "duration": 2,
        "start_time": "2021-10-08T09:43:54.688Z"
      },
      {
        "duration": 248,
        "start_time": "2021-10-08T09:43:59.025Z"
      },
      {
        "duration": 218,
        "start_time": "2021-10-08T09:44:17.676Z"
      },
      {
        "duration": 4,
        "start_time": "2021-10-08T09:44:21.808Z"
      },
      {
        "duration": 731,
        "start_time": "2021-10-08T09:44:22.737Z"
      },
      {
        "duration": 13,
        "start_time": "2021-10-08T09:44:23.470Z"
      },
      {
        "duration": 112,
        "start_time": "2021-10-08T09:44:23.673Z"
      },
      {
        "duration": 122,
        "start_time": "2021-10-08T09:44:24.601Z"
      },
      {
        "duration": 112,
        "start_time": "2021-10-08T09:44:27.432Z"
      },
      {
        "duration": 3,
        "start_time": "2021-10-08T09:44:28.216Z"
      },
      {
        "duration": 235,
        "start_time": "2021-10-08T09:44:29.121Z"
      },
      {
        "duration": 4,
        "start_time": "2021-10-08T09:44:59.586Z"
      },
      {
        "duration": 720,
        "start_time": "2021-10-08T09:44:59.969Z"
      },
      {
        "duration": 13,
        "start_time": "2021-10-08T09:45:00.691Z"
      },
      {
        "duration": 114,
        "start_time": "2021-10-08T09:45:01.553Z"
      },
      {
        "duration": 117,
        "start_time": "2021-10-08T09:45:02.321Z"
      },
      {
        "duration": 30,
        "start_time": "2021-10-08T09:45:03.905Z"
      },
      {
        "duration": 18,
        "start_time": "2021-10-08T09:45:04.608Z"
      },
      {
        "duration": 107,
        "start_time": "2021-10-08T09:45:07.121Z"
      },
      {
        "duration": 2,
        "start_time": "2021-10-08T09:45:07.705Z"
      },
      {
        "duration": 248,
        "start_time": "2021-10-08T09:45:08.748Z"
      },
      {
        "duration": 4,
        "start_time": "2021-10-08T09:45:25.130Z"
      },
      {
        "duration": 731,
        "start_time": "2021-10-08T09:45:25.536Z"
      },
      {
        "duration": 12,
        "start_time": "2021-10-08T09:45:26.269Z"
      },
      {
        "duration": 121,
        "start_time": "2021-10-08T09:45:26.283Z"
      },
      {
        "duration": 123,
        "start_time": "2021-10-08T09:45:26.406Z"
      },
      {
        "duration": 32,
        "start_time": "2021-10-08T09:45:27.001Z"
      },
      {
        "duration": 17,
        "start_time": "2021-10-08T09:45:27.593Z"
      },
      {
        "duration": 102,
        "start_time": "2021-10-08T09:45:30.416Z"
      },
      {
        "duration": 2,
        "start_time": "2021-10-08T09:45:31.146Z"
      },
      {
        "duration": 221,
        "start_time": "2021-10-08T09:45:31.865Z"
      },
      {
        "duration": 216,
        "start_time": "2021-10-08T09:45:44.297Z"
      },
      {
        "duration": 5,
        "start_time": "2021-10-08T09:45:48.393Z"
      },
      {
        "duration": 677,
        "start_time": "2021-10-08T09:45:48.761Z"
      },
      {
        "duration": 16,
        "start_time": "2021-10-08T09:45:49.440Z"
      },
      {
        "duration": 121,
        "start_time": "2021-10-08T09:45:49.458Z"
      },
      {
        "duration": 120,
        "start_time": "2021-10-08T09:45:49.581Z"
      },
      {
        "duration": 31,
        "start_time": "2021-10-08T09:45:50.977Z"
      },
      {
        "duration": 17,
        "start_time": "2021-10-08T09:45:51.425Z"
      },
      {
        "duration": 94,
        "start_time": "2021-10-08T09:45:52.680Z"
      },
      {
        "duration": 21,
        "start_time": "2021-10-08T09:45:53.690Z"
      },
      {
        "duration": 112,
        "start_time": "2021-10-08T09:45:57.362Z"
      },
      {
        "duration": 4,
        "start_time": "2021-10-08T09:46:08.811Z"
      },
      {
        "duration": 885,
        "start_time": "2021-10-08T09:46:09.393Z"
      },
      {
        "duration": 13,
        "start_time": "2021-10-08T09:46:10.280Z"
      },
      {
        "duration": 111,
        "start_time": "2021-10-08T09:46:12.537Z"
      },
      {
        "duration": 111,
        "start_time": "2021-10-08T09:46:13.194Z"
      },
      {
        "duration": 113,
        "start_time": "2021-10-08T09:46:30.562Z"
      },
      {
        "duration": 22,
        "start_time": "2021-10-08T09:46:32.603Z"
      },
      {
        "duration": 114,
        "start_time": "2021-10-08T09:46:35.586Z"
      },
      {
        "duration": 4,
        "start_time": "2021-10-08T09:46:46.866Z"
      },
      {
        "duration": 715,
        "start_time": "2021-10-08T09:46:47.289Z"
      },
      {
        "duration": 12,
        "start_time": "2021-10-08T09:46:48.006Z"
      },
      {
        "duration": 116,
        "start_time": "2021-10-08T09:46:48.092Z"
      },
      {
        "duration": 112,
        "start_time": "2021-10-08T09:46:48.817Z"
      },
      {
        "duration": 143,
        "start_time": "2021-10-08T09:46:54.425Z"
      },
      {
        "duration": 22,
        "start_time": "2021-10-08T09:46:55.010Z"
      },
      {
        "duration": 105,
        "start_time": "2021-10-08T09:46:56.049Z"
      },
      {
        "duration": 5,
        "start_time": "2021-10-08T09:48:14.169Z"
      },
      {
        "duration": 723,
        "start_time": "2021-10-08T09:48:14.714Z"
      },
      {
        "duration": 16,
        "start_time": "2021-10-08T09:48:15.439Z"
      },
      {
        "duration": 119,
        "start_time": "2021-10-08T09:48:15.530Z"
      },
      {
        "duration": 116,
        "start_time": "2021-10-08T09:48:16.352Z"
      },
      {
        "duration": 117,
        "start_time": "2021-10-08T09:48:21.506Z"
      },
      {
        "duration": 21,
        "start_time": "2021-10-08T09:48:23.676Z"
      },
      {
        "duration": 108,
        "start_time": "2021-10-08T09:48:31.618Z"
      },
      {
        "duration": 108,
        "start_time": "2021-10-08T09:49:13.251Z"
      },
      {
        "duration": 4,
        "start_time": "2021-10-08T09:49:44.019Z"
      },
      {
        "duration": 3,
        "start_time": "2021-10-08T09:52:03.147Z"
      },
      {
        "duration": 31,
        "start_time": "2021-10-08T09:52:57.517Z"
      },
      {
        "duration": 15,
        "start_time": "2021-10-08T09:52:58.981Z"
      },
      {
        "duration": 30,
        "start_time": "2021-10-08T09:54:27.290Z"
      },
      {
        "duration": 4,
        "start_time": "2021-10-08T09:54:44.676Z"
      },
      {
        "duration": 221,
        "start_time": "2021-10-08T09:54:46.892Z"
      },
      {
        "duration": 4,
        "start_time": "2021-10-08T09:54:53.347Z"
      },
      {
        "duration": 734,
        "start_time": "2021-10-08T09:54:53.803Z"
      },
      {
        "duration": 13,
        "start_time": "2021-10-08T09:54:57.502Z"
      },
      {
        "duration": 115,
        "start_time": "2021-10-08T09:54:58.068Z"
      },
      {
        "duration": 115,
        "start_time": "2021-10-08T09:54:58.548Z"
      },
      {
        "duration": 118,
        "start_time": "2021-10-08T09:55:00.835Z"
      },
      {
        "duration": 23,
        "start_time": "2021-10-08T09:55:01.358Z"
      },
      {
        "duration": 111,
        "start_time": "2021-10-08T09:55:02.022Z"
      },
      {
        "duration": 110,
        "start_time": "2021-10-08T09:55:03.547Z"
      },
      {
        "duration": 3,
        "start_time": "2021-10-08T09:55:06.044Z"
      },
      {
        "duration": 28,
        "start_time": "2021-10-08T09:55:06.748Z"
      },
      {
        "duration": 34,
        "start_time": "2021-10-08T09:55:09.356Z"
      },
      {
        "duration": 16,
        "start_time": "2021-10-08T09:55:10.180Z"
      },
      {
        "duration": 2,
        "start_time": "2021-10-08T09:55:42.100Z"
      },
      {
        "duration": 32,
        "start_time": "2021-10-08T09:56:01.805Z"
      },
      {
        "duration": 31,
        "start_time": "2021-10-08T09:59:56.374Z"
      },
      {
        "duration": 31,
        "start_time": "2021-10-08T10:00:00.117Z"
      },
      {
        "duration": 15,
        "start_time": "2021-10-08T10:00:01.574Z"
      },
      {
        "duration": 32,
        "start_time": "2021-10-08T10:00:02.461Z"
      },
      {
        "duration": 4,
        "start_time": "2021-10-08T10:03:59.046Z"
      },
      {
        "duration": 708,
        "start_time": "2021-10-08T10:03:59.542Z"
      },
      {
        "duration": 12,
        "start_time": "2021-10-08T10:04:00.252Z"
      },
      {
        "duration": 114,
        "start_time": "2021-10-08T10:04:00.298Z"
      },
      {
        "duration": 114,
        "start_time": "2021-10-08T10:04:00.878Z"
      },
      {
        "duration": 105,
        "start_time": "2021-10-08T10:04:02.974Z"
      },
      {
        "duration": 22,
        "start_time": "2021-10-08T10:04:03.662Z"
      },
      {
        "duration": 106,
        "start_time": "2021-10-08T10:04:04.248Z"
      },
      {
        "duration": 106,
        "start_time": "2021-10-08T10:04:05.766Z"
      },
      {
        "duration": 3,
        "start_time": "2021-10-08T10:04:06.351Z"
      },
      {
        "duration": 28,
        "start_time": "2021-10-08T10:04:07.349Z"
      },
      {
        "duration": 30,
        "start_time": "2021-10-08T10:04:08.213Z"
      },
      {
        "duration": 16,
        "start_time": "2021-10-08T10:04:09.486Z"
      },
      {
        "duration": 30,
        "start_time": "2021-10-08T10:04:10.341Z"
      },
      {
        "duration": 35,
        "start_time": "2021-10-08T10:04:13.821Z"
      },
      {
        "duration": 30,
        "start_time": "2021-10-08T10:04:14.854Z"
      },
      {
        "duration": 14,
        "start_time": "2021-10-08T10:04:46.463Z"
      },
      {
        "duration": 6,
        "start_time": "2021-10-08T10:04:47.582Z"
      },
      {
        "duration": 12,
        "start_time": "2021-10-08T10:04:53.206Z"
      },
      {
        "duration": 6,
        "start_time": "2021-10-08T10:04:53.582Z"
      },
      {
        "duration": 24,
        "start_time": "2021-10-08T10:05:27.270Z"
      },
      {
        "duration": 23,
        "start_time": "2021-10-08T10:05:36.070Z"
      },
      {
        "duration": 16,
        "start_time": "2021-10-08T10:06:55.039Z"
      },
      {
        "duration": 13,
        "start_time": "2021-10-08T10:06:55.519Z"
      },
      {
        "duration": 27,
        "start_time": "2021-10-08T10:06:58.335Z"
      },
      {
        "duration": 24,
        "start_time": "2021-10-08T10:06:58.975Z"
      },
      {
        "duration": 18,
        "start_time": "2021-10-08T10:07:55.159Z"
      },
      {
        "duration": 15,
        "start_time": "2021-10-08T10:07:55.752Z"
      },
      {
        "duration": 28,
        "start_time": "2021-10-08T10:07:56.342Z"
      },
      {
        "duration": 24,
        "start_time": "2021-10-08T10:07:56.807Z"
      },
      {
        "duration": 224,
        "start_time": "2021-10-08T10:08:56.151Z"
      },
      {
        "duration": 8,
        "start_time": "2021-10-08T10:09:10.033Z"
      },
      {
        "duration": 11,
        "start_time": "2021-10-08T10:09:32.623Z"
      },
      {
        "duration": 17,
        "start_time": "2021-10-08T10:14:39.000Z"
      },
      {
        "duration": 33,
        "start_time": "2021-10-08T10:14:39.665Z"
      },
      {
        "duration": 217,
        "start_time": "2021-10-08T10:18:23.842Z"
      },
      {
        "duration": 8,
        "start_time": "2021-10-08T10:18:29.784Z"
      },
      {
        "duration": 60,
        "start_time": "2021-10-08T10:21:44.008Z"
      },
      {
        "duration": 220,
        "start_time": "2021-10-08T10:24:52.412Z"
      },
      {
        "duration": 377,
        "start_time": "2021-10-08T10:25:09.962Z"
      },
      {
        "duration": 203,
        "start_time": "2021-10-08T10:29:55.859Z"
      },
      {
        "duration": 207,
        "start_time": "2021-10-08T10:30:56.284Z"
      },
      {
        "duration": 35,
        "start_time": "2021-10-08T10:35:57.645Z"
      },
      {
        "duration": 91,
        "start_time": "2021-10-08T10:36:15.062Z"
      },
      {
        "duration": 4,
        "start_time": "2021-10-08T10:48:55.441Z"
      },
      {
        "duration": 8,
        "start_time": "2021-10-08T10:52:10.895Z"
      },
      {
        "duration": 468,
        "start_time": "2021-10-08T10:54:34.248Z"
      },
      {
        "duration": 3253,
        "start_time": "2021-10-08T10:54:44.215Z"
      },
      {
        "duration": 200,
        "start_time": "2021-10-08T10:55:42.353Z"
      },
      {
        "duration": 28,
        "start_time": "2021-10-08T10:55:54.201Z"
      },
      {
        "duration": 531,
        "start_time": "2021-10-08T10:56:25.945Z"
      },
      {
        "duration": 23,
        "start_time": "2021-10-08T10:56:34.826Z"
      },
      {
        "duration": 26,
        "start_time": "2021-10-08T10:59:01.938Z"
      },
      {
        "duration": 42,
        "start_time": "2021-10-08T10:59:29.225Z"
      },
      {
        "duration": 24,
        "start_time": "2021-10-08T10:59:54.425Z"
      },
      {
        "duration": 33,
        "start_time": "2021-10-08T11:01:05.771Z"
      },
      {
        "duration": 3,
        "start_time": "2021-10-08T11:01:14.218Z"
      },
      {
        "duration": 4,
        "start_time": "2021-10-08T11:01:35.373Z"
      },
      {
        "duration": 720,
        "start_time": "2021-10-08T11:01:35.555Z"
      },
      {
        "duration": 12,
        "start_time": "2021-10-08T11:01:36.277Z"
      },
      {
        "duration": 118,
        "start_time": "2021-10-08T11:01:36.291Z"
      },
      {
        "duration": 120,
        "start_time": "2021-10-08T11:01:36.410Z"
      },
      {
        "duration": 102,
        "start_time": "2021-10-08T11:01:36.713Z"
      },
      {
        "duration": 20,
        "start_time": "2021-10-08T11:01:36.868Z"
      },
      {
        "duration": 108,
        "start_time": "2021-10-08T11:01:37.018Z"
      },
      {
        "duration": 103,
        "start_time": "2021-10-08T11:01:37.196Z"
      },
      {
        "duration": 3,
        "start_time": "2021-10-08T11:01:37.356Z"
      },
      {
        "duration": 21,
        "start_time": "2021-10-08T11:01:37.673Z"
      },
      {
        "duration": 30,
        "start_time": "2021-10-08T11:01:38.011Z"
      },
      {
        "duration": 17,
        "start_time": "2021-10-08T11:01:38.368Z"
      },
      {
        "duration": 31,
        "start_time": "2021-10-08T11:01:38.697Z"
      },
      {
        "duration": 17,
        "start_time": "2021-10-08T11:01:39.025Z"
      },
      {
        "duration": 14,
        "start_time": "2021-10-08T11:01:39.193Z"
      },
      {
        "duration": 8,
        "start_time": "2021-10-08T11:01:39.361Z"
      },
      {
        "duration": 30,
        "start_time": "2021-10-08T11:01:39.529Z"
      },
      {
        "duration": 23,
        "start_time": "2021-10-08T11:01:39.697Z"
      },
      {
        "duration": 11,
        "start_time": "2021-10-08T11:01:39.866Z"
      },
      {
        "duration": 15,
        "start_time": "2021-10-08T11:01:40.218Z"
      },
      {
        "duration": 31,
        "start_time": "2021-10-08T11:01:40.393Z"
      },
      {
        "duration": 10,
        "start_time": "2021-10-08T11:01:40.969Z"
      },
      {
        "duration": 58,
        "start_time": "2021-10-08T11:01:41.664Z"
      },
      {
        "duration": 379,
        "start_time": "2021-10-08T11:01:42.329Z"
      },
      {
        "duration": 307,
        "start_time": "2021-10-08T11:01:43.961Z"
      },
      {
        "duration": 38,
        "start_time": "2021-10-08T11:01:45.809Z"
      },
      {
        "duration": 4,
        "start_time": "2021-10-08T11:01:46.569Z"
      },
      {
        "duration": 8,
        "start_time": "2021-10-08T11:01:50.233Z"
      },
      {
        "duration": 25,
        "start_time": "2021-10-08T11:01:51.882Z"
      },
      {
        "duration": 36,
        "start_time": "2021-10-08T11:01:52.785Z"
      },
      {
        "duration": 3,
        "start_time": "2021-10-08T11:01:53.290Z"
      },
      {
        "duration": 79,
        "start_time": "2021-10-08T11:02:13.953Z"
      },
      {
        "duration": 30,
        "start_time": "2021-10-08T11:02:24.146Z"
      },
      {
        "duration": 4,
        "start_time": "2021-10-08T11:02:25.794Z"
      },
      {
        "duration": 3649,
        "start_time": "2021-10-08T11:10:44.957Z"
      },
      {
        "duration": 879,
        "start_time": "2021-10-08T11:11:00.972Z"
      },
      {
        "duration": 5487,
        "start_time": "2021-10-08T11:12:31.853Z"
      },
      {
        "duration": 224,
        "start_time": "2021-10-08T11:12:42.869Z"
      },
      {
        "duration": 22,
        "start_time": "2021-10-08T11:12:52.860Z"
      },
      {
        "duration": 396,
        "start_time": "2021-10-08T11:14:56.318Z"
      },
      {
        "duration": 270,
        "start_time": "2021-10-08T11:15:08.453Z"
      },
      {
        "duration": 31,
        "start_time": "2021-10-08T11:15:50.806Z"
      },
      {
        "duration": 4,
        "start_time": "2021-10-08T11:15:59.814Z"
      },
      {
        "duration": 217,
        "start_time": "2021-10-08T11:18:38.565Z"
      },
      {
        "duration": 13,
        "start_time": "2021-10-08T11:18:42.918Z"
      },
      {
        "duration": 91,
        "start_time": "2021-10-08T11:19:15.917Z"
      },
      {
        "duration": 79,
        "start_time": "2021-10-08T11:21:58.512Z"
      },
      {
        "duration": 584,
        "start_time": "2021-10-08T11:22:32.771Z"
      },
      {
        "duration": 598,
        "start_time": "2021-10-08T11:22:56.655Z"
      },
      {
        "duration": 209,
        "start_time": "2021-10-08T11:23:19.479Z"
      },
      {
        "duration": 27,
        "start_time": "2021-10-08T11:23:25.433Z"
      },
      {
        "duration": 28,
        "start_time": "2021-10-08T11:23:40.552Z"
      },
      {
        "duration": 4,
        "start_time": "2021-10-08T11:23:51.512Z"
      },
      {
        "duration": 704,
        "start_time": "2021-10-08T11:23:51.832Z"
      },
      {
        "duration": 17,
        "start_time": "2021-10-08T11:23:52.538Z"
      },
      {
        "duration": 133,
        "start_time": "2021-10-08T11:23:52.557Z"
      },
      {
        "duration": 124,
        "start_time": "2021-10-08T11:23:52.692Z"
      },
      {
        "duration": 105,
        "start_time": "2021-10-08T11:23:52.983Z"
      },
      {
        "duration": 20,
        "start_time": "2021-10-08T11:23:53.145Z"
      },
      {
        "duration": 111,
        "start_time": "2021-10-08T11:23:53.312Z"
      },
      {
        "duration": 106,
        "start_time": "2021-10-08T11:23:53.483Z"
      },
      {
        "duration": 4,
        "start_time": "2021-10-08T11:23:53.662Z"
      },
      {
        "duration": 28,
        "start_time": "2021-10-08T11:23:54.000Z"
      },
      {
        "duration": 41,
        "start_time": "2021-10-08T11:23:54.336Z"
      },
      {
        "duration": 16,
        "start_time": "2021-10-08T11:23:54.687Z"
      },
      {
        "duration": 30,
        "start_time": "2021-10-08T11:23:55.032Z"
      },
      {
        "duration": 17,
        "start_time": "2021-10-08T11:23:55.384Z"
      },
      {
        "duration": 13,
        "start_time": "2021-10-08T11:23:55.576Z"
      },
      {
        "duration": 8,
        "start_time": "2021-10-08T11:23:55.743Z"
      },
      {
        "duration": 24,
        "start_time": "2021-10-08T11:23:55.919Z"
      },
      {
        "duration": 21,
        "start_time": "2021-10-08T11:23:56.096Z"
      },
      {
        "duration": 17,
        "start_time": "2021-10-08T11:23:56.264Z"
      },
      {
        "duration": 15,
        "start_time": "2021-10-08T11:23:56.615Z"
      },
      {
        "duration": 32,
        "start_time": "2021-10-08T11:23:56.776Z"
      },
      {
        "duration": 8,
        "start_time": "2021-10-08T11:23:57.296Z"
      },
      {
        "duration": 57,
        "start_time": "2021-10-08T11:23:57.640Z"
      },
      {
        "duration": 360,
        "start_time": "2021-10-08T11:23:58.015Z"
      },
      {
        "duration": 201,
        "start_time": "2021-10-08T11:23:59.600Z"
      },
      {
        "duration": 37,
        "start_time": "2021-10-08T11:24:00.583Z"
      },
      {
        "duration": 3,
        "start_time": "2021-10-08T11:24:00.945Z"
      },
      {
        "duration": 8,
        "start_time": "2021-10-08T11:24:02.361Z"
      },
      {
        "duration": 25,
        "start_time": "2021-10-08T11:24:03.432Z"
      },
      {
        "duration": 35,
        "start_time": "2021-10-08T11:24:03.912Z"
      },
      {
        "duration": 3,
        "start_time": "2021-10-08T11:24:04.712Z"
      },
      {
        "duration": 284,
        "start_time": "2021-10-08T11:24:05.512Z"
      },
      {
        "duration": 20,
        "start_time": "2021-10-08T11:24:07.241Z"
      },
      {
        "duration": 33,
        "start_time": "2021-10-08T11:24:08.247Z"
      },
      {
        "duration": 4,
        "start_time": "2021-10-08T11:24:08.895Z"
      },
      {
        "duration": 12,
        "start_time": "2021-10-08T11:24:11.336Z"
      },
      {
        "duration": 84,
        "start_time": "2021-10-08T11:24:12.672Z"
      },
      {
        "duration": 27,
        "start_time": "2021-10-08T11:24:13.851Z"
      },
      {
        "duration": 574,
        "start_time": "2021-10-08T11:24:14.552Z"
      },
      {
        "duration": 82,
        "start_time": "2021-10-08T11:24:18.208Z"
      },
      {
        "duration": 28,
        "start_time": "2021-10-08T11:24:20.049Z"
      },
      {
        "duration": 28,
        "start_time": "2021-10-08T11:26:08.985Z"
      },
      {
        "duration": 53,
        "start_time": "2021-10-08T11:26:10.358Z"
      },
      {
        "duration": 29,
        "start_time": "2021-10-08T11:26:10.865Z"
      },
      {
        "duration": 595,
        "start_time": "2021-10-08T11:26:59.274Z"
      },
      {
        "duration": 560,
        "start_time": "2021-10-08T11:28:39.047Z"
      },
      {
        "duration": 30,
        "start_time": "2021-10-08T11:29:27.754Z"
      },
      {
        "duration": 329,
        "start_time": "2021-10-08T11:29:49.633Z"
      },
      {
        "duration": 13,
        "start_time": "2021-10-08T11:30:52.697Z"
      },
      {
        "duration": 14,
        "start_time": "2021-10-08T11:31:33.121Z"
      },
      {
        "duration": 21,
        "start_time": "2021-10-08T11:58:08.368Z"
      },
      {
        "duration": 1526,
        "start_time": "2021-10-08T12:00:58.576Z"
      },
      {
        "duration": 1149,
        "start_time": "2021-10-08T12:01:00.104Z"
      },
      {
        "duration": 25,
        "start_time": "2021-10-08T12:01:01.256Z"
      },
      {
        "duration": 226,
        "start_time": "2021-10-08T12:01:01.283Z"
      },
      {
        "duration": 215,
        "start_time": "2021-10-08T12:01:01.512Z"
      },
      {
        "duration": 183,
        "start_time": "2021-10-08T12:01:01.729Z"
      },
      {
        "duration": 44,
        "start_time": "2021-10-08T12:01:01.914Z"
      },
      {
        "duration": 217,
        "start_time": "2021-10-08T12:01:01.961Z"
      },
      {
        "duration": 176,
        "start_time": "2021-10-08T12:01:02.181Z"
      },
      {
        "duration": 3,
        "start_time": "2021-10-08T12:01:02.359Z"
      },
      {
        "duration": 48,
        "start_time": "2021-10-08T12:01:02.365Z"
      },
      {
        "duration": 57,
        "start_time": "2021-10-08T12:01:02.415Z"
      },
      {
        "duration": 29,
        "start_time": "2021-10-08T12:01:02.474Z"
      },
      {
        "duration": 54,
        "start_time": "2021-10-08T12:01:02.504Z"
      },
      {
        "duration": 32,
        "start_time": "2021-10-08T12:01:02.560Z"
      },
      {
        "duration": 14,
        "start_time": "2021-10-08T12:01:02.594Z"
      },
      {
        "duration": 18,
        "start_time": "2021-10-08T12:01:02.609Z"
      },
      {
        "duration": 32,
        "start_time": "2021-10-08T12:01:02.628Z"
      },
      {
        "duration": 23,
        "start_time": "2021-10-08T12:01:02.662Z"
      },
      {
        "duration": 14,
        "start_time": "2021-10-08T12:01:02.688Z"
      },
      {
        "duration": 17,
        "start_time": "2021-10-08T12:01:02.704Z"
      },
      {
        "duration": 52,
        "start_time": "2021-10-08T12:01:02.722Z"
      },
      {
        "duration": 10,
        "start_time": "2021-10-08T12:01:02.778Z"
      },
      {
        "duration": 77,
        "start_time": "2021-10-08T12:01:02.791Z"
      },
      {
        "duration": 454,
        "start_time": "2021-10-08T12:01:02.870Z"
      },
      {
        "duration": 220,
        "start_time": "2021-10-08T12:01:03.326Z"
      },
      {
        "duration": 52,
        "start_time": "2021-10-08T12:01:03.547Z"
      },
      {
        "duration": 4,
        "start_time": "2021-10-08T12:01:03.601Z"
      },
      {
        "duration": 12,
        "start_time": "2021-10-08T12:01:03.606Z"
      },
      {
        "duration": 35,
        "start_time": "2021-10-08T12:01:03.620Z"
      },
      {
        "duration": 40,
        "start_time": "2021-10-08T12:01:03.657Z"
      },
      {
        "duration": 4,
        "start_time": "2021-10-08T12:01:03.699Z"
      },
      {
        "duration": 371,
        "start_time": "2021-10-08T12:01:03.705Z"
      },
      {
        "duration": 22,
        "start_time": "2021-10-08T12:01:04.078Z"
      },
      {
        "duration": 53,
        "start_time": "2021-10-08T12:01:04.101Z"
      },
      {
        "duration": 4,
        "start_time": "2021-10-08T12:01:04.155Z"
      },
      {
        "duration": 14,
        "start_time": "2021-10-08T12:01:04.161Z"
      },
      {
        "duration": 111,
        "start_time": "2021-10-08T12:01:04.177Z"
      },
      {
        "duration": 88,
        "start_time": "2021-10-08T12:01:04.290Z"
      },
      {
        "duration": 668,
        "start_time": "2021-10-08T12:01:04.380Z"
      },
      {
        "duration": 14,
        "start_time": "2021-10-08T12:01:05.049Z"
      },
      {
        "duration": 34,
        "start_time": "2021-10-08T12:01:05.064Z"
      },
      {
        "duration": 354,
        "start_time": "2021-10-08T12:01:05.100Z"
      },
      {
        "duration": 14,
        "start_time": "2021-10-08T12:01:05.456Z"
      },
      {
        "duration": 38,
        "start_time": "2021-10-08T12:01:05.472Z"
      },
      {
        "duration": 33,
        "start_time": "2021-10-08T12:01:05.512Z"
      },
      {
        "duration": 31,
        "start_time": "2021-10-08T12:01:05.546Z"
      },
      {
        "duration": 29,
        "start_time": "2021-10-08T12:01:05.579Z"
      },
      {
        "duration": 676,
        "start_time": "2021-10-08T12:01:05.610Z"
      },
      {
        "duration": 109,
        "start_time": "2021-10-08T12:01:06.288Z"
      },
      {
        "duration": 2,
        "start_time": "2021-10-08T12:01:06.399Z"
      },
      {
        "duration": 47,
        "start_time": "2021-10-08T12:01:06.403Z"
      },
      {
        "duration": 695,
        "start_time": "2021-10-08T12:01:06.452Z"
      },
      {
        "duration": 607,
        "start_time": "2021-10-08T12:01:07.149Z"
      },
      {
        "duration": 66,
        "start_time": "2021-10-08T12:01:07.757Z"
      },
      {
        "duration": 4,
        "start_time": "2021-10-08T12:01:07.825Z"
      },
      {
        "duration": 1807,
        "start_time": "2021-10-08T12:01:07.830Z"
      },
      {
        "duration": 228,
        "start_time": "2021-10-08T12:01:09.639Z"
      },
      {
        "duration": -630,
        "start_time": "2021-10-08T12:01:10.499Z"
      },
      {
        "duration": -637,
        "start_time": "2021-10-08T12:01:10.507Z"
      },
      {
        "duration": -640,
        "start_time": "2021-10-08T12:01:10.511Z"
      },
      {
        "duration": -644,
        "start_time": "2021-10-08T12:01:10.516Z"
      },
      {
        "duration": -650,
        "start_time": "2021-10-08T12:01:10.523Z"
      },
      {
        "duration": -653,
        "start_time": "2021-10-08T12:01:10.527Z"
      },
      {
        "duration": -655,
        "start_time": "2021-10-08T12:01:10.531Z"
      },
      {
        "duration": -669,
        "start_time": "2021-10-08T12:01:10.546Z"
      },
      {
        "duration": -675,
        "start_time": "2021-10-08T12:01:10.553Z"
      },
      {
        "duration": -686,
        "start_time": "2021-10-08T12:01:10.565Z"
      },
      {
        "duration": -697,
        "start_time": "2021-10-08T12:01:10.577Z"
      },
      {
        "duration": -700,
        "start_time": "2021-10-08T12:01:10.581Z"
      },
      {
        "duration": 246,
        "start_time": "2021-10-08T12:01:52.112Z"
      },
      {
        "duration": 256,
        "start_time": "2021-10-08T12:02:03.466Z"
      },
      {
        "duration": 28,
        "start_time": "2021-10-08T12:02:09.674Z"
      },
      {
        "duration": 57,
        "start_time": "2021-10-08T12:02:10.817Z"
      },
      {
        "duration": 970,
        "start_time": "2021-10-08T12:02:11.265Z"
      },
      {
        "duration": 673,
        "start_time": "2021-10-08T12:02:12.238Z"
      },
      {
        "duration": 80,
        "start_time": "2021-10-08T12:02:12.913Z"
      },
      {
        "duration": 5,
        "start_time": "2021-10-08T12:02:13.905Z"
      },
      {
        "duration": 1640,
        "start_time": "2021-10-08T12:02:15.817Z"
      },
      {
        "duration": 68,
        "start_time": "2021-10-08T12:02:34.178Z"
      },
      {
        "duration": 425,
        "start_time": "2021-10-08T12:02:53.666Z"
      },
      {
        "duration": 1239,
        "start_time": "2021-10-08T12:03:00.009Z"
      },
      {
        "duration": 897,
        "start_time": "2021-10-08T12:03:01.250Z"
      },
      {
        "duration": 29,
        "start_time": "2021-10-08T12:03:02.150Z"
      },
      {
        "duration": 193,
        "start_time": "2021-10-08T12:03:02.181Z"
      },
      {
        "duration": 171,
        "start_time": "2021-10-08T12:03:02.376Z"
      },
      {
        "duration": 188,
        "start_time": "2021-10-08T12:03:02.549Z"
      },
      {
        "duration": 33,
        "start_time": "2021-10-08T12:03:02.739Z"
      },
      {
        "duration": 205,
        "start_time": "2021-10-08T12:03:02.775Z"
      },
      {
        "duration": 199,
        "start_time": "2021-10-08T12:03:02.983Z"
      },
      {
        "duration": 4,
        "start_time": "2021-10-08T12:03:03.184Z"
      },
      {
        "duration": 55,
        "start_time": "2021-10-08T12:03:03.190Z"
      },
      {
        "duration": 57,
        "start_time": "2021-10-08T12:03:03.247Z"
      },
      {
        "duration": 34,
        "start_time": "2021-10-08T12:03:03.307Z"
      },
      {
        "duration": 62,
        "start_time": "2021-10-08T12:03:03.343Z"
      },
      {
        "duration": 49,
        "start_time": "2021-10-08T12:03:03.407Z"
      },
      {
        "duration": 22,
        "start_time": "2021-10-08T12:03:03.458Z"
      },
      {
        "duration": 21,
        "start_time": "2021-10-08T12:03:03.481Z"
      },
      {
        "duration": 54,
        "start_time": "2021-10-08T12:03:03.503Z"
      },
      {
        "duration": 21,
        "start_time": "2021-10-08T12:03:03.559Z"
      },
      {
        "duration": 12,
        "start_time": "2021-10-08T12:03:03.582Z"
      },
      {
        "duration": 18,
        "start_time": "2021-10-08T12:03:03.596Z"
      },
      {
        "duration": 52,
        "start_time": "2021-10-08T12:03:03.616Z"
      },
      {
        "duration": 9,
        "start_time": "2021-10-08T12:03:03.672Z"
      },
      {
        "duration": 117,
        "start_time": "2021-10-08T12:03:03.684Z"
      },
      {
        "duration": 624,
        "start_time": "2021-10-08T12:03:03.803Z"
      },
      {
        "duration": 325,
        "start_time": "2021-10-08T12:03:04.429Z"
      },
      {
        "duration": 63,
        "start_time": "2021-10-08T12:03:04.756Z"
      },
      {
        "duration": 4,
        "start_time": "2021-10-08T12:03:04.822Z"
      },
      {
        "duration": 24,
        "start_time": "2021-10-08T12:03:04.828Z"
      },
      {
        "duration": 23,
        "start_time": "2021-10-08T12:03:04.854Z"
      },
      {
        "duration": 42,
        "start_time": "2021-10-08T12:03:04.879Z"
      },
      {
        "duration": 4,
        "start_time": "2021-10-08T12:03:04.945Z"
      },
      {
        "duration": 284,
        "start_time": "2021-10-08T12:03:04.950Z"
      },
      {
        "duration": 25,
        "start_time": "2021-10-08T12:03:05.235Z"
      },
      {
        "duration": 32,
        "start_time": "2021-10-08T12:03:05.262Z"
      },
      {
        "duration": 4,
        "start_time": "2021-10-08T12:03:05.296Z"
      },
      {
        "duration": 43,
        "start_time": "2021-10-08T12:03:05.302Z"
      },
      {
        "duration": 101,
        "start_time": "2021-10-08T12:03:05.347Z"
      },
      {
        "duration": 29,
        "start_time": "2021-10-08T12:03:05.449Z"
      },
      {
        "duration": 780,
        "start_time": "2021-10-08T12:03:05.480Z"
      },
      {
        "duration": 23,
        "start_time": "2021-10-08T12:03:06.263Z"
      },
      {
        "duration": 72,
        "start_time": "2021-10-08T12:03:06.289Z"
      },
      {
        "duration": 556,
        "start_time": "2021-10-08T12:03:06.364Z"
      },
      {
        "duration": 25,
        "start_time": "2021-10-08T12:03:06.923Z"
      },
      {
        "duration": 54,
        "start_time": "2021-10-08T12:03:06.950Z"
      },
      {
        "duration": 40,
        "start_time": "2021-10-08T12:03:07.006Z"
      },
      {
        "duration": 56,
        "start_time": "2021-10-08T12:03:07.049Z"
      },
      {
        "duration": 38,
        "start_time": "2021-10-08T12:03:07.107Z"
      },
      {
        "duration": 930,
        "start_time": "2021-10-08T12:03:07.147Z"
      },
      {
        "duration": 97,
        "start_time": "2021-10-08T12:03:08.079Z"
      },
      {
        "duration": 23,
        "start_time": "2021-10-08T12:03:08.178Z"
      },
      {
        "duration": 80,
        "start_time": "2021-10-08T12:03:08.204Z"
      },
      {
        "duration": 19,
        "start_time": "2021-10-08T12:03:08.286Z"
      },
      {
        "duration": 850,
        "start_time": "2021-10-08T12:03:08.307Z"
      },
      {
        "duration": 840,
        "start_time": "2021-10-08T12:03:09.160Z"
      },
      {
        "duration": 65,
        "start_time": "2021-10-08T12:03:10.003Z"
      },
      {
        "duration": 4,
        "start_time": "2021-10-08T12:03:10.070Z"
      },
      {
        "duration": 424890,
        "start_time": "2021-10-08T12:03:10.076Z"
      },
      {
        "duration": 4,
        "start_time": "2021-10-08T12:10:14.968Z"
      },
      {
        "duration": 10471,
        "start_time": "2021-10-08T12:10:14.974Z"
      },
      {
        "duration": 3,
        "start_time": "2021-10-08T12:10:25.447Z"
      },
      {
        "duration": 21,
        "start_time": "2021-10-08T12:10:25.452Z"
      },
      {
        "duration": 21,
        "start_time": "2021-10-08T12:10:25.475Z"
      },
      {
        "duration": 5714,
        "start_time": "2021-10-08T12:10:25.498Z"
      },
      {
        "duration": 202363,
        "start_time": "2021-10-08T12:10:31.214Z"
      },
      {
        "duration": 160,
        "start_time": "2021-10-08T12:13:53.579Z"
      },
      {
        "duration": 5435,
        "start_time": "2021-10-08T12:13:53.741Z"
      },
      {
        "duration": -663,
        "start_time": "2021-10-08T12:13:59.841Z"
      },
      {
        "duration": -669,
        "start_time": "2021-10-08T12:13:59.848Z"
      },
      {
        "duration": -677,
        "start_time": "2021-10-08T12:13:59.857Z"
      },
      {
        "duration": -684,
        "start_time": "2021-10-08T12:13:59.865Z"
      },
      {
        "duration": -691,
        "start_time": "2021-10-08T12:13:59.873Z"
      },
      {
        "duration": 4842,
        "start_time": "2021-10-08T12:18:55.668Z"
      },
      {
        "duration": 19,
        "start_time": "2021-10-08T12:19:23.679Z"
      },
      {
        "duration": 1191,
        "start_time": "2021-10-08T12:21:00.476Z"
      },
      {
        "duration": 792,
        "start_time": "2021-10-08T12:21:01.669Z"
      },
      {
        "duration": 15,
        "start_time": "2021-10-08T12:21:02.463Z"
      },
      {
        "duration": 129,
        "start_time": "2021-10-08T12:21:02.480Z"
      },
      {
        "duration": 131,
        "start_time": "2021-10-08T12:21:02.611Z"
      },
      {
        "duration": 132,
        "start_time": "2021-10-08T12:21:02.743Z"
      },
      {
        "duration": 22,
        "start_time": "2021-10-08T12:21:02.877Z"
      },
      {
        "duration": 124,
        "start_time": "2021-10-08T12:21:02.902Z"
      },
      {
        "duration": 116,
        "start_time": "2021-10-08T12:21:03.028Z"
      },
      {
        "duration": 3,
        "start_time": "2021-10-08T12:21:03.146Z"
      },
      {
        "duration": 34,
        "start_time": "2021-10-08T12:21:03.151Z"
      },
      {
        "duration": 34,
        "start_time": "2021-10-08T12:21:03.187Z"
      },
      {
        "duration": 34,
        "start_time": "2021-10-08T12:21:03.223Z"
      },
      {
        "duration": 33,
        "start_time": "2021-10-08T12:21:03.259Z"
      },
      {
        "duration": 19,
        "start_time": "2021-10-08T12:21:03.294Z"
      },
      {
        "duration": 14,
        "start_time": "2021-10-08T12:21:03.315Z"
      },
      {
        "duration": 22,
        "start_time": "2021-10-08T12:21:03.331Z"
      },
      {
        "duration": 31,
        "start_time": "2021-10-08T12:21:03.354Z"
      },
      {
        "duration": 21,
        "start_time": "2021-10-08T12:21:03.387Z"
      },
      {
        "duration": 13,
        "start_time": "2021-10-08T12:21:03.409Z"
      },
      {
        "duration": 35,
        "start_time": "2021-10-08T12:21:03.425Z"
      },
      {
        "duration": 35,
        "start_time": "2021-10-08T12:21:03.461Z"
      },
      {
        "duration": 9,
        "start_time": "2021-10-08T12:21:03.500Z"
      },
      {
        "duration": 83,
        "start_time": "2021-10-08T12:21:03.511Z"
      },
      {
        "duration": 409,
        "start_time": "2021-10-08T12:21:03.596Z"
      },
      {
        "duration": 205,
        "start_time": "2021-10-08T12:21:04.007Z"
      },
      {
        "duration": 57,
        "start_time": "2021-10-08T12:21:04.214Z"
      },
      {
        "duration": 4,
        "start_time": "2021-10-08T12:21:04.273Z"
      },
      {
        "duration": 10,
        "start_time": "2021-10-08T12:21:04.278Z"
      },
      {
        "duration": 24,
        "start_time": "2021-10-08T12:21:04.289Z"
      },
      {
        "duration": 61,
        "start_time": "2021-10-08T12:21:04.314Z"
      },
      {
        "duration": 4,
        "start_time": "2021-10-08T12:21:04.377Z"
      },
      {
        "duration": 309,
        "start_time": "2021-10-08T12:21:04.383Z"
      },
      {
        "duration": 24,
        "start_time": "2021-10-08T12:21:04.694Z"
      },
      {
        "duration": 49,
        "start_time": "2021-10-08T12:21:04.720Z"
      },
      {
        "duration": 5,
        "start_time": "2021-10-08T12:21:04.771Z"
      },
      {
        "duration": 19,
        "start_time": "2021-10-08T12:21:04.778Z"
      },
      {
        "duration": 171,
        "start_time": "2021-10-08T12:21:04.799Z"
      },
      {
        "duration": 48,
        "start_time": "2021-10-08T12:21:04.972Z"
      },
      {
        "duration": 671,
        "start_time": "2021-10-08T12:21:05.022Z"
      },
      {
        "duration": 13,
        "start_time": "2021-10-08T12:21:05.695Z"
      },
      {
        "duration": 42,
        "start_time": "2021-10-08T12:21:05.710Z"
      },
      {
        "duration": 336,
        "start_time": "2021-10-08T12:21:05.754Z"
      },
      {
        "duration": 15,
        "start_time": "2021-10-08T12:21:06.092Z"
      },
      {
        "duration": 39,
        "start_time": "2021-10-08T12:21:06.109Z"
      },
      {
        "duration": 31,
        "start_time": "2021-10-08T12:21:06.150Z"
      },
      {
        "duration": 29,
        "start_time": "2021-10-08T12:21:06.183Z"
      },
      {
        "duration": 930,
        "start_time": "2021-10-08T12:21:06.214Z"
      },
      {
        "duration": 70,
        "start_time": "2021-10-08T12:21:07.146Z"
      },
      {
        "duration": -647,
        "start_time": "2021-10-08T12:21:07.865Z"
      },
      {
        "duration": -652,
        "start_time": "2021-10-08T12:21:07.871Z"
      },
      {
        "duration": -656,
        "start_time": "2021-10-08T12:21:07.876Z"
      },
      {
        "duration": -660,
        "start_time": "2021-10-08T12:21:07.881Z"
      },
      {
        "duration": -670,
        "start_time": "2021-10-08T12:21:07.892Z"
      },
      {
        "duration": -674,
        "start_time": "2021-10-08T12:21:07.897Z"
      },
      {
        "duration": -678,
        "start_time": "2021-10-08T12:21:07.902Z"
      },
      {
        "duration": -681,
        "start_time": "2021-10-08T12:21:07.906Z"
      },
      {
        "duration": -685,
        "start_time": "2021-10-08T12:21:07.911Z"
      },
      {
        "duration": -688,
        "start_time": "2021-10-08T12:21:07.915Z"
      },
      {
        "duration": -690,
        "start_time": "2021-10-08T12:21:07.918Z"
      },
      {
        "duration": -693,
        "start_time": "2021-10-08T12:21:07.922Z"
      },
      {
        "duration": -696,
        "start_time": "2021-10-08T12:21:07.926Z"
      },
      {
        "duration": -698,
        "start_time": "2021-10-08T12:21:07.929Z"
      },
      {
        "duration": -701,
        "start_time": "2021-10-08T12:21:07.933Z"
      },
      {
        "duration": -704,
        "start_time": "2021-10-08T12:21:07.937Z"
      },
      {
        "duration": -706,
        "start_time": "2021-10-08T12:21:07.940Z"
      },
      {
        "duration": -709,
        "start_time": "2021-10-08T12:21:07.944Z"
      },
      {
        "duration": -713,
        "start_time": "2021-10-08T12:21:07.948Z"
      },
      {
        "duration": -715,
        "start_time": "2021-10-08T12:21:07.951Z"
      },
      {
        "duration": -718,
        "start_time": "2021-10-08T12:21:07.955Z"
      },
      {
        "duration": -722,
        "start_time": "2021-10-08T12:21:07.959Z"
      },
      {
        "duration": -725,
        "start_time": "2021-10-08T12:21:07.963Z"
      },
      {
        "duration": 1129,
        "start_time": "2021-10-08T12:27:15.992Z"
      },
      {
        "duration": 785,
        "start_time": "2021-10-08T12:27:17.123Z"
      },
      {
        "duration": 16,
        "start_time": "2021-10-08T12:27:17.910Z"
      },
      {
        "duration": 122,
        "start_time": "2021-10-08T12:27:17.928Z"
      },
      {
        "duration": 124,
        "start_time": "2021-10-08T12:27:18.052Z"
      },
      {
        "duration": 129,
        "start_time": "2021-10-08T12:27:18.178Z"
      },
      {
        "duration": 22,
        "start_time": "2021-10-08T12:27:18.309Z"
      },
      {
        "duration": 115,
        "start_time": "2021-10-08T12:27:18.346Z"
      },
      {
        "duration": 108,
        "start_time": "2021-10-08T12:27:18.463Z"
      },
      {
        "duration": 3,
        "start_time": "2021-10-08T12:27:18.572Z"
      },
      {
        "duration": 39,
        "start_time": "2021-10-08T12:27:18.576Z"
      },
      {
        "duration": 39,
        "start_time": "2021-10-08T12:27:18.616Z"
      },
      {
        "duration": 17,
        "start_time": "2021-10-08T12:27:18.657Z"
      },
      {
        "duration": 33,
        "start_time": "2021-10-08T12:27:18.676Z"
      },
      {
        "duration": 20,
        "start_time": "2021-10-08T12:27:18.711Z"
      },
      {
        "duration": 12,
        "start_time": "2021-10-08T12:27:18.745Z"
      },
      {
        "duration": 9,
        "start_time": "2021-10-08T12:27:18.759Z"
      },
      {
        "duration": 38,
        "start_time": "2021-10-08T12:27:18.770Z"
      },
      {
        "duration": 23,
        "start_time": "2021-10-08T12:27:18.810Z"
      },
      {
        "duration": 12,
        "start_time": "2021-10-08T12:27:18.845Z"
      },
      {
        "duration": 16,
        "start_time": "2021-10-08T12:27:18.858Z"
      },
      {
        "duration": 57,
        "start_time": "2021-10-08T12:27:18.876Z"
      },
      {
        "duration": 31,
        "start_time": "2021-10-08T12:27:18.939Z"
      },
      {
        "duration": 69,
        "start_time": "2021-10-08T12:27:18.973Z"
      },
      {
        "duration": 393,
        "start_time": "2021-10-08T12:27:19.044Z"
      },
      {
        "duration": 217,
        "start_time": "2021-10-08T12:27:19.439Z"
      },
      {
        "duration": 48,
        "start_time": "2021-10-08T12:27:19.658Z"
      },
      {
        "duration": 3,
        "start_time": "2021-10-08T12:27:19.708Z"
      },
      {
        "duration": 34,
        "start_time": "2021-10-08T12:27:19.713Z"
      },
      {
        "duration": 40,
        "start_time": "2021-10-08T12:27:19.748Z"
      },
      {
        "duration": 41,
        "start_time": "2021-10-08T12:27:19.790Z"
      },
      {
        "duration": 3,
        "start_time": "2021-10-08T12:27:19.833Z"
      },
      {
        "duration": 292,
        "start_time": "2021-10-08T12:27:19.838Z"
      },
      {
        "duration": 29,
        "start_time": "2021-10-08T12:27:20.132Z"
      },
      {
        "duration": 36,
        "start_time": "2021-10-08T12:27:20.163Z"
      },
      {
        "duration": 3,
        "start_time": "2021-10-08T12:27:20.201Z"
      },
      {
        "duration": 42,
        "start_time": "2021-10-08T12:27:20.205Z"
      },
      {
        "duration": 101,
        "start_time": "2021-10-08T12:27:20.248Z"
      },
      {
        "duration": 47,
        "start_time": "2021-10-08T12:27:20.350Z"
      },
      {
        "duration": 656,
        "start_time": "2021-10-08T12:27:20.399Z"
      },
      {
        "duration": 14,
        "start_time": "2021-10-08T12:27:21.056Z"
      },
      {
        "duration": 58,
        "start_time": "2021-10-08T12:27:21.072Z"
      },
      {
        "duration": 353,
        "start_time": "2021-10-08T12:27:21.131Z"
      },
      {
        "duration": 15,
        "start_time": "2021-10-08T12:27:21.485Z"
      },
      {
        "duration": 65,
        "start_time": "2021-10-08T12:27:21.502Z"
      },
      {
        "duration": 34,
        "start_time": "2021-10-08T12:27:21.569Z"
      },
      {
        "duration": 53,
        "start_time": "2021-10-08T12:27:21.604Z"
      },
      {
        "duration": 657,
        "start_time": "2021-10-08T12:27:21.659Z"
      },
      {
        "duration": 102,
        "start_time": "2021-10-08T12:27:22.317Z"
      },
      {
        "duration": 29,
        "start_time": "2021-10-08T12:27:22.422Z"
      },
      {
        "duration": 84,
        "start_time": "2021-10-08T12:27:22.452Z"
      },
      {
        "duration": 19,
        "start_time": "2021-10-08T12:27:22.538Z"
      },
      {
        "duration": 41,
        "start_time": "2021-10-08T12:27:22.559Z"
      },
      {
        "duration": 799,
        "start_time": "2021-10-08T12:27:22.601Z"
      },
      {
        "duration": 662,
        "start_time": "2021-10-08T12:27:23.402Z"
      },
      {
        "duration": 64,
        "start_time": "2021-10-08T12:27:24.066Z"
      },
      {
        "duration": 15,
        "start_time": "2021-10-08T12:27:24.131Z"
      },
      {
        "duration": 448579,
        "start_time": "2021-10-08T12:27:24.147Z"
      },
      {
        "duration": 4,
        "start_time": "2021-10-08T12:34:52.728Z"
      },
      {
        "duration": 10856,
        "start_time": "2021-10-08T12:34:52.744Z"
      },
      {
        "duration": 3,
        "start_time": "2021-10-08T12:35:03.601Z"
      },
      {
        "duration": 7,
        "start_time": "2021-10-08T12:35:03.605Z"
      },
      {
        "duration": 10,
        "start_time": "2021-10-08T12:35:03.614Z"
      },
      {
        "duration": 874296,
        "start_time": "2021-10-08T12:35:03.626Z"
      },
      {
        "duration": 221135,
        "start_time": "2021-10-08T12:49:37.924Z"
      },
      {
        "duration": 1497,
        "start_time": "2021-10-08T12:53:19.061Z"
      },
      {
        "duration": 437,
        "start_time": "2021-10-08T12:53:20.560Z"
      },
      {
        "duration": 1683,
        "start_time": "2021-10-08T12:53:21.001Z"
      },
      {
        "duration": -666,
        "start_time": "2021-10-08T12:53:23.352Z"
      },
      {
        "duration": -671,
        "start_time": "2021-10-08T12:53:23.358Z"
      },
      {
        "duration": -674,
        "start_time": "2021-10-08T12:53:23.362Z"
      },
      {
        "duration": 340,
        "start_time": "2021-10-08T13:36:20.924Z"
      },
      {
        "duration": 5084,
        "start_time": "2021-10-08T13:36:22.549Z"
      },
      {
        "duration": 5226,
        "start_time": "2021-10-08T13:37:27.428Z"
      },
      {
        "duration": 55770,
        "start_time": "2021-10-08T13:43:15.477Z"
      },
      {
        "duration": 2,
        "start_time": "2021-10-08T13:44:11.249Z"
      },
      {
        "duration": 34006,
        "start_time": "2021-10-08T13:44:11.253Z"
      },
      {
        "duration": 223,
        "start_time": "2021-10-08T13:47:17.038Z"
      },
      {
        "duration": 4074,
        "start_time": "2021-10-08T13:48:56.622Z"
      },
      {
        "duration": 4258,
        "start_time": "2021-10-08T13:49:34.799Z"
      },
      {
        "duration": 4,
        "start_time": "2021-10-08T13:51:16.865Z"
      },
      {
        "duration": 4611,
        "start_time": "2021-10-08T13:51:59.775Z"
      },
      {
        "duration": 180,
        "start_time": "2021-10-08T13:54:18.496Z"
      },
      {
        "duration": 258,
        "start_time": "2021-10-08T13:54:35.801Z"
      },
      {
        "duration": 73,
        "start_time": "2021-10-08T13:55:12.241Z"
      },
      {
        "duration": 156,
        "start_time": "2021-10-08T13:55:36.128Z"
      },
      {
        "duration": 211,
        "start_time": "2021-10-08T13:57:29.392Z"
      },
      {
        "duration": 322,
        "start_time": "2021-10-08T14:00:15.480Z"
      },
      {
        "duration": 237,
        "start_time": "2021-10-08T14:00:29.753Z"
      },
      {
        "duration": 228,
        "start_time": "2021-10-08T14:01:17.066Z"
      },
      {
        "duration": 236,
        "start_time": "2021-10-08T14:01:25.049Z"
      },
      {
        "duration": 221,
        "start_time": "2021-10-08T14:01:51.835Z"
      },
      {
        "duration": 228,
        "start_time": "2021-10-08T14:02:00.170Z"
      },
      {
        "duration": 235,
        "start_time": "2021-10-08T14:02:09.985Z"
      },
      {
        "duration": 1287,
        "start_time": "2021-10-08T14:19:20.296Z"
      },
      {
        "duration": 817,
        "start_time": "2021-10-08T14:19:21.585Z"
      },
      {
        "duration": 17,
        "start_time": "2021-10-08T14:19:22.404Z"
      },
      {
        "duration": 136,
        "start_time": "2021-10-08T14:19:22.423Z"
      },
      {
        "duration": 136,
        "start_time": "2021-10-08T14:19:22.561Z"
      },
      {
        "duration": 138,
        "start_time": "2021-10-08T14:19:22.699Z"
      },
      {
        "duration": 24,
        "start_time": "2021-10-08T14:19:22.839Z"
      },
      {
        "duration": 133,
        "start_time": "2021-10-08T14:19:22.866Z"
      },
      {
        "duration": 113,
        "start_time": "2021-10-08T14:19:23.001Z"
      },
      {
        "duration": 3,
        "start_time": "2021-10-08T14:19:23.116Z"
      },
      {
        "duration": 48,
        "start_time": "2021-10-08T14:19:23.121Z"
      },
      {
        "duration": 40,
        "start_time": "2021-10-08T14:19:23.170Z"
      },
      {
        "duration": 24,
        "start_time": "2021-10-08T14:19:23.211Z"
      },
      {
        "duration": 35,
        "start_time": "2021-10-08T14:19:23.236Z"
      },
      {
        "duration": 25,
        "start_time": "2021-10-08T14:19:23.273Z"
      },
      {
        "duration": 14,
        "start_time": "2021-10-08T14:19:23.300Z"
      },
      {
        "duration": 10,
        "start_time": "2021-10-08T14:19:23.315Z"
      },
      {
        "duration": 45,
        "start_time": "2021-10-08T14:19:23.327Z"
      },
      {
        "duration": 23,
        "start_time": "2021-10-08T14:19:23.374Z"
      },
      {
        "duration": 12,
        "start_time": "2021-10-08T14:19:23.399Z"
      },
      {
        "duration": 39,
        "start_time": "2021-10-08T14:19:23.412Z"
      },
      {
        "duration": 36,
        "start_time": "2021-10-08T14:19:23.453Z"
      },
      {
        "duration": 9,
        "start_time": "2021-10-08T14:19:23.494Z"
      },
      {
        "duration": 85,
        "start_time": "2021-10-08T14:19:23.505Z"
      },
      {
        "duration": 421,
        "start_time": "2021-10-08T14:19:23.592Z"
      },
      {
        "duration": 215,
        "start_time": "2021-10-08T14:19:24.015Z"
      },
      {
        "duration": 59,
        "start_time": "2021-10-08T14:19:24.232Z"
      },
      {
        "duration": 4,
        "start_time": "2021-10-08T14:19:24.293Z"
      },
      {
        "duration": 16,
        "start_time": "2021-10-08T14:19:24.298Z"
      },
      {
        "duration": 45,
        "start_time": "2021-10-08T14:19:24.316Z"
      },
      {
        "duration": 47,
        "start_time": "2021-10-08T14:19:24.363Z"
      },
      {
        "duration": 5,
        "start_time": "2021-10-08T14:19:24.411Z"
      },
      {
        "duration": 327,
        "start_time": "2021-10-08T14:19:24.417Z"
      },
      {
        "duration": 24,
        "start_time": "2021-10-08T14:19:24.746Z"
      },
      {
        "duration": 38,
        "start_time": "2021-10-08T14:19:24.772Z"
      },
      {
        "duration": 4,
        "start_time": "2021-10-08T14:19:24.812Z"
      },
      {
        "duration": 40,
        "start_time": "2021-10-08T14:19:24.817Z"
      },
      {
        "duration": 108,
        "start_time": "2021-10-08T14:19:24.859Z"
      },
      {
        "duration": 32,
        "start_time": "2021-10-08T14:19:24.968Z"
      },
      {
        "duration": 701,
        "start_time": "2021-10-08T14:19:25.002Z"
      },
      {
        "duration": 15,
        "start_time": "2021-10-08T14:19:25.704Z"
      },
      {
        "duration": 49,
        "start_time": "2021-10-08T14:19:25.721Z"
      },
      {
        "duration": 365,
        "start_time": "2021-10-08T14:19:25.772Z"
      },
      {
        "duration": 17,
        "start_time": "2021-10-08T14:19:26.139Z"
      },
      {
        "duration": 48,
        "start_time": "2021-10-08T14:19:26.158Z"
      },
      {
        "duration": 29,
        "start_time": "2021-10-08T14:19:26.208Z"
      },
      {
        "duration": 32,
        "start_time": "2021-10-08T14:19:26.239Z"
      },
      {
        "duration": 662,
        "start_time": "2021-10-08T14:19:26.273Z"
      },
      {
        "duration": 112,
        "start_time": "2021-10-08T14:19:26.938Z"
      },
      {
        "duration": 21,
        "start_time": "2021-10-08T14:19:27.052Z"
      },
      {
        "duration": 85,
        "start_time": "2021-10-08T14:19:27.075Z"
      },
      {
        "duration": 21,
        "start_time": "2021-10-08T14:19:27.163Z"
      },
      {
        "duration": 34,
        "start_time": "2021-10-08T14:19:27.186Z"
      },
      {
        "duration": 882,
        "start_time": "2021-10-08T14:19:27.222Z"
      },
      {
        "duration": 765,
        "start_time": "2021-10-08T14:19:28.106Z"
      },
      {
        "duration": 82,
        "start_time": "2021-10-08T14:19:28.873Z"
      },
      {
        "duration": 6,
        "start_time": "2021-10-08T14:19:28.957Z"
      },
      {
        "duration": 455540,
        "start_time": "2021-10-08T14:19:28.965Z"
      },
      {
        "duration": 4,
        "start_time": "2021-10-08T14:27:04.507Z"
      },
      {
        "duration": 10995,
        "start_time": "2021-10-08T14:27:04.513Z"
      },
      {
        "duration": 2,
        "start_time": "2021-10-08T14:27:15.510Z"
      },
      {
        "duration": 5,
        "start_time": "2021-10-08T14:27:15.514Z"
      },
      {
        "duration": 5,
        "start_time": "2021-10-08T14:27:15.521Z"
      },
      {
        "duration": 19,
        "start_time": "2021-10-08T14:27:15.527Z"
      },
      {
        "duration": 316,
        "start_time": "2021-10-08T14:27:15.548Z"
      },
      {
        "duration": 872736,
        "start_time": "2021-10-08T14:27:15.866Z"
      },
      {
        "duration": 224853,
        "start_time": "2021-10-08T14:41:48.604Z"
      },
      {
        "duration": 1402,
        "start_time": "2021-10-08T14:45:33.461Z"
      },
      {
        "duration": 600,
        "start_time": "2021-10-08T14:45:34.944Z"
      },
      {
        "duration": 5080,
        "start_time": "2021-10-08T14:45:35.546Z"
      },
      {
        "duration": 2,
        "start_time": "2021-10-08T14:45:40.628Z"
      },
      {
        "duration": 61815,
        "start_time": "2021-10-08T14:45:40.631Z"
      },
      {
        "duration": 3,
        "start_time": "2021-10-08T14:46:42.449Z"
      },
      {
        "duration": 31892,
        "start_time": "2021-10-08T14:46:42.454Z"
      },
      {
        "duration": 1373,
        "start_time": "2021-10-09T15:22:46.520Z"
      },
      {
        "duration": 785,
        "start_time": "2021-10-09T15:22:47.894Z"
      },
      {
        "duration": 22,
        "start_time": "2021-10-09T15:22:48.683Z"
      },
      {
        "duration": 137,
        "start_time": "2021-10-09T15:22:48.709Z"
      },
      {
        "duration": 135,
        "start_time": "2021-10-09T15:22:48.848Z"
      },
      {
        "duration": 136,
        "start_time": "2021-10-09T15:22:48.985Z"
      },
      {
        "duration": 20,
        "start_time": "2021-10-09T15:22:49.124Z"
      },
      {
        "duration": 126,
        "start_time": "2021-10-09T15:22:49.146Z"
      },
      {
        "duration": 119,
        "start_time": "2021-10-09T15:22:49.274Z"
      },
      {
        "duration": 14,
        "start_time": "2021-10-09T15:22:49.394Z"
      },
      {
        "duration": 34,
        "start_time": "2021-10-09T15:22:49.411Z"
      },
      {
        "duration": 31,
        "start_time": "2021-10-09T15:22:49.447Z"
      },
      {
        "duration": 35,
        "start_time": "2021-10-09T15:22:49.479Z"
      },
      {
        "duration": 32,
        "start_time": "2021-10-09T15:22:49.517Z"
      },
      {
        "duration": 18,
        "start_time": "2021-10-09T15:22:49.551Z"
      },
      {
        "duration": 32,
        "start_time": "2021-10-09T15:22:49.571Z"
      },
      {
        "duration": 9,
        "start_time": "2021-10-09T15:22:49.605Z"
      },
      {
        "duration": 33,
        "start_time": "2021-10-09T15:22:49.618Z"
      },
      {
        "duration": 21,
        "start_time": "2021-10-09T15:22:49.653Z"
      },
      {
        "duration": 33,
        "start_time": "2021-10-09T15:22:49.676Z"
      },
      {
        "duration": 17,
        "start_time": "2021-10-09T15:22:49.712Z"
      },
      {
        "duration": 29,
        "start_time": "2021-10-09T15:22:49.732Z"
      },
      {
        "duration": 9,
        "start_time": "2021-10-09T15:22:49.763Z"
      },
      {
        "duration": 85,
        "start_time": "2021-10-09T15:22:49.773Z"
      },
      {
        "duration": 462,
        "start_time": "2021-10-09T15:22:49.860Z"
      },
      {
        "duration": 219,
        "start_time": "2021-10-09T15:22:50.323Z"
      },
      {
        "duration": 58,
        "start_time": "2021-10-09T15:22:50.544Z"
      },
      {
        "duration": 6,
        "start_time": "2021-10-09T15:22:50.605Z"
      },
      {
        "duration": 13,
        "start_time": "2021-10-09T15:22:50.614Z"
      },
      {
        "duration": 30,
        "start_time": "2021-10-09T15:22:50.629Z"
      },
      {
        "duration": 76,
        "start_time": "2021-10-09T15:22:50.661Z"
      },
      {
        "duration": 4,
        "start_time": "2021-10-09T15:22:50.739Z"
      },
      {
        "duration": 319,
        "start_time": "2021-10-09T15:22:50.745Z"
      },
      {
        "duration": 36,
        "start_time": "2021-10-09T15:22:51.066Z"
      },
      {
        "duration": 38,
        "start_time": "2021-10-09T15:22:51.104Z"
      },
      {
        "duration": 4,
        "start_time": "2021-10-09T15:22:51.144Z"
      },
      {
        "duration": 15,
        "start_time": "2021-10-09T15:22:51.150Z"
      },
      {
        "duration": 135,
        "start_time": "2021-10-09T15:22:51.167Z"
      },
      {
        "duration": 37,
        "start_time": "2021-10-09T15:22:51.305Z"
      },
      {
        "duration": 698,
        "start_time": "2021-10-09T15:22:51.344Z"
      },
      {
        "duration": 14,
        "start_time": "2021-10-09T15:22:52.044Z"
      },
      {
        "duration": 46,
        "start_time": "2021-10-09T15:22:52.060Z"
      },
      {
        "duration": 358,
        "start_time": "2021-10-09T15:22:52.109Z"
      },
      {
        "duration": 14,
        "start_time": "2021-10-09T15:22:52.469Z"
      },
      {
        "duration": 51,
        "start_time": "2021-10-09T15:22:52.485Z"
      },
      {
        "duration": 14,
        "start_time": "2021-10-09T15:22:52.538Z"
      },
      {
        "duration": 22,
        "start_time": "2021-10-09T15:22:52.554Z"
      },
      {
        "duration": 691,
        "start_time": "2021-10-09T15:22:52.578Z"
      },
      {
        "duration": 109,
        "start_time": "2021-10-09T15:22:53.270Z"
      },
      {
        "duration": 22,
        "start_time": "2021-10-09T15:22:53.381Z"
      },
      {
        "duration": 65,
        "start_time": "2021-10-09T15:22:53.407Z"
      },
      {
        "duration": 47,
        "start_time": "2021-10-09T15:22:53.474Z"
      },
      {
        "duration": 23,
        "start_time": "2021-10-09T15:22:53.524Z"
      },
      {
        "duration": 892,
        "start_time": "2021-10-09T15:22:53.548Z"
      },
      {
        "duration": 723,
        "start_time": "2021-10-09T15:22:54.441Z"
      },
      {
        "duration": 87,
        "start_time": "2021-10-09T15:22:55.166Z"
      },
      {
        "duration": 5,
        "start_time": "2021-10-09T15:22:55.255Z"
      },
      {
        "duration": 484876,
        "start_time": "2021-10-09T15:22:55.263Z"
      },
      {
        "duration": 4,
        "start_time": "2021-10-09T15:31:00.141Z"
      },
      {
        "duration": 55842,
        "start_time": "2021-10-09T15:31:00.147Z"
      },
      {
        "duration": 2,
        "start_time": "2021-10-09T15:31:55.991Z"
      },
      {
        "duration": 11,
        "start_time": "2021-10-09T15:31:55.994Z"
      },
      {
        "duration": 6,
        "start_time": "2021-10-09T15:31:56.008Z"
      },
      {
        "duration": 4,
        "start_time": "2021-10-09T15:31:56.016Z"
      },
      {
        "duration": 334,
        "start_time": "2021-10-09T15:31:56.022Z"
      },
      {
        "duration": 904211,
        "start_time": "2021-10-09T15:31:56.357Z"
      },
      {
        "duration": 230702,
        "start_time": "2021-10-09T15:47:00.573Z"
      },
      {
        "duration": 1651,
        "start_time": "2021-10-09T15:50:51.276Z"
      },
      {
        "duration": 695,
        "start_time": "2021-10-09T15:50:52.929Z"
      },
      {
        "duration": 5051,
        "start_time": "2021-10-09T15:50:53.626Z"
      },
      {
        "duration": 2,
        "start_time": "2021-10-09T15:50:58.679Z"
      },
      {
        "duration": 47,
        "start_time": "2021-10-09T15:50:58.682Z"
      },
      {
        "duration": -14,
        "start_time": "2021-10-09T15:50:58.745Z"
      },
      {
        "duration": -27,
        "start_time": "2021-10-09T15:50:58.759Z"
      },
      {
        "duration": -31,
        "start_time": "2021-10-09T15:50:58.764Z"
      },
      {
        "duration": 202974,
        "start_time": "2021-10-09T15:51:24.171Z"
      },
      {
        "duration": 2,
        "start_time": "2021-10-09T15:54:47.148Z"
      },
      {
        "duration": -9,
        "start_time": "2021-10-09T15:55:54.577Z"
      },
      {
        "duration": -20,
        "start_time": "2021-10-09T15:55:54.589Z"
      },
      {
        "duration": -29,
        "start_time": "2021-10-09T15:55:54.599Z"
      },
      {
        "duration": -38,
        "start_time": "2021-10-09T15:55:54.609Z"
      },
      {
        "duration": 169396,
        "start_time": "2021-10-09T15:56:01.828Z"
      },
      {
        "duration": 3,
        "start_time": "2021-10-09T15:58:51.226Z"
      },
      {
        "duration": 104894,
        "start_time": "2021-10-09T15:58:51.231Z"
      },
      {
        "duration": -16,
        "start_time": "2021-10-09T16:02:31.347Z"
      },
      {
        "duration": -24,
        "start_time": "2021-10-09T16:02:31.356Z"
      },
      {
        "duration": -32,
        "start_time": "2021-10-09T16:02:31.365Z"
      },
      {
        "duration": 6,
        "start_time": "2021-10-09T16:02:36.298Z"
      },
      {
        "duration": 119403,
        "start_time": "2021-10-09T16:02:36.307Z"
      },
      {
        "duration": 86057,
        "start_time": "2021-10-09T16:04:35.713Z"
      },
      {
        "duration": 54,
        "start_time": "2021-10-09T16:06:56.790Z"
      },
      {
        "duration": 66,
        "start_time": "2021-10-09T16:07:09.837Z"
      },
      {
        "duration": 24460,
        "start_time": "2021-10-09T16:07:15.629Z"
      },
      {
        "duration": 105141,
        "start_time": "2021-10-09T16:07:44.646Z"
      },
      {
        "duration": 83763,
        "start_time": "2021-10-09T16:10:52.357Z"
      },
      {
        "duration": 1666,
        "start_time": "2021-10-10T09:15:36.746Z"
      },
      {
        "duration": 1085,
        "start_time": "2021-10-10T09:15:38.415Z"
      },
      {
        "duration": 25,
        "start_time": "2021-10-10T09:15:39.503Z"
      },
      {
        "duration": 170,
        "start_time": "2021-10-10T09:15:39.530Z"
      },
      {
        "duration": 174,
        "start_time": "2021-10-10T09:15:39.703Z"
      },
      {
        "duration": 176,
        "start_time": "2021-10-10T09:15:39.880Z"
      },
      {
        "duration": 36,
        "start_time": "2021-10-10T09:15:40.062Z"
      },
      {
        "duration": 176,
        "start_time": "2021-10-10T09:15:40.104Z"
      },
      {
        "duration": 156,
        "start_time": "2021-10-10T09:15:40.283Z"
      },
      {
        "duration": 4,
        "start_time": "2021-10-10T09:15:40.441Z"
      },
      {
        "duration": 56,
        "start_time": "2021-10-10T09:15:40.448Z"
      },
      {
        "duration": 62,
        "start_time": "2021-10-10T09:15:40.506Z"
      },
      {
        "duration": 24,
        "start_time": "2021-10-10T09:15:40.570Z"
      },
      {
        "duration": 44,
        "start_time": "2021-10-10T09:15:40.597Z"
      },
      {
        "duration": 26,
        "start_time": "2021-10-10T09:15:40.662Z"
      },
      {
        "duration": 18,
        "start_time": "2021-10-10T09:15:40.690Z"
      },
      {
        "duration": 12,
        "start_time": "2021-10-10T09:15:40.710Z"
      },
      {
        "duration": 77,
        "start_time": "2021-10-10T09:15:40.724Z"
      },
      {
        "duration": 29,
        "start_time": "2021-10-10T09:15:40.803Z"
      },
      {
        "duration": 31,
        "start_time": "2021-10-10T09:15:40.834Z"
      },
      {
        "duration": 22,
        "start_time": "2021-10-10T09:15:40.867Z"
      },
      {
        "duration": 46,
        "start_time": "2021-10-10T09:15:40.892Z"
      },
      {
        "duration": 13,
        "start_time": "2021-10-10T09:15:40.961Z"
      },
      {
        "duration": 99,
        "start_time": "2021-10-10T09:15:40.978Z"
      },
      {
        "duration": 675,
        "start_time": "2021-10-10T09:15:41.079Z"
      },
      {
        "duration": 362,
        "start_time": "2021-10-10T09:15:41.756Z"
      },
      {
        "duration": 88,
        "start_time": "2021-10-10T09:15:42.120Z"
      },
      {
        "duration": 5,
        "start_time": "2021-10-10T09:15:42.210Z"
      },
      {
        "duration": 17,
        "start_time": "2021-10-10T09:15:42.217Z"
      },
      {
        "duration": 68,
        "start_time": "2021-10-10T09:15:42.236Z"
      },
      {
        "duration": 88,
        "start_time": "2021-10-10T09:15:42.306Z"
      },
      {
        "duration": 5,
        "start_time": "2021-10-10T09:15:42.396Z"
      },
      {
        "duration": 524,
        "start_time": "2021-10-10T09:15:42.403Z"
      },
      {
        "duration": 52,
        "start_time": "2021-10-10T09:15:42.930Z"
      },
      {
        "duration": 78,
        "start_time": "2021-10-10T09:15:42.984Z"
      },
      {
        "duration": 6,
        "start_time": "2021-10-10T09:15:43.064Z"
      },
      {
        "duration": 21,
        "start_time": "2021-10-10T09:15:43.072Z"
      },
      {
        "duration": 137,
        "start_time": "2021-10-10T09:15:43.095Z"
      },
      {
        "duration": 53,
        "start_time": "2021-10-10T09:15:43.234Z"
      },
      {
        "duration": 1116,
        "start_time": "2021-10-10T09:15:43.290Z"
      },
      {
        "duration": 20,
        "start_time": "2021-10-10T09:15:44.408Z"
      },
      {
        "duration": 74,
        "start_time": "2021-10-10T09:15:44.430Z"
      },
      {
        "duration": 621,
        "start_time": "2021-10-10T09:15:44.506Z"
      },
      {
        "duration": 20,
        "start_time": "2021-10-10T09:15:45.129Z"
      },
      {
        "duration": 70,
        "start_time": "2021-10-10T09:15:45.152Z"
      },
      {
        "duration": 28,
        "start_time": "2021-10-10T09:15:45.224Z"
      },
      {
        "duration": 44,
        "start_time": "2021-10-10T09:15:45.254Z"
      },
      {
        "duration": 1214,
        "start_time": "2021-10-10T09:15:45.301Z"
      },
      {
        "duration": 125,
        "start_time": "2021-10-10T09:15:46.517Z"
      },
      {
        "duration": 27,
        "start_time": "2021-10-10T09:15:46.644Z"
      },
      {
        "duration": 92,
        "start_time": "2021-10-10T09:15:46.674Z"
      },
      {
        "duration": 32,
        "start_time": "2021-10-10T09:15:46.768Z"
      },
      {
        "duration": 80,
        "start_time": "2021-10-10T09:15:46.802Z"
      },
      {
        "duration": 1528,
        "start_time": "2021-10-10T09:15:46.884Z"
      },
      {
        "duration": 1120,
        "start_time": "2021-10-10T09:15:48.415Z"
      },
      {
        "duration": 150,
        "start_time": "2021-10-10T09:15:49.538Z"
      },
      {
        "duration": 6,
        "start_time": "2021-10-10T09:15:49.690Z"
      },
      {
        "duration": 564636,
        "start_time": "2021-10-10T09:15:49.699Z"
      },
      {
        "duration": 24,
        "start_time": "2021-10-10T09:25:14.339Z"
      },
      {
        "duration": 63370,
        "start_time": "2021-10-10T09:25:14.366Z"
      },
      {
        "duration": 3,
        "start_time": "2021-10-10T09:26:17.738Z"
      },
      {
        "duration": 19,
        "start_time": "2021-10-10T09:26:17.743Z"
      },
      {
        "duration": 3,
        "start_time": "2021-10-10T09:26:17.765Z"
      },
      {
        "duration": 6,
        "start_time": "2021-10-10T09:26:17.770Z"
      },
      {
        "duration": 506,
        "start_time": "2021-10-10T09:26:17.779Z"
      },
      {
        "duration": 1272197,
        "start_time": "2021-10-10T09:26:18.287Z"
      },
      {
        "duration": 303053,
        "start_time": "2021-10-10T09:47:30.486Z"
      },
      {
        "duration": 1732,
        "start_time": "2021-10-10T09:52:33.546Z"
      },
      {
        "duration": 703,
        "start_time": "2021-10-10T09:52:35.281Z"
      },
      {
        "duration": 7570,
        "start_time": "2021-10-10T09:52:35.987Z"
      },
      {
        "duration": 191652,
        "start_time": "2021-10-10T09:52:43.559Z"
      },
      {
        "duration": 3,
        "start_time": "2021-10-10T09:55:55.214Z"
      },
      {
        "duration": 48704,
        "start_time": "2021-10-10T09:55:55.262Z"
      },
      {
        "duration": 28326,
        "start_time": "2021-10-10T09:56:43.969Z"
      },
      {
        "duration": 734,
        "start_time": "2021-10-10T09:57:12.362Z"
      },
      {
        "duration": 6390,
        "start_time": "2021-10-10T09:59:52.988Z"
      },
      {
        "duration": 6170,
        "start_time": "2021-10-10T10:00:11.156Z"
      },
      {
        "duration": 1598,
        "start_time": "2021-10-10T17:39:14.088Z"
      },
      {
        "duration": 1207,
        "start_time": "2021-10-10T17:39:15.689Z"
      },
      {
        "duration": 26,
        "start_time": "2021-10-10T17:39:16.901Z"
      },
      {
        "duration": 171,
        "start_time": "2021-10-10T17:39:16.930Z"
      },
      {
        "duration": 177,
        "start_time": "2021-10-10T17:39:17.104Z"
      },
      {
        "duration": 189,
        "start_time": "2021-10-10T17:39:17.283Z"
      },
      {
        "duration": 43,
        "start_time": "2021-10-10T17:39:17.474Z"
      },
      {
        "duration": 166,
        "start_time": "2021-10-10T17:39:17.521Z"
      },
      {
        "duration": 165,
        "start_time": "2021-10-10T17:39:17.690Z"
      },
      {
        "duration": 4,
        "start_time": "2021-10-10T17:39:17.857Z"
      },
      {
        "duration": 71,
        "start_time": "2021-10-10T17:39:17.864Z"
      },
      {
        "duration": 43,
        "start_time": "2021-10-10T17:39:17.938Z"
      },
      {
        "duration": 37,
        "start_time": "2021-10-10T17:39:17.983Z"
      },
      {
        "duration": 45,
        "start_time": "2021-10-10T17:39:18.022Z"
      },
      {
        "duration": 49,
        "start_time": "2021-10-10T17:39:18.070Z"
      },
      {
        "duration": 18,
        "start_time": "2021-10-10T17:39:18.121Z"
      },
      {
        "duration": 15,
        "start_time": "2021-10-10T17:39:18.141Z"
      },
      {
        "duration": 67,
        "start_time": "2021-10-10T17:39:18.158Z"
      },
      {
        "duration": 30,
        "start_time": "2021-10-10T17:39:18.227Z"
      },
      {
        "duration": 16,
        "start_time": "2021-10-10T17:39:18.259Z"
      },
      {
        "duration": 39,
        "start_time": "2021-10-10T17:39:18.277Z"
      },
      {
        "duration": 47,
        "start_time": "2021-10-10T17:39:18.318Z"
      },
      {
        "duration": 31,
        "start_time": "2021-10-10T17:39:18.372Z"
      },
      {
        "duration": 99,
        "start_time": "2021-10-10T17:39:18.406Z"
      },
      {
        "duration": 774,
        "start_time": "2021-10-10T17:39:18.507Z"
      },
      {
        "duration": 352,
        "start_time": "2021-10-10T17:39:19.283Z"
      },
      {
        "duration": 91,
        "start_time": "2021-10-10T17:39:19.638Z"
      },
      {
        "duration": 5,
        "start_time": "2021-10-10T17:39:19.732Z"
      },
      {
        "duration": 17,
        "start_time": "2021-10-10T17:39:19.739Z"
      },
      {
        "duration": 63,
        "start_time": "2021-10-10T17:39:19.758Z"
      },
      {
        "duration": 88,
        "start_time": "2021-10-10T17:39:19.824Z"
      },
      {
        "duration": 5,
        "start_time": "2021-10-10T17:39:19.914Z"
      },
      {
        "duration": 500,
        "start_time": "2021-10-10T17:39:19.921Z"
      },
      {
        "duration": 35,
        "start_time": "2021-10-10T17:39:20.424Z"
      },
      {
        "duration": 82,
        "start_time": "2021-10-10T17:39:20.461Z"
      },
      {
        "duration": 5,
        "start_time": "2021-10-10T17:39:20.545Z"
      },
      {
        "duration": 28,
        "start_time": "2021-10-10T17:39:20.552Z"
      },
      {
        "duration": 143,
        "start_time": "2021-10-10T17:39:20.582Z"
      },
      {
        "duration": 43,
        "start_time": "2021-10-10T17:39:20.727Z"
      },
      {
        "duration": 1208,
        "start_time": "2021-10-10T17:39:20.772Z"
      },
      {
        "duration": 28,
        "start_time": "2021-10-10T17:39:21.983Z"
      },
      {
        "duration": 45,
        "start_time": "2021-10-10T17:39:22.013Z"
      },
      {
        "duration": 588,
        "start_time": "2021-10-10T17:39:22.061Z"
      },
      {
        "duration": 20,
        "start_time": "2021-10-10T17:39:22.652Z"
      },
      {
        "duration": 59,
        "start_time": "2021-10-10T17:39:22.674Z"
      },
      {
        "duration": 29,
        "start_time": "2021-10-10T17:39:22.736Z"
      },
      {
        "duration": 54,
        "start_time": "2021-10-10T17:39:22.768Z"
      },
      {
        "duration": 1301,
        "start_time": "2021-10-10T17:39:22.824Z"
      },
      {
        "duration": 138,
        "start_time": "2021-10-10T17:39:24.128Z"
      },
      {
        "duration": 39,
        "start_time": "2021-10-10T17:39:24.268Z"
      },
      {
        "duration": 93,
        "start_time": "2021-10-10T17:39:24.310Z"
      },
      {
        "duration": 30,
        "start_time": "2021-10-10T17:39:24.406Z"
      },
      {
        "duration": 44,
        "start_time": "2021-10-10T17:39:24.438Z"
      },
      {
        "duration": 1422,
        "start_time": "2021-10-10T17:39:24.500Z"
      },
      {
        "duration": 1092,
        "start_time": "2021-10-10T17:39:25.924Z"
      },
      {
        "duration": 156,
        "start_time": "2021-10-10T17:39:27.018Z"
      },
      {
        "duration": 8,
        "start_time": "2021-10-10T17:39:27.176Z"
      },
      {
        "duration": 608389,
        "start_time": "2021-10-10T17:39:27.186Z"
      },
      {
        "duration": 6,
        "start_time": "2021-10-10T17:49:35.577Z"
      },
      {
        "duration": 65841,
        "start_time": "2021-10-10T17:49:35.601Z"
      },
      {
        "duration": 3,
        "start_time": "2021-10-10T17:50:41.444Z"
      },
      {
        "duration": 6,
        "start_time": "2021-10-10T17:50:41.449Z"
      },
      {
        "duration": 5,
        "start_time": "2021-10-10T17:50:41.458Z"
      },
      {
        "duration": 464,
        "start_time": "2021-10-10T17:50:41.465Z"
      },
      {
        "duration": 1352978,
        "start_time": "2021-10-10T17:50:41.932Z"
      },
      {
        "duration": 316797,
        "start_time": "2021-10-10T18:13:14.913Z"
      },
      {
        "duration": 2000,
        "start_time": "2021-10-10T18:18:31.713Z"
      },
      {
        "duration": 787,
        "start_time": "2021-10-10T18:18:33.720Z"
      },
      {
        "duration": 64194,
        "start_time": "2021-10-10T18:18:34.509Z"
      },
      {
        "duration": 4,
        "start_time": "2021-10-10T18:19:38.705Z"
      },
      {
        "duration": 35598,
        "start_time": "2021-10-10T18:19:38.712Z"
      },
      {
        "duration": 31320,
        "start_time": "2021-10-10T18:20:14.312Z"
      },
      {
        "duration": 422,
        "start_time": "2021-10-10T18:20:45.635Z"
      },
      {
        "duration": 7362,
        "start_time": "2021-10-10T18:20:46.059Z"
      },
      {
        "duration": 6554,
        "start_time": "2021-10-10T18:20:53.423Z"
      },
      {
        "duration": 975,
        "start_time": "2021-10-10T18:20:59.979Z"
      },
      {
        "duration": 7,
        "start_time": "2021-10-10T18:21:15.427Z"
      },
      {
        "duration": 28,
        "start_time": "2021-10-10T18:21:29.398Z"
      },
      {
        "duration": 24,
        "start_time": "2021-10-10T18:21:37.285Z"
      },
      {
        "duration": 14,
        "start_time": "2021-10-10T18:22:36.070Z"
      },
      {
        "duration": 6633,
        "start_time": "2021-10-10T18:30:13.144Z"
      },
      {
        "duration": 6985,
        "start_time": "2021-10-10T18:30:30.958Z"
      },
      {
        "duration": 7489,
        "start_time": "2021-10-10T18:34:56.769Z"
      },
      {
        "duration": 6961,
        "start_time": "2021-10-10T18:35:12.439Z"
      },
      {
        "duration": 7196,
        "start_time": "2021-10-10T18:35:28.442Z"
      },
      {
        "duration": 7173,
        "start_time": "2021-10-10T18:35:35.641Z"
      },
      {
        "duration": 1599,
        "start_time": "2021-10-10T18:46:23.752Z"
      },
      {
        "duration": 1109,
        "start_time": "2021-10-10T18:46:25.354Z"
      },
      {
        "duration": 35,
        "start_time": "2021-10-10T18:46:26.466Z"
      },
      {
        "duration": 180,
        "start_time": "2021-10-10T18:46:26.504Z"
      },
      {
        "duration": 208,
        "start_time": "2021-10-10T18:46:26.686Z"
      },
      {
        "duration": 197,
        "start_time": "2021-10-10T18:46:26.903Z"
      },
      {
        "duration": 37,
        "start_time": "2021-10-10T18:46:27.104Z"
      },
      {
        "duration": 176,
        "start_time": "2021-10-10T18:46:27.144Z"
      },
      {
        "duration": 170,
        "start_time": "2021-10-10T18:46:27.324Z"
      },
      {
        "duration": 6,
        "start_time": "2021-10-10T18:46:27.496Z"
      },
      {
        "duration": 54,
        "start_time": "2021-10-10T18:46:27.504Z"
      },
      {
        "duration": 66,
        "start_time": "2021-10-10T18:46:27.561Z"
      },
      {
        "duration": 22,
        "start_time": "2021-10-10T18:46:27.630Z"
      },
      {
        "duration": 63,
        "start_time": "2021-10-10T18:46:27.655Z"
      },
      {
        "duration": 29,
        "start_time": "2021-10-10T18:46:27.720Z"
      },
      {
        "duration": 18,
        "start_time": "2021-10-10T18:46:27.751Z"
      },
      {
        "duration": 36,
        "start_time": "2021-10-10T18:46:27.771Z"
      },
      {
        "duration": 49,
        "start_time": "2021-10-10T18:46:27.809Z"
      },
      {
        "duration": 44,
        "start_time": "2021-10-10T18:46:27.860Z"
      },
      {
        "duration": 17,
        "start_time": "2021-10-10T18:46:27.906Z"
      },
      {
        "duration": 23,
        "start_time": "2021-10-10T18:46:27.925Z"
      },
      {
        "duration": 73,
        "start_time": "2021-10-10T18:46:27.951Z"
      },
      {
        "duration": 15,
        "start_time": "2021-10-10T18:46:28.033Z"
      },
      {
        "duration": 115,
        "start_time": "2021-10-10T18:46:28.053Z"
      },
      {
        "duration": 674,
        "start_time": "2021-10-10T18:46:28.170Z"
      },
      {
        "duration": 346,
        "start_time": "2021-10-10T18:46:28.847Z"
      },
      {
        "duration": 84,
        "start_time": "2021-10-10T18:46:29.195Z"
      },
      {
        "duration": 5,
        "start_time": "2021-10-10T18:46:29.281Z"
      },
      {
        "duration": 12,
        "start_time": "2021-10-10T18:46:29.301Z"
      },
      {
        "duration": 39,
        "start_time": "2021-10-10T18:46:29.316Z"
      },
      {
        "duration": 105,
        "start_time": "2021-10-10T18:46:29.358Z"
      },
      {
        "duration": 5,
        "start_time": "2021-10-10T18:46:29.466Z"
      },
      {
        "duration": 515,
        "start_time": "2021-10-10T18:46:29.473Z"
      },
      {
        "duration": 44,
        "start_time": "2021-10-10T18:46:29.991Z"
      },
      {
        "duration": 86,
        "start_time": "2021-10-10T18:46:30.037Z"
      },
      {
        "duration": 4,
        "start_time": "2021-10-10T18:46:30.126Z"
      },
      {
        "duration": 27,
        "start_time": "2021-10-10T18:46:30.133Z"
      },
      {
        "duration": 141,
        "start_time": "2021-10-10T18:46:30.162Z"
      },
      {
        "duration": 44,
        "start_time": "2021-10-10T18:46:30.306Z"
      },
      {
        "duration": 1170,
        "start_time": "2021-10-10T18:46:30.352Z"
      },
      {
        "duration": 19,
        "start_time": "2021-10-10T18:46:31.524Z"
      },
      {
        "duration": 59,
        "start_time": "2021-10-10T18:46:31.546Z"
      },
      {
        "duration": 586,
        "start_time": "2021-10-10T18:46:31.608Z"
      },
      {
        "duration": 19,
        "start_time": "2021-10-10T18:46:32.200Z"
      },
      {
        "duration": 51,
        "start_time": "2021-10-10T18:46:32.222Z"
      },
      {
        "duration": 33,
        "start_time": "2021-10-10T18:46:32.276Z"
      },
      {
        "duration": 46,
        "start_time": "2021-10-10T18:46:32.312Z"
      },
      {
        "duration": 1101,
        "start_time": "2021-10-10T18:46:32.360Z"
      },
      {
        "duration": 152,
        "start_time": "2021-10-10T18:46:33.464Z"
      },
      {
        "duration": 31,
        "start_time": "2021-10-10T18:46:33.619Z"
      },
      {
        "duration": 116,
        "start_time": "2021-10-10T18:46:33.653Z"
      },
      {
        "duration": 44,
        "start_time": "2021-10-10T18:46:33.772Z"
      },
      {
        "duration": 40,
        "start_time": "2021-10-10T18:46:33.818Z"
      },
      {
        "duration": 1349,
        "start_time": "2021-10-10T18:46:33.860Z"
      },
      {
        "duration": 1089,
        "start_time": "2021-10-10T18:46:35.211Z"
      },
      {
        "duration": 148,
        "start_time": "2021-10-10T18:46:36.303Z"
      },
      {
        "duration": 7,
        "start_time": "2021-10-10T18:46:36.453Z"
      },
      {
        "duration": 578057,
        "start_time": "2021-10-10T18:46:36.462Z"
      },
      {
        "duration": 8,
        "start_time": "2021-10-10T18:56:14.521Z"
      },
      {
        "duration": 64516,
        "start_time": "2021-10-10T18:56:14.531Z"
      },
      {
        "duration": 2,
        "start_time": "2021-10-10T18:57:19.050Z"
      },
      {
        "duration": 5,
        "start_time": "2021-10-10T18:57:19.055Z"
      },
      {
        "duration": 7,
        "start_time": "2021-10-10T18:57:19.063Z"
      },
      {
        "duration": 530,
        "start_time": "2021-10-10T18:57:19.072Z"
      },
      {
        "duration": 1364358,
        "start_time": "2021-10-10T18:57:19.605Z"
      },
      {
        "duration": 320335,
        "start_time": "2021-10-10T19:20:03.966Z"
      },
      {
        "duration": 1919,
        "start_time": "2021-10-10T19:25:24.303Z"
      },
      {
        "duration": 789,
        "start_time": "2021-10-10T19:25:26.229Z"
      },
      {
        "duration": 69998,
        "start_time": "2021-10-10T19:25:27.021Z"
      },
      {
        "duration": 4,
        "start_time": "2021-10-10T19:26:37.021Z"
      },
      {
        "duration": 34373,
        "start_time": "2021-10-10T19:26:37.027Z"
      },
      {
        "duration": 31008,
        "start_time": "2021-10-10T19:27:11.404Z"
      },
      {
        "duration": 7341,
        "start_time": "2021-10-10T19:27:42.415Z"
      },
      {
        "duration": 7332,
        "start_time": "2021-10-10T19:27:49.758Z"
      },
      {
        "duration": 17,
        "start_time": "2021-10-10T19:27:57.093Z"
      },
      {
        "duration": 1289,
        "start_time": "2021-10-11T13:06:28.783Z"
      },
      {
        "duration": 842,
        "start_time": "2021-10-11T13:06:30.074Z"
      },
      {
        "duration": 27,
        "start_time": "2021-10-11T13:06:30.918Z"
      },
      {
        "duration": 134,
        "start_time": "2021-10-11T13:06:30.947Z"
      },
      {
        "duration": 133,
        "start_time": "2021-10-11T13:06:31.082Z"
      },
      {
        "duration": 145,
        "start_time": "2021-10-11T13:06:31.217Z"
      },
      {
        "duration": 24,
        "start_time": "2021-10-11T13:06:31.364Z"
      },
      {
        "duration": 133,
        "start_time": "2021-10-11T13:06:31.390Z"
      },
      {
        "duration": 118,
        "start_time": "2021-10-11T13:06:31.526Z"
      },
      {
        "duration": 12,
        "start_time": "2021-10-11T13:06:31.647Z"
      },
      {
        "duration": 50,
        "start_time": "2021-10-11T13:06:31.661Z"
      },
      {
        "duration": 62,
        "start_time": "2021-10-11T13:06:31.713Z"
      },
      {
        "duration": 24,
        "start_time": "2021-10-11T13:06:31.777Z"
      },
      {
        "duration": 69,
        "start_time": "2021-10-11T13:06:31.802Z"
      },
      {
        "duration": 43,
        "start_time": "2021-10-11T13:06:31.873Z"
      },
      {
        "duration": 17,
        "start_time": "2021-10-11T13:06:31.918Z"
      },
      {
        "duration": 29,
        "start_time": "2021-10-11T13:06:31.936Z"
      },
      {
        "duration": 51,
        "start_time": "2021-10-11T13:06:31.967Z"
      },
      {
        "duration": 29,
        "start_time": "2021-10-11T13:06:32.020Z"
      },
      {
        "duration": 28,
        "start_time": "2021-10-11T13:06:32.050Z"
      },
      {
        "duration": 25,
        "start_time": "2021-10-11T13:06:32.080Z"
      },
      {
        "duration": 44,
        "start_time": "2021-10-11T13:06:32.107Z"
      },
      {
        "duration": 14,
        "start_time": "2021-10-11T13:06:32.153Z"
      },
      {
        "duration": 93,
        "start_time": "2021-10-11T13:06:32.169Z"
      },
      {
        "duration": 392,
        "start_time": "2021-10-11T13:06:32.264Z"
      },
      {
        "duration": 228,
        "start_time": "2021-10-11T13:06:32.657Z"
      },
      {
        "duration": 63,
        "start_time": "2021-10-11T13:06:32.889Z"
      },
      {
        "duration": 3,
        "start_time": "2021-10-11T13:06:32.954Z"
      },
      {
        "duration": 24,
        "start_time": "2021-10-11T13:06:32.959Z"
      },
      {
        "duration": 42,
        "start_time": "2021-10-11T13:06:32.985Z"
      },
      {
        "duration": 45,
        "start_time": "2021-10-11T13:06:33.028Z"
      },
      {
        "duration": 4,
        "start_time": "2021-10-11T13:06:33.075Z"
      },
      {
        "duration": 345,
        "start_time": "2021-10-11T13:06:33.080Z"
      },
      {
        "duration": 30,
        "start_time": "2021-10-11T13:06:33.426Z"
      },
      {
        "duration": 35,
        "start_time": "2021-10-11T13:06:33.458Z"
      },
      {
        "duration": 3,
        "start_time": "2021-10-11T13:06:33.495Z"
      },
      {
        "duration": 32,
        "start_time": "2021-10-11T13:06:33.499Z"
      },
      {
        "duration": 100,
        "start_time": "2021-10-11T13:06:33.533Z"
      },
      {
        "duration": 42,
        "start_time": "2021-10-11T13:06:33.635Z"
      },
      {
        "duration": 235,
        "start_time": "2021-10-11T13:06:33.679Z"
      },
      {
        "duration": 17,
        "start_time": "2021-10-11T13:06:33.916Z"
      },
      {
        "duration": 61,
        "start_time": "2021-10-11T13:06:33.944Z"
      },
      {
        "duration": 186,
        "start_time": "2021-10-11T13:06:34.007Z"
      },
      {
        "duration": 17,
        "start_time": "2021-10-11T13:06:34.195Z"
      },
      {
        "duration": 60,
        "start_time": "2021-10-11T13:06:34.213Z"
      },
      {
        "duration": 27,
        "start_time": "2021-10-11T13:06:34.275Z"
      },
      {
        "duration": 33,
        "start_time": "2021-10-11T13:06:34.304Z"
      },
      {
        "duration": 397,
        "start_time": "2021-10-11T13:06:34.338Z"
      },
      {
        "duration": 100,
        "start_time": "2021-10-11T13:06:34.737Z"
      },
      {
        "duration": 18,
        "start_time": "2021-10-11T13:06:34.845Z"
      },
      {
        "duration": 86,
        "start_time": "2021-10-11T13:06:34.865Z"
      },
      {
        "duration": 19,
        "start_time": "2021-10-11T13:06:34.952Z"
      },
      {
        "duration": 2095,
        "start_time": "2021-10-13T17:44:04.093Z"
      },
      {
        "duration": 780,
        "start_time": "2021-10-13T17:44:06.191Z"
      },
      {
        "duration": 16,
        "start_time": "2021-10-13T17:44:06.973Z"
      },
      {
        "duration": 130,
        "start_time": "2021-10-13T17:44:06.992Z"
      },
      {
        "duration": 133,
        "start_time": "2021-10-13T17:44:07.124Z"
      },
      {
        "duration": 126,
        "start_time": "2021-10-13T17:44:07.259Z"
      },
      {
        "duration": 31,
        "start_time": "2021-10-13T17:44:07.387Z"
      },
      {
        "duration": 132,
        "start_time": "2021-10-13T17:44:07.420Z"
      },
      {
        "duration": 114,
        "start_time": "2021-10-13T17:44:07.555Z"
      },
      {
        "duration": 7,
        "start_time": "2021-10-13T17:44:07.671Z"
      },
      {
        "duration": 39,
        "start_time": "2021-10-13T17:44:07.680Z"
      },
      {
        "duration": 50,
        "start_time": "2021-10-13T17:44:07.721Z"
      },
      {
        "duration": 19,
        "start_time": "2021-10-13T17:44:07.773Z"
      },
      {
        "duration": 33,
        "start_time": "2021-10-13T17:44:07.794Z"
      },
      {
        "duration": 30,
        "start_time": "2021-10-13T17:44:07.829Z"
      },
      {
        "duration": 22,
        "start_time": "2021-10-13T17:44:07.861Z"
      },
      {
        "duration": 12,
        "start_time": "2021-10-13T17:44:07.885Z"
      },
      {
        "duration": 61,
        "start_time": "2021-10-13T17:44:07.899Z"
      },
      {
        "duration": 38,
        "start_time": "2021-10-13T17:44:07.962Z"
      },
      {
        "duration": 21,
        "start_time": "2021-10-13T17:44:08.002Z"
      },
      {
        "duration": 34,
        "start_time": "2021-10-13T17:44:08.025Z"
      },
      {
        "duration": 36,
        "start_time": "2021-10-13T17:44:08.060Z"
      },
      {
        "duration": 11,
        "start_time": "2021-10-13T17:44:08.100Z"
      },
      {
        "duration": 71,
        "start_time": "2021-10-13T17:44:08.114Z"
      },
      {
        "duration": 397,
        "start_time": "2021-10-13T17:44:08.187Z"
      },
      {
        "duration": 224,
        "start_time": "2021-10-13T17:44:08.586Z"
      },
      {
        "duration": 60,
        "start_time": "2021-10-13T17:44:08.812Z"
      },
      {
        "duration": 4,
        "start_time": "2021-10-13T17:44:08.873Z"
      },
      {
        "duration": 10,
        "start_time": "2021-10-13T17:44:08.879Z"
      },
      {
        "duration": 24,
        "start_time": "2021-10-13T17:44:08.891Z"
      },
      {
        "duration": 64,
        "start_time": "2021-10-13T17:44:08.917Z"
      },
      {
        "duration": 4,
        "start_time": "2021-10-13T17:44:08.982Z"
      },
      {
        "duration": 313,
        "start_time": "2021-10-13T17:44:08.988Z"
      },
      {
        "duration": 22,
        "start_time": "2021-10-13T17:44:09.303Z"
      },
      {
        "duration": 48,
        "start_time": "2021-10-13T17:44:09.327Z"
      },
      {
        "duration": 3,
        "start_time": "2021-10-13T17:44:09.377Z"
      },
      {
        "duration": 17,
        "start_time": "2021-10-13T17:44:09.382Z"
      },
      {
        "duration": 104,
        "start_time": "2021-10-13T17:44:09.401Z"
      },
      {
        "duration": 43,
        "start_time": "2021-10-13T17:44:09.507Z"
      },
      {
        "duration": 680,
        "start_time": "2021-10-13T17:44:09.551Z"
      },
      {
        "duration": 24,
        "start_time": "2021-10-13T17:44:10.233Z"
      },
      {
        "duration": 44,
        "start_time": "2021-10-13T17:44:10.259Z"
      },
      {
        "duration": 361,
        "start_time": "2021-10-13T17:44:10.305Z"
      },
      {
        "duration": 16,
        "start_time": "2021-10-13T17:44:10.668Z"
      },
      {
        "duration": 49,
        "start_time": "2021-10-13T17:44:10.685Z"
      },
      {
        "duration": 23,
        "start_time": "2021-10-13T17:44:10.735Z"
      },
      {
        "duration": 35,
        "start_time": "2021-10-13T17:44:10.759Z"
      },
      {
        "duration": 643,
        "start_time": "2021-10-13T17:44:10.796Z"
      },
      {
        "duration": 103,
        "start_time": "2021-10-13T17:44:11.441Z"
      },
      {
        "duration": 19,
        "start_time": "2021-10-13T17:44:11.546Z"
      },
      {
        "duration": 80,
        "start_time": "2021-10-13T17:44:11.567Z"
      },
      {
        "duration": 19,
        "start_time": "2021-10-13T17:44:11.648Z"
      },
      {
        "duration": 28,
        "start_time": "2021-10-13T17:44:11.668Z"
      },
      {
        "duration": 6865,
        "start_time": "2021-10-13T17:44:11.698Z"
      },
      {
        "duration": 160,
        "start_time": "2021-10-13T17:44:18.404Z"
      },
      {
        "duration": 147,
        "start_time": "2021-10-13T17:44:18.418Z"
      },
      {
        "duration": 136,
        "start_time": "2021-10-13T17:44:18.430Z"
      },
      {
        "duration": 124,
        "start_time": "2021-10-13T17:44:18.443Z"
      },
      {
        "duration": 122,
        "start_time": "2021-10-13T17:44:18.446Z"
      },
      {
        "duration": 110,
        "start_time": "2021-10-13T17:44:18.459Z"
      },
      {
        "duration": 106,
        "start_time": "2021-10-13T17:44:18.464Z"
      },
      {
        "duration": 94,
        "start_time": "2021-10-13T17:44:18.476Z"
      },
      {
        "duration": 91,
        "start_time": "2021-10-13T17:44:18.480Z"
      },
      {
        "duration": 80,
        "start_time": "2021-10-13T17:44:18.492Z"
      },
      {
        "duration": 77,
        "start_time": "2021-10-13T17:44:18.496Z"
      },
      {
        "duration": 72,
        "start_time": "2021-10-13T17:44:18.502Z"
      },
      {
        "duration": 69,
        "start_time": "2021-10-13T17:44:18.506Z"
      },
      {
        "duration": 65,
        "start_time": "2021-10-13T17:44:18.510Z"
      },
      {
        "duration": 63,
        "start_time": "2021-10-13T17:44:18.513Z"
      },
      {
        "duration": 59,
        "start_time": "2021-10-13T17:44:18.518Z"
      },
      {
        "duration": 57,
        "start_time": "2021-10-13T17:44:18.521Z"
      },
      {
        "duration": 55,
        "start_time": "2021-10-13T17:44:18.525Z"
      },
      {
        "duration": 52,
        "start_time": "2021-10-13T17:44:18.529Z"
      },
      {
        "duration": 49,
        "start_time": "2021-10-13T17:44:18.533Z"
      },
      {
        "duration": 47,
        "start_time": "2021-10-13T17:44:18.536Z"
      },
      {
        "duration": 552,
        "start_time": "2021-10-13T17:50:27.584Z"
      },
      {
        "duration": 553,
        "start_time": "2021-10-13T17:50:50.146Z"
      },
      {
        "duration": 71,
        "start_time": "2021-10-13T17:52:20.531Z"
      },
      {
        "duration": 4222,
        "start_time": "2021-10-13T17:52:46.155Z"
      },
      {
        "duration": 1290,
        "start_time": "2021-10-13T17:53:44.726Z"
      },
      {
        "duration": 232,
        "start_time": "2021-10-13T17:58:18.765Z"
      },
      {
        "duration": 5,
        "start_time": "2021-10-13T17:58:28.820Z"
      },
      {
        "duration": 737,
        "start_time": "2021-10-13T17:58:29.157Z"
      },
      {
        "duration": 12,
        "start_time": "2021-10-13T17:58:29.896Z"
      },
      {
        "duration": 123,
        "start_time": "2021-10-13T17:58:29.910Z"
      },
      {
        "duration": 117,
        "start_time": "2021-10-13T17:58:30.035Z"
      },
      {
        "duration": 107,
        "start_time": "2021-10-13T17:58:30.332Z"
      },
      {
        "duration": 21,
        "start_time": "2021-10-13T17:58:30.503Z"
      },
      {
        "duration": 108,
        "start_time": "2021-10-13T17:58:30.661Z"
      },
      {
        "duration": 104,
        "start_time": "2021-10-13T17:58:30.833Z"
      },
      {
        "duration": 3,
        "start_time": "2021-10-13T17:58:30.992Z"
      },
      {
        "duration": 28,
        "start_time": "2021-10-13T17:58:31.469Z"
      },
      {
        "duration": 30,
        "start_time": "2021-10-13T17:58:31.980Z"
      },
      {
        "duration": 17,
        "start_time": "2021-10-13T17:58:32.300Z"
      },
      {
        "duration": 31,
        "start_time": "2021-10-13T17:58:32.828Z"
      },
      {
        "duration": 20,
        "start_time": "2021-10-13T17:58:33.348Z"
      },
      {
        "duration": 14,
        "start_time": "2021-10-13T17:58:33.516Z"
      },
      {
        "duration": 8,
        "start_time": "2021-10-13T17:58:33.693Z"
      },
      {
        "duration": 31,
        "start_time": "2021-10-13T17:58:33.868Z"
      },
      {
        "duration": 24,
        "start_time": "2021-10-13T17:58:34.035Z"
      },
      {
        "duration": 11,
        "start_time": "2021-10-13T17:58:34.212Z"
      },
      {
        "duration": 15,
        "start_time": "2021-10-13T17:58:34.766Z"
      },
      {
        "duration": 31,
        "start_time": "2021-10-13T17:58:34.951Z"
      },
      {
        "duration": 10,
        "start_time": "2021-10-13T17:58:35.492Z"
      },
      {
        "duration": 58,
        "start_time": "2021-10-13T17:58:35.876Z"
      },
      {
        "duration": 358,
        "start_time": "2021-10-13T17:58:36.252Z"
      },
      {
        "duration": 191,
        "start_time": "2021-10-13T17:58:36.627Z"
      },
      {
        "duration": 35,
        "start_time": "2021-10-13T17:58:37.052Z"
      },
      {
        "duration": 3,
        "start_time": "2021-10-13T17:58:37.402Z"
      },
      {
        "duration": 8,
        "start_time": "2021-10-13T17:58:38.106Z"
      },
      {
        "duration": 25,
        "start_time": "2021-10-13T17:58:38.539Z"
      },
      {
        "duration": 35,
        "start_time": "2021-10-13T17:58:39.276Z"
      },
      {
        "duration": 6,
        "start_time": "2021-10-13T17:58:39.749Z"
      },
      {
        "duration": 270,
        "start_time": "2021-10-13T17:58:39.997Z"
      },
      {
        "duration": 22,
        "start_time": "2021-10-13T17:58:40.344Z"
      },
      {
        "duration": 33,
        "start_time": "2021-10-13T17:58:40.524Z"
      },
      {
        "duration": 4,
        "start_time": "2021-10-13T17:58:40.908Z"
      },
      {
        "duration": 15,
        "start_time": "2021-10-13T17:58:41.276Z"
      },
      {
        "duration": 89,
        "start_time": "2021-10-13T17:58:41.615Z"
      },
      {
        "duration": 29,
        "start_time": "2021-10-13T17:58:42.148Z"
      },
      {
        "duration": 246,
        "start_time": "2021-10-13T17:58:42.340Z"
      },
      {
        "duration": 15,
        "start_time": "2021-10-13T17:58:42.748Z"
      },
      {
        "duration": 31,
        "start_time": "2021-10-13T17:58:43.140Z"
      },
      {
        "duration": 292,
        "start_time": "2021-10-13T17:58:43.324Z"
      },
      {
        "duration": 15,
        "start_time": "2021-10-13T17:58:43.617Z"
      },
      {
        "duration": 31,
        "start_time": "2021-10-13T17:58:43.892Z"
      },
      {
        "duration": 14,
        "start_time": "2021-10-13T17:58:44.324Z"
      },
      {
        "duration": 22,
        "start_time": "2021-10-13T17:58:45.444Z"
      },
      {
        "duration": 606,
        "start_time": "2021-10-13T17:58:46.285Z"
      },
      {
        "duration": 101,
        "start_time": "2021-10-13T17:58:46.893Z"
      },
      {
        "duration": 18,
        "start_time": "2021-10-13T17:58:47.198Z"
      },
      {
        "duration": 60,
        "start_time": "2021-10-13T17:58:48.101Z"
      },
      {
        "duration": 19,
        "start_time": "2021-10-13T17:58:48.333Z"
      },
      {
        "duration": 26,
        "start_time": "2021-10-13T17:58:49.972Z"
      },
      {
        "duration": 220,
        "start_time": "2021-10-13T17:58:50.188Z"
      },
      {
        "duration": 683,
        "start_time": "2021-10-13T17:59:25.062Z"
      },
      {
        "duration": 387,
        "start_time": "2021-10-13T17:59:41.689Z"
      },
      {
        "duration": 350,
        "start_time": "2021-10-13T18:00:48.700Z"
      },
      {
        "duration": 211,
        "start_time": "2021-10-13T18:01:46.199Z"
      },
      {
        "duration": 221,
        "start_time": "2021-10-13T18:01:52.029Z"
      },
      {
        "duration": 346,
        "start_time": "2021-10-13T18:02:07.878Z"
      },
      {
        "duration": 351,
        "start_time": "2021-10-13T18:02:40.750Z"
      },
      {
        "duration": 19,
        "start_time": "2021-10-13T18:02:46.295Z"
      },
      {
        "duration": 49,
        "start_time": "2021-10-13T18:02:58.229Z"
      },
      {
        "duration": 251,
        "start_time": "2021-10-13T18:03:04.992Z"
      },
      {
        "duration": 90,
        "start_time": "2021-10-13T18:03:44.599Z"
      },
      {
        "duration": 5,
        "start_time": "2021-10-13T18:03:45.688Z"
      },
      {
        "duration": 60104,
        "start_time": "2021-10-13T18:03:52.821Z"
      },
      {
        "duration": 5,
        "start_time": "2021-10-13T18:04:52.927Z"
      },
      {
        "duration": 6318,
        "start_time": "2021-10-13T18:04:52.945Z"
      },
      {
        "duration": 92,
        "start_time": "2021-10-13T18:04:59.264Z"
      },
      {
        "duration": 2,
        "start_time": "2021-10-13T18:05:21.670Z"
      },
      {
        "duration": 2,
        "start_time": "2021-10-13T18:05:22.327Z"
      },
      {
        "duration": 2,
        "start_time": "2021-10-13T18:05:24.558Z"
      },
      {
        "duration": 334,
        "start_time": "2021-10-13T18:06:16.167Z"
      },
      {
        "duration": 802704,
        "start_time": "2021-10-13T18:06:17.015Z"
      },
      {
        "duration": 203074,
        "start_time": "2021-10-13T18:19:39.721Z"
      },
      {
        "duration": 1331,
        "start_time": "2021-10-13T18:23:02.798Z"
      },
      {
        "duration": 421,
        "start_time": "2021-10-13T18:23:04.131Z"
      },
      {
        "duration": 201105,
        "start_time": "2021-10-13T18:23:04.553Z"
      },
      {
        "duration": 3,
        "start_time": "2021-10-13T18:26:25.660Z"
      },
      {
        "duration": 190390,
        "start_time": "2021-10-13T18:26:25.664Z"
      },
      {
        "duration": 610,
        "start_time": "2021-10-13T18:30:03.249Z"
      },
      {
        "duration": 9,
        "start_time": "2021-10-13T18:30:03.860Z"
      },
      {
        "duration": 34686,
        "start_time": "2021-10-13T18:30:03.872Z"
      },
      {
        "duration": 3,
        "start_time": "2021-10-13T18:30:38.559Z"
      },
      {
        "duration": 21182,
        "start_time": "2021-10-13T18:30:38.563Z"
      },
      {
        "duration": 4882,
        "start_time": "2021-10-13T18:30:59.747Z"
      },
      {
        "duration": 21461,
        "start_time": "2021-10-13T18:32:55.484Z"
      },
      {
        "duration": 1312,
        "start_time": "2021-10-13T18:33:16.947Z"
      },
      {
        "duration": 4830,
        "start_time": "2021-10-13T18:33:33.231Z"
      },
      {
        "duration": 360,
        "start_time": "2021-10-13T18:33:38.062Z"
      },
      {
        "duration": 255,
        "start_time": "2021-10-13T18:34:02.301Z"
      },
      {
        "duration": 443,
        "start_time": "2021-10-13T18:34:19.599Z"
      },
      {
        "duration": 59176,
        "start_time": "2021-10-13T18:34:33.575Z"
      },
      {
        "duration": 4,
        "start_time": "2021-10-13T18:35:32.752Z"
      },
      {
        "duration": 6404,
        "start_time": "2021-10-13T18:35:32.758Z"
      },
      {
        "duration": 98,
        "start_time": "2021-10-13T18:35:39.164Z"
      },
      {
        "duration": 1331,
        "start_time": "2021-10-13T18:36:14.333Z"
      },
      {
        "duration": 557,
        "start_time": "2021-10-13T18:36:15.666Z"
      },
      {
        "duration": 329,
        "start_time": "2021-10-13T18:36:26.235Z"
      },
      {
        "duration": 9,
        "start_time": "2021-10-13T18:36:31.776Z"
      },
      {
        "duration": 1194,
        "start_time": "2021-10-13T18:43:05.807Z"
      },
      {
        "duration": 733,
        "start_time": "2021-10-13T18:43:07.003Z"
      },
      {
        "duration": 21,
        "start_time": "2021-10-13T18:43:07.738Z"
      },
      {
        "duration": 118,
        "start_time": "2021-10-13T18:43:07.761Z"
      },
      {
        "duration": 127,
        "start_time": "2021-10-13T18:43:07.880Z"
      },
      {
        "duration": 118,
        "start_time": "2021-10-13T18:43:08.009Z"
      },
      {
        "duration": 28,
        "start_time": "2021-10-13T18:43:08.129Z"
      },
      {
        "duration": 120,
        "start_time": "2021-10-13T18:43:08.159Z"
      },
      {
        "duration": 112,
        "start_time": "2021-10-13T18:43:08.281Z"
      },
      {
        "duration": 3,
        "start_time": "2021-10-13T18:43:08.395Z"
      },
      {
        "duration": 35,
        "start_time": "2021-10-13T18:43:08.399Z"
      },
      {
        "duration": 29,
        "start_time": "2021-10-13T18:43:08.445Z"
      },
      {
        "duration": 18,
        "start_time": "2021-10-13T18:43:08.476Z"
      },
      {
        "duration": 32,
        "start_time": "2021-10-13T18:43:08.496Z"
      },
      {
        "duration": 31,
        "start_time": "2021-10-13T18:43:08.530Z"
      },
      {
        "duration": 12,
        "start_time": "2021-10-13T18:43:08.563Z"
      },
      {
        "duration": 8,
        "start_time": "2021-10-13T18:43:08.577Z"
      },
      {
        "duration": 39,
        "start_time": "2021-10-13T18:43:08.587Z"
      },
      {
        "duration": 33,
        "start_time": "2021-10-13T18:43:08.627Z"
      },
      {
        "duration": 12,
        "start_time": "2021-10-13T18:43:08.662Z"
      },
      {
        "duration": 18,
        "start_time": "2021-10-13T18:43:08.676Z"
      },
      {
        "duration": 31,
        "start_time": "2021-10-13T18:43:08.695Z"
      },
      {
        "duration": 23,
        "start_time": "2021-10-13T18:43:08.731Z"
      },
      {
        "duration": 57,
        "start_time": "2021-10-13T18:43:08.757Z"
      },
      {
        "duration": 398,
        "start_time": "2021-10-13T18:43:08.816Z"
      },
      {
        "duration": 198,
        "start_time": "2021-10-13T18:43:09.216Z"
      },
      {
        "duration": 60,
        "start_time": "2021-10-13T18:43:09.416Z"
      },
      {
        "duration": 4,
        "start_time": "2021-10-13T18:43:09.478Z"
      },
      {
        "duration": 14,
        "start_time": "2021-10-13T18:43:09.483Z"
      },
      {
        "duration": 23,
        "start_time": "2021-10-13T18:43:09.499Z"
      },
      {
        "duration": 56,
        "start_time": "2021-10-13T18:43:09.524Z"
      },
      {
        "duration": 3,
        "start_time": "2021-10-13T18:43:09.582Z"
      },
      {
        "duration": 277,
        "start_time": "2021-10-13T18:43:09.586Z"
      },
      {
        "duration": 21,
        "start_time": "2021-10-13T18:43:09.864Z"
      },
      {
        "duration": 34,
        "start_time": "2021-10-13T18:43:09.887Z"
      },
      {
        "duration": 23,
        "start_time": "2021-10-13T18:43:09.923Z"
      },
      {
        "duration": 20,
        "start_time": "2021-10-13T18:43:09.947Z"
      },
      {
        "duration": 97,
        "start_time": "2021-10-13T18:43:09.969Z"
      },
      {
        "duration": 29,
        "start_time": "2021-10-13T18:43:10.068Z"
      },
      {
        "duration": 269,
        "start_time": "2021-10-13T18:43:10.098Z"
      },
      {
        "duration": 14,
        "start_time": "2021-10-13T18:43:10.369Z"
      },
      {
        "duration": 38,
        "start_time": "2021-10-13T18:43:10.385Z"
      },
      {
        "duration": 190,
        "start_time": "2021-10-13T18:43:10.425Z"
      },
      {
        "duration": 15,
        "start_time": "2021-10-13T18:43:10.616Z"
      },
      {
        "duration": 36,
        "start_time": "2021-10-13T18:43:10.633Z"
      },
      {
        "duration": 18,
        "start_time": "2021-10-13T18:43:10.670Z"
      },
      {
        "duration": 25,
        "start_time": "2021-10-13T18:43:10.689Z"
      },
      {
        "duration": 610,
        "start_time": "2021-10-13T18:43:10.716Z"
      },
      {
        "duration": 96,
        "start_time": "2021-10-13T18:43:11.328Z"
      },
      {
        "duration": 28,
        "start_time": "2021-10-13T18:43:11.426Z"
      },
      {
        "duration": 62,
        "start_time": "2021-10-13T18:43:11.456Z"
      },
      {
        "duration": 25,
        "start_time": "2021-10-13T18:43:11.520Z"
      },
      {
        "duration": 38,
        "start_time": "2021-10-13T18:43:11.547Z"
      },
      {
        "duration": 390,
        "start_time": "2021-10-13T18:43:11.586Z"
      },
      {
        "duration": 18,
        "start_time": "2021-10-13T18:43:11.978Z"
      },
      {
        "duration": 72,
        "start_time": "2021-10-13T18:43:11.997Z"
      },
      {
        "duration": 62,
        "start_time": "2021-10-13T18:43:12.071Z"
      },
      {
        "duration": 4,
        "start_time": "2021-10-13T18:43:12.135Z"
      },
      {
        "duration": 61635,
        "start_time": "2021-10-13T18:43:12.140Z"
      },
      {
        "duration": 5,
        "start_time": "2021-10-13T18:44:13.777Z"
      },
      {
        "duration": 6613,
        "start_time": "2021-10-13T18:44:13.783Z"
      },
      {
        "duration": 97,
        "start_time": "2021-10-13T18:44:20.398Z"
      },
      {
        "duration": 2,
        "start_time": "2021-10-13T18:44:20.497Z"
      },
      {
        "duration": 14,
        "start_time": "2021-10-13T18:44:20.500Z"
      },
      {
        "duration": 20,
        "start_time": "2021-10-13T18:44:20.516Z"
      },
      {
        "duration": 308,
        "start_time": "2021-10-13T18:44:20.537Z"
      },
      {
        "duration": 829499,
        "start_time": "2021-10-13T18:44:20.847Z"
      },
      {
        "duration": 200280,
        "start_time": "2021-10-13T18:58:10.350Z"
      },
      {
        "duration": 1332,
        "start_time": "2021-10-13T19:01:30.632Z"
      },
      {
        "duration": 485,
        "start_time": "2021-10-13T19:01:31.965Z"
      },
      {
        "duration": 37295,
        "start_time": "2021-10-13T19:01:32.452Z"
      },
      {
        "duration": 2,
        "start_time": "2021-10-13T19:02:09.749Z"
      },
      {
        "duration": 19697,
        "start_time": "2021-10-13T19:02:09.753Z"
      },
      {
        "duration": 1393,
        "start_time": "2021-10-13T19:02:29.453Z"
      },
      {
        "duration": 4729,
        "start_time": "2021-10-13T19:02:30.848Z"
      },
      {
        "duration": 276,
        "start_time": "2021-10-13T19:02:35.579Z"
      },
      {
        "duration": 9,
        "start_time": "2021-10-13T19:02:35.856Z"
      },
      {
        "duration": 1124,
        "start_time": "2021-10-15T10:28:42.639Z"
      },
      {
        "duration": 877,
        "start_time": "2021-10-15T10:28:43.765Z"
      },
      {
        "duration": 15,
        "start_time": "2021-10-15T10:28:44.644Z"
      },
      {
        "duration": 133,
        "start_time": "2021-10-15T10:28:44.661Z"
      },
      {
        "duration": 116,
        "start_time": "2021-10-15T10:28:44.795Z"
      },
      {
        "duration": 136,
        "start_time": "2021-10-15T10:28:44.912Z"
      },
      {
        "duration": 20,
        "start_time": "2021-10-15T10:28:45.050Z"
      },
      {
        "duration": 124,
        "start_time": "2021-10-15T10:28:45.072Z"
      },
      {
        "duration": 105,
        "start_time": "2021-10-15T10:28:45.198Z"
      },
      {
        "duration": 3,
        "start_time": "2021-10-15T10:28:45.305Z"
      },
      {
        "duration": 42,
        "start_time": "2021-10-15T10:28:45.309Z"
      },
      {
        "duration": 40,
        "start_time": "2021-10-15T10:28:45.353Z"
      },
      {
        "duration": 26,
        "start_time": "2021-10-15T10:28:45.395Z"
      },
      {
        "duration": 36,
        "start_time": "2021-10-15T10:28:45.423Z"
      },
      {
        "duration": 22,
        "start_time": "2021-10-15T10:28:45.461Z"
      },
      {
        "duration": 12,
        "start_time": "2021-10-15T10:28:45.485Z"
      },
      {
        "duration": 20,
        "start_time": "2021-10-15T10:28:45.498Z"
      },
      {
        "duration": 47,
        "start_time": "2021-10-15T10:28:45.519Z"
      },
      {
        "duration": 20,
        "start_time": "2021-10-15T10:28:45.568Z"
      },
      {
        "duration": 17,
        "start_time": "2021-10-15T10:28:45.590Z"
      },
      {
        "duration": 16,
        "start_time": "2021-10-15T10:28:45.608Z"
      },
      {
        "duration": 43,
        "start_time": "2021-10-15T10:28:45.625Z"
      },
      {
        "duration": 13,
        "start_time": "2021-10-15T10:28:45.672Z"
      },
      {
        "duration": 59,
        "start_time": "2021-10-15T10:28:45.687Z"
      },
      {
        "duration": 406,
        "start_time": "2021-10-15T10:28:45.748Z"
      },
      {
        "duration": 214,
        "start_time": "2021-10-15T10:28:46.155Z"
      },
      {
        "duration": 58,
        "start_time": "2021-10-15T10:28:46.370Z"
      },
      {
        "duration": 3,
        "start_time": "2021-10-15T10:28:46.430Z"
      },
      {
        "duration": 14,
        "start_time": "2021-10-15T10:28:46.434Z"
      },
      {
        "duration": 33,
        "start_time": "2021-10-15T10:28:46.449Z"
      },
      {
        "duration": 45,
        "start_time": "2021-10-15T10:28:46.484Z"
      },
      {
        "duration": 3,
        "start_time": "2021-10-15T10:28:46.531Z"
      },
      {
        "duration": 310,
        "start_time": "2021-10-15T10:28:46.536Z"
      },
      {
        "duration": 23,
        "start_time": "2021-10-15T10:28:46.847Z"
      },
      {
        "duration": 52,
        "start_time": "2021-10-15T10:28:46.872Z"
      },
      {
        "duration": 4,
        "start_time": "2021-10-15T10:28:46.926Z"
      },
      {
        "duration": 23,
        "start_time": "2021-10-15T10:28:46.931Z"
      },
      {
        "duration": 98,
        "start_time": "2021-10-15T10:28:46.956Z"
      },
      {
        "duration": 39,
        "start_time": "2021-10-15T10:28:47.055Z"
      },
      {
        "duration": 262,
        "start_time": "2021-10-15T10:28:47.095Z"
      },
      {
        "duration": 14,
        "start_time": "2021-10-15T10:28:47.359Z"
      },
      {
        "duration": 42,
        "start_time": "2021-10-15T10:28:47.375Z"
      },
      {
        "duration": 187,
        "start_time": "2021-10-15T10:28:47.419Z"
      },
      {
        "duration": 14,
        "start_time": "2021-10-15T10:28:47.608Z"
      },
      {
        "duration": 33,
        "start_time": "2021-10-15T10:28:47.623Z"
      },
      {
        "duration": 24,
        "start_time": "2021-10-15T10:28:47.657Z"
      },
      {
        "duration": 31,
        "start_time": "2021-10-15T10:28:47.683Z"
      },
      {
        "duration": 622,
        "start_time": "2021-10-15T10:28:47.716Z"
      },
      {
        "duration": 102,
        "start_time": "2021-10-15T10:28:48.339Z"
      },
      {
        "duration": 17,
        "start_time": "2021-10-15T10:28:48.443Z"
      },
      {
        "duration": 68,
        "start_time": "2021-10-15T10:28:48.461Z"
      },
      {
        "duration": 18,
        "start_time": "2021-10-15T10:28:48.531Z"
      },
      {
        "duration": 23,
        "start_time": "2021-10-15T10:28:48.550Z"
      },
      {
        "duration": 383,
        "start_time": "2021-10-15T10:28:48.591Z"
      },
      {
        "duration": 22,
        "start_time": "2021-10-15T10:28:48.976Z"
      },
      {
        "duration": 59,
        "start_time": "2021-10-15T10:28:48.999Z"
      },
      {
        "duration": 78,
        "start_time": "2021-10-15T10:28:49.060Z"
      },
      {
        "duration": 5,
        "start_time": "2021-10-15T10:28:49.140Z"
      },
      {
        "duration": 59619,
        "start_time": "2021-10-15T10:28:49.147Z"
      },
      {
        "duration": 4,
        "start_time": "2021-10-15T10:29:48.768Z"
      },
      {
        "duration": 6145,
        "start_time": "2021-10-15T10:29:48.774Z"
      },
      {
        "duration": 95,
        "start_time": "2021-10-15T10:29:54.921Z"
      },
      {
        "duration": 2,
        "start_time": "2021-10-15T10:29:55.017Z"
      },
      {
        "duration": 10,
        "start_time": "2021-10-15T10:29:55.021Z"
      },
      {
        "duration": 4,
        "start_time": "2021-10-15T10:29:55.033Z"
      },
      {
        "duration": 285,
        "start_time": "2021-10-15T10:29:55.039Z"
      },
      {
        "duration": 836290,
        "start_time": "2021-10-15T10:29:55.326Z"
      },
      {
        "duration": 203692,
        "start_time": "2021-10-15T10:43:51.622Z"
      },
      {
        "duration": 1501,
        "start_time": "2021-10-15T10:47:15.315Z"
      },
      {
        "duration": 483,
        "start_time": "2021-10-15T10:47:16.818Z"
      },
      {
        "duration": 33720,
        "start_time": "2021-10-15T10:47:17.303Z"
      },
      {
        "duration": 3,
        "start_time": "2021-10-15T10:47:51.092Z"
      },
      {
        "duration": 21701,
        "start_time": "2021-10-15T10:47:51.097Z"
      },
      {
        "duration": 1396,
        "start_time": "2021-10-15T10:48:12.800Z"
      },
      {
        "duration": 4845,
        "start_time": "2021-10-15T10:48:14.198Z"
      },
      {
        "duration": 282,
        "start_time": "2021-10-15T10:48:19.045Z"
      },
      {
        "duration": 10,
        "start_time": "2021-10-15T10:48:19.329Z"
      },
      {
        "duration": 287,
        "start_time": "2021-10-15T11:15:25.177Z"
      },
      {
        "duration": 296,
        "start_time": "2021-10-15T11:15:56.481Z"
      },
      {
        "duration": 297,
        "start_time": "2021-10-15T11:27:06.497Z"
      },
      {
        "duration": 22,
        "start_time": "2021-10-15T11:27:11.618Z"
      },
      {
        "duration": 318,
        "start_time": "2021-10-15T11:27:12.540Z"
      },
      {
        "duration": 19,
        "start_time": "2021-10-15T11:27:18.739Z"
      },
      {
        "duration": 6063,
        "start_time": "2021-10-15T11:30:54.437Z"
      },
      {
        "duration": 10,
        "start_time": "2021-10-15T11:37:16.805Z"
      },
      {
        "duration": 199,
        "start_time": "2021-10-15T11:59:40.656Z"
      },
      {
        "duration": 165,
        "start_time": "2021-10-15T11:59:48.751Z"
      },
      {
        "duration": 273,
        "start_time": "2021-10-15T11:59:54.696Z"
      },
      {
        "duration": 435,
        "start_time": "2021-10-15T12:04:25.177Z"
      },
      {
        "duration": 450,
        "start_time": "2021-10-15T12:04:34.220Z"
      },
      {
        "duration": 56,
        "start_time": "2021-10-15T12:04:38.162Z"
      },
      {
        "duration": 300,
        "start_time": "2021-10-15T12:04:44.346Z"
      },
      {
        "duration": 4,
        "start_time": "2021-10-15T12:10:04.708Z"
      },
      {
        "duration": 4,
        "start_time": "2021-10-15T12:10:15.691Z"
      },
      {
        "duration": 4,
        "start_time": "2021-10-15T12:15:01.436Z"
      },
      {
        "duration": 693,
        "start_time": "2021-10-15T12:15:02.052Z"
      },
      {
        "duration": 12,
        "start_time": "2021-10-15T12:15:02.746Z"
      },
      {
        "duration": 123,
        "start_time": "2021-10-15T12:15:02.760Z"
      },
      {
        "duration": 118,
        "start_time": "2021-10-15T12:15:02.884Z"
      },
      {
        "duration": 108,
        "start_time": "2021-10-15T12:15:03.692Z"
      },
      {
        "duration": 22,
        "start_time": "2021-10-15T12:15:03.863Z"
      },
      {
        "duration": 106,
        "start_time": "2021-10-15T12:15:04.028Z"
      },
      {
        "duration": 106,
        "start_time": "2021-10-15T12:15:04.206Z"
      },
      {
        "duration": 3,
        "start_time": "2021-10-15T12:15:04.428Z"
      },
      {
        "duration": 30,
        "start_time": "2021-10-15T12:15:05.013Z"
      },
      {
        "duration": 29,
        "start_time": "2021-10-15T12:15:05.532Z"
      },
      {
        "duration": 16,
        "start_time": "2021-10-15T12:15:05.892Z"
      },
      {
        "duration": 29,
        "start_time": "2021-10-15T12:15:06.427Z"
      },
      {
        "duration": 20,
        "start_time": "2021-10-15T12:15:07.944Z"
      },
      {
        "duration": 13,
        "start_time": "2021-10-15T12:15:08.708Z"
      },
      {
        "duration": 4,
        "start_time": "2021-10-15T12:15:09.473Z"
      },
      {
        "duration": 9,
        "start_time": "2021-10-15T12:15:09.684Z"
      },
      {
        "duration": 34,
        "start_time": "2021-10-15T12:15:10.404Z"
      },
      {
        "duration": 22,
        "start_time": "2021-10-15T12:15:11.085Z"
      },
      {
        "duration": 4,
        "start_time": "2021-10-15T12:15:11.837Z"
      },
      {
        "duration": 12,
        "start_time": "2021-10-15T12:15:12.269Z"
      },
      {
        "duration": 13,
        "start_time": "2021-10-15T12:15:12.765Z"
      },
      {
        "duration": 9,
        "start_time": "2021-10-15T12:15:22.133Z"
      },
      {
        "duration": 4,
        "start_time": "2021-10-15T12:15:50.645Z"
      },
      {
        "duration": 20,
        "start_time": "2021-10-15T12:16:04.829Z"
      },
      {
        "duration": 15,
        "start_time": "2021-10-15T12:16:05.269Z"
      },
      {
        "duration": 23,
        "start_time": "2021-10-15T12:16:19.404Z"
      },
      {
        "duration": 14,
        "start_time": "2021-10-15T12:16:19.717Z"
      },
      {
        "duration": 4,
        "start_time": "2021-10-15T12:17:10.508Z"
      },
      {
        "duration": 16,
        "start_time": "2021-10-15T12:17:22.038Z"
      },
      {
        "duration": 7,
        "start_time": "2021-10-15T12:17:24.821Z"
      },
      {
        "duration": 6,
        "start_time": "2021-10-15T12:17:39.741Z"
      },
      {
        "duration": 19,
        "start_time": "2021-10-15T12:17:48.942Z"
      },
      {
        "duration": 16,
        "start_time": "2021-10-15T12:17:49.469Z"
      },
      {
        "duration": 8,
        "start_time": "2021-10-15T12:17:50.802Z"
      },
      {
        "duration": 23,
        "start_time": "2021-10-15T12:18:21.222Z"
      },
      {
        "duration": 16,
        "start_time": "2021-10-15T12:18:21.798Z"
      },
      {
        "duration": 9,
        "start_time": "2021-10-15T12:18:30.487Z"
      },
      {
        "duration": 15,
        "start_time": "2021-10-15T12:19:06.526Z"
      },
      {
        "duration": 10,
        "start_time": "2021-10-15T12:21:16.414Z"
      },
      {
        "duration": 6,
        "start_time": "2021-10-15T12:21:26.463Z"
      },
      {
        "duration": 11,
        "start_time": "2021-10-15T12:22:01.784Z"
      },
      {
        "duration": 7,
        "start_time": "2021-10-15T12:22:02.550Z"
      },
      {
        "duration": 4,
        "start_time": "2021-10-15T12:22:15.503Z"
      },
      {
        "duration": 21,
        "start_time": "2021-10-15T12:22:26.983Z"
      },
      {
        "duration": 14,
        "start_time": "2021-10-15T12:22:27.814Z"
      },
      {
        "duration": 4,
        "start_time": "2021-10-15T12:22:28.537Z"
      },
      {
        "duration": 294,
        "start_time": "2021-10-15T12:25:41.657Z"
      },
      {
        "duration": 413,
        "start_time": "2021-10-15T12:28:10.457Z"
      },
      {
        "duration": 341,
        "start_time": "2021-10-15T12:28:29.791Z"
      },
      {
        "duration": 204,
        "start_time": "2021-10-15T12:28:58.696Z"
      },
      {
        "duration": 11,
        "start_time": "2021-10-15T12:29:12.201Z"
      },
      {
        "duration": 4,
        "start_time": "2021-10-15T12:29:16.465Z"
      },
      {
        "duration": 2,
        "start_time": "2021-10-15T12:29:21.360Z"
      },
      {
        "duration": 4,
        "start_time": "2021-10-15T12:29:25.049Z"
      },
      {
        "duration": 4,
        "start_time": "2021-10-15T12:29:41.948Z"
      },
      {
        "duration": 5,
        "start_time": "2021-10-15T12:29:46.792Z"
      },
      {
        "duration": 739,
        "start_time": "2021-10-15T12:29:47.144Z"
      },
      {
        "duration": 16,
        "start_time": "2021-10-15T12:29:47.885Z"
      },
      {
        "duration": 130,
        "start_time": "2021-10-15T12:29:47.904Z"
      },
      {
        "duration": 134,
        "start_time": "2021-10-15T12:29:48.037Z"
      },
      {
        "duration": 113,
        "start_time": "2021-10-15T12:29:48.344Z"
      },
      {
        "duration": 21,
        "start_time": "2021-10-15T12:29:48.521Z"
      },
      {
        "duration": 109,
        "start_time": "2021-10-15T12:29:48.705Z"
      },
      {
        "duration": 110,
        "start_time": "2021-10-15T12:29:48.872Z"
      },
      {
        "duration": 4,
        "start_time": "2021-10-15T12:29:49.050Z"
      },
      {
        "duration": 30,
        "start_time": "2021-10-15T12:29:49.543Z"
      },
      {
        "duration": 51,
        "start_time": "2021-10-15T12:29:50.087Z"
      },
      {
        "duration": 16,
        "start_time": "2021-10-15T12:29:50.424Z"
      },
      {
        "duration": 32,
        "start_time": "2021-10-15T12:29:50.983Z"
      },
      {
        "duration": 20,
        "start_time": "2021-10-15T12:29:52.703Z"
      },
      {
        "duration": 14,
        "start_time": "2021-10-15T12:29:53.057Z"
      },
      {
        "duration": 8,
        "start_time": "2021-10-15T12:29:53.472Z"
      },
      {
        "duration": 33,
        "start_time": "2021-10-15T12:29:53.703Z"
      },
      {
        "duration": 22,
        "start_time": "2021-10-15T12:29:53.999Z"
      },
      {
        "duration": 11,
        "start_time": "2021-10-15T12:29:54.377Z"
      },
      {
        "duration": 10,
        "start_time": "2021-10-15T12:29:54.608Z"
      },
      {
        "duration": 31,
        "start_time": "2021-10-15T12:30:08.713Z"
      },
      {
        "duration": 25,
        "start_time": "2021-10-15T12:30:20.913Z"
      },
      {
        "duration": 360,
        "start_time": "2021-10-15T12:31:09.690Z"
      },
      {
        "duration": 359,
        "start_time": "2021-10-15T12:31:26.809Z"
      },
      {
        "duration": 269,
        "start_time": "2021-10-15T12:31:49.401Z"
      },
      {
        "duration": 176,
        "start_time": "2021-10-15T12:32:34.770Z"
      },
      {
        "duration": 23,
        "start_time": "2021-10-15T12:32:55.383Z"
      },
      {
        "duration": 26,
        "start_time": "2021-10-15T12:33:01.474Z"
      },
      {
        "duration": 25,
        "start_time": "2021-10-15T12:33:34.825Z"
      },
      {
        "duration": 159,
        "start_time": "2021-10-15T12:33:44.529Z"
      },
      {
        "duration": 194,
        "start_time": "2021-10-15T12:34:42.346Z"
      },
      {
        "duration": 20,
        "start_time": "2021-10-15T12:34:51.027Z"
      },
      {
        "duration": 41,
        "start_time": "2021-10-15T12:35:04.224Z"
      },
      {
        "duration": 19,
        "start_time": "2021-10-15T12:35:15.866Z"
      },
      {
        "duration": 150,
        "start_time": "2021-10-15T12:35:45.857Z"
      },
      {
        "duration": 172,
        "start_time": "2021-10-15T12:36:00.642Z"
      },
      {
        "duration": 16,
        "start_time": "2021-10-15T12:36:13.243Z"
      },
      {
        "duration": 189,
        "start_time": "2021-10-15T12:36:48.242Z"
      },
      {
        "duration": 177,
        "start_time": "2021-10-15T12:37:05.163Z"
      },
      {
        "duration": 4,
        "start_time": "2021-10-15T12:37:11.816Z"
      },
      {
        "duration": 714,
        "start_time": "2021-10-15T12:37:12.121Z"
      },
      {
        "duration": 13,
        "start_time": "2021-10-15T12:37:12.837Z"
      },
      {
        "duration": 118,
        "start_time": "2021-10-15T12:37:12.852Z"
      },
      {
        "duration": 122,
        "start_time": "2021-10-15T12:37:12.971Z"
      },
      {
        "duration": 107,
        "start_time": "2021-10-15T12:37:13.202Z"
      },
      {
        "duration": 22,
        "start_time": "2021-10-15T12:37:13.356Z"
      },
      {
        "duration": 108,
        "start_time": "2021-10-15T12:37:13.522Z"
      },
      {
        "duration": 115,
        "start_time": "2021-10-15T12:37:13.689Z"
      },
      {
        "duration": 3,
        "start_time": "2021-10-15T12:37:13.850Z"
      },
      {
        "duration": 23,
        "start_time": "2021-10-15T12:37:14.369Z"
      },
      {
        "duration": 29,
        "start_time": "2021-10-15T12:37:15.157Z"
      },
      {
        "duration": 16,
        "start_time": "2021-10-15T12:37:15.273Z"
      },
      {
        "duration": 30,
        "start_time": "2021-10-15T12:37:15.833Z"
      },
      {
        "duration": 24,
        "start_time": "2021-10-15T12:37:16.553Z"
      },
      {
        "duration": 13,
        "start_time": "2021-10-15T12:37:16.762Z"
      },
      {
        "duration": 8,
        "start_time": "2021-10-15T12:37:16.946Z"
      },
      {
        "duration": 34,
        "start_time": "2021-10-15T12:37:17.129Z"
      },
      {
        "duration": 51,
        "start_time": "2021-10-15T12:37:17.585Z"
      },
      {
        "duration": 20,
        "start_time": "2021-10-15T12:37:17.638Z"
      },
      {
        "duration": 171,
        "start_time": "2021-10-15T12:37:17.730Z"
      },
      {
        "duration": 11,
        "start_time": "2021-10-15T12:37:17.955Z"
      },
      {
        "duration": 153,
        "start_time": "2021-10-15T12:37:18.650Z"
      },
      {
        "duration": 11,
        "start_time": "2021-10-15T12:37:25.170Z"
      },
      {
        "duration": 15,
        "start_time": "2021-10-15T12:37:25.842Z"
      },
      {
        "duration": 31,
        "start_time": "2021-10-15T12:37:26.018Z"
      },
      {
        "duration": 8,
        "start_time": "2021-10-15T12:37:26.554Z"
      },
      {
        "duration": 58,
        "start_time": "2021-10-15T12:37:27.197Z"
      },
      {
        "duration": 384,
        "start_time": "2021-10-15T12:37:27.334Z"
      },
      {
        "duration": 205,
        "start_time": "2021-10-15T12:37:27.890Z"
      },
      {
        "duration": 35,
        "start_time": "2021-10-15T12:37:28.641Z"
      },
      {
        "duration": 4,
        "start_time": "2021-10-15T12:37:28.954Z"
      },
      {
        "duration": 262,
        "start_time": "2021-10-15T12:37:29.250Z"
      },
      {
        "duration": 56,
        "start_time": "2021-10-15T12:38:16.620Z"
      },
      {
        "duration": 174,
        "start_time": "2021-10-15T12:38:17.210Z"
      },
      {
        "duration": 361,
        "start_time": "2021-10-15T12:42:44.620Z"
      },
      {
        "duration": 361,
        "start_time": "2021-10-15T12:42:50.275Z"
      },
      {
        "duration": 383,
        "start_time": "2021-10-15T12:43:06.531Z"
      },
      {
        "duration": 369,
        "start_time": "2021-10-15T12:44:00.235Z"
      },
      {
        "duration": 4,
        "start_time": "2021-10-15T12:45:28.171Z"
      },
      {
        "duration": 791,
        "start_time": "2021-10-15T12:45:28.563Z"
      },
      {
        "duration": 12,
        "start_time": "2021-10-15T12:45:29.356Z"
      },
      {
        "duration": 123,
        "start_time": "2021-10-15T12:45:29.370Z"
      },
      {
        "duration": 130,
        "start_time": "2021-10-15T12:45:29.495Z"
      },
      {
        "duration": 104,
        "start_time": "2021-10-15T12:45:29.835Z"
      },
      {
        "duration": 24,
        "start_time": "2021-10-15T12:45:30.028Z"
      },
      {
        "duration": 108,
        "start_time": "2021-10-15T12:45:30.244Z"
      },
      {
        "duration": 112,
        "start_time": "2021-10-15T12:45:30.524Z"
      },
      {
        "duration": 3,
        "start_time": "2021-10-15T12:45:30.748Z"
      },
      {
        "duration": 42,
        "start_time": "2021-10-15T12:45:32.170Z"
      },
      {
        "duration": 29,
        "start_time": "2021-10-15T12:45:33.171Z"
      },
      {
        "duration": 16,
        "start_time": "2021-10-15T12:45:33.587Z"
      },
      {
        "duration": 31,
        "start_time": "2021-10-15T12:45:34.467Z"
      },
      {
        "duration": 20,
        "start_time": "2021-10-15T12:45:35.676Z"
      },
      {
        "duration": 13,
        "start_time": "2021-10-15T12:45:35.909Z"
      },
      {
        "duration": 8,
        "start_time": "2021-10-15T12:45:36.315Z"
      },
      {
        "duration": 27,
        "start_time": "2021-10-15T12:45:38.924Z"
      },
      {
        "duration": 11,
        "start_time": "2021-10-15T12:45:39.821Z"
      },
      {
        "duration": 30,
        "start_time": "2021-10-15T12:45:45.099Z"
      },
      {
        "duration": 8,
        "start_time": "2021-10-15T12:45:53.116Z"
      },
      {
        "duration": 58,
        "start_time": "2021-10-15T12:45:53.547Z"
      },
      {
        "duration": 381,
        "start_time": "2021-10-15T12:45:54.107Z"
      },
      {
        "duration": 195,
        "start_time": "2021-10-15T12:45:54.732Z"
      },
      {
        "duration": 35,
        "start_time": "2021-10-15T12:45:55.523Z"
      },
      {
        "duration": 4,
        "start_time": "2021-10-15T12:45:56.004Z"
      },
      {
        "duration": 55,
        "start_time": "2021-10-15T12:45:58.872Z"
      },
      {
        "duration": 370,
        "start_time": "2021-10-15T12:45:59.033Z"
      },
      {
        "duration": 496,
        "start_time": "2021-10-15T12:46:21.229Z"
      },
      {
        "duration": 383,
        "start_time": "2021-10-15T12:46:27.365Z"
      },
      {
        "duration": 54,
        "start_time": "2021-10-15T12:47:33.476Z"
      },
      {
        "duration": 15,
        "start_time": "2021-10-15T12:48:26.932Z"
      },
      {
        "duration": 54,
        "start_time": "2021-10-15T12:48:52.453Z"
      },
      {
        "duration": 380,
        "start_time": "2021-10-15T12:48:53.525Z"
      },
      {
        "duration": 4,
        "start_time": "2021-10-15T12:49:21.755Z"
      },
      {
        "duration": 719,
        "start_time": "2021-10-15T12:49:22.091Z"
      },
      {
        "duration": 12,
        "start_time": "2021-10-15T12:49:22.812Z"
      },
      {
        "duration": 121,
        "start_time": "2021-10-15T12:49:22.826Z"
      },
      {
        "duration": 119,
        "start_time": "2021-10-15T12:49:22.948Z"
      },
      {
        "duration": 103,
        "start_time": "2021-10-15T12:49:23.268Z"
      },
      {
        "duration": 23,
        "start_time": "2021-10-15T12:49:23.453Z"
      },
      {
        "duration": 111,
        "start_time": "2021-10-15T12:49:23.872Z"
      },
      {
        "duration": 120,
        "start_time": "2021-10-15T12:49:23.985Z"
      },
      {
        "duration": 3,
        "start_time": "2021-10-15T12:49:24.108Z"
      },
      {
        "duration": 38,
        "start_time": "2021-10-15T12:49:24.467Z"
      },
      {
        "duration": 31,
        "start_time": "2021-10-15T12:49:25.011Z"
      },
      {
        "duration": 17,
        "start_time": "2021-10-15T12:49:25.372Z"
      },
      {
        "duration": 31,
        "start_time": "2021-10-15T12:49:25.900Z"
      },
      {
        "duration": 20,
        "start_time": "2021-10-15T12:49:26.596Z"
      },
      {
        "duration": 14,
        "start_time": "2021-10-15T12:49:26.780Z"
      },
      {
        "duration": 8,
        "start_time": "2021-10-15T12:49:26.956Z"
      },
      {
        "duration": 29,
        "start_time": "2021-10-15T12:49:27.141Z"
      },
      {
        "duration": 12,
        "start_time": "2021-10-15T12:49:27.308Z"
      },
      {
        "duration": 30,
        "start_time": "2021-10-15T12:49:28.043Z"
      },
      {
        "duration": 8,
        "start_time": "2021-10-15T12:49:28.644Z"
      },
      {
        "duration": 56,
        "start_time": "2021-10-15T12:49:29.020Z"
      },
      {
        "duration": 405,
        "start_time": "2021-10-15T12:49:29.404Z"
      },
      {
        "duration": 325,
        "start_time": "2021-10-15T12:49:29.827Z"
      },
      {
        "duration": 37,
        "start_time": "2021-10-15T12:49:30.428Z"
      },
      {
        "duration": 4,
        "start_time": "2021-10-15T12:49:31.734Z"
      },
      {
        "duration": 54,
        "start_time": "2021-10-15T12:49:32.539Z"
      },
      {
        "duration": 365,
        "start_time": "2021-10-15T12:49:32.916Z"
      },
      {
        "duration": 15,
        "start_time": "2021-10-15T12:49:33.604Z"
      },
      {
        "duration": 54,
        "start_time": "2021-10-15T12:49:34.580Z"
      },
      {
        "duration": 372,
        "start_time": "2021-10-15T12:49:35.229Z"
      },
      {
        "duration": 364,
        "start_time": "2021-10-15T12:50:42.245Z"
      },
      {
        "duration": 14,
        "start_time": "2021-10-15T12:51:21.837Z"
      },
      {
        "duration": 55,
        "start_time": "2021-10-15T12:51:22.565Z"
      },
      {
        "duration": 374,
        "start_time": "2021-10-15T12:51:22.805Z"
      },
      {
        "duration": 4,
        "start_time": "2021-10-15T12:51:30.268Z"
      },
      {
        "duration": 709,
        "start_time": "2021-10-15T12:51:30.619Z"
      },
      {
        "duration": 11,
        "start_time": "2021-10-15T12:51:31.330Z"
      },
      {
        "duration": 118,
        "start_time": "2021-10-15T12:51:31.343Z"
      },
      {
        "duration": 123,
        "start_time": "2021-10-15T12:51:31.462Z"
      },
      {
        "duration": 120,
        "start_time": "2021-10-15T12:51:31.876Z"
      },
      {
        "duration": 21,
        "start_time": "2021-10-15T12:51:32.280Z"
      },
      {
        "duration": 110,
        "start_time": "2021-10-15T12:51:32.303Z"
      },
      {
        "duration": 115,
        "start_time": "2021-10-15T12:51:32.415Z"
      },
      {
        "duration": 3,
        "start_time": "2021-10-15T12:51:32.592Z"
      },
      {
        "duration": 39,
        "start_time": "2021-10-15T12:51:33.125Z"
      },
      {
        "duration": 31,
        "start_time": "2021-10-15T12:51:33.675Z"
      },
      {
        "duration": 18,
        "start_time": "2021-10-15T12:51:34.059Z"
      },
      {
        "duration": 31,
        "start_time": "2021-10-15T12:51:34.627Z"
      },
      {
        "duration": 20,
        "start_time": "2021-10-15T12:51:35.646Z"
      },
      {
        "duration": 13,
        "start_time": "2021-10-15T12:51:35.668Z"
      },
      {
        "duration": 8,
        "start_time": "2021-10-15T12:51:35.764Z"
      },
      {
        "duration": 29,
        "start_time": "2021-10-15T12:51:35.964Z"
      },
      {
        "duration": 12,
        "start_time": "2021-10-15T12:51:36.156Z"
      },
      {
        "duration": 31,
        "start_time": "2021-10-15T12:51:36.928Z"
      },
      {
        "duration": 9,
        "start_time": "2021-10-15T12:51:38.092Z"
      },
      {
        "duration": 58,
        "start_time": "2021-10-15T12:51:38.542Z"
      },
      {
        "duration": 380,
        "start_time": "2021-10-15T12:51:39.077Z"
      },
      {
        "duration": 202,
        "start_time": "2021-10-15T12:51:39.996Z"
      },
      {
        "duration": 35,
        "start_time": "2021-10-15T12:51:41.100Z"
      },
      {
        "duration": 4,
        "start_time": "2021-10-15T12:51:41.612Z"
      },
      {
        "duration": 56,
        "start_time": "2021-10-15T12:51:42.412Z"
      },
      {
        "duration": 372,
        "start_time": "2021-10-15T12:51:43.044Z"
      },
      {
        "duration": 15,
        "start_time": "2021-10-15T12:51:44.555Z"
      },
      {
        "duration": 57,
        "start_time": "2021-10-15T12:51:44.860Z"
      },
      {
        "duration": 374,
        "start_time": "2021-10-15T12:51:45.580Z"
      },
      {
        "duration": 29,
        "start_time": "2021-10-15T12:53:47.812Z"
      },
      {
        "duration": 18,
        "start_time": "2021-10-15T12:53:49.644Z"
      },
      {
        "duration": 18,
        "start_time": "2021-10-15T12:53:50.021Z"
      },
      {
        "duration": 9,
        "start_time": "2021-10-15T12:53:50.326Z"
      },
      {
        "duration": 27,
        "start_time": "2021-10-15T12:53:50.710Z"
      },
      {
        "duration": 11,
        "start_time": "2021-10-15T12:53:51.126Z"
      },
      {
        "duration": 56,
        "start_time": "2021-10-15T12:53:52.046Z"
      },
      {
        "duration": 368,
        "start_time": "2021-10-15T12:53:52.589Z"
      },
      {
        "duration": 13,
        "start_time": "2021-10-15T12:53:53.020Z"
      },
      {
        "duration": 55,
        "start_time": "2021-10-15T12:53:53.581Z"
      },
      {
        "duration": 377,
        "start_time": "2021-10-15T12:53:54.532Z"
      },
      {
        "duration": 14,
        "start_time": "2021-10-15T13:19:36.961Z"
      },
      {
        "duration": 4,
        "start_time": "2021-10-15T13:20:25.612Z"
      },
      {
        "duration": 692,
        "start_time": "2021-10-15T13:20:25.952Z"
      },
      {
        "duration": 13,
        "start_time": "2021-10-15T13:20:26.646Z"
      },
      {
        "duration": 130,
        "start_time": "2021-10-15T13:20:26.661Z"
      },
      {
        "duration": 125,
        "start_time": "2021-10-15T13:20:26.793Z"
      },
      {
        "duration": 110,
        "start_time": "2021-10-15T13:20:27.131Z"
      },
      {
        "duration": 21,
        "start_time": "2021-10-15T13:20:27.285Z"
      },
      {
        "duration": 113,
        "start_time": "2021-10-15T13:20:27.458Z"
      },
      {
        "duration": 108,
        "start_time": "2021-10-15T13:20:27.643Z"
      },
      {
        "duration": 4,
        "start_time": "2021-10-15T13:20:27.802Z"
      },
      {
        "duration": 22,
        "start_time": "2021-10-15T13:20:28.313Z"
      },
      {
        "duration": 29,
        "start_time": "2021-10-15T13:20:28.833Z"
      },
      {
        "duration": 15,
        "start_time": "2021-10-15T13:20:29.184Z"
      },
      {
        "duration": 29,
        "start_time": "2021-10-15T13:20:29.721Z"
      },
      {
        "duration": 20,
        "start_time": "2021-10-15T13:20:30.440Z"
      },
      {
        "duration": 14,
        "start_time": "2021-10-15T13:20:30.617Z"
      },
      {
        "duration": 8,
        "start_time": "2021-10-15T13:20:30.792Z"
      },
      {
        "duration": 32,
        "start_time": "2021-10-15T13:20:30.993Z"
      },
      {
        "duration": 12,
        "start_time": "2021-10-15T13:20:31.160Z"
      },
      {
        "duration": 29,
        "start_time": "2021-10-15T13:20:31.865Z"
      },
      {
        "duration": 8,
        "start_time": "2021-10-15T13:20:32.497Z"
      },
      {
        "duration": 57,
        "start_time": "2021-10-15T13:20:33.176Z"
      },
      {
        "duration": 371,
        "start_time": "2021-10-15T13:20:33.937Z"
      },
      {
        "duration": 194,
        "start_time": "2021-10-15T13:20:34.777Z"
      },
      {
        "duration": 37,
        "start_time": "2021-10-15T13:20:35.865Z"
      },
      {
        "duration": 3,
        "start_time": "2021-10-15T13:20:36.370Z"
      },
      {
        "duration": 745,
        "start_time": "2021-10-15T13:20:38.250Z"
      },
      {
        "duration": 67,
        "start_time": "2021-10-15T13:20:59.184Z"
      },
      {
        "duration": 38,
        "start_time": "2021-10-15T13:21:15.955Z"
      },
      {
        "duration": 15,
        "start_time": "2021-10-15T13:21:27.820Z"
      },
      {
        "duration": 146,
        "start_time": "2021-10-15T13:21:28.609Z"
      },
      {
        "duration": 54,
        "start_time": "2021-10-15T13:21:44.674Z"
      },
      {
        "duration": 372,
        "start_time": "2021-10-15T13:21:45.978Z"
      },
      {
        "duration": 37,
        "start_time": "2021-10-15T13:22:26.258Z"
      },
      {
        "duration": 1108,
        "start_time": "2021-10-15T13:29:55.850Z"
      },
      {
        "duration": 745,
        "start_time": "2021-10-15T13:29:56.960Z"
      },
      {
        "duration": 15,
        "start_time": "2021-10-15T13:29:57.707Z"
      },
      {
        "duration": 128,
        "start_time": "2021-10-15T13:29:57.724Z"
      },
      {
        "duration": 122,
        "start_time": "2021-10-15T13:29:57.854Z"
      },
      {
        "duration": 136,
        "start_time": "2021-10-15T13:29:57.978Z"
      },
      {
        "duration": 20,
        "start_time": "2021-10-15T13:29:58.116Z"
      },
      {
        "duration": 124,
        "start_time": "2021-10-15T13:29:58.138Z"
      },
      {
        "duration": 123,
        "start_time": "2021-10-15T13:29:58.264Z"
      },
      {
        "duration": 7,
        "start_time": "2021-10-15T13:29:58.391Z"
      },
      {
        "duration": 31,
        "start_time": "2021-10-15T13:29:58.404Z"
      },
      {
        "duration": 33,
        "start_time": "2021-10-15T13:29:58.437Z"
      },
      {
        "duration": 29,
        "start_time": "2021-10-15T13:29:58.472Z"
      },
      {
        "duration": 31,
        "start_time": "2021-10-15T13:29:58.505Z"
      },
      {
        "duration": 20,
        "start_time": "2021-10-15T13:29:58.538Z"
      },
      {
        "duration": 33,
        "start_time": "2021-10-15T13:29:58.559Z"
      },
      {
        "duration": 20,
        "start_time": "2021-10-15T13:29:58.594Z"
      },
      {
        "duration": 32,
        "start_time": "2021-10-15T13:29:58.616Z"
      },
      {
        "duration": 12,
        "start_time": "2021-10-15T13:29:58.649Z"
      },
      {
        "duration": 53,
        "start_time": "2021-10-15T13:29:58.663Z"
      },
      {
        "duration": 11,
        "start_time": "2021-10-15T13:29:58.718Z"
      },
      {
        "duration": 73,
        "start_time": "2021-10-15T13:29:58.731Z"
      },
      {
        "duration": 417,
        "start_time": "2021-10-15T13:29:58.809Z"
      },
      {
        "duration": 209,
        "start_time": "2021-10-15T13:29:59.229Z"
      },
      {
        "duration": 64,
        "start_time": "2021-10-15T13:29:59.440Z"
      },
      {
        "duration": 4,
        "start_time": "2021-10-15T13:29:59.506Z"
      },
      {
        "duration": 16,
        "start_time": "2021-10-15T13:29:59.512Z"
      },
      {
        "duration": 33,
        "start_time": "2021-10-15T13:29:59.529Z"
      },
      {
        "duration": 81,
        "start_time": "2021-10-15T13:29:59.564Z"
      },
      {
        "duration": 392,
        "start_time": "2021-10-15T13:29:59.647Z"
      },
      {
        "duration": 15,
        "start_time": "2021-10-15T13:30:00.041Z"
      },
      {
        "duration": 85,
        "start_time": "2021-10-15T13:30:00.058Z"
      },
      {
        "duration": 449,
        "start_time": "2021-10-15T13:30:00.144Z"
      },
      {
        "duration": 10,
        "start_time": "2021-10-15T13:30:00.595Z"
      },
      {
        "duration": 29,
        "start_time": "2021-10-15T13:30:00.607Z"
      },
      {
        "duration": 58,
        "start_time": "2021-10-15T13:30:00.637Z"
      },
      {
        "duration": 4,
        "start_time": "2021-10-15T13:30:00.698Z"
      },
      {
        "duration": 320,
        "start_time": "2021-10-15T13:30:00.704Z"
      },
      {
        "duration": 22,
        "start_time": "2021-10-15T13:30:01.026Z"
      },
      {
        "duration": 57,
        "start_time": "2021-10-15T13:30:01.050Z"
      },
      {
        "duration": 340,
        "start_time": "2021-10-15T13:30:01.109Z"
      },
      {
        "duration": 4,
        "start_time": "2021-10-15T13:30:01.452Z"
      },
      {
        "duration": 24,
        "start_time": "2021-10-15T13:30:01.457Z"
      },
      {
        "duration": 117,
        "start_time": "2021-10-15T13:30:01.482Z"
      },
      {
        "duration": 31,
        "start_time": "2021-10-15T13:30:01.601Z"
      },
      {
        "duration": 220,
        "start_time": "2021-10-15T13:30:01.634Z"
      },
      {
        "duration": 15,
        "start_time": "2021-10-15T13:30:01.855Z"
      },
      {
        "duration": 51,
        "start_time": "2021-10-15T13:30:01.872Z"
      },
      {
        "duration": 33,
        "start_time": "2021-10-15T13:30:01.925Z"
      },
      {
        "duration": 56,
        "start_time": "2021-10-15T13:30:01.960Z"
      },
      {
        "duration": 15,
        "start_time": "2021-10-15T13:30:02.017Z"
      },
      {
        "duration": 35,
        "start_time": "2021-10-15T13:30:02.034Z"
      },
      {
        "duration": 651,
        "start_time": "2021-10-15T13:30:02.071Z"
      },
      {
        "duration": 107,
        "start_time": "2021-10-15T13:30:02.724Z"
      },
      {
        "duration": 17,
        "start_time": "2021-10-15T13:30:02.833Z"
      },
      {
        "duration": 79,
        "start_time": "2021-10-15T13:30:02.851Z"
      },
      {
        "duration": 18,
        "start_time": "2021-10-15T13:30:02.931Z"
      },
      {
        "duration": 41,
        "start_time": "2021-10-15T13:30:02.950Z"
      },
      {
        "duration": 35,
        "start_time": "2021-10-15T13:30:03.001Z"
      },
      {
        "duration": 362,
        "start_time": "2021-10-15T13:30:03.038Z"
      },
      {
        "duration": 19,
        "start_time": "2021-10-15T13:30:03.401Z"
      },
      {
        "duration": 54,
        "start_time": "2021-10-15T13:30:03.421Z"
      },
      {
        "duration": 65,
        "start_time": "2021-10-15T13:30:03.491Z"
      },
      {
        "duration": 4,
        "start_time": "2021-10-15T13:30:03.557Z"
      },
      {
        "duration": 63015,
        "start_time": "2021-10-15T13:30:03.563Z"
      },
      {
        "duration": 5,
        "start_time": "2021-10-15T13:31:06.579Z"
      },
      {
        "duration": 6451,
        "start_time": "2021-10-15T13:31:06.591Z"
      },
      {
        "duration": 109,
        "start_time": "2021-10-15T13:31:13.047Z"
      },
      {
        "duration": 2,
        "start_time": "2021-10-15T13:31:13.158Z"
      },
      {
        "duration": 6,
        "start_time": "2021-10-15T13:31:13.162Z"
      },
      {
        "duration": 8,
        "start_time": "2021-10-15T13:31:13.169Z"
      },
      {
        "duration": 325,
        "start_time": "2021-10-15T13:31:13.178Z"
      },
      {
        "duration": 840929,
        "start_time": "2021-10-15T13:31:13.509Z"
      },
      {
        "duration": 205160,
        "start_time": "2021-10-15T13:45:14.440Z"
      },
      {
        "duration": 1413,
        "start_time": "2021-10-15T13:48:39.602Z"
      },
      {
        "duration": 396,
        "start_time": "2021-10-15T13:48:41.016Z"
      },
      {
        "duration": 33697,
        "start_time": "2021-10-15T13:48:41.414Z"
      },
      {
        "duration": 3,
        "start_time": "2021-10-15T13:49:15.112Z"
      },
      {
        "duration": 1598,
        "start_time": "2021-10-15T13:49:39.401Z"
      },
      {
        "duration": 4589,
        "start_time": "2021-10-15T13:49:41.000Z"
      },
      {
        "duration": -615,
        "start_time": "2021-10-15T13:49:46.206Z"
      },
      {
        "duration": -621,
        "start_time": "2021-10-15T13:49:46.213Z"
      },
      {
        "duration": -626,
        "start_time": "2021-10-15T13:49:46.219Z"
      },
      {
        "duration": -632,
        "start_time": "2021-10-15T13:49:46.226Z"
      },
      {
        "duration": 33553,
        "start_time": "2021-10-15T13:49:48.648Z"
      },
      {
        "duration": 2,
        "start_time": "2021-10-15T13:50:22.203Z"
      },
      {
        "duration": 141,
        "start_time": "2021-10-15T13:50:22.207Z"
      },
      {
        "duration": 120,
        "start_time": "2021-10-15T13:50:22.350Z"
      },
      {
        "duration": 4605,
        "start_time": "2021-10-15T13:50:22.472Z"
      },
      {
        "duration": 189,
        "start_time": "2021-10-15T13:50:27.078Z"
      },
      {
        "duration": -596,
        "start_time": "2021-10-15T13:50:27.865Z"
      },
      {
        "duration": 35830,
        "start_time": "2021-10-15T13:51:12.491Z"
      },
      {
        "duration": 2,
        "start_time": "2021-10-15T13:51:48.323Z"
      },
      {
        "duration": 6780,
        "start_time": "2021-10-15T13:51:48.327Z"
      },
      {
        "duration": 488,
        "start_time": "2021-10-15T13:51:55.109Z"
      },
      {
        "duration": 4538,
        "start_time": "2021-10-15T13:51:55.599Z"
      },
      {
        "duration": 287,
        "start_time": "2021-10-15T13:52:00.139Z"
      },
      {
        "duration": 10,
        "start_time": "2021-10-15T13:52:00.427Z"
      },
      {
        "duration": 3,
        "start_time": "2021-10-15T13:53:21.271Z"
      },
      {
        "duration": 25014,
        "start_time": "2021-10-15T13:53:22.288Z"
      },
      {
        "duration": 1412,
        "start_time": "2021-10-15T13:53:47.304Z"
      },
      {
        "duration": 4282,
        "start_time": "2021-10-15T13:53:48.718Z"
      },
      {
        "duration": 290,
        "start_time": "2021-10-15T13:53:53.002Z"
      },
      {
        "duration": 11,
        "start_time": "2021-10-15T13:53:53.294Z"
      },
      {
        "duration": 1174,
        "start_time": "2021-10-15T13:54:43.471Z"
      },
      {
        "duration": 745,
        "start_time": "2021-10-15T13:54:44.647Z"
      },
      {
        "duration": 16,
        "start_time": "2021-10-15T13:54:45.394Z"
      },
      {
        "duration": 130,
        "start_time": "2021-10-15T13:54:45.412Z"
      },
      {
        "duration": 121,
        "start_time": "2021-10-15T13:54:45.544Z"
      },
      {
        "duration": 136,
        "start_time": "2021-10-15T13:54:45.667Z"
      },
      {
        "duration": 22,
        "start_time": "2021-10-15T13:54:45.805Z"
      },
      {
        "duration": 134,
        "start_time": "2021-10-15T13:54:45.829Z"
      },
      {
        "duration": 113,
        "start_time": "2021-10-15T13:54:45.965Z"
      },
      {
        "duration": 2,
        "start_time": "2021-10-15T13:54:46.080Z"
      },
      {
        "duration": 32,
        "start_time": "2021-10-15T13:54:46.091Z"
      },
      {
        "duration": 44,
        "start_time": "2021-10-15T13:54:46.125Z"
      },
      {
        "duration": 16,
        "start_time": "2021-10-15T13:54:46.170Z"
      },
      {
        "duration": 37,
        "start_time": "2021-10-15T13:54:46.188Z"
      },
      {
        "duration": 19,
        "start_time": "2021-10-15T13:54:46.226Z"
      },
      {
        "duration": 14,
        "start_time": "2021-10-15T13:54:46.246Z"
      },
      {
        "duration": 8,
        "start_time": "2021-10-15T13:54:46.261Z"
      },
      {
        "duration": 32,
        "start_time": "2021-10-15T13:54:46.291Z"
      },
      {
        "duration": 11,
        "start_time": "2021-10-15T13:54:46.325Z"
      },
      {
        "duration": 39,
        "start_time": "2021-10-15T13:54:46.338Z"
      },
      {
        "duration": 9,
        "start_time": "2021-10-15T13:54:46.390Z"
      },
      {
        "duration": 57,
        "start_time": "2021-10-15T13:54:46.401Z"
      },
      {
        "duration": 429,
        "start_time": "2021-10-15T13:54:46.461Z"
      },
      {
        "duration": 219,
        "start_time": "2021-10-15T13:54:46.892Z"
      },
      {
        "duration": 50,
        "start_time": "2021-10-15T13:54:47.113Z"
      },
      {
        "duration": 4,
        "start_time": "2021-10-15T13:54:47.165Z"
      },
      {
        "duration": 28,
        "start_time": "2021-10-15T13:54:47.170Z"
      },
      {
        "duration": 38,
        "start_time": "2021-10-15T13:54:47.199Z"
      },
      {
        "duration": 74,
        "start_time": "2021-10-15T13:54:47.238Z"
      },
      {
        "duration": 399,
        "start_time": "2021-10-15T13:54:47.314Z"
      },
      {
        "duration": 15,
        "start_time": "2021-10-15T13:54:47.715Z"
      },
      {
        "duration": 82,
        "start_time": "2021-10-15T13:54:47.731Z"
      },
      {
        "duration": 430,
        "start_time": "2021-10-15T13:54:47.815Z"
      },
      {
        "duration": 9,
        "start_time": "2021-10-15T13:54:48.246Z"
      },
      {
        "duration": 41,
        "start_time": "2021-10-15T13:54:48.256Z"
      },
      {
        "duration": 40,
        "start_time": "2021-10-15T13:54:48.298Z"
      },
      {
        "duration": 3,
        "start_time": "2021-10-15T13:54:48.340Z"
      },
      {
        "duration": 307,
        "start_time": "2021-10-15T13:54:48.344Z"
      },
      {
        "duration": 22,
        "start_time": "2021-10-15T13:54:48.653Z"
      },
      {
        "duration": 48,
        "start_time": "2021-10-15T13:54:48.677Z"
      },
      {
        "duration": 313,
        "start_time": "2021-10-15T13:54:48.727Z"
      },
      {
        "duration": 3,
        "start_time": "2021-10-15T13:54:49.041Z"
      },
      {
        "duration": 16,
        "start_time": "2021-10-15T13:54:49.046Z"
      },
      {
        "duration": 101,
        "start_time": "2021-10-15T13:54:49.064Z"
      },
      {
        "duration": 38,
        "start_time": "2021-10-15T13:54:49.167Z"
      },
      {
        "duration": 202,
        "start_time": "2021-10-15T13:54:49.206Z"
      },
      {
        "duration": 14,
        "start_time": "2021-10-15T13:54:49.409Z"
      },
      {
        "duration": 35,
        "start_time": "2021-10-15T13:54:49.424Z"
      },
      {
        "duration": 16,
        "start_time": "2021-10-15T13:54:49.461Z"
      },
      {
        "duration": 41,
        "start_time": "2021-10-15T13:54:49.478Z"
      },
      {
        "duration": 18,
        "start_time": "2021-10-15T13:54:49.521Z"
      },
      {
        "duration": 26,
        "start_time": "2021-10-15T13:54:49.540Z"
      },
      {
        "duration": 632,
        "start_time": "2021-10-15T13:54:49.568Z"
      },
      {
        "duration": 100,
        "start_time": "2021-10-15T13:54:50.202Z"
      },
      {
        "duration": 18,
        "start_time": "2021-10-15T13:54:50.304Z"
      },
      {
        "duration": 72,
        "start_time": "2021-10-15T13:54:50.323Z"
      },
      {
        "duration": 18,
        "start_time": "2021-10-15T13:54:50.397Z"
      },
      {
        "duration": 24,
        "start_time": "2021-10-15T13:54:50.416Z"
      },
      {
        "duration": 50,
        "start_time": "2021-10-15T13:54:50.442Z"
      },
      {
        "duration": 353,
        "start_time": "2021-10-15T13:54:50.493Z"
      },
      {
        "duration": 18,
        "start_time": "2021-10-15T13:54:50.848Z"
      },
      {
        "duration": 66,
        "start_time": "2021-10-15T13:54:50.868Z"
      },
      {
        "duration": 77,
        "start_time": "2021-10-15T13:54:50.936Z"
      },
      {
        "duration": 5,
        "start_time": "2021-10-15T13:54:51.015Z"
      },
      {
        "duration": 59608,
        "start_time": "2021-10-15T13:54:51.022Z"
      },
      {
        "duration": 5,
        "start_time": "2021-10-15T13:55:50.631Z"
      },
      {
        "duration": 6039,
        "start_time": "2021-10-15T13:55:50.637Z"
      },
      {
        "duration": 89,
        "start_time": "2021-10-15T13:55:56.680Z"
      },
      {
        "duration": 2,
        "start_time": "2021-10-15T13:55:56.771Z"
      },
      {
        "duration": 17,
        "start_time": "2021-10-15T13:55:56.774Z"
      },
      {
        "duration": 3,
        "start_time": "2021-10-15T13:55:56.793Z"
      },
      {
        "duration": 309,
        "start_time": "2021-10-15T13:55:56.797Z"
      },
      {
        "duration": 834915,
        "start_time": "2021-10-15T13:55:57.108Z"
      },
      {
        "duration": 204750,
        "start_time": "2021-10-15T14:09:52.024Z"
      },
      {
        "duration": 1443,
        "start_time": "2021-10-15T14:13:16.776Z"
      },
      {
        "duration": 481,
        "start_time": "2021-10-15T14:13:18.221Z"
      },
      {
        "duration": 33290,
        "start_time": "2021-10-15T14:13:18.704Z"
      },
      {
        "duration": 2,
        "start_time": "2021-10-15T14:13:51.996Z"
      },
      {
        "duration": 20705,
        "start_time": "2021-10-15T14:13:52.000Z"
      },
      {
        "duration": 1407,
        "start_time": "2021-10-15T14:14:12.706Z"
      },
      {
        "duration": 4555,
        "start_time": "2021-10-15T14:14:14.115Z"
      },
      {
        "duration": 294,
        "start_time": "2021-10-15T14:14:18.672Z"
      },
      {
        "duration": 11,
        "start_time": "2021-10-15T14:14:18.968Z"
      },
      {
        "duration": 1149,
        "start_time": "2021-10-16T12:12:53.379Z"
      },
      {
        "duration": 699,
        "start_time": "2021-10-16T12:12:54.530Z"
      },
      {
        "duration": 15,
        "start_time": "2021-10-16T12:12:55.231Z"
      },
      {
        "duration": 124,
        "start_time": "2021-10-16T12:12:55.247Z"
      },
      {
        "duration": 119,
        "start_time": "2021-10-16T12:12:55.377Z"
      },
      {
        "duration": 118,
        "start_time": "2021-10-16T12:12:55.498Z"
      },
      {
        "duration": 22,
        "start_time": "2021-10-16T12:12:55.618Z"
      },
      {
        "duration": 117,
        "start_time": "2021-10-16T12:12:55.642Z"
      },
      {
        "duration": 119,
        "start_time": "2021-10-16T12:12:55.760Z"
      },
      {
        "duration": 3,
        "start_time": "2021-10-16T12:12:55.881Z"
      },
      {
        "duration": 32,
        "start_time": "2021-10-16T12:12:55.886Z"
      },
      {
        "duration": 35,
        "start_time": "2021-10-16T12:12:55.920Z"
      },
      {
        "duration": 17,
        "start_time": "2021-10-16T12:12:55.977Z"
      },
      {
        "duration": 33,
        "start_time": "2021-10-16T12:12:55.996Z"
      },
      {
        "duration": 19,
        "start_time": "2021-10-16T12:12:56.030Z"
      },
      {
        "duration": 34,
        "start_time": "2021-10-16T12:12:56.051Z"
      },
      {
        "duration": 9,
        "start_time": "2021-10-16T12:12:56.087Z"
      },
      {
        "duration": 29,
        "start_time": "2021-10-16T12:12:56.098Z"
      },
      {
        "duration": 11,
        "start_time": "2021-10-16T12:12:56.129Z"
      },
      {
        "duration": 57,
        "start_time": "2021-10-16T12:12:56.142Z"
      },
      {
        "duration": 10,
        "start_time": "2021-10-16T12:12:56.200Z"
      },
      {
        "duration": 70,
        "start_time": "2021-10-16T12:12:56.212Z"
      },
      {
        "duration": 392,
        "start_time": "2021-10-16T12:12:56.286Z"
      },
      {
        "duration": 205,
        "start_time": "2021-10-16T12:12:56.680Z"
      },
      {
        "duration": 42,
        "start_time": "2021-10-16T12:12:56.887Z"
      },
      {
        "duration": 3,
        "start_time": "2021-10-16T12:12:56.931Z"
      },
      {
        "duration": 15,
        "start_time": "2021-10-16T12:12:56.936Z"
      },
      {
        "duration": 53,
        "start_time": "2021-10-16T12:12:56.952Z"
      },
      {
        "duration": 52,
        "start_time": "2021-10-16T12:12:57.006Z"
      },
      {
        "duration": 382,
        "start_time": "2021-10-16T12:12:57.059Z"
      },
      {
        "duration": 15,
        "start_time": "2021-10-16T12:12:57.442Z"
      },
      {
        "duration": 71,
        "start_time": "2021-10-16T12:12:57.459Z"
      },
      {
        "duration": 447,
        "start_time": "2021-10-16T12:12:57.532Z"
      },
      {
        "duration": 9,
        "start_time": "2021-10-16T12:12:57.981Z"
      },
      {
        "duration": 23,
        "start_time": "2021-10-16T12:12:57.992Z"
      },
      {
        "duration": 35,
        "start_time": "2021-10-16T12:12:58.017Z"
      },
      {
        "duration": 3,
        "start_time": "2021-10-16T12:12:58.053Z"
      },
      {
        "duration": 280,
        "start_time": "2021-10-16T12:12:58.058Z"
      },
      {
        "duration": 20,
        "start_time": "2021-10-16T12:12:58.340Z"
      },
      {
        "duration": 35,
        "start_time": "2021-10-16T12:12:58.361Z"
      },
      {
        "duration": 304,
        "start_time": "2021-10-16T12:12:58.398Z"
      },
      {
        "duration": 4,
        "start_time": "2021-10-16T12:12:58.703Z"
      },
      {
        "duration": 16,
        "start_time": "2021-10-16T12:12:58.708Z"
      },
      {
        "duration": 86,
        "start_time": "2021-10-16T12:12:58.726Z"
      },
      {
        "duration": 29,
        "start_time": "2021-10-16T12:12:58.813Z"
      },
      {
        "duration": 269,
        "start_time": "2021-10-16T12:12:58.843Z"
      },
      {
        "duration": 66,
        "start_time": "2021-10-16T12:12:59.114Z"
      },
      {
        "duration": 31,
        "start_time": "2021-10-16T12:12:59.182Z"
      },
      {
        "duration": 15,
        "start_time": "2021-10-16T12:12:59.215Z"
      },
      {
        "duration": 31,
        "start_time": "2021-10-16T12:12:59.231Z"
      },
      {
        "duration": 14,
        "start_time": "2021-10-16T12:12:59.277Z"
      },
      {
        "duration": 25,
        "start_time": "2021-10-16T12:12:59.292Z"
      },
      {
        "duration": 833,
        "start_time": "2021-10-16T12:12:59.319Z"
      },
      {
        "duration": 102,
        "start_time": "2021-10-16T12:13:00.154Z"
      },
      {
        "duration": 26,
        "start_time": "2021-10-16T12:13:00.258Z"
      },
      {
        "duration": 61,
        "start_time": "2021-10-16T12:13:00.286Z"
      },
      {
        "duration": 36,
        "start_time": "2021-10-16T12:13:00.349Z"
      }
    ],
    "kernelspec": {
      "display_name": "Python 3 (ipykernel)",
      "language": "python",
      "name": "python3"
    },
    "language_info": {
      "codemirror_mode": {
        "name": "ipython",
        "version": 3
      },
      "file_extension": ".py",
      "mimetype": "text/x-python",
      "name": "python",
      "nbconvert_exporter": "python",
      "pygments_lexer": "ipython3",
      "version": "3.9.5"
    },
    "toc": {
      "base_numbering": 1,
      "nav_menu": {},
      "number_sections": true,
      "sideBar": true,
      "skip_h1_title": true,
      "title_cell": "Table of Contents",
      "title_sidebar": "Contents",
      "toc_cell": false,
      "toc_position": {},
      "toc_section_display": true,
      "toc_window_display": false
    },
    "colab": {
      "name": "Gradient-boosting",
      "provenance": []
    }
  },
  "nbformat": 4,
  "nbformat_minor": 0
}