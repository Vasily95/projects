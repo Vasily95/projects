{
  "cells": [
    {
      "cell_type": "markdown",
      "source": [
        "# Пользователи Мегалайна"
      ],
      "metadata": {
        "id": "0pIC5WZ2bXzP"
      }
    },
    {
      "cell_type": "markdown",
      "metadata": {
        "id": "ESs6DnRpbO9L"
      },
      "source": [
        "Вам предстоит сделать предварительный анализ тарифов на небольшой выборке клиентов. В вашем распоряжении данные 500 пользователей «Мегалайна»: кто они, откуда, каким тарифом пользуются, сколько звонков и сообщений каждый отправил за 2018 год. Нужно проанализировать поведение клиентов и сделать вывод — какой тариф лучше.\n",
        "Ниже выведем параметры каждого тарифа:\n",
        "\n",
        "\n",
        "Тариф «Смарт»\n",
        "Ежемесячная плата: 550 рублей\n",
        "Включено 500 минут разговора, 50 сообщений и 15 Гб интернет-трафика\n",
        "Стоимость услуг сверх тарифного пакета:\n",
        "минута разговора: 3 рубля\n",
        "сообщение: 3 рубля\n",
        "1 Гб интернет-трафика: 200 рублей\n",
        "\n",
        "\n",
        "«Ультра»\n",
        "Ежемесячная плата: 1950 рублей\n",
        "Включено 3000 минут разговора, 1000 сообщений и 30 Гб интернет-трафика\n",
        "Стоимость услуг сверх тарифного пакета:\n",
        "минута разговора: 1 рубль\n",
        "сообщение: 1 рубль\n",
        "1 Гб интернет-трафика: 150 рублей"
      ]
    },
    {
      "cell_type": "markdown",
      "metadata": {
        "id": "nSE3WLq-bO9N"
      },
      "source": [
        "#  Открываем файл с данными и изучаем общую информацию"
      ]
    },
    {
      "cell_type": "code",
      "source": [
        "pip install pep8"
      ],
      "metadata": {
        "colab": {
          "base_uri": "https://localhost:8080/"
        },
        "id": "54QVSjIT2E6j",
        "outputId": "a5208747-fe01-40c0-9566-48fc229c2787"
      },
      "execution_count": 5,
      "outputs": [
        {
          "output_type": "stream",
          "name": "stdout",
          "text": [
            "Requirement already satisfied: pep8 in /usr/local/lib/python3.7/dist-packages (1.7.1)\n"
          ]
        }
      ]
    },
    {
      "cell_type": "code",
      "execution_count": 6,
      "metadata": {
        "scrolled": true,
        "id": "GVpEJusQbO9O"
      },
      "outputs": [],
      "source": [
        "import pandas as pd\n",
        "import numpy as np\n",
        "from math import ceil as math\n",
        "\n",
        "%matplotlib inline\n",
        "import matplotlib.pyplot as plt\n",
        "from matplotlib.pyplot import figure\n",
        "import seaborn as sns\n",
        "\n",
        "from scipy import stats as st"
      ]
    },
    {
      "cell_type": "code",
      "source": [
        "call_data=pd.read_csv('/content/calls.csv')\n",
        "inet_data=pd.read_csv('/content/internet.csv')\n",
        "sms_data=pd.read_csv('/content/messages.csv')\n",
        "tariff_data=pd.read_csv('/content/tariffs.csv')\n",
        "user_data=pd.read_csv('/content/users.csv')\n",
        "display(call_data.head())\n",
        "display(inet_data.head())\n",
        "display(sms_data.head())\n",
        "display(tariff_data.head())\n",
        "display(user_data.head())"
      ],
      "metadata": {
        "colab": {
          "base_uri": "https://localhost:8080/",
          "height": 869
        },
        "id": "-UY0uZjDx0rx",
        "outputId": "870d6602-e40d-43b6-8df1-33f84a51b24e"
      },
      "execution_count": 7,
      "outputs": [
        {
          "output_type": "display_data",
          "data": {
            "text/plain": [
              "       id   call_date  duration  user_id\n",
              "0  1000_0  2018-07-25      0.00     1000\n",
              "1  1000_1  2018-08-17      0.00     1000\n",
              "2  1000_2  2018-06-11      2.85     1000\n",
              "3  1000_3  2018-09-21     13.80     1000\n",
              "4  1000_4  2018-12-15      5.18     1000"
            ],
            "text/html": [
              "\n",
              "  <div id=\"df-9bf88ffc-c570-489a-804f-9b6ca9048f6a\">\n",
              "    <div class=\"colab-df-container\">\n",
              "      <div>\n",
              "<style scoped>\n",
              "    .dataframe tbody tr th:only-of-type {\n",
              "        vertical-align: middle;\n",
              "    }\n",
              "\n",
              "    .dataframe tbody tr th {\n",
              "        vertical-align: top;\n",
              "    }\n",
              "\n",
              "    .dataframe thead th {\n",
              "        text-align: right;\n",
              "    }\n",
              "</style>\n",
              "<table border=\"1\" class=\"dataframe\">\n",
              "  <thead>\n",
              "    <tr style=\"text-align: right;\">\n",
              "      <th></th>\n",
              "      <th>id</th>\n",
              "      <th>call_date</th>\n",
              "      <th>duration</th>\n",
              "      <th>user_id</th>\n",
              "    </tr>\n",
              "  </thead>\n",
              "  <tbody>\n",
              "    <tr>\n",
              "      <th>0</th>\n",
              "      <td>1000_0</td>\n",
              "      <td>2018-07-25</td>\n",
              "      <td>0.00</td>\n",
              "      <td>1000</td>\n",
              "    </tr>\n",
              "    <tr>\n",
              "      <th>1</th>\n",
              "      <td>1000_1</td>\n",
              "      <td>2018-08-17</td>\n",
              "      <td>0.00</td>\n",
              "      <td>1000</td>\n",
              "    </tr>\n",
              "    <tr>\n",
              "      <th>2</th>\n",
              "      <td>1000_2</td>\n",
              "      <td>2018-06-11</td>\n",
              "      <td>2.85</td>\n",
              "      <td>1000</td>\n",
              "    </tr>\n",
              "    <tr>\n",
              "      <th>3</th>\n",
              "      <td>1000_3</td>\n",
              "      <td>2018-09-21</td>\n",
              "      <td>13.80</td>\n",
              "      <td>1000</td>\n",
              "    </tr>\n",
              "    <tr>\n",
              "      <th>4</th>\n",
              "      <td>1000_4</td>\n",
              "      <td>2018-12-15</td>\n",
              "      <td>5.18</td>\n",
              "      <td>1000</td>\n",
              "    </tr>\n",
              "  </tbody>\n",
              "</table>\n",
              "</div>\n",
              "      <button class=\"colab-df-convert\" onclick=\"convertToInteractive('df-9bf88ffc-c570-489a-804f-9b6ca9048f6a')\"\n",
              "              title=\"Convert this dataframe to an interactive table.\"\n",
              "              style=\"display:none;\">\n",
              "        \n",
              "  <svg xmlns=\"http://www.w3.org/2000/svg\" height=\"24px\"viewBox=\"0 0 24 24\"\n",
              "       width=\"24px\">\n",
              "    <path d=\"M0 0h24v24H0V0z\" fill=\"none\"/>\n",
              "    <path d=\"M18.56 5.44l.94 2.06.94-2.06 2.06-.94-2.06-.94-.94-2.06-.94 2.06-2.06.94zm-11 1L8.5 8.5l.94-2.06 2.06-.94-2.06-.94L8.5 2.5l-.94 2.06-2.06.94zm10 10l.94 2.06.94-2.06 2.06-.94-2.06-.94-.94-2.06-.94 2.06-2.06.94z\"/><path d=\"M17.41 7.96l-1.37-1.37c-.4-.4-.92-.59-1.43-.59-.52 0-1.04.2-1.43.59L10.3 9.45l-7.72 7.72c-.78.78-.78 2.05 0 2.83L4 21.41c.39.39.9.59 1.41.59.51 0 1.02-.2 1.41-.59l7.78-7.78 2.81-2.81c.8-.78.8-2.07 0-2.86zM5.41 20L4 18.59l7.72-7.72 1.47 1.35L5.41 20z\"/>\n",
              "  </svg>\n",
              "      </button>\n",
              "      \n",
              "  <style>\n",
              "    .colab-df-container {\n",
              "      display:flex;\n",
              "      flex-wrap:wrap;\n",
              "      gap: 12px;\n",
              "    }\n",
              "\n",
              "    .colab-df-convert {\n",
              "      background-color: #E8F0FE;\n",
              "      border: none;\n",
              "      border-radius: 50%;\n",
              "      cursor: pointer;\n",
              "      display: none;\n",
              "      fill: #1967D2;\n",
              "      height: 32px;\n",
              "      padding: 0 0 0 0;\n",
              "      width: 32px;\n",
              "    }\n",
              "\n",
              "    .colab-df-convert:hover {\n",
              "      background-color: #E2EBFA;\n",
              "      box-shadow: 0px 1px 2px rgba(60, 64, 67, 0.3), 0px 1px 3px 1px rgba(60, 64, 67, 0.15);\n",
              "      fill: #174EA6;\n",
              "    }\n",
              "\n",
              "    [theme=dark] .colab-df-convert {\n",
              "      background-color: #3B4455;\n",
              "      fill: #D2E3FC;\n",
              "    }\n",
              "\n",
              "    [theme=dark] .colab-df-convert:hover {\n",
              "      background-color: #434B5C;\n",
              "      box-shadow: 0px 1px 3px 1px rgba(0, 0, 0, 0.15);\n",
              "      filter: drop-shadow(0px 1px 2px rgba(0, 0, 0, 0.3));\n",
              "      fill: #FFFFFF;\n",
              "    }\n",
              "  </style>\n",
              "\n",
              "      <script>\n",
              "        const buttonEl =\n",
              "          document.querySelector('#df-9bf88ffc-c570-489a-804f-9b6ca9048f6a button.colab-df-convert');\n",
              "        buttonEl.style.display =\n",
              "          google.colab.kernel.accessAllowed ? 'block' : 'none';\n",
              "\n",
              "        async function convertToInteractive(key) {\n",
              "          const element = document.querySelector('#df-9bf88ffc-c570-489a-804f-9b6ca9048f6a');\n",
              "          const dataTable =\n",
              "            await google.colab.kernel.invokeFunction('convertToInteractive',\n",
              "                                                     [key], {});\n",
              "          if (!dataTable) return;\n",
              "\n",
              "          const docLinkHtml = 'Like what you see? Visit the ' +\n",
              "            '<a target=\"_blank\" href=https://colab.research.google.com/notebooks/data_table.ipynb>data table notebook</a>'\n",
              "            + ' to learn more about interactive tables.';\n",
              "          element.innerHTML = '';\n",
              "          dataTable['output_type'] = 'display_data';\n",
              "          await google.colab.output.renderOutput(dataTable, element);\n",
              "          const docLink = document.createElement('div');\n",
              "          docLink.innerHTML = docLinkHtml;\n",
              "          element.appendChild(docLink);\n",
              "        }\n",
              "      </script>\n",
              "    </div>\n",
              "  </div>\n",
              "  "
            ]
          },
          "metadata": {}
        },
        {
          "output_type": "display_data",
          "data": {
            "text/plain": [
              "   Unnamed: 0      id  mb_used session_date  user_id\n",
              "0           0  1000_0   112.95   2018-11-25     1000\n",
              "1           1  1000_1  1052.81   2018-09-07     1000\n",
              "2           2  1000_2  1197.26   2018-06-25     1000\n",
              "3           3  1000_3   550.27   2018-08-22     1000\n",
              "4           4  1000_4   302.56   2018-09-24     1000"
            ],
            "text/html": [
              "\n",
              "  <div id=\"df-91374bf4-45a5-45f8-a9a1-3167d5e2db33\">\n",
              "    <div class=\"colab-df-container\">\n",
              "      <div>\n",
              "<style scoped>\n",
              "    .dataframe tbody tr th:only-of-type {\n",
              "        vertical-align: middle;\n",
              "    }\n",
              "\n",
              "    .dataframe tbody tr th {\n",
              "        vertical-align: top;\n",
              "    }\n",
              "\n",
              "    .dataframe thead th {\n",
              "        text-align: right;\n",
              "    }\n",
              "</style>\n",
              "<table border=\"1\" class=\"dataframe\">\n",
              "  <thead>\n",
              "    <tr style=\"text-align: right;\">\n",
              "      <th></th>\n",
              "      <th>Unnamed: 0</th>\n",
              "      <th>id</th>\n",
              "      <th>mb_used</th>\n",
              "      <th>session_date</th>\n",
              "      <th>user_id</th>\n",
              "    </tr>\n",
              "  </thead>\n",
              "  <tbody>\n",
              "    <tr>\n",
              "      <th>0</th>\n",
              "      <td>0</td>\n",
              "      <td>1000_0</td>\n",
              "      <td>112.95</td>\n",
              "      <td>2018-11-25</td>\n",
              "      <td>1000</td>\n",
              "    </tr>\n",
              "    <tr>\n",
              "      <th>1</th>\n",
              "      <td>1</td>\n",
              "      <td>1000_1</td>\n",
              "      <td>1052.81</td>\n",
              "      <td>2018-09-07</td>\n",
              "      <td>1000</td>\n",
              "    </tr>\n",
              "    <tr>\n",
              "      <th>2</th>\n",
              "      <td>2</td>\n",
              "      <td>1000_2</td>\n",
              "      <td>1197.26</td>\n",
              "      <td>2018-06-25</td>\n",
              "      <td>1000</td>\n",
              "    </tr>\n",
              "    <tr>\n",
              "      <th>3</th>\n",
              "      <td>3</td>\n",
              "      <td>1000_3</td>\n",
              "      <td>550.27</td>\n",
              "      <td>2018-08-22</td>\n",
              "      <td>1000</td>\n",
              "    </tr>\n",
              "    <tr>\n",
              "      <th>4</th>\n",
              "      <td>4</td>\n",
              "      <td>1000_4</td>\n",
              "      <td>302.56</td>\n",
              "      <td>2018-09-24</td>\n",
              "      <td>1000</td>\n",
              "    </tr>\n",
              "  </tbody>\n",
              "</table>\n",
              "</div>\n",
              "      <button class=\"colab-df-convert\" onclick=\"convertToInteractive('df-91374bf4-45a5-45f8-a9a1-3167d5e2db33')\"\n",
              "              title=\"Convert this dataframe to an interactive table.\"\n",
              "              style=\"display:none;\">\n",
              "        \n",
              "  <svg xmlns=\"http://www.w3.org/2000/svg\" height=\"24px\"viewBox=\"0 0 24 24\"\n",
              "       width=\"24px\">\n",
              "    <path d=\"M0 0h24v24H0V0z\" fill=\"none\"/>\n",
              "    <path d=\"M18.56 5.44l.94 2.06.94-2.06 2.06-.94-2.06-.94-.94-2.06-.94 2.06-2.06.94zm-11 1L8.5 8.5l.94-2.06 2.06-.94-2.06-.94L8.5 2.5l-.94 2.06-2.06.94zm10 10l.94 2.06.94-2.06 2.06-.94-2.06-.94-.94-2.06-.94 2.06-2.06.94z\"/><path d=\"M17.41 7.96l-1.37-1.37c-.4-.4-.92-.59-1.43-.59-.52 0-1.04.2-1.43.59L10.3 9.45l-7.72 7.72c-.78.78-.78 2.05 0 2.83L4 21.41c.39.39.9.59 1.41.59.51 0 1.02-.2 1.41-.59l7.78-7.78 2.81-2.81c.8-.78.8-2.07 0-2.86zM5.41 20L4 18.59l7.72-7.72 1.47 1.35L5.41 20z\"/>\n",
              "  </svg>\n",
              "      </button>\n",
              "      \n",
              "  <style>\n",
              "    .colab-df-container {\n",
              "      display:flex;\n",
              "      flex-wrap:wrap;\n",
              "      gap: 12px;\n",
              "    }\n",
              "\n",
              "    .colab-df-convert {\n",
              "      background-color: #E8F0FE;\n",
              "      border: none;\n",
              "      border-radius: 50%;\n",
              "      cursor: pointer;\n",
              "      display: none;\n",
              "      fill: #1967D2;\n",
              "      height: 32px;\n",
              "      padding: 0 0 0 0;\n",
              "      width: 32px;\n",
              "    }\n",
              "\n",
              "    .colab-df-convert:hover {\n",
              "      background-color: #E2EBFA;\n",
              "      box-shadow: 0px 1px 2px rgba(60, 64, 67, 0.3), 0px 1px 3px 1px rgba(60, 64, 67, 0.15);\n",
              "      fill: #174EA6;\n",
              "    }\n",
              "\n",
              "    [theme=dark] .colab-df-convert {\n",
              "      background-color: #3B4455;\n",
              "      fill: #D2E3FC;\n",
              "    }\n",
              "\n",
              "    [theme=dark] .colab-df-convert:hover {\n",
              "      background-color: #434B5C;\n",
              "      box-shadow: 0px 1px 3px 1px rgba(0, 0, 0, 0.15);\n",
              "      filter: drop-shadow(0px 1px 2px rgba(0, 0, 0, 0.3));\n",
              "      fill: #FFFFFF;\n",
              "    }\n",
              "  </style>\n",
              "\n",
              "      <script>\n",
              "        const buttonEl =\n",
              "          document.querySelector('#df-91374bf4-45a5-45f8-a9a1-3167d5e2db33 button.colab-df-convert');\n",
              "        buttonEl.style.display =\n",
              "          google.colab.kernel.accessAllowed ? 'block' : 'none';\n",
              "\n",
              "        async function convertToInteractive(key) {\n",
              "          const element = document.querySelector('#df-91374bf4-45a5-45f8-a9a1-3167d5e2db33');\n",
              "          const dataTable =\n",
              "            await google.colab.kernel.invokeFunction('convertToInteractive',\n",
              "                                                     [key], {});\n",
              "          if (!dataTable) return;\n",
              "\n",
              "          const docLinkHtml = 'Like what you see? Visit the ' +\n",
              "            '<a target=\"_blank\" href=https://colab.research.google.com/notebooks/data_table.ipynb>data table notebook</a>'\n",
              "            + ' to learn more about interactive tables.';\n",
              "          element.innerHTML = '';\n",
              "          dataTable['output_type'] = 'display_data';\n",
              "          await google.colab.output.renderOutput(dataTable, element);\n",
              "          const docLink = document.createElement('div');\n",
              "          docLink.innerHTML = docLinkHtml;\n",
              "          element.appendChild(docLink);\n",
              "        }\n",
              "      </script>\n",
              "    </div>\n",
              "  </div>\n",
              "  "
            ]
          },
          "metadata": {}
        },
        {
          "output_type": "display_data",
          "data": {
            "text/plain": [
              "       id message_date  user_id\n",
              "0  1000_0   2018-06-27     1000\n",
              "1  1000_1   2018-10-08     1000\n",
              "2  1000_2   2018-08-04     1000\n",
              "3  1000_3   2018-06-16     1000\n",
              "4  1000_4   2018-12-05     1000"
            ],
            "text/html": [
              "\n",
              "  <div id=\"df-4f7037cc-3d23-4454-936f-0585bfcc520b\">\n",
              "    <div class=\"colab-df-container\">\n",
              "      <div>\n",
              "<style scoped>\n",
              "    .dataframe tbody tr th:only-of-type {\n",
              "        vertical-align: middle;\n",
              "    }\n",
              "\n",
              "    .dataframe tbody tr th {\n",
              "        vertical-align: top;\n",
              "    }\n",
              "\n",
              "    .dataframe thead th {\n",
              "        text-align: right;\n",
              "    }\n",
              "</style>\n",
              "<table border=\"1\" class=\"dataframe\">\n",
              "  <thead>\n",
              "    <tr style=\"text-align: right;\">\n",
              "      <th></th>\n",
              "      <th>id</th>\n",
              "      <th>message_date</th>\n",
              "      <th>user_id</th>\n",
              "    </tr>\n",
              "  </thead>\n",
              "  <tbody>\n",
              "    <tr>\n",
              "      <th>0</th>\n",
              "      <td>1000_0</td>\n",
              "      <td>2018-06-27</td>\n",
              "      <td>1000</td>\n",
              "    </tr>\n",
              "    <tr>\n",
              "      <th>1</th>\n",
              "      <td>1000_1</td>\n",
              "      <td>2018-10-08</td>\n",
              "      <td>1000</td>\n",
              "    </tr>\n",
              "    <tr>\n",
              "      <th>2</th>\n",
              "      <td>1000_2</td>\n",
              "      <td>2018-08-04</td>\n",
              "      <td>1000</td>\n",
              "    </tr>\n",
              "    <tr>\n",
              "      <th>3</th>\n",
              "      <td>1000_3</td>\n",
              "      <td>2018-06-16</td>\n",
              "      <td>1000</td>\n",
              "    </tr>\n",
              "    <tr>\n",
              "      <th>4</th>\n",
              "      <td>1000_4</td>\n",
              "      <td>2018-12-05</td>\n",
              "      <td>1000</td>\n",
              "    </tr>\n",
              "  </tbody>\n",
              "</table>\n",
              "</div>\n",
              "      <button class=\"colab-df-convert\" onclick=\"convertToInteractive('df-4f7037cc-3d23-4454-936f-0585bfcc520b')\"\n",
              "              title=\"Convert this dataframe to an interactive table.\"\n",
              "              style=\"display:none;\">\n",
              "        \n",
              "  <svg xmlns=\"http://www.w3.org/2000/svg\" height=\"24px\"viewBox=\"0 0 24 24\"\n",
              "       width=\"24px\">\n",
              "    <path d=\"M0 0h24v24H0V0z\" fill=\"none\"/>\n",
              "    <path d=\"M18.56 5.44l.94 2.06.94-2.06 2.06-.94-2.06-.94-.94-2.06-.94 2.06-2.06.94zm-11 1L8.5 8.5l.94-2.06 2.06-.94-2.06-.94L8.5 2.5l-.94 2.06-2.06.94zm10 10l.94 2.06.94-2.06 2.06-.94-2.06-.94-.94-2.06-.94 2.06-2.06.94z\"/><path d=\"M17.41 7.96l-1.37-1.37c-.4-.4-.92-.59-1.43-.59-.52 0-1.04.2-1.43.59L10.3 9.45l-7.72 7.72c-.78.78-.78 2.05 0 2.83L4 21.41c.39.39.9.59 1.41.59.51 0 1.02-.2 1.41-.59l7.78-7.78 2.81-2.81c.8-.78.8-2.07 0-2.86zM5.41 20L4 18.59l7.72-7.72 1.47 1.35L5.41 20z\"/>\n",
              "  </svg>\n",
              "      </button>\n",
              "      \n",
              "  <style>\n",
              "    .colab-df-container {\n",
              "      display:flex;\n",
              "      flex-wrap:wrap;\n",
              "      gap: 12px;\n",
              "    }\n",
              "\n",
              "    .colab-df-convert {\n",
              "      background-color: #E8F0FE;\n",
              "      border: none;\n",
              "      border-radius: 50%;\n",
              "      cursor: pointer;\n",
              "      display: none;\n",
              "      fill: #1967D2;\n",
              "      height: 32px;\n",
              "      padding: 0 0 0 0;\n",
              "      width: 32px;\n",
              "    }\n",
              "\n",
              "    .colab-df-convert:hover {\n",
              "      background-color: #E2EBFA;\n",
              "      box-shadow: 0px 1px 2px rgba(60, 64, 67, 0.3), 0px 1px 3px 1px rgba(60, 64, 67, 0.15);\n",
              "      fill: #174EA6;\n",
              "    }\n",
              "\n",
              "    [theme=dark] .colab-df-convert {\n",
              "      background-color: #3B4455;\n",
              "      fill: #D2E3FC;\n",
              "    }\n",
              "\n",
              "    [theme=dark] .colab-df-convert:hover {\n",
              "      background-color: #434B5C;\n",
              "      box-shadow: 0px 1px 3px 1px rgba(0, 0, 0, 0.15);\n",
              "      filter: drop-shadow(0px 1px 2px rgba(0, 0, 0, 0.3));\n",
              "      fill: #FFFFFF;\n",
              "    }\n",
              "  </style>\n",
              "\n",
              "      <script>\n",
              "        const buttonEl =\n",
              "          document.querySelector('#df-4f7037cc-3d23-4454-936f-0585bfcc520b button.colab-df-convert');\n",
              "        buttonEl.style.display =\n",
              "          google.colab.kernel.accessAllowed ? 'block' : 'none';\n",
              "\n",
              "        async function convertToInteractive(key) {\n",
              "          const element = document.querySelector('#df-4f7037cc-3d23-4454-936f-0585bfcc520b');\n",
              "          const dataTable =\n",
              "            await google.colab.kernel.invokeFunction('convertToInteractive',\n",
              "                                                     [key], {});\n",
              "          if (!dataTable) return;\n",
              "\n",
              "          const docLinkHtml = 'Like what you see? Visit the ' +\n",
              "            '<a target=\"_blank\" href=https://colab.research.google.com/notebooks/data_table.ipynb>data table notebook</a>'\n",
              "            + ' to learn more about interactive tables.';\n",
              "          element.innerHTML = '';\n",
              "          dataTable['output_type'] = 'display_data';\n",
              "          await google.colab.output.renderOutput(dataTable, element);\n",
              "          const docLink = document.createElement('div');\n",
              "          docLink.innerHTML = docLinkHtml;\n",
              "          element.appendChild(docLink);\n",
              "        }\n",
              "      </script>\n",
              "    </div>\n",
              "  </div>\n",
              "  "
            ]
          },
          "metadata": {}
        },
        {
          "output_type": "display_data",
          "data": {
            "text/plain": [
              "   messages_included  mb_per_month_included  minutes_included  \\\n",
              "0                 50                  15360               500   \n",
              "1               1000                  30720              3000   \n",
              "\n",
              "   rub_monthly_fee  rub_per_gb  rub_per_message  rub_per_minute tariff_name  \n",
              "0              550         200                3               3       smart  \n",
              "1             1950         150                1               1       ultra  "
            ],
            "text/html": [
              "\n",
              "  <div id=\"df-0eecbe62-1d88-47a9-8d7b-968e2fda5cc5\">\n",
              "    <div class=\"colab-df-container\">\n",
              "      <div>\n",
              "<style scoped>\n",
              "    .dataframe tbody tr th:only-of-type {\n",
              "        vertical-align: middle;\n",
              "    }\n",
              "\n",
              "    .dataframe tbody tr th {\n",
              "        vertical-align: top;\n",
              "    }\n",
              "\n",
              "    .dataframe thead th {\n",
              "        text-align: right;\n",
              "    }\n",
              "</style>\n",
              "<table border=\"1\" class=\"dataframe\">\n",
              "  <thead>\n",
              "    <tr style=\"text-align: right;\">\n",
              "      <th></th>\n",
              "      <th>messages_included</th>\n",
              "      <th>mb_per_month_included</th>\n",
              "      <th>minutes_included</th>\n",
              "      <th>rub_monthly_fee</th>\n",
              "      <th>rub_per_gb</th>\n",
              "      <th>rub_per_message</th>\n",
              "      <th>rub_per_minute</th>\n",
              "      <th>tariff_name</th>\n",
              "    </tr>\n",
              "  </thead>\n",
              "  <tbody>\n",
              "    <tr>\n",
              "      <th>0</th>\n",
              "      <td>50</td>\n",
              "      <td>15360</td>\n",
              "      <td>500</td>\n",
              "      <td>550</td>\n",
              "      <td>200</td>\n",
              "      <td>3</td>\n",
              "      <td>3</td>\n",
              "      <td>smart</td>\n",
              "    </tr>\n",
              "    <tr>\n",
              "      <th>1</th>\n",
              "      <td>1000</td>\n",
              "      <td>30720</td>\n",
              "      <td>3000</td>\n",
              "      <td>1950</td>\n",
              "      <td>150</td>\n",
              "      <td>1</td>\n",
              "      <td>1</td>\n",
              "      <td>ultra</td>\n",
              "    </tr>\n",
              "  </tbody>\n",
              "</table>\n",
              "</div>\n",
              "      <button class=\"colab-df-convert\" onclick=\"convertToInteractive('df-0eecbe62-1d88-47a9-8d7b-968e2fda5cc5')\"\n",
              "              title=\"Convert this dataframe to an interactive table.\"\n",
              "              style=\"display:none;\">\n",
              "        \n",
              "  <svg xmlns=\"http://www.w3.org/2000/svg\" height=\"24px\"viewBox=\"0 0 24 24\"\n",
              "       width=\"24px\">\n",
              "    <path d=\"M0 0h24v24H0V0z\" fill=\"none\"/>\n",
              "    <path d=\"M18.56 5.44l.94 2.06.94-2.06 2.06-.94-2.06-.94-.94-2.06-.94 2.06-2.06.94zm-11 1L8.5 8.5l.94-2.06 2.06-.94-2.06-.94L8.5 2.5l-.94 2.06-2.06.94zm10 10l.94 2.06.94-2.06 2.06-.94-2.06-.94-.94-2.06-.94 2.06-2.06.94z\"/><path d=\"M17.41 7.96l-1.37-1.37c-.4-.4-.92-.59-1.43-.59-.52 0-1.04.2-1.43.59L10.3 9.45l-7.72 7.72c-.78.78-.78 2.05 0 2.83L4 21.41c.39.39.9.59 1.41.59.51 0 1.02-.2 1.41-.59l7.78-7.78 2.81-2.81c.8-.78.8-2.07 0-2.86zM5.41 20L4 18.59l7.72-7.72 1.47 1.35L5.41 20z\"/>\n",
              "  </svg>\n",
              "      </button>\n",
              "      \n",
              "  <style>\n",
              "    .colab-df-container {\n",
              "      display:flex;\n",
              "      flex-wrap:wrap;\n",
              "      gap: 12px;\n",
              "    }\n",
              "\n",
              "    .colab-df-convert {\n",
              "      background-color: #E8F0FE;\n",
              "      border: none;\n",
              "      border-radius: 50%;\n",
              "      cursor: pointer;\n",
              "      display: none;\n",
              "      fill: #1967D2;\n",
              "      height: 32px;\n",
              "      padding: 0 0 0 0;\n",
              "      width: 32px;\n",
              "    }\n",
              "\n",
              "    .colab-df-convert:hover {\n",
              "      background-color: #E2EBFA;\n",
              "      box-shadow: 0px 1px 2px rgba(60, 64, 67, 0.3), 0px 1px 3px 1px rgba(60, 64, 67, 0.15);\n",
              "      fill: #174EA6;\n",
              "    }\n",
              "\n",
              "    [theme=dark] .colab-df-convert {\n",
              "      background-color: #3B4455;\n",
              "      fill: #D2E3FC;\n",
              "    }\n",
              "\n",
              "    [theme=dark] .colab-df-convert:hover {\n",
              "      background-color: #434B5C;\n",
              "      box-shadow: 0px 1px 3px 1px rgba(0, 0, 0, 0.15);\n",
              "      filter: drop-shadow(0px 1px 2px rgba(0, 0, 0, 0.3));\n",
              "      fill: #FFFFFF;\n",
              "    }\n",
              "  </style>\n",
              "\n",
              "      <script>\n",
              "        const buttonEl =\n",
              "          document.querySelector('#df-0eecbe62-1d88-47a9-8d7b-968e2fda5cc5 button.colab-df-convert');\n",
              "        buttonEl.style.display =\n",
              "          google.colab.kernel.accessAllowed ? 'block' : 'none';\n",
              "\n",
              "        async function convertToInteractive(key) {\n",
              "          const element = document.querySelector('#df-0eecbe62-1d88-47a9-8d7b-968e2fda5cc5');\n",
              "          const dataTable =\n",
              "            await google.colab.kernel.invokeFunction('convertToInteractive',\n",
              "                                                     [key], {});\n",
              "          if (!dataTable) return;\n",
              "\n",
              "          const docLinkHtml = 'Like what you see? Visit the ' +\n",
              "            '<a target=\"_blank\" href=https://colab.research.google.com/notebooks/data_table.ipynb>data table notebook</a>'\n",
              "            + ' to learn more about interactive tables.';\n",
              "          element.innerHTML = '';\n",
              "          dataTable['output_type'] = 'display_data';\n",
              "          await google.colab.output.renderOutput(dataTable, element);\n",
              "          const docLink = document.createElement('div');\n",
              "          docLink.innerHTML = docLinkHtml;\n",
              "          element.appendChild(docLink);\n",
              "        }\n",
              "      </script>\n",
              "    </div>\n",
              "  </div>\n",
              "  "
            ]
          },
          "metadata": {}
        },
        {
          "output_type": "display_data",
          "data": {
            "text/plain": [
              "   user_id  age churn_date         city first_name  last_name    reg_date  \\\n",
              "0     1000   52        NaN    Краснодар     Рафаил  Верещагин  2018-05-25   \n",
              "1     1001   41        NaN       Москва       Иван       Ежов  2018-11-01   \n",
              "2     1002   59        NaN  Стерлитамак    Евгений  Абрамович  2018-06-17   \n",
              "3     1003   23        NaN       Москва      Белла   Белякова  2018-08-17   \n",
              "4     1004   68        NaN  Новокузнецк    Татьяна   Авдеенко  2018-05-14   \n",
              "\n",
              "  tariff  \n",
              "0  ultra  \n",
              "1  smart  \n",
              "2  smart  \n",
              "3  ultra  \n",
              "4  ultra  "
            ],
            "text/html": [
              "\n",
              "  <div id=\"df-d4be98fc-14d6-47f0-877c-58d4528d3130\">\n",
              "    <div class=\"colab-df-container\">\n",
              "      <div>\n",
              "<style scoped>\n",
              "    .dataframe tbody tr th:only-of-type {\n",
              "        vertical-align: middle;\n",
              "    }\n",
              "\n",
              "    .dataframe tbody tr th {\n",
              "        vertical-align: top;\n",
              "    }\n",
              "\n",
              "    .dataframe thead th {\n",
              "        text-align: right;\n",
              "    }\n",
              "</style>\n",
              "<table border=\"1\" class=\"dataframe\">\n",
              "  <thead>\n",
              "    <tr style=\"text-align: right;\">\n",
              "      <th></th>\n",
              "      <th>user_id</th>\n",
              "      <th>age</th>\n",
              "      <th>churn_date</th>\n",
              "      <th>city</th>\n",
              "      <th>first_name</th>\n",
              "      <th>last_name</th>\n",
              "      <th>reg_date</th>\n",
              "      <th>tariff</th>\n",
              "    </tr>\n",
              "  </thead>\n",
              "  <tbody>\n",
              "    <tr>\n",
              "      <th>0</th>\n",
              "      <td>1000</td>\n",
              "      <td>52</td>\n",
              "      <td>NaN</td>\n",
              "      <td>Краснодар</td>\n",
              "      <td>Рафаил</td>\n",
              "      <td>Верещагин</td>\n",
              "      <td>2018-05-25</td>\n",
              "      <td>ultra</td>\n",
              "    </tr>\n",
              "    <tr>\n",
              "      <th>1</th>\n",
              "      <td>1001</td>\n",
              "      <td>41</td>\n",
              "      <td>NaN</td>\n",
              "      <td>Москва</td>\n",
              "      <td>Иван</td>\n",
              "      <td>Ежов</td>\n",
              "      <td>2018-11-01</td>\n",
              "      <td>smart</td>\n",
              "    </tr>\n",
              "    <tr>\n",
              "      <th>2</th>\n",
              "      <td>1002</td>\n",
              "      <td>59</td>\n",
              "      <td>NaN</td>\n",
              "      <td>Стерлитамак</td>\n",
              "      <td>Евгений</td>\n",
              "      <td>Абрамович</td>\n",
              "      <td>2018-06-17</td>\n",
              "      <td>smart</td>\n",
              "    </tr>\n",
              "    <tr>\n",
              "      <th>3</th>\n",
              "      <td>1003</td>\n",
              "      <td>23</td>\n",
              "      <td>NaN</td>\n",
              "      <td>Москва</td>\n",
              "      <td>Белла</td>\n",
              "      <td>Белякова</td>\n",
              "      <td>2018-08-17</td>\n",
              "      <td>ultra</td>\n",
              "    </tr>\n",
              "    <tr>\n",
              "      <th>4</th>\n",
              "      <td>1004</td>\n",
              "      <td>68</td>\n",
              "      <td>NaN</td>\n",
              "      <td>Новокузнецк</td>\n",
              "      <td>Татьяна</td>\n",
              "      <td>Авдеенко</td>\n",
              "      <td>2018-05-14</td>\n",
              "      <td>ultra</td>\n",
              "    </tr>\n",
              "  </tbody>\n",
              "</table>\n",
              "</div>\n",
              "      <button class=\"colab-df-convert\" onclick=\"convertToInteractive('df-d4be98fc-14d6-47f0-877c-58d4528d3130')\"\n",
              "              title=\"Convert this dataframe to an interactive table.\"\n",
              "              style=\"display:none;\">\n",
              "        \n",
              "  <svg xmlns=\"http://www.w3.org/2000/svg\" height=\"24px\"viewBox=\"0 0 24 24\"\n",
              "       width=\"24px\">\n",
              "    <path d=\"M0 0h24v24H0V0z\" fill=\"none\"/>\n",
              "    <path d=\"M18.56 5.44l.94 2.06.94-2.06 2.06-.94-2.06-.94-.94-2.06-.94 2.06-2.06.94zm-11 1L8.5 8.5l.94-2.06 2.06-.94-2.06-.94L8.5 2.5l-.94 2.06-2.06.94zm10 10l.94 2.06.94-2.06 2.06-.94-2.06-.94-.94-2.06-.94 2.06-2.06.94z\"/><path d=\"M17.41 7.96l-1.37-1.37c-.4-.4-.92-.59-1.43-.59-.52 0-1.04.2-1.43.59L10.3 9.45l-7.72 7.72c-.78.78-.78 2.05 0 2.83L4 21.41c.39.39.9.59 1.41.59.51 0 1.02-.2 1.41-.59l7.78-7.78 2.81-2.81c.8-.78.8-2.07 0-2.86zM5.41 20L4 18.59l7.72-7.72 1.47 1.35L5.41 20z\"/>\n",
              "  </svg>\n",
              "      </button>\n",
              "      \n",
              "  <style>\n",
              "    .colab-df-container {\n",
              "      display:flex;\n",
              "      flex-wrap:wrap;\n",
              "      gap: 12px;\n",
              "    }\n",
              "\n",
              "    .colab-df-convert {\n",
              "      background-color: #E8F0FE;\n",
              "      border: none;\n",
              "      border-radius: 50%;\n",
              "      cursor: pointer;\n",
              "      display: none;\n",
              "      fill: #1967D2;\n",
              "      height: 32px;\n",
              "      padding: 0 0 0 0;\n",
              "      width: 32px;\n",
              "    }\n",
              "\n",
              "    .colab-df-convert:hover {\n",
              "      background-color: #E2EBFA;\n",
              "      box-shadow: 0px 1px 2px rgba(60, 64, 67, 0.3), 0px 1px 3px 1px rgba(60, 64, 67, 0.15);\n",
              "      fill: #174EA6;\n",
              "    }\n",
              "\n",
              "    [theme=dark] .colab-df-convert {\n",
              "      background-color: #3B4455;\n",
              "      fill: #D2E3FC;\n",
              "    }\n",
              "\n",
              "    [theme=dark] .colab-df-convert:hover {\n",
              "      background-color: #434B5C;\n",
              "      box-shadow: 0px 1px 3px 1px rgba(0, 0, 0, 0.15);\n",
              "      filter: drop-shadow(0px 1px 2px rgba(0, 0, 0, 0.3));\n",
              "      fill: #FFFFFF;\n",
              "    }\n",
              "  </style>\n",
              "\n",
              "      <script>\n",
              "        const buttonEl =\n",
              "          document.querySelector('#df-d4be98fc-14d6-47f0-877c-58d4528d3130 button.colab-df-convert');\n",
              "        buttonEl.style.display =\n",
              "          google.colab.kernel.accessAllowed ? 'block' : 'none';\n",
              "\n",
              "        async function convertToInteractive(key) {\n",
              "          const element = document.querySelector('#df-d4be98fc-14d6-47f0-877c-58d4528d3130');\n",
              "          const dataTable =\n",
              "            await google.colab.kernel.invokeFunction('convertToInteractive',\n",
              "                                                     [key], {});\n",
              "          if (!dataTable) return;\n",
              "\n",
              "          const docLinkHtml = 'Like what you see? Visit the ' +\n",
              "            '<a target=\"_blank\" href=https://colab.research.google.com/notebooks/data_table.ipynb>data table notebook</a>'\n",
              "            + ' to learn more about interactive tables.';\n",
              "          element.innerHTML = '';\n",
              "          dataTable['output_type'] = 'display_data';\n",
              "          await google.colab.output.renderOutput(dataTable, element);\n",
              "          const docLink = document.createElement('div');\n",
              "          docLink.innerHTML = docLinkHtml;\n",
              "          element.appendChild(docLink);\n",
              "        }\n",
              "      </script>\n",
              "    </div>\n",
              "  </div>\n",
              "  "
            ]
          },
          "metadata": {}
        }
      ]
    },
    {
      "cell_type": "code",
      "execution_count": 8,
      "metadata": {
        "id": "E1h2joKgbO9S",
        "outputId": "dd4dc8fb-93aa-4722-d56b-8849e1839478",
        "colab": {
          "base_uri": "https://localhost:8080/",
          "height": 415
        }
      },
      "outputs": [
        {
          "output_type": "stream",
          "name": "stdout",
          "text": [
            "<class 'pandas.core.frame.DataFrame'>\n",
            "RangeIndex: 149396 entries, 0 to 149395\n",
            "Data columns (total 5 columns):\n",
            " #   Column        Non-Null Count   Dtype  \n",
            "---  ------        --------------   -----  \n",
            " 0   Unnamed: 0    149396 non-null  int64  \n",
            " 1   id            149396 non-null  object \n",
            " 2   mb_used       149396 non-null  float64\n",
            " 3   session_date  149396 non-null  object \n",
            " 4   user_id       149396 non-null  int64  \n",
            "dtypes: float64(1), int64(2), object(2)\n",
            "memory usage: 5.7+ MB\n"
          ]
        },
        {
          "output_type": "execute_result",
          "data": {
            "text/plain": [
              "   Unnamed: 0      id  mb_used session_date  user_id\n",
              "0           0  1000_0   112.95   2018-11-25     1000\n",
              "1           1  1000_1  1052.81   2018-09-07     1000\n",
              "2           2  1000_2  1197.26   2018-06-25     1000\n",
              "3           3  1000_3   550.27   2018-08-22     1000\n",
              "4           4  1000_4   302.56   2018-09-24     1000"
            ],
            "text/html": [
              "\n",
              "  <div id=\"df-29223e94-9731-4692-8b5b-3aacd2ea4699\">\n",
              "    <div class=\"colab-df-container\">\n",
              "      <div>\n",
              "<style scoped>\n",
              "    .dataframe tbody tr th:only-of-type {\n",
              "        vertical-align: middle;\n",
              "    }\n",
              "\n",
              "    .dataframe tbody tr th {\n",
              "        vertical-align: top;\n",
              "    }\n",
              "\n",
              "    .dataframe thead th {\n",
              "        text-align: right;\n",
              "    }\n",
              "</style>\n",
              "<table border=\"1\" class=\"dataframe\">\n",
              "  <thead>\n",
              "    <tr style=\"text-align: right;\">\n",
              "      <th></th>\n",
              "      <th>Unnamed: 0</th>\n",
              "      <th>id</th>\n",
              "      <th>mb_used</th>\n",
              "      <th>session_date</th>\n",
              "      <th>user_id</th>\n",
              "    </tr>\n",
              "  </thead>\n",
              "  <tbody>\n",
              "    <tr>\n",
              "      <th>0</th>\n",
              "      <td>0</td>\n",
              "      <td>1000_0</td>\n",
              "      <td>112.95</td>\n",
              "      <td>2018-11-25</td>\n",
              "      <td>1000</td>\n",
              "    </tr>\n",
              "    <tr>\n",
              "      <th>1</th>\n",
              "      <td>1</td>\n",
              "      <td>1000_1</td>\n",
              "      <td>1052.81</td>\n",
              "      <td>2018-09-07</td>\n",
              "      <td>1000</td>\n",
              "    </tr>\n",
              "    <tr>\n",
              "      <th>2</th>\n",
              "      <td>2</td>\n",
              "      <td>1000_2</td>\n",
              "      <td>1197.26</td>\n",
              "      <td>2018-06-25</td>\n",
              "      <td>1000</td>\n",
              "    </tr>\n",
              "    <tr>\n",
              "      <th>3</th>\n",
              "      <td>3</td>\n",
              "      <td>1000_3</td>\n",
              "      <td>550.27</td>\n",
              "      <td>2018-08-22</td>\n",
              "      <td>1000</td>\n",
              "    </tr>\n",
              "    <tr>\n",
              "      <th>4</th>\n",
              "      <td>4</td>\n",
              "      <td>1000_4</td>\n",
              "      <td>302.56</td>\n",
              "      <td>2018-09-24</td>\n",
              "      <td>1000</td>\n",
              "    </tr>\n",
              "  </tbody>\n",
              "</table>\n",
              "</div>\n",
              "      <button class=\"colab-df-convert\" onclick=\"convertToInteractive('df-29223e94-9731-4692-8b5b-3aacd2ea4699')\"\n",
              "              title=\"Convert this dataframe to an interactive table.\"\n",
              "              style=\"display:none;\">\n",
              "        \n",
              "  <svg xmlns=\"http://www.w3.org/2000/svg\" height=\"24px\"viewBox=\"0 0 24 24\"\n",
              "       width=\"24px\">\n",
              "    <path d=\"M0 0h24v24H0V0z\" fill=\"none\"/>\n",
              "    <path d=\"M18.56 5.44l.94 2.06.94-2.06 2.06-.94-2.06-.94-.94-2.06-.94 2.06-2.06.94zm-11 1L8.5 8.5l.94-2.06 2.06-.94-2.06-.94L8.5 2.5l-.94 2.06-2.06.94zm10 10l.94 2.06.94-2.06 2.06-.94-2.06-.94-.94-2.06-.94 2.06-2.06.94z\"/><path d=\"M17.41 7.96l-1.37-1.37c-.4-.4-.92-.59-1.43-.59-.52 0-1.04.2-1.43.59L10.3 9.45l-7.72 7.72c-.78.78-.78 2.05 0 2.83L4 21.41c.39.39.9.59 1.41.59.51 0 1.02-.2 1.41-.59l7.78-7.78 2.81-2.81c.8-.78.8-2.07 0-2.86zM5.41 20L4 18.59l7.72-7.72 1.47 1.35L5.41 20z\"/>\n",
              "  </svg>\n",
              "      </button>\n",
              "      \n",
              "  <style>\n",
              "    .colab-df-container {\n",
              "      display:flex;\n",
              "      flex-wrap:wrap;\n",
              "      gap: 12px;\n",
              "    }\n",
              "\n",
              "    .colab-df-convert {\n",
              "      background-color: #E8F0FE;\n",
              "      border: none;\n",
              "      border-radius: 50%;\n",
              "      cursor: pointer;\n",
              "      display: none;\n",
              "      fill: #1967D2;\n",
              "      height: 32px;\n",
              "      padding: 0 0 0 0;\n",
              "      width: 32px;\n",
              "    }\n",
              "\n",
              "    .colab-df-convert:hover {\n",
              "      background-color: #E2EBFA;\n",
              "      box-shadow: 0px 1px 2px rgba(60, 64, 67, 0.3), 0px 1px 3px 1px rgba(60, 64, 67, 0.15);\n",
              "      fill: #174EA6;\n",
              "    }\n",
              "\n",
              "    [theme=dark] .colab-df-convert {\n",
              "      background-color: #3B4455;\n",
              "      fill: #D2E3FC;\n",
              "    }\n",
              "\n",
              "    [theme=dark] .colab-df-convert:hover {\n",
              "      background-color: #434B5C;\n",
              "      box-shadow: 0px 1px 3px 1px rgba(0, 0, 0, 0.15);\n",
              "      filter: drop-shadow(0px 1px 2px rgba(0, 0, 0, 0.3));\n",
              "      fill: #FFFFFF;\n",
              "    }\n",
              "  </style>\n",
              "\n",
              "      <script>\n",
              "        const buttonEl =\n",
              "          document.querySelector('#df-29223e94-9731-4692-8b5b-3aacd2ea4699 button.colab-df-convert');\n",
              "        buttonEl.style.display =\n",
              "          google.colab.kernel.accessAllowed ? 'block' : 'none';\n",
              "\n",
              "        async function convertToInteractive(key) {\n",
              "          const element = document.querySelector('#df-29223e94-9731-4692-8b5b-3aacd2ea4699');\n",
              "          const dataTable =\n",
              "            await google.colab.kernel.invokeFunction('convertToInteractive',\n",
              "                                                     [key], {});\n",
              "          if (!dataTable) return;\n",
              "\n",
              "          const docLinkHtml = 'Like what you see? Visit the ' +\n",
              "            '<a target=\"_blank\" href=https://colab.research.google.com/notebooks/data_table.ipynb>data table notebook</a>'\n",
              "            + ' to learn more about interactive tables.';\n",
              "          element.innerHTML = '';\n",
              "          dataTable['output_type'] = 'display_data';\n",
              "          await google.colab.output.renderOutput(dataTable, element);\n",
              "          const docLink = document.createElement('div');\n",
              "          docLink.innerHTML = docLinkHtml;\n",
              "          element.appendChild(docLink);\n",
              "        }\n",
              "      </script>\n",
              "    </div>\n",
              "  </div>\n",
              "  "
            ]
          },
          "metadata": {},
          "execution_count": 8
        }
      ],
      "source": [
        "inet_data.info()\n",
        "inet_data.head(5)"
      ]
    },
    {
      "cell_type": "code",
      "execution_count": 9,
      "metadata": {
        "scrolled": false,
        "id": "S9kMBh5qbO9T",
        "outputId": "ade681d6-ef53-4a5f-bddd-6f4e2d5d23da",
        "colab": {
          "base_uri": "https://localhost:8080/"
        }
      },
      "outputs": [
        {
          "output_type": "stream",
          "name": "stdout",
          "text": [
            "<class 'pandas.core.frame.DataFrame'>\n",
            "RangeIndex: 202607 entries, 0 to 202606\n",
            "Data columns (total 4 columns):\n",
            " #   Column     Non-Null Count   Dtype  \n",
            "---  ------     --------------   -----  \n",
            " 0   id         202607 non-null  object \n",
            " 1   call_date  202607 non-null  object \n",
            " 2   duration   202607 non-null  float64\n",
            " 3   user_id    202607 non-null  int64  \n",
            "dtypes: float64(1), int64(1), object(2)\n",
            "memory usage: 6.2+ MB\n"
          ]
        }
      ],
      "source": [
        "call_data.info()"
      ]
    },
    {
      "cell_type": "code",
      "execution_count": 10,
      "metadata": {
        "id": "mMPTq90zbO9U",
        "outputId": "8f25a078-1e08-4776-b776-6031f2f7460c",
        "colab": {
          "base_uri": "https://localhost:8080/",
          "height": 206
        }
      },
      "outputs": [
        {
          "output_type": "execute_result",
          "data": {
            "text/plain": [
              "       id message_date  user_id\n",
              "0  1000_0   2018-06-27     1000\n",
              "1  1000_1   2018-10-08     1000\n",
              "2  1000_2   2018-08-04     1000\n",
              "3  1000_3   2018-06-16     1000\n",
              "4  1000_4   2018-12-05     1000"
            ],
            "text/html": [
              "\n",
              "  <div id=\"df-90b72132-60d5-4d7d-b883-de243f7fcbea\">\n",
              "    <div class=\"colab-df-container\">\n",
              "      <div>\n",
              "<style scoped>\n",
              "    .dataframe tbody tr th:only-of-type {\n",
              "        vertical-align: middle;\n",
              "    }\n",
              "\n",
              "    .dataframe tbody tr th {\n",
              "        vertical-align: top;\n",
              "    }\n",
              "\n",
              "    .dataframe thead th {\n",
              "        text-align: right;\n",
              "    }\n",
              "</style>\n",
              "<table border=\"1\" class=\"dataframe\">\n",
              "  <thead>\n",
              "    <tr style=\"text-align: right;\">\n",
              "      <th></th>\n",
              "      <th>id</th>\n",
              "      <th>message_date</th>\n",
              "      <th>user_id</th>\n",
              "    </tr>\n",
              "  </thead>\n",
              "  <tbody>\n",
              "    <tr>\n",
              "      <th>0</th>\n",
              "      <td>1000_0</td>\n",
              "      <td>2018-06-27</td>\n",
              "      <td>1000</td>\n",
              "    </tr>\n",
              "    <tr>\n",
              "      <th>1</th>\n",
              "      <td>1000_1</td>\n",
              "      <td>2018-10-08</td>\n",
              "      <td>1000</td>\n",
              "    </tr>\n",
              "    <tr>\n",
              "      <th>2</th>\n",
              "      <td>1000_2</td>\n",
              "      <td>2018-08-04</td>\n",
              "      <td>1000</td>\n",
              "    </tr>\n",
              "    <tr>\n",
              "      <th>3</th>\n",
              "      <td>1000_3</td>\n",
              "      <td>2018-06-16</td>\n",
              "      <td>1000</td>\n",
              "    </tr>\n",
              "    <tr>\n",
              "      <th>4</th>\n",
              "      <td>1000_4</td>\n",
              "      <td>2018-12-05</td>\n",
              "      <td>1000</td>\n",
              "    </tr>\n",
              "  </tbody>\n",
              "</table>\n",
              "</div>\n",
              "      <button class=\"colab-df-convert\" onclick=\"convertToInteractive('df-90b72132-60d5-4d7d-b883-de243f7fcbea')\"\n",
              "              title=\"Convert this dataframe to an interactive table.\"\n",
              "              style=\"display:none;\">\n",
              "        \n",
              "  <svg xmlns=\"http://www.w3.org/2000/svg\" height=\"24px\"viewBox=\"0 0 24 24\"\n",
              "       width=\"24px\">\n",
              "    <path d=\"M0 0h24v24H0V0z\" fill=\"none\"/>\n",
              "    <path d=\"M18.56 5.44l.94 2.06.94-2.06 2.06-.94-2.06-.94-.94-2.06-.94 2.06-2.06.94zm-11 1L8.5 8.5l.94-2.06 2.06-.94-2.06-.94L8.5 2.5l-.94 2.06-2.06.94zm10 10l.94 2.06.94-2.06 2.06-.94-2.06-.94-.94-2.06-.94 2.06-2.06.94z\"/><path d=\"M17.41 7.96l-1.37-1.37c-.4-.4-.92-.59-1.43-.59-.52 0-1.04.2-1.43.59L10.3 9.45l-7.72 7.72c-.78.78-.78 2.05 0 2.83L4 21.41c.39.39.9.59 1.41.59.51 0 1.02-.2 1.41-.59l7.78-7.78 2.81-2.81c.8-.78.8-2.07 0-2.86zM5.41 20L4 18.59l7.72-7.72 1.47 1.35L5.41 20z\"/>\n",
              "  </svg>\n",
              "      </button>\n",
              "      \n",
              "  <style>\n",
              "    .colab-df-container {\n",
              "      display:flex;\n",
              "      flex-wrap:wrap;\n",
              "      gap: 12px;\n",
              "    }\n",
              "\n",
              "    .colab-df-convert {\n",
              "      background-color: #E8F0FE;\n",
              "      border: none;\n",
              "      border-radius: 50%;\n",
              "      cursor: pointer;\n",
              "      display: none;\n",
              "      fill: #1967D2;\n",
              "      height: 32px;\n",
              "      padding: 0 0 0 0;\n",
              "      width: 32px;\n",
              "    }\n",
              "\n",
              "    .colab-df-convert:hover {\n",
              "      background-color: #E2EBFA;\n",
              "      box-shadow: 0px 1px 2px rgba(60, 64, 67, 0.3), 0px 1px 3px 1px rgba(60, 64, 67, 0.15);\n",
              "      fill: #174EA6;\n",
              "    }\n",
              "\n",
              "    [theme=dark] .colab-df-convert {\n",
              "      background-color: #3B4455;\n",
              "      fill: #D2E3FC;\n",
              "    }\n",
              "\n",
              "    [theme=dark] .colab-df-convert:hover {\n",
              "      background-color: #434B5C;\n",
              "      box-shadow: 0px 1px 3px 1px rgba(0, 0, 0, 0.15);\n",
              "      filter: drop-shadow(0px 1px 2px rgba(0, 0, 0, 0.3));\n",
              "      fill: #FFFFFF;\n",
              "    }\n",
              "  </style>\n",
              "\n",
              "      <script>\n",
              "        const buttonEl =\n",
              "          document.querySelector('#df-90b72132-60d5-4d7d-b883-de243f7fcbea button.colab-df-convert');\n",
              "        buttonEl.style.display =\n",
              "          google.colab.kernel.accessAllowed ? 'block' : 'none';\n",
              "\n",
              "        async function convertToInteractive(key) {\n",
              "          const element = document.querySelector('#df-90b72132-60d5-4d7d-b883-de243f7fcbea');\n",
              "          const dataTable =\n",
              "            await google.colab.kernel.invokeFunction('convertToInteractive',\n",
              "                                                     [key], {});\n",
              "          if (!dataTable) return;\n",
              "\n",
              "          const docLinkHtml = 'Like what you see? Visit the ' +\n",
              "            '<a target=\"_blank\" href=https://colab.research.google.com/notebooks/data_table.ipynb>data table notebook</a>'\n",
              "            + ' to learn more about interactive tables.';\n",
              "          element.innerHTML = '';\n",
              "          dataTable['output_type'] = 'display_data';\n",
              "          await google.colab.output.renderOutput(dataTable, element);\n",
              "          const docLink = document.createElement('div');\n",
              "          docLink.innerHTML = docLinkHtml;\n",
              "          element.appendChild(docLink);\n",
              "        }\n",
              "      </script>\n",
              "    </div>\n",
              "  </div>\n",
              "  "
            ]
          },
          "metadata": {},
          "execution_count": 10
        }
      ],
      "source": [
        "sms_data.head(5)"
      ]
    },
    {
      "cell_type": "code",
      "execution_count": 11,
      "metadata": {
        "scrolled": true,
        "id": "iizdmKHDbO9U",
        "outputId": "cf4d50e9-895e-4815-e0e8-24294672e8b8",
        "colab": {
          "base_uri": "https://localhost:8080/"
        }
      },
      "outputs": [
        {
          "output_type": "stream",
          "name": "stdout",
          "text": [
            "<class 'pandas.core.frame.DataFrame'>\n",
            "RangeIndex: 123036 entries, 0 to 123035\n",
            "Data columns (total 3 columns):\n",
            " #   Column        Non-Null Count   Dtype \n",
            "---  ------        --------------   ----- \n",
            " 0   id            123036 non-null  object\n",
            " 1   message_date  123036 non-null  object\n",
            " 2   user_id       123036 non-null  int64 \n",
            "dtypes: int64(1), object(2)\n",
            "memory usage: 2.8+ MB\n"
          ]
        }
      ],
      "source": [
        "sms_data.info()"
      ]
    },
    {
      "cell_type": "code",
      "execution_count": 12,
      "metadata": {
        "scrolled": true,
        "id": "cyefEjDbbO9U",
        "outputId": "e02643fe-7cf2-4a7e-e0dc-7bd0b1f95247",
        "colab": {
          "base_uri": "https://localhost:8080/",
          "height": 112
        }
      },
      "outputs": [
        {
          "output_type": "execute_result",
          "data": {
            "text/plain": [
              "   messages_included  mb_per_month_included  minutes_included  \\\n",
              "0                 50                  15360               500   \n",
              "1               1000                  30720              3000   \n",
              "\n",
              "   rub_monthly_fee  rub_per_gb  rub_per_message  rub_per_minute tariff_name  \n",
              "0              550         200                3               3       smart  \n",
              "1             1950         150                1               1       ultra  "
            ],
            "text/html": [
              "\n",
              "  <div id=\"df-29743a08-3ae7-4e2b-8420-48cbedeb3e1f\">\n",
              "    <div class=\"colab-df-container\">\n",
              "      <div>\n",
              "<style scoped>\n",
              "    .dataframe tbody tr th:only-of-type {\n",
              "        vertical-align: middle;\n",
              "    }\n",
              "\n",
              "    .dataframe tbody tr th {\n",
              "        vertical-align: top;\n",
              "    }\n",
              "\n",
              "    .dataframe thead th {\n",
              "        text-align: right;\n",
              "    }\n",
              "</style>\n",
              "<table border=\"1\" class=\"dataframe\">\n",
              "  <thead>\n",
              "    <tr style=\"text-align: right;\">\n",
              "      <th></th>\n",
              "      <th>messages_included</th>\n",
              "      <th>mb_per_month_included</th>\n",
              "      <th>minutes_included</th>\n",
              "      <th>rub_monthly_fee</th>\n",
              "      <th>rub_per_gb</th>\n",
              "      <th>rub_per_message</th>\n",
              "      <th>rub_per_minute</th>\n",
              "      <th>tariff_name</th>\n",
              "    </tr>\n",
              "  </thead>\n",
              "  <tbody>\n",
              "    <tr>\n",
              "      <th>0</th>\n",
              "      <td>50</td>\n",
              "      <td>15360</td>\n",
              "      <td>500</td>\n",
              "      <td>550</td>\n",
              "      <td>200</td>\n",
              "      <td>3</td>\n",
              "      <td>3</td>\n",
              "      <td>smart</td>\n",
              "    </tr>\n",
              "    <tr>\n",
              "      <th>1</th>\n",
              "      <td>1000</td>\n",
              "      <td>30720</td>\n",
              "      <td>3000</td>\n",
              "      <td>1950</td>\n",
              "      <td>150</td>\n",
              "      <td>1</td>\n",
              "      <td>1</td>\n",
              "      <td>ultra</td>\n",
              "    </tr>\n",
              "  </tbody>\n",
              "</table>\n",
              "</div>\n",
              "      <button class=\"colab-df-convert\" onclick=\"convertToInteractive('df-29743a08-3ae7-4e2b-8420-48cbedeb3e1f')\"\n",
              "              title=\"Convert this dataframe to an interactive table.\"\n",
              "              style=\"display:none;\">\n",
              "        \n",
              "  <svg xmlns=\"http://www.w3.org/2000/svg\" height=\"24px\"viewBox=\"0 0 24 24\"\n",
              "       width=\"24px\">\n",
              "    <path d=\"M0 0h24v24H0V0z\" fill=\"none\"/>\n",
              "    <path d=\"M18.56 5.44l.94 2.06.94-2.06 2.06-.94-2.06-.94-.94-2.06-.94 2.06-2.06.94zm-11 1L8.5 8.5l.94-2.06 2.06-.94-2.06-.94L8.5 2.5l-.94 2.06-2.06.94zm10 10l.94 2.06.94-2.06 2.06-.94-2.06-.94-.94-2.06-.94 2.06-2.06.94z\"/><path d=\"M17.41 7.96l-1.37-1.37c-.4-.4-.92-.59-1.43-.59-.52 0-1.04.2-1.43.59L10.3 9.45l-7.72 7.72c-.78.78-.78 2.05 0 2.83L4 21.41c.39.39.9.59 1.41.59.51 0 1.02-.2 1.41-.59l7.78-7.78 2.81-2.81c.8-.78.8-2.07 0-2.86zM5.41 20L4 18.59l7.72-7.72 1.47 1.35L5.41 20z\"/>\n",
              "  </svg>\n",
              "      </button>\n",
              "      \n",
              "  <style>\n",
              "    .colab-df-container {\n",
              "      display:flex;\n",
              "      flex-wrap:wrap;\n",
              "      gap: 12px;\n",
              "    }\n",
              "\n",
              "    .colab-df-convert {\n",
              "      background-color: #E8F0FE;\n",
              "      border: none;\n",
              "      border-radius: 50%;\n",
              "      cursor: pointer;\n",
              "      display: none;\n",
              "      fill: #1967D2;\n",
              "      height: 32px;\n",
              "      padding: 0 0 0 0;\n",
              "      width: 32px;\n",
              "    }\n",
              "\n",
              "    .colab-df-convert:hover {\n",
              "      background-color: #E2EBFA;\n",
              "      box-shadow: 0px 1px 2px rgba(60, 64, 67, 0.3), 0px 1px 3px 1px rgba(60, 64, 67, 0.15);\n",
              "      fill: #174EA6;\n",
              "    }\n",
              "\n",
              "    [theme=dark] .colab-df-convert {\n",
              "      background-color: #3B4455;\n",
              "      fill: #D2E3FC;\n",
              "    }\n",
              "\n",
              "    [theme=dark] .colab-df-convert:hover {\n",
              "      background-color: #434B5C;\n",
              "      box-shadow: 0px 1px 3px 1px rgba(0, 0, 0, 0.15);\n",
              "      filter: drop-shadow(0px 1px 2px rgba(0, 0, 0, 0.3));\n",
              "      fill: #FFFFFF;\n",
              "    }\n",
              "  </style>\n",
              "\n",
              "      <script>\n",
              "        const buttonEl =\n",
              "          document.querySelector('#df-29743a08-3ae7-4e2b-8420-48cbedeb3e1f button.colab-df-convert');\n",
              "        buttonEl.style.display =\n",
              "          google.colab.kernel.accessAllowed ? 'block' : 'none';\n",
              "\n",
              "        async function convertToInteractive(key) {\n",
              "          const element = document.querySelector('#df-29743a08-3ae7-4e2b-8420-48cbedeb3e1f');\n",
              "          const dataTable =\n",
              "            await google.colab.kernel.invokeFunction('convertToInteractive',\n",
              "                                                     [key], {});\n",
              "          if (!dataTable) return;\n",
              "\n",
              "          const docLinkHtml = 'Like what you see? Visit the ' +\n",
              "            '<a target=\"_blank\" href=https://colab.research.google.com/notebooks/data_table.ipynb>data table notebook</a>'\n",
              "            + ' to learn more about interactive tables.';\n",
              "          element.innerHTML = '';\n",
              "          dataTable['output_type'] = 'display_data';\n",
              "          await google.colab.output.renderOutput(dataTable, element);\n",
              "          const docLink = document.createElement('div');\n",
              "          docLink.innerHTML = docLinkHtml;\n",
              "          element.appendChild(docLink);\n",
              "        }\n",
              "      </script>\n",
              "    </div>\n",
              "  </div>\n",
              "  "
            ]
          },
          "metadata": {},
          "execution_count": 12
        }
      ],
      "source": [
        "tariff_data"
      ]
    },
    {
      "cell_type": "markdown",
      "metadata": {
        "id": "SouqzdPLbO9W"
      },
      "source": [
        "В Таблице inet_data, имеется столбец - Unnamed, который дублирует индексацию таблицы. Необходимо будет его удалить.\n",
        "\n",
        "Необходимо будет обновить информацию по дате в каждой таблице, поменять тип данных на int"
      ]
    },
    {
      "cell_type": "markdown",
      "metadata": {
        "id": "Xlli6A9sbO9W"
      },
      "source": [
        "#  Готовим данные"
      ]
    },
    {
      "cell_type": "markdown",
      "metadata": {
        "id": "O2LdtO8AbO9X"
      },
      "source": [
        "Рассматриваем таблицу с пользователями (user_data), посмотрим на процент пропусков по колонкам"
      ]
    },
    {
      "cell_type": "code",
      "execution_count": 13,
      "metadata": {
        "scrolled": true,
        "id": "Mul5SGuWbO9X",
        "outputId": "3dd86a9d-859d-4895-ef3e-b38761d020f7",
        "colab": {
          "base_uri": "https://localhost:8080/",
          "height": 300
        }
      },
      "outputs": [
        {
          "output_type": "execute_result",
          "data": {
            "text/plain": [
              "            missing_values  % of total\n",
              "churn_date             462        0.92\n",
              "user_id                  0        0.00\n",
              "age                      0        0.00\n",
              "city                     0        0.00\n",
              "first_name               0        0.00\n",
              "last_name                0        0.00\n",
              "reg_date                 0        0.00\n",
              "tariff                   0        0.00"
            ],
            "text/html": [
              "\n",
              "  <div id=\"df-0558ae49-7885-4a88-ae4f-14461fb3bb14\">\n",
              "    <div class=\"colab-df-container\">\n",
              "      <div>\n",
              "<style scoped>\n",
              "    .dataframe tbody tr th:only-of-type {\n",
              "        vertical-align: middle;\n",
              "    }\n",
              "\n",
              "    .dataframe tbody tr th {\n",
              "        vertical-align: top;\n",
              "    }\n",
              "\n",
              "    .dataframe thead th {\n",
              "        text-align: right;\n",
              "    }\n",
              "</style>\n",
              "<table border=\"1\" class=\"dataframe\">\n",
              "  <thead>\n",
              "    <tr style=\"text-align: right;\">\n",
              "      <th></th>\n",
              "      <th>missing_values</th>\n",
              "      <th>% of total</th>\n",
              "    </tr>\n",
              "  </thead>\n",
              "  <tbody>\n",
              "    <tr>\n",
              "      <th>churn_date</th>\n",
              "      <td>462</td>\n",
              "      <td>0.92</td>\n",
              "    </tr>\n",
              "    <tr>\n",
              "      <th>user_id</th>\n",
              "      <td>0</td>\n",
              "      <td>0.00</td>\n",
              "    </tr>\n",
              "    <tr>\n",
              "      <th>age</th>\n",
              "      <td>0</td>\n",
              "      <td>0.00</td>\n",
              "    </tr>\n",
              "    <tr>\n",
              "      <th>city</th>\n",
              "      <td>0</td>\n",
              "      <td>0.00</td>\n",
              "    </tr>\n",
              "    <tr>\n",
              "      <th>first_name</th>\n",
              "      <td>0</td>\n",
              "      <td>0.00</td>\n",
              "    </tr>\n",
              "    <tr>\n",
              "      <th>last_name</th>\n",
              "      <td>0</td>\n",
              "      <td>0.00</td>\n",
              "    </tr>\n",
              "    <tr>\n",
              "      <th>reg_date</th>\n",
              "      <td>0</td>\n",
              "      <td>0.00</td>\n",
              "    </tr>\n",
              "    <tr>\n",
              "      <th>tariff</th>\n",
              "      <td>0</td>\n",
              "      <td>0.00</td>\n",
              "    </tr>\n",
              "  </tbody>\n",
              "</table>\n",
              "</div>\n",
              "      <button class=\"colab-df-convert\" onclick=\"convertToInteractive('df-0558ae49-7885-4a88-ae4f-14461fb3bb14')\"\n",
              "              title=\"Convert this dataframe to an interactive table.\"\n",
              "              style=\"display:none;\">\n",
              "        \n",
              "  <svg xmlns=\"http://www.w3.org/2000/svg\" height=\"24px\"viewBox=\"0 0 24 24\"\n",
              "       width=\"24px\">\n",
              "    <path d=\"M0 0h24v24H0V0z\" fill=\"none\"/>\n",
              "    <path d=\"M18.56 5.44l.94 2.06.94-2.06 2.06-.94-2.06-.94-.94-2.06-.94 2.06-2.06.94zm-11 1L8.5 8.5l.94-2.06 2.06-.94-2.06-.94L8.5 2.5l-.94 2.06-2.06.94zm10 10l.94 2.06.94-2.06 2.06-.94-2.06-.94-.94-2.06-.94 2.06-2.06.94z\"/><path d=\"M17.41 7.96l-1.37-1.37c-.4-.4-.92-.59-1.43-.59-.52 0-1.04.2-1.43.59L10.3 9.45l-7.72 7.72c-.78.78-.78 2.05 0 2.83L4 21.41c.39.39.9.59 1.41.59.51 0 1.02-.2 1.41-.59l7.78-7.78 2.81-2.81c.8-.78.8-2.07 0-2.86zM5.41 20L4 18.59l7.72-7.72 1.47 1.35L5.41 20z\"/>\n",
              "  </svg>\n",
              "      </button>\n",
              "      \n",
              "  <style>\n",
              "    .colab-df-container {\n",
              "      display:flex;\n",
              "      flex-wrap:wrap;\n",
              "      gap: 12px;\n",
              "    }\n",
              "\n",
              "    .colab-df-convert {\n",
              "      background-color: #E8F0FE;\n",
              "      border: none;\n",
              "      border-radius: 50%;\n",
              "      cursor: pointer;\n",
              "      display: none;\n",
              "      fill: #1967D2;\n",
              "      height: 32px;\n",
              "      padding: 0 0 0 0;\n",
              "      width: 32px;\n",
              "    }\n",
              "\n",
              "    .colab-df-convert:hover {\n",
              "      background-color: #E2EBFA;\n",
              "      box-shadow: 0px 1px 2px rgba(60, 64, 67, 0.3), 0px 1px 3px 1px rgba(60, 64, 67, 0.15);\n",
              "      fill: #174EA6;\n",
              "    }\n",
              "\n",
              "    [theme=dark] .colab-df-convert {\n",
              "      background-color: #3B4455;\n",
              "      fill: #D2E3FC;\n",
              "    }\n",
              "\n",
              "    [theme=dark] .colab-df-convert:hover {\n",
              "      background-color: #434B5C;\n",
              "      box-shadow: 0px 1px 3px 1px rgba(0, 0, 0, 0.15);\n",
              "      filter: drop-shadow(0px 1px 2px rgba(0, 0, 0, 0.3));\n",
              "      fill: #FFFFFF;\n",
              "    }\n",
              "  </style>\n",
              "\n",
              "      <script>\n",
              "        const buttonEl =\n",
              "          document.querySelector('#df-0558ae49-7885-4a88-ae4f-14461fb3bb14 button.colab-df-convert');\n",
              "        buttonEl.style.display =\n",
              "          google.colab.kernel.accessAllowed ? 'block' : 'none';\n",
              "\n",
              "        async function convertToInteractive(key) {\n",
              "          const element = document.querySelector('#df-0558ae49-7885-4a88-ae4f-14461fb3bb14');\n",
              "          const dataTable =\n",
              "            await google.colab.kernel.invokeFunction('convertToInteractive',\n",
              "                                                     [key], {});\n",
              "          if (!dataTable) return;\n",
              "\n",
              "          const docLinkHtml = 'Like what you see? Visit the ' +\n",
              "            '<a target=\"_blank\" href=https://colab.research.google.com/notebooks/data_table.ipynb>data table notebook</a>'\n",
              "            + ' to learn more about interactive tables.';\n",
              "          element.innerHTML = '';\n",
              "          dataTable['output_type'] = 'display_data';\n",
              "          await google.colab.output.renderOutput(dataTable, element);\n",
              "          const docLink = document.createElement('div');\n",
              "          docLink.innerHTML = docLinkHtml;\n",
              "          element.appendChild(docLink);\n",
              "        }\n",
              "      </script>\n",
              "    </div>\n",
              "  </div>\n",
              "  "
            ]
          },
          "metadata": {},
          "execution_count": 13
        }
      ],
      "source": [
        "report = user_data.isna().sum().to_frame()\n",
        "report = report.rename(columns={0: 'missing_values'})\n",
        "report['% of total'] = (report['missing_values'] / user_data.shape[0]).round(2)\n",
        "report.sort_values(by='missing_values', ascending=False)"
      ]
    },
    {
      "cell_type": "code",
      "execution_count": 14,
      "metadata": {
        "id": "1TkfdrWObO9X"
      },
      "outputs": [],
      "source": [
        "user_data['reg_date'] = pd.to_datetime(user_data['reg_date'], format='%Y-%m-%d')"
      ]
    },
    {
      "cell_type": "markdown",
      "metadata": {
        "id": "_V7ItiSfbO9Y"
      },
      "source": [
        "Переведем столбец месяца подключения в удобный для нас формат."
      ]
    },
    {
      "cell_type": "code",
      "execution_count": 15,
      "metadata": {
        "scrolled": true,
        "id": "pEJaFBEebO9Y",
        "outputId": "ede402ab-bbe9-4082-c19e-02fa1419b3e4",
        "colab": {
          "base_uri": "https://localhost:8080/"
        }
      },
      "outputs": [
        {
          "output_type": "execute_result",
          "data": {
            "text/plain": [
              "smart    351\n",
              "ultra    149\n",
              "Name: tariff, dtype: int64"
            ]
          },
          "metadata": {},
          "execution_count": 15
        }
      ],
      "source": [
        "user_data['tariff'].value_counts()"
      ]
    },
    {
      "cell_type": "code",
      "execution_count": 16,
      "metadata": {
        "id": "ZDyAvOfUbO9Y"
      },
      "outputs": [],
      "source": [
        "user_data['churn_date'] = pd.to_datetime(user_data['churn_date'], format='%Y-%m-%d')"
      ]
    },
    {
      "cell_type": "code",
      "execution_count": 17,
      "metadata": {
        "id": "BaxlYGxCbO9Z"
      },
      "outputs": [],
      "source": [
        "user_data['city'] = user_data['city'].str.lower()\n",
        "user_data['first_name'] = user_data['first_name'].str.lower()\n",
        "user_data['last_name'] = user_data['last_name'].str.lower()"
      ]
    },
    {
      "cell_type": "markdown",
      "metadata": {
        "id": "puepAJZTbO9Z"
      },
      "source": [
        "Переведем столбец месяца отключения (те, данный, которые у нас есть) в удобный для нас формат. Также, переведем столбцы с названием городов и ФИО к нижнему регистру."
      ]
    },
    {
      "cell_type": "markdown",
      "metadata": {
        "id": "7D4aWRNSbO9Z"
      },
      "source": [
        "Рассмотрим таблицу со звонками. Перед тем как начать менять данные необходимо импорировать необходимые для исследования библитотеки (для строительства гистограмм, округления, графиков и т.д.)"
      ]
    },
    {
      "cell_type": "markdown",
      "metadata": {
        "id": "4kwJiMQXbO9a"
      },
      "source": [
        "Будет неоходимо перевести данные в колонке 'user_id' к типу данных \"int\".\n",
        "В будущем нам будет необходимо рассмотреть данные по месяцам, поэтому мы будем использовать их названия, для того, чтобы заказчику было удобнее понимать все наши вычисления"
      ]
    },
    {
      "cell_type": "code",
      "execution_count": 18,
      "metadata": {
        "scrolled": true,
        "id": "I2iFzgQsbO9a",
        "outputId": "4b37d2aa-6c3f-44a3-e751-133794ebd4cf",
        "colab": {
          "base_uri": "https://localhost:8080/",
          "height": 363
        }
      },
      "outputs": [
        {
          "output_type": "execute_result",
          "data": {
            "text/plain": [
              "             id  call_date  duration  user_id month_name\n",
              "128067  1329147 2018-10-31      0.00     1329    October\n",
              "159440  1393692 2018-06-24      9.90     1393       June\n",
              "70076   1175225 2018-12-21      1.30     1175   December\n",
              "131182   133671 2018-12-31      0.00     1336   December\n",
              "82426   1204309 2018-02-24     10.84     1204   February\n",
              "202031   149725 2018-12-29      5.67     1497   December\n",
              "18642    105131 2018-09-29     10.67     1051  September\n",
              "19267   1052416 2018-11-12      0.00     1052   November\n",
              "116196  1299288 2018-06-24      9.11     1299       June\n",
              "103502  1265164 2018-09-01      5.93     1265  September"
            ],
            "text/html": [
              "\n",
              "  <div id=\"df-80c1b300-90f8-4a80-8c6c-e4d0f144bb82\">\n",
              "    <div class=\"colab-df-container\">\n",
              "      <div>\n",
              "<style scoped>\n",
              "    .dataframe tbody tr th:only-of-type {\n",
              "        vertical-align: middle;\n",
              "    }\n",
              "\n",
              "    .dataframe tbody tr th {\n",
              "        vertical-align: top;\n",
              "    }\n",
              "\n",
              "    .dataframe thead th {\n",
              "        text-align: right;\n",
              "    }\n",
              "</style>\n",
              "<table border=\"1\" class=\"dataframe\">\n",
              "  <thead>\n",
              "    <tr style=\"text-align: right;\">\n",
              "      <th></th>\n",
              "      <th>id</th>\n",
              "      <th>call_date</th>\n",
              "      <th>duration</th>\n",
              "      <th>user_id</th>\n",
              "      <th>month_name</th>\n",
              "    </tr>\n",
              "  </thead>\n",
              "  <tbody>\n",
              "    <tr>\n",
              "      <th>128067</th>\n",
              "      <td>1329147</td>\n",
              "      <td>2018-10-31</td>\n",
              "      <td>0.00</td>\n",
              "      <td>1329</td>\n",
              "      <td>October</td>\n",
              "    </tr>\n",
              "    <tr>\n",
              "      <th>159440</th>\n",
              "      <td>1393692</td>\n",
              "      <td>2018-06-24</td>\n",
              "      <td>9.90</td>\n",
              "      <td>1393</td>\n",
              "      <td>June</td>\n",
              "    </tr>\n",
              "    <tr>\n",
              "      <th>70076</th>\n",
              "      <td>1175225</td>\n",
              "      <td>2018-12-21</td>\n",
              "      <td>1.30</td>\n",
              "      <td>1175</td>\n",
              "      <td>December</td>\n",
              "    </tr>\n",
              "    <tr>\n",
              "      <th>131182</th>\n",
              "      <td>133671</td>\n",
              "      <td>2018-12-31</td>\n",
              "      <td>0.00</td>\n",
              "      <td>1336</td>\n",
              "      <td>December</td>\n",
              "    </tr>\n",
              "    <tr>\n",
              "      <th>82426</th>\n",
              "      <td>1204309</td>\n",
              "      <td>2018-02-24</td>\n",
              "      <td>10.84</td>\n",
              "      <td>1204</td>\n",
              "      <td>February</td>\n",
              "    </tr>\n",
              "    <tr>\n",
              "      <th>202031</th>\n",
              "      <td>149725</td>\n",
              "      <td>2018-12-29</td>\n",
              "      <td>5.67</td>\n",
              "      <td>1497</td>\n",
              "      <td>December</td>\n",
              "    </tr>\n",
              "    <tr>\n",
              "      <th>18642</th>\n",
              "      <td>105131</td>\n",
              "      <td>2018-09-29</td>\n",
              "      <td>10.67</td>\n",
              "      <td>1051</td>\n",
              "      <td>September</td>\n",
              "    </tr>\n",
              "    <tr>\n",
              "      <th>19267</th>\n",
              "      <td>1052416</td>\n",
              "      <td>2018-11-12</td>\n",
              "      <td>0.00</td>\n",
              "      <td>1052</td>\n",
              "      <td>November</td>\n",
              "    </tr>\n",
              "    <tr>\n",
              "      <th>116196</th>\n",
              "      <td>1299288</td>\n",
              "      <td>2018-06-24</td>\n",
              "      <td>9.11</td>\n",
              "      <td>1299</td>\n",
              "      <td>June</td>\n",
              "    </tr>\n",
              "    <tr>\n",
              "      <th>103502</th>\n",
              "      <td>1265164</td>\n",
              "      <td>2018-09-01</td>\n",
              "      <td>5.93</td>\n",
              "      <td>1265</td>\n",
              "      <td>September</td>\n",
              "    </tr>\n",
              "  </tbody>\n",
              "</table>\n",
              "</div>\n",
              "      <button class=\"colab-df-convert\" onclick=\"convertToInteractive('df-80c1b300-90f8-4a80-8c6c-e4d0f144bb82')\"\n",
              "              title=\"Convert this dataframe to an interactive table.\"\n",
              "              style=\"display:none;\">\n",
              "        \n",
              "  <svg xmlns=\"http://www.w3.org/2000/svg\" height=\"24px\"viewBox=\"0 0 24 24\"\n",
              "       width=\"24px\">\n",
              "    <path d=\"M0 0h24v24H0V0z\" fill=\"none\"/>\n",
              "    <path d=\"M18.56 5.44l.94 2.06.94-2.06 2.06-.94-2.06-.94-.94-2.06-.94 2.06-2.06.94zm-11 1L8.5 8.5l.94-2.06 2.06-.94-2.06-.94L8.5 2.5l-.94 2.06-2.06.94zm10 10l.94 2.06.94-2.06 2.06-.94-2.06-.94-.94-2.06-.94 2.06-2.06.94z\"/><path d=\"M17.41 7.96l-1.37-1.37c-.4-.4-.92-.59-1.43-.59-.52 0-1.04.2-1.43.59L10.3 9.45l-7.72 7.72c-.78.78-.78 2.05 0 2.83L4 21.41c.39.39.9.59 1.41.59.51 0 1.02-.2 1.41-.59l7.78-7.78 2.81-2.81c.8-.78.8-2.07 0-2.86zM5.41 20L4 18.59l7.72-7.72 1.47 1.35L5.41 20z\"/>\n",
              "  </svg>\n",
              "      </button>\n",
              "      \n",
              "  <style>\n",
              "    .colab-df-container {\n",
              "      display:flex;\n",
              "      flex-wrap:wrap;\n",
              "      gap: 12px;\n",
              "    }\n",
              "\n",
              "    .colab-df-convert {\n",
              "      background-color: #E8F0FE;\n",
              "      border: none;\n",
              "      border-radius: 50%;\n",
              "      cursor: pointer;\n",
              "      display: none;\n",
              "      fill: #1967D2;\n",
              "      height: 32px;\n",
              "      padding: 0 0 0 0;\n",
              "      width: 32px;\n",
              "    }\n",
              "\n",
              "    .colab-df-convert:hover {\n",
              "      background-color: #E2EBFA;\n",
              "      box-shadow: 0px 1px 2px rgba(60, 64, 67, 0.3), 0px 1px 3px 1px rgba(60, 64, 67, 0.15);\n",
              "      fill: #174EA6;\n",
              "    }\n",
              "\n",
              "    [theme=dark] .colab-df-convert {\n",
              "      background-color: #3B4455;\n",
              "      fill: #D2E3FC;\n",
              "    }\n",
              "\n",
              "    [theme=dark] .colab-df-convert:hover {\n",
              "      background-color: #434B5C;\n",
              "      box-shadow: 0px 1px 3px 1px rgba(0, 0, 0, 0.15);\n",
              "      filter: drop-shadow(0px 1px 2px rgba(0, 0, 0, 0.3));\n",
              "      fill: #FFFFFF;\n",
              "    }\n",
              "  </style>\n",
              "\n",
              "      <script>\n",
              "        const buttonEl =\n",
              "          document.querySelector('#df-80c1b300-90f8-4a80-8c6c-e4d0f144bb82 button.colab-df-convert');\n",
              "        buttonEl.style.display =\n",
              "          google.colab.kernel.accessAllowed ? 'block' : 'none';\n",
              "\n",
              "        async function convertToInteractive(key) {\n",
              "          const element = document.querySelector('#df-80c1b300-90f8-4a80-8c6c-e4d0f144bb82');\n",
              "          const dataTable =\n",
              "            await google.colab.kernel.invokeFunction('convertToInteractive',\n",
              "                                                     [key], {});\n",
              "          if (!dataTable) return;\n",
              "\n",
              "          const docLinkHtml = 'Like what you see? Visit the ' +\n",
              "            '<a target=\"_blank\" href=https://colab.research.google.com/notebooks/data_table.ipynb>data table notebook</a>'\n",
              "            + ' to learn more about interactive tables.';\n",
              "          element.innerHTML = '';\n",
              "          dataTable['output_type'] = 'display_data';\n",
              "          await google.colab.output.renderOutput(dataTable, element);\n",
              "          const docLink = document.createElement('div');\n",
              "          docLink.innerHTML = docLinkHtml;\n",
              "          element.appendChild(docLink);\n",
              "        }\n",
              "      </script>\n",
              "    </div>\n",
              "  </div>\n",
              "  "
            ]
          },
          "metadata": {},
          "execution_count": 18
        }
      ],
      "source": [
        "call_data['call_date'] = pd.to_datetime(call_data['call_date'], format='%Y-%m-%d')\n",
        "call_data['id'] = call_data['id'].astype(int)\n",
        "call_data['month_name'] = pd.DatetimeIndex(call_data['call_date']).month_name()\n",
        "call_data.sample(10)"
      ]
    },
    {
      "cell_type": "markdown",
      "metadata": {
        "id": "8XsiMWqAbO9b"
      },
      "source": [
        "Построим график и посмотрим, какая длительность звонков является самой распространенной.\n",
        "Также мы должны помнить, что «Мегалайн» всегда округляет вверх значения минут и мегабайтов. Если пользователь проговорил всего 1 секунду, в тарифе засчитывается целая минута. Округляем длительность в большую сторону."
      ]
    },
    {
      "cell_type": "code",
      "execution_count": 87,
      "metadata": {
        "scrolled": false,
        "id": "-VSMmCFEbO9b",
        "outputId": "3de97f09-7495-442c-ae9b-8963251a6c7c",
        "colab": {
          "base_uri": "https://localhost:8080/",
          "height": 608
        }
      },
      "outputs": [
        {
          "output_type": "display_data",
          "data": {
            "text/plain": [
              "<Figure size 1440x720 with 1 Axes>"
            ],
            "image/png": "[encoded data removed]"
          },
          "metadata": {
            "needs_background": "light"
          }
        }
      ],
      "source": [
        "call_data['duration'] = call_data['duration'].apply(np.ceil)\n",
        "call_data['duration'] = call_data['duration'].astype(int)\n",
        "call_data.groupby('duration')['duration'].count().plot(\n",
        "                                                      x='duration',y='count', \n",
        "                                                      kind='bar', \n",
        "                                                      figsize = (20,10)\n",
        "                                                      )\n",
        "plt.show()"
      ]
    },
    {
      "cell_type": "code",
      "execution_count": 20,
      "metadata": {
        "scrolled": true,
        "id": "o-LywEQObO9c",
        "outputId": "ac98abea-58f3-4bb4-99cf-5014eaf9dea4",
        "colab": {
          "base_uri": "https://localhost:8080/",
          "height": 354
        }
      },
      "outputs": [
        {
          "output_type": "display_data",
          "data": {
            "text/plain": [
              "<Figure size 960x400 with 1 Axes>"
            ],
            "image/png": "[encoded data removed]"
          },
          "metadata": {
            "needs_background": "light"
          }
        }
      ],
      "source": [
        "figure(figsize=(12, 5), dpi=80)\n",
        "call_data['duration'].hist(bins=37);"
      ]
    },
    {
      "cell_type": "markdown",
      "metadata": {
        "id": "LXrGFsVUbO9d"
      },
      "source": [
        "Из графика мы видим, что огромное количество звонков - \"нулевые\". Однако нет смысла избавляться от данных значений. В тарифах учитывается показатель не общее количество звонков, а общее количество минут которое пользователь потратил за месяц. Клиент тарифа Смарт, совершивший 400 звонков с длительностью 0 минут будет платить столько же, сколько клиент, который совершил 1 звонок и говорил 400 минут."
      ]
    },
    {
      "cell_type": "markdown",
      "metadata": {
        "id": "ser9QniXbO9d"
      },
      "source": [
        "Теперь рассмотрим таблицу, показывающую использование интернета. Выше мы увидели, что пропущенных данных нет. Основная задача - избавится от лишнего столбца, который дублирует индексы, и создать столбец с наименованием месяца."
      ]
    },
    {
      "cell_type": "code",
      "execution_count": 21,
      "metadata": {
        "id": "MbID8rSZbO9d",
        "outputId": "c22a87b8-bfe7-4fc0-d293-c8c1cae07014",
        "colab": {
          "base_uri": "https://localhost:8080/",
          "height": 206
        }
      },
      "outputs": [
        {
          "output_type": "execute_result",
          "data": {
            "text/plain": [
              "   Unnamed: 0      id  mb_used session_date  user_id\n",
              "0           0  1000_0   112.95   2018-11-25     1000\n",
              "1           1  1000_1  1052.81   2018-09-07     1000\n",
              "2           2  1000_2  1197.26   2018-06-25     1000\n",
              "3           3  1000_3   550.27   2018-08-22     1000\n",
              "4           4  1000_4   302.56   2018-09-24     1000"
            ],
            "text/html": [
              "\n",
              "  <div id=\"df-9243b772-1da9-4dc5-83cc-f0978e78d231\">\n",
              "    <div class=\"colab-df-container\">\n",
              "      <div>\n",
              "<style scoped>\n",
              "    .dataframe tbody tr th:only-of-type {\n",
              "        vertical-align: middle;\n",
              "    }\n",
              "\n",
              "    .dataframe tbody tr th {\n",
              "        vertical-align: top;\n",
              "    }\n",
              "\n",
              "    .dataframe thead th {\n",
              "        text-align: right;\n",
              "    }\n",
              "</style>\n",
              "<table border=\"1\" class=\"dataframe\">\n",
              "  <thead>\n",
              "    <tr style=\"text-align: right;\">\n",
              "      <th></th>\n",
              "      <th>Unnamed: 0</th>\n",
              "      <th>id</th>\n",
              "      <th>mb_used</th>\n",
              "      <th>session_date</th>\n",
              "      <th>user_id</th>\n",
              "    </tr>\n",
              "  </thead>\n",
              "  <tbody>\n",
              "    <tr>\n",
              "      <th>0</th>\n",
              "      <td>0</td>\n",
              "      <td>1000_0</td>\n",
              "      <td>112.95</td>\n",
              "      <td>2018-11-25</td>\n",
              "      <td>1000</td>\n",
              "    </tr>\n",
              "    <tr>\n",
              "      <th>1</th>\n",
              "      <td>1</td>\n",
              "      <td>1000_1</td>\n",
              "      <td>1052.81</td>\n",
              "      <td>2018-09-07</td>\n",
              "      <td>1000</td>\n",
              "    </tr>\n",
              "    <tr>\n",
              "      <th>2</th>\n",
              "      <td>2</td>\n",
              "      <td>1000_2</td>\n",
              "      <td>1197.26</td>\n",
              "      <td>2018-06-25</td>\n",
              "      <td>1000</td>\n",
              "    </tr>\n",
              "    <tr>\n",
              "      <th>3</th>\n",
              "      <td>3</td>\n",
              "      <td>1000_3</td>\n",
              "      <td>550.27</td>\n",
              "      <td>2018-08-22</td>\n",
              "      <td>1000</td>\n",
              "    </tr>\n",
              "    <tr>\n",
              "      <th>4</th>\n",
              "      <td>4</td>\n",
              "      <td>1000_4</td>\n",
              "      <td>302.56</td>\n",
              "      <td>2018-09-24</td>\n",
              "      <td>1000</td>\n",
              "    </tr>\n",
              "  </tbody>\n",
              "</table>\n",
              "</div>\n",
              "      <button class=\"colab-df-convert\" onclick=\"convertToInteractive('df-9243b772-1da9-4dc5-83cc-f0978e78d231')\"\n",
              "              title=\"Convert this dataframe to an interactive table.\"\n",
              "              style=\"display:none;\">\n",
              "        \n",
              "  <svg xmlns=\"http://www.w3.org/2000/svg\" height=\"24px\"viewBox=\"0 0 24 24\"\n",
              "       width=\"24px\">\n",
              "    <path d=\"M0 0h24v24H0V0z\" fill=\"none\"/>\n",
              "    <path d=\"M18.56 5.44l.94 2.06.94-2.06 2.06-.94-2.06-.94-.94-2.06-.94 2.06-2.06.94zm-11 1L8.5 8.5l.94-2.06 2.06-.94-2.06-.94L8.5 2.5l-.94 2.06-2.06.94zm10 10l.94 2.06.94-2.06 2.06-.94-2.06-.94-.94-2.06-.94 2.06-2.06.94z\"/><path d=\"M17.41 7.96l-1.37-1.37c-.4-.4-.92-.59-1.43-.59-.52 0-1.04.2-1.43.59L10.3 9.45l-7.72 7.72c-.78.78-.78 2.05 0 2.83L4 21.41c.39.39.9.59 1.41.59.51 0 1.02-.2 1.41-.59l7.78-7.78 2.81-2.81c.8-.78.8-2.07 0-2.86zM5.41 20L4 18.59l7.72-7.72 1.47 1.35L5.41 20z\"/>\n",
              "  </svg>\n",
              "      </button>\n",
              "      \n",
              "  <style>\n",
              "    .colab-df-container {\n",
              "      display:flex;\n",
              "      flex-wrap:wrap;\n",
              "      gap: 12px;\n",
              "    }\n",
              "\n",
              "    .colab-df-convert {\n",
              "      background-color: #E8F0FE;\n",
              "      border: none;\n",
              "      border-radius: 50%;\n",
              "      cursor: pointer;\n",
              "      display: none;\n",
              "      fill: #1967D2;\n",
              "      height: 32px;\n",
              "      padding: 0 0 0 0;\n",
              "      width: 32px;\n",
              "    }\n",
              "\n",
              "    .colab-df-convert:hover {\n",
              "      background-color: #E2EBFA;\n",
              "      box-shadow: 0px 1px 2px rgba(60, 64, 67, 0.3), 0px 1px 3px 1px rgba(60, 64, 67, 0.15);\n",
              "      fill: #174EA6;\n",
              "    }\n",
              "\n",
              "    [theme=dark] .colab-df-convert {\n",
              "      background-color: #3B4455;\n",
              "      fill: #D2E3FC;\n",
              "    }\n",
              "\n",
              "    [theme=dark] .colab-df-convert:hover {\n",
              "      background-color: #434B5C;\n",
              "      box-shadow: 0px 1px 3px 1px rgba(0, 0, 0, 0.15);\n",
              "      filter: drop-shadow(0px 1px 2px rgba(0, 0, 0, 0.3));\n",
              "      fill: #FFFFFF;\n",
              "    }\n",
              "  </style>\n",
              "\n",
              "      <script>\n",
              "        const buttonEl =\n",
              "          document.querySelector('#df-9243b772-1da9-4dc5-83cc-f0978e78d231 button.colab-df-convert');\n",
              "        buttonEl.style.display =\n",
              "          google.colab.kernel.accessAllowed ? 'block' : 'none';\n",
              "\n",
              "        async function convertToInteractive(key) {\n",
              "          const element = document.querySelector('#df-9243b772-1da9-4dc5-83cc-f0978e78d231');\n",
              "          const dataTable =\n",
              "            await google.colab.kernel.invokeFunction('convertToInteractive',\n",
              "                                                     [key], {});\n",
              "          if (!dataTable) return;\n",
              "\n",
              "          const docLinkHtml = 'Like what you see? Visit the ' +\n",
              "            '<a target=\"_blank\" href=https://colab.research.google.com/notebooks/data_table.ipynb>data table notebook</a>'\n",
              "            + ' to learn more about interactive tables.';\n",
              "          element.innerHTML = '';\n",
              "          dataTable['output_type'] = 'display_data';\n",
              "          await google.colab.output.renderOutput(dataTable, element);\n",
              "          const docLink = document.createElement('div');\n",
              "          docLink.innerHTML = docLinkHtml;\n",
              "          element.appendChild(docLink);\n",
              "        }\n",
              "      </script>\n",
              "    </div>\n",
              "  </div>\n",
              "  "
            ]
          },
          "metadata": {},
          "execution_count": 21
        }
      ],
      "source": [
        "inet_data.head(5)"
      ]
    },
    {
      "cell_type": "code",
      "execution_count": 22,
      "metadata": {
        "id": "Yt0gNP0fbO9e"
      },
      "outputs": [],
      "source": [
        "inet_data['session_date'] = pd.to_datetime(inet_data['session_date'], format='%Y-%m-%d')"
      ]
    },
    {
      "cell_type": "code",
      "execution_count": 23,
      "metadata": {
        "id": "NRf3gDOubO9e"
      },
      "outputs": [],
      "source": [
        "inet_data = inet_data.drop(['Unnamed: 0'], axis=1)\n",
        "inet_data['id'] = inet_data['id'].astype(int)\n",
        "inet_data['month_name'] = pd.DatetimeIndex(inet_data['session_date']).month_name()\n",
        "inet_data['mb_used'] = inet_data['mb_used'].apply(np.ceil)\n",
        "inet_data['mb_used'] = inet_data['mb_used'].astype(int)"
      ]
    },
    {
      "cell_type": "code",
      "execution_count": 24,
      "metadata": {
        "id": "4EhzlbwAbO9e",
        "outputId": "1b79103b-0407-49f6-ca86-85f9f5cdd09a",
        "colab": {
          "base_uri": "https://localhost:8080/",
          "height": 206
        }
      },
      "outputs": [
        {
          "output_type": "execute_result",
          "data": {
            "text/plain": [
              "       id message_date  user_id\n",
              "0  1000_0   2018-06-27     1000\n",
              "1  1000_1   2018-10-08     1000\n",
              "2  1000_2   2018-08-04     1000\n",
              "3  1000_3   2018-06-16     1000\n",
              "4  1000_4   2018-12-05     1000"
            ],
            "text/html": [
              "\n",
              "  <div id=\"df-eb96d329-8c63-41ee-bf9f-83f1bb386fa6\">\n",
              "    <div class=\"colab-df-container\">\n",
              "      <div>\n",
              "<style scoped>\n",
              "    .dataframe tbody tr th:only-of-type {\n",
              "        vertical-align: middle;\n",
              "    }\n",
              "\n",
              "    .dataframe tbody tr th {\n",
              "        vertical-align: top;\n",
              "    }\n",
              "\n",
              "    .dataframe thead th {\n",
              "        text-align: right;\n",
              "    }\n",
              "</style>\n",
              "<table border=\"1\" class=\"dataframe\">\n",
              "  <thead>\n",
              "    <tr style=\"text-align: right;\">\n",
              "      <th></th>\n",
              "      <th>id</th>\n",
              "      <th>message_date</th>\n",
              "      <th>user_id</th>\n",
              "    </tr>\n",
              "  </thead>\n",
              "  <tbody>\n",
              "    <tr>\n",
              "      <th>0</th>\n",
              "      <td>1000_0</td>\n",
              "      <td>2018-06-27</td>\n",
              "      <td>1000</td>\n",
              "    </tr>\n",
              "    <tr>\n",
              "      <th>1</th>\n",
              "      <td>1000_1</td>\n",
              "      <td>2018-10-08</td>\n",
              "      <td>1000</td>\n",
              "    </tr>\n",
              "    <tr>\n",
              "      <th>2</th>\n",
              "      <td>1000_2</td>\n",
              "      <td>2018-08-04</td>\n",
              "      <td>1000</td>\n",
              "    </tr>\n",
              "    <tr>\n",
              "      <th>3</th>\n",
              "      <td>1000_3</td>\n",
              "      <td>2018-06-16</td>\n",
              "      <td>1000</td>\n",
              "    </tr>\n",
              "    <tr>\n",
              "      <th>4</th>\n",
              "      <td>1000_4</td>\n",
              "      <td>2018-12-05</td>\n",
              "      <td>1000</td>\n",
              "    </tr>\n",
              "  </tbody>\n",
              "</table>\n",
              "</div>\n",
              "      <button class=\"colab-df-convert\" onclick=\"convertToInteractive('df-eb96d329-8c63-41ee-bf9f-83f1bb386fa6')\"\n",
              "              title=\"Convert this dataframe to an interactive table.\"\n",
              "              style=\"display:none;\">\n",
              "        \n",
              "  <svg xmlns=\"http://www.w3.org/2000/svg\" height=\"24px\"viewBox=\"0 0 24 24\"\n",
              "       width=\"24px\">\n",
              "    <path d=\"M0 0h24v24H0V0z\" fill=\"none\"/>\n",
              "    <path d=\"M18.56 5.44l.94 2.06.94-2.06 2.06-.94-2.06-.94-.94-2.06-.94 2.06-2.06.94zm-11 1L8.5 8.5l.94-2.06 2.06-.94-2.06-.94L8.5 2.5l-.94 2.06-2.06.94zm10 10l.94 2.06.94-2.06 2.06-.94-2.06-.94-.94-2.06-.94 2.06-2.06.94z\"/><path d=\"M17.41 7.96l-1.37-1.37c-.4-.4-.92-.59-1.43-.59-.52 0-1.04.2-1.43.59L10.3 9.45l-7.72 7.72c-.78.78-.78 2.05 0 2.83L4 21.41c.39.39.9.59 1.41.59.51 0 1.02-.2 1.41-.59l7.78-7.78 2.81-2.81c.8-.78.8-2.07 0-2.86zM5.41 20L4 18.59l7.72-7.72 1.47 1.35L5.41 20z\"/>\n",
              "  </svg>\n",
              "      </button>\n",
              "      \n",
              "  <style>\n",
              "    .colab-df-container {\n",
              "      display:flex;\n",
              "      flex-wrap:wrap;\n",
              "      gap: 12px;\n",
              "    }\n",
              "\n",
              "    .colab-df-convert {\n",
              "      background-color: #E8F0FE;\n",
              "      border: none;\n",
              "      border-radius: 50%;\n",
              "      cursor: pointer;\n",
              "      display: none;\n",
              "      fill: #1967D2;\n",
              "      height: 32px;\n",
              "      padding: 0 0 0 0;\n",
              "      width: 32px;\n",
              "    }\n",
              "\n",
              "    .colab-df-convert:hover {\n",
              "      background-color: #E2EBFA;\n",
              "      box-shadow: 0px 1px 2px rgba(60, 64, 67, 0.3), 0px 1px 3px 1px rgba(60, 64, 67, 0.15);\n",
              "      fill: #174EA6;\n",
              "    }\n",
              "\n",
              "    [theme=dark] .colab-df-convert {\n",
              "      background-color: #3B4455;\n",
              "      fill: #D2E3FC;\n",
              "    }\n",
              "\n",
              "    [theme=dark] .colab-df-convert:hover {\n",
              "      background-color: #434B5C;\n",
              "      box-shadow: 0px 1px 3px 1px rgba(0, 0, 0, 0.15);\n",
              "      filter: drop-shadow(0px 1px 2px rgba(0, 0, 0, 0.3));\n",
              "      fill: #FFFFFF;\n",
              "    }\n",
              "  </style>\n",
              "\n",
              "      <script>\n",
              "        const buttonEl =\n",
              "          document.querySelector('#df-eb96d329-8c63-41ee-bf9f-83f1bb386fa6 button.colab-df-convert');\n",
              "        buttonEl.style.display =\n",
              "          google.colab.kernel.accessAllowed ? 'block' : 'none';\n",
              "\n",
              "        async function convertToInteractive(key) {\n",
              "          const element = document.querySelector('#df-eb96d329-8c63-41ee-bf9f-83f1bb386fa6');\n",
              "          const dataTable =\n",
              "            await google.colab.kernel.invokeFunction('convertToInteractive',\n",
              "                                                     [key], {});\n",
              "          if (!dataTable) return;\n",
              "\n",
              "          const docLinkHtml = 'Like what you see? Visit the ' +\n",
              "            '<a target=\"_blank\" href=https://colab.research.google.com/notebooks/data_table.ipynb>data table notebook</a>'\n",
              "            + ' to learn more about interactive tables.';\n",
              "          element.innerHTML = '';\n",
              "          dataTable['output_type'] = 'display_data';\n",
              "          await google.colab.output.renderOutput(dataTable, element);\n",
              "          const docLink = document.createElement('div');\n",
              "          docLink.innerHTML = docLinkHtml;\n",
              "          element.appendChild(docLink);\n",
              "        }\n",
              "      </script>\n",
              "    </div>\n",
              "  </div>\n",
              "  "
            ]
          },
          "metadata": {},
          "execution_count": 24
        }
      ],
      "source": [
        "sms_data.head(5)"
      ]
    },
    {
      "cell_type": "code",
      "execution_count": 25,
      "metadata": {
        "id": "Kz4Mht8rbO9f"
      },
      "outputs": [],
      "source": [
        "sms_data['message_date'] = pd.to_datetime(sms_data['message_date'], format='%Y-%m-%d')"
      ]
    },
    {
      "cell_type": "code",
      "execution_count": 26,
      "metadata": {
        "id": "4rZcE6X_bO9f"
      },
      "outputs": [],
      "source": [
        "sms_data['id'] = sms_data['id'].astype(int)\n",
        "sms_data['month_name'] = pd.DatetimeIndex(sms_data['message_date']).month_name()"
      ]
    },
    {
      "cell_type": "markdown",
      "metadata": {
        "id": "6DH46toZbO9f"
      },
      "source": [
        "Создадим сводную 3 сводных таблицы для показателей \"звонки\", \"интернет\", \"смс\", где будем группировать по номеру пользователя и месяцам"
      ]
    },
    {
      "cell_type": "code",
      "execution_count": 27,
      "metadata": {
        "id": "xWaoNA6tbO9f"
      },
      "outputs": [],
      "source": [
        "inet_count = inet_data.pivot_table(\n",
        "    index=['month_name','user_id'], values=['mb_used'], aggfunc=['sum']\n",
        "    )"
      ]
    },
    {
      "cell_type": "code",
      "execution_count": 28,
      "metadata": {
        "scrolled": false,
        "id": "OGcvO6HkbO9g",
        "outputId": "8ce5223f-8ee6-4000-8b4a-49846e52a75c",
        "colab": {
          "base_uri": "https://localhost:8080/",
          "height": 486
        }
      },
      "outputs": [
        {
          "output_type": "execute_result",
          "data": {
            "text/plain": [
              "                       sum\n",
              "                   mb_used\n",
              "month_name user_id        \n",
              "April      1005       9365\n",
              "           1006      13954\n",
              "           1007       8031\n",
              "           1009      14730\n",
              "           1011      18099\n",
              "...                    ...\n",
              "September  1494      16986\n",
              "           1495      33105\n",
              "           1496      26970\n",
              "           1498      22166\n",
              "           1499       1848\n",
              "\n",
              "[3203 rows x 1 columns]"
            ],
            "text/html": [
              "\n",
              "  <div id=\"df-fabaa6a7-6a3d-435e-b9fb-378813ab7c73\">\n",
              "    <div class=\"colab-df-container\">\n",
              "      <div>\n",
              "<style scoped>\n",
              "    .dataframe tbody tr th:only-of-type {\n",
              "        vertical-align: middle;\n",
              "    }\n",
              "\n",
              "    .dataframe tbody tr th {\n",
              "        vertical-align: top;\n",
              "    }\n",
              "\n",
              "    .dataframe thead tr th {\n",
              "        text-align: left;\n",
              "    }\n",
              "\n",
              "    .dataframe thead tr:last-of-type th {\n",
              "        text-align: right;\n",
              "    }\n",
              "</style>\n",
              "<table border=\"1\" class=\"dataframe\">\n",
              "  <thead>\n",
              "    <tr>\n",
              "      <th></th>\n",
              "      <th></th>\n",
              "      <th>sum</th>\n",
              "    </tr>\n",
              "    <tr>\n",
              "      <th></th>\n",
              "      <th></th>\n",
              "      <th>mb_used</th>\n",
              "    </tr>\n",
              "    <tr>\n",
              "      <th>month_name</th>\n",
              "      <th>user_id</th>\n",
              "      <th></th>\n",
              "    </tr>\n",
              "  </thead>\n",
              "  <tbody>\n",
              "    <tr>\n",
              "      <th rowspan=\"5\" valign=\"top\">April</th>\n",
              "      <th>1005</th>\n",
              "      <td>9365</td>\n",
              "    </tr>\n",
              "    <tr>\n",
              "      <th>1006</th>\n",
              "      <td>13954</td>\n",
              "    </tr>\n",
              "    <tr>\n",
              "      <th>1007</th>\n",
              "      <td>8031</td>\n",
              "    </tr>\n",
              "    <tr>\n",
              "      <th>1009</th>\n",
              "      <td>14730</td>\n",
              "    </tr>\n",
              "    <tr>\n",
              "      <th>1011</th>\n",
              "      <td>18099</td>\n",
              "    </tr>\n",
              "    <tr>\n",
              "      <th>...</th>\n",
              "      <th>...</th>\n",
              "      <td>...</td>\n",
              "    </tr>\n",
              "    <tr>\n",
              "      <th rowspan=\"5\" valign=\"top\">September</th>\n",
              "      <th>1494</th>\n",
              "      <td>16986</td>\n",
              "    </tr>\n",
              "    <tr>\n",
              "      <th>1495</th>\n",
              "      <td>33105</td>\n",
              "    </tr>\n",
              "    <tr>\n",
              "      <th>1496</th>\n",
              "      <td>26970</td>\n",
              "    </tr>\n",
              "    <tr>\n",
              "      <th>1498</th>\n",
              "      <td>22166</td>\n",
              "    </tr>\n",
              "    <tr>\n",
              "      <th>1499</th>\n",
              "      <td>1848</td>\n",
              "    </tr>\n",
              "  </tbody>\n",
              "</table>\n",
              "<p>3203 rows × 1 columns</p>\n",
              "</div>\n",
              "      <button class=\"colab-df-convert\" onclick=\"convertToInteractive('df-fabaa6a7-6a3d-435e-b9fb-378813ab7c73')\"\n",
              "              title=\"Convert this dataframe to an interactive table.\"\n",
              "              style=\"display:none;\">\n",
              "        \n",
              "  <svg xmlns=\"http://www.w3.org/2000/svg\" height=\"24px\"viewBox=\"0 0 24 24\"\n",
              "       width=\"24px\">\n",
              "    <path d=\"M0 0h24v24H0V0z\" fill=\"none\"/>\n",
              "    <path d=\"M18.56 5.44l.94 2.06.94-2.06 2.06-.94-2.06-.94-.94-2.06-.94 2.06-2.06.94zm-11 1L8.5 8.5l.94-2.06 2.06-.94-2.06-.94L8.5 2.5l-.94 2.06-2.06.94zm10 10l.94 2.06.94-2.06 2.06-.94-2.06-.94-.94-2.06-.94 2.06-2.06.94z\"/><path d=\"M17.41 7.96l-1.37-1.37c-.4-.4-.92-.59-1.43-.59-.52 0-1.04.2-1.43.59L10.3 9.45l-7.72 7.72c-.78.78-.78 2.05 0 2.83L4 21.41c.39.39.9.59 1.41.59.51 0 1.02-.2 1.41-.59l7.78-7.78 2.81-2.81c.8-.78.8-2.07 0-2.86zM5.41 20L4 18.59l7.72-7.72 1.47 1.35L5.41 20z\"/>\n",
              "  </svg>\n",
              "      </button>\n",
              "      \n",
              "  <style>\n",
              "    .colab-df-container {\n",
              "      display:flex;\n",
              "      flex-wrap:wrap;\n",
              "      gap: 12px;\n",
              "    }\n",
              "\n",
              "    .colab-df-convert {\n",
              "      background-color: #E8F0FE;\n",
              "      border: none;\n",
              "      border-radius: 50%;\n",
              "      cursor: pointer;\n",
              "      display: none;\n",
              "      fill: #1967D2;\n",
              "      height: 32px;\n",
              "      padding: 0 0 0 0;\n",
              "      width: 32px;\n",
              "    }\n",
              "\n",
              "    .colab-df-convert:hover {\n",
              "      background-color: #E2EBFA;\n",
              "      box-shadow: 0px 1px 2px rgba(60, 64, 67, 0.3), 0px 1px 3px 1px rgba(60, 64, 67, 0.15);\n",
              "      fill: #174EA6;\n",
              "    }\n",
              "\n",
              "    [theme=dark] .colab-df-convert {\n",
              "      background-color: #3B4455;\n",
              "      fill: #D2E3FC;\n",
              "    }\n",
              "\n",
              "    [theme=dark] .colab-df-convert:hover {\n",
              "      background-color: #434B5C;\n",
              "      box-shadow: 0px 1px 3px 1px rgba(0, 0, 0, 0.15);\n",
              "      filter: drop-shadow(0px 1px 2px rgba(0, 0, 0, 0.3));\n",
              "      fill: #FFFFFF;\n",
              "    }\n",
              "  </style>\n",
              "\n",
              "      <script>\n",
              "        const buttonEl =\n",
              "          document.querySelector('#df-fabaa6a7-6a3d-435e-b9fb-378813ab7c73 button.colab-df-convert');\n",
              "        buttonEl.style.display =\n",
              "          google.colab.kernel.accessAllowed ? 'block' : 'none';\n",
              "\n",
              "        async function convertToInteractive(key) {\n",
              "          const element = document.querySelector('#df-fabaa6a7-6a3d-435e-b9fb-378813ab7c73');\n",
              "          const dataTable =\n",
              "            await google.colab.kernel.invokeFunction('convertToInteractive',\n",
              "                                                     [key], {});\n",
              "          if (!dataTable) return;\n",
              "\n",
              "          const docLinkHtml = 'Like what you see? Visit the ' +\n",
              "            '<a target=\"_blank\" href=https://colab.research.google.com/notebooks/data_table.ipynb>data table notebook</a>'\n",
              "            + ' to learn more about interactive tables.';\n",
              "          element.innerHTML = '';\n",
              "          dataTable['output_type'] = 'display_data';\n",
              "          await google.colab.output.renderOutput(dataTable, element);\n",
              "          const docLink = document.createElement('div');\n",
              "          docLink.innerHTML = docLinkHtml;\n",
              "          element.appendChild(docLink);\n",
              "        }\n",
              "      </script>\n",
              "    </div>\n",
              "  </div>\n",
              "  "
            ]
          },
          "metadata": {},
          "execution_count": 28
        }
      ],
      "source": [
        "inet_count"
      ]
    },
    {
      "cell_type": "code",
      "execution_count": 29,
      "metadata": {
        "id": "La36pc2GbO9g"
      },
      "outputs": [],
      "source": [
        "calls_count = call_data.pivot_table(\n",
        "    index = ['month_name', 'user_id'], values='duration', aggfunc=['sum','count']\n",
        "    )"
      ]
    },
    {
      "cell_type": "code",
      "execution_count": 30,
      "metadata": {
        "id": "_8NYfvu8bO9g"
      },
      "outputs": [],
      "source": [
        "sms_count = sms_data.pivot_table(\n",
        "    index=['month_name','user_id'], values='message_date', aggfunc=('count')\n",
        "    )"
      ]
    },
    {
      "cell_type": "markdown",
      "metadata": {
        "id": "HsVwphhcbO9h"
      },
      "source": [
        "Теперь будет необходимо объединить данные таблицы, используем для этого функцию merge(), объединяем по столбцам \"месяц\" и \"номер клиента\""
      ]
    },
    {
      "cell_type": "code",
      "execution_count": 31,
      "metadata": {
        "scrolled": true,
        "id": "i8yTK1dubO9h",
        "outputId": "5f4566c9-f9ef-4bf8-e834-a7eb7550a264",
        "colab": {
          "base_uri": "https://localhost:8080/"
        }
      },
      "outputs": [
        {
          "output_type": "stream",
          "name": "stderr",
          "text": [
            "/usr/local/lib/python3.7/dist-packages/pandas/core/frame.py:9203: FutureWarning: merging between different levels is deprecated and will be removed in a future version. (1 levels on the left,2 on the right)\n",
            "  validate=validate,\n"
          ]
        }
      ],
      "source": [
        "sms_call_count = sms_count.merge(\n",
        "    calls_count, on=['user_id', 'month_name'], how='outer'\n",
        "    ) "
      ]
    },
    {
      "cell_type": "code",
      "execution_count": 32,
      "metadata": {
        "id": "TDa5LxICbO9h"
      },
      "outputs": [],
      "source": [
        "sms_call_count.reset_index(inplace=True)"
      ]
    },
    {
      "cell_type": "markdown",
      "metadata": {
        "id": "BsT_KVhIbO9i"
      },
      "source": [
        "Использовал reset_index для сбрасывание индексов"
      ]
    },
    {
      "cell_type": "code",
      "execution_count": 33,
      "metadata": {
        "scrolled": false,
        "id": "NYKR-nQabO9i",
        "outputId": "3e13e22f-0021-4770-94fd-e3320edf8332",
        "colab": {
          "base_uri": "https://localhost:8080/"
        }
      },
      "outputs": [
        {
          "output_type": "stream",
          "name": "stdout",
          "text": [
            "<class 'pandas.core.frame.DataFrame'>\n",
            "Int64Index: 3214 entries, 0 to 3213\n",
            "Data columns (total 6 columns):\n",
            " #   Column             Non-Null Count  Dtype  \n",
            "---  ------             --------------  -----  \n",
            " 0   user_id            3214 non-null   int64  \n",
            " 1   month_name         3214 non-null   object \n",
            " 2   message_date       2717 non-null   float64\n",
            " 3   (sum, duration)    3174 non-null   float64\n",
            " 4   (count, duration)  3174 non-null   float64\n",
            " 5   (sum, mb_used)     3203 non-null   float64\n",
            "dtypes: float64(4), int64(1), object(1)\n",
            "memory usage: 175.8+ KB\n"
          ]
        },
        {
          "output_type": "stream",
          "name": "stderr",
          "text": [
            "/usr/local/lib/python3.7/dist-packages/pandas/core/frame.py:9203: FutureWarning: merging between different levels is deprecated and will be removed in a future version. (1 levels on the left,2 on the right)\n",
            "  validate=validate,\n"
          ]
        }
      ],
      "source": [
        "count_all = sms_call_count.merge(\n",
        "    inet_count, on=['user_id','month_name'], how='outer'\n",
        "    )\n",
        "count_all.info()"
      ]
    },
    {
      "cell_type": "code",
      "execution_count": 34,
      "metadata": {
        "scrolled": true,
        "id": "PnjW7JkXbO9i",
        "outputId": "4d83f6b2-71bd-46a5-e219-8cb3a794e630",
        "colab": {
          "base_uri": "https://localhost:8080/",
          "height": 206
        }
      },
      "outputs": [
        {
          "output_type": "execute_result",
          "data": {
            "text/plain": [
              "      user_id month_name  message_date  (sum, duration)  (count, duration)  \\\n",
              "2146     1154    October          17.0            185.0               22.0   \n",
              "785      1446   December          43.0            424.0               54.0   \n",
              "1384     1481       June          20.0            272.0               40.0   \n",
              "1229     1098       June           5.0            101.0               21.0   \n",
              "1853     1269   November          17.0            272.0               30.0   \n",
              "\n",
              "      (sum, mb_used)  \n",
              "2146         13993.0  \n",
              "785          18009.0  \n",
              "1384         13823.0  \n",
              "1229          8261.0  \n",
              "1853         19639.0  "
            ],
            "text/html": [
              "\n",
              "  <div id=\"df-74a8cc19-2b92-4507-ae51-1195f1da1ab1\">\n",
              "    <div class=\"colab-df-container\">\n",
              "      <div>\n",
              "<style scoped>\n",
              "    .dataframe tbody tr th:only-of-type {\n",
              "        vertical-align: middle;\n",
              "    }\n",
              "\n",
              "    .dataframe tbody tr th {\n",
              "        vertical-align: top;\n",
              "    }\n",
              "\n",
              "    .dataframe thead th {\n",
              "        text-align: right;\n",
              "    }\n",
              "</style>\n",
              "<table border=\"1\" class=\"dataframe\">\n",
              "  <thead>\n",
              "    <tr style=\"text-align: right;\">\n",
              "      <th></th>\n",
              "      <th>user_id</th>\n",
              "      <th>month_name</th>\n",
              "      <th>message_date</th>\n",
              "      <th>(sum, duration)</th>\n",
              "      <th>(count, duration)</th>\n",
              "      <th>(sum, mb_used)</th>\n",
              "    </tr>\n",
              "  </thead>\n",
              "  <tbody>\n",
              "    <tr>\n",
              "      <th>2146</th>\n",
              "      <td>1154</td>\n",
              "      <td>October</td>\n",
              "      <td>17.0</td>\n",
              "      <td>185.0</td>\n",
              "      <td>22.0</td>\n",
              "      <td>13993.0</td>\n",
              "    </tr>\n",
              "    <tr>\n",
              "      <th>785</th>\n",
              "      <td>1446</td>\n",
              "      <td>December</td>\n",
              "      <td>43.0</td>\n",
              "      <td>424.0</td>\n",
              "      <td>54.0</td>\n",
              "      <td>18009.0</td>\n",
              "    </tr>\n",
              "    <tr>\n",
              "      <th>1384</th>\n",
              "      <td>1481</td>\n",
              "      <td>June</td>\n",
              "      <td>20.0</td>\n",
              "      <td>272.0</td>\n",
              "      <td>40.0</td>\n",
              "      <td>13823.0</td>\n",
              "    </tr>\n",
              "    <tr>\n",
              "      <th>1229</th>\n",
              "      <td>1098</td>\n",
              "      <td>June</td>\n",
              "      <td>5.0</td>\n",
              "      <td>101.0</td>\n",
              "      <td>21.0</td>\n",
              "      <td>8261.0</td>\n",
              "    </tr>\n",
              "    <tr>\n",
              "      <th>1853</th>\n",
              "      <td>1269</td>\n",
              "      <td>November</td>\n",
              "      <td>17.0</td>\n",
              "      <td>272.0</td>\n",
              "      <td>30.0</td>\n",
              "      <td>19639.0</td>\n",
              "    </tr>\n",
              "  </tbody>\n",
              "</table>\n",
              "</div>\n",
              "      <button class=\"colab-df-convert\" onclick=\"convertToInteractive('df-74a8cc19-2b92-4507-ae51-1195f1da1ab1')\"\n",
              "              title=\"Convert this dataframe to an interactive table.\"\n",
              "              style=\"display:none;\">\n",
              "        \n",
              "  <svg xmlns=\"http://www.w3.org/2000/svg\" height=\"24px\"viewBox=\"0 0 24 24\"\n",
              "       width=\"24px\">\n",
              "    <path d=\"M0 0h24v24H0V0z\" fill=\"none\"/>\n",
              "    <path d=\"M18.56 5.44l.94 2.06.94-2.06 2.06-.94-2.06-.94-.94-2.06-.94 2.06-2.06.94zm-11 1L8.5 8.5l.94-2.06 2.06-.94-2.06-.94L8.5 2.5l-.94 2.06-2.06.94zm10 10l.94 2.06.94-2.06 2.06-.94-2.06-.94-.94-2.06-.94 2.06-2.06.94z\"/><path d=\"M17.41 7.96l-1.37-1.37c-.4-.4-.92-.59-1.43-.59-.52 0-1.04.2-1.43.59L10.3 9.45l-7.72 7.72c-.78.78-.78 2.05 0 2.83L4 21.41c.39.39.9.59 1.41.59.51 0 1.02-.2 1.41-.59l7.78-7.78 2.81-2.81c.8-.78.8-2.07 0-2.86zM5.41 20L4 18.59l7.72-7.72 1.47 1.35L5.41 20z\"/>\n",
              "  </svg>\n",
              "      </button>\n",
              "      \n",
              "  <style>\n",
              "    .colab-df-container {\n",
              "      display:flex;\n",
              "      flex-wrap:wrap;\n",
              "      gap: 12px;\n",
              "    }\n",
              "\n",
              "    .colab-df-convert {\n",
              "      background-color: #E8F0FE;\n",
              "      border: none;\n",
              "      border-radius: 50%;\n",
              "      cursor: pointer;\n",
              "      display: none;\n",
              "      fill: #1967D2;\n",
              "      height: 32px;\n",
              "      padding: 0 0 0 0;\n",
              "      width: 32px;\n",
              "    }\n",
              "\n",
              "    .colab-df-convert:hover {\n",
              "      background-color: #E2EBFA;\n",
              "      box-shadow: 0px 1px 2px rgba(60, 64, 67, 0.3), 0px 1px 3px 1px rgba(60, 64, 67, 0.15);\n",
              "      fill: #174EA6;\n",
              "    }\n",
              "\n",
              "    [theme=dark] .colab-df-convert {\n",
              "      background-color: #3B4455;\n",
              "      fill: #D2E3FC;\n",
              "    }\n",
              "\n",
              "    [theme=dark] .colab-df-convert:hover {\n",
              "      background-color: #434B5C;\n",
              "      box-shadow: 0px 1px 3px 1px rgba(0, 0, 0, 0.15);\n",
              "      filter: drop-shadow(0px 1px 2px rgba(0, 0, 0, 0.3));\n",
              "      fill: #FFFFFF;\n",
              "    }\n",
              "  </style>\n",
              "\n",
              "      <script>\n",
              "        const buttonEl =\n",
              "          document.querySelector('#df-74a8cc19-2b92-4507-ae51-1195f1da1ab1 button.colab-df-convert');\n",
              "        buttonEl.style.display =\n",
              "          google.colab.kernel.accessAllowed ? 'block' : 'none';\n",
              "\n",
              "        async function convertToInteractive(key) {\n",
              "          const element = document.querySelector('#df-74a8cc19-2b92-4507-ae51-1195f1da1ab1');\n",
              "          const dataTable =\n",
              "            await google.colab.kernel.invokeFunction('convertToInteractive',\n",
              "                                                     [key], {});\n",
              "          if (!dataTable) return;\n",
              "\n",
              "          const docLinkHtml = 'Like what you see? Visit the ' +\n",
              "            '<a target=\"_blank\" href=https://colab.research.google.com/notebooks/data_table.ipynb>data table notebook</a>'\n",
              "            + ' to learn more about interactive tables.';\n",
              "          element.innerHTML = '';\n",
              "          dataTable['output_type'] = 'display_data';\n",
              "          await google.colab.output.renderOutput(dataTable, element);\n",
              "          const docLink = document.createElement('div');\n",
              "          docLink.innerHTML = docLinkHtml;\n",
              "          element.appendChild(docLink);\n",
              "        }\n",
              "      </script>\n",
              "    </div>\n",
              "  </div>\n",
              "  "
            ]
          },
          "metadata": {},
          "execution_count": 34
        }
      ],
      "source": [
        "count_all.sample(5)"
      ]
    },
    {
      "cell_type": "markdown",
      "metadata": {
        "id": "lNwJrgvZbO9j"
      },
      "source": [
        "К вновь созданной таблице прикремляем таблицу \"user_data\", где у нас хранятся персональные данные клиентов"
      ]
    },
    {
      "cell_type": "code",
      "execution_count": 35,
      "metadata": {
        "id": "K9JAdbdzbO9j"
      },
      "outputs": [],
      "source": [
        "new_df=count_all.merge(user_data,on=['user_id'], how='outer')"
      ]
    },
    {
      "cell_type": "code",
      "execution_count": 36,
      "metadata": {
        "scrolled": false,
        "id": "-X9U96C4bO9j",
        "outputId": "c81d0034-183d-49fb-97e9-bef923907695",
        "colab": {
          "base_uri": "https://localhost:8080/"
        }
      },
      "outputs": [
        {
          "output_type": "stream",
          "name": "stdout",
          "text": [
            "<class 'pandas.core.frame.DataFrame'>\n",
            "Int64Index: 3216 entries, 0 to 3215\n",
            "Data columns (total 13 columns):\n",
            " #   Column             Non-Null Count  Dtype         \n",
            "---  ------             --------------  -----         \n",
            " 0   user_id            3216 non-null   int64         \n",
            " 1   month_name         3214 non-null   object        \n",
            " 2   message_date       2717 non-null   float64       \n",
            " 3   (sum, duration)    3174 non-null   float64       \n",
            " 4   (count, duration)  3174 non-null   float64       \n",
            " 5   (sum, mb_used)     3203 non-null   float64       \n",
            " 6   age                3216 non-null   int64         \n",
            " 7   churn_date         189 non-null    datetime64[ns]\n",
            " 8   city               3216 non-null   object        \n",
            " 9   first_name         3216 non-null   object        \n",
            " 10  last_name          3216 non-null   object        \n",
            " 11  reg_date           3216 non-null   datetime64[ns]\n",
            " 12  tariff             3216 non-null   object        \n",
            "dtypes: datetime64[ns](2), float64(4), int64(2), object(5)\n",
            "memory usage: 351.8+ KB\n"
          ]
        }
      ],
      "source": [
        "new_df.info()"
      ]
    },
    {
      "cell_type": "markdown",
      "metadata": {
        "id": "slUqvUhMbO9j"
      },
      "source": [
        "Переименуем столбцы для новой таблицы, удалим ненужные столбцы (возраст и дату прекращения пользования тарифом)"
      ]
    },
    {
      "cell_type": "code",
      "execution_count": 37,
      "metadata": {
        "scrolled": true,
        "id": "SVr8_7O1bO9j"
      },
      "outputs": [],
      "source": [
        "new_df.head(5)\n",
        "new_df.set_axis(\n",
        "    ['user_id','month_name','sum_messages', 'minutes', 'sum_calls',\n",
        "     'sum_mb_used', 'age', 'churn_date', 'city', 'first_name', 'last_name', \n",
        "     'reg_date', 'tariff'], axis='columns', inplace=True\n",
        "     )\n",
        "del new_df['age']\n",
        "del new_df['churn_date']"
      ]
    },
    {
      "cell_type": "code",
      "execution_count": 38,
      "metadata": {
        "scrolled": false,
        "id": "-wsKWSGFbO9k",
        "outputId": "fc7a2896-bc36-43c8-9899-c6b82e7df097",
        "colab": {
          "base_uri": "https://localhost:8080/",
          "height": 206
        }
      },
      "outputs": [
        {
          "output_type": "execute_result",
          "data": {
            "text/plain": [
              "      user_id month_name  sum_messages  minutes  sum_calls  sum_mb_used  \\\n",
              "1761     1197   December          20.0    493.0       72.0      28222.0   \n",
              "352      1126      March           6.0    556.0       89.0      25331.0   \n",
              "1845     1233   November          35.0    605.0       81.0      20590.0   \n",
              "503      1176   December          55.0    485.0       69.0      15385.0   \n",
              "2148     1362     August          11.0    522.0       71.0      16527.0   \n",
              "\n",
              "                 city first_name  last_name   reg_date tariff  \n",
              "1761       красноярск     демьян    черняев 2018-06-18  smart  \n",
              "352   санкт-петербург        яна  арсенкова 2018-01-19  ultra  \n",
              "1845          воронеж       сара   алфимова 2018-05-23  smart  \n",
              "503         волгоград      радим  куприянов 2018-01-20  smart  \n",
              "2148         владимир       нина   колесова 2018-08-02  smart  "
            ],
            "text/html": [
              "\n",
              "  <div id=\"df-64619326-562a-4583-9c16-4f29d03299fe\">\n",
              "    <div class=\"colab-df-container\">\n",
              "      <div>\n",
              "<style scoped>\n",
              "    .dataframe tbody tr th:only-of-type {\n",
              "        vertical-align: middle;\n",
              "    }\n",
              "\n",
              "    .dataframe tbody tr th {\n",
              "        vertical-align: top;\n",
              "    }\n",
              "\n",
              "    .dataframe thead th {\n",
              "        text-align: right;\n",
              "    }\n",
              "</style>\n",
              "<table border=\"1\" class=\"dataframe\">\n",
              "  <thead>\n",
              "    <tr style=\"text-align: right;\">\n",
              "      <th></th>\n",
              "      <th>user_id</th>\n",
              "      <th>month_name</th>\n",
              "      <th>sum_messages</th>\n",
              "      <th>minutes</th>\n",
              "      <th>sum_calls</th>\n",
              "      <th>sum_mb_used</th>\n",
              "      <th>city</th>\n",
              "      <th>first_name</th>\n",
              "      <th>last_name</th>\n",
              "      <th>reg_date</th>\n",
              "      <th>tariff</th>\n",
              "    </tr>\n",
              "  </thead>\n",
              "  <tbody>\n",
              "    <tr>\n",
              "      <th>1761</th>\n",
              "      <td>1197</td>\n",
              "      <td>December</td>\n",
              "      <td>20.0</td>\n",
              "      <td>493.0</td>\n",
              "      <td>72.0</td>\n",
              "      <td>28222.0</td>\n",
              "      <td>красноярск</td>\n",
              "      <td>демьян</td>\n",
              "      <td>черняев</td>\n",
              "      <td>2018-06-18</td>\n",
              "      <td>smart</td>\n",
              "    </tr>\n",
              "    <tr>\n",
              "      <th>352</th>\n",
              "      <td>1126</td>\n",
              "      <td>March</td>\n",
              "      <td>6.0</td>\n",
              "      <td>556.0</td>\n",
              "      <td>89.0</td>\n",
              "      <td>25331.0</td>\n",
              "      <td>санкт-петербург</td>\n",
              "      <td>яна</td>\n",
              "      <td>арсенкова</td>\n",
              "      <td>2018-01-19</td>\n",
              "      <td>ultra</td>\n",
              "    </tr>\n",
              "    <tr>\n",
              "      <th>1845</th>\n",
              "      <td>1233</td>\n",
              "      <td>November</td>\n",
              "      <td>35.0</td>\n",
              "      <td>605.0</td>\n",
              "      <td>81.0</td>\n",
              "      <td>20590.0</td>\n",
              "      <td>воронеж</td>\n",
              "      <td>сара</td>\n",
              "      <td>алфимова</td>\n",
              "      <td>2018-05-23</td>\n",
              "      <td>smart</td>\n",
              "    </tr>\n",
              "    <tr>\n",
              "      <th>503</th>\n",
              "      <td>1176</td>\n",
              "      <td>December</td>\n",
              "      <td>55.0</td>\n",
              "      <td>485.0</td>\n",
              "      <td>69.0</td>\n",
              "      <td>15385.0</td>\n",
              "      <td>волгоград</td>\n",
              "      <td>радим</td>\n",
              "      <td>куприянов</td>\n",
              "      <td>2018-01-20</td>\n",
              "      <td>smart</td>\n",
              "    </tr>\n",
              "    <tr>\n",
              "      <th>2148</th>\n",
              "      <td>1362</td>\n",
              "      <td>August</td>\n",
              "      <td>11.0</td>\n",
              "      <td>522.0</td>\n",
              "      <td>71.0</td>\n",
              "      <td>16527.0</td>\n",
              "      <td>владимир</td>\n",
              "      <td>нина</td>\n",
              "      <td>колесова</td>\n",
              "      <td>2018-08-02</td>\n",
              "      <td>smart</td>\n",
              "    </tr>\n",
              "  </tbody>\n",
              "</table>\n",
              "</div>\n",
              "      <button class=\"colab-df-convert\" onclick=\"convertToInteractive('df-64619326-562a-4583-9c16-4f29d03299fe')\"\n",
              "              title=\"Convert this dataframe to an interactive table.\"\n",
              "              style=\"display:none;\">\n",
              "        \n",
              "  <svg xmlns=\"http://www.w3.org/2000/svg\" height=\"24px\"viewBox=\"0 0 24 24\"\n",
              "       width=\"24px\">\n",
              "    <path d=\"M0 0h24v24H0V0z\" fill=\"none\"/>\n",
              "    <path d=\"M18.56 5.44l.94 2.06.94-2.06 2.06-.94-2.06-.94-.94-2.06-.94 2.06-2.06.94zm-11 1L8.5 8.5l.94-2.06 2.06-.94-2.06-.94L8.5 2.5l-.94 2.06-2.06.94zm10 10l.94 2.06.94-2.06 2.06-.94-2.06-.94-.94-2.06-.94 2.06-2.06.94z\"/><path d=\"M17.41 7.96l-1.37-1.37c-.4-.4-.92-.59-1.43-.59-.52 0-1.04.2-1.43.59L10.3 9.45l-7.72 7.72c-.78.78-.78 2.05 0 2.83L4 21.41c.39.39.9.59 1.41.59.51 0 1.02-.2 1.41-.59l7.78-7.78 2.81-2.81c.8-.78.8-2.07 0-2.86zM5.41 20L4 18.59l7.72-7.72 1.47 1.35L5.41 20z\"/>\n",
              "  </svg>\n",
              "      </button>\n",
              "      \n",
              "  <style>\n",
              "    .colab-df-container {\n",
              "      display:flex;\n",
              "      flex-wrap:wrap;\n",
              "      gap: 12px;\n",
              "    }\n",
              "\n",
              "    .colab-df-convert {\n",
              "      background-color: #E8F0FE;\n",
              "      border: none;\n",
              "      border-radius: 50%;\n",
              "      cursor: pointer;\n",
              "      display: none;\n",
              "      fill: #1967D2;\n",
              "      height: 32px;\n",
              "      padding: 0 0 0 0;\n",
              "      width: 32px;\n",
              "    }\n",
              "\n",
              "    .colab-df-convert:hover {\n",
              "      background-color: #E2EBFA;\n",
              "      box-shadow: 0px 1px 2px rgba(60, 64, 67, 0.3), 0px 1px 3px 1px rgba(60, 64, 67, 0.15);\n",
              "      fill: #174EA6;\n",
              "    }\n",
              "\n",
              "    [theme=dark] .colab-df-convert {\n",
              "      background-color: #3B4455;\n",
              "      fill: #D2E3FC;\n",
              "    }\n",
              "\n",
              "    [theme=dark] .colab-df-convert:hover {\n",
              "      background-color: #434B5C;\n",
              "      box-shadow: 0px 1px 3px 1px rgba(0, 0, 0, 0.15);\n",
              "      filter: drop-shadow(0px 1px 2px rgba(0, 0, 0, 0.3));\n",
              "      fill: #FFFFFF;\n",
              "    }\n",
              "  </style>\n",
              "\n",
              "      <script>\n",
              "        const buttonEl =\n",
              "          document.querySelector('#df-64619326-562a-4583-9c16-4f29d03299fe button.colab-df-convert');\n",
              "        buttonEl.style.display =\n",
              "          google.colab.kernel.accessAllowed ? 'block' : 'none';\n",
              "\n",
              "        async function convertToInteractive(key) {\n",
              "          const element = document.querySelector('#df-64619326-562a-4583-9c16-4f29d03299fe');\n",
              "          const dataTable =\n",
              "            await google.colab.kernel.invokeFunction('convertToInteractive',\n",
              "                                                     [key], {});\n",
              "          if (!dataTable) return;\n",
              "\n",
              "          const docLinkHtml = 'Like what you see? Visit the ' +\n",
              "            '<a target=\"_blank\" href=https://colab.research.google.com/notebooks/data_table.ipynb>data table notebook</a>'\n",
              "            + ' to learn more about interactive tables.';\n",
              "          element.innerHTML = '';\n",
              "          dataTable['output_type'] = 'display_data';\n",
              "          await google.colab.output.renderOutput(dataTable, element);\n",
              "          const docLink = document.createElement('div');\n",
              "          docLink.innerHTML = docLinkHtml;\n",
              "          element.appendChild(docLink);\n",
              "        }\n",
              "      </script>\n",
              "    </div>\n",
              "  </div>\n",
              "  "
            ]
          },
          "metadata": {},
          "execution_count": 38
        }
      ],
      "source": [
        "new_df.sample(5)"
      ]
    },
    {
      "cell_type": "markdown",
      "metadata": {
        "id": "08xrgXUxbO9k"
      },
      "source": [
        "Создадим срезы по наименованию тарифов, выведем данные по их условиям, создадим для каждой отдельные функции, которые будут считать, сколько денег приносит каждый пользователь за отдельный месяц\n",
        "Также рассчитаем, цену за один мегабайт "
      ]
    },
    {
      "cell_type": "code",
      "execution_count": 39,
      "metadata": {
        "id": "uogazMp7bO9k"
      },
      "outputs": [],
      "source": [
        "new_df_smart = new_df.query('tariff == \"smart\"')\n",
        "new_df_ultra = new_df.query('tariff == \"ultra\"')"
      ]
    },
    {
      "cell_type": "code",
      "execution_count": 40,
      "metadata": {
        "scrolled": true,
        "id": "bW2T8XLGbO9l",
        "outputId": "df2defd0-c67e-4420-a3cd-7a3491f7a23b",
        "colab": {
          "base_uri": "https://localhost:8080/",
          "height": 112
        }
      },
      "outputs": [
        {
          "output_type": "execute_result",
          "data": {
            "text/plain": [
              "   messages_included  mb_per_month_included  minutes_included  \\\n",
              "0                 50                  15360               500   \n",
              "1               1000                  30720              3000   \n",
              "\n",
              "   rub_monthly_fee  rub_per_gb  rub_per_message  rub_per_minute tariff_name  \n",
              "0              550         200                3               3       smart  \n",
              "1             1950         150                1               1       ultra  "
            ],
            "text/html": [
              "\n",
              "  <div id=\"df-10af8b57-d91f-44d4-8d66-7a369d2a5a12\">\n",
              "    <div class=\"colab-df-container\">\n",
              "      <div>\n",
              "<style scoped>\n",
              "    .dataframe tbody tr th:only-of-type {\n",
              "        vertical-align: middle;\n",
              "    }\n",
              "\n",
              "    .dataframe tbody tr th {\n",
              "        vertical-align: top;\n",
              "    }\n",
              "\n",
              "    .dataframe thead th {\n",
              "        text-align: right;\n",
              "    }\n",
              "</style>\n",
              "<table border=\"1\" class=\"dataframe\">\n",
              "  <thead>\n",
              "    <tr style=\"text-align: right;\">\n",
              "      <th></th>\n",
              "      <th>messages_included</th>\n",
              "      <th>mb_per_month_included</th>\n",
              "      <th>minutes_included</th>\n",
              "      <th>rub_monthly_fee</th>\n",
              "      <th>rub_per_gb</th>\n",
              "      <th>rub_per_message</th>\n",
              "      <th>rub_per_minute</th>\n",
              "      <th>tariff_name</th>\n",
              "    </tr>\n",
              "  </thead>\n",
              "  <tbody>\n",
              "    <tr>\n",
              "      <th>0</th>\n",
              "      <td>50</td>\n",
              "      <td>15360</td>\n",
              "      <td>500</td>\n",
              "      <td>550</td>\n",
              "      <td>200</td>\n",
              "      <td>3</td>\n",
              "      <td>3</td>\n",
              "      <td>smart</td>\n",
              "    </tr>\n",
              "    <tr>\n",
              "      <th>1</th>\n",
              "      <td>1000</td>\n",
              "      <td>30720</td>\n",
              "      <td>3000</td>\n",
              "      <td>1950</td>\n",
              "      <td>150</td>\n",
              "      <td>1</td>\n",
              "      <td>1</td>\n",
              "      <td>ultra</td>\n",
              "    </tr>\n",
              "  </tbody>\n",
              "</table>\n",
              "</div>\n",
              "      <button class=\"colab-df-convert\" onclick=\"convertToInteractive('df-10af8b57-d91f-44d4-8d66-7a369d2a5a12')\"\n",
              "              title=\"Convert this dataframe to an interactive table.\"\n",
              "              style=\"display:none;\">\n",
              "        \n",
              "  <svg xmlns=\"http://www.w3.org/2000/svg\" height=\"24px\"viewBox=\"0 0 24 24\"\n",
              "       width=\"24px\">\n",
              "    <path d=\"M0 0h24v24H0V0z\" fill=\"none\"/>\n",
              "    <path d=\"M18.56 5.44l.94 2.06.94-2.06 2.06-.94-2.06-.94-.94-2.06-.94 2.06-2.06.94zm-11 1L8.5 8.5l.94-2.06 2.06-.94-2.06-.94L8.5 2.5l-.94 2.06-2.06.94zm10 10l.94 2.06.94-2.06 2.06-.94-2.06-.94-.94-2.06-.94 2.06-2.06.94z\"/><path d=\"M17.41 7.96l-1.37-1.37c-.4-.4-.92-.59-1.43-.59-.52 0-1.04.2-1.43.59L10.3 9.45l-7.72 7.72c-.78.78-.78 2.05 0 2.83L4 21.41c.39.39.9.59 1.41.59.51 0 1.02-.2 1.41-.59l7.78-7.78 2.81-2.81c.8-.78.8-2.07 0-2.86zM5.41 20L4 18.59l7.72-7.72 1.47 1.35L5.41 20z\"/>\n",
              "  </svg>\n",
              "      </button>\n",
              "      \n",
              "  <style>\n",
              "    .colab-df-container {\n",
              "      display:flex;\n",
              "      flex-wrap:wrap;\n",
              "      gap: 12px;\n",
              "    }\n",
              "\n",
              "    .colab-df-convert {\n",
              "      background-color: #E8F0FE;\n",
              "      border: none;\n",
              "      border-radius: 50%;\n",
              "      cursor: pointer;\n",
              "      display: none;\n",
              "      fill: #1967D2;\n",
              "      height: 32px;\n",
              "      padding: 0 0 0 0;\n",
              "      width: 32px;\n",
              "    }\n",
              "\n",
              "    .colab-df-convert:hover {\n",
              "      background-color: #E2EBFA;\n",
              "      box-shadow: 0px 1px 2px rgba(60, 64, 67, 0.3), 0px 1px 3px 1px rgba(60, 64, 67, 0.15);\n",
              "      fill: #174EA6;\n",
              "    }\n",
              "\n",
              "    [theme=dark] .colab-df-convert {\n",
              "      background-color: #3B4455;\n",
              "      fill: #D2E3FC;\n",
              "    }\n",
              "\n",
              "    [theme=dark] .colab-df-convert:hover {\n",
              "      background-color: #434B5C;\n",
              "      box-shadow: 0px 1px 3px 1px rgba(0, 0, 0, 0.15);\n",
              "      filter: drop-shadow(0px 1px 2px rgba(0, 0, 0, 0.3));\n",
              "      fill: #FFFFFF;\n",
              "    }\n",
              "  </style>\n",
              "\n",
              "      <script>\n",
              "        const buttonEl =\n",
              "          document.querySelector('#df-10af8b57-d91f-44d4-8d66-7a369d2a5a12 button.colab-df-convert');\n",
              "        buttonEl.style.display =\n",
              "          google.colab.kernel.accessAllowed ? 'block' : 'none';\n",
              "\n",
              "        async function convertToInteractive(key) {\n",
              "          const element = document.querySelector('#df-10af8b57-d91f-44d4-8d66-7a369d2a5a12');\n",
              "          const dataTable =\n",
              "            await google.colab.kernel.invokeFunction('convertToInteractive',\n",
              "                                                     [key], {});\n",
              "          if (!dataTable) return;\n",
              "\n",
              "          const docLinkHtml = 'Like what you see? Visit the ' +\n",
              "            '<a target=\"_blank\" href=https://colab.research.google.com/notebooks/data_table.ipynb>data table notebook</a>'\n",
              "            + ' to learn more about interactive tables.';\n",
              "          element.innerHTML = '';\n",
              "          dataTable['output_type'] = 'display_data';\n",
              "          await google.colab.output.renderOutput(dataTable, element);\n",
              "          const docLink = document.createElement('div');\n",
              "          docLink.innerHTML = docLinkHtml;\n",
              "          element.appendChild(docLink);\n",
              "        }\n",
              "      </script>\n",
              "    </div>\n",
              "  </div>\n",
              "  "
            ]
          },
          "metadata": {},
          "execution_count": 40
        }
      ],
      "source": [
        "tariff_data"
      ]
    },
    {
      "cell_type": "code",
      "execution_count": 41,
      "metadata": {
        "id": "GP6moJQabO9l"
      },
      "outputs": [],
      "source": [
        "sm_megabytes_per_month_incl = 15360\n",
        "sm_monthly_fee = 550\n",
        "sm_price_for_megabyte = 200/1024\n",
        "sm_minutes = 500\n",
        "sm_messages = 50\n",
        "sm_rub_per_message = 3\n",
        "sm_rub_per_minute = 3"
      ]
    },
    {
      "cell_type": "code",
      "execution_count": 42,
      "metadata": {
        "id": "q1bB9pz4bO9l"
      },
      "outputs": [],
      "source": [
        "def profit_for_tariff(row):\n",
        "    mb_used = row['sum_mb_used']\n",
        "    minutes = row['minutes']\n",
        "    messages = row['sum_messages']\n",
        "    total_megabytes = 0\n",
        "    total_messages = 0 \n",
        "    total_minutes = 0\n",
        "    if mb_used > sm_megabytes_per_month_incl:\n",
        "        total_megabytes = (mb_used - sm_megabytes_per_month_incl) * sm_price_for_megabyte\n",
        "    if minutes > sm_minutes:\n",
        "        total_minutes = (minutes - sm_minutes) * sm_rub_per_minute\n",
        "    if messages > sm_messages:\n",
        "        total_messages = (messages - sm_messages) * sm_rub_per_message\n",
        "        \n",
        "    return total_megabytes + total_minutes + total_messages + sm_monthly_fee"
      ]
    },
    {
      "cell_type": "code",
      "execution_count": 43,
      "metadata": {
        "scrolled": false,
        "id": "FoKPOvDLbO9m",
        "outputId": "07c7aedb-9e4e-4976-c4cd-dde0e0261430",
        "colab": {
          "base_uri": "https://localhost:8080/"
        }
      },
      "outputs": [
        {
          "output_type": "stream",
          "name": "stderr",
          "text": [
            "/usr/local/lib/python3.7/dist-packages/ipykernel_launcher.py:1: SettingWithCopyWarning: \n",
            "A value is trying to be set on a copy of a slice from a DataFrame.\n",
            "Try using .loc[row_indexer,col_indexer] = value instead\n",
            "\n",
            "See the caveats in the documentation: https://pandas.pydata.org/pandas-docs/stable/user_guide/indexing.html#returning-a-view-versus-a-copy\n",
            "  \"\"\"Entry point for launching an IPython kernel.\n"
          ]
        }
      ],
      "source": [
        "new_df_smart ['profit'] = new_df_smart.apply(profit_for_tariff, axis=1)"
      ]
    },
    {
      "cell_type": "code",
      "execution_count": 44,
      "metadata": {
        "id": "8VEZ6WZYbO9m"
      },
      "outputs": [],
      "source": [
        "ult_megabytes_per_month_incl = 30720\n",
        "ult_monthly_fee = 1950\n",
        "ult_price_for_megabyte = 150/1024\n",
        "ult_minutes = 3000\n",
        "ult_messages = 1000\n",
        "ult_rub_per_message = 1\n",
        "ult_rub_per_minute = 1"
      ]
    },
    {
      "cell_type": "code",
      "execution_count": 45,
      "metadata": {
        "id": "ZlG30DQXbO9m"
      },
      "outputs": [],
      "source": [
        "def profit_for_tariff_2(row):\n",
        "    mb_used = row['sum_mb_used']\n",
        "    minutes = row['minutes']\n",
        "    messages = row['sum_messages']\n",
        "    total_megabytes = 0\n",
        "    total_messages = 0 \n",
        "    total_minutes = 0\n",
        "    if mb_used > ult_megabytes_per_month_incl:\n",
        "        total_megabytes = (mb_used - ult_megabytes_per_month_incl) * ult_price_for_megabyte\n",
        "    if minutes > ult_minutes:\n",
        "        total_minutes = (minutes - ult_minutes) * ult_rub_per_minute\n",
        "    if messages > ult_messages:\n",
        "        total_messages = (messages - sm_messages) * ult_rub_per_message\n",
        "        \n",
        "    return total_megabytes + total_minutes + total_messages + ult_monthly_fee"
      ]
    },
    {
      "cell_type": "code",
      "execution_count": 46,
      "metadata": {
        "scrolled": false,
        "id": "l8WOIqUebO9n",
        "outputId": "0c895894-b60b-4200-831e-f009e6cebbbb",
        "colab": {
          "base_uri": "https://localhost:8080/"
        }
      },
      "outputs": [
        {
          "output_type": "stream",
          "name": "stderr",
          "text": [
            "/usr/local/lib/python3.7/dist-packages/ipykernel_launcher.py:1: SettingWithCopyWarning: \n",
            "A value is trying to be set on a copy of a slice from a DataFrame.\n",
            "Try using .loc[row_indexer,col_indexer] = value instead\n",
            "\n",
            "See the caveats in the documentation: https://pandas.pydata.org/pandas-docs/stable/user_guide/indexing.html#returning-a-view-versus-a-copy\n",
            "  \"\"\"Entry point for launching an IPython kernel.\n"
          ]
        }
      ],
      "source": [
        "new_df_ultra ['profit'] = new_df_ultra.apply(profit_for_tariff_2, axis=1)"
      ]
    },
    {
      "cell_type": "markdown",
      "metadata": {
        "id": "_q218bjFbO9n"
      },
      "source": [
        "Для двух тарифов создадим новые таблицы, в которых просуммируем все известные нам данные по месяцам года. Также, т.к. функция month_name() показывала месяца не по порядку, а в алфавитной последовательности (April, August, и т.д.) использовал функцию для правильного порядка."
      ]
    },
    {
      "cell_type": "code",
      "execution_count": 47,
      "metadata": {
        "id": "ukgB2zqybO9n"
      },
      "outputs": [],
      "source": [
        "new_df_ultra_table = new_df_ultra.pivot_table(\n",
        "    index='month_name', values=['minutes','sum_messages','sum_mb_used','profit'], \n",
        "    aggfunc=('sum')\n",
        "    )"
      ]
    },
    {
      "cell_type": "code",
      "source": [
        "new_df_ultra_table.reset_index(inplace=True)\n",
        "months = [\n",
        "          \"January\", \"February\", \"March\", \"April\", \"May\", \"June\", \"July\", \n",
        "          \"August\", \"September\", \"October\", \"November\", \"December\"\n",
        "          ]\n",
        "\n",
        "new_df_ultra_table['month_name'] = pd.Categorical(\n",
        "    new_df_ultra_table['month_name'], categories=months, ordered=True\n",
        "    )"
      ],
      "metadata": {
        "id": "lps3z0rY4WUn"
      },
      "execution_count": 48,
      "outputs": []
    },
    {
      "cell_type": "code",
      "source": [
        "new_df_ultra_table = new_df_ultra_table.sort_values(by=\"month_name\")\n",
        "new_df_ultra_table"
      ],
      "metadata": {
        "colab": {
          "base_uri": "https://localhost:8080/",
          "height": 426
        },
        "id": "M95vSveC4hYE",
        "outputId": "3f27e9bf-f82b-4e60-d31f-e8a135a8ab0a"
      },
      "execution_count": 49,
      "outputs": [
        {
          "output_type": "execute_result",
          "data": {
            "text/plain": [
              "   month_name  minutes         profit  sum_mb_used  sum_messages\n",
              "4     January   3853.0   17550.000000     118382.0         304.0\n",
              "3    February   7131.0   47353.125000     282887.0         527.0\n",
              "7       March  18117.0   74154.345703     649423.0        1195.0\n",
              "0       April  25191.0  109748.730469     926409.0        1736.0\n",
              "8         May  34192.0  137682.714844    1298540.0        2536.0\n",
              "6        June  40295.0  170693.115234    1591148.0        3505.0\n",
              "5        July  49667.0  191873.730469    1866833.0        4536.0\n",
              "1      August  54653.0  221613.281250    2096565.0        5183.0\n",
              "11  September  62036.0  231578.466797    2210554.0        6013.0\n",
              "10    October  68644.0  253000.927734    2467856.0        7187.0\n",
              "9    November  72545.0  278825.390625    2653912.0        7476.0\n",
              "2    December  82400.0  295548.193359    3032089.0        8425.0"
            ],
            "text/html": [
              "\n",
              "  <div id=\"df-131728bf-ab99-4ec3-8c70-f7551f21d6b0\">\n",
              "    <div class=\"colab-df-container\">\n",
              "      <div>\n",
              "<style scoped>\n",
              "    .dataframe tbody tr th:only-of-type {\n",
              "        vertical-align: middle;\n",
              "    }\n",
              "\n",
              "    .dataframe tbody tr th {\n",
              "        vertical-align: top;\n",
              "    }\n",
              "\n",
              "    .dataframe thead th {\n",
              "        text-align: right;\n",
              "    }\n",
              "</style>\n",
              "<table border=\"1\" class=\"dataframe\">\n",
              "  <thead>\n",
              "    <tr style=\"text-align: right;\">\n",
              "      <th></th>\n",
              "      <th>month_name</th>\n",
              "      <th>minutes</th>\n",
              "      <th>profit</th>\n",
              "      <th>sum_mb_used</th>\n",
              "      <th>sum_messages</th>\n",
              "    </tr>\n",
              "  </thead>\n",
              "  <tbody>\n",
              "    <tr>\n",
              "      <th>4</th>\n",
              "      <td>January</td>\n",
              "      <td>3853.0</td>\n",
              "      <td>17550.000000</td>\n",
              "      <td>118382.0</td>\n",
              "      <td>304.0</td>\n",
              "    </tr>\n",
              "    <tr>\n",
              "      <th>3</th>\n",
              "      <td>February</td>\n",
              "      <td>7131.0</td>\n",
              "      <td>47353.125000</td>\n",
              "      <td>282887.0</td>\n",
              "      <td>527.0</td>\n",
              "    </tr>\n",
              "    <tr>\n",
              "      <th>7</th>\n",
              "      <td>March</td>\n",
              "      <td>18117.0</td>\n",
              "      <td>74154.345703</td>\n",
              "      <td>649423.0</td>\n",
              "      <td>1195.0</td>\n",
              "    </tr>\n",
              "    <tr>\n",
              "      <th>0</th>\n",
              "      <td>April</td>\n",
              "      <td>25191.0</td>\n",
              "      <td>109748.730469</td>\n",
              "      <td>926409.0</td>\n",
              "      <td>1736.0</td>\n",
              "    </tr>\n",
              "    <tr>\n",
              "      <th>8</th>\n",
              "      <td>May</td>\n",
              "      <td>34192.0</td>\n",
              "      <td>137682.714844</td>\n",
              "      <td>1298540.0</td>\n",
              "      <td>2536.0</td>\n",
              "    </tr>\n",
              "    <tr>\n",
              "      <th>6</th>\n",
              "      <td>June</td>\n",
              "      <td>40295.0</td>\n",
              "      <td>170693.115234</td>\n",
              "      <td>1591148.0</td>\n",
              "      <td>3505.0</td>\n",
              "    </tr>\n",
              "    <tr>\n",
              "      <th>5</th>\n",
              "      <td>July</td>\n",
              "      <td>49667.0</td>\n",
              "      <td>191873.730469</td>\n",
              "      <td>1866833.0</td>\n",
              "      <td>4536.0</td>\n",
              "    </tr>\n",
              "    <tr>\n",
              "      <th>1</th>\n",
              "      <td>August</td>\n",
              "      <td>54653.0</td>\n",
              "      <td>221613.281250</td>\n",
              "      <td>2096565.0</td>\n",
              "      <td>5183.0</td>\n",
              "    </tr>\n",
              "    <tr>\n",
              "      <th>11</th>\n",
              "      <td>September</td>\n",
              "      <td>62036.0</td>\n",
              "      <td>231578.466797</td>\n",
              "      <td>2210554.0</td>\n",
              "      <td>6013.0</td>\n",
              "    </tr>\n",
              "    <tr>\n",
              "      <th>10</th>\n",
              "      <td>October</td>\n",
              "      <td>68644.0</td>\n",
              "      <td>253000.927734</td>\n",
              "      <td>2467856.0</td>\n",
              "      <td>7187.0</td>\n",
              "    </tr>\n",
              "    <tr>\n",
              "      <th>9</th>\n",
              "      <td>November</td>\n",
              "      <td>72545.0</td>\n",
              "      <td>278825.390625</td>\n",
              "      <td>2653912.0</td>\n",
              "      <td>7476.0</td>\n",
              "    </tr>\n",
              "    <tr>\n",
              "      <th>2</th>\n",
              "      <td>December</td>\n",
              "      <td>82400.0</td>\n",
              "      <td>295548.193359</td>\n",
              "      <td>3032089.0</td>\n",
              "      <td>8425.0</td>\n",
              "    </tr>\n",
              "  </tbody>\n",
              "</table>\n",
              "</div>\n",
              "      <button class=\"colab-df-convert\" onclick=\"convertToInteractive('df-131728bf-ab99-4ec3-8c70-f7551f21d6b0')\"\n",
              "              title=\"Convert this dataframe to an interactive table.\"\n",
              "              style=\"display:none;\">\n",
              "        \n",
              "  <svg xmlns=\"http://www.w3.org/2000/svg\" height=\"24px\"viewBox=\"0 0 24 24\"\n",
              "       width=\"24px\">\n",
              "    <path d=\"M0 0h24v24H0V0z\" fill=\"none\"/>\n",
              "    <path d=\"M18.56 5.44l.94 2.06.94-2.06 2.06-.94-2.06-.94-.94-2.06-.94 2.06-2.06.94zm-11 1L8.5 8.5l.94-2.06 2.06-.94-2.06-.94L8.5 2.5l-.94 2.06-2.06.94zm10 10l.94 2.06.94-2.06 2.06-.94-2.06-.94-.94-2.06-.94 2.06-2.06.94z\"/><path d=\"M17.41 7.96l-1.37-1.37c-.4-.4-.92-.59-1.43-.59-.52 0-1.04.2-1.43.59L10.3 9.45l-7.72 7.72c-.78.78-.78 2.05 0 2.83L4 21.41c.39.39.9.59 1.41.59.51 0 1.02-.2 1.41-.59l7.78-7.78 2.81-2.81c.8-.78.8-2.07 0-2.86zM5.41 20L4 18.59l7.72-7.72 1.47 1.35L5.41 20z\"/>\n",
              "  </svg>\n",
              "      </button>\n",
              "      \n",
              "  <style>\n",
              "    .colab-df-container {\n",
              "      display:flex;\n",
              "      flex-wrap:wrap;\n",
              "      gap: 12px;\n",
              "    }\n",
              "\n",
              "    .colab-df-convert {\n",
              "      background-color: #E8F0FE;\n",
              "      border: none;\n",
              "      border-radius: 50%;\n",
              "      cursor: pointer;\n",
              "      display: none;\n",
              "      fill: #1967D2;\n",
              "      height: 32px;\n",
              "      padding: 0 0 0 0;\n",
              "      width: 32px;\n",
              "    }\n",
              "\n",
              "    .colab-df-convert:hover {\n",
              "      background-color: #E2EBFA;\n",
              "      box-shadow: 0px 1px 2px rgba(60, 64, 67, 0.3), 0px 1px 3px 1px rgba(60, 64, 67, 0.15);\n",
              "      fill: #174EA6;\n",
              "    }\n",
              "\n",
              "    [theme=dark] .colab-df-convert {\n",
              "      background-color: #3B4455;\n",
              "      fill: #D2E3FC;\n",
              "    }\n",
              "\n",
              "    [theme=dark] .colab-df-convert:hover {\n",
              "      background-color: #434B5C;\n",
              "      box-shadow: 0px 1px 3px 1px rgba(0, 0, 0, 0.15);\n",
              "      filter: drop-shadow(0px 1px 2px rgba(0, 0, 0, 0.3));\n",
              "      fill: #FFFFFF;\n",
              "    }\n",
              "  </style>\n",
              "\n",
              "      <script>\n",
              "        const buttonEl =\n",
              "          document.querySelector('#df-131728bf-ab99-4ec3-8c70-f7551f21d6b0 button.colab-df-convert');\n",
              "        buttonEl.style.display =\n",
              "          google.colab.kernel.accessAllowed ? 'block' : 'none';\n",
              "\n",
              "        async function convertToInteractive(key) {\n",
              "          const element = document.querySelector('#df-131728bf-ab99-4ec3-8c70-f7551f21d6b0');\n",
              "          const dataTable =\n",
              "            await google.colab.kernel.invokeFunction('convertToInteractive',\n",
              "                                                     [key], {});\n",
              "          if (!dataTable) return;\n",
              "\n",
              "          const docLinkHtml = 'Like what you see? Visit the ' +\n",
              "            '<a target=\"_blank\" href=https://colab.research.google.com/notebooks/data_table.ipynb>data table notebook</a>'\n",
              "            + ' to learn more about interactive tables.';\n",
              "          element.innerHTML = '';\n",
              "          dataTable['output_type'] = 'display_data';\n",
              "          await google.colab.output.renderOutput(dataTable, element);\n",
              "          const docLink = document.createElement('div');\n",
              "          docLink.innerHTML = docLinkHtml;\n",
              "          element.appendChild(docLink);\n",
              "        }\n",
              "      </script>\n",
              "    </div>\n",
              "  </div>\n",
              "  "
            ]
          },
          "metadata": {},
          "execution_count": 49
        }
      ]
    },
    {
      "cell_type": "code",
      "execution_count": 50,
      "metadata": {
        "scrolled": true,
        "id": "xS1RwVTWbO9n"
      },
      "outputs": [],
      "source": [
        "new_df_smart_table = new_df_smart.pivot_table(\n",
        "    index='month_name', values=['minutes','sum_messages','sum_mb_used','profit'],\n",
        "     aggfunc='sum'\n",
        "     )"
      ]
    },
    {
      "cell_type": "code",
      "source": [
        "new_df_smart_table.reset_index(inplace=True)\n",
        "months = [\n",
        "          \"January\", \"February\", \"March\", \"April\", \"May\", \"June\", \"July\", \n",
        "          \"August\", \"September\", \"October\", \"November\", \"December\"\n",
        "          ]\n",
        "\n",
        "new_df_smart_table['month_name'] = pd.Categorical(\n",
        "    new_df_smart_table['month_name'], categories=months, ordered=True\n",
        "    )"
      ],
      "metadata": {
        "id": "5KJyeCYt4rd7"
      },
      "execution_count": 51,
      "outputs": []
    },
    {
      "cell_type": "code",
      "source": [
        "new_df_smart_table = new_df_smart_table.sort_values(by=\"month_name\")\n",
        "new_df_smart_table"
      ],
      "metadata": {
        "colab": {
          "base_uri": "https://localhost:8080/",
          "height": 426
        },
        "id": "kAHOlrSN4xns",
        "outputId": "695713b2-c4df-4035-ecc9-dcb3feb5d153"
      },
      "execution_count": 52,
      "outputs": [
        {
          "output_type": "execute_result",
          "data": {
            "text/plain": [
              "   month_name   minutes         profit  sum_mb_used  sum_messages\n",
              "4     January    6931.0   23886.914062     289831.0         620.0\n",
              "3    February   17324.0   46651.585938     673461.0        1397.0\n",
              "7       March   30034.0   86115.453125    1164537.0        2453.0\n",
              "0       April   41119.0  103302.132812    1509702.0        3443.0\n",
              "8         May   54618.0  161715.992188    2231353.0        4762.0\n",
              "6        June   64885.0  188531.070312    2593622.0        5478.0\n",
              "5        July   82079.0  234780.796875    3168466.0        6784.0\n",
              "1      August   99045.0  295747.031250    3908561.0        7905.0\n",
              "11  September  111439.0  311758.851562    4244377.0        8746.0\n",
              "10    October  125284.0  383623.640625    4932898.0        9927.0\n",
              "9    November  137544.0  405542.648438    5345940.0       10768.0\n",
              "2    December  161275.0  507479.843750    6112113.0       12130.0"
            ],
            "text/html": [
              "\n",
              "  <div id=\"df-65c3b4ec-c994-4b94-8be4-39c76cce961d\">\n",
              "    <div class=\"colab-df-container\">\n",
              "      <div>\n",
              "<style scoped>\n",
              "    .dataframe tbody tr th:only-of-type {\n",
              "        vertical-align: middle;\n",
              "    }\n",
              "\n",
              "    .dataframe tbody tr th {\n",
              "        vertical-align: top;\n",
              "    }\n",
              "\n",
              "    .dataframe thead th {\n",
              "        text-align: right;\n",
              "    }\n",
              "</style>\n",
              "<table border=\"1\" class=\"dataframe\">\n",
              "  <thead>\n",
              "    <tr style=\"text-align: right;\">\n",
              "      <th></th>\n",
              "      <th>month_name</th>\n",
              "      <th>minutes</th>\n",
              "      <th>profit</th>\n",
              "      <th>sum_mb_used</th>\n",
              "      <th>sum_messages</th>\n",
              "    </tr>\n",
              "  </thead>\n",
              "  <tbody>\n",
              "    <tr>\n",
              "      <th>4</th>\n",
              "      <td>January</td>\n",
              "      <td>6931.0</td>\n",
              "      <td>23886.914062</td>\n",
              "      <td>289831.0</td>\n",
              "      <td>620.0</td>\n",
              "    </tr>\n",
              "    <tr>\n",
              "      <th>3</th>\n",
              "      <td>February</td>\n",
              "      <td>17324.0</td>\n",
              "      <td>46651.585938</td>\n",
              "      <td>673461.0</td>\n",
              "      <td>1397.0</td>\n",
              "    </tr>\n",
              "    <tr>\n",
              "      <th>7</th>\n",
              "      <td>March</td>\n",
              "      <td>30034.0</td>\n",
              "      <td>86115.453125</td>\n",
              "      <td>1164537.0</td>\n",
              "      <td>2453.0</td>\n",
              "    </tr>\n",
              "    <tr>\n",
              "      <th>0</th>\n",
              "      <td>April</td>\n",
              "      <td>41119.0</td>\n",
              "      <td>103302.132812</td>\n",
              "      <td>1509702.0</td>\n",
              "      <td>3443.0</td>\n",
              "    </tr>\n",
              "    <tr>\n",
              "      <th>8</th>\n",
              "      <td>May</td>\n",
              "      <td>54618.0</td>\n",
              "      <td>161715.992188</td>\n",
              "      <td>2231353.0</td>\n",
              "      <td>4762.0</td>\n",
              "    </tr>\n",
              "    <tr>\n",
              "      <th>6</th>\n",
              "      <td>June</td>\n",
              "      <td>64885.0</td>\n",
              "      <td>188531.070312</td>\n",
              "      <td>2593622.0</td>\n",
              "      <td>5478.0</td>\n",
              "    </tr>\n",
              "    <tr>\n",
              "      <th>5</th>\n",
              "      <td>July</td>\n",
              "      <td>82079.0</td>\n",
              "      <td>234780.796875</td>\n",
              "      <td>3168466.0</td>\n",
              "      <td>6784.0</td>\n",
              "    </tr>\n",
              "    <tr>\n",
              "      <th>1</th>\n",
              "      <td>August</td>\n",
              "      <td>99045.0</td>\n",
              "      <td>295747.031250</td>\n",
              "      <td>3908561.0</td>\n",
              "      <td>7905.0</td>\n",
              "    </tr>\n",
              "    <tr>\n",
              "      <th>11</th>\n",
              "      <td>September</td>\n",
              "      <td>111439.0</td>\n",
              "      <td>311758.851562</td>\n",
              "      <td>4244377.0</td>\n",
              "      <td>8746.0</td>\n",
              "    </tr>\n",
              "    <tr>\n",
              "      <th>10</th>\n",
              "      <td>October</td>\n",
              "      <td>125284.0</td>\n",
              "      <td>383623.640625</td>\n",
              "      <td>4932898.0</td>\n",
              "      <td>9927.0</td>\n",
              "    </tr>\n",
              "    <tr>\n",
              "      <th>9</th>\n",
              "      <td>November</td>\n",
              "      <td>137544.0</td>\n",
              "      <td>405542.648438</td>\n",
              "      <td>5345940.0</td>\n",
              "      <td>10768.0</td>\n",
              "    </tr>\n",
              "    <tr>\n",
              "      <th>2</th>\n",
              "      <td>December</td>\n",
              "      <td>161275.0</td>\n",
              "      <td>507479.843750</td>\n",
              "      <td>6112113.0</td>\n",
              "      <td>12130.0</td>\n",
              "    </tr>\n",
              "  </tbody>\n",
              "</table>\n",
              "</div>\n",
              "      <button class=\"colab-df-convert\" onclick=\"convertToInteractive('df-65c3b4ec-c994-4b94-8be4-39c76cce961d')\"\n",
              "              title=\"Convert this dataframe to an interactive table.\"\n",
              "              style=\"display:none;\">\n",
              "        \n",
              "  <svg xmlns=\"http://www.w3.org/2000/svg\" height=\"24px\"viewBox=\"0 0 24 24\"\n",
              "       width=\"24px\">\n",
              "    <path d=\"M0 0h24v24H0V0z\" fill=\"none\"/>\n",
              "    <path d=\"M18.56 5.44l.94 2.06.94-2.06 2.06-.94-2.06-.94-.94-2.06-.94 2.06-2.06.94zm-11 1L8.5 8.5l.94-2.06 2.06-.94-2.06-.94L8.5 2.5l-.94 2.06-2.06.94zm10 10l.94 2.06.94-2.06 2.06-.94-2.06-.94-.94-2.06-.94 2.06-2.06.94z\"/><path d=\"M17.41 7.96l-1.37-1.37c-.4-.4-.92-.59-1.43-.59-.52 0-1.04.2-1.43.59L10.3 9.45l-7.72 7.72c-.78.78-.78 2.05 0 2.83L4 21.41c.39.39.9.59 1.41.59.51 0 1.02-.2 1.41-.59l7.78-7.78 2.81-2.81c.8-.78.8-2.07 0-2.86zM5.41 20L4 18.59l7.72-7.72 1.47 1.35L5.41 20z\"/>\n",
              "  </svg>\n",
              "      </button>\n",
              "      \n",
              "  <style>\n",
              "    .colab-df-container {\n",
              "      display:flex;\n",
              "      flex-wrap:wrap;\n",
              "      gap: 12px;\n",
              "    }\n",
              "\n",
              "    .colab-df-convert {\n",
              "      background-color: #E8F0FE;\n",
              "      border: none;\n",
              "      border-radius: 50%;\n",
              "      cursor: pointer;\n",
              "      display: none;\n",
              "      fill: #1967D2;\n",
              "      height: 32px;\n",
              "      padding: 0 0 0 0;\n",
              "      width: 32px;\n",
              "    }\n",
              "\n",
              "    .colab-df-convert:hover {\n",
              "      background-color: #E2EBFA;\n",
              "      box-shadow: 0px 1px 2px rgba(60, 64, 67, 0.3), 0px 1px 3px 1px rgba(60, 64, 67, 0.15);\n",
              "      fill: #174EA6;\n",
              "    }\n",
              "\n",
              "    [theme=dark] .colab-df-convert {\n",
              "      background-color: #3B4455;\n",
              "      fill: #D2E3FC;\n",
              "    }\n",
              "\n",
              "    [theme=dark] .colab-df-convert:hover {\n",
              "      background-color: #434B5C;\n",
              "      box-shadow: 0px 1px 3px 1px rgba(0, 0, 0, 0.15);\n",
              "      filter: drop-shadow(0px 1px 2px rgba(0, 0, 0, 0.3));\n",
              "      fill: #FFFFFF;\n",
              "    }\n",
              "  </style>\n",
              "\n",
              "      <script>\n",
              "        const buttonEl =\n",
              "          document.querySelector('#df-65c3b4ec-c994-4b94-8be4-39c76cce961d button.colab-df-convert');\n",
              "        buttonEl.style.display =\n",
              "          google.colab.kernel.accessAllowed ? 'block' : 'none';\n",
              "\n",
              "        async function convertToInteractive(key) {\n",
              "          const element = document.querySelector('#df-65c3b4ec-c994-4b94-8be4-39c76cce961d');\n",
              "          const dataTable =\n",
              "            await google.colab.kernel.invokeFunction('convertToInteractive',\n",
              "                                                     [key], {});\n",
              "          if (!dataTable) return;\n",
              "\n",
              "          const docLinkHtml = 'Like what you see? Visit the ' +\n",
              "            '<a target=\"_blank\" href=https://colab.research.google.com/notebooks/data_table.ipynb>data table notebook</a>'\n",
              "            + ' to learn more about interactive tables.';\n",
              "          element.innerHTML = '';\n",
              "          dataTable['output_type'] = 'display_data';\n",
              "          await google.colab.output.renderOutput(dataTable, element);\n",
              "          const docLink = document.createElement('div');\n",
              "          docLink.innerHTML = docLinkHtml;\n",
              "          element.appendChild(docLink);\n",
              "        }\n",
              "      </script>\n",
              "    </div>\n",
              "  </div>\n",
              "  "
            ]
          },
          "metadata": {},
          "execution_count": 52
        }
      ]
    },
    {
      "cell_type": "markdown",
      "metadata": {
        "id": "OjtgM6ybbO9o"
      },
      "source": [
        "Для сравнения ниже создадим четыре гистограммы, которые покажут нам разницу двух тарифов по параметрам \"интернет\",\"смс\",\"минуты разговора\",\"прибыль\"."
      ]
    },
    {
      "cell_type": "code",
      "execution_count": 53,
      "metadata": {
        "id": "j-TBAu6SbO9o",
        "outputId": "3f6b36a7-1ee5-4a9b-af16-09fc681b6aee",
        "colab": {
          "base_uri": "https://localhost:8080/",
          "height": 776
        }
      },
      "outputs": [
        {
          "output_type": "display_data",
          "data": {
            "text/plain": [
              "<Figure size 1440x864 with 1 Axes>"
            ],
            "image/png": "[encoded data removed]"
          },
          "metadata": {
            "needs_background": "light"
          }
        }
      ],
      "source": [
        "ax=new_df_ultra_table.plot(\n",
        "    y='sum_mb_used', x='month_name', grid=True, figsize=(20,12), kind='bar', \n",
        "    label='ultra', legend=True, title='Количество использованного интеренет трафика'\n",
        "    )\n",
        "\n",
        "new_df_smart_table.plot(\n",
        "    y='sum_mb_used', x='month_name', grid=True, figsize=(20,12), kind='bar', \n",
        "    label='smart', alpha=0.5, ax=ax, legend=True\n",
        "    )\n",
        "\n",
        "plt.show()"
      ]
    },
    {
      "cell_type": "code",
      "execution_count": 54,
      "metadata": {
        "scrolled": false,
        "id": "wXknh90obO9o",
        "outputId": "6fee9ad6-81fb-491d-f343-b0aab8f25e30",
        "colab": {
          "base_uri": "https://localhost:8080/",
          "height": 776
        }
      },
      "outputs": [
        {
          "output_type": "display_data",
          "data": {
            "text/plain": [
              "<Figure size 1440x864 with 1 Axes>"
            ],
            "image/png": "[encoded data removed]"
          },
          "metadata": {
            "needs_background": "light"
          }
        }
      ],
      "source": [
        "ax=new_df_ultra_table.plot(\n",
        "    y='sum_messages', x='month_name', grid=True, figsize=(20,12), kind='bar', \n",
        "    label='ultra', color='g', title='Количество использованных смс', legend=True\n",
        "    )\n",
        "\n",
        "new_df_smart_table.plot(\n",
        "    y='sum_messages', x='month_name', grid=True, figsize=(20,12), kind='bar', \n",
        "    label='smart', color='g', alpha=0.5, ax=ax, legend=True\n",
        "    )\n",
        "\n",
        "plt.show()"
      ]
    },
    {
      "cell_type": "code",
      "execution_count": 55,
      "metadata": {
        "scrolled": false,
        "id": "u8UFkUbybO9p",
        "outputId": "0cf306d4-d3e0-4c58-bb8d-d8c1bebac7b6",
        "colab": {
          "base_uri": "https://localhost:8080/",
          "height": 776
        }
      },
      "outputs": [
        {
          "output_type": "display_data",
          "data": {
            "text/plain": [
              "<Figure size 1440x864 with 1 Axes>"
            ],
            "image/png": "[encoded data removed]"
          },
          "metadata": {
            "needs_background": "light"
          }
        }
      ],
      "source": [
        "ax=new_df_ultra_table.plot(\n",
        "    y='minutes', x='month_name', grid=True, figsize=(20,12), kind='bar', \n",
        "    label='ultra', color='r', legend=True\n",
        "    )\n",
        "\n",
        "new_df_smart_table.plot(\n",
        "    y='minutes', x='month_name', grid=True, figsize=(20,12), kind='bar', \n",
        "    label='smart',  color='r', alpha=0.5, ax=ax, title='Количество использованных минут', legend=True\n",
        "    )\n",
        "\n",
        "plt.show()"
      ]
    },
    {
      "cell_type": "code",
      "execution_count": 56,
      "metadata": {
        "scrolled": false,
        "id": "vfe9GI-obO9p",
        "outputId": "8cee6d2d-8466-4a1d-8fed-c2deab6b0b0b",
        "colab": {
          "base_uri": "https://localhost:8080/",
          "height": 776
        }
      },
      "outputs": [
        {
          "output_type": "display_data",
          "data": {
            "text/plain": [
              "<Figure size 1440x864 with 1 Axes>"
            ],
            "image/png": "[encoded data removed]"
          },
          "metadata": {
            "needs_background": "light"
          }
        }
      ],
      "source": [
        "ax=new_df_ultra_table.plot(\n",
        "    y='profit', x='month_name', grid=True, figsize=(20,12), kind='bar', \n",
        "    label='ultra',color='b', legend=True, title='Сумма прибыли'\n",
        "    )\n",
        "\n",
        "new_df_smart_table.plot(\n",
        "    y='profit', x='month_name', grid=True, figsize=(20,12), kind='bar', \n",
        "    label='smart', color='g', alpha=0.5, ax=ax, legend=True\n",
        "    )\n",
        "\n",
        "plt.show()"
      ]
    },
    {
      "cell_type": "markdown",
      "metadata": {
        "id": "97z2VdaebO9w"
      },
      "source": [
        "С данными графиками я просидел большую часть проекта. Когда я увидел, что идет простое увеличение от месяца к месяцу, я был уверен, что сделал что то неправильно. Когда месяца были в алфавитном порядке, это было не так сильно заметно, после изменения стало очень заметно. Перепроверял в самом начале, еще перед объединением через query() по каждому месяцу информацию, сколько значений и т.д., так и не смог найти потверждения, что я ошибся."
      ]
    },
    {
      "cell_type": "markdown",
      "metadata": {
        "id": "Z6XRWw8ObO9x"
      },
      "source": [
        "#  Проанализируем данные"
      ]
    },
    {
      "cell_type": "markdown",
      "metadata": {
        "id": "epVLOTiVbO9x"
      },
      "source": [
        "Для каждого тарифа найдем среднее значение, дисперсию, стандартное отклонение для каждого параметра (время звонка, смс, интернет трафик). Для этого используем цикл."
      ]
    },
    {
      "cell_type": "code",
      "execution_count": 57,
      "metadata": {
        "id": "k6Y3IEWXbO9x",
        "outputId": "918deb4d-0c9f-4722-a2a4-0d31cb4662c1",
        "colab": {
          "base_uri": "https://localhost:8080/"
        }
      },
      "outputs": [
        {
          "output_type": "stream",
          "name": "stdout",
          "text": [
            "Тариф Smart\n",
            "\n",
            "Среднее значение minutes: 419\n",
            "Дисперсия minutes: 35844\n",
            "Стандартное отклонение minutes: 189 \n",
            "\n",
            "Среднее значение sum_messages: 39\n",
            "Дисперсия sum_messages: 718\n",
            "Стандартное отклонение sum_messages: 27 \n",
            "\n",
            "Среднее значение sum_mb_used: 16236\n",
            "Дисперсия sum_mb_used: 34443101\n",
            "Стандартное отклонение sum_mb_used: 5868 \n",
            "\n"
          ]
        }
      ],
      "source": [
        "print('Тариф Smart')\n",
        "print()\n",
        "for column in new_df_smart[['minutes','sum_messages','sum_mb_used']]:\n",
        "    print('Среднее значение {}: {:.0f}'.format(column,new_df_smart[column].mean()))\n",
        "    print('Дисперсия {}: {:.0f}'.format(column,np.var(new_df_smart[column], ddof=1)))\n",
        "    print('Стандартное отклонение {}: {:.0f} \\n'.format(column, np.std(new_df_smart[column])))"
      ]
    },
    {
      "cell_type": "code",
      "execution_count": 58,
      "metadata": {
        "id": "61RT4S9wbO9y",
        "outputId": "acebcfac-5113-409e-c533-d783bc36210f",
        "colab": {
          "base_uri": "https://localhost:8080/",
          "height": 332
        }
      },
      "outputs": [
        {
          "output_type": "execute_result",
          "data": {
            "text/plain": [
              "<pandas.io.formats.style.Styler at 0x7fa766e8bfd0>"
            ],
            "text/html": [
              "<style type=\"text/css\">\n",
              "</style>\n",
              "<table id=\"T_ef273_\" class=\"dataframe\">\n",
              "  <thead>\n",
              "    <tr>\n",
              "      <th class=\"blank\" >&nbsp;</th>\n",
              "      <th class=\"index_name level0\" >tariff</th>\n",
              "      <th class=\"col_heading level0 col0\" >smart</th>\n",
              "      <th class=\"col_heading level0 col1\" >ultra</th>\n",
              "    </tr>\n",
              "  </thead>\n",
              "  <tbody>\n",
              "    <tr>\n",
              "      <th id=\"T_ef273_level0_row0\" class=\"row_heading level0 row0\" rowspan=\"3\">mean</th>\n",
              "      <th id=\"T_ef273_level1_row0\" class=\"row_heading level1 row0\" >minutes</th>\n",
              "      <td id=\"T_ef273_row0_col0\" class=\"data row0 col0\" >419.06</td>\n",
              "      <td id=\"T_ef273_row0_col1\" class=\"data row0 col1\" >545.45</td>\n",
              "    </tr>\n",
              "    <tr>\n",
              "      <th id=\"T_ef273_level1_row1\" class=\"row_heading level1 row1\" >sum_mb_used</th>\n",
              "      <td id=\"T_ef273_row1_col0\" class=\"data row1 col0\" >16236.47</td>\n",
              "      <td id=\"T_ef273_row1_col1\" class=\"data row1 col1\" >19686.77</td>\n",
              "    </tr>\n",
              "    <tr>\n",
              "      <th id=\"T_ef273_level1_row2\" class=\"row_heading level1 row2\" >sum_messages</th>\n",
              "      <td id=\"T_ef273_row2_col0\" class=\"data row2 col0\" >38.72</td>\n",
              "      <td id=\"T_ef273_row2_col1\" class=\"data row2 col1\" >61.16</td>\n",
              "    </tr>\n",
              "    <tr>\n",
              "      <th id=\"T_ef273_level0_row3\" class=\"row_heading level0 row3\" rowspan=\"3\">std</th>\n",
              "      <th id=\"T_ef273_level1_row3\" class=\"row_heading level1 row3\" >minutes</th>\n",
              "      <td id=\"T_ef273_row3_col0\" class=\"data row3 col0\" >189.33</td>\n",
              "      <td id=\"T_ef273_row3_col1\" class=\"data row3 col1\" >306.93</td>\n",
              "    </tr>\n",
              "    <tr>\n",
              "      <th id=\"T_ef273_level1_row4\" class=\"row_heading level1 row4\" >sum_mb_used</th>\n",
              "      <td id=\"T_ef273_row4_col0\" class=\"data row4 col0\" >5868.82</td>\n",
              "      <td id=\"T_ef273_row4_col1\" class=\"data row4 col1\" >9952.06</td>\n",
              "    </tr>\n",
              "    <tr>\n",
              "      <th id=\"T_ef273_level1_row5\" class=\"row_heading level1 row5\" >sum_messages</th>\n",
              "      <td id=\"T_ef273_row5_col0\" class=\"data row5 col0\" >26.79</td>\n",
              "      <td id=\"T_ef273_row5_col1\" class=\"data row5 col1\" >45.93</td>\n",
              "    </tr>\n",
              "    <tr>\n",
              "      <th id=\"T_ef273_level0_row6\" class=\"row_heading level0 row6\" rowspan=\"3\">var</th>\n",
              "      <th id=\"T_ef273_level1_row6\" class=\"row_heading level1 row6\" >minutes</th>\n",
              "      <td id=\"T_ef273_row6_col0\" class=\"data row6 col0\" >35844.19</td>\n",
              "      <td id=\"T_ef273_row6_col1\" class=\"data row6 col1\" >94203.42</td>\n",
              "    </tr>\n",
              "    <tr>\n",
              "      <th id=\"T_ef273_level1_row7\" class=\"row_heading level1 row7\" >sum_mb_used</th>\n",
              "      <td id=\"T_ef273_row7_col0\" class=\"data row7 col0\" >34443100.68</td>\n",
              "      <td id=\"T_ef273_row7_col1\" class=\"data row7 col1\" >99043439.61</td>\n",
              "    </tr>\n",
              "    <tr>\n",
              "      <th id=\"T_ef273_level1_row8\" class=\"row_heading level1 row8\" >sum_messages</th>\n",
              "      <td id=\"T_ef273_row8_col0\" class=\"data row8 col0\" >717.59</td>\n",
              "      <td id=\"T_ef273_row8_col1\" class=\"data row8 col1\" >2109.66</td>\n",
              "    </tr>\n",
              "  </tbody>\n",
              "</table>\n"
            ]
          },
          "metadata": {},
          "execution_count": 58
        }
      ],
      "source": [
        "new_df.pivot_table(index='tariff',  \n",
        "                 values=['minutes','sum_messages','sum_mb_used'], \n",
        "                 aggfunc=['mean', 'std', 'var']).T.style.format('{:.2f}')"
      ]
    },
    {
      "cell_type": "code",
      "execution_count": 59,
      "metadata": {
        "scrolled": true,
        "id": "GBRs1ejWbO9y",
        "outputId": "ad4b1820-b743-490c-e7b9-faaf0e59755b",
        "colab": {
          "base_uri": "https://localhost:8080/"
        }
      },
      "outputs": [
        {
          "output_type": "stream",
          "name": "stdout",
          "text": [
            "Тариф Ultra\n",
            "\n",
            "Среднее значение minutes: 545\n",
            "Дисперсия minutes: 94203\n",
            "Стандартное отклонение minutes: 307 \n",
            "\n",
            "Среднее значение sum_messages: 61\n",
            "Дисперсия sum_messages: 2110\n",
            "Стандартное отклонение sum_messages: 46 \n",
            "\n",
            "Среднее значение sum_mb_used: 19687\n",
            "Дисперсия sum_mb_used: 99043440\n",
            "Стандартное отклонение sum_mb_used: 9947 \n",
            "\n"
          ]
        }
      ],
      "source": [
        "print('Тариф Ultra')\n",
        "print()\n",
        "for column in new_df_ultra[['minutes','sum_messages','sum_mb_used']]:\n",
        "    print('Среднее значение {}: {:.0f}'.format(column,new_df_ultra[column].mean()))\n",
        "    print('Дисперсия {}: {:.0f}'.format(column,np.var(new_df_ultra[column], ddof=1)))\n",
        "    print('Стандартное отклонение {}: {:.0f} \\n'.format(column, np.std(new_df_ultra[column])))"
      ]
    },
    {
      "cell_type": "code",
      "execution_count": 60,
      "metadata": {
        "scrolled": false,
        "id": "lazblEGRbO9z",
        "outputId": "e91a542d-da4e-4a13-b63c-c85a4ebec79f",
        "colab": {
          "base_uri": "https://localhost:8080/"
        }
      },
      "outputs": [
        {
          "output_type": "stream",
          "name": "stdout",
          "text": [
            "            profit\n",
            "count  2230.000000\n",
            "mean   1233.043032\n",
            "std     787.644371\n",
            "min     550.000000\n",
            "25%     550.000000\n",
            "50%     959.546875\n",
            "75%    1667.587891\n",
            "max    6711.015625\n",
            "\n",
            "\n",
            "            profit\n",
            "count   986.000000\n",
            "mean   2060.417872\n",
            "std     356.141530\n",
            "min    1950.000000\n",
            "25%    1950.000000\n",
            "50%    1950.000000\n",
            "75%    1950.000000\n",
            "max    4743.310547\n"
          ]
        }
      ],
      "source": [
        "print (new_df_smart[['profit']].describe())\n",
        "print()\n",
        "print()\n",
        "print (new_df_ultra[['profit']].describe())"
      ]
    },
    {
      "cell_type": "markdown",
      "metadata": {
        "id": "Nu67jhlrbO9z"
      },
      "source": [
        "Для каждого тарифа создадим таблицу, в которых будет отображено средние значения каждого из параметров (опять используем функцию для правильного порядка месяцев)"
      ]
    },
    {
      "cell_type": "code",
      "execution_count": 61,
      "metadata": {
        "scrolled": true,
        "id": "VM380H3qbO9z"
      },
      "outputs": [],
      "source": [
        "new_df_smart_mean = new_df_smart.pivot_table(\n",
        "    index='month_name', values=['minutes','sum_messages','sum_mb_used','profit'], aggfunc=['mean']\n",
        "    )\n",
        "new_df_smart_mean.reset_index(inplace=True)"
      ]
    },
    {
      "cell_type": "code",
      "source": [
        "months = [\"January\", \"February\", \"March\", \"April\", \"May\", \"June\", \n",
        "          \"July\", \"August\", \"September\", \"October\", \"November\", \"December\"]\n",
        "\n",
        "new_df_smart_mean['month_name'] = pd.Categorical(\n",
        "    new_df_smart_mean['month_name'], categories=months, ordered=True\n",
        "    )\n",
        "\n",
        "new_df_smart_mean = new_df_smart_mean.sort_values(by=\"month_name\")\n",
        "new_df_smart_mean = new_df_smart_mean.drop(0)"
      ],
      "metadata": {
        "id": "IaJMXysE6Czy"
      },
      "execution_count": 62,
      "outputs": []
    },
    {
      "cell_type": "code",
      "execution_count": 63,
      "metadata": {
        "scrolled": true,
        "id": "_XbBcweObO90"
      },
      "outputs": [],
      "source": [
        "new_df_ultra_mean = new_df_ultra.pivot_table(\n",
        "    index='month_name', values=['minutes','sum_messages','sum_mb_used','profit'], aggfunc='mean'\n",
        "    )\n",
        "new_df_ultra_mean.reset_index(inplace=True)"
      ]
    },
    {
      "cell_type": "code",
      "source": [
        "months = [\"January\", \"February\", \"March\", \"April\", \"May\", \"June\", \n",
        "          \"July\", \"August\", \"September\", \"October\", \"November\", \"December\"]\n",
        "\n",
        "new_df_ultra_mean['month_name'] = pd.Categorical(\n",
        "    new_df_ultra_mean['month_name'], categories=months, ordered=True\n",
        "    )\n",
        "\n",
        "new_df_ultra_mean = new_df_ultra_mean.sort_values(by=\"month_name\")"
      ],
      "metadata": {
        "id": "HItLau5t6RyK"
      },
      "execution_count": 64,
      "outputs": []
    },
    {
      "cell_type": "code",
      "execution_count": 65,
      "metadata": {
        "id": "SoS1NOFhbO90",
        "outputId": "527e3c44-db7b-4e03-ebdf-aec6d5bdcb5a",
        "colab": {
          "base_uri": "https://localhost:8080/"
        }
      },
      "outputs": [
        {
          "output_type": "stream",
          "name": "stdout",
          "text": [
            "<class 'pandas.core.frame.DataFrame'>\n",
            "Int64Index: 986 entries, 60 to 3214\n",
            "Data columns (total 12 columns):\n",
            " #   Column        Non-Null Count  Dtype         \n",
            "---  ------        --------------  -----         \n",
            " 0   user_id       986 non-null    int64         \n",
            " 1   month_name    985 non-null    object        \n",
            " 2   sum_messages  795 non-null    float64       \n",
            " 3   minutes       951 non-null    float64       \n",
            " 4   sum_calls     951 non-null    float64       \n",
            " 5   sum_mb_used   975 non-null    float64       \n",
            " 6   city          986 non-null    object        \n",
            " 7   first_name    986 non-null    object        \n",
            " 8   last_name     986 non-null    object        \n",
            " 9   reg_date      986 non-null    datetime64[ns]\n",
            " 10  tariff        986 non-null    object        \n",
            " 11  profit        986 non-null    float64       \n",
            "dtypes: datetime64[ns](1), float64(5), int64(1), object(5)\n",
            "memory usage: 100.1+ KB\n"
          ]
        }
      ],
      "source": [
        "new_df_ultra.info()"
      ]
    },
    {
      "cell_type": "markdown",
      "metadata": {
        "id": "sYeRMTyFbO90"
      },
      "source": [
        "Построим диаграммы размаха для двух тарифов, используя данные по смс, звонкам и инетрнету"
      ]
    },
    {
      "cell_type": "code",
      "execution_count": 66,
      "metadata": {
        "scrolled": false,
        "id": "FwBcgsF2bO90",
        "outputId": "1240c83d-e98c-4bbd-90c1-4a381ecac7f8",
        "colab": {
          "base_uri": "https://localhost:8080/",
          "height": 1000
        }
      },
      "outputs": [
        {
          "output_type": "display_data",
          "data": {
            "text/plain": [
              "<Figure size 720x432 with 1 Axes>"
            ],
            "image/png": "[encoded data removed]"
          },
          "metadata": {
            "needs_background": "light"
          }
        },
        {
          "output_type": "display_data",
          "data": {
            "text/plain": [
              "<Figure size 720x432 with 1 Axes>"
            ],
            "image/png": "[encoded data removed]"
          },
          "metadata": {
            "needs_background": "light"
          }
        },
        {
          "output_type": "display_data",
          "data": {
            "text/plain": [
              "<Figure size 720x432 with 1 Axes>"
            ],
            "image/png": "[encoded data removed]"
          },
          "metadata": {
            "needs_background": "light"
          }
        }
      ],
      "source": [
        "for columns in new_df[['minutes','sum_messages','sum_mb_used']]:\n",
        "    plt.figure(figsize=(10,6))\n",
        "    plt.title(columns, fontsize=20)\n",
        "    sns.boxplot(data=new_df, x=columns, y='tariff')"
      ]
    },
    {
      "cell_type": "code",
      "execution_count": 67,
      "metadata": {
        "id": "q7esqgsabO91",
        "outputId": "de60b2b5-f6e3-4c17-d0a4-20191aace197",
        "colab": {
          "base_uri": "https://localhost:8080/",
          "height": 630
        }
      },
      "outputs": [
        {
          "output_type": "display_data",
          "data": {
            "text/plain": [
              "<Figure size 1800x720 with 1 Axes>"
            ],
            "image/png": "[encoded data removed]"
          },
          "metadata": {
            "needs_background": "light"
          }
        }
      ],
      "source": [
        "new_df_smart['sum_messages'].plot(\n",
        "    kind='hist', alpha=1, figsize=(25,10), title='Количество смс для тарифа Ультра и Смарт', grid=True\n",
        "    )\n",
        "\n",
        "new_df_ultra['sum_messages'].plot(\n",
        "    kind='hist', figsize=(25,10), alpha=0.5, grid=True\n",
        "    )\n",
        "\n",
        "plt.xlabel('Кол-во смс', fontsize=20)\n",
        "plt.ylabel('Кол во человек', fontsize=20)\n",
        "plt.show()"
      ]
    },
    {
      "cell_type": "code",
      "execution_count": 68,
      "metadata": {
        "scrolled": false,
        "id": "TDfPCuLwbO91",
        "outputId": "4f9c71f2-1f08-43be-b3e0-aec621cc088e",
        "colab": {
          "base_uri": "https://localhost:8080/",
          "height": 630
        }
      },
      "outputs": [
        {
          "output_type": "display_data",
          "data": {
            "text/plain": [
              "<Figure size 1800x720 with 1 Axes>"
            ],
            "image/png": "[encoded data removed]"
          },
          "metadata": {
            "needs_background": "light"
          }
        }
      ],
      "source": [
        "new_df_smart['sum_mb_used'].plot(\n",
        "    kind='hist', alpha=1, figsize=(25,10), title='Количество интернет трафика для тарифа Ультра и Смарт', grid=True\n",
        "    )\n",
        "\n",
        "new_df_ultra['sum_mb_used'].plot(\n",
        "    kind='hist',figsize=(25,10), alpha=0.5, grid=True\n",
        "    )\n",
        "\n",
        "plt.xlabel('Кол-во используемого интернета', fontsize=20)\n",
        "plt.ylabel('Кол во человек', fontsize=20)\n",
        "plt.show()"
      ]
    },
    {
      "cell_type": "code",
      "execution_count": 69,
      "metadata": {
        "id": "9hn7E6jNbO91",
        "outputId": "0d313f65-c896-481a-ad09-fce34c17233b",
        "colab": {
          "base_uri": "https://localhost:8080/",
          "height": 630
        }
      },
      "outputs": [
        {
          "output_type": "display_data",
          "data": {
            "text/plain": [
              "<Figure size 1800x720 with 1 Axes>"
            ],
            "image/png": "[encoded data removed]"
          },
          "metadata": {
            "needs_background": "light"
          }
        }
      ],
      "source": [
        "new_df_smart['minutes'].plot(\n",
        "    kind='hist', alpha=1, figsize=(25,10), title='Количество звонков для тарифа Ультра и Смарт', grid=True\n",
        "    )\n",
        "\n",
        "new_df_ultra['minutes'].plot(\n",
        "    kind='hist',figsize=(25,10), alpha=0.5, grid=True\n",
        "    )\n",
        "\n",
        "plt.xlabel('Кол-во звонков', fontsize=20)\n",
        "plt.ylabel('Кол-во человек', fontsize=20)\n",
        "plt.show()"
      ]
    },
    {
      "cell_type": "code",
      "execution_count": 70,
      "metadata": {
        "id": "V8Qhba10bO92",
        "outputId": "0b8925fb-a9cd-429a-a137-860803731f99",
        "colab": {
          "base_uri": "https://localhost:8080/",
          "height": 659
        }
      },
      "outputs": [
        {
          "output_type": "display_data",
          "data": {
            "text/plain": [
              "<Figure size 1080x720 with 2 Axes>"
            ],
            "image/png": "[encoded data removed]"
          },
          "metadata": {
            "needs_background": "light"
          }
        }
      ],
      "source": [
        "def plot_hist_boxplot(df, group_col, column, title='Диаграмма распределений и боксплоты', bins=[50, 50]):\n",
        "    \n",
        "    np.warnings.filterwarnings('ignore', category=np.VisibleDeprecationWarning)\n",
        "    \n",
        "    fig, axes = plt.subplots(2, 1, figsize=(15, 10))\n",
        "    \n",
        "    for item in df[group_col].unique():\n",
        "        axes[0].hist(df.loc[df[group_col] == item, column], bins=bins[0], label=item, alpha=0.5)\n",
        "    axes[0].legend()\n",
        "    axes[0].grid()\n",
        "    \n",
        "    df.boxplot(column, by=group_col, ax=axes[1], vert=False)\n",
        "    fig.suptitle(title)\n",
        "    \n",
        "    plt.show()\n",
        "    \n",
        "plot_hist_boxplot(new_df, 'tariff', 'minutes')"
      ]
    },
    {
      "cell_type": "markdown",
      "metadata": {
        "id": "g-kmcQWnbO92"
      },
      "source": [
        "Вывод\n",
        "\n",
        "Исходя из полученных графиков видно, что:\n",
        "\n",
        "а) пользователи тарифа Smart в среднем говорят по 420 мин, когда пользователи тарифа Ultra -  около 510 мин;\n",
        "\n",
        "б) пользователи тарифа Smart используют примерно 16000 мб, в то время как пользователи тарифа Ultra -  около 19000 мб;\n",
        "\n",
        "в) пользователи тарифа Smart отправляют 35 сообщений, когда пользователи тарифа Ultra отправляют около 50 сообщений;\n",
        "\n",
        "Ниже выведем повторно условия каждого из тарифов"
      ]
    },
    {
      "cell_type": "code",
      "execution_count": 71,
      "metadata": {
        "id": "j20wMkSPbO93",
        "outputId": "1130a792-0095-41be-9682-9c9076a89c41",
        "colab": {
          "base_uri": "https://localhost:8080/",
          "height": 112
        }
      },
      "outputs": [
        {
          "output_type": "execute_result",
          "data": {
            "text/plain": [
              "   messages_included  mb_per_month_included  minutes_included  \\\n",
              "0                 50                  15360               500   \n",
              "1               1000                  30720              3000   \n",
              "\n",
              "   rub_monthly_fee  rub_per_gb  rub_per_message  rub_per_minute tariff_name  \n",
              "0              550         200                3               3       smart  \n",
              "1             1950         150                1               1       ultra  "
            ],
            "text/html": [
              "\n",
              "  <div id=\"df-6d4d25fc-9740-484a-aa4f-acc6c6568aad\">\n",
              "    <div class=\"colab-df-container\">\n",
              "      <div>\n",
              "<style scoped>\n",
              "    .dataframe tbody tr th:only-of-type {\n",
              "        vertical-align: middle;\n",
              "    }\n",
              "\n",
              "    .dataframe tbody tr th {\n",
              "        vertical-align: top;\n",
              "    }\n",
              "\n",
              "    .dataframe thead th {\n",
              "        text-align: right;\n",
              "    }\n",
              "</style>\n",
              "<table border=\"1\" class=\"dataframe\">\n",
              "  <thead>\n",
              "    <tr style=\"text-align: right;\">\n",
              "      <th></th>\n",
              "      <th>messages_included</th>\n",
              "      <th>mb_per_month_included</th>\n",
              "      <th>minutes_included</th>\n",
              "      <th>rub_monthly_fee</th>\n",
              "      <th>rub_per_gb</th>\n",
              "      <th>rub_per_message</th>\n",
              "      <th>rub_per_minute</th>\n",
              "      <th>tariff_name</th>\n",
              "    </tr>\n",
              "  </thead>\n",
              "  <tbody>\n",
              "    <tr>\n",
              "      <th>0</th>\n",
              "      <td>50</td>\n",
              "      <td>15360</td>\n",
              "      <td>500</td>\n",
              "      <td>550</td>\n",
              "      <td>200</td>\n",
              "      <td>3</td>\n",
              "      <td>3</td>\n",
              "      <td>smart</td>\n",
              "    </tr>\n",
              "    <tr>\n",
              "      <th>1</th>\n",
              "      <td>1000</td>\n",
              "      <td>30720</td>\n",
              "      <td>3000</td>\n",
              "      <td>1950</td>\n",
              "      <td>150</td>\n",
              "      <td>1</td>\n",
              "      <td>1</td>\n",
              "      <td>ultra</td>\n",
              "    </tr>\n",
              "  </tbody>\n",
              "</table>\n",
              "</div>\n",
              "      <button class=\"colab-df-convert\" onclick=\"convertToInteractive('df-6d4d25fc-9740-484a-aa4f-acc6c6568aad')\"\n",
              "              title=\"Convert this dataframe to an interactive table.\"\n",
              "              style=\"display:none;\">\n",
              "        \n",
              "  <svg xmlns=\"http://www.w3.org/2000/svg\" height=\"24px\"viewBox=\"0 0 24 24\"\n",
              "       width=\"24px\">\n",
              "    <path d=\"M0 0h24v24H0V0z\" fill=\"none\"/>\n",
              "    <path d=\"M18.56 5.44l.94 2.06.94-2.06 2.06-.94-2.06-.94-.94-2.06-.94 2.06-2.06.94zm-11 1L8.5 8.5l.94-2.06 2.06-.94-2.06-.94L8.5 2.5l-.94 2.06-2.06.94zm10 10l.94 2.06.94-2.06 2.06-.94-2.06-.94-.94-2.06-.94 2.06-2.06.94z\"/><path d=\"M17.41 7.96l-1.37-1.37c-.4-.4-.92-.59-1.43-.59-.52 0-1.04.2-1.43.59L10.3 9.45l-7.72 7.72c-.78.78-.78 2.05 0 2.83L4 21.41c.39.39.9.59 1.41.59.51 0 1.02-.2 1.41-.59l7.78-7.78 2.81-2.81c.8-.78.8-2.07 0-2.86zM5.41 20L4 18.59l7.72-7.72 1.47 1.35L5.41 20z\"/>\n",
              "  </svg>\n",
              "      </button>\n",
              "      \n",
              "  <style>\n",
              "    .colab-df-container {\n",
              "      display:flex;\n",
              "      flex-wrap:wrap;\n",
              "      gap: 12px;\n",
              "    }\n",
              "\n",
              "    .colab-df-convert {\n",
              "      background-color: #E8F0FE;\n",
              "      border: none;\n",
              "      border-radius: 50%;\n",
              "      cursor: pointer;\n",
              "      display: none;\n",
              "      fill: #1967D2;\n",
              "      height: 32px;\n",
              "      padding: 0 0 0 0;\n",
              "      width: 32px;\n",
              "    }\n",
              "\n",
              "    .colab-df-convert:hover {\n",
              "      background-color: #E2EBFA;\n",
              "      box-shadow: 0px 1px 2px rgba(60, 64, 67, 0.3), 0px 1px 3px 1px rgba(60, 64, 67, 0.15);\n",
              "      fill: #174EA6;\n",
              "    }\n",
              "\n",
              "    [theme=dark] .colab-df-convert {\n",
              "      background-color: #3B4455;\n",
              "      fill: #D2E3FC;\n",
              "    }\n",
              "\n",
              "    [theme=dark] .colab-df-convert:hover {\n",
              "      background-color: #434B5C;\n",
              "      box-shadow: 0px 1px 3px 1px rgba(0, 0, 0, 0.15);\n",
              "      filter: drop-shadow(0px 1px 2px rgba(0, 0, 0, 0.3));\n",
              "      fill: #FFFFFF;\n",
              "    }\n",
              "  </style>\n",
              "\n",
              "      <script>\n",
              "        const buttonEl =\n",
              "          document.querySelector('#df-6d4d25fc-9740-484a-aa4f-acc6c6568aad button.colab-df-convert');\n",
              "        buttonEl.style.display =\n",
              "          google.colab.kernel.accessAllowed ? 'block' : 'none';\n",
              "\n",
              "        async function convertToInteractive(key) {\n",
              "          const element = document.querySelector('#df-6d4d25fc-9740-484a-aa4f-acc6c6568aad');\n",
              "          const dataTable =\n",
              "            await google.colab.kernel.invokeFunction('convertToInteractive',\n",
              "                                                     [key], {});\n",
              "          if (!dataTable) return;\n",
              "\n",
              "          const docLinkHtml = 'Like what you see? Visit the ' +\n",
              "            '<a target=\"_blank\" href=https://colab.research.google.com/notebooks/data_table.ipynb>data table notebook</a>'\n",
              "            + ' to learn more about interactive tables.';\n",
              "          element.innerHTML = '';\n",
              "          dataTable['output_type'] = 'display_data';\n",
              "          await google.colab.output.renderOutput(dataTable, element);\n",
              "          const docLink = document.createElement('div');\n",
              "          docLink.innerHTML = docLinkHtml;\n",
              "          element.appendChild(docLink);\n",
              "        }\n",
              "      </script>\n",
              "    </div>\n",
              "  </div>\n",
              "  "
            ]
          },
          "metadata": {},
          "execution_count": 71
        }
      ],
      "source": [
        "tariff_data"
      ]
    },
    {
      "cell_type": "code",
      "execution_count": 72,
      "metadata": {
        "scrolled": true,
        "id": "yNjAUqfRbO93",
        "outputId": "5c2ea32d-1bc8-4eb3-d631-0b431fc09925",
        "colab": {
          "base_uri": "https://localhost:8080/"
        }
      },
      "outputs": [
        {
          "output_type": "stream",
          "name": "stdout",
          "text": [
            "В среднем выручка с пользователя тарифа Смарт в месяц составляет 1233 рублей\n",
            "В среднем выручка с пользователя тарифа Ультра в месяц составляет 2060 рублей\n"
          ]
        }
      ],
      "source": [
        "print('В среднем выручка с пользователя тарифа Смарт в месяц составляет {:.0f} рублей'.format (new_df_smart['profit'].mean()))\n",
        "print('В среднем выручка с пользователя тарифа Ультра в месяц составляет {:.0f} рублей'.format (new_df_ultra['profit'].mean()))"
      ]
    },
    {
      "cell_type": "code",
      "execution_count": 73,
      "metadata": {
        "scrolled": false,
        "id": "YGoKc2RhbO93",
        "outputId": "8fe5d9bf-0bc7-4e1c-d8a6-b083b1b681f9",
        "colab": {
          "base_uri": "https://localhost:8080/"
        }
      },
      "outputs": [
        {
          "output_type": "stream",
          "name": "stdout",
          "text": [
            "Прибыль по тарифу Ультра за год: 2031572 рублей\n",
            "Прибыль по тарифу Смарт за год: 2749686 рублей\n"
          ]
        }
      ],
      "source": [
        "print('Прибыль по тарифу Ультра за год: {:.0f} рублей'.format(new_df_ultra['profit'].sum()))\n",
        "print('Прибыль по тарифу Смарт за год: {:.0f} рублей'.format(new_df_smart['profit'].sum()))"
      ]
    },
    {
      "cell_type": "markdown",
      "metadata": {
        "id": "0Yw4mwiUbO93"
      },
      "source": [
        "Изучив данные, мы выявили, что клиенты тарифа практически не превышают лимит своего пакета в отличие от клиентов тарифа Смарт. Основная выручка для тарифа \"Ультра\" идет благодаря абонетской плате, ее пользователи редко превышают лимит.\n",
        "\n",
        "Пользователи тарифа \"Смарт\" наоборот, очень часто платят за превышение условий, однако абонентская плата в этом тарифе не является основной \"статьей\" дохода для компании\n",
        "\n",
        "В то же время, мы видим, что, несмотря на индивидуальные показатели клиентов разных тарифов(выручка с одного конкретного пользователя тарифа \"Ультра\" больше чем с одного конкретного пользователя тарифа \"Смарт\") выручка с клиентов тарифа \"Смарт\" за год выше, чем выручка с клиентов тарифа \"Ультра\" на 700 000 руб."
      ]
    },
    {
      "cell_type": "markdown",
      "metadata": {
        "id": "eXLAh2FxbO93"
      },
      "source": [
        "#  Проверяем гипотезы\n"
      ]
    },
    {
      "cell_type": "markdown",
      "metadata": {
        "id": "2_bA8P57bO94"
      },
      "source": [
        "Задача: Средняя выручка пользователей тарифов «Ультра» и «Смарт» могут различаться:\n",
        "\n",
        "Для того, чтобы подтвердить либо опровергнуть данное заявление, необходимо сформулировать 2 гипотезы:\n",
        "\n",
        "-Нулевая гипотеза \"H_0\": Средняя выручка пользователей тарифов Смарт и Ультра не различается\n",
        "\n",
        "-Альтернативная гипотеза \"H_1\": Средняя выручка пользователей тарифов Смарт и Ультра различается\n",
        "\n",
        "параметр alpha =  5%"
      ]
    },
    {
      "cell_type": "code",
      "execution_count": 74,
      "metadata": {
        "id": "_Nc4iP4bbO94",
        "outputId": "1ef1bed9-82ea-4b02-d8f1-6e73ebffd343",
        "colab": {
          "base_uri": "https://localhost:8080/"
        }
      },
      "outputs": [
        {
          "output_type": "stream",
          "name": "stdout",
          "text": [
            "126836.78921496592\n",
            "620383.6548572079\n"
          ]
        }
      ],
      "source": [
        "print (new_df_ultra['profit'].var())\n",
        "print (new_df_smart['profit'].var())"
      ]
    },
    {
      "cell_type": "markdown",
      "metadata": {
        "id": "MOhoPEzzbO95"
      },
      "source": [
        "Для начала проверим можем ли мы считать дисперсии выборок равными. \n",
        "\n",
        "Они существенно различаются, значит - equal_var=False"
      ]
    },
    {
      "cell_type": "code",
      "execution_count": 75,
      "metadata": {
        "id": "4NBL6tdVbO95"
      },
      "outputs": [],
      "source": [
        "ultra_profit = new_df_ultra['profit']\n",
        "smart_profit = new_df_smart['profit']"
      ]
    },
    {
      "cell_type": "code",
      "execution_count": 76,
      "metadata": {
        "scrolled": true,
        "id": "CradhJjebO95",
        "outputId": "63d88559-650f-4984-de25-7f6a7236651a",
        "colab": {
          "base_uri": "https://localhost:8080/"
        }
      },
      "outputs": [
        {
          "output_type": "stream",
          "name": "stdout",
          "text": [
            "p-значение: 3.665639404941842e-296\n",
            "Отвергаем нулевую гипотезу\n"
          ]
        }
      ],
      "source": [
        "alpha = 0.05\n",
        "\n",
        "results = st.ttest_ind(ultra_profit, smart_profit, equal_var=False)\n",
        "\n",
        "print('p-значение:', results.pvalue)\n",
        "\n",
        "\n",
        "if (results.pvalue > alpha):\n",
        "    print(\"Не получилось отвергнуть нулевую гипотезу\")\n",
        "else:\n",
        "    print(\"Отвергаем нулевую гипотезу\")"
      ]
    },
    {
      "cell_type": "markdown",
      "metadata": {
        "id": "ieemPgT2bO96"
      },
      "source": [
        "Исходя из исследования можно увидеть, нулевая гипотеза не подтвердилась"
      ]
    },
    {
      "cell_type": "markdown",
      "metadata": {
        "id": "xYoIJjqtbO96"
      },
      "source": [
        "Задача: Средняя выручка пользователей из Москвы отличается от выручки пользователей из других регионов.\n",
        "регионов\n",
        "Для того, чтобы подтвердить либо опровергнуть данное заявление необходимо сформулировать две пары гипотез :\n",
        "\n",
        "а)\n",
        "\n",
        "-Нулевая гипотеза H_0: Выручка пользователей тарифа \"Ультра\" из Москвы не отличается от выручки пользователей тарифа \"Ультра\" из других регионов\n",
        "\n",
        "-Альтернативная гипотеза H_1: Средняя выручка пользователей тарифа \"Ультра\" из Москвы отличается от выручки пользователей тарифа \"Ультра\" из других регионов\n",
        "\n",
        "б) \n",
        "\n",
        "-Нулевая гипотеза H_0: Выручка пользователей тарифа \"Смарт\" из Москвы не отличается от выручки пользователей тарифа \"Смарт\" из других регионов\n",
        "\n",
        "-Альтернативная гипотеза H_1: Средняя выручка пользователей тарифа \"Смарт\" из Москвы отличается от выручки пользователей тарифа \"Смарт\" из других регионов\n",
        "\n",
        "параметр alpha =  5%\n",
        "\n",
        "\n",
        "В первую очередь создадим срезы в таблицах по названию городов"
      ]
    },
    {
      "cell_type": "code",
      "execution_count": 77,
      "metadata": {
        "id": "-1agOMgzbO96"
      },
      "outputs": [],
      "source": [
        "def profit_for_tariff_3(row):\n",
        "    mb_used = row['sum_mb_used']\n",
        "    minutes = row['minutes']\n",
        "    messages = row['sum_messages']\n",
        "    tariff = row['tariff']\n",
        "    total_megabytes = 0\n",
        "    total_messages = 0 \n",
        "    total_minutes = 0\n",
        "    if tariff == 'smart':\n",
        "        if mb_used > sm_megabytes_per_month_incl:\n",
        "            total_megabytes = (mb_used - sm_megabytes_per_month_incl) * sm_price_for_megabyte\n",
        "        if minutes > sm_minutes:\n",
        "            total_minutes = (minutes - sm_minutes) * sm_rub_per_minute\n",
        "        if messages > sm_messages:\n",
        "            total_messages = (messages - sm_messages) * sm_rub_per_message\n",
        "        \n",
        "        return total_megabytes + total_minutes + total_messages + sm_monthly_fee\n",
        "\n",
        "    if tariff == 'ultra':\n",
        "        if mb_used > ult_megabytes_per_month_incl:\n",
        "            total_megabytes = (mb_used - ult_megabytes_per_month_incl) * ult_price_for_megabyte\n",
        "        if minutes > ult_minutes:\n",
        "            total_minutes = (minutes - ult_minutes) * ult_rub_per_minute\n",
        "        if messages > ult_messages:\n",
        "            total_messages = (messages - sm_messages) * ult_rub_per_message\n",
        "        \n",
        "        return total_megabytes + total_minutes + total_messages + ult_monthly_fee\n",
        "\n"
      ]
    },
    {
      "cell_type": "code",
      "execution_count": 78,
      "metadata": {
        "id": "ZkwpebavbO96"
      },
      "outputs": [],
      "source": [
        "new_df['profit'] = new_df.apply(profit_for_tariff_3, axis=1)"
      ]
    },
    {
      "cell_type": "code",
      "execution_count": 79,
      "metadata": {
        "scrolled": true,
        "id": "W97PrL74bO96",
        "outputId": "36202647-8eb7-48bc-995a-9c7e4b8e7029",
        "colab": {
          "base_uri": "https://localhost:8080/",
          "height": 206
        }
      },
      "outputs": [
        {
          "output_type": "execute_result",
          "data": {
            "text/plain": [
              "      user_id month_name  sum_messages  minutes  sum_calls  sum_mb_used  \\\n",
              "866      1340    October          11.0    352.0       58.0      18986.0   \n",
              "1654     1138    October           9.0    562.0       84.0      26747.0   \n",
              "979      1378        May          14.0    529.0       77.0      14283.0   \n",
              "2252     1411    October         103.0    601.0       83.0      27881.0   \n",
              "1667     1147   November          36.0    266.0       47.0      19922.0   \n",
              "\n",
              "              city first_name   last_name   reg_date tariff       profit  \n",
              "866          пенза    тимофей      алютин 2018-01-30  smart  1258.203125  \n",
              "1654  екатеринбург       леся    ерофеева 2018-07-13  smart  2960.023438  \n",
              "979        иркутск    евгения     бычкова 2018-01-19  smart   637.000000  \n",
              "2252       грозный      берта  прокофьева 2018-07-13  smart  3457.507812  \n",
              "1667        якутск   владимир     синицын 2018-07-09  smart  1441.015625  "
            ],
            "text/html": [
              "\n",
              "  <div id=\"df-0aa1f137-93bf-4271-8d62-1f88bceb75ca\">\n",
              "    <div class=\"colab-df-container\">\n",
              "      <div>\n",
              "<style scoped>\n",
              "    .dataframe tbody tr th:only-of-type {\n",
              "        vertical-align: middle;\n",
              "    }\n",
              "\n",
              "    .dataframe tbody tr th {\n",
              "        vertical-align: top;\n",
              "    }\n",
              "\n",
              "    .dataframe thead th {\n",
              "        text-align: right;\n",
              "    }\n",
              "</style>\n",
              "<table border=\"1\" class=\"dataframe\">\n",
              "  <thead>\n",
              "    <tr style=\"text-align: right;\">\n",
              "      <th></th>\n",
              "      <th>user_id</th>\n",
              "      <th>month_name</th>\n",
              "      <th>sum_messages</th>\n",
              "      <th>minutes</th>\n",
              "      <th>sum_calls</th>\n",
              "      <th>sum_mb_used</th>\n",
              "      <th>city</th>\n",
              "      <th>first_name</th>\n",
              "      <th>last_name</th>\n",
              "      <th>reg_date</th>\n",
              "      <th>tariff</th>\n",
              "      <th>profit</th>\n",
              "    </tr>\n",
              "  </thead>\n",
              "  <tbody>\n",
              "    <tr>\n",
              "      <th>866</th>\n",
              "      <td>1340</td>\n",
              "      <td>October</td>\n",
              "      <td>11.0</td>\n",
              "      <td>352.0</td>\n",
              "      <td>58.0</td>\n",
              "      <td>18986.0</td>\n",
              "      <td>пенза</td>\n",
              "      <td>тимофей</td>\n",
              "      <td>алютин</td>\n",
              "      <td>2018-01-30</td>\n",
              "      <td>smart</td>\n",
              "      <td>1258.203125</td>\n",
              "    </tr>\n",
              "    <tr>\n",
              "      <th>1654</th>\n",
              "      <td>1138</td>\n",
              "      <td>October</td>\n",
              "      <td>9.0</td>\n",
              "      <td>562.0</td>\n",
              "      <td>84.0</td>\n",
              "      <td>26747.0</td>\n",
              "      <td>екатеринбург</td>\n",
              "      <td>леся</td>\n",
              "      <td>ерофеева</td>\n",
              "      <td>2018-07-13</td>\n",
              "      <td>smart</td>\n",
              "      <td>2960.023438</td>\n",
              "    </tr>\n",
              "    <tr>\n",
              "      <th>979</th>\n",
              "      <td>1378</td>\n",
              "      <td>May</td>\n",
              "      <td>14.0</td>\n",
              "      <td>529.0</td>\n",
              "      <td>77.0</td>\n",
              "      <td>14283.0</td>\n",
              "      <td>иркутск</td>\n",
              "      <td>евгения</td>\n",
              "      <td>бычкова</td>\n",
              "      <td>2018-01-19</td>\n",
              "      <td>smart</td>\n",
              "      <td>637.000000</td>\n",
              "    </tr>\n",
              "    <tr>\n",
              "      <th>2252</th>\n",
              "      <td>1411</td>\n",
              "      <td>October</td>\n",
              "      <td>103.0</td>\n",
              "      <td>601.0</td>\n",
              "      <td>83.0</td>\n",
              "      <td>27881.0</td>\n",
              "      <td>грозный</td>\n",
              "      <td>берта</td>\n",
              "      <td>прокофьева</td>\n",
              "      <td>2018-07-13</td>\n",
              "      <td>smart</td>\n",
              "      <td>3457.507812</td>\n",
              "    </tr>\n",
              "    <tr>\n",
              "      <th>1667</th>\n",
              "      <td>1147</td>\n",
              "      <td>November</td>\n",
              "      <td>36.0</td>\n",
              "      <td>266.0</td>\n",
              "      <td>47.0</td>\n",
              "      <td>19922.0</td>\n",
              "      <td>якутск</td>\n",
              "      <td>владимир</td>\n",
              "      <td>синицын</td>\n",
              "      <td>2018-07-09</td>\n",
              "      <td>smart</td>\n",
              "      <td>1441.015625</td>\n",
              "    </tr>\n",
              "  </tbody>\n",
              "</table>\n",
              "</div>\n",
              "      <button class=\"colab-df-convert\" onclick=\"convertToInteractive('df-0aa1f137-93bf-4271-8d62-1f88bceb75ca')\"\n",
              "              title=\"Convert this dataframe to an interactive table.\"\n",
              "              style=\"display:none;\">\n",
              "        \n",
              "  <svg xmlns=\"http://www.w3.org/2000/svg\" height=\"24px\"viewBox=\"0 0 24 24\"\n",
              "       width=\"24px\">\n",
              "    <path d=\"M0 0h24v24H0V0z\" fill=\"none\"/>\n",
              "    <path d=\"M18.56 5.44l.94 2.06.94-2.06 2.06-.94-2.06-.94-.94-2.06-.94 2.06-2.06.94zm-11 1L8.5 8.5l.94-2.06 2.06-.94-2.06-.94L8.5 2.5l-.94 2.06-2.06.94zm10 10l.94 2.06.94-2.06 2.06-.94-2.06-.94-.94-2.06-.94 2.06-2.06.94z\"/><path d=\"M17.41 7.96l-1.37-1.37c-.4-.4-.92-.59-1.43-.59-.52 0-1.04.2-1.43.59L10.3 9.45l-7.72 7.72c-.78.78-.78 2.05 0 2.83L4 21.41c.39.39.9.59 1.41.59.51 0 1.02-.2 1.41-.59l7.78-7.78 2.81-2.81c.8-.78.8-2.07 0-2.86zM5.41 20L4 18.59l7.72-7.72 1.47 1.35L5.41 20z\"/>\n",
              "  </svg>\n",
              "      </button>\n",
              "      \n",
              "  <style>\n",
              "    .colab-df-container {\n",
              "      display:flex;\n",
              "      flex-wrap:wrap;\n",
              "      gap: 12px;\n",
              "    }\n",
              "\n",
              "    .colab-df-convert {\n",
              "      background-color: #E8F0FE;\n",
              "      border: none;\n",
              "      border-radius: 50%;\n",
              "      cursor: pointer;\n",
              "      display: none;\n",
              "      fill: #1967D2;\n",
              "      height: 32px;\n",
              "      padding: 0 0 0 0;\n",
              "      width: 32px;\n",
              "    }\n",
              "\n",
              "    .colab-df-convert:hover {\n",
              "      background-color: #E2EBFA;\n",
              "      box-shadow: 0px 1px 2px rgba(60, 64, 67, 0.3), 0px 1px 3px 1px rgba(60, 64, 67, 0.15);\n",
              "      fill: #174EA6;\n",
              "    }\n",
              "\n",
              "    [theme=dark] .colab-df-convert {\n",
              "      background-color: #3B4455;\n",
              "      fill: #D2E3FC;\n",
              "    }\n",
              "\n",
              "    [theme=dark] .colab-df-convert:hover {\n",
              "      background-color: #434B5C;\n",
              "      box-shadow: 0px 1px 3px 1px rgba(0, 0, 0, 0.15);\n",
              "      filter: drop-shadow(0px 1px 2px rgba(0, 0, 0, 0.3));\n",
              "      fill: #FFFFFF;\n",
              "    }\n",
              "  </style>\n",
              "\n",
              "      <script>\n",
              "        const buttonEl =\n",
              "          document.querySelector('#df-0aa1f137-93bf-4271-8d62-1f88bceb75ca button.colab-df-convert');\n",
              "        buttonEl.style.display =\n",
              "          google.colab.kernel.accessAllowed ? 'block' : 'none';\n",
              "\n",
              "        async function convertToInteractive(key) {\n",
              "          const element = document.querySelector('#df-0aa1f137-93bf-4271-8d62-1f88bceb75ca');\n",
              "          const dataTable =\n",
              "            await google.colab.kernel.invokeFunction('convertToInteractive',\n",
              "                                                     [key], {});\n",
              "          if (!dataTable) return;\n",
              "\n",
              "          const docLinkHtml = 'Like what you see? Visit the ' +\n",
              "            '<a target=\"_blank\" href=https://colab.research.google.com/notebooks/data_table.ipynb>data table notebook</a>'\n",
              "            + ' to learn more about interactive tables.';\n",
              "          element.innerHTML = '';\n",
              "          dataTable['output_type'] = 'display_data';\n",
              "          await google.colab.output.renderOutput(dataTable, element);\n",
              "          const docLink = document.createElement('div');\n",
              "          docLink.innerHTML = docLinkHtml;\n",
              "          element.appendChild(docLink);\n",
              "        }\n",
              "      </script>\n",
              "    </div>\n",
              "  </div>\n",
              "  "
            ]
          },
          "metadata": {},
          "execution_count": 79
        }
      ],
      "source": [
        "new_df.sample(5)"
      ]
    },
    {
      "cell_type": "code",
      "execution_count": 80,
      "metadata": {
        "id": "87a-al0mbO97"
      },
      "outputs": [],
      "source": [
        "moscow_df = new_df.query('city == \"москва\"').profit\n",
        "non_moscow_df = new_df.query('city != \"москва\"').profit"
      ]
    },
    {
      "cell_type": "code",
      "execution_count": 81,
      "metadata": {
        "id": "qLdyd0LCbO97",
        "outputId": "5f5b43cb-dcd1-4ba8-bc91-348b4b143612",
        "colab": {
          "base_uri": "https://localhost:8080/"
        }
      },
      "outputs": [
        {
          "output_type": "stream",
          "name": "stdout",
          "text": [
            "p-значение: 0.4517561756356935\n",
            "Не получилось отвергнуть нулевую гипотезу\n"
          ]
        }
      ],
      "source": [
        "alpha = 0.05\n",
        "\n",
        "result = st.ttest_ind(moscow_df, non_moscow_df, equal_var=False)\n",
        "\n",
        "print('p-значение:', result.pvalue)\n",
        "\n",
        "\n",
        "if (result.pvalue > alpha):\n",
        "    print(\"Не получилось отвергнуть нулевую гипотезу\")\n",
        "else:\n",
        "    print(\"Отвергаем нулевую гипотезу\")"
      ]
    },
    {
      "cell_type": "code",
      "execution_count": 82,
      "metadata": {
        "id": "feb7Kg7MbO97"
      },
      "outputs": [],
      "source": [
        "moscow_smart = new_df_smart.query('city == \"москва\"').profit\n",
        "non_moscow_smart = new_df_smart.query('city != \"москва\"').profit\n",
        "moscow_ultra = new_df_ultra.query('city == \"москва\"').profit\n",
        "non_moscow_ultra = new_df_ultra.query('city != \"москва\"').profit"
      ]
    },
    {
      "cell_type": "code",
      "execution_count": 83,
      "metadata": {
        "id": "mxruwjAKbO98",
        "outputId": "9fd0cda2-1af2-48d9-bd74-78c0e9cf10c2",
        "colab": {
          "base_uri": "https://localhost:8080/"
        }
      },
      "outputs": [
        {
          "output_type": "stream",
          "name": "stdout",
          "text": [
            "p-значение: 0.14107512182711163\n",
            "Не получилось отвергнуть нулевую гипотезу\n"
          ]
        }
      ],
      "source": [
        "alpha = 0.05\n",
        "\n",
        "result = st.ttest_ind(moscow_smart, non_moscow_smart, equal_var=False)\n",
        "\n",
        "print('p-значение:', result.pvalue)\n",
        "\n",
        "\n",
        "if (result.pvalue > alpha):\n",
        "    print(\"Не получилось отвергнуть нулевую гипотезу\")\n",
        "else:\n",
        "    print(\"Отвергаем нулевую гипотезу\")"
      ]
    },
    {
      "cell_type": "code",
      "execution_count": 84,
      "metadata": {
        "id": "fPRWH-_nbO98",
        "outputId": "7fa24c9c-664d-4591-f683-bb07a65d3906",
        "colab": {
          "base_uri": "https://localhost:8080/"
        }
      },
      "outputs": [
        {
          "output_type": "stream",
          "name": "stdout",
          "text": [
            "p-значение: 0.8714231399483139\n",
            "Не получилось отвергнуть нулевую гипотезу\n"
          ]
        }
      ],
      "source": [
        "alpha = 0.05\n",
        "\n",
        "result = st.ttest_ind(moscow_ultra, non_moscow_ultra, equal_var=False)\n",
        "\n",
        "print('p-значение:', result.pvalue)\n",
        "\n",
        "if (result.pvalue > alpha):\n",
        "    print(\"Не получилось отвергнуть нулевую гипотезу\")\n",
        "else:\n",
        "    print(\"Отвергаем нулевую гипотезу\")"
      ]
    },
    {
      "cell_type": "markdown",
      "metadata": {
        "id": "4x28d1L8bO98"
      },
      "source": [
        "Добавил разделение только на Москву и регионы.  \n",
        "    При создании таблицы и формулы для выручки изначально специально разделял их на две группы, и прописывал отдельно для каждого тарифа функцию,думал будет проще по каждой из них работать, и каждый раз не использовать query() из-за этого в конце не смог их соединить. Я насколько понимаю, таблицы new_df_smart и new_df_smart можно объединить, но с помощью join() и merge() у меня получилось совсем не то, что нужно. Поэтому я еще раз переписал функцию уже для двух тарифов для поиска выручки.  \n",
        "    Уже после того, как составил функцию, посоветовали concat(), вроде как получилось, насколько понимаю, он как раз может объединять таблицы\n",
        "    Результат тот же самый - Отвергнуть нулевую гипотезу не получилось"
      ]
    },
    {
      "cell_type": "code",
      "execution_count": 85,
      "metadata": {
        "id": "_5vzhz8DbO99",
        "outputId": "71da3896-0180-43c5-8b4c-08dbce2b0248",
        "colab": {
          "base_uri": "https://localhost:8080/"
        }
      },
      "outputs": [
        {
          "output_type": "execute_result",
          "data": {
            "text/plain": [
              "Ttest_indResult(statistic=0.7527950558529936, pvalue=0.4517561756356935)"
            ]
          },
          "metadata": {},
          "execution_count": 85
        }
      ],
      "source": [
        "st.ttest_ind(\n",
        "    [*moscow_smart, *moscow_ultra], [*non_moscow_smart, *non_moscow_ultra], equal_var=False\n",
        "    )"
      ]
    },
    {
      "cell_type": "code",
      "execution_count": 86,
      "metadata": {
        "id": "S8T9jJPzbO99",
        "outputId": "97479684-4a40-44c6-9ea9-ebc6c421c003",
        "colab": {
          "base_uri": "https://localhost:8080/",
          "height": 206
        }
      },
      "outputs": [
        {
          "output_type": "execute_result",
          "data": {
            "text/plain": [
              "      user_id month_name  sum_messages  minutes  sum_calls  sum_mb_used  \\\n",
              "2865     1204       July           NaN    406.0       51.0      27265.0   \n",
              "1117     1421       July          63.0    359.0       52.0      21263.0   \n",
              "3129     1388   December           NaN    516.0       77.0      21844.0   \n",
              "1516     1061     August          12.0    639.0       89.0      21983.0   \n",
              "661      1262      March          22.0    174.0       25.0      11202.0   \n",
              "\n",
              "                 city first_name      last_name   reg_date tariff       profit  \n",
              "2865           москва  мирослава       лазарева 2018-01-04  smart  2875.195312  \n",
              "1117      калининград     гайдар  александрович 2018-02-22  smart  1741.929688  \n",
              "3129          вологда     рустам          левин 2018-08-27  smart  1864.406250  \n",
              "1516  санкт-петербург     тамара      ситникова 2018-07-15  smart  2260.554688  \n",
              "661         ульяновск   антонина         ларина 2018-03-17  smart   550.000000  "
            ],
            "text/html": [
              "\n",
              "  <div id=\"df-e517381e-68cf-475e-9370-b0fef39ebad3\">\n",
              "    <div class=\"colab-df-container\">\n",
              "      <div>\n",
              "<style scoped>\n",
              "    .dataframe tbody tr th:only-of-type {\n",
              "        vertical-align: middle;\n",
              "    }\n",
              "\n",
              "    .dataframe tbody tr th {\n",
              "        vertical-align: top;\n",
              "    }\n",
              "\n",
              "    .dataframe thead th {\n",
              "        text-align: right;\n",
              "    }\n",
              "</style>\n",
              "<table border=\"1\" class=\"dataframe\">\n",
              "  <thead>\n",
              "    <tr style=\"text-align: right;\">\n",
              "      <th></th>\n",
              "      <th>user_id</th>\n",
              "      <th>month_name</th>\n",
              "      <th>sum_messages</th>\n",
              "      <th>minutes</th>\n",
              "      <th>sum_calls</th>\n",
              "      <th>sum_mb_used</th>\n",
              "      <th>city</th>\n",
              "      <th>first_name</th>\n",
              "      <th>last_name</th>\n",
              "      <th>reg_date</th>\n",
              "      <th>tariff</th>\n",
              "      <th>profit</th>\n",
              "    </tr>\n",
              "  </thead>\n",
              "  <tbody>\n",
              "    <tr>\n",
              "      <th>2865</th>\n",
              "      <td>1204</td>\n",
              "      <td>July</td>\n",
              "      <td>NaN</td>\n",
              "      <td>406.0</td>\n",
              "      <td>51.0</td>\n",
              "      <td>27265.0</td>\n",
              "      <td>москва</td>\n",
              "      <td>мирослава</td>\n",
              "      <td>лазарева</td>\n",
              "      <td>2018-01-04</td>\n",
              "      <td>smart</td>\n",
              "      <td>2875.195312</td>\n",
              "    </tr>\n",
              "    <tr>\n",
              "      <th>1117</th>\n",
              "      <td>1421</td>\n",
              "      <td>July</td>\n",
              "      <td>63.0</td>\n",
              "      <td>359.0</td>\n",
              "      <td>52.0</td>\n",
              "      <td>21263.0</td>\n",
              "      <td>калининград</td>\n",
              "      <td>гайдар</td>\n",
              "      <td>александрович</td>\n",
              "      <td>2018-02-22</td>\n",
              "      <td>smart</td>\n",
              "      <td>1741.929688</td>\n",
              "    </tr>\n",
              "    <tr>\n",
              "      <th>3129</th>\n",
              "      <td>1388</td>\n",
              "      <td>December</td>\n",
              "      <td>NaN</td>\n",
              "      <td>516.0</td>\n",
              "      <td>77.0</td>\n",
              "      <td>21844.0</td>\n",
              "      <td>вологда</td>\n",
              "      <td>рустам</td>\n",
              "      <td>левин</td>\n",
              "      <td>2018-08-27</td>\n",
              "      <td>smart</td>\n",
              "      <td>1864.406250</td>\n",
              "    </tr>\n",
              "    <tr>\n",
              "      <th>1516</th>\n",
              "      <td>1061</td>\n",
              "      <td>August</td>\n",
              "      <td>12.0</td>\n",
              "      <td>639.0</td>\n",
              "      <td>89.0</td>\n",
              "      <td>21983.0</td>\n",
              "      <td>санкт-петербург</td>\n",
              "      <td>тамара</td>\n",
              "      <td>ситникова</td>\n",
              "      <td>2018-07-15</td>\n",
              "      <td>smart</td>\n",
              "      <td>2260.554688</td>\n",
              "    </tr>\n",
              "    <tr>\n",
              "      <th>661</th>\n",
              "      <td>1262</td>\n",
              "      <td>March</td>\n",
              "      <td>22.0</td>\n",
              "      <td>174.0</td>\n",
              "      <td>25.0</td>\n",
              "      <td>11202.0</td>\n",
              "      <td>ульяновск</td>\n",
              "      <td>антонина</td>\n",
              "      <td>ларина</td>\n",
              "      <td>2018-03-17</td>\n",
              "      <td>smart</td>\n",
              "      <td>550.000000</td>\n",
              "    </tr>\n",
              "  </tbody>\n",
              "</table>\n",
              "</div>\n",
              "      <button class=\"colab-df-convert\" onclick=\"convertToInteractive('df-e517381e-68cf-475e-9370-b0fef39ebad3')\"\n",
              "              title=\"Convert this dataframe to an interactive table.\"\n",
              "              style=\"display:none;\">\n",
              "        \n",
              "  <svg xmlns=\"http://www.w3.org/2000/svg\" height=\"24px\"viewBox=\"0 0 24 24\"\n",
              "       width=\"24px\">\n",
              "    <path d=\"M0 0h24v24H0V0z\" fill=\"none\"/>\n",
              "    <path d=\"M18.56 5.44l.94 2.06.94-2.06 2.06-.94-2.06-.94-.94-2.06-.94 2.06-2.06.94zm-11 1L8.5 8.5l.94-2.06 2.06-.94-2.06-.94L8.5 2.5l-.94 2.06-2.06.94zm10 10l.94 2.06.94-2.06 2.06-.94-2.06-.94-.94-2.06-.94 2.06-2.06.94z\"/><path d=\"M17.41 7.96l-1.37-1.37c-.4-.4-.92-.59-1.43-.59-.52 0-1.04.2-1.43.59L10.3 9.45l-7.72 7.72c-.78.78-.78 2.05 0 2.83L4 21.41c.39.39.9.59 1.41.59.51 0 1.02-.2 1.41-.59l7.78-7.78 2.81-2.81c.8-.78.8-2.07 0-2.86zM5.41 20L4 18.59l7.72-7.72 1.47 1.35L5.41 20z\"/>\n",
              "  </svg>\n",
              "      </button>\n",
              "      \n",
              "  <style>\n",
              "    .colab-df-container {\n",
              "      display:flex;\n",
              "      flex-wrap:wrap;\n",
              "      gap: 12px;\n",
              "    }\n",
              "\n",
              "    .colab-df-convert {\n",
              "      background-color: #E8F0FE;\n",
              "      border: none;\n",
              "      border-radius: 50%;\n",
              "      cursor: pointer;\n",
              "      display: none;\n",
              "      fill: #1967D2;\n",
              "      height: 32px;\n",
              "      padding: 0 0 0 0;\n",
              "      width: 32px;\n",
              "    }\n",
              "\n",
              "    .colab-df-convert:hover {\n",
              "      background-color: #E2EBFA;\n",
              "      box-shadow: 0px 1px 2px rgba(60, 64, 67, 0.3), 0px 1px 3px 1px rgba(60, 64, 67, 0.15);\n",
              "      fill: #174EA6;\n",
              "    }\n",
              "\n",
              "    [theme=dark] .colab-df-convert {\n",
              "      background-color: #3B4455;\n",
              "      fill: #D2E3FC;\n",
              "    }\n",
              "\n",
              "    [theme=dark] .colab-df-convert:hover {\n",
              "      background-color: #434B5C;\n",
              "      box-shadow: 0px 1px 3px 1px rgba(0, 0, 0, 0.15);\n",
              "      filter: drop-shadow(0px 1px 2px rgba(0, 0, 0, 0.3));\n",
              "      fill: #FFFFFF;\n",
              "    }\n",
              "  </style>\n",
              "\n",
              "      <script>\n",
              "        const buttonEl =\n",
              "          document.querySelector('#df-e517381e-68cf-475e-9370-b0fef39ebad3 button.colab-df-convert');\n",
              "        buttonEl.style.display =\n",
              "          google.colab.kernel.accessAllowed ? 'block' : 'none';\n",
              "\n",
              "        async function convertToInteractive(key) {\n",
              "          const element = document.querySelector('#df-e517381e-68cf-475e-9370-b0fef39ebad3');\n",
              "          const dataTable =\n",
              "            await google.colab.kernel.invokeFunction('convertToInteractive',\n",
              "                                                     [key], {});\n",
              "          if (!dataTable) return;\n",
              "\n",
              "          const docLinkHtml = 'Like what you see? Visit the ' +\n",
              "            '<a target=\"_blank\" href=https://colab.research.google.com/notebooks/data_table.ipynb>data table notebook</a>'\n",
              "            + ' to learn more about interactive tables.';\n",
              "          element.innerHTML = '';\n",
              "          dataTable['output_type'] = 'display_data';\n",
              "          await google.colab.output.renderOutput(dataTable, element);\n",
              "          const docLink = document.createElement('div');\n",
              "          docLink.innerHTML = docLinkHtml;\n",
              "          element.appendChild(docLink);\n",
              "        }\n",
              "      </script>\n",
              "    </div>\n",
              "  </div>\n",
              "  "
            ]
          },
          "metadata": {},
          "execution_count": 86
        }
      ],
      "source": [
        "last_df = pd.concat([new_df_smart, new_df_ultra])\n",
        "last_df.sample(5)"
      ]
    },
    {
      "cell_type": "markdown",
      "metadata": {
        "id": "yN0ZlXdnbO99"
      },
      "source": [
        "Несмотря на различия между пользователями самих тарифов, исследование не нашло различий между выручкой для Москвы и выручкой со стороны других регионов. Нулевую гипотезу не отвергаем."
      ]
    },
    {
      "cell_type": "markdown",
      "metadata": {
        "id": "u1ZL5FiVbO99"
      },
      "source": [
        "#  Вывод"
      ]
    },
    {
      "cell_type": "markdown",
      "metadata": {
        "id": "J1O5GCFMbO9-"
      },
      "source": [
        "Мы изучили предоставленные нам таблицы, рассмотрели возможность замены пропущенных значений, изменения типа данных. Для дальнейшего анализа изменили столбцы с датами, в целом подготовили таблицы для дальнейшего объединения и анализа.\n",
        "\n",
        "В последующем объединили таблицы, создали две отдельных сводных таблицы для каждого из тарифов, посчитали прибыль от каждого клиента за определенный месяц, нашли дисперсию, среднее и стандартное отклонение. После этого, также посчитали выручку от каждого тарифа. В рамках данной стадии изучения проекта нашли две важные детали:\n",
        "\n",
        "1) разные статьи задолженности: Изучив данные, мы выявили, что клиенты тарифа \"Ультра\"практически не превышают лимит своего пакет, а значит в основном платят только абонентскую плату. Пользователи тарифа \"Смарт\" наоборот, очень часто платят за превышение условий, однако абонентская плата в этом тарифе не является основной \"статьей\" дохода для компании.\n",
        "\n",
        "2) Выручка с одного конкретного пользователя тарифа \"Ультра\" больше чем с одного конкретного пользователя тарифа \"Смарт\", однако в целом выручка с клиентов тарифа \"Смарт\" за год выше, чем выручка с клиентов тарифа \"Ультра\" на 700 000 руб (возможно дело в бОльшем количестве клиентов тарифа \"Смарт\").\n",
        "\n",
        "После этого мы проверили заданные нам гипотезы. В результате выяснили, что: \n",
        "\n",
        "а) выручка тарифов Смарт и Ультра отличается друг от друга;\n",
        "\n",
        "б) выручка клиентов с Москвы и других регионов не отличается.\n",
        "\n",
        "\n",
        "Подводя итоги, мы можем сказать, что при равном количестве клиентов на обоих тарифах, \"Ультра\" являлся бы самым прибыльным тарифом. Однако, мы видим, что большая часть клиентов все таки предпочитают \"Смарт\", даже несмотря за необходимость доплачивать за превышение лимита по смс, звонкам и интернету, поэтому компании следует обратить направить большую часть ресурсов на тариф Смарт по причине массового использования этого тарифа."
      ]
    }
  ],
  "metadata": {
    "ExecuteTimeLog": [
      {
        "duration": 898,
        "start_time": "2022-04-21T13:59:55.717Z"
      },
      {
        "duration": 25,
        "start_time": "2022-04-21T13:59:56.617Z"
      },
      {
        "duration": 23,
        "start_time": "2022-04-21T13:59:56.644Z"
      },
      {
        "duration": 36,
        "start_time": "2022-04-21T13:59:56.669Z"
      },
      {
        "duration": 18,
        "start_time": "2022-04-21T13:59:56.706Z"
      },
      {
        "duration": 7,
        "start_time": "2022-04-21T13:59:56.726Z"
      },
      {
        "duration": 15,
        "start_time": "2022-04-21T13:59:56.734Z"
      },
      {
        "duration": 3,
        "start_time": "2022-04-21T13:59:56.751Z"
      },
      {
        "duration": 6,
        "start_time": "2022-04-21T13:59:56.756Z"
      },
      {
        "duration": 5,
        "start_time": "2022-04-21T13:59:56.764Z"
      },
      {
        "duration": 33,
        "start_time": "2022-04-21T13:59:56.770Z"
      },
      {
        "duration": 760,
        "start_time": "2022-04-21T13:59:56.805Z"
      },
      {
        "duration": 120,
        "start_time": "2022-04-21T13:59:57.566Z"
      },
      {
        "duration": 295,
        "start_time": "2022-04-21T13:59:57.687Z"
      },
      {
        "duration": 152,
        "start_time": "2022-04-21T13:59:57.984Z"
      },
      {
        "duration": 9,
        "start_time": "2022-04-21T13:59:58.138Z"
      },
      {
        "duration": 24,
        "start_time": "2022-04-21T13:59:58.148Z"
      },
      {
        "duration": 77,
        "start_time": "2022-04-21T13:59:58.173Z"
      },
      {
        "duration": 7,
        "start_time": "2022-04-21T13:59:58.252Z"
      },
      {
        "duration": 21,
        "start_time": "2022-04-21T13:59:58.261Z"
      },
      {
        "duration": 47,
        "start_time": "2022-04-21T13:59:58.300Z"
      },
      {
        "duration": 51,
        "start_time": "2022-04-21T13:59:58.349Z"
      },
      {
        "duration": 12,
        "start_time": "2022-04-21T13:59:58.402Z"
      },
      {
        "duration": 91,
        "start_time": "2022-04-21T13:59:58.416Z"
      },
      {
        "duration": 26,
        "start_time": "2022-04-21T13:59:58.509Z"
      },
      {
        "duration": 11,
        "start_time": "2022-04-21T13:59:58.537Z"
      },
      {
        "duration": 3,
        "start_time": "2022-04-21T13:59:58.550Z"
      },
      {
        "duration": 16,
        "start_time": "2022-04-21T13:59:58.558Z"
      },
      {
        "duration": 11,
        "start_time": "2022-04-21T13:59:58.601Z"
      },
      {
        "duration": 8,
        "start_time": "2022-04-21T13:59:58.613Z"
      },
      {
        "duration": 11,
        "start_time": "2022-04-21T13:59:58.623Z"
      },
      {
        "duration": 5,
        "start_time": "2022-04-21T13:59:58.635Z"
      },
      {
        "duration": 5,
        "start_time": "2022-04-21T13:59:58.641Z"
      },
      {
        "duration": 19,
        "start_time": "2022-04-21T13:59:58.647Z"
      },
      {
        "duration": 34,
        "start_time": "2022-04-21T13:59:58.667Z"
      },
      {
        "duration": 7,
        "start_time": "2022-04-21T13:59:58.702Z"
      },
      {
        "duration": 4,
        "start_time": "2022-04-21T13:59:58.711Z"
      },
      {
        "duration": 5,
        "start_time": "2022-04-21T13:59:58.716Z"
      },
      {
        "duration": 35,
        "start_time": "2022-04-21T13:59:58.723Z"
      },
      {
        "duration": 2,
        "start_time": "2022-04-21T13:59:58.760Z"
      },
      {
        "duration": 6,
        "start_time": "2022-04-21T13:59:58.763Z"
      },
      {
        "duration": 42,
        "start_time": "2022-04-21T13:59:58.770Z"
      },
      {
        "duration": 19,
        "start_time": "2022-04-21T13:59:58.813Z"
      },
      {
        "duration": 17,
        "start_time": "2022-04-21T13:59:58.833Z"
      },
      {
        "duration": 264,
        "start_time": "2022-04-21T13:59:58.852Z"
      },
      {
        "duration": 265,
        "start_time": "2022-04-21T13:59:59.118Z"
      },
      {
        "duration": 268,
        "start_time": "2022-04-21T13:59:59.385Z"
      },
      {
        "duration": 250,
        "start_time": "2022-04-21T13:59:59.654Z"
      },
      {
        "duration": 8,
        "start_time": "2022-04-21T13:59:59.906Z"
      },
      {
        "duration": 143,
        "start_time": "2022-04-21T13:59:59.915Z"
      },
      {
        "duration": 8,
        "start_time": "2022-04-21T14:00:00.059Z"
      },
      {
        "duration": 17,
        "start_time": "2022-04-21T14:00:00.069Z"
      },
      {
        "duration": 32,
        "start_time": "2022-04-21T14:00:00.088Z"
      },
      {
        "duration": 17,
        "start_time": "2022-04-21T14:00:00.121Z"
      },
      {
        "duration": 19,
        "start_time": "2022-04-21T14:00:00.139Z"
      },
      {
        "duration": 340,
        "start_time": "2022-04-21T14:00:00.160Z"
      },
      {
        "duration": 230,
        "start_time": "2022-04-21T14:00:00.502Z"
      },
      {
        "duration": 226,
        "start_time": "2022-04-21T14:00:00.734Z"
      },
      {
        "duration": 216,
        "start_time": "2022-04-21T14:00:00.961Z"
      },
      {
        "duration": 412,
        "start_time": "2022-04-21T14:00:01.179Z"
      },
      {
        "duration": 12,
        "start_time": "2022-04-21T14:00:01.593Z"
      },
      {
        "duration": 58,
        "start_time": "2022-04-21T14:00:01.607Z"
      },
      {
        "duration": 12,
        "start_time": "2022-04-21T14:00:01.667Z"
      },
      {
        "duration": 10,
        "start_time": "2022-04-21T14:00:01.681Z"
      },
      {
        "duration": 18,
        "start_time": "2022-04-21T14:00:01.693Z"
      },
      {
        "duration": 23,
        "start_time": "2022-04-21T14:00:01.712Z"
      },
      {
        "duration": 38,
        "start_time": "2022-04-21T14:00:01.737Z"
      },
      {
        "duration": 97,
        "start_time": "2022-04-21T14:00:01.777Z"
      },
      {
        "duration": 22,
        "start_time": "2022-04-21T14:00:01.876Z"
      },
      {
        "duration": 19,
        "start_time": "2022-04-21T14:00:01.900Z"
      },
      {
        "duration": 62,
        "start_time": "2022-04-21T14:00:01.920Z"
      },
      {
        "duration": 83,
        "start_time": "2022-04-21T14:00:01.983Z"
      },
      {
        "duration": 73,
        "start_time": "2022-04-21T14:00:02.068Z"
      },
      {
        "duration": 79,
        "start_time": "2022-04-21T14:00:02.143Z"
      },
      {
        "duration": 105,
        "start_time": "2022-04-21T14:00:02.224Z"
      },
      {
        "duration": 175,
        "start_time": "2022-04-21T14:00:02.330Z"
      }
    ],
    "kernelspec": {
      "display_name": "Python 3 (ipykernel)",
      "language": "python",
      "name": "python3"
    },
    "language_info": {
      "codemirror_mode": {
        "name": "ipython",
        "version": 3
      },
      "file_extension": ".py",
      "mimetype": "text/x-python",
      "name": "python",
      "nbconvert_exporter": "python",
      "pygments_lexer": "ipython3",
      "version": "3.9.5"
    },
    "toc": {
      "base_numbering": 1,
      "nav_menu": {},
      "number_sections": true,
      "sideBar": true,
      "skip_h1_title": true,
      "title_cell": "Table of Contents",
      "title_sidebar": "Contents",
      "toc_cell": false,
      "toc_position": {},
      "toc_section_display": true,
      "toc_window_display": false
    },
    "colab": {
      "name": "Megaline's_users.ipynb",
      "provenance": []
    }
  },
  "nbformat": 4,
  "nbformat_minor": 0
}