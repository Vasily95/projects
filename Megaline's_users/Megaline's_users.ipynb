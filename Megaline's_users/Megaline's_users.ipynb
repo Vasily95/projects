{
  "cells": [
    {
      "cell_type": "markdown",
      "source": [
        "# Пользователи Мегалайна"
      ],
      "metadata": {
        "id": "0pIC5WZ2bXzP"
      }
    },
    {
      "cell_type": "markdown",
      "metadata": {
        "id": "ESs6DnRpbO9L"
      },
      "source": [
        "Вам предстоит сделать предварительный анализ тарифов на небольшой выборке клиентов. В вашем распоряжении данные 500 пользователей «Мегалайна»: кто они, откуда, каким тарифом пользуются, сколько звонков и сообщений каждый отправил за 2018 год. Нужно проанализировать поведение клиентов и сделать вывод — какой тариф лучше.\n",
        "Ниже выведем параметры каждого тарифа:\n",
        "\n",
        "\n",
        "Тариф «Смарт»\n",
        "Ежемесячная плата: 550 рублей\n",
        "Включено 500 минут разговора, 50 сообщений и 15 Гб интернет-трафика\n",
        "Стоимость услуг сверх тарифного пакета:\n",
        "минута разговора: 3 рубля\n",
        "сообщение: 3 рубля\n",
        "1 Гб интернет-трафика: 200 рублей\n",
        "\n",
        "\n",
        "«Ультра»\n",
        "Ежемесячная плата: 1950 рублей\n",
        "Включено 3000 минут разговора, 1000 сообщений и 30 Гб интернет-трафика\n",
        "Стоимость услуг сверх тарифного пакета:\n",
        "минута разговора: 1 рубль\n",
        "сообщение: 1 рубль\n",
        "1 Гб интернет-трафика: 150 рублей"
      ]
    },
    {
      "cell_type": "markdown",
      "metadata": {
        "id": "nSE3WLq-bO9N"
      },
      "source": [
        "#  Открываем файл с данными и изучаем общую информацию"
      ]
    },
    {
      "cell_type": "code",
      "execution_count": null,
      "metadata": {
        "scrolled": true,
        "id": "GVpEJusQbO9O",
        "outputId": "feba8fc7-61e1-4202-a216-55c89a35e4ad"
      },
      "outputs": [
        {
          "data": {
            "text/html": [
              "<div>\n",
              "<style scoped>\n",
              "    .dataframe tbody tr th:only-of-type {\n",
              "        vertical-align: middle;\n",
              "    }\n",
              "\n",
              "    .dataframe tbody tr th {\n",
              "        vertical-align: top;\n",
              "    }\n",
              "\n",
              "    .dataframe thead th {\n",
              "        text-align: right;\n",
              "    }\n",
              "</style>\n",
              "<table border=\"1\" class=\"dataframe\">\n",
              "  <thead>\n",
              "    <tr style=\"text-align: right;\">\n",
              "      <th></th>\n",
              "      <th>id</th>\n",
              "      <th>call_date</th>\n",
              "      <th>duration</th>\n",
              "      <th>user_id</th>\n",
              "    </tr>\n",
              "  </thead>\n",
              "  <tbody>\n",
              "    <tr>\n",
              "      <th>0</th>\n",
              "      <td>1000_0</td>\n",
              "      <td>2018-07-25</td>\n",
              "      <td>0.00</td>\n",
              "      <td>1000</td>\n",
              "    </tr>\n",
              "    <tr>\n",
              "      <th>1</th>\n",
              "      <td>1000_1</td>\n",
              "      <td>2018-08-17</td>\n",
              "      <td>0.00</td>\n",
              "      <td>1000</td>\n",
              "    </tr>\n",
              "    <tr>\n",
              "      <th>2</th>\n",
              "      <td>1000_2</td>\n",
              "      <td>2018-06-11</td>\n",
              "      <td>2.85</td>\n",
              "      <td>1000</td>\n",
              "    </tr>\n",
              "    <tr>\n",
              "      <th>3</th>\n",
              "      <td>1000_3</td>\n",
              "      <td>2018-09-21</td>\n",
              "      <td>13.80</td>\n",
              "      <td>1000</td>\n",
              "    </tr>\n",
              "    <tr>\n",
              "      <th>4</th>\n",
              "      <td>1000_4</td>\n",
              "      <td>2018-12-15</td>\n",
              "      <td>5.18</td>\n",
              "      <td>1000</td>\n",
              "    </tr>\n",
              "  </tbody>\n",
              "</table>\n",
              "</div>"
            ],
            "text/plain": [
              "       id   call_date  duration  user_id\n",
              "0  1000_0  2018-07-25      0.00     1000\n",
              "1  1000_1  2018-08-17      0.00     1000\n",
              "2  1000_2  2018-06-11      2.85     1000\n",
              "3  1000_3  2018-09-21     13.80     1000\n",
              "4  1000_4  2018-12-15      5.18     1000"
            ]
          },
          "metadata": {},
          "output_type": "display_data"
        },
        {
          "data": {
            "text/html": [
              "<div>\n",
              "<style scoped>\n",
              "    .dataframe tbody tr th:only-of-type {\n",
              "        vertical-align: middle;\n",
              "    }\n",
              "\n",
              "    .dataframe tbody tr th {\n",
              "        vertical-align: top;\n",
              "    }\n",
              "\n",
              "    .dataframe thead th {\n",
              "        text-align: right;\n",
              "    }\n",
              "</style>\n",
              "<table border=\"1\" class=\"dataframe\">\n",
              "  <thead>\n",
              "    <tr style=\"text-align: right;\">\n",
              "      <th></th>\n",
              "      <th>Unnamed: 0</th>\n",
              "      <th>id</th>\n",
              "      <th>mb_used</th>\n",
              "      <th>session_date</th>\n",
              "      <th>user_id</th>\n",
              "    </tr>\n",
              "  </thead>\n",
              "  <tbody>\n",
              "    <tr>\n",
              "      <th>0</th>\n",
              "      <td>0</td>\n",
              "      <td>1000_0</td>\n",
              "      <td>112.95</td>\n",
              "      <td>2018-11-25</td>\n",
              "      <td>1000</td>\n",
              "    </tr>\n",
              "    <tr>\n",
              "      <th>1</th>\n",
              "      <td>1</td>\n",
              "      <td>1000_1</td>\n",
              "      <td>1052.81</td>\n",
              "      <td>2018-09-07</td>\n",
              "      <td>1000</td>\n",
              "    </tr>\n",
              "    <tr>\n",
              "      <th>2</th>\n",
              "      <td>2</td>\n",
              "      <td>1000_2</td>\n",
              "      <td>1197.26</td>\n",
              "      <td>2018-06-25</td>\n",
              "      <td>1000</td>\n",
              "    </tr>\n",
              "    <tr>\n",
              "      <th>3</th>\n",
              "      <td>3</td>\n",
              "      <td>1000_3</td>\n",
              "      <td>550.27</td>\n",
              "      <td>2018-08-22</td>\n",
              "      <td>1000</td>\n",
              "    </tr>\n",
              "    <tr>\n",
              "      <th>4</th>\n",
              "      <td>4</td>\n",
              "      <td>1000_4</td>\n",
              "      <td>302.56</td>\n",
              "      <td>2018-09-24</td>\n",
              "      <td>1000</td>\n",
              "    </tr>\n",
              "  </tbody>\n",
              "</table>\n",
              "</div>"
            ],
            "text/plain": [
              "   Unnamed: 0      id  mb_used session_date  user_id\n",
              "0           0  1000_0   112.95   2018-11-25     1000\n",
              "1           1  1000_1  1052.81   2018-09-07     1000\n",
              "2           2  1000_2  1197.26   2018-06-25     1000\n",
              "3           3  1000_3   550.27   2018-08-22     1000\n",
              "4           4  1000_4   302.56   2018-09-24     1000"
            ]
          },
          "metadata": {},
          "output_type": "display_data"
        },
        {
          "data": {
            "text/html": [
              "<div>\n",
              "<style scoped>\n",
              "    .dataframe tbody tr th:only-of-type {\n",
              "        vertical-align: middle;\n",
              "    }\n",
              "\n",
              "    .dataframe tbody tr th {\n",
              "        vertical-align: top;\n",
              "    }\n",
              "\n",
              "    .dataframe thead th {\n",
              "        text-align: right;\n",
              "    }\n",
              "</style>\n",
              "<table border=\"1\" class=\"dataframe\">\n",
              "  <thead>\n",
              "    <tr style=\"text-align: right;\">\n",
              "      <th></th>\n",
              "      <th>id</th>\n",
              "      <th>message_date</th>\n",
              "      <th>user_id</th>\n",
              "    </tr>\n",
              "  </thead>\n",
              "  <tbody>\n",
              "    <tr>\n",
              "      <th>0</th>\n",
              "      <td>1000_0</td>\n",
              "      <td>2018-06-27</td>\n",
              "      <td>1000</td>\n",
              "    </tr>\n",
              "    <tr>\n",
              "      <th>1</th>\n",
              "      <td>1000_1</td>\n",
              "      <td>2018-10-08</td>\n",
              "      <td>1000</td>\n",
              "    </tr>\n",
              "    <tr>\n",
              "      <th>2</th>\n",
              "      <td>1000_2</td>\n",
              "      <td>2018-08-04</td>\n",
              "      <td>1000</td>\n",
              "    </tr>\n",
              "    <tr>\n",
              "      <th>3</th>\n",
              "      <td>1000_3</td>\n",
              "      <td>2018-06-16</td>\n",
              "      <td>1000</td>\n",
              "    </tr>\n",
              "    <tr>\n",
              "      <th>4</th>\n",
              "      <td>1000_4</td>\n",
              "      <td>2018-12-05</td>\n",
              "      <td>1000</td>\n",
              "    </tr>\n",
              "  </tbody>\n",
              "</table>\n",
              "</div>"
            ],
            "text/plain": [
              "       id message_date  user_id\n",
              "0  1000_0   2018-06-27     1000\n",
              "1  1000_1   2018-10-08     1000\n",
              "2  1000_2   2018-08-04     1000\n",
              "3  1000_3   2018-06-16     1000\n",
              "4  1000_4   2018-12-05     1000"
            ]
          },
          "metadata": {},
          "output_type": "display_data"
        },
        {
          "data": {
            "text/html": [
              "<div>\n",
              "<style scoped>\n",
              "    .dataframe tbody tr th:only-of-type {\n",
              "        vertical-align: middle;\n",
              "    }\n",
              "\n",
              "    .dataframe tbody tr th {\n",
              "        vertical-align: top;\n",
              "    }\n",
              "\n",
              "    .dataframe thead th {\n",
              "        text-align: right;\n",
              "    }\n",
              "</style>\n",
              "<table border=\"1\" class=\"dataframe\">\n",
              "  <thead>\n",
              "    <tr style=\"text-align: right;\">\n",
              "      <th></th>\n",
              "      <th>messages_included</th>\n",
              "      <th>mb_per_month_included</th>\n",
              "      <th>minutes_included</th>\n",
              "      <th>rub_monthly_fee</th>\n",
              "      <th>rub_per_gb</th>\n",
              "      <th>rub_per_message</th>\n",
              "      <th>rub_per_minute</th>\n",
              "      <th>tariff_name</th>\n",
              "    </tr>\n",
              "  </thead>\n",
              "  <tbody>\n",
              "    <tr>\n",
              "      <th>0</th>\n",
              "      <td>50</td>\n",
              "      <td>15360</td>\n",
              "      <td>500</td>\n",
              "      <td>550</td>\n",
              "      <td>200</td>\n",
              "      <td>3</td>\n",
              "      <td>3</td>\n",
              "      <td>smart</td>\n",
              "    </tr>\n",
              "    <tr>\n",
              "      <th>1</th>\n",
              "      <td>1000</td>\n",
              "      <td>30720</td>\n",
              "      <td>3000</td>\n",
              "      <td>1950</td>\n",
              "      <td>150</td>\n",
              "      <td>1</td>\n",
              "      <td>1</td>\n",
              "      <td>ultra</td>\n",
              "    </tr>\n",
              "  </tbody>\n",
              "</table>\n",
              "</div>"
            ],
            "text/plain": [
              "   messages_included  mb_per_month_included  minutes_included  \\\n",
              "0                 50                  15360               500   \n",
              "1               1000                  30720              3000   \n",
              "\n",
              "   rub_monthly_fee  rub_per_gb  rub_per_message  rub_per_minute tariff_name  \n",
              "0              550         200                3               3       smart  \n",
              "1             1950         150                1               1       ultra  "
            ]
          },
          "metadata": {},
          "output_type": "display_data"
        },
        {
          "data": {
            "text/html": [
              "<div>\n",
              "<style scoped>\n",
              "    .dataframe tbody tr th:only-of-type {\n",
              "        vertical-align: middle;\n",
              "    }\n",
              "\n",
              "    .dataframe tbody tr th {\n",
              "        vertical-align: top;\n",
              "    }\n",
              "\n",
              "    .dataframe thead th {\n",
              "        text-align: right;\n",
              "    }\n",
              "</style>\n",
              "<table border=\"1\" class=\"dataframe\">\n",
              "  <thead>\n",
              "    <tr style=\"text-align: right;\">\n",
              "      <th></th>\n",
              "      <th>user_id</th>\n",
              "      <th>age</th>\n",
              "      <th>churn_date</th>\n",
              "      <th>city</th>\n",
              "      <th>first_name</th>\n",
              "      <th>last_name</th>\n",
              "      <th>reg_date</th>\n",
              "      <th>tariff</th>\n",
              "    </tr>\n",
              "  </thead>\n",
              "  <tbody>\n",
              "    <tr>\n",
              "      <th>0</th>\n",
              "      <td>1000</td>\n",
              "      <td>52</td>\n",
              "      <td>NaN</td>\n",
              "      <td>Краснодар</td>\n",
              "      <td>Рафаил</td>\n",
              "      <td>Верещагин</td>\n",
              "      <td>2018-05-25</td>\n",
              "      <td>ultra</td>\n",
              "    </tr>\n",
              "    <tr>\n",
              "      <th>1</th>\n",
              "      <td>1001</td>\n",
              "      <td>41</td>\n",
              "      <td>NaN</td>\n",
              "      <td>Москва</td>\n",
              "      <td>Иван</td>\n",
              "      <td>Ежов</td>\n",
              "      <td>2018-11-01</td>\n",
              "      <td>smart</td>\n",
              "    </tr>\n",
              "    <tr>\n",
              "      <th>2</th>\n",
              "      <td>1002</td>\n",
              "      <td>59</td>\n",
              "      <td>NaN</td>\n",
              "      <td>Стерлитамак</td>\n",
              "      <td>Евгений</td>\n",
              "      <td>Абрамович</td>\n",
              "      <td>2018-06-17</td>\n",
              "      <td>smart</td>\n",
              "    </tr>\n",
              "    <tr>\n",
              "      <th>3</th>\n",
              "      <td>1003</td>\n",
              "      <td>23</td>\n",
              "      <td>NaN</td>\n",
              "      <td>Москва</td>\n",
              "      <td>Белла</td>\n",
              "      <td>Белякова</td>\n",
              "      <td>2018-08-17</td>\n",
              "      <td>ultra</td>\n",
              "    </tr>\n",
              "    <tr>\n",
              "      <th>4</th>\n",
              "      <td>1004</td>\n",
              "      <td>68</td>\n",
              "      <td>NaN</td>\n",
              "      <td>Новокузнецк</td>\n",
              "      <td>Татьяна</td>\n",
              "      <td>Авдеенко</td>\n",
              "      <td>2018-05-14</td>\n",
              "      <td>ultra</td>\n",
              "    </tr>\n",
              "  </tbody>\n",
              "</table>\n",
              "</div>"
            ],
            "text/plain": [
              "   user_id  age churn_date         city first_name  last_name    reg_date  \\\n",
              "0     1000   52        NaN    Краснодар     Рафаил  Верещагин  2018-05-25   \n",
              "1     1001   41        NaN       Москва       Иван       Ежов  2018-11-01   \n",
              "2     1002   59        NaN  Стерлитамак    Евгений  Абрамович  2018-06-17   \n",
              "3     1003   23        NaN       Москва      Белла   Белякова  2018-08-17   \n",
              "4     1004   68        NaN  Новокузнецк    Татьяна   Авдеенко  2018-05-14   \n",
              "\n",
              "  tariff  \n",
              "0  ultra  \n",
              "1  smart  \n",
              "2  smart  \n",
              "3  ultra  \n",
              "4  ultra  "
            ]
          },
          "metadata": {},
          "output_type": "display_data"
        }
      ],
      "source": [
        "import pandas as pd\n",
        "call_data=pd.read_csv('/datasets/calls.csv')\n",
        "inet_data=pd.read_csv('/datasets/internet.csv')\n",
        "sms_data=pd.read_csv('/datasets/messages.csv')\n",
        "tariff_data=pd.read_csv('/datasets/tariffs.csv')\n",
        "user_data=pd.read_csv('/datasets/users.csv')\n",
        "display (call_data.head())\n",
        "display (inet_data.head())\n",
        "display (sms_data.head())\n",
        "display (tariff_data.head())\n",
        "display (user_data.head())"
      ]
    },
    {
      "cell_type": "code",
      "execution_count": null,
      "metadata": {
        "id": "E1h2joKgbO9S",
        "outputId": "2587d17f-eb5e-4ae2-9b25-d4d969a3d8b5"
      },
      "outputs": [
        {
          "name": "stdout",
          "output_type": "stream",
          "text": [
            "<class 'pandas.core.frame.DataFrame'>\n",
            "RangeIndex: 149396 entries, 0 to 149395\n",
            "Data columns (total 5 columns):\n",
            " #   Column        Non-Null Count   Dtype  \n",
            "---  ------        --------------   -----  \n",
            " 0   Unnamed: 0    149396 non-null  int64  \n",
            " 1   id            149396 non-null  object \n",
            " 2   mb_used       149396 non-null  float64\n",
            " 3   session_date  149396 non-null  object \n",
            " 4   user_id       149396 non-null  int64  \n",
            "dtypes: float64(1), int64(2), object(2)\n",
            "memory usage: 5.7+ MB\n"
          ]
        },
        {
          "data": {
            "text/html": [
              "<div>\n",
              "<style scoped>\n",
              "    .dataframe tbody tr th:only-of-type {\n",
              "        vertical-align: middle;\n",
              "    }\n",
              "\n",
              "    .dataframe tbody tr th {\n",
              "        vertical-align: top;\n",
              "    }\n",
              "\n",
              "    .dataframe thead th {\n",
              "        text-align: right;\n",
              "    }\n",
              "</style>\n",
              "<table border=\"1\" class=\"dataframe\">\n",
              "  <thead>\n",
              "    <tr style=\"text-align: right;\">\n",
              "      <th></th>\n",
              "      <th>Unnamed: 0</th>\n",
              "      <th>id</th>\n",
              "      <th>mb_used</th>\n",
              "      <th>session_date</th>\n",
              "      <th>user_id</th>\n",
              "    </tr>\n",
              "  </thead>\n",
              "  <tbody>\n",
              "    <tr>\n",
              "      <th>0</th>\n",
              "      <td>0</td>\n",
              "      <td>1000_0</td>\n",
              "      <td>112.95</td>\n",
              "      <td>2018-11-25</td>\n",
              "      <td>1000</td>\n",
              "    </tr>\n",
              "    <tr>\n",
              "      <th>1</th>\n",
              "      <td>1</td>\n",
              "      <td>1000_1</td>\n",
              "      <td>1052.81</td>\n",
              "      <td>2018-09-07</td>\n",
              "      <td>1000</td>\n",
              "    </tr>\n",
              "    <tr>\n",
              "      <th>2</th>\n",
              "      <td>2</td>\n",
              "      <td>1000_2</td>\n",
              "      <td>1197.26</td>\n",
              "      <td>2018-06-25</td>\n",
              "      <td>1000</td>\n",
              "    </tr>\n",
              "    <tr>\n",
              "      <th>3</th>\n",
              "      <td>3</td>\n",
              "      <td>1000_3</td>\n",
              "      <td>550.27</td>\n",
              "      <td>2018-08-22</td>\n",
              "      <td>1000</td>\n",
              "    </tr>\n",
              "    <tr>\n",
              "      <th>4</th>\n",
              "      <td>4</td>\n",
              "      <td>1000_4</td>\n",
              "      <td>302.56</td>\n",
              "      <td>2018-09-24</td>\n",
              "      <td>1000</td>\n",
              "    </tr>\n",
              "  </tbody>\n",
              "</table>\n",
              "</div>"
            ],
            "text/plain": [
              "   Unnamed: 0      id  mb_used session_date  user_id\n",
              "0           0  1000_0   112.95   2018-11-25     1000\n",
              "1           1  1000_1  1052.81   2018-09-07     1000\n",
              "2           2  1000_2  1197.26   2018-06-25     1000\n",
              "3           3  1000_3   550.27   2018-08-22     1000\n",
              "4           4  1000_4   302.56   2018-09-24     1000"
            ]
          },
          "execution_count": 2,
          "metadata": {},
          "output_type": "execute_result"
        }
      ],
      "source": [
        "inet_data.info()\n",
        "inet_data.head(5)"
      ]
    },
    {
      "cell_type": "code",
      "execution_count": null,
      "metadata": {
        "scrolled": false,
        "id": "S9kMBh5qbO9T",
        "outputId": "0d8edfbe-07ff-4be2-9a5d-b24aecee6662"
      },
      "outputs": [
        {
          "name": "stdout",
          "output_type": "stream",
          "text": [
            "<class 'pandas.core.frame.DataFrame'>\n",
            "RangeIndex: 202607 entries, 0 to 202606\n",
            "Data columns (total 4 columns):\n",
            " #   Column     Non-Null Count   Dtype  \n",
            "---  ------     --------------   -----  \n",
            " 0   id         202607 non-null  object \n",
            " 1   call_date  202607 non-null  object \n",
            " 2   duration   202607 non-null  float64\n",
            " 3   user_id    202607 non-null  int64  \n",
            "dtypes: float64(1), int64(1), object(2)\n",
            "memory usage: 6.2+ MB\n"
          ]
        }
      ],
      "source": [
        "call_data.info()"
      ]
    },
    {
      "cell_type": "code",
      "execution_count": null,
      "metadata": {
        "id": "mMPTq90zbO9U",
        "outputId": "4c40ceec-0235-48fc-9121-33dc0466de55"
      },
      "outputs": [
        {
          "data": {
            "text/html": [
              "<div>\n",
              "<style scoped>\n",
              "    .dataframe tbody tr th:only-of-type {\n",
              "        vertical-align: middle;\n",
              "    }\n",
              "\n",
              "    .dataframe tbody tr th {\n",
              "        vertical-align: top;\n",
              "    }\n",
              "\n",
              "    .dataframe thead th {\n",
              "        text-align: right;\n",
              "    }\n",
              "</style>\n",
              "<table border=\"1\" class=\"dataframe\">\n",
              "  <thead>\n",
              "    <tr style=\"text-align: right;\">\n",
              "      <th></th>\n",
              "      <th>id</th>\n",
              "      <th>message_date</th>\n",
              "      <th>user_id</th>\n",
              "    </tr>\n",
              "  </thead>\n",
              "  <tbody>\n",
              "    <tr>\n",
              "      <th>0</th>\n",
              "      <td>1000_0</td>\n",
              "      <td>2018-06-27</td>\n",
              "      <td>1000</td>\n",
              "    </tr>\n",
              "    <tr>\n",
              "      <th>1</th>\n",
              "      <td>1000_1</td>\n",
              "      <td>2018-10-08</td>\n",
              "      <td>1000</td>\n",
              "    </tr>\n",
              "    <tr>\n",
              "      <th>2</th>\n",
              "      <td>1000_2</td>\n",
              "      <td>2018-08-04</td>\n",
              "      <td>1000</td>\n",
              "    </tr>\n",
              "    <tr>\n",
              "      <th>3</th>\n",
              "      <td>1000_3</td>\n",
              "      <td>2018-06-16</td>\n",
              "      <td>1000</td>\n",
              "    </tr>\n",
              "    <tr>\n",
              "      <th>4</th>\n",
              "      <td>1000_4</td>\n",
              "      <td>2018-12-05</td>\n",
              "      <td>1000</td>\n",
              "    </tr>\n",
              "  </tbody>\n",
              "</table>\n",
              "</div>"
            ],
            "text/plain": [
              "       id message_date  user_id\n",
              "0  1000_0   2018-06-27     1000\n",
              "1  1000_1   2018-10-08     1000\n",
              "2  1000_2   2018-08-04     1000\n",
              "3  1000_3   2018-06-16     1000\n",
              "4  1000_4   2018-12-05     1000"
            ]
          },
          "execution_count": 4,
          "metadata": {},
          "output_type": "execute_result"
        }
      ],
      "source": [
        "sms_data.head(5)"
      ]
    },
    {
      "cell_type": "code",
      "execution_count": null,
      "metadata": {
        "scrolled": true,
        "id": "iizdmKHDbO9U",
        "outputId": "02eca633-bcc4-4404-d3f7-b4d6ae644269"
      },
      "outputs": [
        {
          "name": "stdout",
          "output_type": "stream",
          "text": [
            "<class 'pandas.core.frame.DataFrame'>\n",
            "RangeIndex: 123036 entries, 0 to 123035\n",
            "Data columns (total 3 columns):\n",
            " #   Column        Non-Null Count   Dtype \n",
            "---  ------        --------------   ----- \n",
            " 0   id            123036 non-null  object\n",
            " 1   message_date  123036 non-null  object\n",
            " 2   user_id       123036 non-null  int64 \n",
            "dtypes: int64(1), object(2)\n",
            "memory usage: 2.8+ MB\n"
          ]
        }
      ],
      "source": [
        "sms_data.info()"
      ]
    },
    {
      "cell_type": "code",
      "execution_count": null,
      "metadata": {
        "scrolled": true,
        "id": "cyefEjDbbO9U",
        "outputId": "b9c03b08-cd00-4f87-e29d-4d60be70b8f9"
      },
      "outputs": [
        {
          "data": {
            "text/html": [
              "<div>\n",
              "<style scoped>\n",
              "    .dataframe tbody tr th:only-of-type {\n",
              "        vertical-align: middle;\n",
              "    }\n",
              "\n",
              "    .dataframe tbody tr th {\n",
              "        vertical-align: top;\n",
              "    }\n",
              "\n",
              "    .dataframe thead th {\n",
              "        text-align: right;\n",
              "    }\n",
              "</style>\n",
              "<table border=\"1\" class=\"dataframe\">\n",
              "  <thead>\n",
              "    <tr style=\"text-align: right;\">\n",
              "      <th></th>\n",
              "      <th>messages_included</th>\n",
              "      <th>mb_per_month_included</th>\n",
              "      <th>minutes_included</th>\n",
              "      <th>rub_monthly_fee</th>\n",
              "      <th>rub_per_gb</th>\n",
              "      <th>rub_per_message</th>\n",
              "      <th>rub_per_minute</th>\n",
              "      <th>tariff_name</th>\n",
              "    </tr>\n",
              "  </thead>\n",
              "  <tbody>\n",
              "    <tr>\n",
              "      <th>0</th>\n",
              "      <td>50</td>\n",
              "      <td>15360</td>\n",
              "      <td>500</td>\n",
              "      <td>550</td>\n",
              "      <td>200</td>\n",
              "      <td>3</td>\n",
              "      <td>3</td>\n",
              "      <td>smart</td>\n",
              "    </tr>\n",
              "    <tr>\n",
              "      <th>1</th>\n",
              "      <td>1000</td>\n",
              "      <td>30720</td>\n",
              "      <td>3000</td>\n",
              "      <td>1950</td>\n",
              "      <td>150</td>\n",
              "      <td>1</td>\n",
              "      <td>1</td>\n",
              "      <td>ultra</td>\n",
              "    </tr>\n",
              "  </tbody>\n",
              "</table>\n",
              "</div>"
            ],
            "text/plain": [
              "   messages_included  mb_per_month_included  minutes_included  \\\n",
              "0                 50                  15360               500   \n",
              "1               1000                  30720              3000   \n",
              "\n",
              "   rub_monthly_fee  rub_per_gb  rub_per_message  rub_per_minute tariff_name  \n",
              "0              550         200                3               3       smart  \n",
              "1             1950         150                1               1       ultra  "
            ]
          },
          "execution_count": 6,
          "metadata": {},
          "output_type": "execute_result"
        }
      ],
      "source": [
        "tariff_data"
      ]
    },
    {
      "cell_type": "markdown",
      "metadata": {
        "id": "SouqzdPLbO9W"
      },
      "source": [
        "В Таблице inet_data, имеется столбец - Unnamed, который дублирует индексацию таблицы. Необходимо будет его удалить.\n",
        "\n",
        "Необходимо будет обновить информацию по дате в каждой таблице, поменять тип данных на int"
      ]
    },
    {
      "cell_type": "markdown",
      "metadata": {
        "id": "Xlli6A9sbO9W"
      },
      "source": [
        "#  Готовим данные"
      ]
    },
    {
      "cell_type": "markdown",
      "metadata": {
        "id": "O2LdtO8AbO9X"
      },
      "source": [
        "Рассматриваем таблицу с пользователями (user_data), посмотрим на процент пропусков по колонкам"
      ]
    },
    {
      "cell_type": "code",
      "execution_count": null,
      "metadata": {
        "scrolled": true,
        "id": "Mul5SGuWbO9X",
        "outputId": "ab0ca092-8b53-4873-de65-715f2368763f"
      },
      "outputs": [
        {
          "data": {
            "text/html": [
              "<div>\n",
              "<style scoped>\n",
              "    .dataframe tbody tr th:only-of-type {\n",
              "        vertical-align: middle;\n",
              "    }\n",
              "\n",
              "    .dataframe tbody tr th {\n",
              "        vertical-align: top;\n",
              "    }\n",
              "\n",
              "    .dataframe thead th {\n",
              "        text-align: right;\n",
              "    }\n",
              "</style>\n",
              "<table border=\"1\" class=\"dataframe\">\n",
              "  <thead>\n",
              "    <tr style=\"text-align: right;\">\n",
              "      <th></th>\n",
              "      <th>missing_values</th>\n",
              "      <th>% of total</th>\n",
              "    </tr>\n",
              "  </thead>\n",
              "  <tbody>\n",
              "    <tr>\n",
              "      <th>churn_date</th>\n",
              "      <td>462</td>\n",
              "      <td>0.92</td>\n",
              "    </tr>\n",
              "    <tr>\n",
              "      <th>user_id</th>\n",
              "      <td>0</td>\n",
              "      <td>0.00</td>\n",
              "    </tr>\n",
              "    <tr>\n",
              "      <th>age</th>\n",
              "      <td>0</td>\n",
              "      <td>0.00</td>\n",
              "    </tr>\n",
              "    <tr>\n",
              "      <th>city</th>\n",
              "      <td>0</td>\n",
              "      <td>0.00</td>\n",
              "    </tr>\n",
              "    <tr>\n",
              "      <th>first_name</th>\n",
              "      <td>0</td>\n",
              "      <td>0.00</td>\n",
              "    </tr>\n",
              "    <tr>\n",
              "      <th>last_name</th>\n",
              "      <td>0</td>\n",
              "      <td>0.00</td>\n",
              "    </tr>\n",
              "    <tr>\n",
              "      <th>reg_date</th>\n",
              "      <td>0</td>\n",
              "      <td>0.00</td>\n",
              "    </tr>\n",
              "    <tr>\n",
              "      <th>tariff</th>\n",
              "      <td>0</td>\n",
              "      <td>0.00</td>\n",
              "    </tr>\n",
              "  </tbody>\n",
              "</table>\n",
              "</div>"
            ],
            "text/plain": [
              "            missing_values  % of total\n",
              "churn_date             462        0.92\n",
              "user_id                  0        0.00\n",
              "age                      0        0.00\n",
              "city                     0        0.00\n",
              "first_name               0        0.00\n",
              "last_name                0        0.00\n",
              "reg_date                 0        0.00\n",
              "tariff                   0        0.00"
            ]
          },
          "execution_count": 7,
          "metadata": {},
          "output_type": "execute_result"
        }
      ],
      "source": [
        "report = user_data.isna().sum().to_frame()\n",
        "report = report.rename(columns = {0: 'missing_values'})\n",
        "report['% of total'] = (report['missing_values'] / user_data.shape[0]).round(2)\n",
        "report.sort_values(by = 'missing_values', ascending = False)"
      ]
    },
    {
      "cell_type": "code",
      "execution_count": null,
      "metadata": {
        "id": "1TkfdrWObO9X"
      },
      "outputs": [],
      "source": [
        "user_data['reg_date'] = pd.to_datetime(user_data['reg_date'], format='%Y-%m-%d')"
      ]
    },
    {
      "cell_type": "markdown",
      "metadata": {
        "id": "_V7ItiSfbO9Y"
      },
      "source": [
        "Переведем столбец месяца подключения в удобный для нас формат."
      ]
    },
    {
      "cell_type": "code",
      "execution_count": null,
      "metadata": {
        "scrolled": true,
        "id": "pEJaFBEebO9Y",
        "outputId": "99864b8a-bcc6-431e-8977-2551e497a236"
      },
      "outputs": [
        {
          "data": {
            "text/plain": [
              "smart    351\n",
              "ultra    149\n",
              "Name: tariff, dtype: int64"
            ]
          },
          "execution_count": 9,
          "metadata": {},
          "output_type": "execute_result"
        }
      ],
      "source": [
        "user_data['tariff'].value_counts()"
      ]
    },
    {
      "cell_type": "code",
      "execution_count": null,
      "metadata": {
        "id": "ZDyAvOfUbO9Y"
      },
      "outputs": [],
      "source": [
        "user_data['churn_date'] = pd.to_datetime(user_data['churn_date'],format='%Y-%m-%d')"
      ]
    },
    {
      "cell_type": "code",
      "execution_count": null,
      "metadata": {
        "id": "BaxlYGxCbO9Z"
      },
      "outputs": [],
      "source": [
        "user_data['city'] = user_data['city'].str.lower()\n",
        "user_data['first_name'] = user_data['first_name'].str.lower()\n",
        "user_data['last_name'] = user_data['last_name'].str.lower()"
      ]
    },
    {
      "cell_type": "markdown",
      "metadata": {
        "id": "puepAJZTbO9Z"
      },
      "source": [
        "Переведем столбец месяца отключения (те, данный, которые у нас есть) в удобный для нас формат. Также, переведем столбцы с названием городов и ФИО к нижнему регистру."
      ]
    },
    {
      "cell_type": "markdown",
      "metadata": {
        "id": "7D4aWRNSbO9Z"
      },
      "source": [
        "Рассмотрим таблицу со звонками. Перед тем как начать менять данные необходимо импорировать необходимые для исследования библитотеки (для строительства гистограмм, округления, графиков и т.д.)"
      ]
    },
    {
      "cell_type": "code",
      "execution_count": null,
      "metadata": {
        "id": "tPrLl9HYbO9a"
      },
      "outputs": [],
      "source": [
        "import numpy as np\n",
        "import matplotlib.pyplot as plt\n",
        "%matplotlib inline\n",
        "import seaborn as sns\n",
        "from scipy import stats as st\n",
        "from math import ceil as math"
      ]
    },
    {
      "cell_type": "markdown",
      "metadata": {
        "id": "4kwJiMQXbO9a"
      },
      "source": [
        "Будет неоходимо перевести данные в колонке 'user_id' к типу данных \"int\".\n",
        "В будущем нам будет необходимо рассмотреть данные по месяцам, поэтому мы будем использовать их названия, для того, чтобы заказчику было удобнее понимать все наши вычисления"
      ]
    },
    {
      "cell_type": "code",
      "execution_count": null,
      "metadata": {
        "scrolled": true,
        "id": "I2iFzgQsbO9a",
        "outputId": "1d8bd59e-1a30-437e-cd92-2a6790804be3"
      },
      "outputs": [
        {
          "data": {
            "text/html": [
              "<div>\n",
              "<style scoped>\n",
              "    .dataframe tbody tr th:only-of-type {\n",
              "        vertical-align: middle;\n",
              "    }\n",
              "\n",
              "    .dataframe tbody tr th {\n",
              "        vertical-align: top;\n",
              "    }\n",
              "\n",
              "    .dataframe thead th {\n",
              "        text-align: right;\n",
              "    }\n",
              "</style>\n",
              "<table border=\"1\" class=\"dataframe\">\n",
              "  <thead>\n",
              "    <tr style=\"text-align: right;\">\n",
              "      <th></th>\n",
              "      <th>id</th>\n",
              "      <th>call_date</th>\n",
              "      <th>duration</th>\n",
              "      <th>user_id</th>\n",
              "      <th>month_name</th>\n",
              "    </tr>\n",
              "  </thead>\n",
              "  <tbody>\n",
              "    <tr>\n",
              "      <th>96123</th>\n",
              "      <td>1244378</td>\n",
              "      <td>2018-12-01</td>\n",
              "      <td>0.00</td>\n",
              "      <td>1244</td>\n",
              "      <td>December</td>\n",
              "    </tr>\n",
              "    <tr>\n",
              "      <th>193405</th>\n",
              "      <td>147574</td>\n",
              "      <td>2018-07-05</td>\n",
              "      <td>13.07</td>\n",
              "      <td>1475</td>\n",
              "      <td>July</td>\n",
              "    </tr>\n",
              "    <tr>\n",
              "      <th>121510</th>\n",
              "      <td>1314183</td>\n",
              "      <td>2018-05-10</td>\n",
              "      <td>2.91</td>\n",
              "      <td>1314</td>\n",
              "      <td>May</td>\n",
              "    </tr>\n",
              "    <tr>\n",
              "      <th>30310</th>\n",
              "      <td>1076602</td>\n",
              "      <td>2018-05-23</td>\n",
              "      <td>11.11</td>\n",
              "      <td>1076</td>\n",
              "      <td>May</td>\n",
              "    </tr>\n",
              "    <tr>\n",
              "      <th>146133</th>\n",
              "      <td>1372311</td>\n",
              "      <td>2018-03-04</td>\n",
              "      <td>2.76</td>\n",
              "      <td>1372</td>\n",
              "      <td>March</td>\n",
              "    </tr>\n",
              "    <tr>\n",
              "      <th>83909</th>\n",
              "      <td>120971</td>\n",
              "      <td>2018-06-10</td>\n",
              "      <td>11.95</td>\n",
              "      <td>1209</td>\n",
              "      <td>June</td>\n",
              "    </tr>\n",
              "    <tr>\n",
              "      <th>185132</th>\n",
              "      <td>1458424</td>\n",
              "      <td>2018-12-20</td>\n",
              "      <td>0.00</td>\n",
              "      <td>1458</td>\n",
              "      <td>December</td>\n",
              "    </tr>\n",
              "    <tr>\n",
              "      <th>195690</th>\n",
              "      <td>14801</td>\n",
              "      <td>2018-05-31</td>\n",
              "      <td>7.01</td>\n",
              "      <td>1480</td>\n",
              "      <td>May</td>\n",
              "    </tr>\n",
              "    <tr>\n",
              "      <th>154569</th>\n",
              "      <td>1382352</td>\n",
              "      <td>2018-11-09</td>\n",
              "      <td>27.64</td>\n",
              "      <td>1382</td>\n",
              "      <td>November</td>\n",
              "    </tr>\n",
              "    <tr>\n",
              "      <th>42419</th>\n",
              "      <td>1104321</td>\n",
              "      <td>2018-03-17</td>\n",
              "      <td>0.00</td>\n",
              "      <td>1104</td>\n",
              "      <td>March</td>\n",
              "    </tr>\n",
              "  </tbody>\n",
              "</table>\n",
              "</div>"
            ],
            "text/plain": [
              "             id  call_date  duration  user_id month_name\n",
              "96123   1244378 2018-12-01      0.00     1244   December\n",
              "193405   147574 2018-07-05     13.07     1475       July\n",
              "121510  1314183 2018-05-10      2.91     1314        May\n",
              "30310   1076602 2018-05-23     11.11     1076        May\n",
              "146133  1372311 2018-03-04      2.76     1372      March\n",
              "83909    120971 2018-06-10     11.95     1209       June\n",
              "185132  1458424 2018-12-20      0.00     1458   December\n",
              "195690    14801 2018-05-31      7.01     1480        May\n",
              "154569  1382352 2018-11-09     27.64     1382   November\n",
              "42419   1104321 2018-03-17      0.00     1104      March"
            ]
          },
          "execution_count": 13,
          "metadata": {},
          "output_type": "execute_result"
        }
      ],
      "source": [
        "call_data['call_date'] = pd.to_datetime(call_data['call_date'], format='%Y-%m-%d')\n",
        "call_data['id'] = call_data['id'].astype(int)\n",
        "call_data['month_name'] = pd.DatetimeIndex(call_data['call_date']).month_name()\n",
        "call_data.sample(10)"
      ]
    },
    {
      "cell_type": "markdown",
      "metadata": {
        "id": "8XsiMWqAbO9b"
      },
      "source": [
        "Построим график и посмотрим, какая длительность звонков является самой распространенной.\n",
        "Также мы должны помнить, что «Мегалайн» всегда округляет вверх значения минут и мегабайтов. Если пользователь проговорил всего 1 секунду, в тарифе засчитывается целая минута. Округляем длительность в большую сторону."
      ]
    },
    {
      "cell_type": "code",
      "execution_count": null,
      "metadata": {
        "scrolled": false,
        "id": "-VSMmCFEbO9b",
        "outputId": "92d8afba-544b-4556-f3cf-733bfe24c6d8"
      },
      "outputs": [
        {
          "data": {
            "image/png": "[encoded data removed]",
            "text/plain": [
              "<Figure size 1080x720 with 1 Axes>"
            ]
          },
          "metadata": {
            "needs_background": "light"
          },
          "output_type": "display_data"
        }
      ],
      "source": [
        "call_data['duration'] = call_data['duration'].apply(np.ceil)\n",
        "call_data['duration'] = call_data['duration'].astype(int)\n",
        "call_data.groupby('duration')['duration'].count().plot(x='duration',y='count',kind='bar', figsize = (15,10))\n",
        "plt.show()"
      ]
    },
    {
      "cell_type": "code",
      "execution_count": null,
      "metadata": {
        "scrolled": true,
        "id": "o-LywEQObO9c",
        "outputId": "3d4cd442-7d3e-4b60-a0e0-fc49378dfd7c"
      },
      "outputs": [
        {
          "data": {
            "image/png": "[encoded data removed]",
            "text/plain": [
              "<Figure size 960x400 with 1 Axes>"
            ]
          },
          "metadata": {
            "needs_background": "light"
          },
          "output_type": "display_data"
        }
      ],
      "source": [
        "from matplotlib.pyplot import figure\n",
        "figure(figsize=(12, 5), dpi=80)\n",
        "call_data['duration'].hist(bins=37);"
      ]
    },
    {
      "cell_type": "markdown",
      "metadata": {
        "id": "LXrGFsVUbO9d"
      },
      "source": [
        "Из графика мы видим, что огромное количество звонков - \"нулевые\". Однако нет смысла избавляться от данных значений. В тарифах учитывается показатель не общее количество звонков, а общее количество минут которое пользователь потратил за месяц. Клиент тарифа Смарт, совершивший 400 звонков с длительностью 0 минут будет платить столько же, сколько клиент, который совершил 1 звонок и говорил 400 минут."
      ]
    },
    {
      "cell_type": "markdown",
      "metadata": {
        "id": "ser9QniXbO9d"
      },
      "source": [
        "Теперь рассмотрим таблицу, показывающую использование интернета. Выше мы увидели, что пропущенных данных нет. Основная задача - избавится от лишнего столбца, который дублирует индексы, и создать столбец с наименованием месяца."
      ]
    },
    {
      "cell_type": "code",
      "execution_count": null,
      "metadata": {
        "id": "MbID8rSZbO9d",
        "outputId": "8521dd9d-a195-445a-caad-b4c0eaf8a150"
      },
      "outputs": [
        {
          "data": {
            "text/html": [
              "<div>\n",
              "<style scoped>\n",
              "    .dataframe tbody tr th:only-of-type {\n",
              "        vertical-align: middle;\n",
              "    }\n",
              "\n",
              "    .dataframe tbody tr th {\n",
              "        vertical-align: top;\n",
              "    }\n",
              "\n",
              "    .dataframe thead th {\n",
              "        text-align: right;\n",
              "    }\n",
              "</style>\n",
              "<table border=\"1\" class=\"dataframe\">\n",
              "  <thead>\n",
              "    <tr style=\"text-align: right;\">\n",
              "      <th></th>\n",
              "      <th>Unnamed: 0</th>\n",
              "      <th>id</th>\n",
              "      <th>mb_used</th>\n",
              "      <th>session_date</th>\n",
              "      <th>user_id</th>\n",
              "    </tr>\n",
              "  </thead>\n",
              "  <tbody>\n",
              "    <tr>\n",
              "      <th>0</th>\n",
              "      <td>0</td>\n",
              "      <td>1000_0</td>\n",
              "      <td>112.95</td>\n",
              "      <td>2018-11-25</td>\n",
              "      <td>1000</td>\n",
              "    </tr>\n",
              "    <tr>\n",
              "      <th>1</th>\n",
              "      <td>1</td>\n",
              "      <td>1000_1</td>\n",
              "      <td>1052.81</td>\n",
              "      <td>2018-09-07</td>\n",
              "      <td>1000</td>\n",
              "    </tr>\n",
              "    <tr>\n",
              "      <th>2</th>\n",
              "      <td>2</td>\n",
              "      <td>1000_2</td>\n",
              "      <td>1197.26</td>\n",
              "      <td>2018-06-25</td>\n",
              "      <td>1000</td>\n",
              "    </tr>\n",
              "    <tr>\n",
              "      <th>3</th>\n",
              "      <td>3</td>\n",
              "      <td>1000_3</td>\n",
              "      <td>550.27</td>\n",
              "      <td>2018-08-22</td>\n",
              "      <td>1000</td>\n",
              "    </tr>\n",
              "    <tr>\n",
              "      <th>4</th>\n",
              "      <td>4</td>\n",
              "      <td>1000_4</td>\n",
              "      <td>302.56</td>\n",
              "      <td>2018-09-24</td>\n",
              "      <td>1000</td>\n",
              "    </tr>\n",
              "  </tbody>\n",
              "</table>\n",
              "</div>"
            ],
            "text/plain": [
              "   Unnamed: 0      id  mb_used session_date  user_id\n",
              "0           0  1000_0   112.95   2018-11-25     1000\n",
              "1           1  1000_1  1052.81   2018-09-07     1000\n",
              "2           2  1000_2  1197.26   2018-06-25     1000\n",
              "3           3  1000_3   550.27   2018-08-22     1000\n",
              "4           4  1000_4   302.56   2018-09-24     1000"
            ]
          },
          "execution_count": 16,
          "metadata": {},
          "output_type": "execute_result"
        }
      ],
      "source": [
        "inet_data.head(5)"
      ]
    },
    {
      "cell_type": "code",
      "execution_count": null,
      "metadata": {
        "id": "Yt0gNP0fbO9e"
      },
      "outputs": [],
      "source": [
        "inet_data['session_date'] = pd.to_datetime(inet_data['session_date'], format='%Y-%m-%d')"
      ]
    },
    {
      "cell_type": "code",
      "execution_count": null,
      "metadata": {
        "id": "NRf3gDOubO9e"
      },
      "outputs": [],
      "source": [
        "inet_data = inet_data.drop(['Unnamed: 0'],axis = 1)\n",
        "inet_data['id'] = inet_data['id'].astype(int)\n",
        "inet_data['month_name'] = pd.DatetimeIndex(inet_data['session_date']).month_name()\n",
        "inet_data['mb_used'] = inet_data['mb_used'].apply(np.ceil)\n",
        "inet_data['mb_used'] = inet_data['mb_used'].astype(int)\n",
        "#inet_data.head(5)"
      ]
    },
    {
      "cell_type": "code",
      "execution_count": null,
      "metadata": {
        "id": "4EhzlbwAbO9e",
        "outputId": "6e0b40e1-8fcb-43a9-8bd0-48d2f443a5eb"
      },
      "outputs": [
        {
          "data": {
            "text/html": [
              "<div>\n",
              "<style scoped>\n",
              "    .dataframe tbody tr th:only-of-type {\n",
              "        vertical-align: middle;\n",
              "    }\n",
              "\n",
              "    .dataframe tbody tr th {\n",
              "        vertical-align: top;\n",
              "    }\n",
              "\n",
              "    .dataframe thead th {\n",
              "        text-align: right;\n",
              "    }\n",
              "</style>\n",
              "<table border=\"1\" class=\"dataframe\">\n",
              "  <thead>\n",
              "    <tr style=\"text-align: right;\">\n",
              "      <th></th>\n",
              "      <th>id</th>\n",
              "      <th>message_date</th>\n",
              "      <th>user_id</th>\n",
              "    </tr>\n",
              "  </thead>\n",
              "  <tbody>\n",
              "    <tr>\n",
              "      <th>0</th>\n",
              "      <td>1000_0</td>\n",
              "      <td>2018-06-27</td>\n",
              "      <td>1000</td>\n",
              "    </tr>\n",
              "    <tr>\n",
              "      <th>1</th>\n",
              "      <td>1000_1</td>\n",
              "      <td>2018-10-08</td>\n",
              "      <td>1000</td>\n",
              "    </tr>\n",
              "    <tr>\n",
              "      <th>2</th>\n",
              "      <td>1000_2</td>\n",
              "      <td>2018-08-04</td>\n",
              "      <td>1000</td>\n",
              "    </tr>\n",
              "    <tr>\n",
              "      <th>3</th>\n",
              "      <td>1000_3</td>\n",
              "      <td>2018-06-16</td>\n",
              "      <td>1000</td>\n",
              "    </tr>\n",
              "    <tr>\n",
              "      <th>4</th>\n",
              "      <td>1000_4</td>\n",
              "      <td>2018-12-05</td>\n",
              "      <td>1000</td>\n",
              "    </tr>\n",
              "  </tbody>\n",
              "</table>\n",
              "</div>"
            ],
            "text/plain": [
              "       id message_date  user_id\n",
              "0  1000_0   2018-06-27     1000\n",
              "1  1000_1   2018-10-08     1000\n",
              "2  1000_2   2018-08-04     1000\n",
              "3  1000_3   2018-06-16     1000\n",
              "4  1000_4   2018-12-05     1000"
            ]
          },
          "execution_count": 19,
          "metadata": {},
          "output_type": "execute_result"
        }
      ],
      "source": [
        "sms_data.head(5)"
      ]
    },
    {
      "cell_type": "code",
      "execution_count": null,
      "metadata": {
        "id": "Kz4Mht8rbO9f"
      },
      "outputs": [],
      "source": [
        "sms_data['message_date'] = pd.to_datetime(sms_data['message_date'], format='%Y-%m-%d')"
      ]
    },
    {
      "cell_type": "code",
      "execution_count": null,
      "metadata": {
        "id": "4rZcE6X_bO9f"
      },
      "outputs": [],
      "source": [
        "sms_data['id'] = sms_data['id'].astype(int)\n",
        "sms_data['month_name'] = pd.DatetimeIndex(sms_data['message_date']).month_name()"
      ]
    },
    {
      "cell_type": "markdown",
      "metadata": {
        "id": "6DH46toZbO9f"
      },
      "source": [
        "Создадим сводную 3 сводных таблицы для показателей \"звонки\", \"интернет\", \"смс\", где будем группировать по номеру пользователя и месяцам"
      ]
    },
    {
      "cell_type": "code",
      "execution_count": null,
      "metadata": {
        "id": "xWaoNA6tbO9f"
      },
      "outputs": [],
      "source": [
        "inet_count = inet_data.pivot_table(index=['month_name','user_id'], values=['mb_used'], aggfunc=['sum'])"
      ]
    },
    {
      "cell_type": "code",
      "execution_count": null,
      "metadata": {
        "scrolled": false,
        "id": "OGcvO6HkbO9g",
        "outputId": "097e3c84-0872-4a6a-e1c3-80b073547071"
      },
      "outputs": [
        {
          "data": {
            "text/html": [
              "<div>\n",
              "<style scoped>\n",
              "    .dataframe tbody tr th:only-of-type {\n",
              "        vertical-align: middle;\n",
              "    }\n",
              "\n",
              "    .dataframe tbody tr th {\n",
              "        vertical-align: top;\n",
              "    }\n",
              "\n",
              "    .dataframe thead tr th {\n",
              "        text-align: left;\n",
              "    }\n",
              "\n",
              "    .dataframe thead tr:last-of-type th {\n",
              "        text-align: right;\n",
              "    }\n",
              "</style>\n",
              "<table border=\"1\" class=\"dataframe\">\n",
              "  <thead>\n",
              "    <tr>\n",
              "      <th></th>\n",
              "      <th></th>\n",
              "      <th>sum</th>\n",
              "    </tr>\n",
              "    <tr>\n",
              "      <th></th>\n",
              "      <th></th>\n",
              "      <th>mb_used</th>\n",
              "    </tr>\n",
              "    <tr>\n",
              "      <th>month_name</th>\n",
              "      <th>user_id</th>\n",
              "      <th></th>\n",
              "    </tr>\n",
              "  </thead>\n",
              "  <tbody>\n",
              "    <tr>\n",
              "      <th rowspan=\"5\" valign=\"top\">April</th>\n",
              "      <th>1005</th>\n",
              "      <td>9365</td>\n",
              "    </tr>\n",
              "    <tr>\n",
              "      <th>1006</th>\n",
              "      <td>13954</td>\n",
              "    </tr>\n",
              "    <tr>\n",
              "      <th>1007</th>\n",
              "      <td>8031</td>\n",
              "    </tr>\n",
              "    <tr>\n",
              "      <th>1009</th>\n",
              "      <td>14730</td>\n",
              "    </tr>\n",
              "    <tr>\n",
              "      <th>1011</th>\n",
              "      <td>18099</td>\n",
              "    </tr>\n",
              "    <tr>\n",
              "      <th>...</th>\n",
              "      <th>...</th>\n",
              "      <td>...</td>\n",
              "    </tr>\n",
              "    <tr>\n",
              "      <th rowspan=\"5\" valign=\"top\">September</th>\n",
              "      <th>1494</th>\n",
              "      <td>16986</td>\n",
              "    </tr>\n",
              "    <tr>\n",
              "      <th>1495</th>\n",
              "      <td>33105</td>\n",
              "    </tr>\n",
              "    <tr>\n",
              "      <th>1496</th>\n",
              "      <td>26970</td>\n",
              "    </tr>\n",
              "    <tr>\n",
              "      <th>1498</th>\n",
              "      <td>22166</td>\n",
              "    </tr>\n",
              "    <tr>\n",
              "      <th>1499</th>\n",
              "      <td>1848</td>\n",
              "    </tr>\n",
              "  </tbody>\n",
              "</table>\n",
              "<p>3203 rows × 1 columns</p>\n",
              "</div>"
            ],
            "text/plain": [
              "                       sum\n",
              "                   mb_used\n",
              "month_name user_id        \n",
              "April      1005       9365\n",
              "           1006      13954\n",
              "           1007       8031\n",
              "           1009      14730\n",
              "           1011      18099\n",
              "...                    ...\n",
              "September  1494      16986\n",
              "           1495      33105\n",
              "           1496      26970\n",
              "           1498      22166\n",
              "           1499       1848\n",
              "\n",
              "[3203 rows x 1 columns]"
            ]
          },
          "execution_count": 23,
          "metadata": {},
          "output_type": "execute_result"
        }
      ],
      "source": [
        "inet_count"
      ]
    },
    {
      "cell_type": "code",
      "execution_count": null,
      "metadata": {
        "id": "La36pc2GbO9g"
      },
      "outputs": [],
      "source": [
        "calls_count = call_data.pivot_table(index = ['month_name', 'user_id'], values = 'duration', aggfunc = ['sum','count'])"
      ]
    },
    {
      "cell_type": "code",
      "execution_count": null,
      "metadata": {
        "id": "_8NYfvu8bO9g"
      },
      "outputs": [],
      "source": [
        "sms_count = sms_data.pivot_table(index = ['month_name','user_id'], values = 'message_date', aggfunc=('count'))"
      ]
    },
    {
      "cell_type": "markdown",
      "metadata": {
        "id": "HsVwphhcbO9h"
      },
      "source": [
        "Теперь будет необходимо объединить данные таблицы, используем для этого функцию merge(), объединяем по столбцам \"месяц\" и \"номер клиента\""
      ]
    },
    {
      "cell_type": "code",
      "execution_count": null,
      "metadata": {
        "scrolled": true,
        "id": "i8yTK1dubO9h",
        "outputId": "336daf65-f34c-488d-c17e-f0f82669eb99"
      },
      "outputs": [
        {
          "name": "stderr",
          "output_type": "stream",
          "text": [
            "/opt/conda/lib/python3.9/site-packages/pandas/core/reshape/merge.py:648: UserWarning: merging between different levels can give an unintended result (1 levels on the left,2 on the right)\n",
            "  warnings.warn(msg, UserWarning)\n"
          ]
        }
      ],
      "source": [
        "sms_call_count = sms_count.merge(calls_count,on = ['user_id', 'month_name'],how = 'outer') "
      ]
    },
    {
      "cell_type": "code",
      "execution_count": null,
      "metadata": {
        "id": "TDa5LxICbO9h"
      },
      "outputs": [],
      "source": [
        "sms_call_count.reset_index(inplace = True)"
      ]
    },
    {
      "cell_type": "markdown",
      "metadata": {
        "id": "BsT_KVhIbO9i"
      },
      "source": [
        "Использовал reset_index для сбрасывание индексов"
      ]
    },
    {
      "cell_type": "code",
      "execution_count": null,
      "metadata": {
        "scrolled": false,
        "id": "NYKR-nQabO9i",
        "outputId": "da431bf0-9f80-44c4-ff4b-bd601b83aaa6"
      },
      "outputs": [
        {
          "name": "stdout",
          "output_type": "stream",
          "text": [
            "<class 'pandas.core.frame.DataFrame'>\n",
            "Int64Index: 3214 entries, 0 to 3213\n",
            "Data columns (total 6 columns):\n",
            " #   Column             Non-Null Count  Dtype  \n",
            "---  ------             --------------  -----  \n",
            " 0   user_id            3214 non-null   int64  \n",
            " 1   month_name         3214 non-null   object \n",
            " 2   message_date       2717 non-null   float64\n",
            " 3   (sum, duration)    3174 non-null   float64\n",
            " 4   (count, duration)  3174 non-null   float64\n",
            " 5   (sum, mb_used)     3203 non-null   float64\n",
            "dtypes: float64(4), int64(1), object(1)\n",
            "memory usage: 175.8+ KB\n"
          ]
        }
      ],
      "source": [
        "count_all = sms_call_count.merge(inet_count, on=['user_id','month_name'], how='outer')\n",
        "count_all.info()"
      ]
    },
    {
      "cell_type": "code",
      "execution_count": null,
      "metadata": {
        "scrolled": true,
        "id": "PnjW7JkXbO9i",
        "outputId": "a0747b38-99d7-4537-cd52-d2e018693630"
      },
      "outputs": [
        {
          "data": {
            "text/html": [
              "<div>\n",
              "<style scoped>\n",
              "    .dataframe tbody tr th:only-of-type {\n",
              "        vertical-align: middle;\n",
              "    }\n",
              "\n",
              "    .dataframe tbody tr th {\n",
              "        vertical-align: top;\n",
              "    }\n",
              "\n",
              "    .dataframe thead th {\n",
              "        text-align: right;\n",
              "    }\n",
              "</style>\n",
              "<table border=\"1\" class=\"dataframe\">\n",
              "  <thead>\n",
              "    <tr style=\"text-align: right;\">\n",
              "      <th></th>\n",
              "      <th>user_id</th>\n",
              "      <th>month_name</th>\n",
              "      <th>message_date</th>\n",
              "      <th>(sum, duration)</th>\n",
              "      <th>(count, duration)</th>\n",
              "      <th>(sum, mb_used)</th>\n",
              "    </tr>\n",
              "  </thead>\n",
              "  <tbody>\n",
              "    <tr>\n",
              "      <th>1986</th>\n",
              "      <td>1431</td>\n",
              "      <td>November</td>\n",
              "      <td>79.0</td>\n",
              "      <td>278.0</td>\n",
              "      <td>36.0</td>\n",
              "      <td>18234.0</td>\n",
              "    </tr>\n",
              "    <tr>\n",
              "      <th>569</th>\n",
              "      <td>1181</td>\n",
              "      <td>December</td>\n",
              "      <td>82.0</td>\n",
              "      <td>351.0</td>\n",
              "      <td>62.0</td>\n",
              "      <td>28241.0</td>\n",
              "    </tr>\n",
              "    <tr>\n",
              "      <th>1167</th>\n",
              "      <td>1471</td>\n",
              "      <td>July</td>\n",
              "      <td>98.0</td>\n",
              "      <td>765.0</td>\n",
              "      <td>115.0</td>\n",
              "      <td>12923.0</td>\n",
              "    </tr>\n",
              "    <tr>\n",
              "      <th>2634</th>\n",
              "      <td>1379</td>\n",
              "      <td>September</td>\n",
              "      <td>112.0</td>\n",
              "      <td>841.0</td>\n",
              "      <td>111.0</td>\n",
              "      <td>21189.0</td>\n",
              "    </tr>\n",
              "    <tr>\n",
              "      <th>2031</th>\n",
              "      <td>1487</td>\n",
              "      <td>November</td>\n",
              "      <td>23.0</td>\n",
              "      <td>227.0</td>\n",
              "      <td>34.0</td>\n",
              "      <td>14063.0</td>\n",
              "    </tr>\n",
              "  </tbody>\n",
              "</table>\n",
              "</div>"
            ],
            "text/plain": [
              "      user_id month_name  message_date  (sum, duration)  (count, duration)  \\\n",
              "1986     1431   November          79.0            278.0               36.0   \n",
              "569      1181   December          82.0            351.0               62.0   \n",
              "1167     1471       July          98.0            765.0              115.0   \n",
              "2634     1379  September         112.0            841.0              111.0   \n",
              "2031     1487   November          23.0            227.0               34.0   \n",
              "\n",
              "      (sum, mb_used)  \n",
              "1986         18234.0  \n",
              "569          28241.0  \n",
              "1167         12923.0  \n",
              "2634         21189.0  \n",
              "2031         14063.0  "
            ]
          },
          "execution_count": 29,
          "metadata": {},
          "output_type": "execute_result"
        }
      ],
      "source": [
        "count_all.sample(5)"
      ]
    },
    {
      "cell_type": "markdown",
      "metadata": {
        "id": "lNwJrgvZbO9j"
      },
      "source": [
        "К вновь созданной таблице прикремляем таблицу \"user_data\", где у нас хранятся персональные данные клиентов"
      ]
    },
    {
      "cell_type": "code",
      "execution_count": null,
      "metadata": {
        "id": "K9JAdbdzbO9j"
      },
      "outputs": [],
      "source": [
        "new_df=count_all.merge(user_data,on=['user_id'],how='outer')"
      ]
    },
    {
      "cell_type": "code",
      "execution_count": null,
      "metadata": {
        "scrolled": false,
        "id": "-X9U96C4bO9j",
        "outputId": "3717da18-d58c-491b-fcc1-42eccf5b129f"
      },
      "outputs": [
        {
          "name": "stdout",
          "output_type": "stream",
          "text": [
            "<class 'pandas.core.frame.DataFrame'>\n",
            "Int64Index: 3216 entries, 0 to 3215\n",
            "Data columns (total 13 columns):\n",
            " #   Column             Non-Null Count  Dtype         \n",
            "---  ------             --------------  -----         \n",
            " 0   user_id            3216 non-null   int64         \n",
            " 1   month_name         3214 non-null   object        \n",
            " 2   message_date       2717 non-null   float64       \n",
            " 3   (sum, duration)    3174 non-null   float64       \n",
            " 4   (count, duration)  3174 non-null   float64       \n",
            " 5   (sum, mb_used)     3203 non-null   float64       \n",
            " 6   age                3216 non-null   int64         \n",
            " 7   churn_date         189 non-null    datetime64[ns]\n",
            " 8   city               3216 non-null   object        \n",
            " 9   first_name         3216 non-null   object        \n",
            " 10  last_name          3216 non-null   object        \n",
            " 11  reg_date           3216 non-null   datetime64[ns]\n",
            " 12  tariff             3216 non-null   object        \n",
            "dtypes: datetime64[ns](2), float64(4), int64(2), object(5)\n",
            "memory usage: 351.8+ KB\n"
          ]
        }
      ],
      "source": [
        "new_df.info()"
      ]
    },
    {
      "cell_type": "markdown",
      "metadata": {
        "id": "slUqvUhMbO9j"
      },
      "source": [
        "Переименуем столбцы для новой таблицы, удалим ненужные столбцы (возраст и дату прекращения пользования тарифом)"
      ]
    },
    {
      "cell_type": "code",
      "execution_count": null,
      "metadata": {
        "scrolled": true,
        "id": "SVr8_7O1bO9j"
      },
      "outputs": [],
      "source": [
        "new_df.head(5)\n",
        "new_df.set_axis(['user_id','month_name','sum_messages', 'minutes', 'sum_calls', 'sum_mb_used', 'age', 'churn_date', 'city', 'first_name', 'last_name', 'reg_date', 'tariff'],axis='columns',inplace=True)\n",
        "del new_df['age']\n",
        "del new_df['churn_date']"
      ]
    },
    {
      "cell_type": "code",
      "execution_count": null,
      "metadata": {
        "scrolled": false,
        "id": "qmTsMx54bO9k"
      },
      "outputs": [],
      "source": [
        "#new_df.isnull().sum()"
      ]
    },
    {
      "cell_type": "code",
      "execution_count": null,
      "metadata": {
        "scrolled": false,
        "id": "-wsKWSGFbO9k",
        "outputId": "a712d280-02f8-4fd3-9697-a2c78bce867e"
      },
      "outputs": [
        {
          "data": {
            "text/html": [
              "<div>\n",
              "<style scoped>\n",
              "    .dataframe tbody tr th:only-of-type {\n",
              "        vertical-align: middle;\n",
              "    }\n",
              "\n",
              "    .dataframe tbody tr th {\n",
              "        vertical-align: top;\n",
              "    }\n",
              "\n",
              "    .dataframe thead th {\n",
              "        text-align: right;\n",
              "    }\n",
              "</style>\n",
              "<table border=\"1\" class=\"dataframe\">\n",
              "  <thead>\n",
              "    <tr style=\"text-align: right;\">\n",
              "      <th></th>\n",
              "      <th>user_id</th>\n",
              "      <th>month_name</th>\n",
              "      <th>sum_messages</th>\n",
              "      <th>minutes</th>\n",
              "      <th>sum_calls</th>\n",
              "      <th>sum_mb_used</th>\n",
              "      <th>city</th>\n",
              "      <th>first_name</th>\n",
              "      <th>last_name</th>\n",
              "      <th>reg_date</th>\n",
              "      <th>tariff</th>\n",
              "    </tr>\n",
              "  </thead>\n",
              "  <tbody>\n",
              "    <tr>\n",
              "      <th>2974</th>\n",
              "      <td>1363</td>\n",
              "      <td>May</td>\n",
              "      <td>NaN</td>\n",
              "      <td>616.0</td>\n",
              "      <td>108.0</td>\n",
              "      <td>14421.0</td>\n",
              "      <td>нижний тагил</td>\n",
              "      <td>оксана</td>\n",
              "      <td>болдырева</td>\n",
              "      <td>2018-03-04</td>\n",
              "      <td>ultra</td>\n",
              "    </tr>\n",
              "    <tr>\n",
              "      <th>1996</th>\n",
              "      <td>1296</td>\n",
              "      <td>November</td>\n",
              "      <td>40.0</td>\n",
              "      <td>267.0</td>\n",
              "      <td>43.0</td>\n",
              "      <td>15611.0</td>\n",
              "      <td>москва</td>\n",
              "      <td>альфред</td>\n",
              "      <td>черный</td>\n",
              "      <td>2018-06-05</td>\n",
              "      <td>smart</td>\n",
              "    </tr>\n",
              "    <tr>\n",
              "      <th>1217</th>\n",
              "      <td>1454</td>\n",
              "      <td>September</td>\n",
              "      <td>21.0</td>\n",
              "      <td>543.0</td>\n",
              "      <td>71.0</td>\n",
              "      <td>10557.0</td>\n",
              "      <td>томск</td>\n",
              "      <td>адам</td>\n",
              "      <td>алешин</td>\n",
              "      <td>2018-03-08</td>\n",
              "      <td>smart</td>\n",
              "    </tr>\n",
              "    <tr>\n",
              "      <th>1975</th>\n",
              "      <td>1279</td>\n",
              "      <td>December</td>\n",
              "      <td>2.0</td>\n",
              "      <td>567.0</td>\n",
              "      <td>68.0</td>\n",
              "      <td>11386.0</td>\n",
              "      <td>омск</td>\n",
              "      <td>лолита</td>\n",
              "      <td>киреева</td>\n",
              "      <td>2018-08-13</td>\n",
              "      <td>smart</td>\n",
              "    </tr>\n",
              "    <tr>\n",
              "      <th>65</th>\n",
              "      <td>1018</td>\n",
              "      <td>May</td>\n",
              "      <td>30.0</td>\n",
              "      <td>507.0</td>\n",
              "      <td>80.0</td>\n",
              "      <td>5047.0</td>\n",
              "      <td>уфа</td>\n",
              "      <td>матвей</td>\n",
              "      <td>золотов</td>\n",
              "      <td>2018-04-01</td>\n",
              "      <td>ultra</td>\n",
              "    </tr>\n",
              "  </tbody>\n",
              "</table>\n",
              "</div>"
            ],
            "text/plain": [
              "      user_id month_name  sum_messages  minutes  sum_calls  sum_mb_used  \\\n",
              "2974     1363        May           NaN    616.0      108.0      14421.0   \n",
              "1996     1296   November          40.0    267.0       43.0      15611.0   \n",
              "1217     1454  September          21.0    543.0       71.0      10557.0   \n",
              "1975     1279   December           2.0    567.0       68.0      11386.0   \n",
              "65       1018        May          30.0    507.0       80.0       5047.0   \n",
              "\n",
              "              city first_name  last_name   reg_date tariff  \n",
              "2974  нижний тагил     оксана  болдырева 2018-03-04  ultra  \n",
              "1996        москва    альфред     черный 2018-06-05  smart  \n",
              "1217         томск       адам     алешин 2018-03-08  smart  \n",
              "1975          омск     лолита    киреева 2018-08-13  smart  \n",
              "65             уфа     матвей    золотов 2018-04-01  ultra  "
            ]
          },
          "execution_count": 34,
          "metadata": {},
          "output_type": "execute_result"
        }
      ],
      "source": [
        "#new_df = new_df.fillna(0)  \n",
        "#new_df['sum_messages'] = new_df['sum_messages'].astype(int)\n",
        "#new_df['sum_calls'] = new_df['sum_calls'].astype(int)\n",
        "#new_df['minutes'] = new_df['minutes'].astype(int)\n",
        "#new_df['sum_mb_used'] = new_df['sum_mb_used'].astype(int)\n",
        "new_df.sample(5)"
      ]
    },
    {
      "cell_type": "markdown",
      "metadata": {
        "id": "08xrgXUxbO9k"
      },
      "source": [
        "Создадим срезы по наименованию тарифов, выведем данные по их условиям, создадим для каждой отдельные функции, которые будут считать, сколько денег приносит каждый пользователь за отдельный месяц\n",
        "Также рассчитаем, цену за один мегабайт "
      ]
    },
    {
      "cell_type": "code",
      "execution_count": null,
      "metadata": {
        "id": "uogazMp7bO9k"
      },
      "outputs": [],
      "source": [
        "new_df_smart = new_df.query('tariff == \"smart\"')\n",
        "new_df_ultra = new_df.query('tariff == \"ultra\"')"
      ]
    },
    {
      "cell_type": "code",
      "execution_count": null,
      "metadata": {
        "scrolled": true,
        "id": "bW2T8XLGbO9l",
        "outputId": "8f6722c1-95fc-49b4-904a-ef9c4debf304"
      },
      "outputs": [
        {
          "data": {
            "text/html": [
              "<div>\n",
              "<style scoped>\n",
              "    .dataframe tbody tr th:only-of-type {\n",
              "        vertical-align: middle;\n",
              "    }\n",
              "\n",
              "    .dataframe tbody tr th {\n",
              "        vertical-align: top;\n",
              "    }\n",
              "\n",
              "    .dataframe thead th {\n",
              "        text-align: right;\n",
              "    }\n",
              "</style>\n",
              "<table border=\"1\" class=\"dataframe\">\n",
              "  <thead>\n",
              "    <tr style=\"text-align: right;\">\n",
              "      <th></th>\n",
              "      <th>messages_included</th>\n",
              "      <th>mb_per_month_included</th>\n",
              "      <th>minutes_included</th>\n",
              "      <th>rub_monthly_fee</th>\n",
              "      <th>rub_per_gb</th>\n",
              "      <th>rub_per_message</th>\n",
              "      <th>rub_per_minute</th>\n",
              "      <th>tariff_name</th>\n",
              "    </tr>\n",
              "  </thead>\n",
              "  <tbody>\n",
              "    <tr>\n",
              "      <th>0</th>\n",
              "      <td>50</td>\n",
              "      <td>15360</td>\n",
              "      <td>500</td>\n",
              "      <td>550</td>\n",
              "      <td>200</td>\n",
              "      <td>3</td>\n",
              "      <td>3</td>\n",
              "      <td>smart</td>\n",
              "    </tr>\n",
              "    <tr>\n",
              "      <th>1</th>\n",
              "      <td>1000</td>\n",
              "      <td>30720</td>\n",
              "      <td>3000</td>\n",
              "      <td>1950</td>\n",
              "      <td>150</td>\n",
              "      <td>1</td>\n",
              "      <td>1</td>\n",
              "      <td>ultra</td>\n",
              "    </tr>\n",
              "  </tbody>\n",
              "</table>\n",
              "</div>"
            ],
            "text/plain": [
              "   messages_included  mb_per_month_included  minutes_included  \\\n",
              "0                 50                  15360               500   \n",
              "1               1000                  30720              3000   \n",
              "\n",
              "   rub_monthly_fee  rub_per_gb  rub_per_message  rub_per_minute tariff_name  \n",
              "0              550         200                3               3       smart  \n",
              "1             1950         150                1               1       ultra  "
            ]
          },
          "execution_count": 36,
          "metadata": {},
          "output_type": "execute_result"
        }
      ],
      "source": [
        "tariff_data"
      ]
    },
    {
      "cell_type": "code",
      "execution_count": null,
      "metadata": {
        "id": "GP6moJQabO9l"
      },
      "outputs": [],
      "source": [
        "sm_megabytes_per_month_incl = 15360\n",
        "sm_monthly_fee = 550\n",
        "sm_price_for_megabyte = 200/1024\n",
        "sm_minutes = 500\n",
        "sm_messages = 50\n",
        "sm_rub_per_message = 3\n",
        "sm_rub_per_minute = 3"
      ]
    },
    {
      "cell_type": "code",
      "execution_count": null,
      "metadata": {
        "id": "q1bB9pz4bO9l"
      },
      "outputs": [],
      "source": [
        "def profit_for_tariff(row):\n",
        "    mb_used = row['sum_mb_used']\n",
        "    minutes = row['minutes']\n",
        "    messages = row['sum_messages']\n",
        "    total_megabytes = 0\n",
        "    total_messages = 0 \n",
        "    total_minutes = 0\n",
        "    if mb_used > sm_megabytes_per_month_incl:\n",
        "        total_megabytes = (mb_used - sm_megabytes_per_month_incl) * sm_price_for_megabyte\n",
        "    if minutes > sm_minutes:\n",
        "        total_minutes = (minutes - sm_minutes) * sm_rub_per_minute\n",
        "    if messages > sm_messages:\n",
        "        total_messages = (messages - sm_messages) * sm_rub_per_message\n",
        "        \n",
        "    return total_megabytes + total_minutes + total_messages + sm_monthly_fee"
      ]
    },
    {
      "cell_type": "code",
      "execution_count": null,
      "metadata": {
        "scrolled": false,
        "id": "FoKPOvDLbO9m",
        "outputId": "1f78948a-ea52-45e8-dec9-2fa10ee393ab"
      },
      "outputs": [
        {
          "name": "stderr",
          "output_type": "stream",
          "text": [
            "/tmp/ipykernel_108/3645540874.py:1: SettingWithCopyWarning: \n",
            "A value is trying to be set on a copy of a slice from a DataFrame.\n",
            "Try using .loc[row_indexer,col_indexer] = value instead\n",
            "\n",
            "See the caveats in the documentation: https://pandas.pydata.org/pandas-docs/stable/user_guide/indexing.html#returning-a-view-versus-a-copy\n",
            "  new_df_smart ['profit'] = new_df_smart.apply(profit_for_tariff, axis=1)\n"
          ]
        }
      ],
      "source": [
        "new_df_smart ['profit'] = new_df_smart.apply(profit_for_tariff, axis=1)"
      ]
    },
    {
      "cell_type": "code",
      "execution_count": null,
      "metadata": {
        "id": "8VEZ6WZYbO9m"
      },
      "outputs": [],
      "source": [
        "ult_megabytes_per_month_incl = 30720\n",
        "ult_monthly_fee = 1950\n",
        "ult_price_for_megabyte = 150/1024\n",
        "ult_minutes = 3000\n",
        "ult_messages = 1000\n",
        "ult_rub_per_message = 1\n",
        "ult_rub_per_minute = 1"
      ]
    },
    {
      "cell_type": "code",
      "execution_count": null,
      "metadata": {
        "id": "ZlG30DQXbO9m"
      },
      "outputs": [],
      "source": [
        "def profit_for_tariff_2(row):\n",
        "    mb_used = row['sum_mb_used']\n",
        "    minutes = row['minutes']\n",
        "    messages = row['sum_messages']\n",
        "    total_megabytes = 0\n",
        "    total_messages = 0 \n",
        "    total_minutes = 0\n",
        "    if mb_used > ult_megabytes_per_month_incl:\n",
        "        total_megabytes = (mb_used - ult_megabytes_per_month_incl) * ult_price_for_megabyte\n",
        "    if minutes > ult_minutes:\n",
        "        total_minutes = (minutes - ult_minutes) * ult_rub_per_minute\n",
        "    if messages > ult_messages:\n",
        "        total_messages = (messages - sm_messages) * ult_rub_per_message\n",
        "        \n",
        "    return total_megabytes + total_minutes + total_messages + ult_monthly_fee"
      ]
    },
    {
      "cell_type": "code",
      "execution_count": null,
      "metadata": {
        "scrolled": false,
        "id": "l8WOIqUebO9n",
        "outputId": "8aa8a631-5541-4a10-87d6-9876c658b427"
      },
      "outputs": [
        {
          "name": "stderr",
          "output_type": "stream",
          "text": [
            "/tmp/ipykernel_108/2805387270.py:1: SettingWithCopyWarning: \n",
            "A value is trying to be set on a copy of a slice from a DataFrame.\n",
            "Try using .loc[row_indexer,col_indexer] = value instead\n",
            "\n",
            "See the caveats in the documentation: https://pandas.pydata.org/pandas-docs/stable/user_guide/indexing.html#returning-a-view-versus-a-copy\n",
            "  new_df_ultra ['profit'] = new_df_ultra.apply(profit_for_tariff_2, axis=1)\n"
          ]
        }
      ],
      "source": [
        "new_df_ultra ['profit'] = new_df_ultra.apply(profit_for_tariff_2, axis=1)"
      ]
    },
    {
      "cell_type": "markdown",
      "metadata": {
        "id": "_q218bjFbO9n"
      },
      "source": [
        "Для двух тарифов создадим новые таблицы, в которых просуммируем все известные нам данные по месяцам года. Также, т.к. функция month_name() показывала месяца не по порядку, а в алфавитной последовательности (April, August, и т.д.) использовал функцию для правильного порядка."
      ]
    },
    {
      "cell_type": "code",
      "execution_count": null,
      "metadata": {
        "id": "ukgB2zqybO9n",
        "outputId": "2c81bf79-3952-4a48-86fa-9f1fedd6923e"
      },
      "outputs": [
        {
          "data": {
            "text/html": [
              "<div>\n",
              "<style scoped>\n",
              "    .dataframe tbody tr th:only-of-type {\n",
              "        vertical-align: middle;\n",
              "    }\n",
              "\n",
              "    .dataframe tbody tr th {\n",
              "        vertical-align: top;\n",
              "    }\n",
              "\n",
              "    .dataframe thead th {\n",
              "        text-align: right;\n",
              "    }\n",
              "</style>\n",
              "<table border=\"1\" class=\"dataframe\">\n",
              "  <thead>\n",
              "    <tr style=\"text-align: right;\">\n",
              "      <th></th>\n",
              "      <th>month_name</th>\n",
              "      <th>minutes</th>\n",
              "      <th>profit</th>\n",
              "      <th>sum_mb_used</th>\n",
              "      <th>sum_messages</th>\n",
              "    </tr>\n",
              "  </thead>\n",
              "  <tbody>\n",
              "    <tr>\n",
              "      <th>4</th>\n",
              "      <td>January</td>\n",
              "      <td>3853.0</td>\n",
              "      <td>17550.000000</td>\n",
              "      <td>118382.0</td>\n",
              "      <td>304.0</td>\n",
              "    </tr>\n",
              "    <tr>\n",
              "      <th>3</th>\n",
              "      <td>February</td>\n",
              "      <td>7131.0</td>\n",
              "      <td>47353.125000</td>\n",
              "      <td>282887.0</td>\n",
              "      <td>527.0</td>\n",
              "    </tr>\n",
              "    <tr>\n",
              "      <th>7</th>\n",
              "      <td>March</td>\n",
              "      <td>18117.0</td>\n",
              "      <td>74154.345703</td>\n",
              "      <td>649423.0</td>\n",
              "      <td>1195.0</td>\n",
              "    </tr>\n",
              "    <tr>\n",
              "      <th>0</th>\n",
              "      <td>April</td>\n",
              "      <td>25191.0</td>\n",
              "      <td>109748.730469</td>\n",
              "      <td>926409.0</td>\n",
              "      <td>1736.0</td>\n",
              "    </tr>\n",
              "    <tr>\n",
              "      <th>8</th>\n",
              "      <td>May</td>\n",
              "      <td>34192.0</td>\n",
              "      <td>137682.714844</td>\n",
              "      <td>1298540.0</td>\n",
              "      <td>2536.0</td>\n",
              "    </tr>\n",
              "    <tr>\n",
              "      <th>6</th>\n",
              "      <td>June</td>\n",
              "      <td>40295.0</td>\n",
              "      <td>170693.115234</td>\n",
              "      <td>1591148.0</td>\n",
              "      <td>3505.0</td>\n",
              "    </tr>\n",
              "    <tr>\n",
              "      <th>5</th>\n",
              "      <td>July</td>\n",
              "      <td>49667.0</td>\n",
              "      <td>191873.730469</td>\n",
              "      <td>1866833.0</td>\n",
              "      <td>4536.0</td>\n",
              "    </tr>\n",
              "    <tr>\n",
              "      <th>1</th>\n",
              "      <td>August</td>\n",
              "      <td>54653.0</td>\n",
              "      <td>221613.281250</td>\n",
              "      <td>2096565.0</td>\n",
              "      <td>5183.0</td>\n",
              "    </tr>\n",
              "    <tr>\n",
              "      <th>11</th>\n",
              "      <td>September</td>\n",
              "      <td>62036.0</td>\n",
              "      <td>231578.466797</td>\n",
              "      <td>2210554.0</td>\n",
              "      <td>6013.0</td>\n",
              "    </tr>\n",
              "    <tr>\n",
              "      <th>10</th>\n",
              "      <td>October</td>\n",
              "      <td>68644.0</td>\n",
              "      <td>253000.927734</td>\n",
              "      <td>2467856.0</td>\n",
              "      <td>7187.0</td>\n",
              "    </tr>\n",
              "    <tr>\n",
              "      <th>9</th>\n",
              "      <td>November</td>\n",
              "      <td>72545.0</td>\n",
              "      <td>278825.390625</td>\n",
              "      <td>2653912.0</td>\n",
              "      <td>7476.0</td>\n",
              "    </tr>\n",
              "    <tr>\n",
              "      <th>2</th>\n",
              "      <td>December</td>\n",
              "      <td>82400.0</td>\n",
              "      <td>295548.193359</td>\n",
              "      <td>3032089.0</td>\n",
              "      <td>8425.0</td>\n",
              "    </tr>\n",
              "  </tbody>\n",
              "</table>\n",
              "</div>"
            ],
            "text/plain": [
              "   month_name  minutes         profit  sum_mb_used  sum_messages\n",
              "4     January   3853.0   17550.000000     118382.0         304.0\n",
              "3    February   7131.0   47353.125000     282887.0         527.0\n",
              "7       March  18117.0   74154.345703     649423.0        1195.0\n",
              "0       April  25191.0  109748.730469     926409.0        1736.0\n",
              "8         May  34192.0  137682.714844    1298540.0        2536.0\n",
              "6        June  40295.0  170693.115234    1591148.0        3505.0\n",
              "5        July  49667.0  191873.730469    1866833.0        4536.0\n",
              "1      August  54653.0  221613.281250    2096565.0        5183.0\n",
              "11  September  62036.0  231578.466797    2210554.0        6013.0\n",
              "10    October  68644.0  253000.927734    2467856.0        7187.0\n",
              "9    November  72545.0  278825.390625    2653912.0        7476.0\n",
              "2    December  82400.0  295548.193359    3032089.0        8425.0"
            ]
          },
          "execution_count": 43,
          "metadata": {},
          "output_type": "execute_result"
        }
      ],
      "source": [
        "new_df_ultra_table = new_df_ultra.pivot_table(index='month_name', values=['minutes','sum_messages','sum_mb_used','profit'], aggfunc=('sum'))\n",
        "new_df_ultra_table.reset_index(inplace = True)\n",
        "#new_df_ultra_table = new_df_ultra_table.drop(0)\n",
        "months = [\"January\", \"February\", \"March\", \"April\", \"May\", \"June\", \n",
        "          \"July\", \"August\", \"September\", \"October\", \"November\", \"December\"]\n",
        "new_df_ultra_table['month_name'] = pd.Categorical(new_df_ultra_table['month_name'], categories=months, ordered=True)\n",
        "new_df_ultra_table = new_df_ultra_table.sort_values(by=\"month_name\")\n",
        "new_df_ultra_table"
      ]
    },
    {
      "cell_type": "code",
      "execution_count": null,
      "metadata": {
        "scrolled": true,
        "id": "xS1RwVTWbO9n",
        "outputId": "64cb8ca9-fafe-4c78-fc8c-120f7043cd04"
      },
      "outputs": [
        {
          "data": {
            "text/html": [
              "<div>\n",
              "<style scoped>\n",
              "    .dataframe tbody tr th:only-of-type {\n",
              "        vertical-align: middle;\n",
              "    }\n",
              "\n",
              "    .dataframe tbody tr th {\n",
              "        vertical-align: top;\n",
              "    }\n",
              "\n",
              "    .dataframe thead th {\n",
              "        text-align: right;\n",
              "    }\n",
              "</style>\n",
              "<table border=\"1\" class=\"dataframe\">\n",
              "  <thead>\n",
              "    <tr style=\"text-align: right;\">\n",
              "      <th></th>\n",
              "      <th>month_name</th>\n",
              "      <th>minutes</th>\n",
              "      <th>profit</th>\n",
              "      <th>sum_mb_used</th>\n",
              "      <th>sum_messages</th>\n",
              "    </tr>\n",
              "  </thead>\n",
              "  <tbody>\n",
              "    <tr>\n",
              "      <th>4</th>\n",
              "      <td>January</td>\n",
              "      <td>6931.0</td>\n",
              "      <td>23886.914062</td>\n",
              "      <td>289831.0</td>\n",
              "      <td>620.0</td>\n",
              "    </tr>\n",
              "    <tr>\n",
              "      <th>3</th>\n",
              "      <td>February</td>\n",
              "      <td>17324.0</td>\n",
              "      <td>46651.585938</td>\n",
              "      <td>673461.0</td>\n",
              "      <td>1397.0</td>\n",
              "    </tr>\n",
              "    <tr>\n",
              "      <th>7</th>\n",
              "      <td>March</td>\n",
              "      <td>30034.0</td>\n",
              "      <td>86115.453125</td>\n",
              "      <td>1164537.0</td>\n",
              "      <td>2453.0</td>\n",
              "    </tr>\n",
              "    <tr>\n",
              "      <th>0</th>\n",
              "      <td>April</td>\n",
              "      <td>41119.0</td>\n",
              "      <td>103302.132812</td>\n",
              "      <td>1509702.0</td>\n",
              "      <td>3443.0</td>\n",
              "    </tr>\n",
              "    <tr>\n",
              "      <th>8</th>\n",
              "      <td>May</td>\n",
              "      <td>54618.0</td>\n",
              "      <td>161715.992188</td>\n",
              "      <td>2231353.0</td>\n",
              "      <td>4762.0</td>\n",
              "    </tr>\n",
              "    <tr>\n",
              "      <th>6</th>\n",
              "      <td>June</td>\n",
              "      <td>64885.0</td>\n",
              "      <td>188531.070312</td>\n",
              "      <td>2593622.0</td>\n",
              "      <td>5478.0</td>\n",
              "    </tr>\n",
              "    <tr>\n",
              "      <th>5</th>\n",
              "      <td>July</td>\n",
              "      <td>82079.0</td>\n",
              "      <td>234780.796875</td>\n",
              "      <td>3168466.0</td>\n",
              "      <td>6784.0</td>\n",
              "    </tr>\n",
              "    <tr>\n",
              "      <th>1</th>\n",
              "      <td>August</td>\n",
              "      <td>99045.0</td>\n",
              "      <td>295747.031250</td>\n",
              "      <td>3908561.0</td>\n",
              "      <td>7905.0</td>\n",
              "    </tr>\n",
              "    <tr>\n",
              "      <th>11</th>\n",
              "      <td>September</td>\n",
              "      <td>111439.0</td>\n",
              "      <td>311758.851562</td>\n",
              "      <td>4244377.0</td>\n",
              "      <td>8746.0</td>\n",
              "    </tr>\n",
              "    <tr>\n",
              "      <th>10</th>\n",
              "      <td>October</td>\n",
              "      <td>125284.0</td>\n",
              "      <td>383623.640625</td>\n",
              "      <td>4932898.0</td>\n",
              "      <td>9927.0</td>\n",
              "    </tr>\n",
              "    <tr>\n",
              "      <th>9</th>\n",
              "      <td>November</td>\n",
              "      <td>137544.0</td>\n",
              "      <td>405542.648438</td>\n",
              "      <td>5345940.0</td>\n",
              "      <td>10768.0</td>\n",
              "    </tr>\n",
              "    <tr>\n",
              "      <th>2</th>\n",
              "      <td>December</td>\n",
              "      <td>161275.0</td>\n",
              "      <td>507479.843750</td>\n",
              "      <td>6112113.0</td>\n",
              "      <td>12130.0</td>\n",
              "    </tr>\n",
              "  </tbody>\n",
              "</table>\n",
              "</div>"
            ],
            "text/plain": [
              "   month_name   minutes         profit  sum_mb_used  sum_messages\n",
              "4     January    6931.0   23886.914062     289831.0         620.0\n",
              "3    February   17324.0   46651.585938     673461.0        1397.0\n",
              "7       March   30034.0   86115.453125    1164537.0        2453.0\n",
              "0       April   41119.0  103302.132812    1509702.0        3443.0\n",
              "8         May   54618.0  161715.992188    2231353.0        4762.0\n",
              "6        June   64885.0  188531.070312    2593622.0        5478.0\n",
              "5        July   82079.0  234780.796875    3168466.0        6784.0\n",
              "1      August   99045.0  295747.031250    3908561.0        7905.0\n",
              "11  September  111439.0  311758.851562    4244377.0        8746.0\n",
              "10    October  125284.0  383623.640625    4932898.0        9927.0\n",
              "9    November  137544.0  405542.648438    5345940.0       10768.0\n",
              "2    December  161275.0  507479.843750    6112113.0       12130.0"
            ]
          },
          "execution_count": 44,
          "metadata": {},
          "output_type": "execute_result"
        }
      ],
      "source": [
        "new_df_smart_table = new_df_smart.pivot_table(index='month_name', values=['minutes','sum_messages','sum_mb_used','profit'], aggfunc='sum')\n",
        "new_df_smart_table.reset_index(inplace = True)\n",
        "#new_df_smart_table = new_df_smart_table.drop(0)\n",
        "months = [\"January\", \"February\", \"March\", \"April\", \"May\", \"June\", \n",
        "          \"July\", \"August\", \"September\", \"October\", \"November\", \"December\"]\n",
        "new_df_smart_table['month_name'] = pd.Categorical(new_df_smart_table['month_name'], categories=months, ordered=True)\n",
        "new_df_smart_table = new_df_smart_table.sort_values(by=\"month_name\")\n",
        "new_df_smart_table"
      ]
    },
    {
      "cell_type": "markdown",
      "metadata": {
        "id": "OjtgM6ybbO9o"
      },
      "source": [
        "Для сравнения ниже создадим четыре гистограммы, которые покажут нам разницу двух тарифов по параметрам \"интернет\",\"смс\",\"минуты разговора\",\"прибыль\"."
      ]
    },
    {
      "cell_type": "code",
      "execution_count": null,
      "metadata": {
        "id": "j-TBAu6SbO9o",
        "outputId": "0627e613-5ca6-4c4c-cdd4-5e46a23fe8da"
      },
      "outputs": [
        {
          "data": {
            "image/png": "[encoded data removed]",
            "text/plain": [
              "<Figure size 1440x864 with 1 Axes>"
            ]
          },
          "metadata": {
            "needs_background": "light"
          },
          "output_type": "display_data"
        }
      ],
      "source": [
        "ax=new_df_ultra_table.plot(y='sum_mb_used', x = 'month_name', grid=True, figsize=(20,12),kind='bar',label='ultra', legend = True, title = 'Количество использованного интеренет трафика')\n",
        "new_df_smart_table.plot(y='sum_mb_used', x = 'month_name', grid=True, figsize=(20,12),kind='bar',label='smart', alpha=0.5,ax=ax, legend = True)\n",
        "plt.show()"
      ]
    },
    {
      "cell_type": "code",
      "execution_count": null,
      "metadata": {
        "scrolled": false,
        "id": "wXknh90obO9o",
        "outputId": "001bffee-efd6-4028-c474-abf98fd39ad4"
      },
      "outputs": [
        {
          "data": {
            "image/png": "[encoded data removed]",
            "text/plain": [
              "<Figure size 1440x864 with 1 Axes>"
            ]
          },
          "metadata": {
            "needs_background": "light"
          },
          "output_type": "display_data"
        }
      ],
      "source": [
        "ax=new_df_ultra_table.plot(y='sum_messages', x = 'month_name', grid=True, figsize=(20,12),kind='bar',label='ultra', color = 'g', title = 'Количество использованных смс', legend = True)\n",
        "new_df_smart_table.plot(y='sum_messages', x = 'month_name', grid=True, figsize=(20,12),kind='bar',label='smart', color = 'g', alpha=0.5,ax=ax, legend = True)\n",
        "plt.show()"
      ]
    },
    {
      "cell_type": "code",
      "execution_count": null,
      "metadata": {
        "scrolled": false,
        "id": "u8UFkUbybO9p",
        "outputId": "4b8273b9-080b-470d-b98b-421464439cf1"
      },
      "outputs": [
        {
          "data": {
            "image/png": "[encoded data removed]",
            "text/plain": [
              "<Figure size 1440x864 with 1 Axes>"
            ]
          },
          "metadata": {
            "needs_background": "light"
          },
          "output_type": "display_data"
        }
      ],
      "source": [
        "ax=new_df_ultra_table.plot(y='minutes', x = 'month_name', grid=True, figsize=(20,12),kind='bar',label='ultra', color = 'r',legend = True)\n",
        "new_df_smart_table.plot(y='minutes', x = 'month_name', grid=True, figsize=(20,12),kind='bar',label='smart',  color = 'r', alpha=0.5,ax=ax, title = 'Количество использованных минут', legend = True)\n",
        "plt.show()"
      ]
    },
    {
      "cell_type": "code",
      "execution_count": null,
      "metadata": {
        "scrolled": false,
        "id": "vfe9GI-obO9p",
        "outputId": "d840bf31-f36c-46bc-e69e-b22e65bde88f"
      },
      "outputs": [
        {
          "data": {
            "image/png": "[encoded data removed]",
            "text/plain": [
              "<Figure size 1440x864 with 1 Axes>"
            ]
          },
          "metadata": {
            "needs_background": "light"
          },
          "output_type": "display_data"
        }
      ],
      "source": [
        "ax=new_df_ultra_table.plot(y='profit', x = 'month_name', grid=True, figsize=(20,12),kind='bar',label='ultra',color = 'b', legend = True, title = 'Сумма прибыли')\n",
        "new_df_smart_table.plot(y='profit', x = 'month_name', grid=True, figsize=(20,12),kind='bar',label='smart', color = 'g', alpha=0.5,ax=ax, legend = True)\n",
        "plt.show()"
      ]
    },
    {
      "cell_type": "markdown",
      "metadata": {
        "id": "97z2VdaebO9w"
      },
      "source": [
        "С данными графиками я просидел большую часть проекта. Когда я увидел, что идет простое увеличение от месяца к месяцу, я был уверен, что сделал что то неправильно. Когда месяца были в алфавитном порядке, это было не так сильно заметно, после изменения стало очень заметно. Перепроверял в самом начале, еще перед объединением через query() по каждому месяцу информацию, сколько значений и т.д., так и не смог найти потверждения, что я ошибся."
      ]
    },
    {
      "cell_type": "markdown",
      "metadata": {
        "id": "Z6XRWw8ObO9x"
      },
      "source": [
        "#  Проанализируем данные"
      ]
    },
    {
      "cell_type": "markdown",
      "metadata": {
        "id": "epVLOTiVbO9x"
      },
      "source": [
        "Для каждого тарифа найдем среднее значение, дисперсию, стандартное отклонение для каждого параметра (время звонка, смс, интернет трафик). Для этого используем цикл."
      ]
    },
    {
      "cell_type": "code",
      "execution_count": null,
      "metadata": {
        "id": "k6Y3IEWXbO9x",
        "outputId": "94222277-e154-4c49-d136-e2bf9e3758c7"
      },
      "outputs": [
        {
          "name": "stdout",
          "output_type": "stream",
          "text": [
            "Тариф Smart\n",
            "\n",
            "Среднее значение minutes: 419\n",
            "Дисперсия minutes: 35844\n",
            "Стандартное отклонение minutes: 189 \n",
            "\n",
            "Среднее значение sum_messages: 39\n",
            "Дисперсия sum_messages: 718\n",
            "Стандартное отклонение sum_messages: 27 \n",
            "\n",
            "Среднее значение sum_mb_used: 16236\n",
            "Дисперсия sum_mb_used: 34443101\n",
            "Стандартное отклонение sum_mb_used: 5868 \n",
            "\n"
          ]
        }
      ],
      "source": [
        "print('Тариф Smart')\n",
        "print()\n",
        "for column in new_df_smart[['minutes','sum_messages','sum_mb_used']]:\n",
        "    print('Среднее значение {}: {:.0f}'.format(column,new_df_smart[column].mean()))\n",
        "    print('Дисперсия {}: {:.0f}'.format(column,np.var(new_df_smart[column], ddof=1)))\n",
        "    print('Стандартное отклонение {}: {:.0f} \\n'.format(column, np.std(new_df_smart[column])))"
      ]
    },
    {
      "cell_type": "code",
      "execution_count": null,
      "metadata": {
        "id": "61RT4S9wbO9y",
        "outputId": "e7939d1d-2d58-49a3-e0a0-338e35ab1192"
      },
      "outputs": [
        {
          "data": {
            "text/html": [
              "<style  type=\"text/css\" >\n",
              "</style><table id=\"T_98e12_\" ><thead>    <tr>        <th class=\"blank\" ></th>        <th class=\"index_name level0\" >tariff</th>        <th class=\"col_heading level0 col0\" >smart</th>        <th class=\"col_heading level0 col1\" >ultra</th>    </tr></thead><tbody>\n",
              "                <tr>\n",
              "                        <th id=\"T_98e12_level0_row0\" class=\"row_heading level0 row0\" rowspan=\"3\">mean</th>\n",
              "                        <th id=\"T_98e12_level1_row0\" class=\"row_heading level1 row0\" >minutes</th>\n",
              "                        <td id=\"T_98e12_row0_col0\" class=\"data row0 col0\" >419.06</td>\n",
              "                        <td id=\"T_98e12_row0_col1\" class=\"data row0 col1\" >545.45</td>\n",
              "            </tr>\n",
              "            <tr>\n",
              "                                <th id=\"T_98e12_level1_row1\" class=\"row_heading level1 row1\" >sum_mb_used</th>\n",
              "                        <td id=\"T_98e12_row1_col0\" class=\"data row1 col0\" >16236.47</td>\n",
              "                        <td id=\"T_98e12_row1_col1\" class=\"data row1 col1\" >19686.77</td>\n",
              "            </tr>\n",
              "            <tr>\n",
              "                                <th id=\"T_98e12_level1_row2\" class=\"row_heading level1 row2\" >sum_messages</th>\n",
              "                        <td id=\"T_98e12_row2_col0\" class=\"data row2 col0\" >38.72</td>\n",
              "                        <td id=\"T_98e12_row2_col1\" class=\"data row2 col1\" >61.16</td>\n",
              "            </tr>\n",
              "            <tr>\n",
              "                        <th id=\"T_98e12_level0_row3\" class=\"row_heading level0 row3\" rowspan=\"3\">std</th>\n",
              "                        <th id=\"T_98e12_level1_row3\" class=\"row_heading level1 row3\" >minutes</th>\n",
              "                        <td id=\"T_98e12_row3_col0\" class=\"data row3 col0\" >189.33</td>\n",
              "                        <td id=\"T_98e12_row3_col1\" class=\"data row3 col1\" >306.93</td>\n",
              "            </tr>\n",
              "            <tr>\n",
              "                                <th id=\"T_98e12_level1_row4\" class=\"row_heading level1 row4\" >sum_mb_used</th>\n",
              "                        <td id=\"T_98e12_row4_col0\" class=\"data row4 col0\" >5868.82</td>\n",
              "                        <td id=\"T_98e12_row4_col1\" class=\"data row4 col1\" >9952.06</td>\n",
              "            </tr>\n",
              "            <tr>\n",
              "                                <th id=\"T_98e12_level1_row5\" class=\"row_heading level1 row5\" >sum_messages</th>\n",
              "                        <td id=\"T_98e12_row5_col0\" class=\"data row5 col0\" >26.79</td>\n",
              "                        <td id=\"T_98e12_row5_col1\" class=\"data row5 col1\" >45.93</td>\n",
              "            </tr>\n",
              "            <tr>\n",
              "                        <th id=\"T_98e12_level0_row6\" class=\"row_heading level0 row6\" rowspan=\"3\">var</th>\n",
              "                        <th id=\"T_98e12_level1_row6\" class=\"row_heading level1 row6\" >minutes</th>\n",
              "                        <td id=\"T_98e12_row6_col0\" class=\"data row6 col0\" >35844.19</td>\n",
              "                        <td id=\"T_98e12_row6_col1\" class=\"data row6 col1\" >94203.42</td>\n",
              "            </tr>\n",
              "            <tr>\n",
              "                                <th id=\"T_98e12_level1_row7\" class=\"row_heading level1 row7\" >sum_mb_used</th>\n",
              "                        <td id=\"T_98e12_row7_col0\" class=\"data row7 col0\" >34443100.68</td>\n",
              "                        <td id=\"T_98e12_row7_col1\" class=\"data row7 col1\" >99043439.61</td>\n",
              "            </tr>\n",
              "            <tr>\n",
              "                                <th id=\"T_98e12_level1_row8\" class=\"row_heading level1 row8\" >sum_messages</th>\n",
              "                        <td id=\"T_98e12_row8_col0\" class=\"data row8 col0\" >717.59</td>\n",
              "                        <td id=\"T_98e12_row8_col1\" class=\"data row8 col1\" >2109.66</td>\n",
              "            </tr>\n",
              "    </tbody></table>"
            ],
            "text/plain": [
              "<pandas.io.formats.style.Styler at 0x7f72e1461bb0>"
            ]
          },
          "execution_count": 50,
          "metadata": {},
          "output_type": "execute_result"
        }
      ],
      "source": [
        "new_df.pivot_table(index='tariff',  \n",
        "                 values=['minutes','sum_messages','sum_mb_used'], \n",
        "                 aggfunc=['mean', 'std', 'var']).T.style.format('{:.2f}')"
      ]
    },
    {
      "cell_type": "code",
      "execution_count": null,
      "metadata": {
        "scrolled": true,
        "id": "GBRs1ejWbO9y",
        "outputId": "63d5af59-2a78-43bc-ed58-7e20d8b0c2b1"
      },
      "outputs": [
        {
          "name": "stdout",
          "output_type": "stream",
          "text": [
            "Тариф Ultra\n",
            "\n",
            "Среднее значение minutes: 545\n",
            "Дисперсия minutes: 94203\n",
            "Стандартное отклонение minutes: 307 \n",
            "\n",
            "Среднее значение sum_messages: 61\n",
            "Дисперсия sum_messages: 2110\n",
            "Стандартное отклонение sum_messages: 46 \n",
            "\n",
            "Среднее значение sum_mb_used: 19687\n",
            "Дисперсия sum_mb_used: 99043440\n",
            "Стандартное отклонение sum_mb_used: 9947 \n",
            "\n"
          ]
        }
      ],
      "source": [
        "print('Тариф Ultra')\n",
        "print()\n",
        "for column in new_df_ultra[['minutes','sum_messages','sum_mb_used']]:\n",
        "    print('Среднее значение {}: {:.0f}'.format(column,new_df_ultra[column].mean()))\n",
        "    print('Дисперсия {}: {:.0f}'.format(column,np.var(new_df_ultra[column], ddof=1)))\n",
        "    print('Стандартное отклонение {}: {:.0f} \\n'.format(column, np.std(new_df_ultra[column])))"
      ]
    },
    {
      "cell_type": "code",
      "execution_count": null,
      "metadata": {
        "scrolled": false,
        "id": "lazblEGRbO9z",
        "outputId": "7d7b3f3d-94d1-4b1a-adef-942c489aaaf1"
      },
      "outputs": [
        {
          "name": "stdout",
          "output_type": "stream",
          "text": [
            "            profit\n",
            "count  2230.000000\n",
            "mean   1233.043032\n",
            "std     787.644371\n",
            "min     550.000000\n",
            "25%     550.000000\n",
            "50%     959.546875\n",
            "75%    1667.587891\n",
            "max    6711.015625\n",
            "\n",
            "\n",
            "            profit\n",
            "count   986.000000\n",
            "mean   2060.417872\n",
            "std     356.141530\n",
            "min    1950.000000\n",
            "25%    1950.000000\n",
            "50%    1950.000000\n",
            "75%    1950.000000\n",
            "max    4743.310547\n"
          ]
        }
      ],
      "source": [
        "print (new_df_smart[['profit']].describe())\n",
        "print()\n",
        "print()\n",
        "print (new_df_ultra[['profit']].describe())"
      ]
    },
    {
      "cell_type": "markdown",
      "metadata": {
        "id": "Nu67jhlrbO9z"
      },
      "source": [
        "Для каждого тарифа создадим таблицу, в которых будет отображено средние значения каждого из параметров (опять используем функцию для правильного порядка месяцев)"
      ]
    },
    {
      "cell_type": "code",
      "execution_count": null,
      "metadata": {
        "scrolled": true,
        "id": "VM380H3qbO9z",
        "outputId": "fa1fea15-d0e9-43c2-fa5d-831f0abf6d23"
      },
      "outputs": [
        {
          "data": {
            "text/html": [
              "<div>\n",
              "<style scoped>\n",
              "    .dataframe tbody tr th:only-of-type {\n",
              "        vertical-align: middle;\n",
              "    }\n",
              "\n",
              "    .dataframe tbody tr th {\n",
              "        vertical-align: top;\n",
              "    }\n",
              "\n",
              "    .dataframe thead tr th {\n",
              "        text-align: left;\n",
              "    }\n",
              "</style>\n",
              "<table border=\"1\" class=\"dataframe\">\n",
              "  <thead>\n",
              "    <tr>\n",
              "      <th></th>\n",
              "      <th>month_name</th>\n",
              "      <th colspan=\"4\" halign=\"left\">mean</th>\n",
              "    </tr>\n",
              "    <tr>\n",
              "      <th></th>\n",
              "      <th></th>\n",
              "      <th>minutes</th>\n",
              "      <th>profit</th>\n",
              "      <th>sum_mb_used</th>\n",
              "      <th>sum_messages</th>\n",
              "    </tr>\n",
              "  </thead>\n",
              "  <tbody>\n",
              "    <tr>\n",
              "      <th>4</th>\n",
              "      <td>January</td>\n",
              "      <td>203.852941</td>\n",
              "      <td>702.556296</td>\n",
              "      <td>8524.441176</td>\n",
              "      <td>20.000000</td>\n",
              "    </tr>\n",
              "    <tr>\n",
              "      <th>3</th>\n",
              "      <td>February</td>\n",
              "      <td>298.689655</td>\n",
              "      <td>804.337689</td>\n",
              "      <td>11611.396552</td>\n",
              "      <td>27.940000</td>\n",
              "    </tr>\n",
              "    <tr>\n",
              "      <th>7</th>\n",
              "      <td>March</td>\n",
              "      <td>390.051948</td>\n",
              "      <td>1118.382508</td>\n",
              "      <td>15123.857143</td>\n",
              "      <td>35.550725</td>\n",
              "    </tr>\n",
              "    <tr>\n",
              "      <th>8</th>\n",
              "      <td>May</td>\n",
              "      <td>387.361702</td>\n",
              "      <td>1146.921930</td>\n",
              "      <td>15825.198582</td>\n",
              "      <td>39.032787</td>\n",
              "    </tr>\n",
              "    <tr>\n",
              "      <th>6</th>\n",
              "      <td>June</td>\n",
              "      <td>398.067485</td>\n",
              "      <td>1149.579697</td>\n",
              "      <td>15814.768293</td>\n",
              "      <td>38.577465</td>\n",
              "    </tr>\n",
              "    <tr>\n",
              "      <th>5</th>\n",
              "      <td>July</td>\n",
              "      <td>408.353234</td>\n",
              "      <td>1168.063666</td>\n",
              "      <td>15763.512438</td>\n",
              "      <td>38.988506</td>\n",
              "    </tr>\n",
              "    <tr>\n",
              "      <th>1</th>\n",
              "      <td>August</td>\n",
              "      <td>423.269231</td>\n",
              "      <td>1258.498005</td>\n",
              "      <td>16703.252137</td>\n",
              "      <td>38.750000</td>\n",
              "    </tr>\n",
              "    <tr>\n",
              "      <th>11</th>\n",
              "      <td>September</td>\n",
              "      <td>430.266409</td>\n",
              "      <td>1199.072506</td>\n",
              "      <td>16324.526923</td>\n",
              "      <td>39.219731</td>\n",
              "    </tr>\n",
              "    <tr>\n",
              "      <th>10</th>\n",
              "      <td>October</td>\n",
              "      <td>427.590444</td>\n",
              "      <td>1304.842315</td>\n",
              "      <td>16778.564626</td>\n",
              "      <td>39.082677</td>\n",
              "    </tr>\n",
              "    <tr>\n",
              "      <th>9</th>\n",
              "      <td>November</td>\n",
              "      <td>436.647619</td>\n",
              "      <td>1283.362812</td>\n",
              "      <td>16917.531646</td>\n",
              "      <td>39.881481</td>\n",
              "    </tr>\n",
              "    <tr>\n",
              "      <th>2</th>\n",
              "      <td>December</td>\n",
              "      <td>479.985119</td>\n",
              "      <td>1505.874907</td>\n",
              "      <td>18136.833828</td>\n",
              "      <td>42.264808</td>\n",
              "    </tr>\n",
              "  </tbody>\n",
              "</table>\n",
              "</div>"
            ],
            "text/plain": [
              "   month_name        mean                                        \n",
              "                  minutes       profit   sum_mb_used sum_messages\n",
              "4     January  203.852941   702.556296   8524.441176    20.000000\n",
              "3    February  298.689655   804.337689  11611.396552    27.940000\n",
              "7       March  390.051948  1118.382508  15123.857143    35.550725\n",
              "8         May  387.361702  1146.921930  15825.198582    39.032787\n",
              "6        June  398.067485  1149.579697  15814.768293    38.577465\n",
              "5        July  408.353234  1168.063666  15763.512438    38.988506\n",
              "1      August  423.269231  1258.498005  16703.252137    38.750000\n",
              "11  September  430.266409  1199.072506  16324.526923    39.219731\n",
              "10    October  427.590444  1304.842315  16778.564626    39.082677\n",
              "9    November  436.647619  1283.362812  16917.531646    39.881481\n",
              "2    December  479.985119  1505.874907  18136.833828    42.264808"
            ]
          },
          "execution_count": 53,
          "metadata": {},
          "output_type": "execute_result"
        }
      ],
      "source": [
        "new_df_smart_mean = new_df_smart.pivot_table(index='month_name', values=['minutes','sum_messages','sum_mb_used','profit'], aggfunc=['mean'])\n",
        "new_df_smart_mean.reset_index(inplace = True)\n",
        "months = [\"January\", \"February\", \"March\", \"April\", \"May\", \"June\", \n",
        "          \"July\", \"August\", \"September\", \"October\", \"November\", \"December\"]\n",
        "new_df_smart_mean['month_name'] = pd.Categorical(new_df_smart_mean['month_name'], categories=months, ordered=True)\n",
        "new_df_smart_mean = new_df_smart_mean.sort_values(by=\"month_name\")\n",
        "new_df_smart_mean = new_df_smart_mean.drop(0)\n",
        "new_df_smart_mean"
      ]
    },
    {
      "cell_type": "code",
      "execution_count": null,
      "metadata": {
        "scrolled": true,
        "id": "_XbBcweObO90",
        "outputId": "ead56eaf-e7a2-411c-e4c9-b7000f38f270"
      },
      "outputs": [
        {
          "data": {
            "text/html": [
              "<div>\n",
              "<style scoped>\n",
              "    .dataframe tbody tr th:only-of-type {\n",
              "        vertical-align: middle;\n",
              "    }\n",
              "\n",
              "    .dataframe tbody tr th {\n",
              "        vertical-align: top;\n",
              "    }\n",
              "\n",
              "    .dataframe thead th {\n",
              "        text-align: right;\n",
              "    }\n",
              "</style>\n",
              "<table border=\"1\" class=\"dataframe\">\n",
              "  <thead>\n",
              "    <tr style=\"text-align: right;\">\n",
              "      <th></th>\n",
              "      <th>month_name</th>\n",
              "      <th>minutes</th>\n",
              "      <th>profit</th>\n",
              "      <th>sum_mb_used</th>\n",
              "      <th>sum_messages</th>\n",
              "    </tr>\n",
              "  </thead>\n",
              "  <tbody>\n",
              "    <tr>\n",
              "      <th>4</th>\n",
              "      <td>January</td>\n",
              "      <td>428.111111</td>\n",
              "      <td>1950.000000</td>\n",
              "      <td>13153.555556</td>\n",
              "      <td>43.428571</td>\n",
              "    </tr>\n",
              "    <tr>\n",
              "      <th>3</th>\n",
              "      <td>February</td>\n",
              "      <td>297.125000</td>\n",
              "      <td>1973.046875</td>\n",
              "      <td>12858.500000</td>\n",
              "      <td>32.937500</td>\n",
              "    </tr>\n",
              "    <tr>\n",
              "      <th>7</th>\n",
              "      <td>March</td>\n",
              "      <td>489.648649</td>\n",
              "      <td>2004.171505</td>\n",
              "      <td>17551.972973</td>\n",
              "      <td>47.800000</td>\n",
              "    </tr>\n",
              "    <tr>\n",
              "      <th>0</th>\n",
              "      <td>April</td>\n",
              "      <td>475.301887</td>\n",
              "      <td>1995.431463</td>\n",
              "      <td>16843.800000</td>\n",
              "      <td>44.512821</td>\n",
              "    </tr>\n",
              "    <tr>\n",
              "      <th>8</th>\n",
              "      <td>May</td>\n",
              "      <td>534.250000</td>\n",
              "      <td>2054.965893</td>\n",
              "      <td>19674.848485</td>\n",
              "      <td>48.769231</td>\n",
              "    </tr>\n",
              "    <tr>\n",
              "      <th>6</th>\n",
              "      <td>June</td>\n",
              "      <td>497.469136</td>\n",
              "      <td>2032.060896</td>\n",
              "      <td>19170.457831</td>\n",
              "      <td>52.313433</td>\n",
              "    </tr>\n",
              "    <tr>\n",
              "      <th>5</th>\n",
              "      <td>July</td>\n",
              "      <td>564.397727</td>\n",
              "      <td>2108.502533</td>\n",
              "      <td>20742.588889</td>\n",
              "      <td>62.136986</td>\n",
              "    </tr>\n",
              "    <tr>\n",
              "      <th>1</th>\n",
              "      <td>August</td>\n",
              "      <td>530.611650</td>\n",
              "      <td>2071.152161</td>\n",
              "      <td>19778.915094</td>\n",
              "      <td>58.897727</td>\n",
              "    </tr>\n",
              "    <tr>\n",
              "      <th>11</th>\n",
              "      <td>September</td>\n",
              "      <td>558.882883</td>\n",
              "      <td>2013.725798</td>\n",
              "      <td>19390.824561</td>\n",
              "      <td>63.294737</td>\n",
              "    </tr>\n",
              "    <tr>\n",
              "      <th>10</th>\n",
              "      <td>October</td>\n",
              "      <td>581.728814</td>\n",
              "      <td>2056.918112</td>\n",
              "      <td>20228.327869</td>\n",
              "      <td>69.776699</td>\n",
              "    </tr>\n",
              "    <tr>\n",
              "      <th>9</th>\n",
              "      <td>November</td>\n",
              "      <td>562.364341</td>\n",
              "      <td>2080.786497</td>\n",
              "      <td>19954.225564</td>\n",
              "      <td>66.159292</td>\n",
              "    </tr>\n",
              "    <tr>\n",
              "      <th>2</th>\n",
              "      <td>December</td>\n",
              "      <td>614.925373</td>\n",
              "      <td>2126.245995</td>\n",
              "      <td>21971.659420</td>\n",
              "      <td>72.008547</td>\n",
              "    </tr>\n",
              "  </tbody>\n",
              "</table>\n",
              "</div>"
            ],
            "text/plain": [
              "   month_name     minutes       profit   sum_mb_used  sum_messages\n",
              "4     January  428.111111  1950.000000  13153.555556     43.428571\n",
              "3    February  297.125000  1973.046875  12858.500000     32.937500\n",
              "7       March  489.648649  2004.171505  17551.972973     47.800000\n",
              "0       April  475.301887  1995.431463  16843.800000     44.512821\n",
              "8         May  534.250000  2054.965893  19674.848485     48.769231\n",
              "6        June  497.469136  2032.060896  19170.457831     52.313433\n",
              "5        July  564.397727  2108.502533  20742.588889     62.136986\n",
              "1      August  530.611650  2071.152161  19778.915094     58.897727\n",
              "11  September  558.882883  2013.725798  19390.824561     63.294737\n",
              "10    October  581.728814  2056.918112  20228.327869     69.776699\n",
              "9    November  562.364341  2080.786497  19954.225564     66.159292\n",
              "2    December  614.925373  2126.245995  21971.659420     72.008547"
            ]
          },
          "execution_count": 54,
          "metadata": {},
          "output_type": "execute_result"
        }
      ],
      "source": [
        "new_df_ultra_mean = new_df_ultra.pivot_table(index='month_name', values=['minutes','sum_messages','sum_mb_used','profit'], aggfunc='mean')\n",
        "new_df_ultra_mean.reset_index(inplace = True)\n",
        "months = [\"January\", \"February\", \"March\", \"April\", \"May\", \"June\", \n",
        "          \"July\", \"August\", \"September\", \"October\", \"November\", \"December\"]\n",
        "new_df_ultra_mean['month_name'] = pd.Categorical(new_df_ultra_mean['month_name'], categories=months, ordered=True)\n",
        "new_df_ultra_mean = new_df_ultra_mean.sort_values(by=\"month_name\")\n",
        "new_df_ultra_mean"
      ]
    },
    {
      "cell_type": "code",
      "execution_count": null,
      "metadata": {
        "id": "SoS1NOFhbO90",
        "outputId": "3d0dbfab-7131-4398-f89f-f5e2f176bf92"
      },
      "outputs": [
        {
          "name": "stdout",
          "output_type": "stream",
          "text": [
            "<class 'pandas.core.frame.DataFrame'>\n",
            "Int64Index: 986 entries, 60 to 3214\n",
            "Data columns (total 12 columns):\n",
            " #   Column        Non-Null Count  Dtype         \n",
            "---  ------        --------------  -----         \n",
            " 0   user_id       986 non-null    int64         \n",
            " 1   month_name    985 non-null    object        \n",
            " 2   sum_messages  795 non-null    float64       \n",
            " 3   minutes       951 non-null    float64       \n",
            " 4   sum_calls     951 non-null    float64       \n",
            " 5   sum_mb_used   975 non-null    float64       \n",
            " 6   city          986 non-null    object        \n",
            " 7   first_name    986 non-null    object        \n",
            " 8   last_name     986 non-null    object        \n",
            " 9   reg_date      986 non-null    datetime64[ns]\n",
            " 10  tariff        986 non-null    object        \n",
            " 11  profit        986 non-null    float64       \n",
            "dtypes: datetime64[ns](1), float64(5), int64(1), object(5)\n",
            "memory usage: 100.1+ KB\n"
          ]
        }
      ],
      "source": [
        "new_df_ultra.info()"
      ]
    },
    {
      "cell_type": "markdown",
      "metadata": {
        "id": "sYeRMTyFbO90"
      },
      "source": [
        "Построим диаграммы размаха для двух тарифов, используя данные по смс, звонкам и инетрнету"
      ]
    },
    {
      "cell_type": "code",
      "execution_count": null,
      "metadata": {
        "scrolled": false,
        "id": "FwBcgsF2bO90",
        "outputId": "a7443a3e-d6ff-408d-b8ed-fd6f8a25d7b1"
      },
      "outputs": [
        {
          "data": {
            "image/png": "[encoded data removed]",
            "text/plain": [
              "<Figure size 720x432 with 1 Axes>"
            ]
          },
          "metadata": {
            "needs_background": "light"
          },
          "output_type": "display_data"
        },
        {
          "data": {
            "image/png": "[encoded data removed]",
            "text/plain": [
              "<Figure size 720x432 with 1 Axes>"
            ]
          },
          "metadata": {
            "needs_background": "light"
          },
          "output_type": "display_data"
        },
        {
          "data": {
            "image/png": "[encoded data removed]",
            "text/plain": [
              "<Figure size 720x432 with 1 Axes>"
            ]
          },
          "metadata": {
            "needs_background": "light"
          },
          "output_type": "display_data"
        }
      ],
      "source": [
        "for columns in new_df[['minutes','sum_messages','sum_mb_used']]:\n",
        "    plt.figure(figsize=(10,6))\n",
        "    plt.title(columns, fontsize=20)\n",
        "    sns.boxplot(data=new_df, x=columns, y = 'tariff')"
      ]
    },
    {
      "cell_type": "code",
      "execution_count": null,
      "metadata": {
        "id": "q7esqgsabO91",
        "outputId": "de178db1-690c-4106-c3a2-861ac506dd0f"
      },
      "outputs": [
        {
          "data": {
            "image/png": "[encoded data removed]",
            "text/plain": [
              "<Figure size 1800x720 with 1 Axes>"
            ]
          },
          "metadata": {
            "needs_background": "light"
          },
          "output_type": "display_data"
        }
      ],
      "source": [
        "new_df_smart['sum_messages'].plot(kind = 'hist', alpha=1, figsize = (25,10), title = 'Количество смс для тарифа Ультра и Смарт', grid = True)\n",
        "new_df_ultra['sum_messages'].plot(kind = 'hist',figsize = (25,10), alpha=0.5, grid = True)\n",
        "plt.xlabel('Кол-во смс', fontsize=20)\n",
        "plt.ylabel('Кол во человек', fontsize=20)\n",
        "plt.show()"
      ]
    },
    {
      "cell_type": "code",
      "execution_count": null,
      "metadata": {
        "scrolled": false,
        "id": "TDfPCuLwbO91",
        "outputId": "97329705-408c-401f-9dd3-3b070e19bd62"
      },
      "outputs": [
        {
          "data": {
            "image/png": "[encoded data removed]",
            "text/plain": [
              "<Figure size 1800x720 with 1 Axes>"
            ]
          },
          "metadata": {
            "needs_background": "light"
          },
          "output_type": "display_data"
        }
      ],
      "source": [
        "new_df_smart['sum_mb_used'].plot(kind = 'hist', alpha=1, figsize = (25,10), title = 'Количество интернет трафика для тарифа Ультра и Смарт', grid = True)\n",
        "new_df_ultra['sum_mb_used'].plot(kind = 'hist',figsize = (25,10), alpha=0.5, grid = True)\n",
        "plt.xlabel('Кол-во используемого интернета', fontsize=20)\n",
        "plt.ylabel('Кол во человек', fontsize=20)\n",
        "plt.show()"
      ]
    },
    {
      "cell_type": "code",
      "execution_count": null,
      "metadata": {
        "id": "9hn7E6jNbO91",
        "outputId": "41f466e3-4377-4571-a3d4-4a68e4b116c3"
      },
      "outputs": [
        {
          "data": {
            "image/png": "[encoded data removed]",
            "text/plain": [
              "<Figure size 1800x720 with 1 Axes>"
            ]
          },
          "metadata": {
            "needs_background": "light"
          },
          "output_type": "display_data"
        }
      ],
      "source": [
        "new_df_smart['minutes'].plot(kind = 'hist', alpha=1, figsize = (25,10), title = 'Количество звонков для тарифа Ультра и Смарт', grid = True)\n",
        "new_df_ultra['minutes'].plot(kind = 'hist',figsize = (25,10), alpha=0.5, grid = True)\n",
        "plt.xlabel('Кол-во звонков', fontsize=20)\n",
        "plt.ylabel('Кол-во человек', fontsize=20)\n",
        "plt.show()"
      ]
    },
    {
      "cell_type": "code",
      "execution_count": null,
      "metadata": {
        "id": "V8Qhba10bO92",
        "outputId": "b7915d43-eda8-4166-c0c2-26b6ecfa8817"
      },
      "outputs": [
        {
          "data": {
            "image/png": "[encoded data removed]",
            "text/plain": [
              "<Figure size 1080x720 with 2 Axes>"
            ]
          },
          "metadata": {
            "needs_background": "light"
          },
          "output_type": "display_data"
        }
      ],
      "source": [
        "def plot_hist_boxplot(df, group_col, column, title = 'Диаграмма распределений и боксплоты', bins = [50, 50]):\n",
        "    \n",
        "    np.warnings.filterwarnings('ignore', category=np.VisibleDeprecationWarning)\n",
        "    \n",
        "    fig, axes = plt.subplots(2, 1, figsize=(15, 10))\n",
        "    \n",
        "    for item in df[group_col].unique():\n",
        "        axes[0].hist(df.loc[df[group_col] == item, column], bins = bins[0], label = item, alpha = 0.5)\n",
        "    axes[0].legend()\n",
        "    axes[0].grid()\n",
        "    \n",
        "    df.boxplot(column, by=group_col, ax = axes[1], vert = False)\n",
        "    fig.suptitle(title)\n",
        "    \n",
        "    plt.show()\n",
        "    \n",
        "plot_hist_boxplot(new_df, 'tariff', 'minutes')"
      ]
    },
    {
      "cell_type": "markdown",
      "metadata": {
        "id": "g-kmcQWnbO92"
      },
      "source": [
        "Вывод\n",
        "\n",
        "Исходя из полученных графиков видно, что:\n",
        "\n",
        "а) пользователи тарифа Smart в среднем говорят по 420 мин, когда пользователи тарифа Ultra -  около 510 мин;\n",
        "\n",
        "б) пользователи тарифа Smart используют примерно 16000 мб, в то время как пользователи тарифа Ultra -  около 19000 мб;\n",
        "\n",
        "в) пользователи тарифа Smart отправляют 35 сообщений, когда пользователи тарифа Ultra отправляют около 50 сообщений;\n",
        "\n",
        "Ниже выведем повторно условия каждого из тарифов"
      ]
    },
    {
      "cell_type": "code",
      "execution_count": null,
      "metadata": {
        "id": "j20wMkSPbO93",
        "outputId": "d030995c-4383-446e-e4fe-8f154c794f3a"
      },
      "outputs": [
        {
          "data": {
            "text/html": [
              "<div>\n",
              "<style scoped>\n",
              "    .dataframe tbody tr th:only-of-type {\n",
              "        vertical-align: middle;\n",
              "    }\n",
              "\n",
              "    .dataframe tbody tr th {\n",
              "        vertical-align: top;\n",
              "    }\n",
              "\n",
              "    .dataframe thead th {\n",
              "        text-align: right;\n",
              "    }\n",
              "</style>\n",
              "<table border=\"1\" class=\"dataframe\">\n",
              "  <thead>\n",
              "    <tr style=\"text-align: right;\">\n",
              "      <th></th>\n",
              "      <th>messages_included</th>\n",
              "      <th>mb_per_month_included</th>\n",
              "      <th>minutes_included</th>\n",
              "      <th>rub_monthly_fee</th>\n",
              "      <th>rub_per_gb</th>\n",
              "      <th>rub_per_message</th>\n",
              "      <th>rub_per_minute</th>\n",
              "      <th>tariff_name</th>\n",
              "    </tr>\n",
              "  </thead>\n",
              "  <tbody>\n",
              "    <tr>\n",
              "      <th>0</th>\n",
              "      <td>50</td>\n",
              "      <td>15360</td>\n",
              "      <td>500</td>\n",
              "      <td>550</td>\n",
              "      <td>200</td>\n",
              "      <td>3</td>\n",
              "      <td>3</td>\n",
              "      <td>smart</td>\n",
              "    </tr>\n",
              "    <tr>\n",
              "      <th>1</th>\n",
              "      <td>1000</td>\n",
              "      <td>30720</td>\n",
              "      <td>3000</td>\n",
              "      <td>1950</td>\n",
              "      <td>150</td>\n",
              "      <td>1</td>\n",
              "      <td>1</td>\n",
              "      <td>ultra</td>\n",
              "    </tr>\n",
              "  </tbody>\n",
              "</table>\n",
              "</div>"
            ],
            "text/plain": [
              "   messages_included  mb_per_month_included  minutes_included  \\\n",
              "0                 50                  15360               500   \n",
              "1               1000                  30720              3000   \n",
              "\n",
              "   rub_monthly_fee  rub_per_gb  rub_per_message  rub_per_minute tariff_name  \n",
              "0              550         200                3               3       smart  \n",
              "1             1950         150                1               1       ultra  "
            ]
          },
          "execution_count": 61,
          "metadata": {},
          "output_type": "execute_result"
        }
      ],
      "source": [
        "tariff_data"
      ]
    },
    {
      "cell_type": "code",
      "execution_count": null,
      "metadata": {
        "scrolled": true,
        "id": "yNjAUqfRbO93",
        "outputId": "36117a3a-b181-4790-b164-33d655f64c89"
      },
      "outputs": [
        {
          "name": "stdout",
          "output_type": "stream",
          "text": [
            "В среднем выручка с пользователя тарифа Смарт в месяц составляет 1233 рублей\n",
            "В среднем выручка с пользователя тарифа Ультра в месяц составляет 2060 рублей\n"
          ]
        }
      ],
      "source": [
        "print('В среднем выручка с пользователя тарифа Смарт в месяц составляет {:.0f} рублей'.format (new_df_smart['profit'].mean()))\n",
        "print('В среднем выручка с пользователя тарифа Ультра в месяц составляет {:.0f} рублей'.format (new_df_ultra['profit'].mean()))"
      ]
    },
    {
      "cell_type": "code",
      "execution_count": null,
      "metadata": {
        "scrolled": false,
        "id": "YGoKc2RhbO93",
        "outputId": "a58ac510-a584-4c3c-e7ad-d0e36f1e3a00"
      },
      "outputs": [
        {
          "name": "stdout",
          "output_type": "stream",
          "text": [
            "Прибыль по тарифу Ультра за год: 2031572 рублей\n",
            "Прибыль по тарифу Смарт за год: 2749686 рублей\n"
          ]
        }
      ],
      "source": [
        "print('Прибыль по тарифу Ультра за год: {:.0f} рублей'.format(new_df_ultra['profit'].sum()))\n",
        "print('Прибыль по тарифу Смарт за год: {:.0f} рублей'.format(new_df_smart['profit'].sum()))"
      ]
    },
    {
      "cell_type": "markdown",
      "metadata": {
        "id": "0Yw4mwiUbO93"
      },
      "source": [
        "Изучив данные, мы выявили, что клиенты тарифа практически не превышают лимит своего пакета в отличие от клиентов тарифа Смарт. Основная выручка для тарифа \"Ультра\" идет благодаря абонетской плате, ее пользователи редко превышают лимит.\n",
        "\n",
        "Пользователи тарифа \"Смарт\" наоборот, очень часто платят за превышение условий, однако абонентская плата в этом тарифе не является основной \"статьей\" дохода для компании\n",
        "\n",
        "В то же время, мы видим, что, несмотря на индивидуальные показатели клиентов разных тарифов(выручка с одного конкретного пользователя тарифа \"Ультра\" больше чем с одного конкретного пользователя тарифа \"Смарт\") выручка с клиентов тарифа \"Смарт\" за год выше, чем выручка с клиентов тарифа \"Ультра\" на 700 000 руб."
      ]
    },
    {
      "cell_type": "markdown",
      "metadata": {
        "id": "eXLAh2FxbO93"
      },
      "source": [
        "#  Проверяем гипотезы\n"
      ]
    },
    {
      "cell_type": "markdown",
      "metadata": {
        "id": "2_bA8P57bO94"
      },
      "source": [
        "Задача: Средняя выручка пользователей тарифов «Ультра» и «Смарт» могут различаться:\n",
        "\n",
        "Для того, чтобы подтвердить либо опровергнуть данное заявление, необходимо сформулировать 2 гипотезы:\n",
        "\n",
        "-Нулевая гипотеза \"H_0\": Средняя выручка пользователей тарифов Смарт и Ультра не различается\n",
        "\n",
        "-Альтернативная гипотеза \"H_1\": Средняя выручка пользователей тарифов Смарт и Ультра различается\n",
        "\n",
        "параметр alpha =  5%"
      ]
    },
    {
      "cell_type": "code",
      "execution_count": null,
      "metadata": {
        "id": "_Nc4iP4bbO94",
        "outputId": "46e32346-208e-4a10-9387-3f7bcae4fa78"
      },
      "outputs": [
        {
          "name": "stdout",
          "output_type": "stream",
          "text": [
            "126836.78921496615\n",
            "620383.6548572088\n"
          ]
        }
      ],
      "source": [
        "print (new_df_ultra['profit'].var())\n",
        "print (new_df_smart['profit'].var())"
      ]
    },
    {
      "cell_type": "markdown",
      "metadata": {
        "id": "MOhoPEzzbO95"
      },
      "source": [
        "Для начала проверим можем ли мы считать дисперсии выборок равными. \n",
        "\n",
        "Они существенно различаются, значит - equal_var=False"
      ]
    },
    {
      "cell_type": "code",
      "execution_count": null,
      "metadata": {
        "id": "4NBL6tdVbO95"
      },
      "outputs": [],
      "source": [
        "ultra_profit = new_df_ultra['profit']\n",
        "smart_profit = new_df_smart['profit']"
      ]
    },
    {
      "cell_type": "code",
      "execution_count": null,
      "metadata": {
        "scrolled": true,
        "id": "CradhJjebO95",
        "outputId": "fd1f25df-0241-4167-eb3d-22763813f02e"
      },
      "outputs": [
        {
          "name": "stdout",
          "output_type": "stream",
          "text": [
            "p-значение: 3.665639404941842e-296\n",
            "Отвергаем нулевую гипотезу\n"
          ]
        }
      ],
      "source": [
        "alpha = 0.05\n",
        "\n",
        "results = st.ttest_ind(ultra_profit, smart_profit, equal_var=False)\n",
        "\n",
        "print('p-значение:', results.pvalue)\n",
        "\n",
        "\n",
        "if (results.pvalue > alpha):\n",
        "    print(\"Не получилось отвергнуть нулевую гипотезу\")\n",
        "else:\n",
        "    print(\"Отвергаем нулевую гипотезу\")"
      ]
    },
    {
      "cell_type": "markdown",
      "metadata": {
        "id": "ieemPgT2bO96"
      },
      "source": [
        "Исходя из исследования можно увидеть, нулевая гипотеза не подтвердилась"
      ]
    },
    {
      "cell_type": "markdown",
      "metadata": {
        "id": "xYoIJjqtbO96"
      },
      "source": [
        "Задача: Средняя выручка пользователей из Москвы отличается от выручки пользователей из других регионов.\n",
        "регионов\n",
        "Для того, чтобы подтвердить либо опровергнуть данное заявление необходимо сформулировать две пары гипотез :\n",
        "\n",
        "а)\n",
        "\n",
        "-Нулевая гипотеза H_0: Выручка пользователей тарифа \"Ультра\" из Москвы не отличается от выручки пользователей тарифа \"Ультра\" из других регионов\n",
        "\n",
        "-Альтернативная гипотеза H_1: Средняя выручка пользователей тарифа \"Ультра\" из Москвы отличается от выручки пользователей тарифа \"Ультра\" из других регионов\n",
        "\n",
        "б) \n",
        "\n",
        "-Нулевая гипотеза H_0: Выручка пользователей тарифа \"Смарт\" из Москвы не отличается от выручки пользователей тарифа \"Смарт\" из других регионов\n",
        "\n",
        "-Альтернативная гипотеза H_1: Средняя выручка пользователей тарифа \"Смарт\" из Москвы отличается от выручки пользователей тарифа \"Смарт\" из других регионов\n",
        "\n",
        "параметр alpha =  5%\n",
        "\n",
        "\n",
        "В первую очередь создадим срезы в таблицах по названию городов"
      ]
    },
    {
      "cell_type": "code",
      "execution_count": null,
      "metadata": {
        "id": "-1agOMgzbO96"
      },
      "outputs": [],
      "source": [
        "def profit_for_tariff_3(row):\n",
        "    mb_used = row['sum_mb_used']\n",
        "    minutes = row['minutes']\n",
        "    messages = row['sum_messages']\n",
        "    tariff = row['tariff']\n",
        "    total_megabytes = 0\n",
        "    total_messages = 0 \n",
        "    total_minutes = 0\n",
        "    if tariff == 'smart':\n",
        "        if mb_used > sm_megabytes_per_month_incl:\n",
        "            total_megabytes = (mb_used - sm_megabytes_per_month_incl) * sm_price_for_megabyte\n",
        "        if minutes > sm_minutes:\n",
        "            total_minutes = (minutes - sm_minutes) * sm_rub_per_minute\n",
        "        if messages > sm_messages:\n",
        "            total_messages = (messages - sm_messages) * sm_rub_per_message\n",
        "        \n",
        "        return total_megabytes + total_minutes + total_messages + sm_monthly_fee\n",
        "\n",
        "    if tariff == 'ultra':\n",
        "        if mb_used > ult_megabytes_per_month_incl:\n",
        "            total_megabytes = (mb_used - ult_megabytes_per_month_incl) * ult_price_for_megabyte\n",
        "        if minutes > ult_minutes:\n",
        "            total_minutes = (minutes - ult_minutes) * ult_rub_per_minute\n",
        "        if messages > ult_messages:\n",
        "            total_messages = (messages - sm_messages) * ult_rub_per_message\n",
        "        \n",
        "        return total_megabytes + total_minutes + total_messages + ult_monthly_fee\n",
        "\n"
      ]
    },
    {
      "cell_type": "code",
      "execution_count": null,
      "metadata": {
        "id": "ZkwpebavbO96"
      },
      "outputs": [],
      "source": [
        "new_df['profit'] = new_df.apply(profit_for_tariff_3, axis=1)"
      ]
    },
    {
      "cell_type": "code",
      "execution_count": null,
      "metadata": {
        "scrolled": true,
        "id": "W97PrL74bO96",
        "outputId": "390c26bd-16af-49b4-da56-057fd060fa62"
      },
      "outputs": [
        {
          "data": {
            "text/html": [
              "<div>\n",
              "<style scoped>\n",
              "    .dataframe tbody tr th:only-of-type {\n",
              "        vertical-align: middle;\n",
              "    }\n",
              "\n",
              "    .dataframe tbody tr th {\n",
              "        vertical-align: top;\n",
              "    }\n",
              "\n",
              "    .dataframe thead th {\n",
              "        text-align: right;\n",
              "    }\n",
              "</style>\n",
              "<table border=\"1\" class=\"dataframe\">\n",
              "  <thead>\n",
              "    <tr style=\"text-align: right;\">\n",
              "      <th></th>\n",
              "      <th>user_id</th>\n",
              "      <th>month_name</th>\n",
              "      <th>sum_messages</th>\n",
              "      <th>minutes</th>\n",
              "      <th>sum_calls</th>\n",
              "      <th>sum_mb_used</th>\n",
              "      <th>city</th>\n",
              "      <th>first_name</th>\n",
              "      <th>last_name</th>\n",
              "      <th>reg_date</th>\n",
              "      <th>tariff</th>\n",
              "      <th>profit</th>\n",
              "    </tr>\n",
              "  </thead>\n",
              "  <tbody>\n",
              "    <tr>\n",
              "      <th>1874</th>\n",
              "      <td>1244</td>\n",
              "      <td>May</td>\n",
              "      <td>60.0</td>\n",
              "      <td>470.0</td>\n",
              "      <td>56.0</td>\n",
              "      <td>11968.0</td>\n",
              "      <td>москва</td>\n",
              "      <td>геральд</td>\n",
              "      <td>макеев</td>\n",
              "      <td>2018-05-09</td>\n",
              "      <td>smart</td>\n",
              "      <td>580.000000</td>\n",
              "    </tr>\n",
              "    <tr>\n",
              "      <th>2042</th>\n",
              "      <td>1317</td>\n",
              "      <td>August</td>\n",
              "      <td>37.0</td>\n",
              "      <td>659.0</td>\n",
              "      <td>86.0</td>\n",
              "      <td>16162.0</td>\n",
              "      <td>москва</td>\n",
              "      <td>всеволод</td>\n",
              "      <td>зыков</td>\n",
              "      <td>2018-07-09</td>\n",
              "      <td>smart</td>\n",
              "      <td>1183.640625</td>\n",
              "    </tr>\n",
              "    <tr>\n",
              "      <th>3155</th>\n",
              "      <td>1494</td>\n",
              "      <td>August</td>\n",
              "      <td>NaN</td>\n",
              "      <td>262.0</td>\n",
              "      <td>32.0</td>\n",
              "      <td>6601.0</td>\n",
              "      <td>омск</td>\n",
              "      <td>ренат</td>\n",
              "      <td>андропов</td>\n",
              "      <td>2018-08-17</td>\n",
              "      <td>smart</td>\n",
              "      <td>550.000000</td>\n",
              "    </tr>\n",
              "    <tr>\n",
              "      <th>683</th>\n",
              "      <td>1275</td>\n",
              "      <td>September</td>\n",
              "      <td>22.0</td>\n",
              "      <td>361.0</td>\n",
              "      <td>54.0</td>\n",
              "      <td>11715.0</td>\n",
              "      <td>москва</td>\n",
              "      <td>семён</td>\n",
              "      <td>елизаров</td>\n",
              "      <td>2018-04-24</td>\n",
              "      <td>smart</td>\n",
              "      <td>550.000000</td>\n",
              "    </tr>\n",
              "    <tr>\n",
              "      <th>646</th>\n",
              "      <td>1251</td>\n",
              "      <td>August</td>\n",
              "      <td>75.0</td>\n",
              "      <td>600.0</td>\n",
              "      <td>80.0</td>\n",
              "      <td>23785.0</td>\n",
              "      <td>пермь</td>\n",
              "      <td>роксана</td>\n",
              "      <td>тетерина</td>\n",
              "      <td>2018-02-13</td>\n",
              "      <td>smart</td>\n",
              "      <td>2570.507812</td>\n",
              "    </tr>\n",
              "  </tbody>\n",
              "</table>\n",
              "</div>"
            ],
            "text/plain": [
              "      user_id month_name  sum_messages  minutes  sum_calls  sum_mb_used  \\\n",
              "1874     1244        May          60.0    470.0       56.0      11968.0   \n",
              "2042     1317     August          37.0    659.0       86.0      16162.0   \n",
              "3155     1494     August           NaN    262.0       32.0       6601.0   \n",
              "683      1275  September          22.0    361.0       54.0      11715.0   \n",
              "646      1251     August          75.0    600.0       80.0      23785.0   \n",
              "\n",
              "        city first_name last_name   reg_date tariff       profit  \n",
              "1874  москва    геральд    макеев 2018-05-09  smart   580.000000  \n",
              "2042  москва   всеволод     зыков 2018-07-09  smart  1183.640625  \n",
              "3155    омск      ренат  андропов 2018-08-17  smart   550.000000  \n",
              "683   москва      семён  елизаров 2018-04-24  smart   550.000000  \n",
              "646    пермь    роксана  тетерина 2018-02-13  smart  2570.507812  "
            ]
          },
          "execution_count": 69,
          "metadata": {},
          "output_type": "execute_result"
        }
      ],
      "source": [
        "new_df.sample(5)"
      ]
    },
    {
      "cell_type": "code",
      "execution_count": null,
      "metadata": {
        "id": "87a-al0mbO97"
      },
      "outputs": [],
      "source": [
        "moscow_df = new_df.query('city == \"москва\"').profit\n",
        "non_moscow_df = new_df.query('city != \"москва\"').profit"
      ]
    },
    {
      "cell_type": "code",
      "execution_count": null,
      "metadata": {
        "id": "qLdyd0LCbO97",
        "outputId": "fb2060e0-0579-49e9-9c1f-7d62d9abcdb2"
      },
      "outputs": [
        {
          "name": "stdout",
          "output_type": "stream",
          "text": [
            "p-значение: 0.4517561756356935\n",
            "Не получилось отвергнуть нулевую гипотезу\n"
          ]
        }
      ],
      "source": [
        "alpha = 0.05\n",
        "\n",
        "result = st.ttest_ind(moscow_df, non_moscow_df, equal_var = False)\n",
        "\n",
        "print('p-значение:', result.pvalue)\n",
        "\n",
        "\n",
        "if (result.pvalue > alpha):\n",
        "    print(\"Не получилось отвергнуть нулевую гипотезу\")\n",
        "else:\n",
        "    print(\"Отвергаем нулевую гипотезу\")"
      ]
    },
    {
      "cell_type": "code",
      "execution_count": null,
      "metadata": {
        "id": "feb7Kg7MbO97"
      },
      "outputs": [],
      "source": [
        "moscow_smart = new_df_smart.query('city == \"москва\"').profit\n",
        "non_moscow_smart = new_df_smart.query('city != \"москва\"').profit\n",
        "moscow_ultra = new_df_ultra.query('city == \"москва\"').profit\n",
        "non_moscow_ultra = new_df_ultra.query('city != \"москва\"').profit"
      ]
    },
    {
      "cell_type": "code",
      "execution_count": null,
      "metadata": {
        "id": "mxruwjAKbO98",
        "outputId": "c58f56c5-8c06-4dc5-bf61-f4bdc2bd2059"
      },
      "outputs": [
        {
          "name": "stdout",
          "output_type": "stream",
          "text": [
            "p-значение: 0.14107512182711163\n",
            "Не получилось отвергнуть нулевую гипотезу\n"
          ]
        }
      ],
      "source": [
        "alpha = 0.05\n",
        "\n",
        "result = st.ttest_ind(moscow_smart, non_moscow_smart, equal_var = False)\n",
        "\n",
        "print('p-значение:', result.pvalue)\n",
        "\n",
        "\n",
        "if (result.pvalue > alpha):\n",
        "    print(\"Не получилось отвергнуть нулевую гипотезу\")\n",
        "else:\n",
        "    print(\"Отвергаем нулевую гипотезу\")"
      ]
    },
    {
      "cell_type": "code",
      "execution_count": null,
      "metadata": {
        "id": "fPRWH-_nbO98",
        "outputId": "bf9b9df2-1d37-4a56-cb6d-4f5432efe4e3"
      },
      "outputs": [
        {
          "name": "stdout",
          "output_type": "stream",
          "text": [
            "p-значение: 0.8714231399483139\n",
            "Не получилось отвергнуть нулевую гипотезу\n"
          ]
        }
      ],
      "source": [
        "alpha = 0.05\n",
        "\n",
        "result = st.ttest_ind(moscow_ultra, non_moscow_ultra, equal_var = False)\n",
        "\n",
        "print('p-значение:', result.pvalue)\n",
        "\n",
        "\n",
        "if (result.pvalue > alpha):\n",
        "    print(\"Не получилось отвергнуть нулевую гипотезу\")\n",
        "else:\n",
        "    print(\"Отвергаем нулевую гипотезу\")"
      ]
    },
    {
      "cell_type": "markdown",
      "metadata": {
        "id": "4x28d1L8bO98"
      },
      "source": [
        "Добавил разделение только на Москву и регионы.  \n",
        "    При создании таблицы и формулы для выручки изначально специально разделял их на две группы, и прописывал отдельно для каждого тарифа функцию,думал будет проще по каждой из них работать, и каждый раз не использовать query() из-за этого в конце не смог их соединить. Я насколько понимаю, таблицы new_df_smart и new_df_smart можно объединить, но с помощью join() и merge() у меня получилось совсем не то, что нужно. Поэтому я еще раз переписал функцию уже для двух тарифов для поиска выручки.  \n",
        "    Уже после того, как составил функцию, посоветовали concat(), вроде как получилось, насколько понимаю, он как раз может объединять таблицы\n",
        "    Результат тот же самый - Отвергнуть нулевую гипотезу не получилось"
      ]
    },
    {
      "cell_type": "code",
      "execution_count": null,
      "metadata": {
        "id": "_5vzhz8DbO99",
        "outputId": "aa0ffd93-97f2-401b-dfa3-8df2bec20c5b"
      },
      "outputs": [
        {
          "data": {
            "text/plain": [
              "Ttest_indResult(statistic=0.7527950558529936, pvalue=0.4517561756356935)"
            ]
          },
          "execution_count": 75,
          "metadata": {},
          "output_type": "execute_result"
        }
      ],
      "source": [
        "st.ttest_ind([*moscow_smart, *moscow_ultra], [*non_moscow_smart, *non_moscow_ultra], equal_var = False)"
      ]
    },
    {
      "cell_type": "code",
      "execution_count": null,
      "metadata": {
        "id": "S8T9jJPzbO99",
        "outputId": "c4596bec-a825-4851-c6b2-c4a3fdbc8c30"
      },
      "outputs": [
        {
          "data": {
            "text/html": [
              "<div>\n",
              "<style scoped>\n",
              "    .dataframe tbody tr th:only-of-type {\n",
              "        vertical-align: middle;\n",
              "    }\n",
              "\n",
              "    .dataframe tbody tr th {\n",
              "        vertical-align: top;\n",
              "    }\n",
              "\n",
              "    .dataframe thead th {\n",
              "        text-align: right;\n",
              "    }\n",
              "</style>\n",
              "<table border=\"1\" class=\"dataframe\">\n",
              "  <thead>\n",
              "    <tr style=\"text-align: right;\">\n",
              "      <th></th>\n",
              "      <th>user_id</th>\n",
              "      <th>month_name</th>\n",
              "      <th>sum_messages</th>\n",
              "      <th>minutes</th>\n",
              "      <th>sum_calls</th>\n",
              "      <th>sum_mb_used</th>\n",
              "      <th>city</th>\n",
              "      <th>first_name</th>\n",
              "      <th>last_name</th>\n",
              "      <th>reg_date</th>\n",
              "      <th>tariff</th>\n",
              "      <th>profit</th>\n",
              "    </tr>\n",
              "  </thead>\n",
              "  <tbody>\n",
              "    <tr>\n",
              "      <th>2133</th>\n",
              "      <td>1354</td>\n",
              "      <td>December</td>\n",
              "      <td>92.0</td>\n",
              "      <td>275.0</td>\n",
              "      <td>43.0</td>\n",
              "      <td>27209.0</td>\n",
              "      <td>сочи</td>\n",
              "      <td>лола</td>\n",
              "      <td>кулагина</td>\n",
              "      <td>2018-08-19</td>\n",
              "      <td>smart</td>\n",
              "      <td>2990.257812</td>\n",
              "    </tr>\n",
              "    <tr>\n",
              "      <th>2554</th>\n",
              "      <td>1230</td>\n",
              "      <td>September</td>\n",
              "      <td>10.0</td>\n",
              "      <td>280.0</td>\n",
              "      <td>34.0</td>\n",
              "      <td>8868.0</td>\n",
              "      <td>томск</td>\n",
              "      <td>ренальд</td>\n",
              "      <td>капустин</td>\n",
              "      <td>2018-09-15</td>\n",
              "      <td>smart</td>\n",
              "      <td>550.000000</td>\n",
              "    </tr>\n",
              "    <tr>\n",
              "      <th>1674</th>\n",
              "      <td>1149</td>\n",
              "      <td>May</td>\n",
              "      <td>34.0</td>\n",
              "      <td>68.0</td>\n",
              "      <td>10.0</td>\n",
              "      <td>10607.0</td>\n",
              "      <td>мурманск</td>\n",
              "      <td>алиса</td>\n",
              "      <td>алексеенко</td>\n",
              "      <td>2018-05-19</td>\n",
              "      <td>smart</td>\n",
              "      <td>550.000000</td>\n",
              "    </tr>\n",
              "    <tr>\n",
              "      <th>779</th>\n",
              "      <td>1310</td>\n",
              "      <td>June</td>\n",
              "      <td>45.0</td>\n",
              "      <td>483.0</td>\n",
              "      <td>71.0</td>\n",
              "      <td>17504.0</td>\n",
              "      <td>уфа</td>\n",
              "      <td>рудольф</td>\n",
              "      <td>нестеров</td>\n",
              "      <td>2018-03-22</td>\n",
              "      <td>ultra</td>\n",
              "      <td>1950.000000</td>\n",
              "    </tr>\n",
              "    <tr>\n",
              "      <th>491</th>\n",
              "      <td>1174</td>\n",
              "      <td>August</td>\n",
              "      <td>68.0</td>\n",
              "      <td>604.0</td>\n",
              "      <td>83.0</td>\n",
              "      <td>15458.0</td>\n",
              "      <td>санкт-петербург</td>\n",
              "      <td>лолита</td>\n",
              "      <td>розанова</td>\n",
              "      <td>2018-02-17</td>\n",
              "      <td>smart</td>\n",
              "      <td>935.140625</td>\n",
              "    </tr>\n",
              "  </tbody>\n",
              "</table>\n",
              "</div>"
            ],
            "text/plain": [
              "      user_id month_name  sum_messages  minutes  sum_calls  sum_mb_used  \\\n",
              "2133     1354   December          92.0    275.0       43.0      27209.0   \n",
              "2554     1230  September          10.0    280.0       34.0       8868.0   \n",
              "1674     1149        May          34.0     68.0       10.0      10607.0   \n",
              "779      1310       June          45.0    483.0       71.0      17504.0   \n",
              "491      1174     August          68.0    604.0       83.0      15458.0   \n",
              "\n",
              "                 city first_name   last_name   reg_date tariff       profit  \n",
              "2133             сочи       лола    кулагина 2018-08-19  smart  2990.257812  \n",
              "2554            томск    ренальд    капустин 2018-09-15  smart   550.000000  \n",
              "1674         мурманск      алиса  алексеенко 2018-05-19  smart   550.000000  \n",
              "779               уфа    рудольф    нестеров 2018-03-22  ultra  1950.000000  \n",
              "491   санкт-петербург     лолита    розанова 2018-02-17  smart   935.140625  "
            ]
          },
          "execution_count": 76,
          "metadata": {},
          "output_type": "execute_result"
        }
      ],
      "source": [
        "last_df = pd.concat([new_df_smart, new_df_ultra])\n",
        "last_df.sample(5)"
      ]
    },
    {
      "cell_type": "markdown",
      "metadata": {
        "id": "yN0ZlXdnbO99"
      },
      "source": [
        "Несмотря на различия между пользователями самих тарифов, исследование не нашло различий между выручкой для Москвы и выручкой со стороны других регионов. Нулевую гипотезу не отвергаем."
      ]
    },
    {
      "cell_type": "markdown",
      "metadata": {
        "id": "u1ZL5FiVbO99"
      },
      "source": [
        "#  Вывод"
      ]
    },
    {
      "cell_type": "markdown",
      "metadata": {
        "id": "J1O5GCFMbO9-"
      },
      "source": [
        "Мы изучили предоставленные нам таблицы, рассмотрели возможность замены пропущенных значений, изменения типа данных. Для дальнейшего анализа изменили столбцы с датами, в целом подготовили таблицы для дальнейшего объединения и анализа.\n",
        "\n",
        "В последующем объединили таблицы, создали две отдельных сводных таблицы для каждого из тарифов, посчитали прибыль от каждого клиента за определенный месяц, нашли дисперсию, среднее и стандартное отклонение. После этого, также посчитали выручку от каждого тарифа. В рамках данной стадии изучения проекта нашли две важные детали:\n",
        "\n",
        "1) разные статьи задолженности: Изучив данные, мы выявили, что клиенты тарифа \"Ультра\"практически не превышают лимит своего пакет, а значит в основном платят только абонентскую плату. Пользователи тарифа \"Смарт\" наоборот, очень часто платят за превышение условий, однако абонентская плата в этом тарифе не является основной \"статьей\" дохода для компании.\n",
        "\n",
        "2) Выручка с одного конкретного пользователя тарифа \"Ультра\" больше чем с одного конкретного пользователя тарифа \"Смарт\", однако в целом выручка с клиентов тарифа \"Смарт\" за год выше, чем выручка с клиентов тарифа \"Ультра\" на 700 000 руб (возможно дело в бОльшем количестве клиентов тарифа \"Смарт\").\n",
        "\n",
        "После этого мы проверили заданные нам гипотезы. В результате выяснили, что: \n",
        "\n",
        "а) выручка тарифов Смарт и Ультра отличается друг от друга;\n",
        "\n",
        "б) выручка клиентов с Москвы и других регионов не отличается.\n",
        "\n",
        "Подводя итоги, мы можем сказать, что при равном количестве клиентов на обоих тарифах, \"Ультра\" являлся бы самым прибыльным тарифом. Однако, мы видим, что большая часть клиентов все таки предпочитают \"Смарт\", даже несмотря за необходимость доплачивать за превышение лимита по смс, звонкам и интернету, поэтому компании следует обратить направить большую часть ресурсов на тариф Смарт по причине массового использования этого тарифа."
      ]
    }
  ],
  "metadata": {
    "ExecuteTimeLog": [
      {
        "duration": 898,
        "start_time": "2022-04-21T13:59:55.717Z"
      },
      {
        "duration": 25,
        "start_time": "2022-04-21T13:59:56.617Z"
      },
      {
        "duration": 23,
        "start_time": "2022-04-21T13:59:56.644Z"
      },
      {
        "duration": 36,
        "start_time": "2022-04-21T13:59:56.669Z"
      },
      {
        "duration": 18,
        "start_time": "2022-04-21T13:59:56.706Z"
      },
      {
        "duration": 7,
        "start_time": "2022-04-21T13:59:56.726Z"
      },
      {
        "duration": 15,
        "start_time": "2022-04-21T13:59:56.734Z"
      },
      {
        "duration": 3,
        "start_time": "2022-04-21T13:59:56.751Z"
      },
      {
        "duration": 6,
        "start_time": "2022-04-21T13:59:56.756Z"
      },
      {
        "duration": 5,
        "start_time": "2022-04-21T13:59:56.764Z"
      },
      {
        "duration": 33,
        "start_time": "2022-04-21T13:59:56.770Z"
      },
      {
        "duration": 760,
        "start_time": "2022-04-21T13:59:56.805Z"
      },
      {
        "duration": 120,
        "start_time": "2022-04-21T13:59:57.566Z"
      },
      {
        "duration": 295,
        "start_time": "2022-04-21T13:59:57.687Z"
      },
      {
        "duration": 152,
        "start_time": "2022-04-21T13:59:57.984Z"
      },
      {
        "duration": 9,
        "start_time": "2022-04-21T13:59:58.138Z"
      },
      {
        "duration": 24,
        "start_time": "2022-04-21T13:59:58.148Z"
      },
      {
        "duration": 77,
        "start_time": "2022-04-21T13:59:58.173Z"
      },
      {
        "duration": 7,
        "start_time": "2022-04-21T13:59:58.252Z"
      },
      {
        "duration": 21,
        "start_time": "2022-04-21T13:59:58.261Z"
      },
      {
        "duration": 47,
        "start_time": "2022-04-21T13:59:58.300Z"
      },
      {
        "duration": 51,
        "start_time": "2022-04-21T13:59:58.349Z"
      },
      {
        "duration": 12,
        "start_time": "2022-04-21T13:59:58.402Z"
      },
      {
        "duration": 91,
        "start_time": "2022-04-21T13:59:58.416Z"
      },
      {
        "duration": 26,
        "start_time": "2022-04-21T13:59:58.509Z"
      },
      {
        "duration": 11,
        "start_time": "2022-04-21T13:59:58.537Z"
      },
      {
        "duration": 3,
        "start_time": "2022-04-21T13:59:58.550Z"
      },
      {
        "duration": 16,
        "start_time": "2022-04-21T13:59:58.558Z"
      },
      {
        "duration": 11,
        "start_time": "2022-04-21T13:59:58.601Z"
      },
      {
        "duration": 8,
        "start_time": "2022-04-21T13:59:58.613Z"
      },
      {
        "duration": 11,
        "start_time": "2022-04-21T13:59:58.623Z"
      },
      {
        "duration": 5,
        "start_time": "2022-04-21T13:59:58.635Z"
      },
      {
        "duration": 5,
        "start_time": "2022-04-21T13:59:58.641Z"
      },
      {
        "duration": 19,
        "start_time": "2022-04-21T13:59:58.647Z"
      },
      {
        "duration": 34,
        "start_time": "2022-04-21T13:59:58.667Z"
      },
      {
        "duration": 7,
        "start_time": "2022-04-21T13:59:58.702Z"
      },
      {
        "duration": 4,
        "start_time": "2022-04-21T13:59:58.711Z"
      },
      {
        "duration": 5,
        "start_time": "2022-04-21T13:59:58.716Z"
      },
      {
        "duration": 35,
        "start_time": "2022-04-21T13:59:58.723Z"
      },
      {
        "duration": 2,
        "start_time": "2022-04-21T13:59:58.760Z"
      },
      {
        "duration": 6,
        "start_time": "2022-04-21T13:59:58.763Z"
      },
      {
        "duration": 42,
        "start_time": "2022-04-21T13:59:58.770Z"
      },
      {
        "duration": 19,
        "start_time": "2022-04-21T13:59:58.813Z"
      },
      {
        "duration": 17,
        "start_time": "2022-04-21T13:59:58.833Z"
      },
      {
        "duration": 264,
        "start_time": "2022-04-21T13:59:58.852Z"
      },
      {
        "duration": 265,
        "start_time": "2022-04-21T13:59:59.118Z"
      },
      {
        "duration": 268,
        "start_time": "2022-04-21T13:59:59.385Z"
      },
      {
        "duration": 250,
        "start_time": "2022-04-21T13:59:59.654Z"
      },
      {
        "duration": 8,
        "start_time": "2022-04-21T13:59:59.906Z"
      },
      {
        "duration": 143,
        "start_time": "2022-04-21T13:59:59.915Z"
      },
      {
        "duration": 8,
        "start_time": "2022-04-21T14:00:00.059Z"
      },
      {
        "duration": 17,
        "start_time": "2022-04-21T14:00:00.069Z"
      },
      {
        "duration": 32,
        "start_time": "2022-04-21T14:00:00.088Z"
      },
      {
        "duration": 17,
        "start_time": "2022-04-21T14:00:00.121Z"
      },
      {
        "duration": 19,
        "start_time": "2022-04-21T14:00:00.139Z"
      },
      {
        "duration": 340,
        "start_time": "2022-04-21T14:00:00.160Z"
      },
      {
        "duration": 230,
        "start_time": "2022-04-21T14:00:00.502Z"
      },
      {
        "duration": 226,
        "start_time": "2022-04-21T14:00:00.734Z"
      },
      {
        "duration": 216,
        "start_time": "2022-04-21T14:00:00.961Z"
      },
      {
        "duration": 412,
        "start_time": "2022-04-21T14:00:01.179Z"
      },
      {
        "duration": 12,
        "start_time": "2022-04-21T14:00:01.593Z"
      },
      {
        "duration": 58,
        "start_time": "2022-04-21T14:00:01.607Z"
      },
      {
        "duration": 12,
        "start_time": "2022-04-21T14:00:01.667Z"
      },
      {
        "duration": 10,
        "start_time": "2022-04-21T14:00:01.681Z"
      },
      {
        "duration": 18,
        "start_time": "2022-04-21T14:00:01.693Z"
      },
      {
        "duration": 23,
        "start_time": "2022-04-21T14:00:01.712Z"
      },
      {
        "duration": 38,
        "start_time": "2022-04-21T14:00:01.737Z"
      },
      {
        "duration": 97,
        "start_time": "2022-04-21T14:00:01.777Z"
      },
      {
        "duration": 22,
        "start_time": "2022-04-21T14:00:01.876Z"
      },
      {
        "duration": 19,
        "start_time": "2022-04-21T14:00:01.900Z"
      },
      {
        "duration": 62,
        "start_time": "2022-04-21T14:00:01.920Z"
      },
      {
        "duration": 83,
        "start_time": "2022-04-21T14:00:01.983Z"
      },
      {
        "duration": 73,
        "start_time": "2022-04-21T14:00:02.068Z"
      },
      {
        "duration": 79,
        "start_time": "2022-04-21T14:00:02.143Z"
      },
      {
        "duration": 105,
        "start_time": "2022-04-21T14:00:02.224Z"
      },
      {
        "duration": 175,
        "start_time": "2022-04-21T14:00:02.330Z"
      }
    ],
    "kernelspec": {
      "display_name": "Python 3 (ipykernel)",
      "language": "python",
      "name": "python3"
    },
    "language_info": {
      "codemirror_mode": {
        "name": "ipython",
        "version": 3
      },
      "file_extension": ".py",
      "mimetype": "text/x-python",
      "name": "python",
      "nbconvert_exporter": "python",
      "pygments_lexer": "ipython3",
      "version": "3.9.5"
    },
    "toc": {
      "base_numbering": 1,
      "nav_menu": {},
      "number_sections": true,
      "sideBar": true,
      "skip_h1_title": true,
      "title_cell": "Table of Contents",
      "title_sidebar": "Contents",
      "toc_cell": false,
      "toc_position": {},
      "toc_section_display": true,
      "toc_window_display": false
    },
    "colab": {
      "name": "Megaline's_users.ipynb",
      "provenance": []
    }
  },
  "nbformat": 4,
  "nbformat_minor": 0
}