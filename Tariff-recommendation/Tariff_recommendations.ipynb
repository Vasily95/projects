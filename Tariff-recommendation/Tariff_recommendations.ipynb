{
  "cells": [
    {
      "cell_type": "markdown",
      "metadata": {
        "id": "JtrJmlh-poLv"
      },
      "source": [
        "# Рекомендация тарифов"
      ]
    },
    {
      "cell_type": "markdown",
      "metadata": {
        "id": "by8NUMu-poLw"
      },
      "source": [
        "В вашем распоряжении данные о поведении клиентов, которые уже перешли на эти тарифы (из проекта курса «Статистический анализ данных»). Нужно построить модель для задачи классификации, которая выберет подходящий тариф. Предобработка данных не понадобится — вы её уже сделали.\n",
        "\n",
        "Постройте модель с максимально большим значением *accuracy*. Чтобы сдать проект успешно, нужно довести долю правильных ответов по крайней мере до 0.75. Проверьте *accuracy* на тестовой выборке самостоятельно."
      ]
    },
    {
      "cell_type": "markdown",
      "metadata": {
        "id": "jA7j2LfvpoLw"
      },
      "source": [
        "## Откройте и изучите файл"
      ]
    },
    {
      "cell_type": "code",
      "execution_count": null,
      "metadata": {
        "scrolled": true,
        "id": "iVB80clzpoLx"
      },
      "outputs": [],
      "source": [
        "import pandas as pd\n",
        "\n",
        "import matplotlib.pyplot as plt\n",
        "import seaborn as sns\n",
        "\n",
        "from sklearn.model_selection import train_test_split\n",
        "from sklearn.ensemble import RandomForestClassifier\n",
        "from sklearn.tree import DecisionTreeClassifier\n",
        "from sklearn.metrics import accuracy_score\n",
        "from sklearn.dummy import DummyClassifier"
      ]
    },
    {
      "cell_type": "code",
      "execution_count": null,
      "metadata": {
        "id": "c9wb7ib-poLz",
        "outputId": "355b251d-20c7-43db-ad77-ebdce5add47b",
        "colab": {
          "base_uri": "https://localhost:8080/",
          "height": 424
        }
      },
      "outputs": [
        {
          "output_type": "execute_result",
          "data": {
            "text/plain": [
              "      calls  minutes  messages   mb_used  is_ultra\n",
              "0      40.0   311.90      83.0  19915.42         0\n",
              "1      85.0   516.75      56.0  22696.96         0\n",
              "2      77.0   467.66      86.0  21060.45         0\n",
              "3     106.0   745.53      81.0   8437.39         1\n",
              "4      66.0   418.74       1.0  14502.75         0\n",
              "...     ...      ...       ...       ...       ...\n",
              "3209  122.0   910.98      20.0  35124.90         1\n",
              "3210   25.0   190.36       0.0   3275.61         0\n",
              "3211   97.0   634.44      70.0  13974.06         0\n",
              "3212   64.0   462.32      90.0  31239.78         0\n",
              "3213   80.0   566.09       6.0  29480.52         1\n",
              "\n",
              "[3214 rows x 5 columns]"
            ],
            "text/html": [
              "\n",
              "  <div id=\"df-ec64a9d5-525b-4896-a3c4-b7f3ca9b7b83\">\n",
              "    <div class=\"colab-df-container\">\n",
              "      <div>\n",
              "<style scoped>\n",
              "    .dataframe tbody tr th:only-of-type {\n",
              "        vertical-align: middle;\n",
              "    }\n",
              "\n",
              "    .dataframe tbody tr th {\n",
              "        vertical-align: top;\n",
              "    }\n",
              "\n",
              "    .dataframe thead th {\n",
              "        text-align: right;\n",
              "    }\n",
              "</style>\n",
              "<table border=\"1\" class=\"dataframe\">\n",
              "  <thead>\n",
              "    <tr style=\"text-align: right;\">\n",
              "      <th></th>\n",
              "      <th>calls</th>\n",
              "      <th>minutes</th>\n",
              "      <th>messages</th>\n",
              "      <th>mb_used</th>\n",
              "      <th>is_ultra</th>\n",
              "    </tr>\n",
              "  </thead>\n",
              "  <tbody>\n",
              "    <tr>\n",
              "      <th>0</th>\n",
              "      <td>40.0</td>\n",
              "      <td>311.90</td>\n",
              "      <td>83.0</td>\n",
              "      <td>19915.42</td>\n",
              "      <td>0</td>\n",
              "    </tr>\n",
              "    <tr>\n",
              "      <th>1</th>\n",
              "      <td>85.0</td>\n",
              "      <td>516.75</td>\n",
              "      <td>56.0</td>\n",
              "      <td>22696.96</td>\n",
              "      <td>0</td>\n",
              "    </tr>\n",
              "    <tr>\n",
              "      <th>2</th>\n",
              "      <td>77.0</td>\n",
              "      <td>467.66</td>\n",
              "      <td>86.0</td>\n",
              "      <td>21060.45</td>\n",
              "      <td>0</td>\n",
              "    </tr>\n",
              "    <tr>\n",
              "      <th>3</th>\n",
              "      <td>106.0</td>\n",
              "      <td>745.53</td>\n",
              "      <td>81.0</td>\n",
              "      <td>8437.39</td>\n",
              "      <td>1</td>\n",
              "    </tr>\n",
              "    <tr>\n",
              "      <th>4</th>\n",
              "      <td>66.0</td>\n",
              "      <td>418.74</td>\n",
              "      <td>1.0</td>\n",
              "      <td>14502.75</td>\n",
              "      <td>0</td>\n",
              "    </tr>\n",
              "    <tr>\n",
              "      <th>...</th>\n",
              "      <td>...</td>\n",
              "      <td>...</td>\n",
              "      <td>...</td>\n",
              "      <td>...</td>\n",
              "      <td>...</td>\n",
              "    </tr>\n",
              "    <tr>\n",
              "      <th>3209</th>\n",
              "      <td>122.0</td>\n",
              "      <td>910.98</td>\n",
              "      <td>20.0</td>\n",
              "      <td>35124.90</td>\n",
              "      <td>1</td>\n",
              "    </tr>\n",
              "    <tr>\n",
              "      <th>3210</th>\n",
              "      <td>25.0</td>\n",
              "      <td>190.36</td>\n",
              "      <td>0.0</td>\n",
              "      <td>3275.61</td>\n",
              "      <td>0</td>\n",
              "    </tr>\n",
              "    <tr>\n",
              "      <th>3211</th>\n",
              "      <td>97.0</td>\n",
              "      <td>634.44</td>\n",
              "      <td>70.0</td>\n",
              "      <td>13974.06</td>\n",
              "      <td>0</td>\n",
              "    </tr>\n",
              "    <tr>\n",
              "      <th>3212</th>\n",
              "      <td>64.0</td>\n",
              "      <td>462.32</td>\n",
              "      <td>90.0</td>\n",
              "      <td>31239.78</td>\n",
              "      <td>0</td>\n",
              "    </tr>\n",
              "    <tr>\n",
              "      <th>3213</th>\n",
              "      <td>80.0</td>\n",
              "      <td>566.09</td>\n",
              "      <td>6.0</td>\n",
              "      <td>29480.52</td>\n",
              "      <td>1</td>\n",
              "    </tr>\n",
              "  </tbody>\n",
              "</table>\n",
              "<p>3214 rows × 5 columns</p>\n",
              "</div>\n",
              "      <button class=\"colab-df-convert\" onclick=\"convertToInteractive('df-ec64a9d5-525b-4896-a3c4-b7f3ca9b7b83')\"\n",
              "              title=\"Convert this dataframe to an interactive table.\"\n",
              "              style=\"display:none;\">\n",
              "        \n",
              "  <svg xmlns=\"http://www.w3.org/2000/svg\" height=\"24px\"viewBox=\"0 0 24 24\"\n",
              "       width=\"24px\">\n",
              "    <path d=\"M0 0h24v24H0V0z\" fill=\"none\"/>\n",
              "    <path d=\"M18.56 5.44l.94 2.06.94-2.06 2.06-.94-2.06-.94-.94-2.06-.94 2.06-2.06.94zm-11 1L8.5 8.5l.94-2.06 2.06-.94-2.06-.94L8.5 2.5l-.94 2.06-2.06.94zm10 10l.94 2.06.94-2.06 2.06-.94-2.06-.94-.94-2.06-.94 2.06-2.06.94z\"/><path d=\"M17.41 7.96l-1.37-1.37c-.4-.4-.92-.59-1.43-.59-.52 0-1.04.2-1.43.59L10.3 9.45l-7.72 7.72c-.78.78-.78 2.05 0 2.83L4 21.41c.39.39.9.59 1.41.59.51 0 1.02-.2 1.41-.59l7.78-7.78 2.81-2.81c.8-.78.8-2.07 0-2.86zM5.41 20L4 18.59l7.72-7.72 1.47 1.35L5.41 20z\"/>\n",
              "  </svg>\n",
              "      </button>\n",
              "      \n",
              "  <style>\n",
              "    .colab-df-container {\n",
              "      display:flex;\n",
              "      flex-wrap:wrap;\n",
              "      gap: 12px;\n",
              "    }\n",
              "\n",
              "    .colab-df-convert {\n",
              "      background-color: #E8F0FE;\n",
              "      border: none;\n",
              "      border-radius: 50%;\n",
              "      cursor: pointer;\n",
              "      display: none;\n",
              "      fill: #1967D2;\n",
              "      height: 32px;\n",
              "      padding: 0 0 0 0;\n",
              "      width: 32px;\n",
              "    }\n",
              "\n",
              "    .colab-df-convert:hover {\n",
              "      background-color: #E2EBFA;\n",
              "      box-shadow: 0px 1px 2px rgba(60, 64, 67, 0.3), 0px 1px 3px 1px rgba(60, 64, 67, 0.15);\n",
              "      fill: #174EA6;\n",
              "    }\n",
              "\n",
              "    [theme=dark] .colab-df-convert {\n",
              "      background-color: #3B4455;\n",
              "      fill: #D2E3FC;\n",
              "    }\n",
              "\n",
              "    [theme=dark] .colab-df-convert:hover {\n",
              "      background-color: #434B5C;\n",
              "      box-shadow: 0px 1px 3px 1px rgba(0, 0, 0, 0.15);\n",
              "      filter: drop-shadow(0px 1px 2px rgba(0, 0, 0, 0.3));\n",
              "      fill: #FFFFFF;\n",
              "    }\n",
              "  </style>\n",
              "\n",
              "      <script>\n",
              "        const buttonEl =\n",
              "          document.querySelector('#df-ec64a9d5-525b-4896-a3c4-b7f3ca9b7b83 button.colab-df-convert');\n",
              "        buttonEl.style.display =\n",
              "          google.colab.kernel.accessAllowed ? 'block' : 'none';\n",
              "\n",
              "        async function convertToInteractive(key) {\n",
              "          const element = document.querySelector('#df-ec64a9d5-525b-4896-a3c4-b7f3ca9b7b83');\n",
              "          const dataTable =\n",
              "            await google.colab.kernel.invokeFunction('convertToInteractive',\n",
              "                                                     [key], {});\n",
              "          if (!dataTable) return;\n",
              "\n",
              "          const docLinkHtml = 'Like what you see? Visit the ' +\n",
              "            '<a target=\"_blank\" href=https://colab.research.google.com/notebooks/data_table.ipynb>data table notebook</a>'\n",
              "            + ' to learn more about interactive tables.';\n",
              "          element.innerHTML = '';\n",
              "          dataTable['output_type'] = 'display_data';\n",
              "          await google.colab.output.renderOutput(dataTable, element);\n",
              "          const docLink = document.createElement('div');\n",
              "          docLink.innerHTML = docLinkHtml;\n",
              "          element.appendChild(docLink);\n",
              "        }\n",
              "      </script>\n",
              "    </div>\n",
              "  </div>\n",
              "  "
            ]
          },
          "metadata": {},
          "execution_count": 2
        }
      ],
      "source": [
        "df = pd.read_csv('/content/users_behavior.csv')\n",
        "df"
      ]
    },
    {
      "cell_type": "markdown",
      "metadata": {
        "id": "5evO0_aSpoL0"
      },
      "source": [
        "Выведем таблицу на экран, проверим есть ли пропуски в data frame"
      ]
    },
    {
      "cell_type": "code",
      "execution_count": null,
      "metadata": {
        "id": "SZUumKAkpoL1",
        "outputId": "08b03643-2464-4bd5-e301-2686c978ea46",
        "colab": {
          "base_uri": "https://localhost:8080/"
        }
      },
      "outputs": [
        {
          "output_type": "stream",
          "name": "stdout",
          "text": [
            "<class 'pandas.core.frame.DataFrame'>\n",
            "RangeIndex: 3214 entries, 0 to 3213\n",
            "Data columns (total 5 columns):\n",
            " #   Column    Non-Null Count  Dtype  \n",
            "---  ------    --------------  -----  \n",
            " 0   calls     3214 non-null   float64\n",
            " 1   minutes   3214 non-null   float64\n",
            " 2   messages  3214 non-null   float64\n",
            " 3   mb_used   3214 non-null   float64\n",
            " 4   is_ultra  3214 non-null   int64  \n",
            "dtypes: float64(4), int64(1)\n",
            "memory usage: 125.7 KB\n"
          ]
        }
      ],
      "source": [
        "df.info()"
      ]
    },
    {
      "cell_type": "code",
      "execution_count": null,
      "metadata": {
        "scrolled": true,
        "id": "mEMJQZ_IpoL2",
        "outputId": "89eb0b61-2d7f-41e3-a703-30616d9c7fe9",
        "colab": {
          "base_uri": "https://localhost:8080/",
          "height": 206
        }
      },
      "outputs": [
        {
          "output_type": "execute_result",
          "data": {
            "text/plain": [
              "          missing_values  % of total\n",
              "calls                  0         0.0\n",
              "minutes                0         0.0\n",
              "messages               0         0.0\n",
              "mb_used                0         0.0\n",
              "is_ultra               0         0.0"
            ],
            "text/html": [
              "\n",
              "  <div id=\"df-8de11026-5b92-43ab-a01c-cec9b0bcccec\">\n",
              "    <div class=\"colab-df-container\">\n",
              "      <div>\n",
              "<style scoped>\n",
              "    .dataframe tbody tr th:only-of-type {\n",
              "        vertical-align: middle;\n",
              "    }\n",
              "\n",
              "    .dataframe tbody tr th {\n",
              "        vertical-align: top;\n",
              "    }\n",
              "\n",
              "    .dataframe thead th {\n",
              "        text-align: right;\n",
              "    }\n",
              "</style>\n",
              "<table border=\"1\" class=\"dataframe\">\n",
              "  <thead>\n",
              "    <tr style=\"text-align: right;\">\n",
              "      <th></th>\n",
              "      <th>missing_values</th>\n",
              "      <th>% of total</th>\n",
              "    </tr>\n",
              "  </thead>\n",
              "  <tbody>\n",
              "    <tr>\n",
              "      <th>calls</th>\n",
              "      <td>0</td>\n",
              "      <td>0.0</td>\n",
              "    </tr>\n",
              "    <tr>\n",
              "      <th>minutes</th>\n",
              "      <td>0</td>\n",
              "      <td>0.0</td>\n",
              "    </tr>\n",
              "    <tr>\n",
              "      <th>messages</th>\n",
              "      <td>0</td>\n",
              "      <td>0.0</td>\n",
              "    </tr>\n",
              "    <tr>\n",
              "      <th>mb_used</th>\n",
              "      <td>0</td>\n",
              "      <td>0.0</td>\n",
              "    </tr>\n",
              "    <tr>\n",
              "      <th>is_ultra</th>\n",
              "      <td>0</td>\n",
              "      <td>0.0</td>\n",
              "    </tr>\n",
              "  </tbody>\n",
              "</table>\n",
              "</div>\n",
              "      <button class=\"colab-df-convert\" onclick=\"convertToInteractive('df-8de11026-5b92-43ab-a01c-cec9b0bcccec')\"\n",
              "              title=\"Convert this dataframe to an interactive table.\"\n",
              "              style=\"display:none;\">\n",
              "        \n",
              "  <svg xmlns=\"http://www.w3.org/2000/svg\" height=\"24px\"viewBox=\"0 0 24 24\"\n",
              "       width=\"24px\">\n",
              "    <path d=\"M0 0h24v24H0V0z\" fill=\"none\"/>\n",
              "    <path d=\"M18.56 5.44l.94 2.06.94-2.06 2.06-.94-2.06-.94-.94-2.06-.94 2.06-2.06.94zm-11 1L8.5 8.5l.94-2.06 2.06-.94-2.06-.94L8.5 2.5l-.94 2.06-2.06.94zm10 10l.94 2.06.94-2.06 2.06-.94-2.06-.94-.94-2.06-.94 2.06-2.06.94z\"/><path d=\"M17.41 7.96l-1.37-1.37c-.4-.4-.92-.59-1.43-.59-.52 0-1.04.2-1.43.59L10.3 9.45l-7.72 7.72c-.78.78-.78 2.05 0 2.83L4 21.41c.39.39.9.59 1.41.59.51 0 1.02-.2 1.41-.59l7.78-7.78 2.81-2.81c.8-.78.8-2.07 0-2.86zM5.41 20L4 18.59l7.72-7.72 1.47 1.35L5.41 20z\"/>\n",
              "  </svg>\n",
              "      </button>\n",
              "      \n",
              "  <style>\n",
              "    .colab-df-container {\n",
              "      display:flex;\n",
              "      flex-wrap:wrap;\n",
              "      gap: 12px;\n",
              "    }\n",
              "\n",
              "    .colab-df-convert {\n",
              "      background-color: #E8F0FE;\n",
              "      border: none;\n",
              "      border-radius: 50%;\n",
              "      cursor: pointer;\n",
              "      display: none;\n",
              "      fill: #1967D2;\n",
              "      height: 32px;\n",
              "      padding: 0 0 0 0;\n",
              "      width: 32px;\n",
              "    }\n",
              "\n",
              "    .colab-df-convert:hover {\n",
              "      background-color: #E2EBFA;\n",
              "      box-shadow: 0px 1px 2px rgba(60, 64, 67, 0.3), 0px 1px 3px 1px rgba(60, 64, 67, 0.15);\n",
              "      fill: #174EA6;\n",
              "    }\n",
              "\n",
              "    [theme=dark] .colab-df-convert {\n",
              "      background-color: #3B4455;\n",
              "      fill: #D2E3FC;\n",
              "    }\n",
              "\n",
              "    [theme=dark] .colab-df-convert:hover {\n",
              "      background-color: #434B5C;\n",
              "      box-shadow: 0px 1px 3px 1px rgba(0, 0, 0, 0.15);\n",
              "      filter: drop-shadow(0px 1px 2px rgba(0, 0, 0, 0.3));\n",
              "      fill: #FFFFFF;\n",
              "    }\n",
              "  </style>\n",
              "\n",
              "      <script>\n",
              "        const buttonEl =\n",
              "          document.querySelector('#df-8de11026-5b92-43ab-a01c-cec9b0bcccec button.colab-df-convert');\n",
              "        buttonEl.style.display =\n",
              "          google.colab.kernel.accessAllowed ? 'block' : 'none';\n",
              "\n",
              "        async function convertToInteractive(key) {\n",
              "          const element = document.querySelector('#df-8de11026-5b92-43ab-a01c-cec9b0bcccec');\n",
              "          const dataTable =\n",
              "            await google.colab.kernel.invokeFunction('convertToInteractive',\n",
              "                                                     [key], {});\n",
              "          if (!dataTable) return;\n",
              "\n",
              "          const docLinkHtml = 'Like what you see? Visit the ' +\n",
              "            '<a target=\"_blank\" href=https://colab.research.google.com/notebooks/data_table.ipynb>data table notebook</a>'\n",
              "            + ' to learn more about interactive tables.';\n",
              "          element.innerHTML = '';\n",
              "          dataTable['output_type'] = 'display_data';\n",
              "          await google.colab.output.renderOutput(dataTable, element);\n",
              "          const docLink = document.createElement('div');\n",
              "          docLink.innerHTML = docLinkHtml;\n",
              "          element.appendChild(docLink);\n",
              "        }\n",
              "      </script>\n",
              "    </div>\n",
              "  </div>\n",
              "  "
            ]
          },
          "metadata": {},
          "execution_count": 4
        }
      ],
      "source": [
        "report = df.isna().sum().to_frame()\n",
        "report = report.rename(columns={0: 'missing_values'})\n",
        "report['% of total'] = (report['missing_values'] / df.shape[0]).round(2)\n",
        "report.sort_values(by='missing_values', ascending=False)"
      ]
    },
    {
      "cell_type": "markdown",
      "metadata": {
        "id": "zrkWexHypoL2"
      },
      "source": [
        "Мы отметили, что пропуски отсутствуют, можем переходить к изучению моделей"
      ]
    },
    {
      "cell_type": "code",
      "execution_count": null,
      "metadata": {
        "id": "V3T9YRZMpoL5",
        "outputId": "f36aa6ef-6660-416f-b01c-4f10e40a20a2",
        "colab": {
          "base_uri": "https://localhost:8080/",
          "height": 683
        }
      },
      "outputs": [
        {
          "output_type": "display_data",
          "data": {
            "text/plain": [
              "<Figure size 960x800 with 2 Axes>"
            ],
            "image/png": "[encoded data removed]"
          },
          "metadata": {
            "needs_background": "light"
          }
        }
      ],
      "source": [
        "plt.figure(figsize=(12,10), dpi=80)\n",
        "sns.heatmap(\n",
        "    df[['calls','minutes','messages','mb_used']].corr(), \n",
        "    xticklabels=df[['calls','minutes','messages','mb_used']].corr().columns,\n",
        "    yticklabels=df[['calls','minutes','messages','mb_used']].corr().columns, \n",
        "    cmap='RdYlGn', center=0, annot=True\n",
        "    )\n",
        "\n",
        "plt.title('Корреляция', fontsize=22)\n",
        "plt.xticks(fontsize=12)\n",
        "plt.yticks(fontsize=12)\n",
        "plt.show()"
      ]
    },
    {
      "cell_type": "markdown",
      "metadata": {
        "id": "jxOKc9mcpoL7"
      },
      "source": [
        "## Разбейте данные на выборки"
      ]
    },
    {
      "cell_type": "markdown",
      "metadata": {
        "id": "achOypEypoL7"
      },
      "source": [
        "Первоначально разобьем таблицу на 3 выборки: тренерующую, валидационную, тестовую: 60/20/20."
      ]
    },
    {
      "cell_type": "code",
      "execution_count": null,
      "metadata": {
        "id": "-C7Z0ykZpoL7",
        "outputId": "2ef09359-4003-4df0-988c-fbfcd5f38a76",
        "colab": {
          "base_uri": "https://localhost:8080/"
        }
      },
      "outputs": [
        {
          "output_type": "stream",
          "name": "stdout",
          "text": [
            "Размер тренировочной выборки 1928\n",
            "Размер валидационной выборки 643\n",
            "Размер тестовой выборки 643\n"
          ]
        }
      ],
      "source": [
        "train_tariff_data, valid_tariff_data = train_test_split(\n",
        "    df, test_size=0.4, random_state=42\n",
        "    )\n",
        "\n",
        "valid_tariff_data, test_tariff_data = train_test_split(\n",
        "    valid_tariff_data, test_size=0.5, random_state=42\n",
        "    )\n",
        "\n",
        "print('Размер тренировочной выборки', train_tariff_data.shape[0])\n",
        "print('Размер валидационной выборки', valid_tariff_data.shape[0])\n",
        "print('Размер тестовой выборки', test_tariff_data.shape[0])"
      ]
    },
    {
      "cell_type": "markdown",
      "metadata": {
        "id": "s4fYZXA0poL8"
      },
      "source": [
        "Модель будет обучена на тренировочной выборке (train_tariff_data)\n",
        "Валидация модели пройдет на валидационной выборке (valid_tariff_data)\n",
        "После этого проверим работу моделей на тестовой выборке (test_tariff_data)"
      ]
    },
    {
      "cell_type": "markdown",
      "metadata": {
        "id": "CitZmK5QpoL8"
      },
      "source": [
        "## Исследуйте модели"
      ]
    },
    {
      "cell_type": "markdown",
      "metadata": {
        "id": "2jkSDHQZpoL8"
      },
      "source": [
        "Исследуем качество разных моделей (Случайный лес, Решающий лес). "
      ]
    },
    {
      "cell_type": "code",
      "execution_count": null,
      "metadata": {
        "id": "REc-3TOTpoL9"
      },
      "outputs": [],
      "source": [
        "train_features = train_tariff_data.drop(['is_ultra', 'minutes'], axis=1)\n",
        "train_target = train_tariff_data['is_ultra']\n",
        "\n",
        "valid_features = valid_tariff_data.drop(['is_ultra', 'minutes'], axis=1)\n",
        "valid_target = valid_tariff_data['is_ultra']\n",
        "\n",
        "test_features = test_tariff_data.drop(['is_ultra', 'minutes'], axis=1)\n",
        "test_target = test_tariff_data['is_ultra']"
      ]
    },
    {
      "cell_type": "markdown",
      "metadata": {
        "id": "H5TdKcdHpoL9"
      },
      "source": [
        "Выделим целевой признак в каждой выборке: в нашем случае это столбец \"is_ultra\""
      ]
    },
    {
      "cell_type": "markdown",
      "metadata": {
        "id": "omd2uOCvpoL9"
      },
      "source": [
        "Начнем с модели \"Случайный лес\". Попробуем найти лучшую accuracy. "
      ]
    },
    {
      "cell_type": "code",
      "execution_count": null,
      "metadata": {
        "scrolled": true,
        "id": "9jRSHJgfpoL9",
        "outputId": "7824c7e6-d918-4541-b405-58859396c1ae",
        "colab": {
          "base_uri": "https://localhost:8080/"
        }
      },
      "outputs": [
        {
          "output_type": "stream",
          "name": "stdout",
          "text": [
            "Количество деревьев 38 Лучшая точность 0.8102643856920684\n",
            "\n"
          ]
        },
        {
          "output_type": "execute_result",
          "data": {
            "text/plain": [
              "RandomForestClassifier(n_estimators=49, random_state=42)"
            ]
          },
          "metadata": {},
          "execution_count": 8
        }
      ],
      "source": [
        "best_est = 0\n",
        "best_accuracy = 0\n",
        "\n",
        "for est in range(1,50):\n",
        "    model = RandomForestClassifier(random_state=42, n_estimators=est)\n",
        "    model.fit(train_features, train_target)\n",
        "    valid_predictions = model.predict(valid_features)\n",
        "    accuracy = accuracy_score(valid_target, valid_predictions)\n",
        "\n",
        "    if accuracy > best_accuracy:\n",
        "        best_est = est\n",
        "        best_accuracy = accuracy\n",
        "\n",
        "print('Количество деревьев', best_est,'Лучшая точность', best_accuracy)\n",
        "print()\n",
        "model"
      ]
    },
    {
      "cell_type": "markdown",
      "metadata": {
        "id": "YW_wKJH1poL9"
      },
      "source": [
        "Перейдем к моделе \"Решающего леса\""
      ]
    },
    {
      "cell_type": "code",
      "execution_count": null,
      "metadata": {
        "scrolled": true,
        "id": "1gT59GzXpoL-",
        "outputId": "8b0fc784-fd23-4402-d7a2-02f4eaaddb30",
        "colab": {
          "base_uri": "https://localhost:8080/"
        }
      },
      "outputs": [
        {
          "output_type": "stream",
          "name": "stdout",
          "text": [
            "Лучшая глубина дерева 8 Лучшая точность на валидационной выборке 0.8133748055987559\n",
            "\n"
          ]
        },
        {
          "output_type": "execute_result",
          "data": {
            "text/plain": [
              "DecisionTreeClassifier(max_depth=29, random_state=42)"
            ]
          },
          "metadata": {},
          "execution_count": 9
        }
      ],
      "source": [
        "best_depth = 0\n",
        "best_accuracy = 0\n",
        "\n",
        "for depth in range(1,30):\n",
        "    model_2 = DecisionTreeClassifier(random_state=42, max_depth=depth)\n",
        "    model_2.fit(train_features, train_target)\n",
        "    valid_predictions = model_2.predict(valid_features)\n",
        "    accuracy = accuracy_score(valid_target, valid_predictions)\n",
        "    \n",
        "    if accuracy > best_accuracy:\n",
        "        best_depth = depth\n",
        "        best_accuracy = accuracy\n",
        "\n",
        "print('Лучшая глубина дерева', best_depth,'Лучшая точность на валидационной выборке', best_accuracy)\n",
        "print()\n",
        "model_2"
      ]
    },
    {
      "cell_type": "markdown",
      "metadata": {
        "id": "M1SL4cw2poL-"
      },
      "source": [
        "Модель \"Решающего леса\" показала себя хуже, попробуем улучшить ее. Из библиотеки нашли дополнительный параметр, который можно поменять: criterion = \"entropy\" (до этого по умолчанию стоял \"gini\")"
      ]
    },
    {
      "cell_type": "code",
      "execution_count": null,
      "metadata": {
        "id": "MUW4ZUI9poL-",
        "outputId": "a8e15de5-2e6a-4ef7-bd53-eb74b3ac3a0a",
        "colab": {
          "base_uri": "https://localhost:8080/"
        }
      },
      "outputs": [
        {
          "output_type": "stream",
          "name": "stdout",
          "text": [
            "Глубина дерева 8 Точность 0.8009331259720062\n"
          ]
        }
      ],
      "source": [
        "best_tree_model = DecisionTreeClassifier(random_state=42, max_depth=8, criterion='entropy')\n",
        "best_tree_model.fit(train_features, train_target)\n",
        "valid_predictions = best_tree_model.predict(valid_features)\n",
        "accuracy = accuracy_score(valid_target, valid_predictions)\n",
        "print('Глубина дерева', 8,'Точность',accuracy)"
      ]
    },
    {
      "cell_type": "markdown",
      "metadata": {
        "id": "c3ZPZq57poL_"
      },
      "source": [
        "Изменений в лучшую сторону не произошло, оставляем критерий gini"
      ]
    },
    {
      "cell_type": "markdown",
      "metadata": {
        "id": "UPwfNoRopoL_"
      },
      "source": [
        "В ходе исследования мы получили следующие результаты:\n",
        "\n",
        "1) Accuracy модели решающего дерева при глубине 8 равна 0.796.\n",
        "\n",
        "\n",
        "2) Accuracy модели случайного леса при количестве деревьев 38 равна 0.799. \n",
        "\n",
        "Мы видим, что разницы в Accuracy почти нет, начнем переходить к тестовой выборке.\n"
      ]
    },
    {
      "cell_type": "markdown",
      "metadata": {
        "id": "o1z06ecLpoL_"
      },
      "source": [
        "## Проверьте модель на тестовой выборке"
      ]
    },
    {
      "cell_type": "code",
      "execution_count": null,
      "metadata": {
        "id": "ykxWQjjApoL_",
        "outputId": "26e0158d-4550-4fff-d0ca-512143746812",
        "colab": {
          "base_uri": "https://localhost:8080/"
        }
      },
      "outputs": [
        {
          "output_type": "stream",
          "name": "stdout",
          "text": [
            "Accuracy модели решающего леса на тестовой выборке 0.7931570762052877\n",
            "CPU times: user 11 ms, sys: 2.06 ms, total: 13 ms\n",
            "Wall time: 12.1 ms\n"
          ]
        }
      ],
      "source": [
        "%%time\n",
        "best_tree_model = DecisionTreeClassifier(random_state=42, max_depth=8, criterion='gini')\n",
        "best_tree_model.fit(train_features, train_target)\n",
        "test_predictions = best_tree_model.predict(test_features)\n",
        "accuracy = accuracy_score(test_target, test_predictions)\n",
        "print('Accuracy модели решающего леса на тестовой выборке',accuracy)"
      ]
    },
    {
      "cell_type": "code",
      "execution_count": null,
      "metadata": {
        "id": "V0K0Dp54poMA",
        "outputId": "14309db1-f7d1-4c01-8189-10df6d110bcf",
        "colab": {
          "base_uri": "https://localhost:8080/"
        }
      },
      "outputs": [
        {
          "output_type": "stream",
          "name": "stdout",
          "text": [
            "Accuracy модели случайного леса на тестовой выборке 0.8195956454121306\n",
            "CPU times: user 151 ms, sys: 1.86 ms, total: 153 ms\n",
            "Wall time: 153 ms\n"
          ]
        }
      ],
      "source": [
        "%%time\n",
        "best_random_model = RandomForestClassifier(random_state=42, n_estimators=38) \n",
        "best_random_model.fit(train_features, train_target)\n",
        "test_predictions_1 = best_random_model.predict(test_features)\n",
        "accuracy_1 = accuracy_score(test_target, test_predictions_1)\n",
        "print('Accuracy модели случайного леса на тестовой выборке',accuracy_1)"
      ]
    },
    {
      "cell_type": "markdown",
      "metadata": {
        "id": "zR5afDz0poMA"
      },
      "source": [
        "Обе модели показали Accuracy более 0.75. Кроме того, мы добавили функцию для определения времени. Accuracy модели \"Случайного леса\" выше (Accuracy составила 0.811), однако по затраченному времени побеждает модель \"Решающего дерева\". "
      ]
    },
    {
      "cell_type": "markdown",
      "metadata": {
        "id": "ftpdRnMNpoMB"
      },
      "source": [
        "## (бонус) Проверьте модели на адекватность"
      ]
    },
    {
      "cell_type": "markdown",
      "metadata": {
        "id": "QJxuFZNXpoMB"
      },
      "source": [
        "Для того, чтобы проверить нашу лучшую модель Случайного леса на адекватность, сравним ее со случайной моделью (DummyClassifier)"
      ]
    },
    {
      "cell_type": "code",
      "execution_count": null,
      "metadata": {
        "id": "APmh2zpCpoMC",
        "outputId": "ae8e7243-febe-474f-84e5-1e7af22dcb05",
        "colab": {
          "base_uri": "https://localhost:8080/"
        }
      },
      "outputs": [
        {
          "output_type": "stream",
          "name": "stdout",
          "text": [
            "Accuracy случайной модели на тестовой выборке 0.6967340590979783\n",
            "CPU times: user 3.78 ms, sys: 50 µs, total: 3.83 ms\n",
            "Wall time: 3.53 ms\n"
          ]
        }
      ],
      "source": [
        "%%time\n",
        "dummy_model = DummyClassifier(random_state=42)\n",
        "dummy_model.fit(train_features, train_target)\n",
        "dummy_predictions = dummy_model.predict(test_features)\n",
        "accuracy_2 = accuracy_score(test_target, dummy_predictions)\n",
        "print('Accuracy случайной модели на тестовой выборке',accuracy_2)"
      ]
    },
    {
      "cell_type": "markdown",
      "metadata": {
        "id": "8vycKFyYpoMC"
      },
      "source": [
        "Случайная модель показала результат хуже чем наша(0.58 против 0.81), можем заявить, что наша модель предсказывет лучше."
      ]
    },
    {
      "cell_type": "markdown",
      "metadata": {
        "id": "HNx_L-0lpoMC"
      },
      "source": [
        "<div class=\"alert alert-block alert-info\">\n",
        "По поводу  most_frequent': правильно ли я понял, что здесь необходимо использовать функцию def most_frequent(List):? Нашел в документации только ее."
      ]
    },
    {
      "cell_type": "code",
      "execution_count": null,
      "metadata": {
        "id": "eBFz8iJipoMD",
        "outputId": "a095df3f-ffdd-473f-bdfa-c6fe70881e58",
        "colab": {
          "base_uri": "https://localhost:8080/",
          "height": 144
        }
      },
      "outputs": [
        {
          "output_type": "execute_result",
          "data": {
            "text/plain": [
              "   stratified  most_frequent   uniform\n",
              "0    0.584759            NaN       NaN\n",
              "1         NaN       0.696734       NaN\n",
              "2         NaN            NaN  0.510109"
            ],
            "text/html": [
              "\n",
              "  <div id=\"df-e39d225c-0b87-4260-80b3-212153930507\">\n",
              "    <div class=\"colab-df-container\">\n",
              "      <div>\n",
              "<style scoped>\n",
              "    .dataframe tbody tr th:only-of-type {\n",
              "        vertical-align: middle;\n",
              "    }\n",
              "\n",
              "    .dataframe tbody tr th {\n",
              "        vertical-align: top;\n",
              "    }\n",
              "\n",
              "    .dataframe thead th {\n",
              "        text-align: right;\n",
              "    }\n",
              "</style>\n",
              "<table border=\"1\" class=\"dataframe\">\n",
              "  <thead>\n",
              "    <tr style=\"text-align: right;\">\n",
              "      <th></th>\n",
              "      <th>stratified</th>\n",
              "      <th>most_frequent</th>\n",
              "      <th>uniform</th>\n",
              "    </tr>\n",
              "  </thead>\n",
              "  <tbody>\n",
              "    <tr>\n",
              "      <th>0</th>\n",
              "      <td>0.584759</td>\n",
              "      <td>NaN</td>\n",
              "      <td>NaN</td>\n",
              "    </tr>\n",
              "    <tr>\n",
              "      <th>1</th>\n",
              "      <td>NaN</td>\n",
              "      <td>0.696734</td>\n",
              "      <td>NaN</td>\n",
              "    </tr>\n",
              "    <tr>\n",
              "      <th>2</th>\n",
              "      <td>NaN</td>\n",
              "      <td>NaN</td>\n",
              "      <td>0.510109</td>\n",
              "    </tr>\n",
              "  </tbody>\n",
              "</table>\n",
              "</div>\n",
              "      <button class=\"colab-df-convert\" onclick=\"convertToInteractive('df-e39d225c-0b87-4260-80b3-212153930507')\"\n",
              "              title=\"Convert this dataframe to an interactive table.\"\n",
              "              style=\"display:none;\">\n",
              "        \n",
              "  <svg xmlns=\"http://www.w3.org/2000/svg\" height=\"24px\"viewBox=\"0 0 24 24\"\n",
              "       width=\"24px\">\n",
              "    <path d=\"M0 0h24v24H0V0z\" fill=\"none\"/>\n",
              "    <path d=\"M18.56 5.44l.94 2.06.94-2.06 2.06-.94-2.06-.94-.94-2.06-.94 2.06-2.06.94zm-11 1L8.5 8.5l.94-2.06 2.06-.94-2.06-.94L8.5 2.5l-.94 2.06-2.06.94zm10 10l.94 2.06.94-2.06 2.06-.94-2.06-.94-.94-2.06-.94 2.06-2.06.94z\"/><path d=\"M17.41 7.96l-1.37-1.37c-.4-.4-.92-.59-1.43-.59-.52 0-1.04.2-1.43.59L10.3 9.45l-7.72 7.72c-.78.78-.78 2.05 0 2.83L4 21.41c.39.39.9.59 1.41.59.51 0 1.02-.2 1.41-.59l7.78-7.78 2.81-2.81c.8-.78.8-2.07 0-2.86zM5.41 20L4 18.59l7.72-7.72 1.47 1.35L5.41 20z\"/>\n",
              "  </svg>\n",
              "      </button>\n",
              "      \n",
              "  <style>\n",
              "    .colab-df-container {\n",
              "      display:flex;\n",
              "      flex-wrap:wrap;\n",
              "      gap: 12px;\n",
              "    }\n",
              "\n",
              "    .colab-df-convert {\n",
              "      background-color: #E8F0FE;\n",
              "      border: none;\n",
              "      border-radius: 50%;\n",
              "      cursor: pointer;\n",
              "      display: none;\n",
              "      fill: #1967D2;\n",
              "      height: 32px;\n",
              "      padding: 0 0 0 0;\n",
              "      width: 32px;\n",
              "    }\n",
              "\n",
              "    .colab-df-convert:hover {\n",
              "      background-color: #E2EBFA;\n",
              "      box-shadow: 0px 1px 2px rgba(60, 64, 67, 0.3), 0px 1px 3px 1px rgba(60, 64, 67, 0.15);\n",
              "      fill: #174EA6;\n",
              "    }\n",
              "\n",
              "    [theme=dark] .colab-df-convert {\n",
              "      background-color: #3B4455;\n",
              "      fill: #D2E3FC;\n",
              "    }\n",
              "\n",
              "    [theme=dark] .colab-df-convert:hover {\n",
              "      background-color: #434B5C;\n",
              "      box-shadow: 0px 1px 3px 1px rgba(0, 0, 0, 0.15);\n",
              "      filter: drop-shadow(0px 1px 2px rgba(0, 0, 0, 0.3));\n",
              "      fill: #FFFFFF;\n",
              "    }\n",
              "  </style>\n",
              "\n",
              "      <script>\n",
              "        const buttonEl =\n",
              "          document.querySelector('#df-e39d225c-0b87-4260-80b3-212153930507 button.colab-df-convert');\n",
              "        buttonEl.style.display =\n",
              "          google.colab.kernel.accessAllowed ? 'block' : 'none';\n",
              "\n",
              "        async function convertToInteractive(key) {\n",
              "          const element = document.querySelector('#df-e39d225c-0b87-4260-80b3-212153930507');\n",
              "          const dataTable =\n",
              "            await google.colab.kernel.invokeFunction('convertToInteractive',\n",
              "                                                     [key], {});\n",
              "          if (!dataTable) return;\n",
              "\n",
              "          const docLinkHtml = 'Like what you see? Visit the ' +\n",
              "            '<a target=\"_blank\" href=https://colab.research.google.com/notebooks/data_table.ipynb>data table notebook</a>'\n",
              "            + ' to learn more about interactive tables.';\n",
              "          element.innerHTML = '';\n",
              "          dataTable['output_type'] = 'display_data';\n",
              "          await google.colab.output.renderOutput(dataTable, element);\n",
              "          const docLink = document.createElement('div');\n",
              "          docLink.innerHTML = docLinkHtml;\n",
              "          element.appendChild(docLink);\n",
              "        }\n",
              "      </script>\n",
              "    </div>\n",
              "  </div>\n",
              "  "
            ]
          },
          "metadata": {},
          "execution_count": 14
        }
      ],
      "source": [
        "strategies = ['stratified', 'most_frequent', 'uniform']\n",
        "  \n",
        "dummy_results = []\n",
        "for strategy in strategies: \n",
        "    dc = DummyClassifier(strategy=strategy, random_state=42)\n",
        "    \n",
        "    dc.fit(train_features, train_target) \n",
        "    result = dc.score(test_features, test_target)\n",
        "    dummy_results.append({strategy: result})\n",
        "\n",
        "pd.DataFrame(dummy_results)"
      ]
    },
    {
      "cell_type": "markdown",
      "metadata": {
        "id": "ZXFPlSitpoMD"
      },
      "source": [
        "## Чек-лист готовности проекта"
      ]
    },
    {
      "cell_type": "markdown",
      "metadata": {
        "id": "vi22_KsGpoMD"
      },
      "source": [
        "Поставьте 'x' в выполненных пунктах. Далее нажмите Shift+Enter."
      ]
    },
    {
      "cell_type": "markdown",
      "metadata": {
        "id": "MxA_ngIVpoMD"
      },
      "source": [
        "- [x] Jupyter Notebook открыт\n",
        "- [x] Весь код исполняется без ошибок\n",
        "- [x] Ячейки с кодом расположены в порядке исполнения\n",
        "- [x] Выполнено задание 1: данные загружены и изучены\n",
        "- [x] Выполнено задание 2: данные разбиты на три выборки\n",
        "- [x] Выполнено задание 3: проведено исследование моделей\n",
        "    - [x] Рассмотрено больше одной модели\n",
        "    - [x] Рассмотрено хотя бы 3 значения гипепараметров для какой-нибудь модели\n",
        "    - [x] Написаны выводы по результатам исследования\n",
        "- [x] Выполнено задание 3: Проведено тестирование\n",
        "- [x] Удалось достичь accuracy не меньше 0.75\n"
      ]
    },
    {
      "cell_type": "markdown",
      "metadata": {
        "id": "jjEt2ELcpoME"
      },
      "source": [
        "ВЫВОД\n",
        "\n",
        "\n",
        "В данном проекте мы изучили данные, разбили их на три части: обучающую, валидационную и тестовую. После этого было проведено исследование с 2 моделями: Решающее дерево, Случайный лес. Для каждой модели мы нашли подходящие параметры. После этого обе модели использовали для тестовой выборки. Accuracy обеих моделей показала результаты выше требуемых(0.75). Сравнив параметр Accuracy, мы отдали предпочтение модели \"Случайный лес\". В конце мы также проверили нашу модель на адекватность, сравнив ее Acccuracy с Acccuracy случайной модели.\n",
        "\n"
      ]
    }
  ],
  "metadata": {
    "ExecuteTimeLog": [
      {
        "duration": 1476,
        "start_time": "2021-06-14T09:37:00.257Z"
      },
      {
        "duration": 17,
        "start_time": "2021-06-14T09:37:01.735Z"
      },
      {
        "duration": 12,
        "start_time": "2021-06-14T09:37:01.824Z"
      },
      {
        "duration": 9,
        "start_time": "2021-06-14T09:37:02.325Z"
      },
      {
        "duration": 10,
        "start_time": "2021-06-14T09:37:02.534Z"
      },
      {
        "duration": 6637,
        "start_time": "2021-06-14T09:37:02.797Z"
      },
      {
        "duration": 340,
        "start_time": "2021-06-14T09:37:09.437Z"
      },
      {
        "duration": 15,
        "start_time": "2021-06-14T09:37:09.780Z"
      },
      {
        "duration": 8,
        "start_time": "2021-06-14T09:37:09.798Z"
      },
      {
        "duration": 245,
        "start_time": "2021-06-14T09:37:09.808Z"
      },
      {
        "duration": 16,
        "start_time": "2021-06-14T09:38:01.510Z"
      },
      {
        "duration": 20,
        "start_time": "2021-06-14T09:49:39.079Z"
      },
      {
        "duration": 36,
        "start_time": "2021-06-14T09:50:50.584Z"
      },
      {
        "duration": 18,
        "start_time": "2021-06-14T09:50:51.195Z"
      },
      {
        "duration": 12,
        "start_time": "2021-06-14T09:50:52.679Z"
      },
      {
        "duration": 8,
        "start_time": "2021-06-14T09:50:53.543Z"
      },
      {
        "duration": 10,
        "start_time": "2021-06-14T09:50:53.993Z"
      },
      {
        "duration": 6753,
        "start_time": "2021-06-14T09:50:54.768Z"
      },
      {
        "duration": 446,
        "start_time": "2021-06-14T09:51:01.524Z"
      },
      {
        "duration": 19,
        "start_time": "2021-06-14T09:51:24.417Z"
      },
      {
        "duration": 20,
        "start_time": "2021-06-14T09:55:36.213Z"
      },
      {
        "duration": 24,
        "start_time": "2021-06-14T09:55:45.183Z"
      },
      {
        "duration": 213,
        "start_time": "2021-06-14T09:57:07.960Z"
      },
      {
        "duration": 34,
        "start_time": "2021-06-14T10:04:11.294Z"
      },
      {
        "duration": 18,
        "start_time": "2021-06-14T10:04:11.331Z"
      },
      {
        "duration": 13,
        "start_time": "2021-06-14T10:04:11.960Z"
      },
      {
        "duration": 8,
        "start_time": "2021-06-14T10:04:13.594Z"
      },
      {
        "duration": 9,
        "start_time": "2021-06-14T10:04:13.613Z"
      },
      {
        "duration": 6802,
        "start_time": "2021-06-14T10:04:14.000Z"
      },
      {
        "duration": 336,
        "start_time": "2021-06-14T10:04:20.804Z"
      },
      {
        "duration": 743,
        "start_time": "2021-06-14T10:04:21.143Z"
      },
      {
        "duration": 24,
        "start_time": "2021-06-14T10:04:43.913Z"
      },
      {
        "duration": 211,
        "start_time": "2021-06-14T10:04:45.894Z"
      },
      {
        "duration": 26,
        "start_time": "2021-06-14T10:05:18.914Z"
      },
      {
        "duration": 20,
        "start_time": "2021-06-14T10:05:44.777Z"
      },
      {
        "duration": 43,
        "start_time": "2021-06-14T10:05:58.721Z"
      },
      {
        "duration": 24,
        "start_time": "2021-06-14T10:05:58.767Z"
      },
      {
        "duration": 14,
        "start_time": "2021-06-14T10:05:59.641Z"
      },
      {
        "duration": 12,
        "start_time": "2021-06-14T10:06:00.209Z"
      },
      {
        "duration": 12,
        "start_time": "2021-06-14T10:06:00.408Z"
      },
      {
        "duration": 6729,
        "start_time": "2021-06-14T10:06:00.609Z"
      },
      {
        "duration": 336,
        "start_time": "2021-06-14T10:06:07.340Z"
      },
      {
        "duration": 18,
        "start_time": "2021-06-14T10:06:07.679Z"
      },
      {
        "duration": 23,
        "start_time": "2021-06-14T10:06:07.699Z"
      },
      {
        "duration": 247,
        "start_time": "2021-06-14T10:06:07.725Z"
      },
      {
        "duration": 424,
        "start_time": "2021-06-14T10:10:58.451Z"
      },
      {
        "duration": 1424,
        "start_time": "2021-06-14T10:11:02.437Z"
      },
      {
        "duration": 10,
        "start_time": "2021-06-14T10:11:03.907Z"
      },
      {
        "duration": 21,
        "start_time": "2021-06-14T10:11:04.752Z"
      },
      {
        "duration": 13,
        "start_time": "2021-06-14T10:11:19.226Z"
      },
      {
        "duration": 13,
        "start_time": "2021-06-14T10:12:07.324Z"
      },
      {
        "duration": 417,
        "start_time": "2021-06-14T10:18:27.549Z"
      },
      {
        "duration": 37,
        "start_time": "2021-06-14T10:18:31.789Z"
      },
      {
        "duration": 9,
        "start_time": "2021-06-14T10:18:32.160Z"
      },
      {
        "duration": 17,
        "start_time": "2021-06-14T10:18:32.356Z"
      },
      {
        "duration": 14,
        "start_time": "2021-06-14T10:18:33.188Z"
      },
      {
        "duration": 8,
        "start_time": "2021-06-14T10:18:34.115Z"
      },
      {
        "duration": 357,
        "start_time": "2021-06-14T10:18:34.748Z"
      },
      {
        "duration": 6762,
        "start_time": "2021-06-14T10:18:35.387Z"
      },
      {
        "duration": 319,
        "start_time": "2021-06-14T10:18:50.204Z"
      },
      {
        "duration": 294,
        "start_time": "2021-06-14T10:19:49.508Z"
      },
      {
        "duration": 36,
        "start_time": "2021-06-14T10:20:27.092Z"
      },
      {
        "duration": 9,
        "start_time": "2021-06-14T10:20:27.468Z"
      },
      {
        "duration": 17,
        "start_time": "2021-06-14T10:20:27.671Z"
      },
      {
        "duration": 17,
        "start_time": "2021-06-14T10:20:28.461Z"
      },
      {
        "duration": 11,
        "start_time": "2021-06-14T10:20:29.252Z"
      },
      {
        "duration": 322,
        "start_time": "2021-06-14T10:20:29.653Z"
      },
      {
        "duration": 9740,
        "start_time": "2021-06-14T10:20:30.724Z"
      },
      {
        "duration": 464,
        "start_time": "2021-06-14T10:20:40.467Z"
      },
      {
        "duration": 328,
        "start_time": "2021-06-14T10:21:12.895Z"
      },
      {
        "duration": 338,
        "start_time": "2021-06-14T10:21:17.902Z"
      },
      {
        "duration": 8,
        "start_time": "2021-06-14T10:21:36.972Z"
      },
      {
        "duration": 9557,
        "start_time": "2021-06-14T10:22:47.965Z"
      },
      {
        "duration": 395,
        "start_time": "2021-06-14T10:24:41.895Z"
      },
      {
        "duration": 353,
        "start_time": "2021-06-14T10:24:45.902Z"
      },
      {
        "duration": 7052,
        "start_time": "2021-06-14T10:25:00.659Z"
      },
      {
        "duration": 6663,
        "start_time": "2021-06-14T10:25:15.426Z"
      },
      {
        "duration": 128,
        "start_time": "2021-06-14T10:27:03.500Z"
      },
      {
        "duration": 6818,
        "start_time": "2021-06-14T10:27:20.829Z"
      },
      {
        "duration": 6788,
        "start_time": "2021-06-14T10:28:05.198Z"
      },
      {
        "duration": 331,
        "start_time": "2021-06-14T10:30:02.507Z"
      },
      {
        "duration": 28,
        "start_time": "2021-06-14T10:30:07.887Z"
      },
      {
        "duration": 15,
        "start_time": "2021-06-14T10:43:00.033Z"
      },
      {
        "duration": 218,
        "start_time": "2021-06-14T10:44:16.378Z"
      },
      {
        "duration": 16,
        "start_time": "2021-06-14T10:46:28.252Z"
      },
      {
        "duration": 211,
        "start_time": "2021-06-14T10:46:29.082Z"
      },
      {
        "duration": 1410,
        "start_time": "2021-06-14T11:03:33.340Z"
      },
      {
        "duration": 11,
        "start_time": "2021-06-14T11:03:34.753Z"
      },
      {
        "duration": 22,
        "start_time": "2021-06-14T11:03:34.767Z"
      },
      {
        "duration": 18,
        "start_time": "2021-06-14T11:03:34.792Z"
      },
      {
        "duration": 9,
        "start_time": "2021-06-14T11:03:34.812Z"
      },
      {
        "duration": 496,
        "start_time": "2021-06-14T11:03:34.823Z"
      },
      {
        "duration": -25,
        "start_time": "2021-06-14T11:03:35.347Z"
      },
      {
        "duration": -26,
        "start_time": "2021-06-14T11:03:35.350Z"
      },
      {
        "duration": -27,
        "start_time": "2021-06-14T11:03:35.353Z"
      },
      {
        "duration": -29,
        "start_time": "2021-06-14T11:03:35.356Z"
      },
      {
        "duration": 17288,
        "start_time": "2021-06-14T11:05:01.960Z"
      },
      {
        "duration": 6705,
        "start_time": "2021-06-14T11:05:41.895Z"
      },
      {
        "duration": 6706,
        "start_time": "2021-06-14T11:06:51.689Z"
      },
      {
        "duration": 328,
        "start_time": "2021-06-14T11:06:58.399Z"
      },
      {
        "duration": 32,
        "start_time": "2021-06-14T11:06:58.730Z"
      },
      {
        "duration": 16,
        "start_time": "2021-06-14T11:06:58.764Z"
      },
      {
        "duration": 250,
        "start_time": "2021-06-14T11:06:58.783Z"
      },
      {
        "duration": 38,
        "start_time": "2021-06-14T11:08:01.207Z"
      },
      {
        "duration": 8,
        "start_time": "2021-06-14T11:08:01.560Z"
      },
      {
        "duration": 16,
        "start_time": "2021-06-14T11:08:01.742Z"
      },
      {
        "duration": 12,
        "start_time": "2021-06-14T11:08:02.455Z"
      },
      {
        "duration": 9,
        "start_time": "2021-06-14T11:08:03.223Z"
      },
      {
        "duration": 6623,
        "start_time": "2021-06-14T11:08:04.479Z"
      },
      {
        "duration": 336,
        "start_time": "2021-06-14T11:08:11.104Z"
      },
      {
        "duration": 18,
        "start_time": "2021-06-14T11:08:39.749Z"
      },
      {
        "duration": 17,
        "start_time": "2021-06-14T11:08:41.895Z"
      },
      {
        "duration": 210,
        "start_time": "2021-06-14T11:08:44.239Z"
      },
      {
        "duration": 3,
        "start_time": "2021-06-14T11:12:51.620Z"
      },
      {
        "duration": 8,
        "start_time": "2021-06-14T11:15:54.392Z"
      },
      {
        "duration": 8,
        "start_time": "2021-06-14T11:17:30.054Z"
      },
      {
        "duration": 9,
        "start_time": "2021-06-14T11:17:55.873Z"
      },
      {
        "duration": 9,
        "start_time": "2021-06-14T11:23:07.234Z"
      },
      {
        "duration": 3,
        "start_time": "2021-06-14T11:28:24.061Z"
      },
      {
        "duration": 6,
        "start_time": "2021-06-14T11:29:58.571Z"
      },
      {
        "duration": 8,
        "start_time": "2021-06-14T11:30:44.181Z"
      },
      {
        "duration": 1418,
        "start_time": "2021-06-14T11:40:16.072Z"
      },
      {
        "duration": 11,
        "start_time": "2021-06-14T11:40:17.493Z"
      },
      {
        "duration": 18,
        "start_time": "2021-06-14T11:40:17.508Z"
      },
      {
        "duration": 38,
        "start_time": "2021-06-14T11:40:17.528Z"
      },
      {
        "duration": 8,
        "start_time": "2021-06-14T11:40:17.568Z"
      },
      {
        "duration": 9848,
        "start_time": "2021-06-14T11:40:17.578Z"
      },
      {
        "duration": 470,
        "start_time": "2021-06-14T11:40:27.429Z"
      },
      {
        "duration": 25,
        "start_time": "2021-06-14T11:40:27.903Z"
      },
      {
        "duration": 45,
        "start_time": "2021-06-14T11:40:27.931Z"
      },
      {
        "duration": 333,
        "start_time": "2021-06-14T11:40:27.979Z"
      },
      {
        "duration": 4,
        "start_time": "2021-06-14T11:40:28.315Z"
      },
      {
        "duration": 15,
        "start_time": "2021-06-14T11:40:28.322Z"
      },
      {
        "duration": 1464,
        "start_time": "2021-06-14T11:46:37.993Z"
      },
      {
        "duration": 11,
        "start_time": "2021-06-14T11:46:39.460Z"
      },
      {
        "duration": 17,
        "start_time": "2021-06-14T11:46:39.474Z"
      },
      {
        "duration": 13,
        "start_time": "2021-06-14T11:46:39.494Z"
      },
      {
        "duration": 9,
        "start_time": "2021-06-14T11:46:39.510Z"
      },
      {
        "duration": 6879,
        "start_time": "2021-06-14T11:46:39.521Z"
      },
      {
        "duration": 332,
        "start_time": "2021-06-14T11:46:46.402Z"
      },
      {
        "duration": 30,
        "start_time": "2021-06-14T11:46:46.737Z"
      },
      {
        "duration": 17,
        "start_time": "2021-06-14T11:46:46.771Z"
      },
      {
        "duration": 343,
        "start_time": "2021-06-14T11:46:46.790Z"
      },
      {
        "duration": 4,
        "start_time": "2021-06-14T11:46:47.136Z"
      },
      {
        "duration": 23,
        "start_time": "2021-06-14T11:46:47.144Z"
      },
      {
        "duration": 1406,
        "start_time": "2021-06-14T11:47:36.980Z"
      },
      {
        "duration": 45,
        "start_time": "2021-06-14T11:47:38.388Z"
      },
      {
        "duration": 27,
        "start_time": "2021-06-14T11:47:38.435Z"
      },
      {
        "duration": 18,
        "start_time": "2021-06-14T11:47:38.466Z"
      },
      {
        "duration": 14,
        "start_time": "2021-06-14T11:47:38.487Z"
      },
      {
        "duration": 11,
        "start_time": "2021-06-14T11:47:38.505Z"
      },
      {
        "duration": 6844,
        "start_time": "2021-06-14T11:47:38.519Z"
      },
      {
        "duration": 461,
        "start_time": "2021-06-14T11:47:45.366Z"
      },
      {
        "duration": 38,
        "start_time": "2021-06-14T11:47:45.831Z"
      },
      {
        "duration": 21,
        "start_time": "2021-06-14T11:47:45.872Z"
      },
      {
        "duration": 335,
        "start_time": "2021-06-14T11:47:45.896Z"
      },
      {
        "duration": 4,
        "start_time": "2021-06-14T11:47:46.234Z"
      },
      {
        "duration": 28,
        "start_time": "2021-06-14T11:47:46.240Z"
      },
      {
        "duration": 213,
        "start_time": "2021-06-14T11:49:08.653Z"
      },
      {
        "duration": 1378,
        "start_time": "2021-06-14T11:49:17.727Z"
      },
      {
        "duration": 43,
        "start_time": "2021-06-14T11:49:19.108Z"
      },
      {
        "duration": 12,
        "start_time": "2021-06-14T11:49:19.154Z"
      },
      {
        "duration": 18,
        "start_time": "2021-06-14T11:49:19.169Z"
      },
      {
        "duration": 11,
        "start_time": "2021-06-14T11:49:19.189Z"
      },
      {
        "duration": 11,
        "start_time": "2021-06-14T11:49:19.202Z"
      },
      {
        "duration": 10265,
        "start_time": "2021-06-14T11:49:19.216Z"
      },
      {
        "duration": 470,
        "start_time": "2021-06-14T11:49:29.485Z"
      },
      {
        "duration": 24,
        "start_time": "2021-06-14T11:49:29.963Z"
      },
      {
        "duration": 22,
        "start_time": "2021-06-14T11:49:29.990Z"
      },
      {
        "duration": 358,
        "start_time": "2021-06-14T11:49:30.015Z"
      },
      {
        "duration": 5,
        "start_time": "2021-06-14T11:49:30.376Z"
      },
      {
        "duration": 25,
        "start_time": "2021-06-14T11:49:30.383Z"
      },
      {
        "duration": 1375,
        "start_time": "2021-06-14T11:52:17.388Z"
      },
      {
        "duration": 43,
        "start_time": "2021-06-14T11:52:18.766Z"
      },
      {
        "duration": 9,
        "start_time": "2021-06-14T11:52:18.812Z"
      },
      {
        "duration": 23,
        "start_time": "2021-06-14T11:52:18.824Z"
      },
      {
        "duration": 11,
        "start_time": "2021-06-14T11:52:18.862Z"
      },
      {
        "duration": 10,
        "start_time": "2021-06-14T11:52:18.875Z"
      },
      {
        "duration": 7098,
        "start_time": "2021-06-14T11:52:18.888Z"
      },
      {
        "duration": 344,
        "start_time": "2021-06-14T11:52:25.989Z"
      },
      {
        "duration": 31,
        "start_time": "2021-06-14T11:52:26.335Z"
      },
      {
        "duration": 16,
        "start_time": "2021-06-14T11:52:26.369Z"
      },
      {
        "duration": 245,
        "start_time": "2021-06-14T11:52:26.387Z"
      },
      {
        "duration": 4,
        "start_time": "2021-06-14T11:52:26.634Z"
      },
      {
        "duration": 28,
        "start_time": "2021-06-14T11:52:26.639Z"
      },
      {
        "duration": 4,
        "start_time": "2021-06-14T11:52:32.631Z"
      },
      {
        "duration": 33,
        "start_time": "2021-06-14T11:52:32.827Z"
      },
      {
        "duration": 8,
        "start_time": "2021-06-14T11:52:33.239Z"
      },
      {
        "duration": 16,
        "start_time": "2021-06-14T11:52:33.654Z"
      },
      {
        "duration": 13,
        "start_time": "2021-06-14T11:52:35.271Z"
      },
      {
        "duration": 9,
        "start_time": "2021-06-14T11:52:36.751Z"
      },
      {
        "duration": 1350,
        "start_time": "2021-06-14T14:19:38.682Z"
      },
      {
        "duration": 44,
        "start_time": "2021-06-14T14:19:40.035Z"
      },
      {
        "duration": 10,
        "start_time": "2021-06-14T14:19:41.425Z"
      },
      {
        "duration": 21,
        "start_time": "2021-06-14T14:19:41.987Z"
      },
      {
        "duration": 12,
        "start_time": "2021-06-14T14:20:26.258Z"
      },
      {
        "duration": 8,
        "start_time": "2021-06-14T14:20:43.777Z"
      },
      {
        "duration": 6851,
        "start_time": "2021-06-14T14:20:48.596Z"
      },
      {
        "duration": 352,
        "start_time": "2021-06-14T14:20:55.449Z"
      },
      {
        "duration": 21,
        "start_time": "2021-06-14T14:20:57.214Z"
      },
      {
        "duration": 17,
        "start_time": "2021-06-14T14:21:01.897Z"
      },
      {
        "duration": 215,
        "start_time": "2021-06-14T14:21:02.097Z"
      },
      {
        "duration": 3,
        "start_time": "2021-06-14T14:21:06.947Z"
      },
      {
        "duration": 9,
        "start_time": "2021-06-14T14:21:08.250Z"
      },
      {
        "duration": 18,
        "start_time": "2021-06-14T14:23:43.549Z"
      },
      {
        "duration": 1336,
        "start_time": "2021-06-14T15:50:15.655Z"
      },
      {
        "duration": 44,
        "start_time": "2021-06-14T15:50:16.993Z"
      },
      {
        "duration": 9,
        "start_time": "2021-06-14T15:50:17.039Z"
      },
      {
        "duration": 16,
        "start_time": "2021-06-14T15:50:17.055Z"
      },
      {
        "duration": 396,
        "start_time": "2021-06-14T15:50:17.139Z"
      },
      {
        "duration": 266,
        "start_time": "2021-06-14T15:52:04.846Z"
      },
      {
        "duration": 111,
        "start_time": "2021-06-14T15:52:31.182Z"
      },
      {
        "duration": 32,
        "start_time": "2021-06-14T15:52:31.382Z"
      },
      {
        "duration": 9,
        "start_time": "2021-06-14T15:52:31.757Z"
      },
      {
        "duration": 17,
        "start_time": "2021-06-14T15:52:31.967Z"
      },
      {
        "duration": 278,
        "start_time": "2021-06-14T15:52:32.926Z"
      },
      {
        "duration": 91,
        "start_time": "2021-06-14T15:53:06.031Z"
      },
      {
        "duration": 33,
        "start_time": "2021-06-14T15:53:06.430Z"
      },
      {
        "duration": 9,
        "start_time": "2021-06-14T15:53:07.414Z"
      },
      {
        "duration": 18,
        "start_time": "2021-06-14T15:53:07.822Z"
      },
      {
        "duration": 280,
        "start_time": "2021-06-14T15:53:10.239Z"
      },
      {
        "duration": 573,
        "start_time": "2021-06-14T15:53:33.807Z"
      },
      {
        "duration": 510,
        "start_time": "2021-06-14T15:54:53.359Z"
      },
      {
        "duration": 1571,
        "start_time": "2021-06-16T10:13:48.341Z"
      },
      {
        "duration": 40,
        "start_time": "2021-06-16T10:13:49.915Z"
      },
      {
        "duration": 10,
        "start_time": "2021-06-16T10:13:49.959Z"
      },
      {
        "duration": 20,
        "start_time": "2021-06-16T10:13:49.987Z"
      },
      {
        "duration": 556,
        "start_time": "2021-06-16T10:13:50.010Z"
      },
      {
        "duration": 21,
        "start_time": "2021-06-16T10:13:50.569Z"
      },
      {
        "duration": 8,
        "start_time": "2021-06-16T10:13:50.593Z"
      },
      {
        "duration": 6810,
        "start_time": "2021-06-16T10:13:50.603Z"
      },
      {
        "duration": 329,
        "start_time": "2021-06-16T10:13:57.417Z"
      },
      {
        "duration": 17,
        "start_time": "2021-06-16T10:13:57.749Z"
      },
      {
        "duration": 30,
        "start_time": "2021-06-16T10:13:57.769Z"
      },
      {
        "duration": 253,
        "start_time": "2021-06-16T10:13:57.801Z"
      },
      {
        "duration": 4,
        "start_time": "2021-06-16T10:13:58.056Z"
      },
      {
        "duration": 25,
        "start_time": "2021-06-16T10:13:58.062Z"
      },
      {
        "duration": 28,
        "start_time": "2021-06-16T10:13:58.090Z"
      },
      {
        "duration": 8,
        "start_time": "2021-06-16T10:17:17.984Z"
      },
      {
        "duration": 4961,
        "start_time": "2021-06-16T10:17:22.451Z"
      },
      {
        "duration": 272,
        "start_time": "2021-06-16T10:17:27.414Z"
      },
      {
        "duration": 14,
        "start_time": "2021-06-16T10:24:14.122Z"
      },
      {
        "duration": 1522,
        "start_time": "2021-06-16T10:25:04.984Z"
      },
      {
        "duration": 41,
        "start_time": "2021-06-16T10:25:06.509Z"
      },
      {
        "duration": 11,
        "start_time": "2021-06-16T10:25:06.554Z"
      },
      {
        "duration": 37,
        "start_time": "2021-06-16T10:25:06.568Z"
      },
      {
        "duration": 532,
        "start_time": "2021-06-16T10:25:06.608Z"
      },
      {
        "duration": 14,
        "start_time": "2021-06-16T10:25:07.143Z"
      },
      {
        "duration": 30,
        "start_time": "2021-06-16T10:25:07.160Z"
      },
      {
        "duration": 5192,
        "start_time": "2021-06-16T10:25:07.194Z"
      },
      {
        "duration": 267,
        "start_time": "2021-06-16T10:25:12.388Z"
      },
      {
        "duration": 35,
        "start_time": "2021-06-16T10:25:12.657Z"
      },
      {
        "duration": 13,
        "start_time": "2021-06-16T10:25:12.694Z"
      },
      {
        "duration": 174,
        "start_time": "2021-06-16T10:25:12.709Z"
      },
      {
        "duration": 8,
        "start_time": "2021-06-16T10:25:12.886Z"
      },
      {
        "duration": 14,
        "start_time": "2021-06-16T10:25:12.897Z"
      },
      {
        "duration": 18,
        "start_time": "2021-06-16T10:25:12.914Z"
      },
      {
        "duration": 520,
        "start_time": "2021-06-16T10:26:34.347Z"
      },
      {
        "duration": 1547,
        "start_time": "2022-04-21T15:02:30.656Z"
      },
      {
        "duration": 34,
        "start_time": "2022-04-21T15:02:32.205Z"
      },
      {
        "duration": 9,
        "start_time": "2022-04-21T15:02:32.243Z"
      },
      {
        "duration": 15,
        "start_time": "2022-04-21T15:02:32.253Z"
      },
      {
        "duration": 233,
        "start_time": "2022-04-21T15:02:32.269Z"
      },
      {
        "duration": 7,
        "start_time": "2022-04-21T15:02:32.503Z"
      },
      {
        "duration": 6,
        "start_time": "2022-04-21T15:02:32.511Z"
      },
      {
        "duration": 3123,
        "start_time": "2022-04-21T15:02:32.518Z"
      },
      {
        "duration": 191,
        "start_time": "2022-04-21T15:02:35.644Z"
      },
      {
        "duration": 10,
        "start_time": "2022-04-21T15:02:35.836Z"
      },
      {
        "duration": 9,
        "start_time": "2022-04-21T15:02:35.848Z"
      },
      {
        "duration": 116,
        "start_time": "2022-04-21T15:02:35.858Z"
      },
      {
        "duration": 3,
        "start_time": "2022-04-21T15:02:35.975Z"
      },
      {
        "duration": 9,
        "start_time": "2022-04-21T15:02:35.979Z"
      },
      {
        "duration": 19,
        "start_time": "2022-04-21T15:02:35.989Z"
      },
      {
        "duration": 1472,
        "start_time": "2022-04-21T15:02:46.668Z"
      },
      {
        "duration": 29,
        "start_time": "2022-04-21T15:02:48.142Z"
      },
      {
        "duration": 10,
        "start_time": "2022-04-21T15:02:48.172Z"
      },
      {
        "duration": 17,
        "start_time": "2022-04-21T15:02:48.183Z"
      },
      {
        "duration": 236,
        "start_time": "2022-04-21T15:02:48.202Z"
      },
      {
        "duration": 7,
        "start_time": "2022-04-21T15:02:48.439Z"
      },
      {
        "duration": 5,
        "start_time": "2022-04-21T15:02:48.448Z"
      },
      {
        "duration": 3228,
        "start_time": "2022-04-21T15:02:48.455Z"
      },
      {
        "duration": 202,
        "start_time": "2022-04-21T15:02:51.685Z"
      },
      {
        "duration": 17,
        "start_time": "2022-04-21T15:02:51.889Z"
      },
      {
        "duration": 12,
        "start_time": "2022-04-21T15:02:51.907Z"
      },
      {
        "duration": 114,
        "start_time": "2022-04-21T15:02:51.920Z"
      },
      {
        "duration": 3,
        "start_time": "2022-04-21T15:02:52.036Z"
      },
      {
        "duration": 8,
        "start_time": "2022-04-21T15:02:52.041Z"
      },
      {
        "duration": 13,
        "start_time": "2022-04-21T15:02:52.051Z"
      }
    ],
    "kernelspec": {
      "display_name": "Python 3 (ipykernel)",
      "language": "python",
      "name": "python3"
    },
    "language_info": {
      "codemirror_mode": {
        "name": "ipython",
        "version": 3
      },
      "file_extension": ".py",
      "mimetype": "text/x-python",
      "name": "python",
      "nbconvert_exporter": "python",
      "pygments_lexer": "ipython3",
      "version": "3.9.5"
    },
    "toc": {
      "base_numbering": 1,
      "nav_menu": {},
      "number_sections": true,
      "sideBar": true,
      "skip_h1_title": true,
      "title_cell": "Table of Contents",
      "title_sidebar": "Contents",
      "toc_cell": false,
      "toc_position": {},
      "toc_section_display": true,
      "toc_window_display": false
    },
    "colab": {
      "name": "Tariff-recommendations",
      "provenance": []
    }
  },
  "nbformat": 4,
  "nbformat_minor": 0
}