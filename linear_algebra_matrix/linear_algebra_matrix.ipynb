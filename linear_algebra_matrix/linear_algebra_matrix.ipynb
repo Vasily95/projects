{
  "cells": [
    {
      "cell_type": "markdown",
      "metadata": {
        "toc": true,
        "id": "raD4EAlSB1fP"
      },
      "source": [
        "<h1>Содержание<span class=\"tocSkip\"></span></h1>\n",
        "<div class=\"toc\"><ul class=\"toc-item\"><li><span><a href=\"#Загрузка-данных\" data-toc-modified-id=\"Загрузка-данных-1\"><span class=\"toc-item-num\">1&nbsp;&nbsp;</span>Загрузка данных</a></span></li><li><span><a href=\"#Умножение-матриц\" data-toc-modified-id=\"Умножение-матриц-2\"><span class=\"toc-item-num\">2&nbsp;&nbsp;</span>Умножение матриц</a></span></li><li><span><a href=\"#Алгоритм-преобразования\" data-toc-modified-id=\"Алгоритм-преобразования-3\"><span class=\"toc-item-num\">3&nbsp;&nbsp;</span>Алгоритм преобразования</a></span></li><li><span><a href=\"#Проверка-алгоритма\" data-toc-modified-id=\"Проверка-алгоритма-4\"><span class=\"toc-item-num\">4&nbsp;&nbsp;</span>Проверка алгоритма</a></span></li><li><span><a href=\"#Вывод\" data-toc-modified-id=\"Вывод-5\"><span class=\"toc-item-num\">5&nbsp;&nbsp;</span>Вывод</a></span></li><li><span><a href=\"#Чек-лист-проверки\" data-toc-modified-id=\"Чек-лист-проверки-6\"><span class=\"toc-item-num\">6&nbsp;&nbsp;</span>Чек-лист проверки</a></span></li></ul></div>"
      ]
    },
    {
      "cell_type": "markdown",
      "metadata": {
        "id": "qGCqhksWB1fQ"
      },
      "source": [
        "# Защита персональных данных клиентов"
      ]
    },
    {
      "cell_type": "markdown",
      "metadata": {
        "id": "WPe_x2HwB1fR"
      },
      "source": [
        "Вам нужно защитить данные клиентов страховой компании «Хоть потоп». Разработайте такой метод преобразования данных, чтобы по ним было сложно восстановить персональную информацию. Обоснуйте корректность его работы.\n",
        "\n",
        "Нужно защитить данные, чтобы при преобразовании качество моделей машинного обучения не ухудшилось. Подбирать наилучшую модель не требуется."
      ]
    },
    {
      "cell_type": "markdown",
      "metadata": {
        "id": "gyj7pDbwB1fS"
      },
      "source": [
        "## Загрузка данных"
      ]
    },
    {
      "cell_type": "code",
      "execution_count": 1,
      "metadata": {
        "id": "qk0dqgirB1fT"
      },
      "outputs": [],
      "source": [
        "import warnings\n",
        "warnings.simplefilter(action='ignore', category=FutureWarning)\n",
        "from pandas.core.common import SettingWithCopyWarning\n",
        "\n",
        "import numpy as np\n",
        "import pandas as pd\n",
        "\n",
        "from sklearn.model_selection import train_test_split\n",
        "from sklearn.preprocessing import StandardScaler\n",
        "from sklearn.metrics import mean_squared_error\n",
        "from sklearn.model_selection import ShuffleSplit\n",
        "from scipy import stats as st\n",
        "from sklearn.model_selection import GridSearchCV\n",
        "from sklearn.metrics import r2_score\n",
        "\n",
        "from sklearn.linear_model import LinearRegression\n",
        "from sklearn.ensemble import RandomForestRegressor"
      ]
    },
    {
      "cell_type": "markdown",
      "metadata": {
        "id": "iXqeZupnB1fV"
      },
      "source": [
        "В первую очередь загрузим наши данные, проверим наличие пропусков"
      ]
    },
    {
      "cell_type": "code",
      "execution_count": 2,
      "metadata": {
        "id": "9tmSUwECB1fW"
      },
      "outputs": [],
      "source": [
        "alpha = pd.read_csv('/content/insurance.csv') "
      ]
    },
    {
      "cell_type": "code",
      "execution_count": 3,
      "metadata": {
        "id": "QjnBtjzSB1fX",
        "outputId": "3dcdde10-0163-4c95-af46-bec71bfc08cb",
        "colab": {
          "base_uri": "https://localhost:8080/",
          "height": 206
        }
      },
      "outputs": [
        {
          "output_type": "execute_result",
          "data": {
            "text/plain": [
              "   Пол  Возраст  Зарплата  Члены семьи  Страховые выплаты\n",
              "0    1     41.0   49600.0            1                  0\n",
              "1    0     46.0   38000.0            1                  1\n",
              "2    0     29.0   21000.0            0                  0\n",
              "3    0     21.0   41700.0            2                  0\n",
              "4    1     28.0   26100.0            0                  0"
            ],
            "text/html": [
              "\n",
              "  <div id=\"df-4e80097a-93f5-4423-ae8f-b32b2b13c2e1\">\n",
              "    <div class=\"colab-df-container\">\n",
              "      <div>\n",
              "<style scoped>\n",
              "    .dataframe tbody tr th:only-of-type {\n",
              "        vertical-align: middle;\n",
              "    }\n",
              "\n",
              "    .dataframe tbody tr th {\n",
              "        vertical-align: top;\n",
              "    }\n",
              "\n",
              "    .dataframe thead th {\n",
              "        text-align: right;\n",
              "    }\n",
              "</style>\n",
              "<table border=\"1\" class=\"dataframe\">\n",
              "  <thead>\n",
              "    <tr style=\"text-align: right;\">\n",
              "      <th></th>\n",
              "      <th>Пол</th>\n",
              "      <th>Возраст</th>\n",
              "      <th>Зарплата</th>\n",
              "      <th>Члены семьи</th>\n",
              "      <th>Страховые выплаты</th>\n",
              "    </tr>\n",
              "  </thead>\n",
              "  <tbody>\n",
              "    <tr>\n",
              "      <th>0</th>\n",
              "      <td>1</td>\n",
              "      <td>41.0</td>\n",
              "      <td>49600.0</td>\n",
              "      <td>1</td>\n",
              "      <td>0</td>\n",
              "    </tr>\n",
              "    <tr>\n",
              "      <th>1</th>\n",
              "      <td>0</td>\n",
              "      <td>46.0</td>\n",
              "      <td>38000.0</td>\n",
              "      <td>1</td>\n",
              "      <td>1</td>\n",
              "    </tr>\n",
              "    <tr>\n",
              "      <th>2</th>\n",
              "      <td>0</td>\n",
              "      <td>29.0</td>\n",
              "      <td>21000.0</td>\n",
              "      <td>0</td>\n",
              "      <td>0</td>\n",
              "    </tr>\n",
              "    <tr>\n",
              "      <th>3</th>\n",
              "      <td>0</td>\n",
              "      <td>21.0</td>\n",
              "      <td>41700.0</td>\n",
              "      <td>2</td>\n",
              "      <td>0</td>\n",
              "    </tr>\n",
              "    <tr>\n",
              "      <th>4</th>\n",
              "      <td>1</td>\n",
              "      <td>28.0</td>\n",
              "      <td>26100.0</td>\n",
              "      <td>0</td>\n",
              "      <td>0</td>\n",
              "    </tr>\n",
              "  </tbody>\n",
              "</table>\n",
              "</div>\n",
              "      <button class=\"colab-df-convert\" onclick=\"convertToInteractive('df-4e80097a-93f5-4423-ae8f-b32b2b13c2e1')\"\n",
              "              title=\"Convert this dataframe to an interactive table.\"\n",
              "              style=\"display:none;\">\n",
              "        \n",
              "  <svg xmlns=\"http://www.w3.org/2000/svg\" height=\"24px\"viewBox=\"0 0 24 24\"\n",
              "       width=\"24px\">\n",
              "    <path d=\"M0 0h24v24H0V0z\" fill=\"none\"/>\n",
              "    <path d=\"M18.56 5.44l.94 2.06.94-2.06 2.06-.94-2.06-.94-.94-2.06-.94 2.06-2.06.94zm-11 1L8.5 8.5l.94-2.06 2.06-.94-2.06-.94L8.5 2.5l-.94 2.06-2.06.94zm10 10l.94 2.06.94-2.06 2.06-.94-2.06-.94-.94-2.06-.94 2.06-2.06.94z\"/><path d=\"M17.41 7.96l-1.37-1.37c-.4-.4-.92-.59-1.43-.59-.52 0-1.04.2-1.43.59L10.3 9.45l-7.72 7.72c-.78.78-.78 2.05 0 2.83L4 21.41c.39.39.9.59 1.41.59.51 0 1.02-.2 1.41-.59l7.78-7.78 2.81-2.81c.8-.78.8-2.07 0-2.86zM5.41 20L4 18.59l7.72-7.72 1.47 1.35L5.41 20z\"/>\n",
              "  </svg>\n",
              "      </button>\n",
              "      \n",
              "  <style>\n",
              "    .colab-df-container {\n",
              "      display:flex;\n",
              "      flex-wrap:wrap;\n",
              "      gap: 12px;\n",
              "    }\n",
              "\n",
              "    .colab-df-convert {\n",
              "      background-color: #E8F0FE;\n",
              "      border: none;\n",
              "      border-radius: 50%;\n",
              "      cursor: pointer;\n",
              "      display: none;\n",
              "      fill: #1967D2;\n",
              "      height: 32px;\n",
              "      padding: 0 0 0 0;\n",
              "      width: 32px;\n",
              "    }\n",
              "\n",
              "    .colab-df-convert:hover {\n",
              "      background-color: #E2EBFA;\n",
              "      box-shadow: 0px 1px 2px rgba(60, 64, 67, 0.3), 0px 1px 3px 1px rgba(60, 64, 67, 0.15);\n",
              "      fill: #174EA6;\n",
              "    }\n",
              "\n",
              "    [theme=dark] .colab-df-convert {\n",
              "      background-color: #3B4455;\n",
              "      fill: #D2E3FC;\n",
              "    }\n",
              "\n",
              "    [theme=dark] .colab-df-convert:hover {\n",
              "      background-color: #434B5C;\n",
              "      box-shadow: 0px 1px 3px 1px rgba(0, 0, 0, 0.15);\n",
              "      filter: drop-shadow(0px 1px 2px rgba(0, 0, 0, 0.3));\n",
              "      fill: #FFFFFF;\n",
              "    }\n",
              "  </style>\n",
              "\n",
              "      <script>\n",
              "        const buttonEl =\n",
              "          document.querySelector('#df-4e80097a-93f5-4423-ae8f-b32b2b13c2e1 button.colab-df-convert');\n",
              "        buttonEl.style.display =\n",
              "          google.colab.kernel.accessAllowed ? 'block' : 'none';\n",
              "\n",
              "        async function convertToInteractive(key) {\n",
              "          const element = document.querySelector('#df-4e80097a-93f5-4423-ae8f-b32b2b13c2e1');\n",
              "          const dataTable =\n",
              "            await google.colab.kernel.invokeFunction('convertToInteractive',\n",
              "                                                     [key], {});\n",
              "          if (!dataTable) return;\n",
              "\n",
              "          const docLinkHtml = 'Like what you see? Visit the ' +\n",
              "            '<a target=\"_blank\" href=https://colab.research.google.com/notebooks/data_table.ipynb>data table notebook</a>'\n",
              "            + ' to learn more about interactive tables.';\n",
              "          element.innerHTML = '';\n",
              "          dataTable['output_type'] = 'display_data';\n",
              "          await google.colab.output.renderOutput(dataTable, element);\n",
              "          const docLink = document.createElement('div');\n",
              "          docLink.innerHTML = docLinkHtml;\n",
              "          element.appendChild(docLink);\n",
              "        }\n",
              "      </script>\n",
              "    </div>\n",
              "  </div>\n",
              "  "
            ]
          },
          "metadata": {},
          "execution_count": 3
        }
      ],
      "source": [
        "alpha.head()"
      ]
    },
    {
      "cell_type": "code",
      "execution_count": 4,
      "metadata": {
        "scrolled": true,
        "id": "hDYxjaq1B1fY",
        "outputId": "5861c72e-09e5-4477-af2e-7c15226413b9",
        "colab": {
          "base_uri": "https://localhost:8080/"
        }
      },
      "outputs": [
        {
          "output_type": "stream",
          "name": "stdout",
          "text": [
            "<class 'pandas.core.frame.DataFrame'>\n",
            "RangeIndex: 5000 entries, 0 to 4999\n",
            "Data columns (total 5 columns):\n",
            " #   Column             Non-Null Count  Dtype  \n",
            "---  ------             --------------  -----  \n",
            " 0   Пол                5000 non-null   int64  \n",
            " 1   Возраст            5000 non-null   float64\n",
            " 2   Зарплата           5000 non-null   float64\n",
            " 3   Члены семьи        5000 non-null   int64  \n",
            " 4   Страховые выплаты  5000 non-null   int64  \n",
            "dtypes: float64(2), int64(3)\n",
            "memory usage: 195.4 KB\n"
          ]
        }
      ],
      "source": [
        "alpha.info()"
      ]
    },
    {
      "cell_type": "code",
      "execution_count": 5,
      "metadata": {
        "scrolled": false,
        "id": "62nf6u4eB1fZ",
        "outputId": "b512ca8d-0efe-4583-e0ec-626825ab9527",
        "colab": {
          "base_uri": "https://localhost:8080/"
        }
      },
      "outputs": [
        {
          "output_type": "execute_result",
          "data": {
            "text/plain": [
              "Пол                  0\n",
              "Возраст              0\n",
              "Зарплата             0\n",
              "Члены семьи          0\n",
              "Страховые выплаты    0\n",
              "dtype: int64"
            ]
          },
          "metadata": {},
          "execution_count": 5
        }
      ],
      "source": [
        "alpha.isna().sum()"
      ]
    },
    {
      "cell_type": "markdown",
      "metadata": {
        "id": "LtMoQQUqB1fa"
      },
      "source": [
        "Переименуем столбцы на английский язык"
      ]
    },
    {
      "cell_type": "code",
      "execution_count": 6,
      "metadata": {
        "id": "3Yl6W2kXB1fa"
      },
      "outputs": [],
      "source": [
        "alpha = alpha.rename(columns={'Пол': 'Sex', 'Возраст':'Age',\n",
        "                              'Зарплата': 'Salary', 'Члены семьи': 'Family', \n",
        "                              'Страховые выплаты': 'Count'})"
      ]
    },
    {
      "cell_type": "code",
      "execution_count": 7,
      "metadata": {
        "scrolled": true,
        "id": "keAvDC6WB1fa",
        "outputId": "2074253f-e7bb-483a-d56f-a2fec79185f3",
        "colab": {
          "base_uri": "https://localhost:8080/",
          "height": 206
        }
      },
      "outputs": [
        {
          "output_type": "execute_result",
          "data": {
            "text/plain": [
              "   Sex   Age   Salary  Family  Count\n",
              "0    1  41.0  49600.0       1      0\n",
              "1    0  46.0  38000.0       1      1\n",
              "2    0  29.0  21000.0       0      0\n",
              "3    0  21.0  41700.0       2      0\n",
              "4    1  28.0  26100.0       0      0"
            ],
            "text/html": [
              "\n",
              "  <div id=\"df-ccc7cb29-ebcb-4049-ae3a-c141a0a42cc9\">\n",
              "    <div class=\"colab-df-container\">\n",
              "      <div>\n",
              "<style scoped>\n",
              "    .dataframe tbody tr th:only-of-type {\n",
              "        vertical-align: middle;\n",
              "    }\n",
              "\n",
              "    .dataframe tbody tr th {\n",
              "        vertical-align: top;\n",
              "    }\n",
              "\n",
              "    .dataframe thead th {\n",
              "        text-align: right;\n",
              "    }\n",
              "</style>\n",
              "<table border=\"1\" class=\"dataframe\">\n",
              "  <thead>\n",
              "    <tr style=\"text-align: right;\">\n",
              "      <th></th>\n",
              "      <th>Sex</th>\n",
              "      <th>Age</th>\n",
              "      <th>Salary</th>\n",
              "      <th>Family</th>\n",
              "      <th>Count</th>\n",
              "    </tr>\n",
              "  </thead>\n",
              "  <tbody>\n",
              "    <tr>\n",
              "      <th>0</th>\n",
              "      <td>1</td>\n",
              "      <td>41.0</td>\n",
              "      <td>49600.0</td>\n",
              "      <td>1</td>\n",
              "      <td>0</td>\n",
              "    </tr>\n",
              "    <tr>\n",
              "      <th>1</th>\n",
              "      <td>0</td>\n",
              "      <td>46.0</td>\n",
              "      <td>38000.0</td>\n",
              "      <td>1</td>\n",
              "      <td>1</td>\n",
              "    </tr>\n",
              "    <tr>\n",
              "      <th>2</th>\n",
              "      <td>0</td>\n",
              "      <td>29.0</td>\n",
              "      <td>21000.0</td>\n",
              "      <td>0</td>\n",
              "      <td>0</td>\n",
              "    </tr>\n",
              "    <tr>\n",
              "      <th>3</th>\n",
              "      <td>0</td>\n",
              "      <td>21.0</td>\n",
              "      <td>41700.0</td>\n",
              "      <td>2</td>\n",
              "      <td>0</td>\n",
              "    </tr>\n",
              "    <tr>\n",
              "      <th>4</th>\n",
              "      <td>1</td>\n",
              "      <td>28.0</td>\n",
              "      <td>26100.0</td>\n",
              "      <td>0</td>\n",
              "      <td>0</td>\n",
              "    </tr>\n",
              "  </tbody>\n",
              "</table>\n",
              "</div>\n",
              "      <button class=\"colab-df-convert\" onclick=\"convertToInteractive('df-ccc7cb29-ebcb-4049-ae3a-c141a0a42cc9')\"\n",
              "              title=\"Convert this dataframe to an interactive table.\"\n",
              "              style=\"display:none;\">\n",
              "        \n",
              "  <svg xmlns=\"http://www.w3.org/2000/svg\" height=\"24px\"viewBox=\"0 0 24 24\"\n",
              "       width=\"24px\">\n",
              "    <path d=\"M0 0h24v24H0V0z\" fill=\"none\"/>\n",
              "    <path d=\"M18.56 5.44l.94 2.06.94-2.06 2.06-.94-2.06-.94-.94-2.06-.94 2.06-2.06.94zm-11 1L8.5 8.5l.94-2.06 2.06-.94-2.06-.94L8.5 2.5l-.94 2.06-2.06.94zm10 10l.94 2.06.94-2.06 2.06-.94-2.06-.94-.94-2.06-.94 2.06-2.06.94z\"/><path d=\"M17.41 7.96l-1.37-1.37c-.4-.4-.92-.59-1.43-.59-.52 0-1.04.2-1.43.59L10.3 9.45l-7.72 7.72c-.78.78-.78 2.05 0 2.83L4 21.41c.39.39.9.59 1.41.59.51 0 1.02-.2 1.41-.59l7.78-7.78 2.81-2.81c.8-.78.8-2.07 0-2.86zM5.41 20L4 18.59l7.72-7.72 1.47 1.35L5.41 20z\"/>\n",
              "  </svg>\n",
              "      </button>\n",
              "      \n",
              "  <style>\n",
              "    .colab-df-container {\n",
              "      display:flex;\n",
              "      flex-wrap:wrap;\n",
              "      gap: 12px;\n",
              "    }\n",
              "\n",
              "    .colab-df-convert {\n",
              "      background-color: #E8F0FE;\n",
              "      border: none;\n",
              "      border-radius: 50%;\n",
              "      cursor: pointer;\n",
              "      display: none;\n",
              "      fill: #1967D2;\n",
              "      height: 32px;\n",
              "      padding: 0 0 0 0;\n",
              "      width: 32px;\n",
              "    }\n",
              "\n",
              "    .colab-df-convert:hover {\n",
              "      background-color: #E2EBFA;\n",
              "      box-shadow: 0px 1px 2px rgba(60, 64, 67, 0.3), 0px 1px 3px 1px rgba(60, 64, 67, 0.15);\n",
              "      fill: #174EA6;\n",
              "    }\n",
              "\n",
              "    [theme=dark] .colab-df-convert {\n",
              "      background-color: #3B4455;\n",
              "      fill: #D2E3FC;\n",
              "    }\n",
              "\n",
              "    [theme=dark] .colab-df-convert:hover {\n",
              "      background-color: #434B5C;\n",
              "      box-shadow: 0px 1px 3px 1px rgba(0, 0, 0, 0.15);\n",
              "      filter: drop-shadow(0px 1px 2px rgba(0, 0, 0, 0.3));\n",
              "      fill: #FFFFFF;\n",
              "    }\n",
              "  </style>\n",
              "\n",
              "      <script>\n",
              "        const buttonEl =\n",
              "          document.querySelector('#df-ccc7cb29-ebcb-4049-ae3a-c141a0a42cc9 button.colab-df-convert');\n",
              "        buttonEl.style.display =\n",
              "          google.colab.kernel.accessAllowed ? 'block' : 'none';\n",
              "\n",
              "        async function convertToInteractive(key) {\n",
              "          const element = document.querySelector('#df-ccc7cb29-ebcb-4049-ae3a-c141a0a42cc9');\n",
              "          const dataTable =\n",
              "            await google.colab.kernel.invokeFunction('convertToInteractive',\n",
              "                                                     [key], {});\n",
              "          if (!dataTable) return;\n",
              "\n",
              "          const docLinkHtml = 'Like what you see? Visit the ' +\n",
              "            '<a target=\"_blank\" href=https://colab.research.google.com/notebooks/data_table.ipynb>data table notebook</a>'\n",
              "            + ' to learn more about interactive tables.';\n",
              "          element.innerHTML = '';\n",
              "          dataTable['output_type'] = 'display_data';\n",
              "          await google.colab.output.renderOutput(dataTable, element);\n",
              "          const docLink = document.createElement('div');\n",
              "          docLink.innerHTML = docLinkHtml;\n",
              "          element.appendChild(docLink);\n",
              "        }\n",
              "      </script>\n",
              "    </div>\n",
              "  </div>\n",
              "  "
            ]
          },
          "metadata": {},
          "execution_count": 7
        }
      ],
      "source": [
        "alpha.head()"
      ]
    },
    {
      "cell_type": "markdown",
      "metadata": {
        "id": "RmfCfDSEB1fb"
      },
      "source": [
        "Пропуски не обнаружены. Для столбцов Возраст и Зарплата используем pd.to_numeric() для преобразования аргумента в числовой тип."
      ]
    },
    {
      "cell_type": "code",
      "execution_count": 8,
      "metadata": {
        "id": "zwnnfHpGB1fb"
      },
      "outputs": [],
      "source": [
        "alpha['Age'] = pd.to_numeric(alpha['Age'])\n",
        "alpha['Salary'] = pd.to_numeric(alpha['Salary'])"
      ]
    },
    {
      "cell_type": "markdown",
      "metadata": {
        "id": "g25RTv2BB1fc"
      },
      "source": [
        "## Умножение матриц"
      ]
    },
    {
      "cell_type": "markdown",
      "metadata": {
        "id": "2dLwfUQVB1fc"
      },
      "source": [
        "Выведем параметры и целевой признак, напишем формулу для модели и поиска метрики r2"
      ]
    },
    {
      "cell_type": "code",
      "execution_count": 9,
      "metadata": {
        "id": "9GlYHYNeB1fd"
      },
      "outputs": [],
      "source": [
        "features = alpha.drop('Count',axis=1)\n",
        "target = alpha['Count']"
      ]
    },
    {
      "cell_type": "code",
      "execution_count": 10,
      "metadata": {
        "id": "abFhpSFyB1fd",
        "outputId": "acc09da1-15dc-4bc2-8670-4327c9fd0962",
        "colab": {
          "base_uri": "https://localhost:8080/"
        }
      },
      "outputs": [
        {
          "output_type": "stream",
          "name": "stdout",
          "text": [
            "0.4249455028666801\n"
          ]
        }
      ],
      "source": [
        "class LinearRegression:\n",
        "    def fit(self, train_features, train_target):\n",
        "        X = np.concatenate((np.ones((train_features.shape[0], 1)), train_features), axis=1)\n",
        "        y = train_target\n",
        "        w = (np.linalg.inv(X.T.dot(X))).dot(X.T).dot(y)\n",
        "        self.w = w[1:]\n",
        "        self.w0 = w[0]\n",
        "\n",
        "    def predict(self, test_features):\n",
        "        return test_features.dot(self.w) + self.w0\n",
        "    \n",
        "model = LinearRegression()\n",
        "model.fit(features, target)\n",
        "predictions = model.predict(features)\n",
        "print(r2_score(target, predictions))"
      ]
    },
    {
      "cell_type": "markdown",
      "metadata": {
        "id": "L-CaVceHB1fe"
      },
      "source": [
        "Обозначения:\n",
        "\n",
        "- $X$ — матрица признаков (нулевой столбец состоит из единиц)\n",
        "\n",
        "- $y$ — вектор целевого признака\n",
        "\n",
        "- $P$ — матрица, на которую умножаются признаки\n",
        "\n",
        "- $w$ — вектор весов линейной регрессии (нулевой элемент равен сдвигу)"
      ]
    },
    {
      "cell_type": "markdown",
      "metadata": {
        "id": "vm8LD5OhB1fe"
      },
      "source": [
        "Предсказания:\n",
        "\n",
        "$$\n",
        "a = Xw\n",
        "$$\n",
        "\n",
        "Задача обучения:\n",
        "\n",
        "$$\n",
        "w = \\arg\\min_w MSE(Xw, y)\n",
        "$$\n",
        "\n",
        "Формула обучения:\n",
        "\n",
        "$$\n",
        "w = (X^T X)^{-1} X^T y\n",
        "$$"
      ]
    },
    {
      "cell_type": "markdown",
      "metadata": {
        "id": "J_wcvFwlB1ff"
      },
      "source": [
        "**Ответ:** Значение метрики r2 не изменится\n",
        "\n",
        "**Обоснование:** \n",
        "Заменим нашу матрицу X на рандомную R. Новая матрица - это умножение X на матрицу D. Тогда: \n",
        "$$\n",
        "𝑎1 = R(R^T R)^{-1} R^Ty\n",
        "$$\n",
        "\n",
        "$$\n",
        "𝑎1 = RR^{-1}(R^T)^{-1} R^Ty\n",
        "$$\n",
        " \n"
      ]
    },
    {
      "cell_type": "markdown",
      "metadata": {
        "id": "AskPX5eRB1ff"
      },
      "source": [
        "При умножении обратной матрицы $A^{-1}$ на матрицу $A$ получается единичная матрица $E$ (квадратная матрица, на главной диагонали которой стоят единицы, а остальные элементы — нули). Произведение любой матрицы и единичной матрицы подходящего размера равно самой матрице:\n",
        "$$\n",
        "(A^𝑇)^{-1}A^𝑇 = E\n",
        "$$"
      ]
    },
    {
      "cell_type": "markdown",
      "metadata": {
        "id": "RWRFOM6UB1fh"
      },
      "source": [
        "Для начала вспомним, что $$(A*B)^T = A^T * B^T$$\n",
        "\n",
        "Немного изменим формулу, оставим Х матрицу, и умножим ее на радномную обратимую матрицу O\n",
        "\n",
        "$$\n",
        "w = ((XO)^T(XO))^{-1}(XO)^Ty\n",
        "$$\n",
        "\n",
        "Начнем раскрывать скобки. Начнем с последней\n",
        "\n",
        "$$\n",
        "w = ((XO)^T(XO))^{-1}X^TO^Ty\n",
        "$$\n",
        "\n",
        "Раскроем первую общую скобку\n",
        "    \n",
        "$$\n",
        "w = (O^TX^T(XO))^{-1}X^TO^Ty\n",
        "$$\n",
        "\n",
        "$$\n",
        "w = O^{-1}(X^TX)^{-1}(O^T)^{-1}O^TX^Ty\n",
        "$$\n",
        "\n",
        "При умножении обратной матрицы  𝐴−1  на матрицу  𝐴  получается единичная матрица  𝐸  (квадратная матрица, на главной диагонали которой стоят единицы, а остальные элементы — нули). Произведение любой матрицы и единичной матрицы подходящего размера равно самой матрице:\n",
        "\n",
        "$$\n",
        "(A^𝑇)^{-1}A^𝑇 = E\n",
        "$$\n",
        "\n",
        "Сократим квадратные матрицы\n",
        "\n",
        "$$\n",
        "w = O^{-1}(X^TX)^{-1}X^T\n",
        "$$\n",
        "\n",
        "$$\n",
        "a1 = (OX)w\n",
        "$$\n",
        "\n",
        "$$\n",
        "a1 = (OX)O^{-1}(X^TX)^{-1}X^T \n",
        "$$\n",
        "\n",
        "$$\n",
        "a1 = X(X^TX)^{-1}X^T\n",
        "$$\n",
        "\n",
        "$$\n",
        "a1 = a\n",
        "$$"
      ]
    },
    {
      "cell_type": "markdown",
      "metadata": {
        "id": "thOqdb17B1fh"
      },
      "source": [
        "## Алгоритм преобразования"
      ]
    },
    {
      "cell_type": "markdown",
      "metadata": {
        "id": "vKgDQxVlB1fi"
      },
      "source": [
        "**Алгоритм**\n",
        "Для проверки нашей теории будем умножать матрицу признаков на обратимую матрицу $RANDOM$, которая будет генерироваться случайным образом. Воспользуемся функциями np.random.rand для создания матрицы 4х4 (такое количесвто нужно для корректого умножения на наши признаки) и np.linalg.inv для создания обратной матрицы"
      ]
    },
    {
      "cell_type": "code",
      "execution_count": 11,
      "metadata": {
        "id": "lskt-0IsB1fi"
      },
      "outputs": [],
      "source": [
        "RANDOM = np.random.rand(4,4)\n",
        "RANDOM2 = np.linalg.inv(RANDOM)"
      ]
    },
    {
      "cell_type": "code",
      "execution_count": 12,
      "metadata": {
        "scrolled": true,
        "id": "Q1YDya-VB1fi",
        "outputId": "6d8b7b8e-1bd0-4922-a435-f869f42147ff",
        "colab": {
          "base_uri": "https://localhost:8080/"
        }
      },
      "outputs": [
        {
          "output_type": "execute_result",
          "data": {
            "text/plain": [
              "array([[1.01987704e-01, 8.92736381e-01, 4.41662147e-01, 3.30874974e-01],\n",
              "       [2.63222513e-01, 6.02547798e-01, 6.50925072e-01, 6.20110743e-05],\n",
              "       [2.45588558e-01, 1.27930825e-01, 1.44128854e-01, 2.25028056e-01],\n",
              "       [7.03174101e-01, 9.94746728e-01, 1.18656280e-01, 7.69030378e-01]])"
            ]
          },
          "metadata": {},
          "execution_count": 12
        }
      ],
      "source": [
        "RANDOM"
      ]
    },
    {
      "cell_type": "code",
      "execution_count": 13,
      "metadata": {
        "scrolled": true,
        "id": "4I79vdvaB1fj",
        "outputId": "ee76acab-2f6e-44a3-dba9-ece77cef5bb0",
        "colab": {
          "base_uri": "https://localhost:8080/"
        }
      },
      "outputs": [
        {
          "output_type": "execute_result",
          "data": {
            "text/plain": [
              "array([[-2.77627005,  1.84817367, -1.08369185,  1.51144191],\n",
              "       [ 0.04623191,  0.60491826, -3.76396047,  1.0814426 ],\n",
              "       [ 1.079658  ,  0.22918524,  3.92194503, -1.61215178],\n",
              "       [ 2.31213747, -2.50773266,  5.25447123, -1.23178017]])"
            ]
          },
          "metadata": {},
          "execution_count": 13
        }
      ],
      "source": [
        "RANDOM2"
      ]
    },
    {
      "cell_type": "code",
      "execution_count": 14,
      "metadata": {
        "scrolled": true,
        "id": "nU3YyaeMB1fj",
        "outputId": "d0481f97-196c-40c7-ed28-eb386e11aee3",
        "colab": {
          "base_uri": "https://localhost:8080/"
        }
      },
      "outputs": [
        {
          "output_type": "execute_result",
          "data": {
            "text/plain": [
              "array([[ 1.00000000e+00, -4.14724601e-20, -2.10187260e-16,\n",
              "        -9.89118206e-17],\n",
              "       [-1.60062392e-16,  1.00000000e+00, -3.25674868e-16,\n",
              "         1.44566722e-16],\n",
              "       [-2.87312289e-16, -4.26914843e-17,  1.00000000e+00,\n",
              "         9.08694806e-17],\n",
              "       [-1.00883178e-16, -2.81364148e-16, -2.91928485e-16,\n",
              "         1.00000000e+00]])"
            ]
          },
          "metadata": {},
          "execution_count": 14
        }
      ],
      "source": [
        "RANDOM @ RANDOM2"
      ]
    },
    {
      "cell_type": "code",
      "execution_count": 15,
      "metadata": {
        "id": "apuBam9ZB1fk",
        "outputId": "94bc68d0-6433-4c4a-dca5-6754b97f5d1f",
        "colab": {
          "base_uri": "https://localhost:8080/"
        }
      },
      "outputs": [
        {
          "output_type": "execute_result",
          "data": {
            "text/plain": [
              "array([[66, 57, 10, 98],\n",
              "       [93, 18, 84,  2],\n",
              "       [63, 91, 50, 34],\n",
              "       [18, 38, 48,  1]])"
            ]
          },
          "metadata": {},
          "execution_count": 15
        }
      ],
      "source": [
        "nrows = 4\n",
        "ncols = 4\n",
        "\n",
        "a = np.random.randint(100, size=(nrows,ncols))\n",
        "a"
      ]
    },
    {
      "cell_type": "code",
      "execution_count": 16,
      "metadata": {
        "id": "oWPIvvpIB1fk"
      },
      "outputs": [],
      "source": [
        "a2 = np.linalg.inv(a)"
      ]
    },
    {
      "cell_type": "code",
      "execution_count": 17,
      "metadata": {
        "id": "AgKzR49iB1fk"
      },
      "outputs": [],
      "source": [
        "b  = a @ a2"
      ]
    },
    {
      "cell_type": "code",
      "execution_count": 18,
      "metadata": {
        "id": "UPiceiM4B1fl",
        "outputId": "d487e3f0-4e21-4b0b-acf5-e7ea427ebf72",
        "colab": {
          "base_uri": "https://localhost:8080/"
        }
      },
      "outputs": [
        {
          "output_type": "execute_result",
          "data": {
            "text/plain": [
              "array([[ 1.00000000e+00, -4.16333634e-17,  1.94289029e-16,\n",
              "         1.45716772e-16],\n",
              "       [ 2.08166817e-17,  1.00000000e+00, -1.38777878e-16,\n",
              "        -1.59594560e-16],\n",
              "       [-6.24500451e-17, -1.52655666e-16,  1.00000000e+00,\n",
              "         3.46944695e-17],\n",
              "       [ 2.42861287e-17, -5.89805982e-17, -3.46944695e-16,\n",
              "         1.00000000e+00]])"
            ]
          },
          "metadata": {},
          "execution_count": 18
        }
      ],
      "source": [
        "b "
      ]
    },
    {
      "cell_type": "code",
      "execution_count": 19,
      "metadata": {
        "id": "1pvlg_V5B1fl"
      },
      "outputs": [],
      "source": [
        "X_inv = features @ RANDOM2"
      ]
    },
    {
      "cell_type": "code",
      "execution_count": 20,
      "metadata": {
        "id": "QqClEarfB1fm",
        "outputId": "74a89d7b-9241-44f4-9a35-1c7fdbc903e3",
        "colab": {
          "base_uri": "https://localhost:8080/"
        }
      },
      "outputs": [
        {
          "output_type": "stream",
          "name": "stdout",
          "text": [
            "0.424945502866352\n"
          ]
        }
      ],
      "source": [
        "   \n",
        "model = LinearRegression()\n",
        "model.fit(X_inv, target)\n",
        "predictions = model.predict(X_inv)\n",
        "print(r2_score(target, predictions))\n"
      ]
    },
    {
      "cell_type": "markdown",
      "metadata": {
        "id": "jEZkyHRwB1fn"
      },
      "source": [
        "## Проверка алгоритма"
      ]
    },
    {
      "cell_type": "markdown",
      "metadata": {
        "id": "4EWTxUOLB1fn"
      },
      "source": [
        "Для проверки случайныйм образом умножим наши параметры добавим рандомное число и домножим на созданную матрицу"
      ]
    },
    {
      "cell_type": "code",
      "execution_count": 21,
      "metadata": {
        "id": "g8j_s2m1B1fn"
      },
      "outputs": [],
      "source": [
        "features_new = ((features*25 + 1889) * 15) @ RANDOM2"
      ]
    },
    {
      "cell_type": "code",
      "execution_count": 22,
      "metadata": {
        "scrolled": true,
        "id": "8w8JfjX-B1fn",
        "outputId": "9ad22081-350c-4eec-e0d4-b25112c54a27",
        "colab": {
          "base_uri": "https://localhost:8080/",
          "height": 363
        }
      },
      "outputs": [
        {
          "output_type": "execute_result",
          "data": {
            "text/plain": [
              "              0             1             2             3\n",
              "0  2.010093e+07  4.276845e+06  7.301453e+07 -2.997640e+07\n",
              "1  1.540554e+07  3.280330e+06  5.594741e+07 -2.296208e+07\n",
              "2  8.521560e+06  1.816358e+06  3.096704e+07 -1.269105e+07\n",
              "3  1.690400e+07  3.591713e+06  6.142637e+07 -2.520954e+07\n",
              "4  1.058535e+07  2.255141e+06  3.846876e+07 -1.577413e+07\n",
              "5  1.661993e+07  3.537235e+06  6.036540e+07 -2.477687e+07\n",
              "6  1.609353e+07  3.424600e+06  5.845910e+07 -2.399256e+07\n",
              "7  1.564966e+07  3.325005e+06  5.686500e+07 -2.333415e+07\n",
              "8  2.014133e+07  4.284305e+06  7.316866e+07 -3.003889e+07\n",
              "9  2.095100e+07  4.455286e+06  7.611576e+07 -3.124962e+07"
            ],
            "text/html": [
              "\n",
              "  <div id=\"df-240b364f-8e45-4bc3-a537-cc094ea24bbe\">\n",
              "    <div class=\"colab-df-container\">\n",
              "      <div>\n",
              "<style scoped>\n",
              "    .dataframe tbody tr th:only-of-type {\n",
              "        vertical-align: middle;\n",
              "    }\n",
              "\n",
              "    .dataframe tbody tr th {\n",
              "        vertical-align: top;\n",
              "    }\n",
              "\n",
              "    .dataframe thead th {\n",
              "        text-align: right;\n",
              "    }\n",
              "</style>\n",
              "<table border=\"1\" class=\"dataframe\">\n",
              "  <thead>\n",
              "    <tr style=\"text-align: right;\">\n",
              "      <th></th>\n",
              "      <th>0</th>\n",
              "      <th>1</th>\n",
              "      <th>2</th>\n",
              "      <th>3</th>\n",
              "    </tr>\n",
              "  </thead>\n",
              "  <tbody>\n",
              "    <tr>\n",
              "      <th>0</th>\n",
              "      <td>2.010093e+07</td>\n",
              "      <td>4.276845e+06</td>\n",
              "      <td>7.301453e+07</td>\n",
              "      <td>-2.997640e+07</td>\n",
              "    </tr>\n",
              "    <tr>\n",
              "      <th>1</th>\n",
              "      <td>1.540554e+07</td>\n",
              "      <td>3.280330e+06</td>\n",
              "      <td>5.594741e+07</td>\n",
              "      <td>-2.296208e+07</td>\n",
              "    </tr>\n",
              "    <tr>\n",
              "      <th>2</th>\n",
              "      <td>8.521560e+06</td>\n",
              "      <td>1.816358e+06</td>\n",
              "      <td>3.096704e+07</td>\n",
              "      <td>-1.269105e+07</td>\n",
              "    </tr>\n",
              "    <tr>\n",
              "      <th>3</th>\n",
              "      <td>1.690400e+07</td>\n",
              "      <td>3.591713e+06</td>\n",
              "      <td>6.142637e+07</td>\n",
              "      <td>-2.520954e+07</td>\n",
              "    </tr>\n",
              "    <tr>\n",
              "      <th>4</th>\n",
              "      <td>1.058535e+07</td>\n",
              "      <td>2.255141e+06</td>\n",
              "      <td>3.846876e+07</td>\n",
              "      <td>-1.577413e+07</td>\n",
              "    </tr>\n",
              "    <tr>\n",
              "      <th>5</th>\n",
              "      <td>1.661993e+07</td>\n",
              "      <td>3.537235e+06</td>\n",
              "      <td>6.036540e+07</td>\n",
              "      <td>-2.477687e+07</td>\n",
              "    </tr>\n",
              "    <tr>\n",
              "      <th>6</th>\n",
              "      <td>1.609353e+07</td>\n",
              "      <td>3.424600e+06</td>\n",
              "      <td>5.845910e+07</td>\n",
              "      <td>-2.399256e+07</td>\n",
              "    </tr>\n",
              "    <tr>\n",
              "      <th>7</th>\n",
              "      <td>1.564966e+07</td>\n",
              "      <td>3.325005e+06</td>\n",
              "      <td>5.686500e+07</td>\n",
              "      <td>-2.333415e+07</td>\n",
              "    </tr>\n",
              "    <tr>\n",
              "      <th>8</th>\n",
              "      <td>2.014133e+07</td>\n",
              "      <td>4.284305e+06</td>\n",
              "      <td>7.316866e+07</td>\n",
              "      <td>-3.003889e+07</td>\n",
              "    </tr>\n",
              "    <tr>\n",
              "      <th>9</th>\n",
              "      <td>2.095100e+07</td>\n",
              "      <td>4.455286e+06</td>\n",
              "      <td>7.611576e+07</td>\n",
              "      <td>-3.124962e+07</td>\n",
              "    </tr>\n",
              "  </tbody>\n",
              "</table>\n",
              "</div>\n",
              "      <button class=\"colab-df-convert\" onclick=\"convertToInteractive('df-240b364f-8e45-4bc3-a537-cc094ea24bbe')\"\n",
              "              title=\"Convert this dataframe to an interactive table.\"\n",
              "              style=\"display:none;\">\n",
              "        \n",
              "  <svg xmlns=\"http://www.w3.org/2000/svg\" height=\"24px\"viewBox=\"0 0 24 24\"\n",
              "       width=\"24px\">\n",
              "    <path d=\"M0 0h24v24H0V0z\" fill=\"none\"/>\n",
              "    <path d=\"M18.56 5.44l.94 2.06.94-2.06 2.06-.94-2.06-.94-.94-2.06-.94 2.06-2.06.94zm-11 1L8.5 8.5l.94-2.06 2.06-.94-2.06-.94L8.5 2.5l-.94 2.06-2.06.94zm10 10l.94 2.06.94-2.06 2.06-.94-2.06-.94-.94-2.06-.94 2.06-2.06.94z\"/><path d=\"M17.41 7.96l-1.37-1.37c-.4-.4-.92-.59-1.43-.59-.52 0-1.04.2-1.43.59L10.3 9.45l-7.72 7.72c-.78.78-.78 2.05 0 2.83L4 21.41c.39.39.9.59 1.41.59.51 0 1.02-.2 1.41-.59l7.78-7.78 2.81-2.81c.8-.78.8-2.07 0-2.86zM5.41 20L4 18.59l7.72-7.72 1.47 1.35L5.41 20z\"/>\n",
              "  </svg>\n",
              "      </button>\n",
              "      \n",
              "  <style>\n",
              "    .colab-df-container {\n",
              "      display:flex;\n",
              "      flex-wrap:wrap;\n",
              "      gap: 12px;\n",
              "    }\n",
              "\n",
              "    .colab-df-convert {\n",
              "      background-color: #E8F0FE;\n",
              "      border: none;\n",
              "      border-radius: 50%;\n",
              "      cursor: pointer;\n",
              "      display: none;\n",
              "      fill: #1967D2;\n",
              "      height: 32px;\n",
              "      padding: 0 0 0 0;\n",
              "      width: 32px;\n",
              "    }\n",
              "\n",
              "    .colab-df-convert:hover {\n",
              "      background-color: #E2EBFA;\n",
              "      box-shadow: 0px 1px 2px rgba(60, 64, 67, 0.3), 0px 1px 3px 1px rgba(60, 64, 67, 0.15);\n",
              "      fill: #174EA6;\n",
              "    }\n",
              "\n",
              "    [theme=dark] .colab-df-convert {\n",
              "      background-color: #3B4455;\n",
              "      fill: #D2E3FC;\n",
              "    }\n",
              "\n",
              "    [theme=dark] .colab-df-convert:hover {\n",
              "      background-color: #434B5C;\n",
              "      box-shadow: 0px 1px 3px 1px rgba(0, 0, 0, 0.15);\n",
              "      filter: drop-shadow(0px 1px 2px rgba(0, 0, 0, 0.3));\n",
              "      fill: #FFFFFF;\n",
              "    }\n",
              "  </style>\n",
              "\n",
              "      <script>\n",
              "        const buttonEl =\n",
              "          document.querySelector('#df-240b364f-8e45-4bc3-a537-cc094ea24bbe button.colab-df-convert');\n",
              "        buttonEl.style.display =\n",
              "          google.colab.kernel.accessAllowed ? 'block' : 'none';\n",
              "\n",
              "        async function convertToInteractive(key) {\n",
              "          const element = document.querySelector('#df-240b364f-8e45-4bc3-a537-cc094ea24bbe');\n",
              "          const dataTable =\n",
              "            await google.colab.kernel.invokeFunction('convertToInteractive',\n",
              "                                                     [key], {});\n",
              "          if (!dataTable) return;\n",
              "\n",
              "          const docLinkHtml = 'Like what you see? Visit the ' +\n",
              "            '<a target=\"_blank\" href=https://colab.research.google.com/notebooks/data_table.ipynb>data table notebook</a>'\n",
              "            + ' to learn more about interactive tables.';\n",
              "          element.innerHTML = '';\n",
              "          dataTable['output_type'] = 'display_data';\n",
              "          await google.colab.output.renderOutput(dataTable, element);\n",
              "          const docLink = document.createElement('div');\n",
              "          docLink.innerHTML = docLinkHtml;\n",
              "          element.appendChild(docLink);\n",
              "        }\n",
              "      </script>\n",
              "    </div>\n",
              "  </div>\n",
              "  "
            ]
          },
          "metadata": {},
          "execution_count": 22
        }
      ],
      "source": [
        "features_new.head(10)"
      ]
    },
    {
      "cell_type": "markdown",
      "metadata": {
        "id": "nHGNbFDzB1fn"
      },
      "source": [
        "Значения в наших признаках теперь заполнены совершенно иныи числами, проверим изменится ли значение метрики r2"
      ]
    },
    {
      "cell_type": "code",
      "execution_count": 23,
      "metadata": {
        "id": "Z9PaaZXzB1fo",
        "outputId": "42d32aa2-a5d8-4c2c-b52b-525927c72ec8",
        "colab": {
          "base_uri": "https://localhost:8080/"
        }
      },
      "outputs": [
        {
          "output_type": "stream",
          "name": "stdout",
          "text": [
            "0.42494550286661503\n"
          ]
        }
      ],
      "source": [
        " \n",
        "model = LinearRegression()\n",
        "model.fit(features_new, target)\n",
        "predictions = model.predict(features_new)\n",
        "print(r2_score(target, predictions))"
      ]
    },
    {
      "cell_type": "markdown",
      "metadata": {
        "id": "TCwrncLlB1fp"
      },
      "source": [
        "## Вывод"
      ]
    },
    {
      "cell_type": "markdown",
      "metadata": {
        "id": "0l29uCq_B1fq"
      },
      "source": [
        "Мы загрузили данные, проверили на наличие пропусков столбцы. Для корректного использования поменяли названия на английский язык. Из таблицы вывели таргет и параметры. После этого написали функцию для обучения нашей модели. После этого на примере формулы доказали теорию, что при умножении метрик на матрицу результат r2 не должен поменяться. После этого мы провели исследования нескольких обратимых матриц, проверили на практике теорию о том, что если перемножить матрицу с обратной матрицей, то получается единичная матрица. После этого мы количественно изменили наши метрики для проверки гипотезы на практике. В результате значение r2 не поменялось. "
      ]
    },
    {
      "cell_type": "markdown",
      "metadata": {
        "id": "_AfDPvm2B1fs"
      },
      "source": [
        "## Чек-лист проверки"
      ]
    },
    {
      "cell_type": "markdown",
      "metadata": {
        "id": "xWqa39lMB1fs"
      },
      "source": [
        "- [x]  Jupyter Notebook открыт\n",
        "- [x]  Весь код выполняется без ошибок\n",
        "- [x]  Ячейки с кодом расположены в порядке исполнения\n",
        "- [x]  Выполнен шаг 1: данные загружены\n",
        "- [x]  Выполнен шаг 2: получен ответ на вопрос об умножении матриц\n",
        "    - [x]  Указан правильный вариант ответа\n",
        "    - [x]  Вариант обоснован\n",
        "- [x]  Выполнен шаг 3: предложен алгоритм преобразования\n",
        "    - [x]  Алгоритм описан\n",
        "    - [x]  Алгоритм обоснован\n",
        "- [x]  Выполнен шаг 4: алгоритм проверен\n",
        "    - [x]  Алгоритм реализован\n",
        "    - [x]  Проведено сравнение качества моделей до и после преобразования"
      ]
    }
  ],
  "metadata": {
    "ExecuteTimeLog": [
      {
        "duration": 1205,
        "start_time": "2021-09-18T17:54:28.731Z"
      },
      {
        "duration": 18,
        "start_time": "2021-09-18T17:55:39.977Z"
      },
      {
        "duration": 11,
        "start_time": "2021-09-18T17:55:40.321Z"
      },
      {
        "duration": 8,
        "start_time": "2021-09-18T17:56:03.817Z"
      },
      {
        "duration": 5,
        "start_time": "2021-09-18T17:56:31.658Z"
      },
      {
        "duration": 188,
        "start_time": "2021-09-18T17:57:32.496Z"
      },
      {
        "duration": 5,
        "start_time": "2021-09-18T18:00:40.211Z"
      },
      {
        "duration": 8,
        "start_time": "2021-09-18T18:00:50.802Z"
      },
      {
        "duration": 80,
        "start_time": "2021-09-18T18:05:09.781Z"
      },
      {
        "duration": 4,
        "start_time": "2021-09-18T18:05:14.532Z"
      },
      {
        "duration": 5,
        "start_time": "2021-09-18T18:05:55.411Z"
      },
      {
        "duration": 5,
        "start_time": "2021-09-18T18:09:01.317Z"
      },
      {
        "duration": 462,
        "start_time": "2021-09-18T18:09:01.925Z"
      },
      {
        "duration": 4,
        "start_time": "2021-09-18T18:09:21.125Z"
      },
      {
        "duration": 44,
        "start_time": "2021-09-18T18:09:24.604Z"
      },
      {
        "duration": 1215,
        "start_time": "2021-09-19T11:02:28.046Z"
      },
      {
        "duration": 21,
        "start_time": "2021-09-19T11:02:30.541Z"
      },
      {
        "duration": 15,
        "start_time": "2021-09-19T11:02:30.959Z"
      },
      {
        "duration": 7,
        "start_time": "2021-09-19T11:02:31.317Z"
      },
      {
        "duration": 7,
        "start_time": "2021-09-19T11:02:31.549Z"
      },
      {
        "duration": 5,
        "start_time": "2021-09-19T11:02:31.756Z"
      },
      {
        "duration": 8,
        "start_time": "2021-09-19T11:02:31.997Z"
      },
      {
        "duration": 4,
        "start_time": "2021-09-19T11:02:32.221Z"
      },
      {
        "duration": 4,
        "start_time": "2021-09-19T11:02:32.767Z"
      },
      {
        "duration": 14,
        "start_time": "2021-09-19T11:02:32.965Z"
      },
      {
        "duration": 462,
        "start_time": "2021-09-19T11:02:33.636Z"
      },
      {
        "duration": 7,
        "start_time": "2021-09-19T11:03:19.164Z"
      },
      {
        "duration": 237,
        "start_time": "2021-09-19T11:09:39.070Z"
      },
      {
        "duration": 255,
        "start_time": "2021-09-19T11:10:09.317Z"
      },
      {
        "duration": 17,
        "start_time": "2021-09-19T11:10:33.958Z"
      },
      {
        "duration": 244,
        "start_time": "2021-09-19T11:10:46.086Z"
      },
      {
        "duration": 231,
        "start_time": "2021-09-19T11:11:22.424Z"
      },
      {
        "duration": 244,
        "start_time": "2021-09-19T11:12:08.009Z"
      },
      {
        "duration": 3,
        "start_time": "2021-09-19T11:12:25.022Z"
      },
      {
        "duration": 987,
        "start_time": "2021-09-19T11:12:25.384Z"
      },
      {
        "duration": 4,
        "start_time": "2021-09-19T11:12:49.975Z"
      },
      {
        "duration": 34,
        "start_time": "2021-09-19T11:13:37.152Z"
      },
      {
        "duration": 461,
        "start_time": "2021-09-19T11:14:02.791Z"
      },
      {
        "duration": 6,
        "start_time": "2021-09-19T11:14:09.449Z"
      },
      {
        "duration": 420,
        "start_time": "2021-09-19T11:17:52.464Z"
      },
      {
        "duration": 4,
        "start_time": "2021-09-19T11:32:27.132Z"
      },
      {
        "duration": 4,
        "start_time": "2021-09-19T11:32:42.157Z"
      },
      {
        "duration": 3,
        "start_time": "2021-09-19T11:32:54.493Z"
      },
      {
        "duration": 4,
        "start_time": "2021-09-19T11:32:58.476Z"
      },
      {
        "duration": 5,
        "start_time": "2021-09-19T11:33:10.453Z"
      },
      {
        "duration": 4,
        "start_time": "2021-09-19T11:33:17.709Z"
      },
      {
        "duration": 14,
        "start_time": "2021-09-19T11:33:24.956Z"
      },
      {
        "duration": 4,
        "start_time": "2021-09-19T11:33:25.781Z"
      },
      {
        "duration": 4,
        "start_time": "2021-09-19T11:33:27.037Z"
      },
      {
        "duration": 7,
        "start_time": "2021-09-19T11:33:39.580Z"
      },
      {
        "duration": 22,
        "start_time": "2021-09-19T11:33:39.741Z"
      },
      {
        "duration": 9,
        "start_time": "2021-09-19T11:33:39.917Z"
      },
      {
        "duration": 7,
        "start_time": "2021-09-19T11:33:40.068Z"
      },
      {
        "duration": 6,
        "start_time": "2021-09-19T11:33:40.236Z"
      },
      {
        "duration": 5,
        "start_time": "2021-09-19T11:33:40.411Z"
      },
      {
        "duration": 11,
        "start_time": "2021-09-19T11:33:40.572Z"
      },
      {
        "duration": 4,
        "start_time": "2021-09-19T11:33:40.780Z"
      },
      {
        "duration": 4,
        "start_time": "2021-09-19T11:33:41.211Z"
      },
      {
        "duration": 22,
        "start_time": "2021-09-19T11:33:41.436Z"
      },
      {
        "duration": 4,
        "start_time": "2021-09-19T11:33:41.979Z"
      },
      {
        "duration": 5,
        "start_time": "2021-09-19T11:33:42.467Z"
      },
      {
        "duration": 4,
        "start_time": "2021-09-19T11:33:43.220Z"
      },
      {
        "duration": 4,
        "start_time": "2021-09-19T11:33:47.492Z"
      },
      {
        "duration": 4,
        "start_time": "2021-09-19T11:44:18.737Z"
      },
      {
        "duration": 3,
        "start_time": "2021-09-19T11:44:25.976Z"
      },
      {
        "duration": 4,
        "start_time": "2021-09-19T11:44:26.424Z"
      },
      {
        "duration": 4,
        "start_time": "2021-09-19T11:44:27.025Z"
      },
      {
        "duration": 4,
        "start_time": "2021-09-19T11:44:27.944Z"
      },
      {
        "duration": 3,
        "start_time": "2021-09-19T11:44:31.072Z"
      },
      {
        "duration": 4,
        "start_time": "2021-09-19T11:44:31.528Z"
      },
      {
        "duration": 4,
        "start_time": "2021-09-19T11:44:32.064Z"
      },
      {
        "duration": 5,
        "start_time": "2021-09-19T11:44:32.977Z"
      },
      {
        "duration": 4,
        "start_time": "2021-09-19T11:44:45.920Z"
      },
      {
        "duration": 4,
        "start_time": "2021-09-19T11:44:46.464Z"
      },
      {
        "duration": 4,
        "start_time": "2021-09-19T11:44:47.842Z"
      },
      {
        "duration": 5,
        "start_time": "2021-09-19T11:44:49.008Z"
      },
      {
        "duration": 3,
        "start_time": "2021-09-19T11:45:17.385Z"
      },
      {
        "duration": 4,
        "start_time": "2021-09-19T11:45:18.273Z"
      },
      {
        "duration": 4,
        "start_time": "2021-09-19T11:45:18.977Z"
      },
      {
        "duration": 5,
        "start_time": "2021-09-19T11:45:26.276Z"
      },
      {
        "duration": 4,
        "start_time": "2021-09-19T11:45:38.007Z"
      },
      {
        "duration": 5,
        "start_time": "2021-09-19T11:45:45.858Z"
      },
      {
        "duration": 5,
        "start_time": "2021-09-19T11:45:46.410Z"
      },
      {
        "duration": 5,
        "start_time": "2021-09-19T11:45:47.289Z"
      },
      {
        "duration": 6,
        "start_time": "2021-09-19T11:46:00.634Z"
      },
      {
        "duration": 4,
        "start_time": "2021-09-19T11:46:10.041Z"
      },
      {
        "duration": 13,
        "start_time": "2021-09-19T11:46:10.584Z"
      },
      {
        "duration": 1129,
        "start_time": "2021-09-20T18:05:18.969Z"
      },
      {
        "duration": 17,
        "start_time": "2021-09-20T18:05:20.100Z"
      },
      {
        "duration": 14,
        "start_time": "2021-09-20T18:05:20.119Z"
      },
      {
        "duration": 8,
        "start_time": "2021-09-20T18:05:20.135Z"
      },
      {
        "duration": 8,
        "start_time": "2021-09-20T18:05:20.145Z"
      },
      {
        "duration": 4,
        "start_time": "2021-09-20T18:05:20.697Z"
      },
      {
        "duration": 15,
        "start_time": "2021-09-20T18:05:21.140Z"
      },
      {
        "duration": 3,
        "start_time": "2021-09-20T18:05:21.603Z"
      },
      {
        "duration": 5,
        "start_time": "2021-09-20T18:05:22.342Z"
      },
      {
        "duration": 14,
        "start_time": "2021-09-20T18:05:22.761Z"
      },
      {
        "duration": 3,
        "start_time": "2021-09-20T18:05:23.261Z"
      },
      {
        "duration": 4,
        "start_time": "2021-09-20T18:05:23.832Z"
      },
      {
        "duration": 4,
        "start_time": "2021-09-20T18:05:24.612Z"
      },
      {
        "duration": 4,
        "start_time": "2021-09-20T18:05:38.329Z"
      },
      {
        "duration": 3,
        "start_time": "2021-09-20T18:05:51.563Z"
      },
      {
        "duration": 4,
        "start_time": "2021-09-20T18:05:51.961Z"
      },
      {
        "duration": 3,
        "start_time": "2021-09-20T18:05:52.610Z"
      },
      {
        "duration": 6,
        "start_time": "2021-09-20T18:05:56.552Z"
      },
      {
        "duration": 347,
        "start_time": "2021-09-20T18:06:27.793Z"
      },
      {
        "duration": 5,
        "start_time": "2021-09-20T18:06:32.457Z"
      },
      {
        "duration": 287,
        "start_time": "2021-09-20T18:06:51.585Z"
      },
      {
        "duration": 3,
        "start_time": "2021-09-20T18:07:01.673Z"
      },
      {
        "duration": 4,
        "start_time": "2021-09-20T18:07:02.001Z"
      },
      {
        "duration": 3,
        "start_time": "2021-09-20T18:07:02.386Z"
      },
      {
        "duration": 5,
        "start_time": "2021-09-20T18:07:02.825Z"
      },
      {
        "duration": 4,
        "start_time": "2021-09-20T18:07:05.337Z"
      },
      {
        "duration": 14,
        "start_time": "2021-09-20T18:07:06.516Z"
      },
      {
        "duration": 3,
        "start_time": "2021-09-20T18:09:25.484Z"
      },
      {
        "duration": 3,
        "start_time": "2021-09-20T18:10:36.803Z"
      },
      {
        "duration": 4,
        "start_time": "2021-09-20T18:10:37.306Z"
      },
      {
        "duration": 8,
        "start_time": "2021-09-20T18:10:37.950Z"
      },
      {
        "duration": 4,
        "start_time": "2021-09-20T18:10:43.612Z"
      },
      {
        "duration": 9,
        "start_time": "2021-09-20T18:10:55.810Z"
      },
      {
        "duration": 3,
        "start_time": "2021-09-20T18:11:30.126Z"
      },
      {
        "duration": 4,
        "start_time": "2021-09-20T18:11:50.171Z"
      },
      {
        "duration": 17,
        "start_time": "2021-09-20T18:11:50.490Z"
      },
      {
        "duration": 8,
        "start_time": "2021-09-20T18:11:50.681Z"
      },
      {
        "duration": 6,
        "start_time": "2021-09-20T18:11:50.836Z"
      },
      {
        "duration": 6,
        "start_time": "2021-09-20T18:11:50.994Z"
      },
      {
        "duration": 4,
        "start_time": "2021-09-20T18:11:51.164Z"
      },
      {
        "duration": 7,
        "start_time": "2021-09-20T18:11:51.366Z"
      },
      {
        "duration": 4,
        "start_time": "2021-09-20T18:11:51.498Z"
      },
      {
        "duration": 4,
        "start_time": "2021-09-20T18:11:51.834Z"
      },
      {
        "duration": 8,
        "start_time": "2021-09-20T18:11:52.019Z"
      },
      {
        "duration": 11,
        "start_time": "2021-09-20T18:11:54.050Z"
      },
      {
        "duration": 13,
        "start_time": "2021-09-20T18:11:54.244Z"
      },
      {
        "duration": 4,
        "start_time": "2021-09-20T18:11:54.419Z"
      },
      {
        "duration": 4,
        "start_time": "2021-09-20T18:11:54.610Z"
      },
      {
        "duration": 9,
        "start_time": "2021-09-20T18:11:55.002Z"
      },
      {
        "duration": 14,
        "start_time": "2021-09-20T18:13:51.642Z"
      },
      {
        "duration": 8,
        "start_time": "2021-09-20T18:13:52.437Z"
      },
      {
        "duration": 7,
        "start_time": "2021-09-20T18:14:20.604Z"
      },
      {
        "duration": 8,
        "start_time": "2021-09-20T18:14:34.268Z"
      },
      {
        "duration": 3,
        "start_time": "2021-09-20T18:14:58.106Z"
      },
      {
        "duration": 15,
        "start_time": "2021-09-20T18:14:58.611Z"
      },
      {
        "duration": 10,
        "start_time": "2021-09-20T18:15:13.457Z"
      },
      {
        "duration": 14,
        "start_time": "2021-09-20T18:15:14.251Z"
      },
      {
        "duration": 5,
        "start_time": "2021-09-20T18:34:12.945Z"
      },
      {
        "duration": 5,
        "start_time": "2021-09-20T18:34:19.353Z"
      },
      {
        "duration": 4,
        "start_time": "2021-09-20T18:34:26.789Z"
      },
      {
        "duration": 4,
        "start_time": "2021-09-20T18:34:40.936Z"
      },
      {
        "duration": 3,
        "start_time": "2021-09-20T18:34:50.511Z"
      },
      {
        "duration": 4,
        "start_time": "2021-09-20T18:34:50.903Z"
      },
      {
        "duration": 3,
        "start_time": "2021-09-20T18:34:51.432Z"
      },
      {
        "duration": 3,
        "start_time": "2021-09-20T18:34:52.041Z"
      },
      {
        "duration": 3,
        "start_time": "2021-09-20T18:40:52.625Z"
      },
      {
        "duration": 4,
        "start_time": "2021-09-20T18:40:52.872Z"
      },
      {
        "duration": 4,
        "start_time": "2021-09-20T18:40:53.631Z"
      },
      {
        "duration": 4,
        "start_time": "2021-09-20T18:40:54.424Z"
      },
      {
        "duration": 4,
        "start_time": "2021-09-20T18:40:57.408Z"
      },
      {
        "duration": 5,
        "start_time": "2021-09-20T18:40:58.010Z"
      },
      {
        "duration": 4,
        "start_time": "2021-09-20T18:40:58.481Z"
      },
      {
        "duration": 4,
        "start_time": "2021-09-20T18:41:08.513Z"
      },
      {
        "duration": 7,
        "start_time": "2021-09-20T18:41:09.120Z"
      },
      {
        "duration": 8,
        "start_time": "2021-09-20T18:41:13.761Z"
      },
      {
        "duration": 8,
        "start_time": "2021-09-20T18:41:14.154Z"
      },
      {
        "duration": 16,
        "start_time": "2021-09-20T18:42:01.841Z"
      },
      {
        "duration": 7,
        "start_time": "2021-09-20T18:42:10.722Z"
      },
      {
        "duration": 4,
        "start_time": "2021-09-20T18:53:56.692Z"
      },
      {
        "duration": 501,
        "start_time": "2021-09-20T18:54:19.564Z"
      },
      {
        "duration": 4,
        "start_time": "2021-09-20T18:54:26.484Z"
      },
      {
        "duration": 6,
        "start_time": "2021-09-20T18:54:27.019Z"
      },
      {
        "duration": 286,
        "start_time": "2021-09-20T18:55:01.180Z"
      },
      {
        "duration": 271,
        "start_time": "2021-09-20T18:55:01.588Z"
      },
      {
        "duration": 7,
        "start_time": "2021-09-20T18:55:04.550Z"
      },
      {
        "duration": 2,
        "start_time": "2021-09-20T18:55:05.308Z"
      },
      {
        "duration": 4,
        "start_time": "2021-09-20T18:55:06.260Z"
      },
      {
        "duration": 1866,
        "start_time": "2021-09-21T16:29:06.971Z"
      },
      {
        "duration": 27,
        "start_time": "2021-09-21T16:29:08.842Z"
      },
      {
        "duration": 34,
        "start_time": "2021-09-21T16:29:08.877Z"
      },
      {
        "duration": 12,
        "start_time": "2021-09-21T16:29:08.914Z"
      },
      {
        "duration": 39,
        "start_time": "2021-09-21T16:29:08.930Z"
      },
      {
        "duration": 8,
        "start_time": "2021-09-21T16:29:08.972Z"
      },
      {
        "duration": 13,
        "start_time": "2021-09-21T16:29:08.983Z"
      },
      {
        "duration": 8,
        "start_time": "2021-09-21T16:29:09.000Z"
      },
      {
        "duration": 53,
        "start_time": "2021-09-21T16:29:09.011Z"
      },
      {
        "duration": 17,
        "start_time": "2021-09-21T16:29:09.067Z"
      },
      {
        "duration": 100,
        "start_time": "2021-09-21T16:29:09.164Z"
      },
      {
        "duration": 99,
        "start_time": "2021-09-21T16:29:09.267Z"
      },
      {
        "duration": 12,
        "start_time": "2021-09-21T16:29:09.369Z"
      },
      {
        "duration": 6,
        "start_time": "2021-09-21T16:29:09.463Z"
      },
      {
        "duration": 12,
        "start_time": "2021-09-21T16:29:09.472Z"
      },
      {
        "duration": 5,
        "start_time": "2021-09-21T16:29:09.487Z"
      },
      {
        "duration": 63,
        "start_time": "2021-09-21T16:29:09.499Z"
      },
      {
        "duration": 98,
        "start_time": "2021-09-21T16:29:09.566Z"
      },
      {
        "duration": 15,
        "start_time": "2021-09-21T16:29:09.667Z"
      },
      {
        "duration": 86,
        "start_time": "2021-09-21T16:29:09.684Z"
      },
      {
        "duration": 101,
        "start_time": "2021-09-21T16:29:09.775Z"
      },
      {
        "duration": 14,
        "start_time": "2021-09-21T16:29:09.878Z"
      },
      {
        "duration": 77,
        "start_time": "2021-09-21T16:29:09.895Z"
      },
      {
        "duration": 5,
        "start_time": "2021-09-21T16:37:49.077Z"
      },
      {
        "duration": 13,
        "start_time": "2021-09-21T16:37:49.494Z"
      },
      {
        "duration": 1466,
        "start_time": "2021-09-21T16:40:10.043Z"
      },
      {
        "duration": 19,
        "start_time": "2021-09-21T16:40:11.512Z"
      },
      {
        "duration": 41,
        "start_time": "2021-09-21T16:40:11.534Z"
      },
      {
        "duration": 12,
        "start_time": "2021-09-21T16:40:11.577Z"
      },
      {
        "duration": 11,
        "start_time": "2021-09-21T16:40:11.593Z"
      },
      {
        "duration": 7,
        "start_time": "2021-09-21T16:40:11.607Z"
      },
      {
        "duration": 50,
        "start_time": "2021-09-21T16:40:11.617Z"
      },
      {
        "duration": 13,
        "start_time": "2021-09-21T16:40:11.670Z"
      },
      {
        "duration": 6,
        "start_time": "2021-09-21T16:40:11.687Z"
      },
      {
        "duration": 165,
        "start_time": "2021-09-21T16:40:11.697Z"
      },
      {
        "duration": 11,
        "start_time": "2021-09-21T16:40:11.865Z"
      },
      {
        "duration": 8,
        "start_time": "2021-09-21T16:40:11.962Z"
      },
      {
        "duration": 90,
        "start_time": "2021-09-21T16:40:11.974Z"
      },
      {
        "duration": 6,
        "start_time": "2021-09-21T16:40:12.066Z"
      },
      {
        "duration": 12,
        "start_time": "2021-09-21T16:40:12.075Z"
      },
      {
        "duration": 9,
        "start_time": "2021-09-21T16:40:12.090Z"
      },
      {
        "duration": 5,
        "start_time": "2021-09-21T16:40:12.164Z"
      },
      {
        "duration": 90,
        "start_time": "2021-09-21T16:40:12.173Z"
      },
      {
        "duration": 4,
        "start_time": "2021-09-21T16:40:12.266Z"
      },
      {
        "duration": 90,
        "start_time": "2021-09-21T16:40:12.272Z"
      },
      {
        "duration": 103,
        "start_time": "2021-09-21T16:40:12.366Z"
      },
      {
        "duration": 19,
        "start_time": "2021-09-21T16:40:12.471Z"
      },
      {
        "duration": 169,
        "start_time": "2021-09-21T16:40:12.493Z"
      },
      {
        "duration": 1420,
        "start_time": "2021-09-24T19:04:33.746Z"
      },
      {
        "duration": 21,
        "start_time": "2021-09-24T19:04:35.168Z"
      },
      {
        "duration": 34,
        "start_time": "2021-09-24T19:04:35.193Z"
      },
      {
        "duration": 26,
        "start_time": "2021-09-24T19:04:35.229Z"
      },
      {
        "duration": 10,
        "start_time": "2021-09-24T19:04:35.257Z"
      },
      {
        "duration": 25,
        "start_time": "2021-09-24T19:04:35.269Z"
      },
      {
        "duration": 22,
        "start_time": "2021-09-24T19:04:35.296Z"
      },
      {
        "duration": 25,
        "start_time": "2021-09-24T19:04:35.320Z"
      },
      {
        "duration": 19,
        "start_time": "2021-09-24T19:04:35.349Z"
      },
      {
        "duration": 48,
        "start_time": "2021-09-24T19:04:35.370Z"
      },
      {
        "duration": 193,
        "start_time": "2021-09-24T19:04:35.422Z"
      },
      {
        "duration": 20,
        "start_time": "2021-09-24T19:04:35.619Z"
      },
      {
        "duration": 5,
        "start_time": "2021-09-24T19:04:35.717Z"
      },
      {
        "duration": 19,
        "start_time": "2021-09-24T19:04:35.725Z"
      },
      {
        "duration": 14,
        "start_time": "2021-09-24T19:04:35.747Z"
      },
      {
        "duration": 22,
        "start_time": "2021-09-24T19:04:35.763Z"
      },
      {
        "duration": 30,
        "start_time": "2021-09-24T19:04:35.789Z"
      },
      {
        "duration": 97,
        "start_time": "2021-09-24T19:04:35.822Z"
      },
      {
        "duration": 38,
        "start_time": "2021-09-24T19:04:35.922Z"
      },
      {
        "duration": 58,
        "start_time": "2021-09-24T19:04:35.963Z"
      },
      {
        "duration": 191,
        "start_time": "2021-09-24T19:04:36.025Z"
      },
      {
        "duration": 12,
        "start_time": "2021-09-24T19:04:36.219Z"
      },
      {
        "duration": 37,
        "start_time": "2021-09-24T19:04:36.233Z"
      }
    ],
    "kernelspec": {
      "display_name": "Python 3 (ipykernel)",
      "language": "python",
      "name": "python3"
    },
    "language_info": {
      "codemirror_mode": {
        "name": "ipython",
        "version": 3
      },
      "file_extension": ".py",
      "mimetype": "text/x-python",
      "name": "python",
      "nbconvert_exporter": "python",
      "pygments_lexer": "ipython3",
      "version": "3.9.5"
    },
    "toc": {
      "base_numbering": 1,
      "nav_menu": {},
      "number_sections": true,
      "sideBar": true,
      "skip_h1_title": true,
      "title_cell": "Содержание",
      "title_sidebar": "Contents",
      "toc_cell": true,
      "toc_position": {},
      "toc_section_display": true,
      "toc_window_display": false
    },
    "colab": {
      "name": "linear_algebra_matrix",
      "provenance": []
    }
  },
  "nbformat": 4,
  "nbformat_minor": 0
}